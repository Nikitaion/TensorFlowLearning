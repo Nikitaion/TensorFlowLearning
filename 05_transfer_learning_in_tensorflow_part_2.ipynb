{
  "cells": [
    {
      "cell_type": "markdown",
      "metadata": {
        "id": "view-in-github",
        "colab_type": "text"
      },
      "source": [
        "<a href=\"https://colab.research.google.com/github/Nikitaion/TensorFlowLearning/blob/main/05_transfer_learning_in_tensorflow_part_2.ipynb\" target=\"_parent\"><img src=\"https://colab.research.google.com/assets/colab-badge.svg\" alt=\"Open In Colab\"/></a>"
      ]
    },
    {
      "cell_type": "markdown",
      "metadata": {
        "id": "TyQM4G99xSPs"
      },
      "source": [
        "# 05. Transfer Learning with TensorFlow Part 2: Fine-tuning\n",
        "\n",
        "In the previous section, we saw how we could leverage feature extraction transfer learning to get far better results on our Food Vision project than building our own models (even with less data).\n",
        "\n",
        "Now we're going to cover another type of transfer learning: fine-tuning.\n",
        "\n",
        "In **fine-tuning transfer learning** the pre-trained model weights from another model are unfrozen and tweaked during to better suit your own data.\n",
        "\n",
        "For feature extraction transfer learning, you may only train the top 1-3 layers of a pre-trained model with your own data, in fine-tuning transfer learning, you might train 1-3+ layers of a pre-trained model (where the '+' indicates that many or all of the layers could be trained)."
      ]
    },
    {
      "cell_type": "code",
      "execution_count": 1,
      "metadata": {
        "id": "0SlZLyEv654D",
        "colab": {
          "base_uri": "https://localhost:8080/"
        },
        "outputId": "c4d17abc-7b71-415c-90d3-44b125c60204"
      },
      "outputs": [
        {
          "output_type": "stream",
          "name": "stdout",
          "text": [
            "--2022-01-07 12:46:38--  https://raw.githubusercontent.com/Nikitaion/TensorFlowLearning/main/extras/helper_functions.py\n",
            "Resolving raw.githubusercontent.com (raw.githubusercontent.com)... 185.199.108.133, 185.199.110.133, 185.199.111.133, ...\n",
            "Connecting to raw.githubusercontent.com (raw.githubusercontent.com)|185.199.108.133|:443... connected.\n",
            "HTTP request sent, awaiting response... 200 OK\n",
            "Length: 10246 (10K) [text/plain]\n",
            "Saving to: ‘helper_functions.py’\n",
            "\n",
            "\rhelper_functions.py   0%[                    ]       0  --.-KB/s               \rhelper_functions.py 100%[===================>]  10.01K  --.-KB/s    in 0s      \n",
            "\n",
            "2022-01-07 12:46:39 (77.0 MB/s) - ‘helper_functions.py’ saved [10246/10246]\n",
            "\n"
          ]
        }
      ],
      "source": [
        "# Creating helper functions\n",
        "# Throughout course we come across snippets of code you want to use over and over again.\n",
        "# A good idea to put functions which we'll want to use again in a script we can download and import into notebooks\n",
        "!wget https://raw.githubusercontent.com/Nikitaion/TensorFlowLearning/main/extras/helper_functions.py"
      ]
    },
    {
      "cell_type": "code",
      "execution_count": 2,
      "metadata": {
        "id": "mwyFKB0-7yRl"
      },
      "outputs": [],
      "source": [
        "# Import helper_functions what we're going to use in this notebook\n",
        "from helper_functions import create_tensorboard_callback, plot_loss_curves, unzip_data, walk_through_dir"
      ]
    },
    {
      "cell_type": "markdown",
      "metadata": {
        "id": "SdMvaW0q7KzX"
      },
      "source": [
        "> 🔑 **Note:** If you're running this notebook in Google Colab, when it times out Colab will delete the `helper_functions.py` file. So to use the functions imported above, you'll have to rerun the cell."
      ]
    },
    {
      "cell_type": "markdown",
      "metadata": {
        "id": "2l-s9JlJ8cb8"
      },
      "source": [
        "## 10 Food Classes: Working with less data\n",
        "\n",
        "We saw in the [previous notebook](https://github.com/Nikitaion/TensorFlowLearning/blob/main/04_transfer_learning_in_tensorflow_part_1_feature_extraction.ipynb) that we could get great results with only 10% of the training data using transfer learning with TensorFlow Hub.\n",
        "\n",
        "In this notebook, we're going to continue to work with smaller subsets of the data, except this time we'll have a look at how we can use the in-built pretrained models within the `tf.keras.applications` module as well as how to fine-tune them to our own custom dataset.\n",
        "\n",
        "We'll also practice using a new but similar dataloader function to what we've used before, [`image_dataset_from_directory()`](https://www.tensorflow.org/api_docs/python/tf/keras/preprocessing/image_dataset_from_directory) which is part of the [`tf.keras.preprocessing`](https://www.tensorflow.org/api_docs/python/tf/keras/preprocessing) module.\n",
        "\n",
        "Finally, we'll also be practicing using the [Keras Functional API](https://keras.io/guides/functional_api/) for building deep learning models. The Functional API is a more flexible way to create models than the tf.keras.Sequential API.\n",
        "\n",
        "We'll explore each of these in more detail as we go.\n",
        "\n",
        "Let's start by downloading some data."
      ]
    },
    {
      "cell_type": "code",
      "execution_count": 3,
      "metadata": {
        "colab": {
          "base_uri": "https://localhost:8080/"
        },
        "id": "ThHcibdM_TdU",
        "outputId": "34cf06bf-d2f5-4e38-dd91-ebf6c2a23042"
      },
      "outputs": [
        {
          "output_type": "stream",
          "name": "stdout",
          "text": [
            "--2022-01-07 12:46:42--  https://storage.googleapis.com/ztm_tf_course/food_vision/10_food_classes_10_percent.zip\n",
            "Resolving storage.googleapis.com (storage.googleapis.com)... 64.233.166.128, 74.125.133.128, 74.125.140.128, ...\n",
            "Connecting to storage.googleapis.com (storage.googleapis.com)|64.233.166.128|:443... connected.\n",
            "HTTP request sent, awaiting response... 200 OK\n",
            "Length: 168546183 (161M) [application/zip]\n",
            "Saving to: ‘10_food_classes_10_percent.zip’\n",
            "\n",
            "10_food_classes_10_ 100%[===================>] 160.74M  54.1MB/s    in 3.0s    \n",
            "\n",
            "2022-01-07 12:46:45 (54.1 MB/s) - ‘10_food_classes_10_percent.zip’ saved [168546183/168546183]\n",
            "\n"
          ]
        }
      ],
      "source": [
        "# Get 10% of training data of 10 classes of Food101\n",
        "!wget https://storage.googleapis.com/ztm_tf_course/food_vision/10_food_classes_10_percent.zip\n",
        "\n",
        "# Use unzip_data from our helper functions\n",
        "unzip_data(\"10_food_classes_10_percent.zip\")"
      ]
    },
    {
      "cell_type": "code",
      "execution_count": 4,
      "metadata": {
        "colab": {
          "base_uri": "https://localhost:8080/"
        },
        "id": "UV3CIJgO_fq5",
        "outputId": "27359a6d-d00d-4ca9-f4f7-a15508ebb4aa"
      },
      "outputs": [
        {
          "output_type": "stream",
          "name": "stdout",
          "text": [
            "There are 2 directories and 0 images in '10_food_classes_10_percent'.\n",
            "There are 10 directories and 0 images in '10_food_classes_10_percent/train'.\n",
            "There are 0 directories and 75 images in '10_food_classes_10_percent/train/ramen'.\n",
            "There are 0 directories and 75 images in '10_food_classes_10_percent/train/ice_cream'.\n",
            "There are 0 directories and 75 images in '10_food_classes_10_percent/train/grilled_salmon'.\n",
            "There are 0 directories and 75 images in '10_food_classes_10_percent/train/pizza'.\n",
            "There are 0 directories and 75 images in '10_food_classes_10_percent/train/fried_rice'.\n",
            "There are 0 directories and 75 images in '10_food_classes_10_percent/train/sushi'.\n",
            "There are 0 directories and 75 images in '10_food_classes_10_percent/train/steak'.\n",
            "There are 0 directories and 75 images in '10_food_classes_10_percent/train/chicken_curry'.\n",
            "There are 0 directories and 75 images in '10_food_classes_10_percent/train/hamburger'.\n",
            "There are 0 directories and 75 images in '10_food_classes_10_percent/train/chicken_wings'.\n",
            "There are 10 directories and 0 images in '10_food_classes_10_percent/test'.\n",
            "There are 0 directories and 250 images in '10_food_classes_10_percent/test/ramen'.\n",
            "There are 0 directories and 250 images in '10_food_classes_10_percent/test/ice_cream'.\n",
            "There are 0 directories and 250 images in '10_food_classes_10_percent/test/grilled_salmon'.\n",
            "There are 0 directories and 250 images in '10_food_classes_10_percent/test/pizza'.\n",
            "There are 0 directories and 250 images in '10_food_classes_10_percent/test/fried_rice'.\n",
            "There are 0 directories and 250 images in '10_food_classes_10_percent/test/sushi'.\n",
            "There are 0 directories and 250 images in '10_food_classes_10_percent/test/steak'.\n",
            "There are 0 directories and 250 images in '10_food_classes_10_percent/test/chicken_curry'.\n",
            "There are 0 directories and 250 images in '10_food_classes_10_percent/test/hamburger'.\n",
            "There are 0 directories and 250 images in '10_food_classes_10_percent/test/chicken_wings'.\n"
          ]
        }
      ],
      "source": [
        "# Check out how many images and subdirectories are in our dataset\n",
        "walk_through_dir(\"10_food_classes_10_percent\")"
      ]
    },
    {
      "cell_type": "code",
      "execution_count": 5,
      "metadata": {
        "id": "bKvhp7MQAJhS"
      },
      "outputs": [],
      "source": [
        "# Create training and test directory paths\n",
        "train_dir = \"10_food_classes_10_percent/train\"\n",
        "test_dir = \"10_food_classes_10_percent/test\""
      ]
    },
    {
      "cell_type": "code",
      "execution_count": 6,
      "metadata": {
        "colab": {
          "base_uri": "https://localhost:8080/"
        },
        "id": "2N7XhoxcA3Gn",
        "outputId": "8a7f48d5-2452-45db-be87-70dd438dc412"
      },
      "outputs": [
        {
          "output_type": "stream",
          "name": "stdout",
          "text": [
            "Found 750 files belonging to 10 classes.\n",
            "Found 2500 files belonging to 10 classes.\n"
          ]
        }
      ],
      "source": [
        "import tensorflow as tf\n",
        "\n",
        "IMG_SIZE = (224, 224)\n",
        "BATCH_SIZE = 32\n",
        "train_data_10_percent = tf.keras.preprocessing.image_dataset_from_directory(directory=train_dir,\n",
        "                                                                            image_size=IMG_SIZE,\n",
        "                                                                            label_mode=\"categorical\",\n",
        "                                                                            batch_size=BATCH_SIZE)\n",
        "\n",
        "test_data = tf.keras.preprocessing.image_dataset_from_directory(directory=test_dir,\n",
        "                                                                image_size=IMG_SIZE,\n",
        "                                                                label_mode=\"categorical\",\n",
        "                                                                batch_size=BATCH_SIZE)"
      ]
    },
    {
      "cell_type": "code",
      "execution_count": 7,
      "metadata": {
        "colab": {
          "base_uri": "https://localhost:8080/"
        },
        "id": "uIJV-3pZA97l",
        "outputId": "1c138f61-2350-40eb-aa07-05dc85798061"
      },
      "outputs": [
        {
          "output_type": "execute_result",
          "data": {
            "text/plain": [
              "<BatchDataset shapes: ((None, 224, 224, 3), (None, 10)), types: (tf.float32, tf.float32)>"
            ]
          },
          "metadata": {},
          "execution_count": 7
        }
      ],
      "source": [
        "train_data_10_percent\n",
        "# We are turned our data into batches"
      ]
    },
    {
      "cell_type": "markdown",
      "metadata": {
        "id": "27eSVdEk3jqO"
      },
      "source": [
        "In the above output:\n",
        "\n",
        "* `(None, 224, 224, 3)` refers to the tensor shape of our images where `None` is the batch size, `224` is the height (and width) and `3` is the color channels (red, green, blue).\n",
        "* `(None, 10)` refers to the tensor shape of the labels where `None` is the batch size and `10` is the number of possible labels (the 10 different food classes).\n",
        "* Both image tensors and labels are of the datatype `tf.float32`.\n",
        "\n",
        "The `batch_size` is `None` due to it only being used during model training. You can think of `None` as a placeholder waiting to be filled with the `batch_size` parameter from `image_dataset_from_directory()`.\n",
        "\n",
        "Another benefit of using the `tf.data.Dataset` API are the assosciated methods which come with it.\n",
        "\n",
        "For example, if we want to find the name of the classes we were working with, we could use the `class_names` attribute."
      ]
    },
    {
      "cell_type": "code",
      "execution_count": 8,
      "metadata": {
        "colab": {
          "base_uri": "https://localhost:8080/"
        },
        "id": "s4pY-2U72HhA",
        "outputId": "fbb8ca2e-9301-432e-f887-b49bd3db7436"
      },
      "outputs": [
        {
          "output_type": "execute_result",
          "data": {
            "text/plain": [
              "['chicken_curry',\n",
              " 'chicken_wings',\n",
              " 'fried_rice',\n",
              " 'grilled_salmon',\n",
              " 'hamburger',\n",
              " 'ice_cream',\n",
              " 'pizza',\n",
              " 'ramen',\n",
              " 'steak',\n",
              " 'sushi']"
            ]
          },
          "metadata": {},
          "execution_count": 8
        }
      ],
      "source": [
        "# Check out class names of our dataset\n",
        "train_data_10_percent.class_names"
      ]
    },
    {
      "cell_type": "code",
      "execution_count": 9,
      "metadata": {
        "colab": {
          "base_uri": "https://localhost:8080/"
        },
        "id": "Xq8Po-sy2Ibw",
        "outputId": "790f732e-83bb-4dee-b71c-26afd6d389ab"
      },
      "outputs": [
        {
          "output_type": "stream",
          "name": "stdout",
          "text": [
            "tf.Tensor(\n",
            "[[[[1.15293686e+02 1.05293686e+02 1.13293686e+02]\n",
            "   [1.18610016e+02 1.11726082e+02 1.18668045e+02]\n",
            "   [1.27294640e+02 1.22294647e+02 1.29058029e+02]\n",
            "   ...\n",
            "   [9.24601822e+01 6.03887558e+01 5.87458992e+01]\n",
            "   [9.52618332e+01 6.31904068e+01 6.15475502e+01]\n",
            "   [9.84161453e+01 6.37018623e+01 6.30590019e+01]]\n",
            "\n",
            "  [[1.14050385e+02 1.05032845e+02 1.12705360e+02]\n",
            "   [1.17232147e+02 1.10348213e+02 1.18290176e+02]\n",
            "   [1.23399231e+02 1.19816963e+02 1.26816963e+02]\n",
            "   ...\n",
            "   [1.00286774e+02 7.49841614e+01 7.03091278e+01]\n",
            "   [1.06986374e+02 8.16292343e+01 7.77720947e+01]\n",
            "   [1.10861626e+02 8.61055832e+01 8.22484436e+01]]\n",
            "\n",
            "  [[1.10411034e+02 1.03625320e+02 1.12053894e+02]\n",
            "   [1.14363525e+02 1.09149239e+02 1.16792091e+02]\n",
            "   [1.17385521e+02 1.13861603e+02 1.22540497e+02]\n",
            "   ...\n",
            "   [1.41538681e+02 1.27446533e+02 1.23461243e+02]\n",
            "   [1.48196518e+02 1.35008072e+02 1.32222366e+02]\n",
            "   [1.51722916e+02 1.38857483e+02 1.36147339e+02]]\n",
            "\n",
            "  ...\n",
            "\n",
            "  [[2.22986694e+02 2.24986694e+02 2.21986694e+02]\n",
            "   [2.27908951e+02 2.29908951e+02 2.26908951e+02]\n",
            "   [2.32107391e+02 2.34107391e+02 2.29907745e+02]\n",
            "   ...\n",
            "   [2.48000000e+02 2.54000000e+02 2.44000000e+02]\n",
            "   [2.48000000e+02 2.54000000e+02 2.44000000e+02]\n",
            "   [2.48000000e+02 2.54000000e+02 2.44000000e+02]]\n",
            "\n",
            "  [[2.07248779e+02 2.07248779e+02 2.05248779e+02]\n",
            "   [2.01875641e+02 2.02875641e+02 1.97875641e+02]\n",
            "   [1.99748047e+02 2.00748047e+02 1.95748047e+02]\n",
            "   ...\n",
            "   [2.48000000e+02 2.54000000e+02 2.44000000e+02]\n",
            "   [2.48000000e+02 2.54000000e+02 2.44000000e+02]\n",
            "   [2.48000000e+02 2.54000000e+02 2.44000000e+02]]\n",
            "\n",
            "  [[2.22165558e+02 2.22165558e+02 2.20165558e+02]\n",
            "   [2.13318909e+02 2.14318909e+02 2.09318909e+02]\n",
            "   [2.07905869e+02 2.08905869e+02 2.03905869e+02]\n",
            "   ...\n",
            "   [2.48000000e+02 2.54000000e+02 2.44000000e+02]\n",
            "   [2.48000000e+02 2.54000000e+02 2.44000000e+02]\n",
            "   [2.48000000e+02 2.54000000e+02 2.44000000e+02]]]\n",
            "\n",
            "\n",
            " [[[1.71648605e+02 1.69413269e+02 1.58119263e+02]\n",
            "   [1.72491074e+02 1.70427933e+02 1.58617340e+02]\n",
            "   [1.79185577e+02 1.77185577e+02 1.65185577e+02]\n",
            "   ...\n",
            "   [2.04771667e+02 1.48650482e+02 7.47110748e+01]\n",
            "   [2.21585464e+02 1.67711731e+02 9.36485901e+01]\n",
            "   [2.24397308e+02 1.70867966e+02 9.66326370e+01]]\n",
            "\n",
            "  [[1.77438126e+02 1.77686874e+02 1.70616074e+02]\n",
            "   [1.78796555e+02 1.79633926e+02 1.71505096e+02]\n",
            "   [1.83351395e+02 1.84893494e+02 1.74437500e+02]\n",
            "   ...\n",
            "   [2.29057419e+02 1.76985992e+02 1.00985985e+02]\n",
            "   [2.21822067e+02 1.72628830e+02 9.66932373e+01]\n",
            "   [2.21200256e+02 1.72064423e+02 9.61096954e+01]]\n",
            "\n",
            "  [[1.83303574e+02 1.85867996e+02 1.81892853e+02]\n",
            "   [1.84491074e+02 1.87842484e+02 1.81253189e+02]\n",
            "   [1.87393494e+02 1.90688766e+02 1.84242355e+02]\n",
            "   ...\n",
            "   [2.21239807e+02 1.71705994e+02 9.48839340e+01]\n",
            "   [2.28496826e+02 1.79071426e+02 1.02187508e+02]\n",
            "   [2.25626923e+02 1.78198364e+02 1.00412643e+02]]\n",
            "\n",
            "  ...\n",
            "\n",
            "  [[4.64356422e+01 2.74356441e+01 1.08641720e+01]\n",
            "   [4.63572083e+01 2.73572083e+01 1.07857361e+01]\n",
            "   [4.85632019e+01 2.95632000e+01 1.29917269e+01]\n",
            "   ...\n",
            "   [9.44987717e+01 6.04987755e+01 2.54987736e+01]\n",
            "   [9.22142639e+01 5.82142639e+01 2.32142639e+01]\n",
            "   [9.22142639e+01 5.82142639e+01 2.32142639e+01]]\n",
            "\n",
            "  [[5.30714417e+01 3.20714417e+01 1.50714417e+01]\n",
            "   [5.30070152e+01 3.20070152e+01 1.50070162e+01]\n",
            "   [5.31575241e+01 3.21575241e+01 1.51575232e+01]\n",
            "   ...\n",
            "   [9.18182297e+01 5.78182335e+01 2.28182335e+01]\n",
            "   [9.30000000e+01 5.90000000e+01 2.40000000e+01]\n",
            "   [9.30714417e+01 5.90714417e+01 2.40714417e+01]]\n",
            "\n",
            "  [[5.30000000e+01 3.20000000e+01 1.50000000e+01]\n",
            "   [5.26779022e+01 3.16779022e+01 1.46779022e+01]\n",
            "   [5.14731789e+01 3.04731789e+01 1.34731798e+01]\n",
            "   ...\n",
            "   [9.49018860e+01 6.09018860e+01 2.59018860e+01]\n",
            "   [9.30000000e+01 5.90000000e+01 2.40000000e+01]\n",
            "   [9.37735672e+01 5.97735710e+01 2.47735710e+01]]]\n",
            "\n",
            "\n",
            " [[[1.25621017e+02 7.76210175e+01 5.46210136e+01]\n",
            "   [1.20142853e+02 7.41428528e+01 5.11428566e+01]\n",
            "   [1.13191963e+02 6.96273880e+01 5.03571434e+01]\n",
            "   ...\n",
            "   [6.62702179e+01 3.26274300e+01 1.78416939e+01]\n",
            "   [6.66465454e+01 3.43853874e+01 1.93853855e+01]\n",
            "   [6.96183395e+01 3.73571777e+01 2.23571777e+01]]\n",
            "\n",
            "  [[1.23790176e+02 7.73571396e+01 5.43571434e+01]\n",
            "   [1.18575890e+02 7.33593674e+01 5.19263382e+01]\n",
            "   [1.10930801e+02 6.90022278e+01 4.99094391e+01]\n",
            "   ...\n",
            "   [6.92267151e+01 3.21701241e+01 1.87834816e+01]\n",
            "   [7.12053680e+01 3.42879601e+01 2.08549232e+01]\n",
            "   [7.34911041e+01 3.65736961e+01 2.31406593e+01]]\n",
            "\n",
            "  [[1.20243141e+02 7.58547516e+01 5.54663582e+01]\n",
            "   [1.16203598e+02 7.18152084e+01 5.14268150e+01]\n",
            "   [1.09011795e+02 6.87201843e+01 5.05714264e+01]\n",
            "   ...\n",
            "   [7.20260162e+01 3.24545441e+01 2.02402802e+01]\n",
            "   [7.40932922e+01 3.40932884e+01 2.20932884e+01]\n",
            "   [7.65537567e+01 3.65537567e+01 2.45537548e+01]]\n",
            "\n",
            "  ...\n",
            "\n",
            "  [[2.11642853e+02 1.83642853e+02 1.79642853e+02]\n",
            "   [2.13021835e+02 1.84021835e+02 1.78021835e+02]\n",
            "   [2.14708374e+02 1.84065521e+02 1.76279800e+02]\n",
            "   ...\n",
            "   [2.52305786e+02 2.19305786e+02 2.02305786e+02]\n",
            "   [2.52305786e+02 2.19305786e+02 2.01694214e+02]\n",
            "   [2.52305786e+02 2.19305786e+02 2.00305786e+02]]\n",
            "\n",
            "  [[2.10426331e+02 1.82426331e+02 1.78642853e+02]\n",
            "   [2.12055954e+02 1.83055954e+02 1.79055954e+02]\n",
            "   [2.13472733e+02 1.82044159e+02 1.76615601e+02]\n",
            "   ...\n",
            "   [2.52000000e+02 2.19000000e+02 2.02092789e+02]\n",
            "   [2.52000000e+02 2.19000000e+02 2.02000000e+02]\n",
            "   [2.52000000e+02 2.19000000e+02 2.02000000e+02]]\n",
            "\n",
            "  [[2.09642853e+02 1.81642853e+02 1.78642853e+02]\n",
            "   [2.11313919e+02 1.82313919e+02 1.78313919e+02]\n",
            "   [2.12698807e+02 1.81270233e+02 1.76158325e+02]\n",
            "   ...\n",
            "   [2.52000000e+02 2.19000000e+02 2.03589630e+02]\n",
            "   [2.52000000e+02 2.19000000e+02 2.02000000e+02]\n",
            "   [2.52000000e+02 2.19000000e+02 2.02000000e+02]]]\n",
            "\n",
            "\n",
            " ...\n",
            "\n",
            "\n",
            " [[[6.42857194e-01 2.64285707e+00 1.64285719e+00]\n",
            "   [1.00000000e+00 3.00000000e+00 2.00000000e+00]\n",
            "   [1.00000000e+00 3.00000000e+00 2.00000000e+00]\n",
            "   ...\n",
            "   [1.68571205e+01 1.96428566e+01 8.00006580e+00]\n",
            "   [5.78567505e+00 1.07856750e+01 3.78567505e+00]\n",
            "   [2.71432066e+00 8.94390011e+00 4.25516176e+00]]\n",
            "\n",
            "  [[0.00000000e+00 2.00000000e+00 1.00000000e+00]\n",
            "   [1.00000000e+00 3.00000000e+00 2.00000000e+00]\n",
            "   [7.85714149e-01 2.78571415e+00 1.78571415e+00]\n",
            "   ...\n",
            "   [1.51734447e+01 1.79591808e+01 6.33169317e+00]\n",
            "   [5.79079103e+00 1.07907915e+01 3.79079103e+00]\n",
            "   [4.31126165e+00 1.13112621e+01 4.31126165e+00]]\n",
            "\n",
            "  [[0.00000000e+00 2.00000000e+00 2.14285612e-01]\n",
            "   [9.43877757e-01 2.94387770e+00 4.28571224e-01]\n",
            "   [1.68367237e-01 2.16836715e+00 3.82652849e-01]\n",
            "   ...\n",
            "   [1.41937780e+01 1.69795132e+01 5.55098629e+00]\n",
            "   [4.14284420e+00 9.14284420e+00 2.14284396e+00]\n",
            "   [2.64800143e+00 9.64800167e+00 2.64800143e+00]]\n",
            "\n",
            "  ...\n",
            "\n",
            "  [[1.12581635e+02 8.12245178e+01 5.58163023e+00]\n",
            "   [1.07801003e+02 7.64438858e+01 2.65814614e+00]\n",
            "   [1.05714256e+02 7.33571396e+01 2.57141972e+00]\n",
            "   ...\n",
            "   [0.00000000e+00 3.21426392e+00 0.00000000e+00]\n",
            "   [1.00000000e+00 3.00000000e+00 2.00000000e+00]\n",
            "   [3.71435547e+00 2.71435547e+00 7.71435547e+00]]\n",
            "\n",
            "  [[1.12357140e+02 8.33571396e+01 3.49996519e+00]\n",
            "   [1.05423447e+02 7.64234467e+01 2.80595243e-01]\n",
            "   [1.02428551e+02 7.24285507e+01 1.27519876e-01]\n",
            "   ...\n",
            "   [0.00000000e+00 3.21426392e+00 0.00000000e+00]\n",
            "   [1.00000000e+00 3.00000000e+00 2.00000000e+00]\n",
            "   [3.71435547e+00 2.71435547e+00 7.71435547e+00]]\n",
            "\n",
            "  [[1.08714294e+02 8.07142944e+01 0.00000000e+00]\n",
            "   [1.03000008e+02 7.40000076e+01 0.00000000e+00]\n",
            "   [1.01989799e+02 7.19897995e+01 0.00000000e+00]\n",
            "   ...\n",
            "   [0.00000000e+00 3.21426392e+00 0.00000000e+00]\n",
            "   [1.00000000e+00 3.00000000e+00 2.00000000e+00]\n",
            "   [3.71435547e+00 2.71435547e+00 7.71435547e+00]]]\n",
            "\n",
            "\n",
            " [[[7.25969391e+01 3.95969391e+01 3.20255089e+01]\n",
            "   [7.76173477e+01 4.42806129e+01 3.20918388e+01]\n",
            "   [7.37857132e+01 5.05561256e+01 3.80714340e+01]\n",
            "   ...\n",
            "   [1.00662909e+01 1.70662899e+01 9.28055477e+00]\n",
            "   [1.00255146e+01 1.60255146e+01 6.02551508e+00]\n",
            "   [1.23265553e+01 1.53265553e+01 6.32655525e+00]]\n",
            "\n",
            "  [[7.24489746e+01 4.32857170e+01 2.95255108e+01]\n",
            "   [7.43418350e+01 4.13367310e+01 2.46275482e+01]\n",
            "   [8.01734695e+01 5.27908173e+01 3.95612259e+01]\n",
            "   ...\n",
            "   [1.45306320e+01 1.95306320e+01 1.27448959e+01]\n",
            "   [1.27244663e+01 1.77244663e+01 1.07244663e+01]\n",
            "   [1.05458813e+01 1.35458813e+01 4.54588127e+00]]\n",
            "\n",
            "  [[7.51326523e+01 4.71326523e+01 2.59183655e+01]\n",
            "   [7.63673477e+01 4.43673477e+01 2.33367348e+01]\n",
            "   [7.47602005e+01 4.17602043e+01 2.80459194e+01]\n",
            "   ...\n",
            "   [1.15460005e+01 1.41174288e+01 7.33171463e+00]\n",
            "   [1.23316154e+01 1.53316154e+01 8.33161545e+00]\n",
            "   [1.14184227e+01 1.44184227e+01 7.41842270e+00]]\n",
            "\n",
            "  ...\n",
            "\n",
            "  [[1.40780670e+02 1.29423462e+02 1.15770432e+02]\n",
            "   [1.42000000e+02 1.33000000e+02 1.16142853e+02]\n",
            "   [1.39000015e+02 1.32091843e+02 1.13663300e+02]\n",
            "   ...\n",
            "   [1.41194077e+02 1.33097031e+02 1.25668510e+02]\n",
            "   [1.46229568e+02 1.35658096e+02 1.29443832e+02]\n",
            "   [1.37642822e+02 1.26642822e+02 1.20642822e+02]]\n",
            "\n",
            "  [[1.36877533e+02 1.23071388e+02 1.14877525e+02]\n",
            "   [1.39923462e+02 1.30499954e+02 1.15928558e+02]\n",
            "   [1.42357132e+02 1.33571411e+02 1.16142845e+02]\n",
            "   ...\n",
            "   [1.39596863e+02 1.29025391e+02 1.22811134e+02]\n",
            "   [1.38061234e+02 1.25061234e+02 1.19061234e+02]\n",
            "   [1.39306229e+02 1.26306236e+02 1.20306236e+02]]\n",
            "\n",
            "  [[1.39015472e+02 1.22484810e+02 1.16556236e+02]\n",
            "   [1.40000107e+02 1.27168404e+02 1.15765381e+02]\n",
            "   [1.43066360e+02 1.31846954e+02 1.15357178e+02]\n",
            "   ...\n",
            "   [1.34928467e+02 1.23928467e+02 1.17928467e+02]\n",
            "   [1.38811096e+02 1.25811104e+02 1.19811104e+02]\n",
            "   [1.38484756e+02 1.23484756e+02 1.18484756e+02]]]\n",
            "\n",
            "\n",
            " [[[1.21040817e+02 5.60408173e+01 1.40408163e+01]\n",
            "   [1.24622452e+02 6.06224480e+01 1.66224499e+01]\n",
            "   [1.25076530e+02 5.87193871e+01 1.55051022e+01]\n",
            "   ...\n",
            "   [3.25612106e+01 1.80561123e+01 1.52091808e+01]\n",
            "   [2.89591427e+01 1.77449093e+01 1.45306053e+01]\n",
            "   [2.03673706e+01 1.05510387e+01 6.85206175e+00]]\n",
            "\n",
            "  [[1.20811226e+02 5.87397957e+01 1.76887760e+01]\n",
            "   [1.16632652e+02 5.36326523e+01 1.04948959e+01]\n",
            "   [1.23658165e+02 5.98724518e+01 1.58724508e+01]\n",
            "   ...\n",
            "   [4.13213387e+01 2.44641953e+01 1.66784801e+01]\n",
            "   [2.79641876e+01 1.38264837e+01 5.11217928e+00]\n",
            "   [2.69949074e+01 1.34234695e+01 5.89796257e+00]]\n",
            "\n",
            "  [[1.28724487e+02 6.99387741e+01 3.02142868e+01]\n",
            "   [1.26739799e+02 6.54081650e+01 2.39948978e+01]\n",
            "   [1.29234695e+02 6.66632690e+01 2.26632652e+01]\n",
            "   ...\n",
            "   [4.85000343e+01 2.87143211e+01 1.68571777e+01]\n",
            "   [4.68672600e+01 2.85407543e+01 1.44947948e+01]\n",
            "   [4.29438782e+01 2.60152969e+01 1.11581583e+01]]\n",
            "\n",
            "  ...\n",
            "\n",
            "  [[9.39387360e+01 3.91580734e+01 1.20151958e+01]\n",
            "   [9.87651825e+01 4.78825264e+01 1.94386082e+01]\n",
            "   [9.14949493e+01 4.41581841e+01 1.67550831e+01]\n",
            "   ...\n",
            "   [4.45810204e+01 2.23822556e+01 2.86204410e+00]\n",
            "   [1.55046568e+01 5.16302443e+00 2.24441215e-01]\n",
            "   [9.02547169e+00 5.16835499e+00 6.66838551e+00]]\n",
            "\n",
            "  [[1.11239655e+02 5.69743538e+01 2.54284019e+01]\n",
            "   [1.02673386e+02 4.99590988e+01 1.78213177e+01]\n",
            "   [8.88979645e+01 4.15255280e+01 1.09132490e+01]\n",
            "   ...\n",
            "   [2.16479187e+01 9.97453976e+00 5.61321005e-02]\n",
            "   [1.51785822e+01 9.97455215e+00 3.84703541e+00]\n",
            "   [1.33621902e+01 9.43363190e+00 7.48460102e+00]]\n",
            "\n",
            "  [[9.49339600e+01 3.96482468e+01 3.57674718e+00]\n",
            "   [8.97398682e+01 3.70510941e+01 3.04598546e+00]\n",
            "   [9.16429596e+01 4.50766449e+01 1.18470287e+01]\n",
            "   ...\n",
            "   [1.86170330e+01 1.25405521e+01 5.05069017e-01]\n",
            "   [1.39336967e+01 1.08622856e+01 2.12242413e+00]\n",
            "   [1.30409575e+01 8.04095745e+00 2.04095769e+00]]]], shape=(32, 224, 224, 3), dtype=float32) tf.Tensor(\n",
            "[[0. 0. 0. 0. 0. 1. 0. 0. 0. 0.]\n",
            " [0. 0. 0. 0. 0. 0. 0. 0. 1. 0.]\n",
            " [0. 0. 0. 0. 0. 0. 0. 0. 1. 0.]\n",
            " [0. 0. 1. 0. 0. 0. 0. 0. 0. 0.]\n",
            " [0. 0. 1. 0. 0. 0. 0. 0. 0. 0.]\n",
            " [0. 1. 0. 0. 0. 0. 0. 0. 0. 0.]\n",
            " [0. 0. 0. 0. 0. 1. 0. 0. 0. 0.]\n",
            " [0. 0. 0. 0. 1. 0. 0. 0. 0. 0.]\n",
            " [0. 0. 0. 0. 0. 0. 0. 0. 1. 0.]\n",
            " [0. 0. 0. 0. 1. 0. 0. 0. 0. 0.]\n",
            " [0. 0. 0. 0. 0. 0. 1. 0. 0. 0.]\n",
            " [0. 0. 1. 0. 0. 0. 0. 0. 0. 0.]\n",
            " [0. 0. 0. 1. 0. 0. 0. 0. 0. 0.]\n",
            " [0. 0. 0. 0. 1. 0. 0. 0. 0. 0.]\n",
            " [0. 0. 0. 0. 0. 0. 0. 1. 0. 0.]\n",
            " [0. 0. 0. 0. 1. 0. 0. 0. 0. 0.]\n",
            " [0. 0. 0. 0. 0. 0. 0. 0. 1. 0.]\n",
            " [0. 0. 0. 0. 0. 0. 0. 0. 1. 0.]\n",
            " [0. 0. 0. 0. 0. 0. 1. 0. 0. 0.]\n",
            " [0. 0. 0. 0. 1. 0. 0. 0. 0. 0.]\n",
            " [0. 0. 0. 0. 0. 0. 0. 0. 1. 0.]\n",
            " [0. 0. 1. 0. 0. 0. 0. 0. 0. 0.]\n",
            " [0. 0. 0. 1. 0. 0. 0. 0. 0. 0.]\n",
            " [0. 1. 0. 0. 0. 0. 0. 0. 0. 0.]\n",
            " [0. 0. 0. 0. 0. 0. 0. 0. 0. 1.]\n",
            " [1. 0. 0. 0. 0. 0. 0. 0. 0. 0.]\n",
            " [0. 0. 0. 0. 0. 0. 0. 0. 0. 1.]\n",
            " [0. 0. 0. 1. 0. 0. 0. 0. 0. 0.]\n",
            " [0. 0. 0. 0. 0. 0. 0. 1. 0. 0.]\n",
            " [0. 0. 0. 0. 1. 0. 0. 0. 0. 0.]\n",
            " [0. 0. 1. 0. 0. 0. 0. 0. 0. 0.]\n",
            " [0. 0. 0. 0. 0. 0. 1. 0. 0. 0.]], shape=(32, 10), dtype=float32)\n"
          ]
        }
      ],
      "source": [
        "# See an example of a batch of data\n",
        "for images, labels in train_data_10_percent.take(1):\n",
        "  print(images, labels)"
      ]
    },
    {
      "cell_type": "markdown",
      "metadata": {
        "id": "QPVMA2tT3tqk"
      },
      "source": [
        "Notice how the image arrays come out as tensors of pixel values where as the labels come out as one-hot encodings (e.g. `[0. 0. 0. 0. 1. 0. 0. 0. 0. 0.]` for `hamburger`)."
      ]
    },
    {
      "cell_type": "markdown",
      "metadata": {
        "id": "KnJ7x3S24ZoI"
      },
      "source": [
        "### Model 0: Building a transfer learning model using the Keras Functional API\n",
        "\n",
        "Alright, our data is tensor-ified, let's build a model.\n",
        "\n",
        "To do so we're going to be using the [`tf.keras.applications`](https://www.tensorflow.org/api_docs/python/tf/keras/applications) module as it contains a series of already trained (on ImageNet) computer vision models as well as the Keras Functional API to construct our model.\n",
        "\n",
        "We're going to go through the following steps:\n",
        "\n",
        "1. Instantiate a pre-trained base model object by choosing a target model such as [`EfficientNetB0`](https://www.tensorflow.org/api_docs/python/tf/keras/applications/EfficientNetB0) from `tf.keras.applications`, setting the `include_top` parameter to `False` (we do this because we're going to create our own top, which are the output layers for the model).\n",
        "2. Set the base model's `trainable` attribute to `False` to freeze all of the weights in the pre-trained model.\n",
        "3. Define an input layer for our model, for example, what shape of data should our model expect?\n",
        "4. [Optional] Normalize the inputs to our model if it requires. Some computer vision models such as `ResNetV250` require their inputs to be between 0 & 1. \n",
        "\n",
        "> 🤔 **Note:** As of writing, the `EfficientNet` models in the `tf.keras.applications` module do not require images to be normalized (pixel values between 0 and 1) on input, where as many of the other models do. I posted [an issue to the TensorFlow GitHub](https://github.com/tensorflow/tensorflow/issues/42506) about this and they confirmed this. \n",
        "\n",
        "5. Pass the inputs to the base model.\n",
        "6. Pool the outputs of the base model into a shape compatible with the output activation layer (turn base model output tensors into same shape as label tensors). This can be done using [`tf.keras.layers.GlobalAveragePooling2D()`](https://www.tensorflow.org/api_docs/python/tf/keras/layers/GlobalAveragePooling2D) or [`tf.keras.layers.GlobalMaxPooling2D()`](https://www.tensorflow.org/api_docs/python/tf/keras/layers/GlobalMaxPool2D?hl=en) though the former is more common in practice.\n",
        "7. Create an output activation layer using `tf.keras.layers.Dense()` with the appropriate activation function and number of neurons.\n",
        "8. Combine the inputs and outputs layer into a model using [`tf.keras.Model()`](https://www.tensorflow.org/api_docs/python/tf/keras/Model).\n",
        "9. Compile the model using the appropriate loss function and choose of optimizer.\n",
        "10. Fit the model for desired number of epochs and with necessary callbacks (in our case, we'll start off with the TensorBoard callback).\n",
        "\n",
        "Woah... that sounds like a lot. Before we get ahead of ourselves, let's see it in practice."
      ]
    },
    {
      "cell_type": "code",
      "execution_count": 10,
      "metadata": {
        "colab": {
          "base_uri": "https://localhost:8080/"
        },
        "id": "0aM06aaZ44Fn",
        "outputId": "7e448091-f876-4d02-98df-422bb965fbbb"
      },
      "outputs": [
        {
          "output_type": "stream",
          "name": "stdout",
          "text": [
            "Downloading data from https://storage.googleapis.com/keras-applications/efficientnetb0_notop.h5\n",
            "16711680/16705208 [==============================] - 0s 0us/step\n",
            "16719872/16705208 [==============================] - 0s 0us/step\n",
            "Shape after base_model: (None, 7, 7, 1280)\n",
            "After GlobalAveragePooling2D(): (None, 1280)\n",
            "Saving TensorBoard log files to: transfer_learning/10_percent_feature_extract/20220107-124655\n"
          ]
        },
        {
          "output_type": "stream",
          "name": "stderr",
          "text": [
            "/usr/local/lib/python3.7/dist-packages/keras/engine/functional.py:1410: CustomMaskWarning: Custom mask layers require a config and must override get_config. When loading, the custom mask layer must be passed to the custom_objects argument.\n",
            "  layer_config = serialize_layer_fn(layer)\n"
          ]
        },
        {
          "output_type": "stream",
          "name": "stdout",
          "text": [
            "Epoch 1/5\n",
            "24/24 [==============================] - 24s 350ms/step - loss: 1.8686 - accuracy: 0.3987 - val_loss: 1.3402 - val_accuracy: 0.6727\n",
            "Epoch 2/5\n",
            "24/24 [==============================] - 9s 359ms/step - loss: 1.1397 - accuracy: 0.7333 - val_loss: 0.9154 - val_accuracy: 0.7895\n",
            "Epoch 3/5\n",
            "24/24 [==============================] - 7s 261ms/step - loss: 0.8345 - accuracy: 0.8200 - val_loss: 0.7630 - val_accuracy: 0.8026\n",
            "Epoch 4/5\n",
            "24/24 [==============================] - 9s 355ms/step - loss: 0.6921 - accuracy: 0.8333 - val_loss: 0.6742 - val_accuracy: 0.8141\n",
            "Epoch 5/5\n",
            "24/24 [==============================] - 9s 353ms/step - loss: 0.5980 - accuracy: 0.8600 - val_loss: 0.5895 - val_accuracy: 0.8503\n"
          ]
        }
      ],
      "source": [
        "# 1. Create base model with tf.keras.applications\n",
        "base_model = tf.keras.applications.EfficientNetB0(include_top=False)\n",
        "\n",
        "# 2. Freeze the base model (so the pre-learned patterns remain)\n",
        "base_model.trainable = False\n",
        "\n",
        "# 3. Create inputs into the base model\n",
        "inputs = tf.keras.layers.Input(shape=(224, 224, 3), name=\"input_layer\")\n",
        "\n",
        "# 4. If using model like ResNet50V2, add this to speed up convergence, remove for EfficientNet\n",
        "# x = tf.keras.layers.experimental.preprocessing.Rescaling(1./255)(inputs)\n",
        "\n",
        "# 5. Pass the inputs to the base_model (note: using tf.keras.applications, EfficientNet inputs don't have to be normalized)\n",
        "x = base_model(inputs)\n",
        "# Check data shape after passing it to base_model\n",
        "print(f\"Shape after base_model: {x.shape}\")\n",
        "\n",
        "# 6. Average pool the outputs of the base model (aggregate all the most important information, reduce number of computations)\n",
        "x = tf.keras.layers.GlobalAveragePooling2D(name=\"global_average_pooling_layer\")(x) # x in the end - functional API design\n",
        "print(f\"After GlobalAveragePooling2D(): {x.shape}\")\n",
        "\n",
        "# 7. Create the output activation layer\n",
        "outputs = tf.keras.layers.Dense(10, activation=\"softmax\", name=\"output_layer\")(x)\n",
        "\n",
        "# 8. Combine the inputs with the outputs into a model\n",
        "model_0 = tf.keras.Model(inputs, outputs)\n",
        "\n",
        "# 9. Compile the model\n",
        "model_0.compile(loss='categorical_crossentropy',\n",
        "              optimizer=tf.keras.optimizers.Adam(),\n",
        "              metrics=[\"accuracy\"])\n",
        "\n",
        "# 10. Fit the model (we use less steps for validation so it's faster)\n",
        "history_10_percent = model_0.fit(train_data_10_percent,\n",
        "                                 epochs=5,\n",
        "                                 steps_per_epoch=len(train_data_10_percent),\n",
        "                                 validation_data=test_data,\n",
        "                                 # Go through less of the validation data so epochs are faster (we want faster experiments!)\n",
        "                                 validation_steps=int(0.25 * len(test_data)), \n",
        "                                 # Track our model's training logs for visualization later\n",
        "                                 callbacks=[create_tensorboard_callback(\"transfer_learning\", \"10_percent_feature_extract\")])"
      ]
    },
    {
      "cell_type": "code",
      "execution_count": 11,
      "metadata": {
        "id": "OhNi0wnLKZll",
        "colab": {
          "base_uri": "https://localhost:8080/"
        },
        "outputId": "0029bdab-192d-4ca8-ba1b-14b672ec247b"
      },
      "outputs": [
        {
          "output_type": "stream",
          "name": "stdout",
          "text": [
            "79/79 [==============================] - 11s 133ms/step - loss: 0.6114 - accuracy: 0.8392\n"
          ]
        },
        {
          "output_type": "execute_result",
          "data": {
            "text/plain": [
              "[0.6113842129707336, 0.8392000198364258]"
            ]
          },
          "metadata": {},
          "execution_count": 11
        }
      ],
      "source": [
        "# Evaluate on the full test ds\n",
        "model_0.evaluate(test_data)"
      ]
    },
    {
      "cell_type": "code",
      "execution_count": null,
      "metadata": {
        "id": "qtt5WCrcQvng"
      },
      "outputs": [],
      "source": [
        "# Check layers in our base model\n",
        "for layer_number, layer in enumerate(base_model.layers):\n",
        "  print(layer_number, layer.name)"
      ]
    },
    {
      "cell_type": "code",
      "execution_count": null,
      "metadata": {
        "id": "8rliOxsOQ_z2"
      },
      "outputs": [],
      "source": [
        "base_model.summary()"
      ]
    },
    {
      "cell_type": "code",
      "execution_count": 14,
      "metadata": {
        "id": "F9K-_vvORl-m",
        "colab": {
          "base_uri": "https://localhost:8080/"
        },
        "outputId": "645b1f75-72e0-4eee-9407-2c17dba2ba93"
      },
      "outputs": [
        {
          "output_type": "stream",
          "name": "stdout",
          "text": [
            "Model: \"model\"\n",
            "_________________________________________________________________\n",
            " Layer (type)                Output Shape              Param #   \n",
            "=================================================================\n",
            " input_layer (InputLayer)    [(None, 224, 224, 3)]     0         \n",
            "                                                                 \n",
            " efficientnetb0 (Functional)  (None, None, None, 1280)  4049571  \n",
            "                                                                 \n",
            " global_average_pooling_laye  (None, 1280)             0         \n",
            " r (GlobalAveragePooling2D)                                      \n",
            "                                                                 \n",
            " output_layer (Dense)        (None, 10)                12810     \n",
            "                                                                 \n",
            "=================================================================\n",
            "Total params: 4,062,381\n",
            "Trainable params: 12,810\n",
            "Non-trainable params: 4,049,571\n",
            "_________________________________________________________________\n"
          ]
        }
      ],
      "source": [
        "# Check summary of model constructed with Functional API\n",
        "model_0.summary()"
      ]
    },
    {
      "cell_type": "markdown",
      "metadata": {
        "id": "eGYokAGrRsox"
      },
      "source": [
        "Our overall model has five layers but really, one of those layers (`efficientnetb0`) has 236 layers.\n",
        "\n",
        "You can see how the output shape started out as `(None, 224, 224, 3)` for the input layer (the shape of our images) but was transformed to be `(None, 10)` by the output layer (the shape of our labels), where `None` is the placeholder for the batch size.\n",
        "\n",
        "Notice too, the only trainable parameters in the model are those in the output layer.\n",
        "\n",
        "How do our model's training curves look?\n",
        "\n"
      ]
    },
    {
      "cell_type": "code",
      "execution_count": 15,
      "metadata": {
        "id": "bJxgUI6cRvu9",
        "colab": {
          "base_uri": "https://localhost:8080/",
          "height": 573
        },
        "outputId": "0dfc84ab-18d3-45d8-8134-8a77a73f94f9"
      },
      "outputs": [
        {
          "output_type": "display_data",
          "data": {
            "image/png": "[encoded data removed]",
            "text/plain": [
              "<Figure size 432x288 with 1 Axes>"
            ]
          },
          "metadata": {
            "needs_background": "light"
          }
        },
        {
          "output_type": "display_data",
          "data": {
            "image/png": "[encoded data removed]",
            "text/plain": [
              "<Figure size 432x288 with 1 Axes>"
            ]
          },
          "metadata": {
            "needs_background": "light"
          }
        }
      ],
      "source": [
        "# Check out our model's training curves\n",
        "plot_loss_curves(history_10_percent)"
      ]
    },
    {
      "cell_type": "markdown",
      "metadata": {
        "id": "BbABBbOZRyw3"
      },
      "source": [
        "## Getting a feature vector from a trained model\n",
        "\n",
        "> 🤔 **Question:** What happens with the `tf.keras.layers.GlobalAveragePooling2D()` layer? I haven't seen it before.\n",
        "\n",
        "The [`tf.keras.layers.GlobalAveragePooling2D()`](https://www.tensorflow.org/api_docs/python/tf/keras/layers/GlobalAveragePooling2D) layer transforms a 4D tensor into a 2D tensor by averaging the values across the inner-axes.\n",
        "\n",
        "The previous sentence is a bit of a mouthful, so let's see an example."
      ]
    },
    {
      "cell_type": "code",
      "execution_count": 16,
      "metadata": {
        "id": "aU7rugjpkxf5",
        "colab": {
          "base_uri": "https://localhost:8080/"
        },
        "outputId": "594696a6-3f4e-4783-bcc9-f6671c559211"
      },
      "outputs": [
        {
          "output_type": "stream",
          "name": "stdout",
          "text": [
            "Random input tensor:\n",
            " [[[[ 0.3274685  -0.8426258   0.3194337 ]\n",
            "   [-1.4075519  -2.3880599  -1.0392479 ]\n",
            "   [-0.5573232   0.539707    1.6994323 ]\n",
            "   [ 0.28893656 -1.5066116  -0.26454744]]\n",
            "\n",
            "  [[-0.59722406 -1.9171132  -0.62044144]\n",
            "   [ 0.8504023  -0.40604794 -3.0258412 ]\n",
            "   [ 0.9058464   0.29855987 -0.22561555]\n",
            "   [-0.7616443  -1.891714   -0.9384712 ]]\n",
            "\n",
            "  [[ 0.77852213 -0.47338897  0.97772694]\n",
            "   [ 0.24694404  0.20573747 -0.5256233 ]\n",
            "   [ 0.32410017  0.02545409 -0.10638497]\n",
            "   [-0.6369475   1.1603122   0.2507359 ]]\n",
            "\n",
            "  [[-0.41728497  0.40125778 -1.4145442 ]\n",
            "   [-0.59318566 -1.6617213   0.33567193]\n",
            "   [ 0.10815629  0.2347968  -0.56668764]\n",
            "   [-0.35819843  0.88698626  0.5274477 ]]]]\n",
            "\n",
            "2D global average pooled random tensor:\n",
            " [[-0.09368646 -0.45840445 -0.28855976]]\n",
            "\n",
            "Shape of input tensor: (1, 4, 4, 3)\n",
            "Shape of 2D global averaged pooled input tensor: (1, 3)\n"
          ]
        }
      ],
      "source": [
        "# Define input tensor shape (same number of dimensions as the output of efficientnetb0)\n",
        "input_shape = (1, 4, 4, 3)\n",
        "\n",
        "# Create a random tensor\n",
        "tf.random.set_seed(42)\n",
        "input_tensor = tf.random.normal(input_shape)\n",
        "print(f\"Random input tensor:\\n {input_tensor}\\n\")\n",
        "\n",
        "# Pass the random tensor through a global average pooling 2D layer\n",
        "global_average_pooled_tensor = tf.keras.layers.GlobalAveragePooling2D()(input_tensor)\n",
        "print(f\"2D global average pooled random tensor:\\n {global_average_pooled_tensor}\\n\")\n",
        "\n",
        "# Check the shapes of the different tensors\n",
        "print(f\"Shape of input tensor: {input_tensor.shape}\")\n",
        "print(f\"Shape of 2D global averaged pooled input tensor: {global_average_pooled_tensor.shape}\")"
      ]
    },
    {
      "cell_type": "markdown",
      "source": [
        "You can see the `tf.keras.layers.GlobalAveragePooling2D()` layer condensed the input tensor from shape `(1, 4, 4, 3)` to `(1, 3)`. It did so by averaging the `input_tensor` across the middle two axes.\n",
        "\n",
        "We can replicate this operation using the `tf.reduce_mean()` operation and specifying the appropriate axes."
      ],
      "metadata": {
        "id": "v-aYjDS9_h-D"
      }
    },
    {
      "cell_type": "code",
      "source": [
        "# This is the same as GlobalAveragePooling2D()\n",
        "tf.reduce_mean(input_tensor, axis=[1, 2]) # average across the middle axes"
      ],
      "metadata": {
        "colab": {
          "base_uri": "https://localhost:8080/"
        },
        "id": "H521fz5C_lhZ",
        "outputId": "16a9e566-6bd8-494b-e46b-173ebe7e1f1e"
      },
      "execution_count": 17,
      "outputs": [
        {
          "output_type": "execute_result",
          "data": {
            "text/plain": [
              "<tf.Tensor: shape=(1, 3), dtype=float32, numpy=array([[-0.09368646, -0.45840445, -0.28855976]], dtype=float32)>"
            ]
          },
          "metadata": {},
          "execution_count": 17
        }
      ]
    },
    {
      "cell_type": "markdown",
      "source": [
        "Doing this not only makes the output of the base model compatible with the input shape requirement of our output layer (`tf.keras.layers.Dense()`), it also condenses the information found by the base model into a lower dimension **feature vector**.\n",
        "\n",
        "> 🔑 **Note:** One of the reasons feature extraction transfer learning is named how it is is because what often happens is a pretrained model outputs a **feature vector** (a long tensor of numbers, in our case, this is the output of the [`tf.keras.layers.GlobalAveragePooling2D()`](https://www.tensorflow.org/api_docs/python/tf/keras/layers/GlobalAveragePooling2D) layer) which can then be used to extract patterns out of.\n",
        "\n",
        "> 🛠 **Practice:** Do the same as the above cell but for [`tf.keras.layers.GlobalMaxPool2D()`](https://www.tensorflow.org/api_docs/python/tf/keras/layers/GlobalMaxPool2D)."
      ],
      "metadata": {
        "id": "cya7RR8X_nwM"
      }
    },
    {
      "cell_type": "markdown",
      "source": [
        "## Running a series of transfer learning experiments\n",
        "\n",
        "We've seen the incredible results of transfer learning on 10% of the training data, what about 1% of the training data?\n",
        "\n",
        "What kind of results do you think we can get using 100x less data than the original CNN models we built ourselves?\n",
        "\n",
        "Why don't we answer that question while running the following modelling experiments:\n",
        "1. `model_1`: Use feature extraction transfer learning on 1% of the training data with data augmentation.\n",
        "2. `model_2`: Use feature extraction transfer learning on 10% of the training data with data augmentation.\n",
        "3. `model_3`: Use fine-tuning transfer learning on 10% of the training data with data augmentation.\n",
        "4. `model_4`: Use fine-tuning transfer learning on 100% of the training data with data augmentation.\n",
        "\n",
        "While all of the experiments will be run on different versions of the training data, they will all be evaluated on the same test dataset, this ensures the results of each experiment are as comparable as possible.\n",
        "\n",
        "All experiments will be done using the `EfficientNetB0` model within the `tf.keras.applications` module.\n",
        "\n",
        "To make sure we're keeping track of our experiments, we'll use our `create_tensorboard_callback()` function to log all of the model training logs.\n",
        "\n",
        "We'll construct each model using the Keras Functional API and instead of implementing data augmentation in the `ImageDataGenerator` class as we have previously, we're going to build it right into the model using the [`tf.keras.layers.experimental.preprocessing`](https://www.tensorflow.org/api_docs/python/tf/keras/layers/experimental/preprocessing) module.\n",
        "\n",
        "Let's begin by downloading the data for experiment 1, using feature extraction transfer learning on 1% of the training data with data augmentation."
      ],
      "metadata": {
        "id": "GmKyoCbb_pN2"
      }
    },
    {
      "cell_type": "code",
      "source": [
        "# Download and unzip data\n",
        "!wget https://storage.googleapis.com/ztm_tf_course/food_vision/10_food_classes_1_percent.zip\n",
        "unzip_data(\"10_food_classes_1_percent.zip\")\n",
        "\n",
        "# Create training and test dirs\n",
        "train_dir_1_percent = \"10_food_classes_1_percent/train/\"\n",
        "test_dir = \"10_food_classes_1_percent/test/\""
      ],
      "metadata": {
        "colab": {
          "base_uri": "https://localhost:8080/"
        },
        "id": "_1Z5Awzq_qun",
        "outputId": "b9d44b18-8b05-4c2e-e9b5-c23b0d41a44c"
      },
      "execution_count": 18,
      "outputs": [
        {
          "output_type": "stream",
          "name": "stdout",
          "text": [
            "--2022-01-05 16:07:27--  https://storage.googleapis.com/ztm_tf_course/food_vision/10_food_classes_1_percent.zip\n",
            "Resolving storage.googleapis.com (storage.googleapis.com)... 74.125.201.128, 74.125.202.128, 74.125.69.128, ...\n",
            "Connecting to storage.googleapis.com (storage.googleapis.com)|74.125.201.128|:443... connected.\n",
            "HTTP request sent, awaiting response... 200 OK\n",
            "Length: 133612354 (127M) [application/zip]\n",
            "Saving to: ‘10_food_classes_1_percent.zip’\n",
            "\n",
            "10_food_classes_1_p 100%[===================>] 127.42M   245MB/s    in 0.5s    \n",
            "\n",
            "2022-01-05 16:07:28 (245 MB/s) - ‘10_food_classes_1_percent.zip’ saved [133612354/133612354]\n",
            "\n"
          ]
        }
      ]
    },
    {
      "cell_type": "code",
      "source": [
        ""
      ],
      "metadata": {
        "id": "-WSVPAae_so3"
      },
      "execution_count": null,
      "outputs": []
    }
  ],
  "metadata": {
    "colab": {
      "name": "05_transfer_learning_in_tensorflow_part_2.ipynb",
      "provenance": [],
      "authorship_tag": "ABX9TyOiJ8TiCerXRyQ51fclMoMe",
      "include_colab_link": true
    },
    "kernelspec": {
      "display_name": "Python 3",
      "name": "python3"
    },
    "language_info": {
      "name": "python"
    },
    "accelerator": "GPU"
  },
  "nbformat": 4,
  "nbformat_minor": 0
}