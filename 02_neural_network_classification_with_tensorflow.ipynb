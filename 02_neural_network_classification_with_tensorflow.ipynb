{
  "nbformat": 4,
  "nbformat_minor": 0,
  "metadata": {
    "colab": {
      "name": "02_neural_network_classification_with_tensorflow.ipynb",
      "provenance": [],
      "authorship_tag": "ABX9TyP3QhmPm6joXJVH4JLsUaF8",
      "include_colab_link": true
    },
    "kernelspec": {
      "name": "python3",
      "display_name": "Python 3"
    },
    "language_info": {
      "name": "python"
    }
  },
  "cells": [
    {
      "cell_type": "markdown",
      "metadata": {
        "id": "view-in-github",
        "colab_type": "text"
      },
      "source": [
        "<a href=\"https://colab.research.google.com/github/Nikitaion/TensorFlowLearning/blob/main/02_neural_network_classification_with_tensorflow.ipynb\" target=\"_parent\"><img src=\"https://colab.research.google.com/assets/colab-badge.svg\" alt=\"Open In Colab\"/></a>"
      ]
    },
    {
      "cell_type": "markdown",
      "metadata": {
        "id": "3VqCruSMpxNF"
      },
      "source": [
        "# Introduction to Classification with Neural Networks in TensorFlow\n",
        "\n",
        "In this notebook we a going to learn how to write neural networks for classification problems\n",
        "\n",
        "A classification problem is where you try to classify something as one thing or another\n",
        "\n",
        "For example, you might want to:\n",
        "\n",
        "Predict whether or not someone has heart disease based on their health parameters. This is called **binary** classification since there are only two options.\n",
        "Decide whether a photo of is of food, a person or a dog. This is called **multi-class** classification since there are more than two options.\n",
        "Predict what categories should be assigned to a Wikipedia article. This is called **multi-label** classification since a single article could have more than one category assigned."
      ]
    },
    {
      "cell_type": "markdown",
      "metadata": {
        "id": "1PEmND4oXLgl"
      },
      "source": [
        "## Typical architecture of a classification neural network \n",
        "\n",
        "The word *typical* is on purpose.\n",
        "\n",
        "Because the architecture of a classification neural network can widely vary depending on the problem you're working on.\n",
        "\n",
        "However, there are some fundamentals all deep neural networks contain:\n",
        "* An input layer.\n",
        "* Some hidden layers.\n",
        "* An output layer.\n",
        "\n",
        "Much of the rest is up to the data analyst creating the model.\n",
        "\n",
        "The following are some standard values you'll often use in your classification neural networks.\n",
        "\n",
        "| **Hyperparameter** | **Binary Classification** | **Multiclass classification** |\n",
        "| --- | --- | --- |\n",
        "| Input layer shape | Same as number of features (e.g. 5 for age, sex, height, weight, smoking status in heart disease prediction) | Same as binary classification |\n",
        "| Hidden layer(s) | Problem specific, minimum = 1, maximum = unlimited | Same as binary classification |\n",
        "| Neurons per hidden layer | Problem specific, generally 10 to 100 | Same as binary classification |\n",
        "| Output layer shape | 1 (one class or the other) | 1 per class (e.g. 3 for food, person or dog photo) |\n",
        "| Hidden activation | Usually [ReLU](https://www.kaggle.com/dansbecker/rectified-linear-units-relu-in-deep-learning) (rectified linear unit) | Same as binary classification |\n",
        "| Output activation | [Sigmoid](https://en.wikipedia.org/wiki/Sigmoid_function) | [Softmax](https://en.wikipedia.org/wiki/Softmax_function) |\n",
        "| Loss function | [Cross entropy](https://en.wikipedia.org/wiki/Cross_entropy#Cross-entropy_loss_function_and_logistic_regression) ([`tf.keras.losses.BinaryCrossentropy`](https://www.tensorflow.org/api_docs/python/tf/keras/losses/BinaryCrossentropy) in TensorFlow) | Cross entropy ([`tf.keras.losses.CategoricalCrossentropy`](https://www.tensorflow.org/api_docs/python/tf/keras/losses/CategoricalCrossentropy) in TensorFlow) |\n",
        "| Optimizer | [SGD](https://www.tensorflow.org/api_docs/python/tf/keras/optimizers/SGD) (stochastic gradient descent), [Adam](https://www.tensorflow.org/api_docs/python/tf/keras/optimizers/Adam) | Same as binary classification |\n",
        "\n",
        "***Table 1:*** *Typical architecture of a classification network.* ***Source:*** *Adapted from page 295 of [Hands-On Machine Learning with Scikit-Learn, Keras & TensorFlow Book by Aurélien Géron](https://www.oreilly.com/library/view/hands-on-machine-learning/9781492032632/)*\n",
        "\n",
        "Don't worry if not much of the above makes sense right now, we'll get plenty of experience as we go through this notebook.\n",
        "\n",
        "Let's start by importing TensorFlow as the common alias `tf`. For this notebook, make sure you're using version 2.x+."
      ]
    },
    {
      "cell_type": "code",
      "metadata": {
        "id": "qxusjMpDWtCw"
      },
      "source": [
        "import tensorflow as tf\n",
        "import numpy as np\n",
        "import matplotlib.pyplot as plt"
      ],
      "execution_count": 34,
      "outputs": []
    },
    {
      "cell_type": "markdown",
      "metadata": {
        "id": "jGSktHGip4zS"
      },
      "source": [
        "# Creating data to view and fit"
      ]
    },
    {
      "cell_type": "code",
      "metadata": {
        "id": "GfEhDJlIp41_"
      },
      "source": [
        "from sklearn.datasets import make_circles\n",
        "\n",
        "# Make 1000 examples\n",
        "n_samples = 1000\n",
        "\n",
        "# Create circles\n",
        "X, y = make_circles(n_samples, \n",
        "                    noise=0.03,\n",
        "                    random_state=42)"
      ],
      "execution_count": 35,
      "outputs": []
    },
    {
      "cell_type": "code",
      "metadata": {
        "colab": {
          "base_uri": "https://localhost:8080/"
        },
        "id": "M276ci8Ip44l",
        "outputId": "28cbb779-118a-4bb6-f283-f27512a6ebc6"
      },
      "source": [
        "# Check out the features\n",
        "X"
      ],
      "execution_count": 36,
      "outputs": [
        {
          "output_type": "execute_result",
          "data": {
            "text/plain": [
              "array([[ 0.75424625,  0.23148074],\n",
              "       [-0.75615888,  0.15325888],\n",
              "       [-0.81539193,  0.17328203],\n",
              "       ...,\n",
              "       [-0.13690036, -0.81001183],\n",
              "       [ 0.67036156, -0.76750154],\n",
              "       [ 0.28105665,  0.96382443]])"
            ]
          },
          "metadata": {},
          "execution_count": 36
        }
      ]
    },
    {
      "cell_type": "code",
      "metadata": {
        "colab": {
          "base_uri": "https://localhost:8080/"
        },
        "id": "HFlyCXKMp5gb",
        "outputId": "c26fab9d-1a82-4282-fbc1-62b953cd99df"
      },
      "source": [
        "# See the first 10 labels\n",
        "y[:10]"
      ],
      "execution_count": 37,
      "outputs": [
        {
          "output_type": "execute_result",
          "data": {
            "text/plain": [
              "array([1, 1, 1, 1, 0, 1, 1, 1, 1, 0])"
            ]
          },
          "metadata": {},
          "execution_count": 37
        }
      ]
    },
    {
      "cell_type": "code",
      "metadata": {
        "colab": {
          "base_uri": "https://localhost:8080/",
          "height": 203
        },
        "id": "brK1x-P9XVcO",
        "outputId": "e2e0a778-66b8-4aca-cd03-9334fee47db2"
      },
      "source": [
        "# Make dataframe of features and labels\n",
        "import pandas as pd\n",
        "circles = pd.DataFrame({\"X0\":X[:, 0], \"X1\":X[:, 1], \"label\":y})\n",
        "circles.head()"
      ],
      "execution_count": 38,
      "outputs": [
        {
          "output_type": "execute_result",
          "data": {
            "text/html": [
              "<div>\n",
              "<style scoped>\n",
              "    .dataframe tbody tr th:only-of-type {\n",
              "        vertical-align: middle;\n",
              "    }\n",
              "\n",
              "    .dataframe tbody tr th {\n",
              "        vertical-align: top;\n",
              "    }\n",
              "\n",
              "    .dataframe thead th {\n",
              "        text-align: right;\n",
              "    }\n",
              "</style>\n",
              "<table border=\"1\" class=\"dataframe\">\n",
              "  <thead>\n",
              "    <tr style=\"text-align: right;\">\n",
              "      <th></th>\n",
              "      <th>X0</th>\n",
              "      <th>X1</th>\n",
              "      <th>label</th>\n",
              "    </tr>\n",
              "  </thead>\n",
              "  <tbody>\n",
              "    <tr>\n",
              "      <th>0</th>\n",
              "      <td>0.754246</td>\n",
              "      <td>0.231481</td>\n",
              "      <td>1</td>\n",
              "    </tr>\n",
              "    <tr>\n",
              "      <th>1</th>\n",
              "      <td>-0.756159</td>\n",
              "      <td>0.153259</td>\n",
              "      <td>1</td>\n",
              "    </tr>\n",
              "    <tr>\n",
              "      <th>2</th>\n",
              "      <td>-0.815392</td>\n",
              "      <td>0.173282</td>\n",
              "      <td>1</td>\n",
              "    </tr>\n",
              "    <tr>\n",
              "      <th>3</th>\n",
              "      <td>-0.393731</td>\n",
              "      <td>0.692883</td>\n",
              "      <td>1</td>\n",
              "    </tr>\n",
              "    <tr>\n",
              "      <th>4</th>\n",
              "      <td>0.442208</td>\n",
              "      <td>-0.896723</td>\n",
              "      <td>0</td>\n",
              "    </tr>\n",
              "  </tbody>\n",
              "</table>\n",
              "</div>"
            ],
            "text/plain": [
              "         X0        X1  label\n",
              "0  0.754246  0.231481      1\n",
              "1 -0.756159  0.153259      1\n",
              "2 -0.815392  0.173282      1\n",
              "3 -0.393731  0.692883      1\n",
              "4  0.442208 -0.896723      0"
            ]
          },
          "metadata": {},
          "execution_count": 38
        }
      ]
    },
    {
      "cell_type": "code",
      "metadata": {
        "colab": {
          "base_uri": "https://localhost:8080/"
        },
        "id": "WcBn68rgXg1e",
        "outputId": "32084e1a-b23b-447d-ef89-b3b2c4b0c8df"
      },
      "source": [
        "# Check out the different labels\n",
        "circles.label.value_counts()"
      ],
      "execution_count": 39,
      "outputs": [
        {
          "output_type": "execute_result",
          "data": {
            "text/plain": [
              "1    500\n",
              "0    500\n",
              "Name: label, dtype: int64"
            ]
          },
          "metadata": {},
          "execution_count": 39
        }
      ]
    },
    {
      "cell_type": "code",
      "metadata": {
        "colab": {
          "base_uri": "https://localhost:8080/",
          "height": 265
        },
        "id": "viJ6_W4wXhBQ",
        "outputId": "5e247cb8-0980-4b4a-e876-90345e9480bd"
      },
      "source": [
        "# Visualize with a plot\n",
        "import matplotlib.pyplot as plt\n",
        "plt.scatter(X[:, 0], X[:, 1], c=y, cmap=plt.cm.RdYlBu);"
      ],
      "execution_count": 40,
      "outputs": [
        {
          "output_type": "display_data",
          "data": {
            "image/png": "[encoded data removed]",
            "text/plain": [
              "<Figure size 432x288 with 1 Axes>"
            ]
          },
          "metadata": {
            "needs_background": "light"
          }
        }
      ]
    },
    {
      "cell_type": "markdown",
      "metadata": {
        "id": "Md6V0l8DbQF7"
      },
      "source": [
        "## Input and output shapes\n",
        "\n",
        "One of the most common issues you'll run into when building neural networks is shape mismatches.\n",
        "\n",
        "More specifically, the shape of the input data and the shape of the output data.\n",
        "\n",
        "In our case, we want to input `X` and get our model to predict `y`.\n",
        "\n",
        "So let's check out the shapes of `X` and `y`."
      ]
    },
    {
      "cell_type": "code",
      "metadata": {
        "colab": {
          "base_uri": "https://localhost:8080/"
        },
        "id": "kMjk5t2bbTds",
        "outputId": "ee048a4d-8d4a-4f1c-c14a-c936ad9a186d"
      },
      "source": [
        "# Check the shapes of our features and labels\n",
        "X.shape, y.shape"
      ],
      "execution_count": 41,
      "outputs": [
        {
          "output_type": "execute_result",
          "data": {
            "text/plain": [
              "((1000, 2), (1000,))"
            ]
          },
          "metadata": {},
          "execution_count": 41
        }
      ]
    },
    {
      "cell_type": "code",
      "metadata": {
        "colab": {
          "base_uri": "https://localhost:8080/"
        },
        "id": "nTQvx1Q9bVB3",
        "outputId": "54270eb1-6dd3-4622-e965-9f49b3427aa5"
      },
      "source": [
        "# Check how many samples we have\n",
        "len(X), len(y)"
      ],
      "execution_count": 42,
      "outputs": [
        {
          "output_type": "execute_result",
          "data": {
            "text/plain": [
              "(1000, 1000)"
            ]
          },
          "metadata": {},
          "execution_count": 42
        }
      ]
    },
    {
      "cell_type": "markdown",
      "metadata": {
        "id": "TX0tJ3IabWSX"
      },
      "source": [
        "So we've got as many `X` values as we do `y` values, that makes sense.\n",
        "\n",
        "Let's check out one example of each."
      ]
    },
    {
      "cell_type": "code",
      "metadata": {
        "colab": {
          "base_uri": "https://localhost:8080/"
        },
        "id": "PwSoJjjZbYHf",
        "outputId": "9a2c77d9-3756-4ea6-da0d-11841e77f63e"
      },
      "source": [
        "# View the first example of features and labels\n",
        "X[0], y[0]"
      ],
      "execution_count": 43,
      "outputs": [
        {
          "output_type": "execute_result",
          "data": {
            "text/plain": [
              "(array([0.75424625, 0.23148074]), 1)"
            ]
          },
          "metadata": {},
          "execution_count": 43
        }
      ]
    },
    {
      "cell_type": "markdown",
      "metadata": {
        "id": "F8-53c9zdXNw"
      },
      "source": [
        "# Steps in modeling"
      ]
    },
    {
      "cell_type": "code",
      "metadata": {
        "colab": {
          "base_uri": "https://localhost:8080/"
        },
        "id": "49QXMbbWiGrl",
        "outputId": "e70843dc-ba72-4b8c-e55a-c719ec40e190"
      },
      "source": [
        "tf.random.set_seed(42)\n",
        "\n",
        "model = tf.keras.Sequential([\n",
        "  tf.keras.layers.Dense(100),\n",
        "  tf.keras.layers.Dense(10),\n",
        "  tf.keras.layers.Dense(1)\n",
        "\n",
        "])\n",
        "\n",
        "model.compile(loss=tf.keras.losses.binary_crossentropy,\n",
        "                          optimizer=tf.keras.optimizers.SGD(),\n",
        "                          metrics=[\"accuracy\"])\n",
        "\n",
        "history = model.fit(X, y, epochs=50)"
      ],
      "execution_count": 44,
      "outputs": [
        {
          "output_type": "stream",
          "name": "stdout",
          "text": [
            "Epoch 1/50\n",
            "32/32 [==============================] - 1s 1ms/step - loss: 1.0162 - accuracy: 0.4800\n",
            "Epoch 2/50\n",
            "32/32 [==============================] - 0s 2ms/step - loss: 0.6972 - accuracy: 0.5010\n",
            "Epoch 3/50\n",
            "32/32 [==============================] - 0s 1ms/step - loss: 0.7019 - accuracy: 0.4750\n",
            "Epoch 4/50\n",
            "32/32 [==============================] - 0s 2ms/step - loss: 0.6979 - accuracy: 0.4940\n",
            "Epoch 5/50\n",
            "32/32 [==============================] - 0s 1ms/step - loss: 0.6964 - accuracy: 0.5030\n",
            "Epoch 6/50\n",
            "32/32 [==============================] - 0s 2ms/step - loss: 0.6963 - accuracy: 0.5240\n",
            "Epoch 7/50\n",
            "32/32 [==============================] - 0s 2ms/step - loss: 0.6992 - accuracy: 0.4930\n",
            "Epoch 8/50\n",
            "32/32 [==============================] - 0s 2ms/step - loss: 0.6970 - accuracy: 0.5160\n",
            "Epoch 9/50\n",
            "32/32 [==============================] - 0s 2ms/step - loss: 0.6991 - accuracy: 0.4840\n",
            "Epoch 10/50\n",
            "32/32 [==============================] - 0s 2ms/step - loss: 0.6964 - accuracy: 0.4680\n",
            "Epoch 11/50\n",
            "32/32 [==============================] - 0s 1ms/step - loss: 0.6992 - accuracy: 0.4870\n",
            "Epoch 12/50\n",
            "32/32 [==============================] - 0s 2ms/step - loss: 0.6995 - accuracy: 0.5010\n",
            "Epoch 13/50\n",
            "32/32 [==============================] - 0s 1ms/step - loss: 0.7008 - accuracy: 0.4790\n",
            "Epoch 14/50\n",
            "32/32 [==============================] - 0s 2ms/step - loss: 0.6998 - accuracy: 0.4970\n",
            "Epoch 15/50\n",
            "32/32 [==============================] - 0s 1ms/step - loss: 0.6981 - accuracy: 0.4860\n",
            "Epoch 16/50\n",
            "32/32 [==============================] - 0s 1ms/step - loss: 0.7010 - accuracy: 0.4740\n",
            "Epoch 17/50\n",
            "32/32 [==============================] - 0s 2ms/step - loss: 0.6968 - accuracy: 0.5020\n",
            "Epoch 18/50\n",
            "32/32 [==============================] - 0s 2ms/step - loss: 0.6971 - accuracy: 0.5000\n",
            "Epoch 19/50\n",
            "32/32 [==============================] - 0s 2ms/step - loss: 0.6975 - accuracy: 0.4920\n",
            "Epoch 20/50\n",
            "32/32 [==============================] - 0s 1ms/step - loss: 0.6975 - accuracy: 0.4920\n",
            "Epoch 21/50\n",
            "32/32 [==============================] - 0s 1ms/step - loss: 0.6960 - accuracy: 0.5050\n",
            "Epoch 22/50\n",
            "32/32 [==============================] - 0s 1ms/step - loss: 0.6986 - accuracy: 0.4550\n",
            "Epoch 23/50\n",
            "32/32 [==============================] - 0s 1ms/step - loss: 0.6975 - accuracy: 0.4740\n",
            "Epoch 24/50\n",
            "32/32 [==============================] - 0s 2ms/step - loss: 0.6981 - accuracy: 0.5020\n",
            "Epoch 25/50\n",
            "32/32 [==============================] - 0s 1ms/step - loss: 0.6947 - accuracy: 0.5060\n",
            "Epoch 26/50\n",
            "32/32 [==============================] - 0s 2ms/step - loss: 0.6994 - accuracy: 0.4740\n",
            "Epoch 27/50\n",
            "32/32 [==============================] - 0s 2ms/step - loss: 0.6956 - accuracy: 0.5170\n",
            "Epoch 28/50\n",
            "32/32 [==============================] - 0s 2ms/step - loss: 0.6999 - accuracy: 0.4680\n",
            "Epoch 29/50\n",
            "32/32 [==============================] - 0s 2ms/step - loss: 0.6969 - accuracy: 0.5100\n",
            "Epoch 30/50\n",
            "32/32 [==============================] - 0s 2ms/step - loss: 0.6976 - accuracy: 0.4970\n",
            "Epoch 31/50\n",
            "32/32 [==============================] - 0s 1ms/step - loss: 0.6976 - accuracy: 0.5130\n",
            "Epoch 32/50\n",
            "32/32 [==============================] - 0s 2ms/step - loss: 0.6973 - accuracy: 0.4790\n",
            "Epoch 33/50\n",
            "32/32 [==============================] - 0s 2ms/step - loss: 0.6982 - accuracy: 0.4820\n",
            "Epoch 34/50\n",
            "32/32 [==============================] - 0s 1ms/step - loss: 0.6991 - accuracy: 0.4970\n",
            "Epoch 35/50\n",
            "32/32 [==============================] - 0s 1ms/step - loss: 0.6972 - accuracy: 0.5100\n",
            "Epoch 36/50\n",
            "32/32 [==============================] - 0s 2ms/step - loss: 0.6998 - accuracy: 0.4620\n",
            "Epoch 37/50\n",
            "32/32 [==============================] - 0s 2ms/step - loss: 0.6977 - accuracy: 0.4740\n",
            "Epoch 38/50\n",
            "32/32 [==============================] - 0s 2ms/step - loss: 0.6964 - accuracy: 0.4970\n",
            "Epoch 39/50\n",
            "32/32 [==============================] - 0s 2ms/step - loss: 0.6983 - accuracy: 0.4570\n",
            "Epoch 40/50\n",
            "32/32 [==============================] - 0s 1ms/step - loss: 0.7017 - accuracy: 0.4710\n",
            "Epoch 41/50\n",
            "32/32 [==============================] - 0s 1ms/step - loss: 0.6967 - accuracy: 0.4790\n",
            "Epoch 42/50\n",
            "32/32 [==============================] - 0s 1ms/step - loss: 0.6961 - accuracy: 0.4940\n",
            "Epoch 43/50\n",
            "32/32 [==============================] - 0s 1ms/step - loss: 0.6985 - accuracy: 0.4900\n",
            "Epoch 44/50\n",
            "32/32 [==============================] - 0s 1ms/step - loss: 0.6945 - accuracy: 0.5170\n",
            "Epoch 45/50\n",
            "32/32 [==============================] - 0s 2ms/step - loss: 0.6992 - accuracy: 0.4960\n",
            "Epoch 46/50\n",
            "32/32 [==============================] - 0s 2ms/step - loss: 0.6982 - accuracy: 0.4690\n",
            "Epoch 47/50\n",
            "32/32 [==============================] - 0s 2ms/step - loss: 0.6948 - accuracy: 0.5130\n",
            "Epoch 48/50\n",
            "32/32 [==============================] - 0s 1ms/step - loss: 0.6954 - accuracy: 0.4950\n",
            "Epoch 49/50\n",
            "32/32 [==============================] - 0s 2ms/step - loss: 0.6979 - accuracy: 0.4710\n",
            "Epoch 50/50\n",
            "32/32 [==============================] - 0s 2ms/step - loss: 0.6978 - accuracy: 0.4890\n"
          ]
        }
      ]
    },
    {
      "cell_type": "code",
      "metadata": {
        "colab": {
          "base_uri": "https://localhost:8080/"
        },
        "id": "EAKUGIJspwYB",
        "outputId": "b74aa6e0-191c-4067-c47f-2e5f85acf3cd"
      },
      "source": [
        "# Improving our model\n",
        "tf.random.set_seed(42)\n",
        "\n",
        "model_3 = tf.keras.Sequential([\n",
        "  # tf.keras.layers.Dense(100, activation=\"relu\"), # wtih relu we get the right prediction\n",
        "  # tf.keras.layers.Dense(100),\n",
        "  tf.keras.layers.Dense(10),\n",
        "  tf.keras.layers.Dense(1)\n",
        "\n",
        "])\n",
        "\n",
        "model_3.compile(loss=tf.keras.losses.binary_crossentropy,\n",
        "                          optimizer=tf.keras.optimizers.SGD(),\n",
        "                          metrics=[\"accuracy\"])\n",
        "\n",
        "history = model_3.fit(X, y, epochs=50)"
      ],
      "execution_count": 63,
      "outputs": [
        {
          "output_type": "stream",
          "name": "stdout",
          "text": [
            "Epoch 1/50\n",
            "32/32 [==============================] - 0s 1ms/step - loss: 1.8689 - accuracy: 0.4700\n",
            "Epoch 2/50\n",
            "32/32 [==============================] - 0s 1ms/step - loss: 0.6977 - accuracy: 0.5040\n",
            "Epoch 3/50\n",
            "32/32 [==============================] - 0s 1ms/step - loss: 0.6968 - accuracy: 0.4660\n",
            "Epoch 4/50\n",
            "32/32 [==============================] - 0s 1ms/step - loss: 0.6952 - accuracy: 0.4850\n",
            "Epoch 5/50\n",
            "32/32 [==============================] - 0s 2ms/step - loss: 0.6949 - accuracy: 0.4740\n",
            "Epoch 6/50\n",
            "32/32 [==============================] - 0s 1ms/step - loss: 0.6941 - accuracy: 0.5230\n",
            "Epoch 7/50\n",
            "32/32 [==============================] - 0s 2ms/step - loss: 0.6962 - accuracy: 0.4780\n",
            "Epoch 8/50\n",
            "32/32 [==============================] - 0s 2ms/step - loss: 0.6952 - accuracy: 0.4940\n",
            "Epoch 9/50\n",
            "32/32 [==============================] - 0s 2ms/step - loss: 0.6956 - accuracy: 0.4860\n",
            "Epoch 10/50\n",
            "32/32 [==============================] - 0s 2ms/step - loss: 0.6946 - accuracy: 0.4840\n",
            "Epoch 11/50\n",
            "32/32 [==============================] - 0s 1ms/step - loss: 0.6963 - accuracy: 0.4610\n",
            "Epoch 12/50\n",
            "32/32 [==============================] - 0s 1ms/step - loss: 0.6963 - accuracy: 0.4970\n",
            "Epoch 13/50\n",
            "32/32 [==============================] - 0s 1ms/step - loss: 0.6963 - accuracy: 0.4750\n",
            "Epoch 14/50\n",
            "32/32 [==============================] - 0s 2ms/step - loss: 0.6963 - accuracy: 0.4900\n",
            "Epoch 15/50\n",
            "32/32 [==============================] - 0s 2ms/step - loss: 0.6954 - accuracy: 0.4630\n",
            "Epoch 16/50\n",
            "32/32 [==============================] - 0s 2ms/step - loss: 0.6964 - accuracy: 0.4920\n",
            "Epoch 17/50\n",
            "32/32 [==============================] - 0s 1ms/step - loss: 0.6952 - accuracy: 0.5030\n",
            "Epoch 18/50\n",
            "32/32 [==============================] - 0s 2ms/step - loss: 0.6951 - accuracy: 0.4940\n",
            "Epoch 19/50\n",
            "32/32 [==============================] - 0s 1ms/step - loss: 0.6952 - accuracy: 0.5010\n",
            "Epoch 20/50\n",
            "32/32 [==============================] - 0s 2ms/step - loss: 0.6953 - accuracy: 0.4700\n",
            "Epoch 21/50\n",
            "32/32 [==============================] - 0s 1ms/step - loss: 0.6945 - accuracy: 0.4880\n",
            "Epoch 22/50\n",
            "32/32 [==============================] - 0s 2ms/step - loss: 0.6957 - accuracy: 0.4800\n",
            "Epoch 23/50\n",
            "32/32 [==============================] - 0s 1ms/step - loss: 0.6951 - accuracy: 0.4810\n",
            "Epoch 24/50\n",
            "32/32 [==============================] - 0s 1ms/step - loss: 0.6955 - accuracy: 0.4760\n",
            "Epoch 25/50\n",
            "32/32 [==============================] - 0s 1ms/step - loss: 0.6946 - accuracy: 0.4900\n",
            "Epoch 26/50\n",
            "32/32 [==============================] - 0s 2ms/step - loss: 0.6960 - accuracy: 0.4720\n",
            "Epoch 27/50\n",
            "32/32 [==============================] - 0s 1ms/step - loss: 0.6941 - accuracy: 0.4980\n",
            "Epoch 28/50\n",
            "32/32 [==============================] - 0s 2ms/step - loss: 0.6964 - accuracy: 0.4560\n",
            "Epoch 29/50\n",
            "32/32 [==============================] - 0s 2ms/step - loss: 0.6953 - accuracy: 0.4770\n",
            "Epoch 30/50\n",
            "32/32 [==============================] - 0s 2ms/step - loss: 0.6953 - accuracy: 0.4940\n",
            "Epoch 31/50\n",
            "32/32 [==============================] - 0s 1ms/step - loss: 0.6955 - accuracy: 0.5120\n",
            "Epoch 32/50\n",
            "32/32 [==============================] - 0s 1ms/step - loss: 0.6951 - accuracy: 0.4970\n",
            "Epoch 33/50\n",
            "32/32 [==============================] - 0s 1ms/step - loss: 0.6955 - accuracy: 0.4640\n",
            "Epoch 34/50\n",
            "32/32 [==============================] - 0s 1ms/step - loss: 0.6963 - accuracy: 0.4690\n",
            "Epoch 35/50\n",
            "32/32 [==============================] - 0s 1ms/step - loss: 0.6952 - accuracy: 0.5180\n",
            "Epoch 36/50\n",
            "32/32 [==============================] - 0s 1ms/step - loss: 0.6961 - accuracy: 0.4720\n",
            "Epoch 37/50\n",
            "32/32 [==============================] - 0s 1ms/step - loss: 0.6953 - accuracy: 0.4900\n",
            "Epoch 38/50\n",
            "32/32 [==============================] - 0s 1ms/step - loss: 0.6950 - accuracy: 0.4790\n",
            "Epoch 39/50\n",
            "32/32 [==============================] - 0s 2ms/step - loss: 0.6955 - accuracy: 0.4410\n",
            "Epoch 40/50\n",
            "32/32 [==============================] - 0s 1ms/step - loss: 0.6971 - accuracy: 0.4710\n",
            "Epoch 41/50\n",
            "32/32 [==============================] - 0s 2ms/step - loss: 0.6951 - accuracy: 0.4980\n",
            "Epoch 42/50\n",
            "32/32 [==============================] - 0s 1ms/step - loss: 0.6951 - accuracy: 0.4710\n",
            "Epoch 43/50\n",
            "32/32 [==============================] - 0s 2ms/step - loss: 0.6957 - accuracy: 0.4850\n",
            "Epoch 44/50\n",
            "32/32 [==============================] - 0s 1ms/step - loss: 0.6935 - accuracy: 0.5120\n",
            "Epoch 45/50\n",
            "32/32 [==============================] - 0s 1ms/step - loss: 0.6966 - accuracy: 0.4850\n",
            "Epoch 46/50\n",
            "32/32 [==============================] - 0s 2ms/step - loss: 0.6957 - accuracy: 0.4660\n",
            "Epoch 47/50\n",
            "32/32 [==============================] - 0s 1ms/step - loss: 0.6943 - accuracy: 0.5190\n",
            "Epoch 48/50\n",
            "32/32 [==============================] - 0s 1ms/step - loss: 0.6947 - accuracy: 0.4940\n",
            "Epoch 49/50\n",
            "32/32 [==============================] - 0s 1ms/step - loss: 0.6954 - accuracy: 0.4730\n",
            "Epoch 50/50\n",
            "32/32 [==============================] - 0s 1ms/step - loss: 0.6953 - accuracy: 0.4970\n"
          ]
        }
      ]
    },
    {
      "cell_type": "markdown",
      "metadata": {
        "id": "IaO5wVpJsfW9"
      },
      "source": [
        "# Let's create a function to visualize our model predictions\n",
        "\n",
        "* Take in a trained model, features (X) and labels (y)\n",
        "* Create a meshgrid of the different X values\n",
        "* Make predictions across meshgrid\n",
        "* Plot the predictions as well as a line between zones (where each unique class falls)"
      ]
    },
    {
      "cell_type": "code",
      "metadata": {
        "id": "t6dSoBihd7u0"
      },
      "source": [
        "def plot_decision_boundary(model, X, y):\n",
        "  \"\"\"\n",
        "  Plots decision boundary created by a model predicting on X.\n",
        "  \"\"\"\n",
        "  # Define the axis boundaries of the plot and create a meshgrid\n",
        "  x_min, x_max = X[:, 0].min() - 0.1, X[:, 0].max() + 0.1\n",
        "  y_min, y_max = X[:, 1].min() - 0.1, X[:, 1].max() + 0.1\n",
        "\n",
        "  xx, yy = np.meshgrid(np.linspace(x_min, x_max, 100),\n",
        "                       np.linspace(y_min, y_max, 100))\n",
        "  \n",
        "  # Create X values (we're going to make predictions on these)\n",
        "  X_in = np.c_[xx.ravel(), yy.ravel()] # stack 2D arrays together\n",
        "\n",
        "  # Make predictions\n",
        "  y_pred = model.predict(X_in)\n",
        "\n",
        "  # Check for multi-class\n",
        "  if len(y_pred[0]) > 1:\n",
        "    print(\"Doing multi-class classification\")\n",
        "    # We have to reshape our predictions to get them ready for plotting\n",
        "    y_pred = np.argmax(y_pred, axis=1).reshape(xx.shape)\n",
        "  else:\n",
        "    print(\"Doing binary classification\")\n",
        "    y_pred = np.round(y_pred).reshape(xx.shape)\n",
        "\n",
        "  # Plot the decision boundary\n",
        "  plt.contourf(xx, yy, y_pred, cmap=plt.cm.RdYlBu, alpha=0.7)\n",
        "  plt.scatter(X[:, 0], X[:, 1], c=y, s=40, cmap=plt.cm.RdYlBu)\n",
        "  plt.xlim(xx.min(), xx.max())\n",
        "  plt.ylim(yy.min(), yy.max())"
      ],
      "execution_count": 64,
      "outputs": []
    },
    {
      "cell_type": "code",
      "metadata": {
        "colab": {
          "base_uri": "https://localhost:8080/",
          "height": 282
        },
        "id": "UN9yLpCr_Q6I",
        "outputId": "edc263f8-d25e-4691-f8c0-c8dfab77488f"
      },
      "source": [
        "# Check out the predictions our model is making\n",
        "plot_decision_boundary(model=model_3, X=X, y=y)"
      ],
      "execution_count": 65,
      "outputs": [
        {
          "output_type": "stream",
          "name": "stdout",
          "text": [
            "Doing binary classification\n"
          ]
        },
        {
          "output_type": "display_data",
          "data": {
            "image/png": "[encoded data removed]",
            "text/plain": [
              "<Figure size 432x288 with 1 Axes>"
            ]
          },
          "metadata": {
            "needs_background": "light"
          }
        }
      ]
    },
    {
      "cell_type": "code",
      "metadata": {
        "colab": {
          "base_uri": "https://localhost:8080/"
        },
        "id": "Jlxm8Wbo1Fq_",
        "outputId": "48950fd9-32e1-4f63-8702-efb900804bed"
      },
      "source": [
        " X[:, 0].min() # - 0.1"
      ],
      "execution_count": 66,
      "outputs": [
        {
          "output_type": "execute_result",
          "data": {
            "text/plain": [
              "-1.0595024599098635"
            ]
          },
          "metadata": {},
          "execution_count": 66
        }
      ]
    },
    {
      "cell_type": "code",
      "metadata": {
        "colab": {
          "base_uri": "https://localhost:8080/"
        },
        "id": "xD6OFGZQ1GDk",
        "outputId": "cb43ab19-f687-4897-d879-13598ba5fd35"
      },
      "source": [
        "X[:, 0].max() + 0.1"
      ],
      "execution_count": 67,
      "outputs": [
        {
          "output_type": "execute_result",
          "data": {
            "text/plain": [
              "1.1337117525463374"
            ]
          },
          "metadata": {},
          "execution_count": 67
        }
      ]
    },
    {
      "cell_type": "code",
      "metadata": {
        "colab": {
          "base_uri": "https://localhost:8080/"
        },
        "id": "NfrEOIna1Mmh",
        "outputId": "f9845b6d-abaa-4ea5-97aa-0e9736cfb057"
      },
      "source": [
        "X"
      ],
      "execution_count": 68,
      "outputs": [
        {
          "output_type": "execute_result",
          "data": {
            "text/plain": [
              "array([[ 0.75424625,  0.23148074],\n",
              "       [-0.75615888,  0.15325888],\n",
              "       [-0.81539193,  0.17328203],\n",
              "       ...,\n",
              "       [-0.13690036, -0.81001183],\n",
              "       [ 0.67036156, -0.76750154],\n",
              "       [ 0.28105665,  0.96382443]])"
            ]
          },
          "metadata": {},
          "execution_count": 68
        }
      ]
    },
    {
      "cell_type": "code",
      "metadata": {
        "colab": {
          "base_uri": "https://localhost:8080/"
        },
        "id": "lEG9xVfq3-HG",
        "outputId": "31506903-6e1a-4c8c-d156-b402319aa937"
      },
      "source": [
        "x_min, x_max = X[:, 0].min() - 0.1, X[:, 0].max() + 0.1\n",
        "y_min, y_max = X[:, 1].min() - 0.1, X[:, 1].max() + 0.1\n",
        "\n",
        "xx, yy = np.meshgrid(np.linspace(x_min, x_max, 100),\n",
        "                       np.linspace(y_min, y_max, 100))\n",
        "\n",
        "len(xx)\n",
        "X_in = np.c_[xx.ravel(), yy.ravel()]\n",
        "len(X_in)\n",
        "\n",
        "xx.shape"
      ],
      "execution_count": 69,
      "outputs": [
        {
          "output_type": "execute_result",
          "data": {
            "text/plain": [
              "(100, 100)"
            ]
          },
          "metadata": {},
          "execution_count": 69
        }
      ]
    },
    {
      "cell_type": "code",
      "metadata": {
        "id": "dqzT4HW742mf"
      },
      "source": [
        ""
      ],
      "execution_count": 69,
      "outputs": []
    }
  ]
}