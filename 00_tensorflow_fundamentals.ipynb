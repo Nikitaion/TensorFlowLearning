{
  "nbformat": 4,
  "nbformat_minor": 0,
  "metadata": {
    "colab": {
      "name": "00_tensorflow_fundamentals.ipynb",
      "provenance": [],
      "collapsed_sections": [],
      "authorship_tag": "ABX9TyMTcf0Cu25FhPLU432c9Ztf",
      "include_colab_link": true
    },
    "kernelspec": {
      "name": "python3",
      "display_name": "Python 3"
    },
    "language_info": {
      "name": "python"
    },
    "accelerator": "GPU"
  },
  "cells": [
    {
      "cell_type": "markdown",
      "metadata": {
        "id": "view-in-github",
        "colab_type": "text"
      },
      "source": [
        "<a href=\"https://colab.research.google.com/github/Nikitaion/TensorFlowLearning/blob/main/00_tensorflow_fundamentals.ipynb\" target=\"_parent\"><img src=\"https://colab.research.google.com/assets/colab-badge.svg\" alt=\"Open In Colab\"/></a>"
      ]
    },
    {
      "cell_type": "markdown",
      "metadata": {
        "id": "Jylb_IK7OihX"
      },
      "source": [
        "## Introduction to Tensors"
      ]
    },
    {
      "cell_type": "code",
      "metadata": {
        "id": "hvSena7nPoYu",
        "colab": {
          "base_uri": "https://localhost:8080/"
        },
        "outputId": "e710c6aa-e4f1-41ce-facf-a23fa1a512dd"
      },
      "source": [
        "import tensorflow as tf\n",
        "import tensorflow_probability as tfp\n",
        "import numpy as np\n",
        "print(\"TensorFlow version: \" + tf.__version__)\n",
        "print(\"\\nIs GPU Enabled:\")\n",
        "!nvidia-smi"
      ],
      "execution_count": null,
      "outputs": [
        {
          "output_type": "stream",
          "name": "stdout",
          "text": [
            "TensorFlow version: 2.6.0\n",
            "\n",
            "Is GPU Enabled:\n",
            "Fri Nov  5 09:49:52 2021       \n",
            "+-----------------------------------------------------------------------------+\n",
            "| NVIDIA-SMI 495.44       Driver Version: 460.32.03    CUDA Version: 11.2     |\n",
            "|-------------------------------+----------------------+----------------------+\n",
            "| GPU  Name        Persistence-M| Bus-Id        Disp.A | Volatile Uncorr. ECC |\n",
            "| Fan  Temp  Perf  Pwr:Usage/Cap|         Memory-Usage | GPU-Util  Compute M. |\n",
            "|                               |                      |               MIG M. |\n",
            "|===============================+======================+======================|\n",
            "|   0  Tesla K80           Off  | 00000000:00:04.0 Off |                    0 |\n",
            "| N/A   35C    P8    28W / 149W |      0MiB / 11441MiB |      0%      Default |\n",
            "|                               |                      |                  N/A |\n",
            "+-------------------------------+----------------------+----------------------+\n",
            "                                                                               \n",
            "+-----------------------------------------------------------------------------+\n",
            "| Processes:                                                                  |\n",
            "|  GPU   GI   CI        PID   Type   Process name                  GPU Memory |\n",
            "|        ID   ID                                                   Usage      |\n",
            "|=============================================================================|\n",
            "|  No running processes found                                                 |\n",
            "+-----------------------------------------------------------------------------+\n"
          ]
        }
      ]
    },
    {
      "cell_type": "code",
      "metadata": {
        "colab": {
          "base_uri": "https://localhost:8080/"
        },
        "id": "SHbvGgT3QcoY",
        "outputId": "39e4ad88-dd79-4a8b-8a20-1598b96ffe7b"
      },
      "source": [
        "# Create tensors with tf.constant()\n",
        "scalar = tf.constant(7)\n",
        "scalar"
      ],
      "execution_count": null,
      "outputs": [
        {
          "output_type": "execute_result",
          "data": {
            "text/plain": [
              "<tf.Tensor: shape=(), dtype=int32, numpy=7>"
            ]
          },
          "metadata": {},
          "execution_count": 3
        }
      ]
    },
    {
      "cell_type": "code",
      "metadata": {
        "colab": {
          "base_uri": "https://localhost:8080/"
        },
        "id": "3W0RrePrQ_YX",
        "outputId": "c724283c-7be0-4c8d-e453-ec2597b196ae"
      },
      "source": [
        "# Check the number of dimensions of the tensor (ndim stands for number of dimensions)\n",
        "scalar.ndim"
      ],
      "execution_count": null,
      "outputs": [
        {
          "output_type": "execute_result",
          "data": {
            "text/plain": [
              "0"
            ]
          },
          "metadata": {},
          "execution_count": 4
        }
      ]
    },
    {
      "cell_type": "code",
      "metadata": {
        "colab": {
          "base_uri": "https://localhost:8080/"
        },
        "id": "Dqb97spwSzAn",
        "outputId": "2e2a45aa-251f-46c1-e714-3bd10d7abbdb"
      },
      "source": [
        "# Create a vector\n",
        "vector = tf.constant([10,10])\n",
        "vector"
      ],
      "execution_count": null,
      "outputs": [
        {
          "output_type": "execute_result",
          "data": {
            "text/plain": [
              "<tf.Tensor: shape=(2,), dtype=int32, numpy=array([10, 10], dtype=int32)>"
            ]
          },
          "metadata": {},
          "execution_count": 5
        }
      ]
    },
    {
      "cell_type": "code",
      "metadata": {
        "colab": {
          "base_uri": "https://localhost:8080/"
        },
        "id": "G5cWaZHWThxS",
        "outputId": "efacad0a-7c3b-4293-9177-8592fd0d296c"
      },
      "source": [
        "# Check the dimension of our vector\n",
        "vector.ndim"
      ],
      "execution_count": null,
      "outputs": [
        {
          "output_type": "execute_result",
          "data": {
            "text/plain": [
              "1"
            ]
          },
          "metadata": {},
          "execution_count": 6
        }
      ]
    },
    {
      "cell_type": "code",
      "metadata": {
        "colab": {
          "base_uri": "https://localhost:8080/"
        },
        "id": "zMRpxwBET6MG",
        "outputId": "85e09993-2563-4f3d-8f25-ca23160cd74c"
      },
      "source": [
        "# Create a matrix\n",
        "matrix = tf.constant([[10,7],\n",
        "                      [7, 10]])\n",
        "matrix"
      ],
      "execution_count": null,
      "outputs": [
        {
          "output_type": "execute_result",
          "data": {
            "text/plain": [
              "<tf.Tensor: shape=(2, 2), dtype=int32, numpy=\n",
              "array([[10,  7],\n",
              "       [ 7, 10]], dtype=int32)>"
            ]
          },
          "metadata": {},
          "execution_count": 7
        }
      ]
    },
    {
      "cell_type": "code",
      "metadata": {
        "colab": {
          "base_uri": "https://localhost:8080/"
        },
        "id": "ZescqUshVbjI",
        "outputId": "3f57d1db-db6d-42aa-c11e-9a6f77732801"
      },
      "source": [
        "matrix.ndim"
      ],
      "execution_count": null,
      "outputs": [
        {
          "output_type": "execute_result",
          "data": {
            "text/plain": [
              "2"
            ]
          },
          "metadata": {},
          "execution_count": 8
        }
      ]
    },
    {
      "cell_type": "code",
      "metadata": {
        "colab": {
          "base_uri": "https://localhost:8080/"
        },
        "id": "9PW9sj65Vdhe",
        "outputId": "076a44a6-01f0-4c8e-fd08-1ba5bc5aad6e"
      },
      "source": [
        "# Create matrix with another datatype\n",
        "another_matrix = tf.constant([[10.,7.],\n",
        "                              [7., 10.],\n",
        "                              [12.,23.]], dtype = tf.float16) # specify datatype with dtype\n",
        "another_matrix"
      ],
      "execution_count": null,
      "outputs": [
        {
          "output_type": "execute_result",
          "data": {
            "text/plain": [
              "<tf.Tensor: shape=(3, 2), dtype=float16, numpy=\n",
              "array([[10.,  7.],\n",
              "       [ 7., 10.],\n",
              "       [12., 23.]], dtype=float16)>"
            ]
          },
          "metadata": {},
          "execution_count": 9
        }
      ]
    },
    {
      "cell_type": "code",
      "metadata": {
        "colab": {
          "base_uri": "https://localhost:8080/"
        },
        "id": "_e7pkXS1V28M",
        "outputId": "d81f1a2a-b276-41a7-f34f-e64f7972df20"
      },
      "source": [
        "another_matrix.ndim"
      ],
      "execution_count": null,
      "outputs": [
        {
          "output_type": "execute_result",
          "data": {
            "text/plain": [
              "2"
            ]
          },
          "metadata": {},
          "execution_count": 10
        }
      ]
    },
    {
      "cell_type": "code",
      "metadata": {
        "colab": {
          "base_uri": "https://localhost:8080/"
        },
        "id": "WM5D74NHXAew",
        "outputId": "8e16c6d8-6866-4110-a420-bd6c81b514ca"
      },
      "source": [
        "# Let's create a tensor\n",
        "tensor = tf.constant([[[5, 6, 7], [4, 2, 8]], \n",
        "                      [[12, 41, 2], [9, 6 , 4]],\n",
        "                      [[12, 2, 4], [ 4, 13, 4]]])\n",
        "tensor"
      ],
      "execution_count": null,
      "outputs": [
        {
          "output_type": "execute_result",
          "data": {
            "text/plain": [
              "<tf.Tensor: shape=(3, 2, 3), dtype=int32, numpy=\n",
              "array([[[ 5,  6,  7],\n",
              "        [ 4,  2,  8]],\n",
              "\n",
              "       [[12, 41,  2],\n",
              "        [ 9,  6,  4]],\n",
              "\n",
              "       [[12,  2,  4],\n",
              "        [ 4, 13,  4]]], dtype=int32)>"
            ]
          },
          "metadata": {},
          "execution_count": 11
        }
      ]
    },
    {
      "cell_type": "code",
      "metadata": {
        "colab": {
          "base_uri": "https://localhost:8080/"
        },
        "id": "Jw6clBITYX13",
        "outputId": "c86f5d75-681f-4e31-ecde-a0c917bd07d1"
      },
      "source": [
        "tensor.ndim"
      ],
      "execution_count": null,
      "outputs": [
        {
          "output_type": "execute_result",
          "data": {
            "text/plain": [
              "3"
            ]
          },
          "metadata": {},
          "execution_count": 12
        }
      ]
    },
    {
      "cell_type": "markdown",
      "metadata": {
        "id": "8aF0rx9mYZtM"
      },
      "source": [
        "# What we have created so far\n",
        "* Scalar - single number\n",
        "* Vector - number with direction (e.g. wind speed and direction)\n",
        "* Matrix - 2-dimensional array of numbers\n",
        "* Tensor - n-dimentional array of numbers (when n can be any number, a 0-dimensional tensor is a scalar, a 1-dimensional tensor is a Vector...)"
      ]
    },
    {
      "cell_type": "markdown",
      "metadata": {
        "id": "EbDSXXfHZ021"
      },
      "source": [
        "### Creating Tensors with a `tf.Variable`"
      ]
    },
    {
      "cell_type": "code",
      "metadata": {
        "colab": {
          "base_uri": "https://localhost:8080/"
        },
        "id": "rJlIsadTdzZ4",
        "outputId": "680d9617-afbd-4231-9e74-4018774787ba"
      },
      "source": [
        "# Create the same tensor with tf.Variable() as above\n",
        "changeable_tensor = tf.Variable([10, 7])\n",
        "unchangeable_tensor = tf.constant([10, 7])\n",
        "changeable_tensor, unchangeable_tensor"
      ],
      "execution_count": null,
      "outputs": [
        {
          "output_type": "execute_result",
          "data": {
            "text/plain": [
              "(<tf.Variable 'Variable:0' shape=(2,) dtype=int32, numpy=array([10,  7], dtype=int32)>,\n",
              " <tf.Tensor: shape=(2,), dtype=int32, numpy=array([10,  7], dtype=int32)>)"
            ]
          },
          "metadata": {},
          "execution_count": 13
        }
      ]
    },
    {
      "cell_type": "code",
      "metadata": {
        "id": "5YYB9XoCd2nC"
      },
      "source": [
        "# Let's try to change one element in changeable tensor\n",
        "changeable_tensor[0] = 7\n",
        "changeable_tensor"
      ],
      "execution_count": null,
      "outputs": []
    },
    {
      "cell_type": "code",
      "metadata": {
        "id": "PLNnn0a7guLu"
      },
      "source": [
        "# How about we try .assign()\n",
        "changeable_tensor[0].assign(7)\n",
        "changeable_tensor"
      ],
      "execution_count": null,
      "outputs": []
    },
    {
      "cell_type": "code",
      "metadata": {
        "id": "C7lB1t5hhELU"
      },
      "source": [
        "# Let's try to change one element in unchangeable_tensor\n",
        "unchangeable_tensor[0].assign(7)\n",
        "unchangeable_tensor"
      ],
      "execution_count": null,
      "outputs": []
    },
    {
      "cell_type": "markdown",
      "metadata": {
        "id": "xD4ySv23hQn4"
      },
      "source": [
        "### Creating random tensors\n",
        "Random tensors are tensors with some arbitrary size which contain random numbers."
      ]
    },
    {
      "cell_type": "code",
      "metadata": {
        "colab": {
          "base_uri": "https://localhost:8080/"
        },
        "id": "DIFo5DApj-io",
        "outputId": "972e8bd4-b951-4d7e-f707-959ebf9bc4bd"
      },
      "source": [
        "# Create 2 random (but the same) tensors\n",
        "random1 = tf.random.Generator.from_seed(42) # set seed for reproducibility\n",
        "random2 = tf.random.Generator.from_seed(42)\n",
        "random1, random2"
      ],
      "execution_count": null,
      "outputs": [
        {
          "output_type": "execute_result",
          "data": {
            "text/plain": [
              "(<tensorflow.python.ops.stateful_random_ops.Generator at 0x7f72eb25d490>,\n",
              " <tensorflow.python.ops.stateful_random_ops.Generator at 0x7f72eb25dfd0>)"
            ]
          },
          "metadata": {},
          "execution_count": 5
        }
      ]
    },
    {
      "cell_type": "code",
      "metadata": {
        "colab": {
          "base_uri": "https://localhost:8080/"
        },
        "id": "mgRabCtjl9-1",
        "outputId": "47cd0646-0b67-421e-b648-2185addf0f3a"
      },
      "source": [
        "# Fill\n",
        "random1 = random1.normal(shape=(3,2))\n",
        "random2 = random2.normal(shape=(3,2))\n",
        "# Are they equal?\n",
        "random1, random2, random1 == random2\n",
        "# Yes - because seeds equal"
      ],
      "execution_count": null,
      "outputs": [
        {
          "output_type": "execute_result",
          "data": {
            "text/plain": [
              "(<tf.Tensor: shape=(3, 2), dtype=float32, numpy=\n",
              " array([[-0.7565803 , -0.06854702],\n",
              "        [ 0.07595026, -1.2573844 ],\n",
              "        [-0.23193763, -1.8107855 ]], dtype=float32)>,\n",
              " <tf.Tensor: shape=(3, 2), dtype=float32, numpy=\n",
              " array([[-0.7565803 , -0.06854702],\n",
              "        [ 0.07595026, -1.2573844 ],\n",
              "        [-0.23193763, -1.8107855 ]], dtype=float32)>,\n",
              " <tf.Tensor: shape=(3, 2), dtype=bool, numpy=\n",
              " array([[ True,  True],\n",
              "        [ True,  True],\n",
              "        [ True,  True]])>)"
            ]
          },
          "metadata": {},
          "execution_count": 6
        }
      ]
    },
    {
      "cell_type": "markdown",
      "metadata": {
        "id": "c-Bg0N_YmEed"
      },
      "source": [
        "### Shuffle the order of elements in a tensor\n"
      ]
    },
    {
      "cell_type": "code",
      "metadata": {
        "colab": {
          "base_uri": "https://localhost:8080/"
        },
        "id": "SGPJbZHIneTG",
        "outputId": "33ff56d8-d267-4342-90a5-dac2f895cebe"
      },
      "source": [
        "# Shuffle a tensor (valuable for when you want to shuffle your data. So the inherent order doesn't affect learning.)\n",
        "not_shuffled = tf.constant([[10, 7], \n",
        "                           [3, 4], \n",
        "                           [2, 5]])\n",
        "not_shuffled.ndim"
      ],
      "execution_count": null,
      "outputs": [
        {
          "output_type": "execute_result",
          "data": {
            "text/plain": [
              "2"
            ]
          },
          "metadata": {},
          "execution_count": 7
        }
      ]
    },
    {
      "cell_type": "code",
      "metadata": {
        "colab": {
          "base_uri": "https://localhost:8080/"
        },
        "id": "IMpmtAyqoWOa",
        "outputId": "dc4e5d4b-d9d5-4170-998d-351e3ebada3f"
      },
      "source": [
        "not_shuffled"
      ],
      "execution_count": null,
      "outputs": [
        {
          "output_type": "execute_result",
          "data": {
            "text/plain": [
              "<tf.Tensor: shape=(3, 2), dtype=int32, numpy=\n",
              "array([[10,  7],\n",
              "       [ 3,  4],\n",
              "       [ 2,  5]], dtype=int32)>"
            ]
          },
          "metadata": {},
          "execution_count": 8
        }
      ]
    },
    {
      "cell_type": "code",
      "metadata": {
        "colab": {
          "base_uri": "https://localhost:8080/"
        },
        "id": "UGtDWYtIoW43",
        "outputId": "14bee0de-b0a9-454d-b10d-85e7b9a3f5c8"
      },
      "source": [
        "# shuffle our not shuffled tensor\n",
        "tf.random.shuffle(not_shuffled)"
      ],
      "execution_count": null,
      "outputs": [
        {
          "output_type": "execute_result",
          "data": {
            "text/plain": [
              "<tf.Tensor: shape=(3, 2), dtype=int32, numpy=\n",
              "array([[10,  7],\n",
              "       [ 3,  4],\n",
              "       [ 2,  5]], dtype=int32)>"
            ]
          },
          "metadata": {},
          "execution_count": 9
        }
      ]
    },
    {
      "cell_type": "code",
      "metadata": {
        "id": "QX1uMXsGpTHk"
      },
      "source": [
        ""
      ],
      "execution_count": null,
      "outputs": []
    },
    {
      "cell_type": "code",
      "metadata": {
        "colab": {
          "base_uri": "https://localhost:8080/"
        },
        "id": "cHhFlNVKpgZz",
        "outputId": "81e3b2c3-df76-467f-e423-a08d3f49b86e"
      },
      "source": [
        "print(tf.random.uniform([1]))\n",
        "print(tf.random.uniform([1]))"
      ],
      "execution_count": null,
      "outputs": [
        {
          "output_type": "stream",
          "name": "stdout",
          "text": [
            "tf.Tensor([0.08029842], shape=(1,), dtype=float32)\n",
            "tf.Tensor([0.65728486], shape=(1,), dtype=float32)\n"
          ]
        }
      ]
    },
    {
      "cell_type": "code",
      "metadata": {
        "colab": {
          "base_uri": "https://localhost:8080/"
        },
        "id": "EJgQbT3Mpi-j",
        "outputId": "2f7aa410-591d-4dbb-ef23-000c27aeb0cf"
      },
      "source": [
        "tf.random.set_seed(42)\n",
        "print(tf.random.uniform([1]))\n",
        "print(tf.random.uniform([1]))\n",
        "print(tf.random.uniform([1]))"
      ],
      "execution_count": null,
      "outputs": [
        {
          "output_type": "stream",
          "name": "stdout",
          "text": [
            "tf.Tensor([0.6645621], shape=(1,), dtype=float32)\n",
            "tf.Tensor([0.68789124], shape=(1,), dtype=float32)\n",
            "tf.Tensor([0.7413678], shape=(1,), dtype=float32)\n"
          ]
        }
      ]
    },
    {
      "cell_type": "code",
      "metadata": {
        "colab": {
          "base_uri": "https://localhost:8080/"
        },
        "id": "IdDlJPpR-znq",
        "outputId": "0e9235c2-08a7-44ba-d4d1-e5aae1ca98af"
      },
      "source": [
        "tf.random.set_seed(42)\n",
        "print(tf.random.uniform([1]))\n",
        "print(tf.random.uniform([1]))\n",
        "print(tf.random.uniform([1]))"
      ],
      "execution_count": null,
      "outputs": [
        {
          "output_type": "stream",
          "name": "stdout",
          "text": [
            "tf.Tensor([0.6645621], shape=(1,), dtype=float32)\n",
            "tf.Tensor([0.68789124], shape=(1,), dtype=float32)\n",
            "tf.Tensor([0.7413678], shape=(1,), dtype=float32)\n"
          ]
        }
      ]
    },
    {
      "cell_type": "code",
      "metadata": {
        "colab": {
          "base_uri": "https://localhost:8080/"
        },
        "id": "haORkRls-1L6",
        "outputId": "5d6e34bd-0abe-4d97-fdd6-28e7d6ac6dbc"
      },
      "source": [
        "tf.random.set_seed(1234)\n",
        "\n",
        "@tf.function\n",
        "def f():\n",
        "  a = tf.random.uniform([1])\n",
        "  b = tf.random.uniform([1])\n",
        "  return a, b\n",
        "\n",
        "@tf.function\n",
        "def g():\n",
        "  в = tf.random.uniform([1])\n",
        "  с = tf.random.uniform([1])\n",
        "  return с, в\n",
        "\n",
        "print(f())  # prints '(A1, A2)'\n",
        "print(g())  # prints '(A1, A2)'"
      ],
      "execution_count": null,
      "outputs": [
        {
          "output_type": "stream",
          "name": "stdout",
          "text": [
            "(<tf.Tensor: shape=(1,), dtype=float32, numpy=array([0.13047123], dtype=float32)>, <tf.Tensor: shape=(1,), dtype=float32, numpy=array([0.1689806], dtype=float32)>)\n",
            "(<tf.Tensor: shape=(1,), dtype=float32, numpy=array([0.1689806], dtype=float32)>, <tf.Tensor: shape=(1,), dtype=float32, numpy=array([0.13047123], dtype=float32)>)\n"
          ]
        }
      ]
    },
    {
      "cell_type": "code",
      "metadata": {
        "colab": {
          "base_uri": "https://localhost:8080/"
        },
        "id": "ARDeMLcLCfKm",
        "outputId": "23d13dae-8bc5-4172-a08b-8369ab7e50f4"
      },
      "source": [
        "tf.random.set_seed(42)\n",
        "print(tf.random.uniform([1], seed=1))  \n",
        "print(tf.random.uniform([1], seed=1))"
      ],
      "execution_count": null,
      "outputs": [
        {
          "output_type": "stream",
          "name": "stdout",
          "text": [
            "tf.Tensor([0.15012848], shape=(1,), dtype=float32)\n",
            "tf.Tensor([0.11101711], shape=(1,), dtype=float32)\n"
          ]
        }
      ]
    },
    {
      "cell_type": "code",
      "metadata": {
        "colab": {
          "base_uri": "https://localhost:8080/"
        },
        "id": "L73q8y59Db6k",
        "outputId": "af5058aa-91ce-4896-9659-72ef7fc85578"
      },
      "source": [
        "tf.random.set_seed(42)\n",
        "print(tf.random.uniform([1], seed=1))  \n",
        "print(tf.random.uniform([1], seed=1))"
      ],
      "execution_count": null,
      "outputs": [
        {
          "output_type": "stream",
          "name": "stdout",
          "text": [
            "tf.Tensor([0.15012848], shape=(1,), dtype=float32)\n",
            "tf.Tensor([0.11101711], shape=(1,), dtype=float32)\n"
          ]
        }
      ]
    },
    {
      "cell_type": "code",
      "metadata": {
        "colab": {
          "base_uri": "https://localhost:8080/"
        },
        "id": "lexMDxrODcEu",
        "outputId": "1732bc01-240a-477e-8cad-e78966846547"
      },
      "source": [
        "tf.random.set_seed(42)\n",
        "print(tf.random.uniform([1], seed=1))  \n",
        "print(tf.random.uniform([1], seed=1))"
      ],
      "execution_count": null,
      "outputs": [
        {
          "output_type": "stream",
          "name": "stdout",
          "text": [
            "tf.Tensor([0.15012848], shape=(1,), dtype=float32)\n",
            "tf.Tensor([0.11101711], shape=(1,), dtype=float32)\n"
          ]
        }
      ]
    },
    {
      "cell_type": "code",
      "metadata": {
        "colab": {
          "base_uri": "https://localhost:8080/"
        },
        "id": "KsA_vMOLDcvV",
        "outputId": "759e6e7b-b150-4c49-fc6a-91ec98d05a17"
      },
      "source": [
        "@tf.function\n",
        "def foo():\n",
        "  a = tf.random.uniform([1], seed=1)\n",
        "  b = tf.random.uniform([1], seed=1)\n",
        "  return a, b\n",
        "print(foo())  # prints '(A1, A1)'\n",
        "print(foo())  # prints '(A2, A2)'\n",
        "\n",
        "@tf.function\n",
        "def bar():\n",
        "  a = tf.random.uniform([1])\n",
        "  b = tf.random.uniform([1])\n",
        "  return a, b\n",
        "print(bar())  # prints '(A1, A2)'\n",
        "print(bar())  # prints '(A3, A4)'"
      ],
      "execution_count": null,
      "outputs": [
        {
          "output_type": "stream",
          "name": "stdout",
          "text": [
            "(<tf.Tensor: shape=(1,), dtype=float32, numpy=array([0.15012848], dtype=float32)>, <tf.Tensor: shape=(1,), dtype=float32, numpy=array([0.15012848], dtype=float32)>)\n",
            "(<tf.Tensor: shape=(1,), dtype=float32, numpy=array([0.11101711], dtype=float32)>, <tf.Tensor: shape=(1,), dtype=float32, numpy=array([0.11101711], dtype=float32)>)\n",
            "(<tf.Tensor: shape=(1,), dtype=float32, numpy=array([0.8354591], dtype=float32)>, <tf.Tensor: shape=(1,), dtype=float32, numpy=array([0.15012848], dtype=float32)>)\n",
            "(<tf.Tensor: shape=(1,), dtype=float32, numpy=array([0.46399975], dtype=float32)>, <tf.Tensor: shape=(1,), dtype=float32, numpy=array([0.11101711], dtype=float32)>)\n"
          ]
        }
      ]
    },
    {
      "cell_type": "code",
      "metadata": {
        "colab": {
          "base_uri": "https://localhost:8080/"
        },
        "id": "LcO-ZvwOEGPO",
        "outputId": "a6af1efc-4128-4537-9a76-3a7988889ed8"
      },
      "source": [
        "tf.random.set_seed(42)\n",
        "@tf.function\n",
        "def foo():\n",
        "  a = tf.random.uniform([1], seed=1)\n",
        "  b = tf.random.uniform([1], seed=1)\n",
        "  return a, b\n",
        "print(foo())  # prints '(A1, A1)'\n",
        "print(foo())  # prints '(A2, A2)'\n",
        "\n",
        "print('bar')\n",
        "@tf.function\n",
        "def bar():\n",
        "  a = tf.random.uniform([1])\n",
        "  b = tf.random.uniform([1])\n",
        "  return a, b\n",
        "print(bar())  # prints '(A1, A2)'\n",
        "print(bar())  # prints '(A3, A4)'"
      ],
      "execution_count": null,
      "outputs": [
        {
          "output_type": "stream",
          "name": "stdout",
          "text": [
            "(<tf.Tensor: shape=(1,), dtype=float32, numpy=array([0.15012848], dtype=float32)>, <tf.Tensor: shape=(1,), dtype=float32, numpy=array([0.15012848], dtype=float32)>)\n",
            "(<tf.Tensor: shape=(1,), dtype=float32, numpy=array([0.11101711], dtype=float32)>, <tf.Tensor: shape=(1,), dtype=float32, numpy=array([0.11101711], dtype=float32)>)\n",
            "bar\n",
            "(<tf.Tensor: shape=(1,), dtype=float32, numpy=array([0.8354591], dtype=float32)>, <tf.Tensor: shape=(1,), dtype=float32, numpy=array([0.15012848], dtype=float32)>)\n",
            "(<tf.Tensor: shape=(1,), dtype=float32, numpy=array([0.46399975], dtype=float32)>, <tf.Tensor: shape=(1,), dtype=float32, numpy=array([0.11101711], dtype=float32)>)\n"
          ]
        }
      ]
    },
    {
      "cell_type": "markdown",
      "metadata": {
        "id": "eFR-2lCAEVyN"
      },
      "source": [
        "### Other ways to make tensors"
      ]
    },
    {
      "cell_type": "code",
      "metadata": {
        "colab": {
          "base_uri": "https://localhost:8080/"
        },
        "id": "vS1mUATFeZmH",
        "outputId": "f08fee45-78ed-4f88-bb5f-851c311140d3"
      },
      "source": [
        "# Create a tensor with all ones(1)\n",
        "tf.ones([10, 7])"
      ],
      "execution_count": null,
      "outputs": [
        {
          "output_type": "execute_result",
          "data": {
            "text/plain": [
              "<tf.Tensor: shape=(10, 7), dtype=float32, numpy=\n",
              "array([[1., 1., 1., 1., 1., 1., 1.],\n",
              "       [1., 1., 1., 1., 1., 1., 1.],\n",
              "       [1., 1., 1., 1., 1., 1., 1.],\n",
              "       [1., 1., 1., 1., 1., 1., 1.],\n",
              "       [1., 1., 1., 1., 1., 1., 1.],\n",
              "       [1., 1., 1., 1., 1., 1., 1.],\n",
              "       [1., 1., 1., 1., 1., 1., 1.],\n",
              "       [1., 1., 1., 1., 1., 1., 1.],\n",
              "       [1., 1., 1., 1., 1., 1., 1.],\n",
              "       [1., 1., 1., 1., 1., 1., 1.]], dtype=float32)>"
            ]
          },
          "metadata": {},
          "execution_count": 19
        }
      ]
    },
    {
      "cell_type": "code",
      "metadata": {
        "colab": {
          "base_uri": "https://localhost:8080/"
        },
        "id": "JraDh8gie7sW",
        "outputId": "2f0a41e0-23d9-4582-803f-31a40a787a62"
      },
      "source": [
        "# Create a tensor with all zeros\n",
        "tf.zeros([4, 3])"
      ],
      "execution_count": null,
      "outputs": [
        {
          "output_type": "execute_result",
          "data": {
            "text/plain": [
              "<tf.Tensor: shape=(4, 3), dtype=float32, numpy=\n",
              "array([[0., 0., 0.],\n",
              "       [0., 0., 0.],\n",
              "       [0., 0., 0.],\n",
              "       [0., 0., 0.]], dtype=float32)>"
            ]
          },
          "metadata": {},
          "execution_count": 20
        }
      ]
    },
    {
      "cell_type": "code",
      "metadata": {
        "colab": {
          "base_uri": "https://localhost:8080/"
        },
        "id": "vDNfcQANfT8j",
        "outputId": "a4a6077e-ee04-453e-f566-d0b63a6f5f8e"
      },
      "source": [
        "# Or \n",
        "tf.zeros(shape=(3, 4))"
      ],
      "execution_count": null,
      "outputs": [
        {
          "output_type": "execute_result",
          "data": {
            "text/plain": [
              "<tf.Tensor: shape=(3, 4), dtype=float32, numpy=\n",
              "array([[0., 0., 0., 0.],\n",
              "       [0., 0., 0., 0.],\n",
              "       [0., 0., 0., 0.]], dtype=float32)>"
            ]
          },
          "metadata": {},
          "execution_count": 21
        }
      ]
    },
    {
      "cell_type": "markdown",
      "metadata": {
        "id": "BP8W_3ivf-Pt"
      },
      "source": [
        "### Turn NumPy arrays into Tensors\n",
        "The main differense between NumPy and arrays Tensorflow tensors is that tensors can be run on GPU (much faster fur numerical computing)"
      ]
    },
    {
      "cell_type": "code",
      "metadata": {
        "colab": {
          "base_uri": "https://localhost:8080/"
        },
        "id": "0gYAotTeflwu",
        "outputId": "92e3c563-1b80-4b0d-bcbc-62dde3914fc2"
      },
      "source": [
        "# You can also turn NumPy arrays into Tensors\n",
        "import numpy as np\n",
        "numpy_A = np.arange(1, 25, dtype = np.int32) # create a Numpy array between 1 and 25\n",
        "numpy_A\n",
        "\n",
        "# X = tf.constant(some_matrix) # capital for matrix or tensor\n",
        "# y = tf.constant(vector) # non-capital for vector"
      ],
      "execution_count": null,
      "outputs": [
        {
          "output_type": "execute_result",
          "data": {
            "text/plain": [
              "array([ 1,  2,  3,  4,  5,  6,  7,  8,  9, 10, 11, 12, 13, 14, 15, 16, 17,\n",
              "       18, 19, 20, 21, 22, 23, 24], dtype=int32)"
            ]
          },
          "metadata": {},
          "execution_count": 33
        }
      ]
    },
    {
      "cell_type": "code",
      "metadata": {
        "colab": {
          "base_uri": "https://localhost:8080/"
        },
        "id": "ne9A1td8g-tR",
        "outputId": "d60daf7a-c4e4-48dc-fd5d-15726bb3b7a2"
      },
      "source": [
        "A = tf.constant(numpy_A)\n",
        "A"
      ],
      "execution_count": null,
      "outputs": [
        {
          "output_type": "execute_result",
          "data": {
            "text/plain": [
              "<tf.Tensor: shape=(24,), dtype=int32, numpy=\n",
              "array([ 1,  2,  3,  4,  5,  6,  7,  8,  9, 10, 11, 12, 13, 14, 15, 16, 17,\n",
              "       18, 19, 20, 21, 22, 23, 24], dtype=int32)>"
            ]
          },
          "metadata": {},
          "execution_count": 23
        }
      ]
    },
    {
      "cell_type": "code",
      "metadata": {
        "colab": {
          "base_uri": "https://localhost:8080/"
        },
        "id": "Xfw5DuWAhPGM",
        "outputId": "42a5c1f5-f252-4d6d-e995-bb48510f5ea7"
      },
      "source": [
        "B = tf.constant(numpy_A, shape = (2, 3, 4)) # Shape should be equal array.length\n",
        "B"
      ],
      "execution_count": null,
      "outputs": [
        {
          "output_type": "execute_result",
          "data": {
            "text/plain": [
              "<tf.Tensor: shape=(2, 3, 4), dtype=int32, numpy=\n",
              "array([[[ 1,  2,  3,  4],\n",
              "        [ 5,  6,  7,  8],\n",
              "        [ 9, 10, 11, 12]],\n",
              "\n",
              "       [[13, 14, 15, 16],\n",
              "        [17, 18, 19, 20],\n",
              "        [21, 22, 23, 24]]], dtype=int32)>"
            ]
          },
          "metadata": {},
          "execution_count": 24
        }
      ]
    },
    {
      "cell_type": "code",
      "metadata": {
        "colab": {
          "base_uri": "https://localhost:8080/"
        },
        "id": "BsZIBrDWixCr",
        "outputId": "0a11cedf-a154-4798-fce1-ec0d64cc9565"
      },
      "source": [
        "C = tf.constant(numpy_A, shape = (3, 8)) # Shape should be equal array.length\n",
        "C"
      ],
      "execution_count": null,
      "outputs": [
        {
          "output_type": "execute_result",
          "data": {
            "text/plain": [
              "<tf.Tensor: shape=(3, 8), dtype=int32, numpy=\n",
              "array([[ 1,  2,  3,  4,  5,  6,  7,  8],\n",
              "       [ 9, 10, 11, 12, 13, 14, 15, 16],\n",
              "       [17, 18, 19, 20, 21, 22, 23, 24]], dtype=int32)>"
            ]
          },
          "metadata": {},
          "execution_count": 25
        }
      ]
    },
    {
      "cell_type": "code",
      "metadata": {
        "colab": {
          "base_uri": "https://localhost:8080/"
        },
        "id": "83zYNBH4hs-e",
        "outputId": "c40f21b7-9703-4958-e57f-d1350eff4b20"
      },
      "source": [
        "A.ndim, B.ndim, C.ndim"
      ],
      "execution_count": null,
      "outputs": [
        {
          "output_type": "execute_result",
          "data": {
            "text/plain": [
              "(1, 3, 2)"
            ]
          },
          "metadata": {},
          "execution_count": 26
        }
      ]
    },
    {
      "cell_type": "markdown",
      "metadata": {
        "id": "GkEO5A4piTDe"
      },
      "source": [
        "### Getting information from tensors\n",
        "\n",
        "When dealing with tensors, you probably want to be aware of the following attributes:\n",
        "* Shape\n",
        "* Rank - number of dimensions (.ndim)\n",
        "* Axis or dimension\n",
        "* Size - number of elements in a tensor"
      ]
    },
    {
      "cell_type": "code",
      "metadata": {
        "colab": {
          "base_uri": "https://localhost:8080/"
        },
        "id": "2p5J_Jixiq5G",
        "outputId": "ca64789f-a33f-428d-aa5d-5918ea872fdb"
      },
      "source": [
        "# Create a rank 4 tensor(4 dimensions)\n",
        "rank_4_tensor = tf.zeros(shape = [2, 3, 4, 5])\n",
        "rank_4_tensor"
      ],
      "execution_count": null,
      "outputs": [
        {
          "output_type": "execute_result",
          "data": {
            "text/plain": [
              "<tf.Tensor: shape=(2, 3, 4, 5), dtype=float32, numpy=\n",
              "array([[[[0., 0., 0., 0., 0.],\n",
              "         [0., 0., 0., 0., 0.],\n",
              "         [0., 0., 0., 0., 0.],\n",
              "         [0., 0., 0., 0., 0.]],\n",
              "\n",
              "        [[0., 0., 0., 0., 0.],\n",
              "         [0., 0., 0., 0., 0.],\n",
              "         [0., 0., 0., 0., 0.],\n",
              "         [0., 0., 0., 0., 0.]],\n",
              "\n",
              "        [[0., 0., 0., 0., 0.],\n",
              "         [0., 0., 0., 0., 0.],\n",
              "         [0., 0., 0., 0., 0.],\n",
              "         [0., 0., 0., 0., 0.]]],\n",
              "\n",
              "\n",
              "       [[[0., 0., 0., 0., 0.],\n",
              "         [0., 0., 0., 0., 0.],\n",
              "         [0., 0., 0., 0., 0.],\n",
              "         [0., 0., 0., 0., 0.]],\n",
              "\n",
              "        [[0., 0., 0., 0., 0.],\n",
              "         [0., 0., 0., 0., 0.],\n",
              "         [0., 0., 0., 0., 0.],\n",
              "         [0., 0., 0., 0., 0.]],\n",
              "\n",
              "        [[0., 0., 0., 0., 0.],\n",
              "         [0., 0., 0., 0., 0.],\n",
              "         [0., 0., 0., 0., 0.],\n",
              "         [0., 0., 0., 0., 0.]]]], dtype=float32)>"
            ]
          },
          "metadata": {},
          "execution_count": 27
        }
      ]
    },
    {
      "cell_type": "code",
      "metadata": {
        "colab": {
          "base_uri": "https://localhost:8080/"
        },
        "id": "bJFklprbGM_z",
        "outputId": "a139e8b8-e62c-4dca-f66f-93abb45e89a5"
      },
      "source": [
        "rank_4_tensor[0]"
      ],
      "execution_count": null,
      "outputs": [
        {
          "output_type": "execute_result",
          "data": {
            "text/plain": [
              "<tf.Tensor: shape=(3, 4, 5), dtype=float32, numpy=\n",
              "array([[[0., 0., 0., 0., 0.],\n",
              "        [0., 0., 0., 0., 0.],\n",
              "        [0., 0., 0., 0., 0.],\n",
              "        [0., 0., 0., 0., 0.]],\n",
              "\n",
              "       [[0., 0., 0., 0., 0.],\n",
              "        [0., 0., 0., 0., 0.],\n",
              "        [0., 0., 0., 0., 0.],\n",
              "        [0., 0., 0., 0., 0.]],\n",
              "\n",
              "       [[0., 0., 0., 0., 0.],\n",
              "        [0., 0., 0., 0., 0.],\n",
              "        [0., 0., 0., 0., 0.],\n",
              "        [0., 0., 0., 0., 0.]]], dtype=float32)>"
            ]
          },
          "metadata": {},
          "execution_count": 28
        }
      ]
    },
    {
      "cell_type": "code",
      "metadata": {
        "colab": {
          "base_uri": "https://localhost:8080/"
        },
        "id": "5rbph6rdIIBD",
        "outputId": "396a98a3-2ed0-49d4-8021-f2d7f5021c4f"
      },
      "source": [
        "rank_4_tensor.shape, rank_4_tensor.ndim, tf.size(rank_4_tensor)"
      ],
      "execution_count": null,
      "outputs": [
        {
          "output_type": "execute_result",
          "data": {
            "text/plain": [
              "(TensorShape([2, 3, 4, 5]), 4, <tf.Tensor: shape=(), dtype=int32, numpy=120>)"
            ]
          },
          "metadata": {},
          "execution_count": 29
        }
      ]
    },
    {
      "cell_type": "code",
      "metadata": {
        "colab": {
          "base_uri": "https://localhost:8080/"
        },
        "id": "y0I1gvLcIbmd",
        "outputId": "f07c7de9-6095-4cb4-a6fd-c756a7d83195"
      },
      "source": [
        "# Get various attributes of our tensor\n",
        "print(\"Datatype of  every element:\", rank_4_tensor.dtype)\n",
        "print(\"Number of dimensions (rank):\", rank_4_tensor.ndim)\n",
        "print(\"Shape of tensor:\", rank_4_tensor.shape)\n",
        "print(\"Elements along 0 axis:\", rank_4_tensor.shape[0])\n",
        "print(\"Elements along last axis:\", rank_4_tensor.shape[-1])\n",
        "print(\"Total number of elements in our tensor:\", tf.size(rank_4_tensor))\n",
        "print(\"Total number of elements in our tensor:\", tf.size(rank_4_tensor).numpy())"
      ],
      "execution_count": null,
      "outputs": [
        {
          "output_type": "stream",
          "name": "stdout",
          "text": [
            "Datatype of  every element: <dtype: 'float32'>\n",
            "Number of dimensions (rank): 4\n",
            "Shape of tensor: (2, 3, 4, 5)\n",
            "Elements along 0 axis: 2\n",
            "Elements along last axis: 5\n",
            "Total number of elements in our tensor: tf.Tensor(120, shape=(), dtype=int32)\n",
            "Total number of elements in our tensor: 120\n"
          ]
        }
      ]
    },
    {
      "cell_type": "markdown",
      "metadata": {
        "id": "87AxiLGzJVkm"
      },
      "source": [
        "### Indexing tensors\n",
        "\n",
        "Tensors can be indexed just like Python lists"
      ]
    },
    {
      "cell_type": "code",
      "metadata": {
        "colab": {
          "base_uri": "https://localhost:8080/"
        },
        "id": "NG_ssZVvq0ZU",
        "outputId": "3d88473b-572c-4180-883b-b7d48d50a5d1"
      },
      "source": [
        "some_list = [1, 2, 3, 4]\n",
        "some_list[:2]"
      ],
      "execution_count": null,
      "outputs": [
        {
          "output_type": "execute_result",
          "data": {
            "text/plain": [
              "[1, 2]"
            ]
          },
          "metadata": {},
          "execution_count": 31
        }
      ]
    },
    {
      "cell_type": "code",
      "metadata": {
        "colab": {
          "base_uri": "https://localhost:8080/"
        },
        "id": "5apd-U41qL8y",
        "outputId": "84fadd83-0127-4d86-8541-20e376012ba9"
      },
      "source": [
        "# Get the first two elements of each dimension in our tensor. \n",
        "rank_4_tensor[:2, :2, :2, :2]"
      ],
      "execution_count": null,
      "outputs": [
        {
          "output_type": "execute_result",
          "data": {
            "text/plain": [
              "<tf.Tensor: shape=(2, 2, 2, 2), dtype=float32, numpy=\n",
              "array([[[[0., 0.],\n",
              "         [0., 0.]],\n",
              "\n",
              "        [[0., 0.],\n",
              "         [0., 0.]]],\n",
              "\n",
              "\n",
              "       [[[0., 0.],\n",
              "         [0., 0.]],\n",
              "\n",
              "        [[0., 0.],\n",
              "         [0., 0.]]]], dtype=float32)>"
            ]
          },
          "metadata": {},
          "execution_count": 32
        }
      ]
    },
    {
      "cell_type": "code",
      "metadata": {
        "colab": {
          "base_uri": "https://localhost:8080/"
        },
        "id": "pJFNGIYvqYAh",
        "outputId": "21b40085-b791-4b45-b5d4-f69804dce7cf"
      },
      "source": [
        "# Get first element from each dimension from each index, except for the final one\n",
        "rank_4_tensor[:1, :1, :1]"
      ],
      "execution_count": null,
      "outputs": [
        {
          "output_type": "execute_result",
          "data": {
            "text/plain": [
              "<tf.Tensor: shape=(1, 1, 1, 5), dtype=float32, numpy=array([[[[0., 0., 0., 0., 0.]]]], dtype=float32)>"
            ]
          },
          "metadata": {},
          "execution_count": 33
        }
      ]
    },
    {
      "cell_type": "code",
      "metadata": {
        "colab": {
          "base_uri": "https://localhost:8080/"
        },
        "id": "nu4llKFCr0Mb",
        "outputId": "8bd5b974-0955-4fc9-8bed-44767baaa73a"
      },
      "source": [
        "rank_4_tensor[:1, :1, :1, :]"
      ],
      "execution_count": null,
      "outputs": [
        {
          "output_type": "execute_result",
          "data": {
            "text/plain": [
              "<tf.Tensor: shape=(1, 1, 1, 5), dtype=float32, numpy=array([[[[0., 0., 0., 0., 0.]]]], dtype=float32)>"
            ]
          },
          "metadata": {},
          "execution_count": 34
        }
      ]
    },
    {
      "cell_type": "code",
      "metadata": {
        "colab": {
          "base_uri": "https://localhost:8080/"
        },
        "id": "tUxz9SpssDUy",
        "outputId": "774d018f-c631-4f5a-ecfe-53ef709f565c"
      },
      "source": [
        "# Get first element from each dimension from each index, except for the penultimate(предпоследний)\n",
        "rank_4_tensor[:1, :1, :, :1]"
      ],
      "execution_count": null,
      "outputs": [
        {
          "output_type": "execute_result",
          "data": {
            "text/plain": [
              "<tf.Tensor: shape=(1, 1, 4, 1), dtype=float32, numpy=\n",
              "array([[[[0.],\n",
              "         [0.],\n",
              "         [0.],\n",
              "         [0.]]]], dtype=float32)>"
            ]
          },
          "metadata": {},
          "execution_count": 35
        }
      ]
    },
    {
      "cell_type": "code",
      "metadata": {
        "colab": {
          "base_uri": "https://localhost:8080/"
        },
        "id": "rTgS7_yusGzb",
        "outputId": "dec5b1dc-f9d1-45b7-c4ac-11a2456fb01a"
      },
      "source": [
        "# Create a rank 2 tensor (2 dimensions)\n",
        "rank_2_tensor = tf.constant([[10, 7],\n",
        "                             [3, 4]])\n",
        "rank_2_tensor.shape, rank_2_tensor.ndim"
      ],
      "execution_count": null,
      "outputs": [
        {
          "output_type": "execute_result",
          "data": {
            "text/plain": [
              "(TensorShape([2, 2]), 2)"
            ]
          },
          "metadata": {},
          "execution_count": 36
        }
      ]
    },
    {
      "cell_type": "code",
      "metadata": {
        "colab": {
          "base_uri": "https://localhost:8080/"
        },
        "id": "KIiHLC_-sybC",
        "outputId": "9937bb8b-0cdf-48da-94b3-a74307d1a483"
      },
      "source": [
        "# Get the last item of each row\n",
        "rank_2_tensor[:, -1]"
      ],
      "execution_count": null,
      "outputs": [
        {
          "output_type": "execute_result",
          "data": {
            "text/plain": [
              "<tf.Tensor: shape=(2,), dtype=int32, numpy=array([7, 4], dtype=int32)>"
            ]
          },
          "metadata": {},
          "execution_count": 37
        }
      ]
    },
    {
      "cell_type": "code",
      "metadata": {
        "colab": {
          "base_uri": "https://localhost:8080/"
        },
        "id": "rQeI1yP4tC66",
        "outputId": "2cd8e816-e473-46b7-d6dd-4f6c5f82c4cf"
      },
      "source": [
        "# Add in extra dimension onto our rank 2 tensor\n",
        "rank_3_tensor = rank_2_tensor[..., tf.newaxis]\n",
        "rank_3_tensor"
      ],
      "execution_count": null,
      "outputs": [
        {
          "output_type": "execute_result",
          "data": {
            "text/plain": [
              "<tf.Tensor: shape=(2, 2, 1), dtype=int32, numpy=\n",
              "array([[[10],\n",
              "        [ 7]],\n",
              "\n",
              "       [[ 3],\n",
              "        [ 4]]], dtype=int32)>"
            ]
          },
          "metadata": {},
          "execution_count": 38
        }
      ]
    },
    {
      "cell_type": "code",
      "metadata": {
        "colab": {
          "base_uri": "https://localhost:8080/"
        },
        "id": "mRo_0C3wt5Hk",
        "outputId": "d8ab0253-4258-4c1e-de77-80f241f17060"
      },
      "source": [
        "# Alternative to tf.newaxis\n",
        "tf.expand_dims(rank_2_tensor, axis = -1) # -1 means expand final axis"
      ],
      "execution_count": null,
      "outputs": [
        {
          "output_type": "execute_result",
          "data": {
            "text/plain": [
              "<tf.Tensor: shape=(2, 2, 1), dtype=int32, numpy=\n",
              "array([[[10],\n",
              "        [ 7]],\n",
              "\n",
              "       [[ 3],\n",
              "        [ 4]]], dtype=int32)>"
            ]
          },
          "metadata": {},
          "execution_count": 39
        }
      ]
    },
    {
      "cell_type": "code",
      "metadata": {
        "colab": {
          "base_uri": "https://localhost:8080/"
        },
        "id": "_qwf8Fwqu6-G",
        "outputId": "148b923a-2455-49b4-e6e8-fae34865a008"
      },
      "source": [
        "tf.expand_dims(rank_2_tensor, axis = 0) # expand the 0 axis"
      ],
      "execution_count": null,
      "outputs": [
        {
          "output_type": "execute_result",
          "data": {
            "text/plain": [
              "<tf.Tensor: shape=(1, 2, 2), dtype=int32, numpy=\n",
              "array([[[10,  7],\n",
              "        [ 3,  4]]], dtype=int32)>"
            ]
          },
          "metadata": {},
          "execution_count": 40
        }
      ]
    },
    {
      "cell_type": "code",
      "metadata": {
        "colab": {
          "base_uri": "https://localhost:8080/"
        },
        "id": "ATXm8F7bu7NS",
        "outputId": "a7e64319-5cef-462d-a7bf-2cda9242b7d0"
      },
      "source": [
        "tf.expand_dims(rank_2_tensor, axis = 1)"
      ],
      "execution_count": null,
      "outputs": [
        {
          "output_type": "execute_result",
          "data": {
            "text/plain": [
              "<tf.Tensor: shape=(2, 1, 2), dtype=int32, numpy=\n",
              "array([[[10,  7]],\n",
              "\n",
              "       [[ 3,  4]]], dtype=int32)>"
            ]
          },
          "metadata": {},
          "execution_count": 41
        }
      ]
    },
    {
      "cell_type": "code",
      "metadata": {
        "colab": {
          "base_uri": "https://localhost:8080/"
        },
        "id": "t6NDiaa0vBq0",
        "outputId": "f53dbf1c-998f-4a8d-d5b1-fbd8aee1f719"
      },
      "source": [
        "rank_2_tensor"
      ],
      "execution_count": null,
      "outputs": [
        {
          "output_type": "execute_result",
          "data": {
            "text/plain": [
              "<tf.Tensor: shape=(2, 2), dtype=int32, numpy=\n",
              "array([[10,  7],\n",
              "       [ 3,  4]], dtype=int32)>"
            ]
          },
          "metadata": {},
          "execution_count": 42
        }
      ]
    },
    {
      "cell_type": "markdown",
      "metadata": {
        "id": "FJIQA9hvvViq"
      },
      "source": [
        "### Manipulating tensors (tensors operations)\n",
        "\n",
        "**Basic operations**\n",
        "\n",
        "`+`,`-`,`*`,`/`"
      ]
    },
    {
      "cell_type": "code",
      "metadata": {
        "colab": {
          "base_uri": "https://localhost:8080/"
        },
        "id": "-9kweOHV7Lj8",
        "outputId": "4f1b93cf-9792-4648-dc31-f7e4a006726a"
      },
      "source": [
        "# You can add values to a tensor using the addition operator\n",
        "tensor = tf.constant([[10, 7], [3, 4]])\n",
        "tensor + 10"
      ],
      "execution_count": null,
      "outputs": [
        {
          "output_type": "execute_result",
          "data": {
            "text/plain": [
              "<tf.Tensor: shape=(2, 2), dtype=int32, numpy=\n",
              "array([[20, 17],\n",
              "       [13, 14]], dtype=int32)>"
            ]
          },
          "metadata": {},
          "execution_count": 43
        }
      ]
    },
    {
      "cell_type": "code",
      "metadata": {
        "colab": {
          "base_uri": "https://localhost:8080/"
        },
        "id": "jAzJZwMa7uyl",
        "outputId": "d8ec09fc-2800-4fb9-baee-09828750f061"
      },
      "source": [
        "# Original tensor is unchanged\n",
        "tensor"
      ],
      "execution_count": null,
      "outputs": [
        {
          "output_type": "execute_result",
          "data": {
            "text/plain": [
              "<tf.Tensor: shape=(2, 2), dtype=int32, numpy=\n",
              "array([[10,  7],\n",
              "       [ 3,  4]], dtype=int32)>"
            ]
          },
          "metadata": {},
          "execution_count": 44
        }
      ]
    },
    {
      "cell_type": "code",
      "metadata": {
        "colab": {
          "base_uri": "https://localhost:8080/"
        },
        "id": "xD99Eu_F74Ix",
        "outputId": "78d43a47-a3bb-4d33-e261-b24415237558"
      },
      "source": [
        "tensor / 10"
      ],
      "execution_count": null,
      "outputs": [
        {
          "output_type": "execute_result",
          "data": {
            "text/plain": [
              "<tf.Tensor: shape=(2, 2), dtype=float64, numpy=\n",
              "array([[1. , 0.7],\n",
              "       [0.3, 0.4]])>"
            ]
          },
          "metadata": {},
          "execution_count": 45
        }
      ]
    },
    {
      "cell_type": "code",
      "metadata": {
        "colab": {
          "base_uri": "https://localhost:8080/"
        },
        "id": "BG6xpliM9dG5",
        "outputId": "be0d4380-594f-4608-f0fe-ec1f8314f9ef"
      },
      "source": [
        "# tensor built-in multiply\n",
        "tf.multiply(tensor, 20)\n",
        "# built-in operations are faster"
      ],
      "execution_count": null,
      "outputs": [
        {
          "output_type": "execute_result",
          "data": {
            "text/plain": [
              "<tf.Tensor: shape=(2, 2), dtype=int32, numpy=\n",
              "array([[200, 140],\n",
              "       [ 60,  80]], dtype=int32)>"
            ]
          },
          "metadata": {},
          "execution_count": 46
        }
      ]
    },
    {
      "cell_type": "markdown",
      "metadata": {
        "id": "t-lIBT1X9qYY"
      },
      "source": [
        "**Matrix multiplication**\n",
        "\n",
        "In machine learning, matrix multiplication is one of the most common tensor operations."
      ]
    },
    {
      "cell_type": "code",
      "metadata": {
        "colab": {
          "base_uri": "https://localhost:8080/"
        },
        "id": "MTwY2_hEwqsn",
        "outputId": "9375b87e-de65-4870-a6b1-86c69888cf8e"
      },
      "source": [
        "# Matrix multiplication in tensorflow\n",
        "tf.matmul(tensor, tensor)"
      ],
      "execution_count": null,
      "outputs": [
        {
          "output_type": "execute_result",
          "data": {
            "text/plain": [
              "<tf.Tensor: shape=(2, 2), dtype=int32, numpy=\n",
              "array([[121,  98],\n",
              "       [ 42,  37]], dtype=int32)>"
            ]
          },
          "metadata": {},
          "execution_count": 48
        }
      ]
    },
    {
      "cell_type": "code",
      "metadata": {
        "colab": {
          "base_uri": "https://localhost:8080/"
        },
        "id": "5z8kcZYywwH0",
        "outputId": "940bf311-8e6e-4e0b-9376-3d1e8addec74"
      },
      "source": [
        "# Matrix multiplication with python operator '@'\n",
        "# tensor * tensor - it is a wrong way\n",
        "tensor @ tensor"
      ],
      "execution_count": null,
      "outputs": [
        {
          "output_type": "execute_result",
          "data": {
            "text/plain": [
              "<tf.Tensor: shape=(2, 2), dtype=int32, numpy=\n",
              "array([[121,  98],\n",
              "       [ 42,  37]], dtype=int32)>"
            ]
          },
          "metadata": {},
          "execution_count": 49
        }
      ]
    },
    {
      "cell_type": "code",
      "metadata": {
        "colab": {
          "base_uri": "https://localhost:8080/"
        },
        "id": "kAlRkV418Cr2",
        "outputId": "593ff75d-f98a-45b0-94b5-810d85fe6963"
      },
      "source": [
        "/"
      ],
      "execution_count": null,
      "outputs": [
        {
          "output_type": "execute_result",
          "data": {
            "text/plain": [
              "()"
            ]
          },
          "metadata": {},
          "execution_count": 52
        }
      ]
    },
    {
      "cell_type": "markdown",
      "metadata": {
        "id": "AlnDG6qX8C3-"
      },
      "source": [
        "**The dot product**\n",
        "\n",
        "Matrix multiplication is also referred to as the dot product, and now you can perform matrix multiplication using:\n",
        "* `tf.matmul()`\n",
        "* `tf.tensordot()`\n",
        "\n",
        "Generally when performing matrix multiplication on two tensors and one of the axes doesn't line up, you will transpose (rather than reshape) one of the tensors. To satisfy the matrix multiplication rules"
      ]
    },
    {
      "cell_type": "code",
      "metadata": {
        "colab": {
          "base_uri": "https://localhost:8080/"
        },
        "id": "hhtwSZRc9XkX",
        "outputId": "52bf6189-65e7-4498-db69-d70d1cb3b7ce"
      },
      "source": [
        "X = tf.constant([[1, 2],\n",
        "                 [3, 4],\n",
        "                 [5, 6]])\n",
        "Y = tf.constant([[7, 8],\n",
        "                 [9, 10],\n",
        "                 [11, 12]])\n",
        "X, Y"
      ],
      "execution_count": null,
      "outputs": [
        {
          "output_type": "execute_result",
          "data": {
            "text/plain": [
              "(<tf.Tensor: shape=(3, 2), dtype=int32, numpy=\n",
              " array([[1, 2],\n",
              "        [3, 4],\n",
              "        [5, 6]], dtype=int32)>, <tf.Tensor: shape=(3, 2), dtype=int32, numpy=\n",
              " array([[ 7,  8],\n",
              "        [ 9, 10],\n",
              "        [11, 12]], dtype=int32)>)"
            ]
          },
          "metadata": {},
          "execution_count": 4
        }
      ]
    },
    {
      "cell_type": "code",
      "metadata": {
        "colab": {
          "base_uri": "https://localhost:8080/"
        },
        "id": "4HWbbqmy8GJh",
        "outputId": "1d50fb43-0e91-415c-893a-b5aca6e23e88"
      },
      "source": [
        "tf.transpose(X), tf.reshape(X, shape=(2,3)), tf.reshape(X, shape=(3,2))"
      ],
      "execution_count": null,
      "outputs": [
        {
          "output_type": "execute_result",
          "data": {
            "text/plain": [
              "(<tf.Tensor: shape=(2, 3), dtype=int32, numpy=\n",
              " array([[1, 3, 5],\n",
              "        [2, 4, 6]], dtype=int32)>,\n",
              " <tf.Tensor: shape=(2, 3), dtype=int32, numpy=\n",
              " array([[1, 2, 3],\n",
              "        [4, 5, 6]], dtype=int32)>,\n",
              " <tf.Tensor: shape=(3, 2), dtype=int32, numpy=\n",
              " array([[1, 2],\n",
              "        [3, 4],\n",
              "        [5, 6]], dtype=int32)>)"
            ]
          },
          "metadata": {},
          "execution_count": 29
        }
      ]
    },
    {
      "cell_type": "code",
      "metadata": {
        "colab": {
          "base_uri": "https://localhost:8080/"
        },
        "id": "LLJIFS06-wpM",
        "outputId": "f209c258-ca3c-4255-992a-6319b06abec9"
      },
      "source": [
        "# Perform the dot product on X and Y (requires X or Y to be transposed)\n",
        "# Transposing results in a different outputh than reshaping\n",
        "tf.tensordot(tf.transpose(X), Y, axes=1) # tensordot - for matrix multiplication"
      ],
      "execution_count": null,
      "outputs": [
        {
          "output_type": "execute_result",
          "data": {
            "text/plain": [
              "<tf.Tensor: shape=(2, 2), dtype=int32, numpy=\n",
              "array([[ 89,  98],\n",
              "       [116, 128]], dtype=int32)>"
            ]
          },
          "metadata": {},
          "execution_count": 11
        }
      ]
    },
    {
      "cell_type": "code",
      "metadata": {
        "colab": {
          "base_uri": "https://localhost:8080/"
        },
        "id": "SQHj_t7IQWVB",
        "outputId": "8ee19660-0ed8-450f-ac29-d7612423b921"
      },
      "source": [
        "tf.tensordot(X, tf.transpose(Y), axes=1) # tensordot - for matrix multiplication"
      ],
      "execution_count": null,
      "outputs": [
        {
          "output_type": "execute_result",
          "data": {
            "text/plain": [
              "<tf.Tensor: shape=(3, 3), dtype=int32, numpy=\n",
              "array([[ 23,  29,  35],\n",
              "       [ 53,  67,  81],\n",
              "       [ 83, 105, 127]], dtype=int32)>"
            ]
          },
          "metadata": {},
          "execution_count": 14
        }
      ]
    },
    {
      "cell_type": "code",
      "metadata": {
        "colab": {
          "base_uri": "https://localhost:8080/"
        },
        "id": "ZeEbrHj1M0xp",
        "outputId": "6165a6ba-ba70-4fdb-884d-6f0e945f2e93"
      },
      "source": [
        "# Perform matrix multiplication between X and Y (transposed)\n",
        "tf.matmul(X, tf.transpose(Y))"
      ],
      "execution_count": null,
      "outputs": [
        {
          "output_type": "execute_result",
          "data": {
            "text/plain": [
              "<tf.Tensor: shape=(3, 3), dtype=int32, numpy=\n",
              "array([[ 23,  29,  35],\n",
              "       [ 53,  67,  81],\n",
              "       [ 83, 105, 127]], dtype=int32)>"
            ]
          },
          "metadata": {},
          "execution_count": 9
        }
      ]
    },
    {
      "cell_type": "code",
      "metadata": {
        "colab": {
          "base_uri": "https://localhost:8080/"
        },
        "id": "FPQvKr2aQOdR",
        "outputId": "7b51b324-5b88-4dcc-8455-2fb1a68796da"
      },
      "source": [
        "tf.matmul(tf.transpose(X), Y)"
      ],
      "execution_count": null,
      "outputs": [
        {
          "output_type": "execute_result",
          "data": {
            "text/plain": [
              "<tf.Tensor: shape=(2, 2), dtype=int32, numpy=\n",
              "array([[ 89,  98],\n",
              "       [116, 128]], dtype=int32)>"
            ]
          },
          "metadata": {},
          "execution_count": 10
        }
      ]
    },
    {
      "cell_type": "code",
      "metadata": {
        "colab": {
          "base_uri": "https://localhost:8080/"
        },
        "id": "sC76j080QTVs",
        "outputId": "fb0cddfa-7d7a-4fe9-f87b-b3132ab8c552"
      },
      "source": [
        "# Perform matrix multiplication between X and Y (reshaped)\n",
        "tf.matmul(X, tf.reshape(Y, shape=(2,3)))"
      ],
      "execution_count": null,
      "outputs": [
        {
          "output_type": "execute_result",
          "data": {
            "text/plain": [
              "<tf.Tensor: shape=(3, 3), dtype=int32, numpy=\n",
              "array([[ 27,  30,  33],\n",
              "       [ 61,  68,  75],\n",
              "       [ 95, 106, 117]], dtype=int32)>"
            ]
          },
          "metadata": {},
          "execution_count": 15
        }
      ]
    },
    {
      "cell_type": "code",
      "metadata": {
        "colab": {
          "base_uri": "https://localhost:8080/"
        },
        "id": "74AuROecQvjU",
        "outputId": "cfe8a1c5-a2e2-4838-927c-ef5045af395c"
      },
      "source": [
        "# Check the values of Y, reshape Y and transposed Y\n",
        "print(\"Normal Y:\")\n",
        "print(Y, \"\\n\")\n",
        "\n",
        "print(\"Y reshaped to (2,3)\")\n",
        "print(tf.reshape(Y, shape=(2,3)), \"\\n\")\n",
        "\n",
        "print(\"Y transposed:\")\n",
        "print(tf.transpose(Y))"
      ],
      "execution_count": null,
      "outputs": [
        {
          "output_type": "stream",
          "name": "stdout",
          "text": [
            "Normal Y:\n",
            "tf.Tensor(\n",
            "[[ 7  8]\n",
            " [ 9 10]\n",
            " [11 12]], shape=(3, 2), dtype=int32) \n",
            "\n",
            "Y reshaped to (2,3)\n",
            "tf.Tensor(\n",
            "[[ 7  8  9]\n",
            " [10 11 12]], shape=(2, 3), dtype=int32) \n",
            "\n",
            "Y transposed:\n",
            "tf.Tensor(\n",
            "[[ 7  9 11]\n",
            " [ 8 10 12]], shape=(2, 3), dtype=int32)\n"
          ]
        }
      ]
    },
    {
      "cell_type": "markdown",
      "metadata": {
        "id": "QYtTOO5Ucgmz"
      },
      "source": [
        "## Generally when performing matrix multiplication on two tensors and one of the axes doesn't line up, you will transpose (rather than reshape) one of the tensors. To satisfy the matrix multiplication rules"
      ]
    },
    {
      "cell_type": "markdown",
      "metadata": {
        "id": "KeNPWkfEdQZI"
      },
      "source": [
        "# Changing the datatype of tensors"
      ]
    },
    {
      "cell_type": "code",
      "metadata": {
        "id": "AteP-uxXdae2",
        "colab": {
          "base_uri": "https://localhost:8080/"
        },
        "outputId": "77657c5f-e822-4f83-cc34-4aa53a8afb19"
      },
      "source": [
        "# Create tensor with default dt\n",
        "B = tf.constant([1.7, 7.4])\n",
        "B, B.dtype"
      ],
      "execution_count": null,
      "outputs": [
        {
          "output_type": "execute_result",
          "data": {
            "text/plain": [
              "(<tf.Tensor: shape=(2,), dtype=float32, numpy=array([1.7, 7.4], dtype=float32)>,\n",
              " tf.float32)"
            ]
          },
          "metadata": {},
          "execution_count": 8
        }
      ]
    },
    {
      "cell_type": "code",
      "metadata": {
        "colab": {
          "base_uri": "https://localhost:8080/"
        },
        "id": "vkifMgKquNTX",
        "outputId": "4cac333f-be9a-41f8-c22c-8b75596f9de5"
      },
      "source": [
        "C = tf.constant([7, 10])\n",
        "C.dtype"
      ],
      "execution_count": null,
      "outputs": [
        {
          "output_type": "execute_result",
          "data": {
            "text/plain": [
              "tf.int32"
            ]
          },
          "metadata": {},
          "execution_count": 9
        }
      ]
    },
    {
      "cell_type": "code",
      "metadata": {
        "colab": {
          "base_uri": "https://localhost:8080/"
        },
        "id": "I1xStTsgukyQ",
        "outputId": "afe6ecec-52d9-4ecd-c70d-c6be6a0c2612"
      },
      "source": [
        "# Changing from float32 to float16 (reduced precision)\n",
        "D = tf.cast(B, dtype=tf.float16)\n",
        "D, D.dtype"
      ],
      "execution_count": null,
      "outputs": [
        {
          "output_type": "execute_result",
          "data": {
            "text/plain": [
              "(<tf.Tensor: shape=(2,), dtype=float16, numpy=array([1.7, 7.4], dtype=float16)>,\n",
              " tf.float16)"
            ]
          },
          "metadata": {},
          "execution_count": 10
        }
      ]
    },
    {
      "cell_type": "code",
      "metadata": {
        "colab": {
          "base_uri": "https://localhost:8080/"
        },
        "id": "dHHEF0oMvzMS",
        "outputId": "13f870c3-7a32-4e4f-d329-dcab4cd2b93c"
      },
      "source": [
        "# Changing from int32 to float32\n",
        "E = tf.cast(C, dtype=tf.float32)\n",
        "E, E.dtype"
      ],
      "execution_count": null,
      "outputs": [
        {
          "output_type": "execute_result",
          "data": {
            "text/plain": [
              "(<tf.Tensor: shape=(2,), dtype=float32, numpy=array([ 7., 10.], dtype=float32)>,\n",
              " tf.float32)"
            ]
          },
          "metadata": {},
          "execution_count": 11
        }
      ]
    },
    {
      "cell_type": "code",
      "metadata": {
        "colab": {
          "base_uri": "https://localhost:8080/"
        },
        "id": "73VeEDiNwgzR",
        "outputId": "f5096bd1-b5ae-445c-fd6f-825a281d4609"
      },
      "source": [
        "E_float16 = tf.cast(C, dtype=tf.float16)\n",
        "E_float16, E_float16.dtype"
      ],
      "execution_count": null,
      "outputs": [
        {
          "output_type": "execute_result",
          "data": {
            "text/plain": [
              "(<tf.Tensor: shape=(2,), dtype=float16, numpy=array([ 7., 10.], dtype=float16)>,\n",
              " tf.float16)"
            ]
          },
          "metadata": {},
          "execution_count": 13
        }
      ]
    },
    {
      "cell_type": "markdown",
      "metadata": {
        "id": "sMHU2E2-wtcT"
      },
      "source": [
        "### Aggregating tensors"
      ]
    },
    {
      "cell_type": "code",
      "metadata": {
        "colab": {
          "base_uri": "https://localhost:8080/"
        },
        "id": "SU-IRO60yhHY",
        "outputId": "d66edee4-ba24-4066-afec-edcb54a112c7"
      },
      "source": [
        "D = tf.constant([-7, -10])\n",
        "D"
      ],
      "execution_count": null,
      "outputs": [
        {
          "output_type": "execute_result",
          "data": {
            "text/plain": [
              "<tf.Tensor: shape=(2,), dtype=int32, numpy=array([ -7, -10], dtype=int32)>"
            ]
          },
          "metadata": {},
          "execution_count": 2
        }
      ]
    },
    {
      "cell_type": "code",
      "metadata": {
        "colab": {
          "base_uri": "https://localhost:8080/"
        },
        "id": "3O4hRZyayu_1",
        "outputId": "edb3d652-7a52-4d59-8ebe-4a1fa45750b5"
      },
      "source": [
        "# Get the absolute values\n",
        "tf.abs(D)"
      ],
      "execution_count": null,
      "outputs": [
        {
          "output_type": "execute_result",
          "data": {
            "text/plain": [
              "<tf.Tensor: shape=(2,), dtype=int32, numpy=array([ 7, 10], dtype=int32)>"
            ]
          },
          "metadata": {},
          "execution_count": 3
        }
      ]
    },
    {
      "cell_type": "markdown",
      "metadata": {
        "id": "MQEooi_by3Mw"
      },
      "source": [
        "Let's go through the following forms of aggregation:\n",
        "* get the minimum \n",
        "* get the maximum\n",
        "* get the mean of the tensor\n",
        "* get the sum of the tensor"
      ]
    },
    {
      "cell_type": "code",
      "metadata": {
        "colab": {
          "base_uri": "https://localhost:8080/"
        },
        "id": "B48BmUsuzXMA",
        "outputId": "ecfbfc3f-06a7-4725-aeef-cd677f3bec7c"
      },
      "source": [
        "# Create random tensor with values between 0 and 100 of size 50\n",
        "E = tf.constant(np.random.randint(0., 100., size=50))\n",
        "E"
      ],
      "execution_count": null,
      "outputs": [
        {
          "output_type": "execute_result",
          "data": {
            "text/plain": [
              "<tf.Tensor: shape=(50,), dtype=int64, numpy=\n",
              "array([ 1, 38, 13, 45, 76, 78, 71, 19,  7, 38, 60, 81, 85, 98, 31, 82, 25,\n",
              "       75, 15,  5, 66, 15, 51, 83, 98, 39, 52, 81, 11, 85, 65, 27,  8, 49,\n",
              "       94, 71, 31, 27, 83, 52, 95, 71, 73, 85, 60, 19,  2, 17, 41, 65])>"
            ]
          },
          "metadata": {},
          "execution_count": 9
        }
      ]
    },
    {
      "cell_type": "code",
      "metadata": {
        "colab": {
          "base_uri": "https://localhost:8080/"
        },
        "id": "tEc5dXUy0QMV",
        "outputId": "9afc7246-af56-4235-c5bb-2d73df2f8210"
      },
      "source": [
        "tf.math.reduce_min(E), tf.math.reduce_max(E), tf.math.reduce_mean(E),  tf.math.reduce_min(E), tf.math.reduce_sum(E)\n"
      ],
      "execution_count": null,
      "outputs": [
        {
          "output_type": "execute_result",
          "data": {
            "text/plain": [
              "(<tf.Tensor: shape=(), dtype=int64, numpy=1>,\n",
              " <tf.Tensor: shape=(), dtype=int64, numpy=98>,\n",
              " <tf.Tensor: shape=(), dtype=int64, numpy=51>,\n",
              " <tf.Tensor: shape=(), dtype=int64, numpy=1>,\n",
              " <tf.Tensor: shape=(), dtype=int64, numpy=2559>)"
            ]
          },
          "metadata": {},
          "execution_count": 10
        }
      ]
    },
    {
      "cell_type": "code",
      "metadata": {
        "colab": {
          "base_uri": "https://localhost:8080/"
        },
        "id": "gesUFiPe2mkz",
        "outputId": "ef9a1d4a-c7a2-4434-ff10-92ce62d662cc"
      },
      "source": [
        "# Find the variance (2 variants)\n",
        "tfp.stats.variance(E), tf.math.reduce_variance(tf.cast(E, dtype=tf.float32))"
      ],
      "execution_count": null,
      "outputs": [
        {
          "output_type": "execute_result",
          "data": {
            "text/plain": [
              "(<tf.Tensor: shape=(), dtype=int64, numpy=875>,\n",
              " <tf.Tensor: shape=(), dtype=float32, numpy=875.3077>)"
            ]
          },
          "metadata": {},
          "execution_count": 24
        }
      ]
    },
    {
      "cell_type": "code",
      "metadata": {
        "colab": {
          "base_uri": "https://localhost:8080/"
        },
        "id": "9UPzjpFz2w6K",
        "outputId": "d892ad23-a36e-4128-8634-63f1235b6e79"
      },
      "source": [
        "# Find the standart deviation (need float32/float64)\n",
        "X = tf.cast(E, dtype=tf.float32)\n",
        "tf.math.reduce_std(X)"
      ],
      "execution_count": null,
      "outputs": [
        {
          "output_type": "execute_result",
          "data": {
            "text/plain": [
              "<tf.Tensor: shape=(), dtype=float32, numpy=29.5856>"
            ]
          },
          "metadata": {},
          "execution_count": 14
        }
      ]
    },
    {
      "cell_type": "markdown",
      "metadata": {
        "id": "cGGFcQVu_coa"
      },
      "source": [
        "### Find the positional maximum and minimum of the tensor"
      ]
    },
    {
      "cell_type": "code",
      "metadata": {
        "colab": {
          "base_uri": "https://localhost:8080/"
        },
        "id": "xem-2mJ0_hfA",
        "outputId": "1ad094c1-7518-4b17-ef6b-9f0731837542"
      },
      "source": [
        "# argmax returns index of maximum value across axes of a tensor\n",
        "tf.math.argmax(E)"
      ],
      "execution_count": null,
      "outputs": [
        {
          "output_type": "execute_result",
          "data": {
            "text/plain": [
              "<tf.Tensor: shape=(), dtype=int64, numpy=13>"
            ]
          },
          "metadata": {},
          "execution_count": 18
        }
      ]
    },
    {
      "cell_type": "code",
      "metadata": {
        "colab": {
          "base_uri": "https://localhost:8080/"
        },
        "id": "GmftgK-GovvB",
        "outputId": "d848e430-b08c-458e-bb47-c841b6ea8cc4"
      },
      "source": [
        "# argmax returns index of minimum value across axes of a tensor\n",
        "tf.math.argmin(E)"
      ],
      "execution_count": null,
      "outputs": [
        {
          "output_type": "execute_result",
          "data": {
            "text/plain": [
              "<tf.Tensor: shape=(), dtype=int64, numpy=0>"
            ]
          },
          "metadata": {},
          "execution_count": 21
        }
      ]
    },
    {
      "cell_type": "code",
      "metadata": {
        "colab": {
          "base_uri": "https://localhost:8080/"
        },
        "id": "2uaD-nw0oxhq",
        "outputId": "d3d70464-b5b5-4e00-8c4f-8eaa8bcd8be7"
      },
      "source": [
        ""
      ],
      "execution_count": null,
      "outputs": [
        {
          "output_type": "execute_result",
          "data": {
            "text/plain": [
              "<tf.Tensor: shape=(), dtype=float32, numpy=875.3077>"
            ]
          },
          "metadata": {},
          "execution_count": 23
        }
      ]
    },
    {
      "cell_type": "code",
      "metadata": {
        "colab": {
          "base_uri": "https://localhost:8080/"
        },
        "id": "Cuw4z7tSpd5r",
        "outputId": "7301617e-dfe7-463f-d63d-b62cb40eb92a"
      },
      "source": [
        "# Create a new tensor for finding positional min/max\n",
        "tf.random.set_seed(42)\n",
        "F = tf.random.uniform(shape=[50])\n",
        "F"
      ],
      "execution_count": null,
      "outputs": [
        {
          "output_type": "execute_result",
          "data": {
            "text/plain": [
              "<tf.Tensor: shape=(50,), dtype=float32, numpy=\n",
              "array([0.6645621 , 0.44100678, 0.3528825 , 0.46448255, 0.03366041,\n",
              "       0.68467236, 0.74011743, 0.8724445 , 0.22632635, 0.22319686,\n",
              "       0.3103881 , 0.7223358 , 0.13318717, 0.5480639 , 0.5746088 ,\n",
              "       0.8996835 , 0.00946367, 0.5212307 , 0.6345445 , 0.1993283 ,\n",
              "       0.72942245, 0.54583454, 0.10756552, 0.6767061 , 0.6602763 ,\n",
              "       0.33695042, 0.60141766, 0.21062577, 0.8527372 , 0.44062173,\n",
              "       0.9485276 , 0.23752594, 0.81179297, 0.5263394 , 0.494308  ,\n",
              "       0.21612847, 0.8457197 , 0.8718841 , 0.3083862 , 0.6868038 ,\n",
              "       0.23764038, 0.7817228 , 0.9671384 , 0.06870162, 0.79873943,\n",
              "       0.66028714, 0.5871513 , 0.16461694, 0.7381023 , 0.32054043],\n",
              "      dtype=float32)>"
            ]
          },
          "metadata": {},
          "execution_count": 36
        }
      ]
    },
    {
      "cell_type": "code",
      "metadata": {
        "colab": {
          "base_uri": "https://localhost:8080/"
        },
        "id": "bhArVomHrf8_",
        "outputId": "a431ffd2-9e9b-4e45-ff79-bcf18600d17d"
      },
      "source": [
        "tf.math.argmax(F), tf.math.argmin(F)"
      ],
      "execution_count": null,
      "outputs": [
        {
          "output_type": "execute_result",
          "data": {
            "text/plain": [
              "(<tf.Tensor: shape=(), dtype=int64, numpy=42>,\n",
              " <tf.Tensor: shape=(), dtype=int64, numpy=16>)"
            ]
          },
          "metadata": {},
          "execution_count": 37
        }
      ]
    },
    {
      "cell_type": "code",
      "metadata": {
        "colab": {
          "base_uri": "https://localhost:8080/"
        },
        "id": "G_zvuf45ruq7",
        "outputId": "5c49ba36-e2fa-47f5-fca0-df20a86a5654"
      },
      "source": [
        "# Index on our langest/smallest value position\n",
        "F[tf.argmax(F)], F[tf.argmin(F)]"
      ],
      "execution_count": null,
      "outputs": [
        {
          "output_type": "execute_result",
          "data": {
            "text/plain": [
              "(<tf.Tensor: shape=(), dtype=float32, numpy=0.9671384>,\n",
              " <tf.Tensor: shape=(), dtype=float32, numpy=0.009463668>)"
            ]
          },
          "metadata": {},
          "execution_count": 38
        }
      ]
    },
    {
      "cell_type": "code",
      "metadata": {
        "id": "8qpRiDKirwT1"
      },
      "source": [
        "# Chect for equality\n",
        "assert F[tf.argmax(F)] == tf.reduce_max(F)\n",
        "# If no error - ok"
      ],
      "execution_count": null,
      "outputs": []
    },
    {
      "cell_type": "markdown",
      "metadata": {
        "id": "Q03WQD0Yr8lC"
      },
      "source": [
        "### Squeezing a tensor (removing all single dimensions)"
      ]
    },
    {
      "cell_type": "code",
      "metadata": {
        "colab": {
          "base_uri": "https://localhost:8080/"
        },
        "id": "MlliU0m5sZxj",
        "outputId": "9a734d28-436d-423e-cc30-6c09b441db35"
      },
      "source": [
        "# Create a tensor to get started\n",
        "tf.random.set_seed(42)\n",
        "G = tf.constant(tf.random.uniform(shape=[50]), shape=(1, 1, 1, 1, 50))\n",
        "G"
      ],
      "execution_count": null,
      "outputs": [
        {
          "output_type": "execute_result",
          "data": {
            "text/plain": [
              "<tf.Tensor: shape=(1, 1, 1, 1, 50), dtype=float32, numpy=\n",
              "array([[[[[0.6645621 , 0.44100678, 0.3528825 , 0.46448255, 0.03366041,\n",
              "           0.68467236, 0.74011743, 0.8724445 , 0.22632635, 0.22319686,\n",
              "           0.3103881 , 0.7223358 , 0.13318717, 0.5480639 , 0.5746088 ,\n",
              "           0.8996835 , 0.00946367, 0.5212307 , 0.6345445 , 0.1993283 ,\n",
              "           0.72942245, 0.54583454, 0.10756552, 0.6767061 , 0.6602763 ,\n",
              "           0.33695042, 0.60141766, 0.21062577, 0.8527372 , 0.44062173,\n",
              "           0.9485276 , 0.23752594, 0.81179297, 0.5263394 , 0.494308  ,\n",
              "           0.21612847, 0.8457197 , 0.8718841 , 0.3083862 , 0.6868038 ,\n",
              "           0.23764038, 0.7817228 , 0.9671384 , 0.06870162, 0.79873943,\n",
              "           0.66028714, 0.5871513 , 0.16461694, 0.7381023 , 0.32054043]]]]],\n",
              "      dtype=float32)>"
            ]
          },
          "metadata": {},
          "execution_count": 54
        }
      ]
    },
    {
      "cell_type": "code",
      "metadata": {
        "colab": {
          "base_uri": "https://localhost:8080/"
        },
        "id": "HGoUA-fmse1H",
        "outputId": "98e0d1ff-0386-4b56-9103-dfa31dcabf21"
      },
      "source": [
        "G.shape"
      ],
      "execution_count": null,
      "outputs": [
        {
          "output_type": "execute_result",
          "data": {
            "text/plain": [
              "TensorShape([1, 1, 1, 1, 50])"
            ]
          },
          "metadata": {},
          "execution_count": 55
        }
      ]
    },
    {
      "cell_type": "code",
      "metadata": {
        "colab": {
          "base_uri": "https://localhost:8080/"
        },
        "id": "lV6DuSdwwVKE",
        "outputId": "60701abe-ed55-4945-a695-8f7ae3bad54b"
      },
      "source": [
        "G_squeezed = tf.squeeze(G)\n",
        "G_squeezed, G_squeezed.shape"
      ],
      "execution_count": null,
      "outputs": [
        {
          "output_type": "execute_result",
          "data": {
            "text/plain": [
              "(<tf.Tensor: shape=(50,), dtype=float32, numpy=\n",
              " array([0.6645621 , 0.44100678, 0.3528825 , 0.46448255, 0.03366041,\n",
              "        0.68467236, 0.74011743, 0.8724445 , 0.22632635, 0.22319686,\n",
              "        0.3103881 , 0.7223358 , 0.13318717, 0.5480639 , 0.5746088 ,\n",
              "        0.8996835 , 0.00946367, 0.5212307 , 0.6345445 , 0.1993283 ,\n",
              "        0.72942245, 0.54583454, 0.10756552, 0.6767061 , 0.6602763 ,\n",
              "        0.33695042, 0.60141766, 0.21062577, 0.8527372 , 0.44062173,\n",
              "        0.9485276 , 0.23752594, 0.81179297, 0.5263394 , 0.494308  ,\n",
              "        0.21612847, 0.8457197 , 0.8718841 , 0.3083862 , 0.6868038 ,\n",
              "        0.23764038, 0.7817228 , 0.9671384 , 0.06870162, 0.79873943,\n",
              "        0.66028714, 0.5871513 , 0.16461694, 0.7381023 , 0.32054043],\n",
              "       dtype=float32)>, TensorShape([50]))"
            ]
          },
          "metadata": {},
          "execution_count": 56
        }
      ]
    },
    {
      "cell_type": "markdown",
      "metadata": {
        "id": "Nokucqaiwfr4"
      },
      "source": [
        "### One-hot encoding tensor"
      ]
    },
    {
      "cell_type": "code",
      "metadata": {
        "colab": {
          "base_uri": "https://localhost:8080/"
        },
        "id": "zuWIMfh55vJL",
        "outputId": "83a1fa44-ff81-48c4-c612-04d8beac13a8"
      },
      "source": [
        "# Createa list of indices\n",
        "some_list = [0, 1, 2, 3] # cold be red, yellow, green and blue\n",
        "tf.one_hot(some_list, depth=4)"
      ],
      "execution_count": null,
      "outputs": [
        {
          "output_type": "execute_result",
          "data": {
            "text/plain": [
              "<tf.Tensor: shape=(4, 4), dtype=float32, numpy=\n",
              "array([[1., 0., 0., 0.],\n",
              "       [0., 1., 0., 0.],\n",
              "       [0., 0., 1., 0.],\n",
              "       [0., 0., 0., 1.]], dtype=float32)>"
            ]
          },
          "metadata": {},
          "execution_count": 2
        }
      ]
    },
    {
      "cell_type": "code",
      "metadata": {
        "colab": {
          "base_uri": "https://localhost:8080/"
        },
        "id": "us4IhvZ06bIp",
        "outputId": "7b26a48f-80ce-4252-ec33-b07388fc749c"
      },
      "source": [
        "# Specify custom values for one hot encoding\n",
        "tf.one_hot(some_list, depth=4, on_value=\"lol\", off_value=\"kek\")"
      ],
      "execution_count": null,
      "outputs": [
        {
          "output_type": "execute_result",
          "data": {
            "text/plain": [
              "<tf.Tensor: shape=(4, 4), dtype=string, numpy=\n",
              "array([[b'lol', b'kek', b'kek', b'kek'],\n",
              "       [b'kek', b'lol', b'kek', b'kek'],\n",
              "       [b'kek', b'kek', b'lol', b'kek'],\n",
              "       [b'kek', b'kek', b'kek', b'lol']], dtype=object)>"
            ]
          },
          "metadata": {},
          "execution_count": 4
        }
      ]
    },
    {
      "cell_type": "markdown",
      "metadata": {
        "id": "LMcuWZ4w6_1B"
      },
      "source": [
        "### Tensors and NumPy\n",
        "Tensorflow interacts beautifully wuth NumPy arrays\n",
        "\n",
        "We can convert tensor into NumPy array and vice versa\n",
        "\n",
        "One of the main difference between TensorFlow tensor and NumPy array - is that a TensorFlow tensor can be run on a GPU or TPU (for faster numerical processing)"
      ]
    },
    {
      "cell_type": "code",
      "metadata": {
        "colab": {
          "base_uri": "https://localhost:8080/"
        },
        "id": "85TkVjfTqyvJ",
        "outputId": "71cd6242-bb61-42f2-b0a2-4c8a92d816b3"
      },
      "source": [
        "# Create tensor directly from numpy array\n",
        "J = tf.constant(np.array([3., 7., 10.]))\n",
        "J"
      ],
      "execution_count": null,
      "outputs": [
        {
          "output_type": "execute_result",
          "data": {
            "text/plain": [
              "<tf.Tensor: shape=(3,), dtype=float64, numpy=array([ 3.,  7., 10.])>"
            ]
          },
          "metadata": {},
          "execution_count": 4
        }
      ]
    },
    {
      "cell_type": "code",
      "metadata": {
        "colab": {
          "base_uri": "https://localhost:8080/"
        },
        "id": "yxD3a_vNrBi4",
        "outputId": "2a8ebdd2-6b81-41da-a640-aba88ce0d7aa"
      },
      "source": [
        "# Convert our tensor back to numpy array\n",
        "np.array(J), type(np.array(J))"
      ],
      "execution_count": null,
      "outputs": [
        {
          "output_type": "execute_result",
          "data": {
            "text/plain": [
              "(array([ 3.,  7., 10.]), numpy.ndarray)"
            ]
          },
          "metadata": {},
          "execution_count": 9
        }
      ]
    },
    {
      "cell_type": "code",
      "metadata": {
        "colab": {
          "base_uri": "https://localhost:8080/"
        },
        "id": "3BNctUXfrKjO",
        "outputId": "8c8faf45-b4d7-43f0-add1-4a4e2d6140c2"
      },
      "source": [
        "# Convert tensor J to numpy array\n",
        "J.numpy(), type(J.numpy())"
      ],
      "execution_count": null,
      "outputs": [
        {
          "output_type": "execute_result",
          "data": {
            "text/plain": [
              "(array([ 3.,  7., 10.]), numpy.ndarray)"
            ]
          },
          "metadata": {},
          "execution_count": 7
        }
      ]
    },
    {
      "cell_type": "code",
      "metadata": {
        "colab": {
          "base_uri": "https://localhost:8080/"
        },
        "id": "2qqsKggArjcR",
        "outputId": "63781d1a-b5d9-4cdb-fa7e-584860e86be3"
      },
      "source": [
        "# The default type of each are slightly different\n",
        "numpy_J = tf.constant(np.array([3., 7., 10.]))\n",
        "tensor_J = tf.constant([3., 7., 10.])\n",
        "numpy_J.dtype, tensor_J.dtype"
      ],
      "execution_count": null,
      "outputs": [
        {
          "output_type": "execute_result",
          "data": {
            "text/plain": [
              "(tf.float64, tf.float32)"
            ]
          },
          "metadata": {},
          "execution_count": 19
        }
      ]
    },
    {
      "cell_type": "markdown",
      "metadata": {
        "id": "_svrlCKyros5"
      },
      "source": [
        "### Finding access to GPUs"
      ]
    },
    {
      "cell_type": "code",
      "metadata": {
        "colab": {
          "base_uri": "https://localhost:8080/"
        },
        "id": "-v_HGgx3yD_J",
        "outputId": "934da9b8-dec7-4ca1-a531-9a798593a18c"
      },
      "source": [
        "tf.config.list_physical_devices()"
      ],
      "execution_count": null,
      "outputs": [
        {
          "output_type": "execute_result",
          "data": {
            "text/plain": [
              "[PhysicalDevice(name='/physical_device:CPU:0', device_type='CPU'),\n",
              " PhysicalDevice(name='/physical_device:GPU:0', device_type='GPU')]"
            ]
          },
          "metadata": {},
          "execution_count": 2
        }
      ]
    },
    {
      "cell_type": "code",
      "metadata": {
        "colab": {
          "base_uri": "https://localhost:8080/"
        },
        "id": "0HBDMWOuyR0O",
        "outputId": "44a0048e-6c4a-43bc-d968-b2200887b89a"
      },
      "source": [
        "!nvidia-smi"
      ],
      "execution_count": null,
      "outputs": [
        {
          "output_type": "stream",
          "name": "stdout",
          "text": [
            "Wed Nov  3 17:17:24 2021       \n",
            "+-----------------------------------------------------------------------------+\n",
            "| NVIDIA-SMI 495.44       Driver Version: 460.32.03    CUDA Version: 11.2     |\n",
            "|-------------------------------+----------------------+----------------------+\n",
            "| GPU  Name        Persistence-M| Bus-Id        Disp.A | Volatile Uncorr. ECC |\n",
            "| Fan  Temp  Perf  Pwr:Usage/Cap|         Memory-Usage | GPU-Util  Compute M. |\n",
            "|                               |                      |               MIG M. |\n",
            "|===============================+======================+======================|\n",
            "|   0  Tesla K80           Off  | 00000000:00:04.0 Off |                    0 |\n",
            "| N/A   73C    P8    35W / 149W |      3MiB / 11441MiB |      0%      Default |\n",
            "|                               |                      |                  N/A |\n",
            "+-------------------------------+----------------------+----------------------+\n",
            "                                                                               \n",
            "+-----------------------------------------------------------------------------+\n",
            "| Processes:                                                                  |\n",
            "|  GPU   GI   CI        PID   Type   Process name                  GPU Memory |\n",
            "|        ID   ID                                                   Usage      |\n",
            "|=============================================================================|\n",
            "|  No running processes found                                                 |\n",
            "+-----------------------------------------------------------------------------+\n"
          ]
        }
      ]
    },
    {
      "cell_type": "markdown",
      "metadata": {
        "id": "F1ZlxYDfziuv"
      },
      "source": [
        "** Note: ** If you have access on CUDA-enabled GPU, TwnsorFlow will automatically use it whenever possible"
      ]
    },
    {
      "cell_type": "code",
      "metadata": {
        "id": "O8FRvkoqpGNm"
      },
      "source": [
        ""
      ],
      "execution_count": null,
      "outputs": []
    },
    {
      "cell_type": "markdown",
      "metadata": {
        "id": "WcyYPOmSpJEi"
      },
      "source": [
        "### Homework"
      ]
    },
    {
      "cell_type": "code",
      "metadata": {
        "colab": {
          "base_uri": "https://localhost:8080/"
        },
        "id": "kGMpgSyApR-0",
        "outputId": "cc5c8945-ab0b-4d27-8353-7226d1c6195b"
      },
      "source": [
        "# Create a vector, scalar, matrix and tensor with values of your choosing using tf.constant().\n",
        "vector = tf.constant([2, 6, 12])\n",
        "scalar = tf.constant(3)\n",
        "matrix = tf.constant([[1, 2, 3],\n",
        "                      [4, 5, 6]])\n",
        "tensor = tf.constant([[[1, 2, 3], \n",
        "                       [4, 5, 6],],\n",
        "                      [[7, 8, 9], \n",
        "                       [10, 11, 12]]])\n",
        "vector, scalar, matrix, tensor"
      ],
      "execution_count": null,
      "outputs": [
        {
          "output_type": "execute_result",
          "data": {
            "text/plain": [
              "(<tf.Tensor: shape=(3,), dtype=int32, numpy=array([ 2,  6, 12], dtype=int32)>,\n",
              " <tf.Tensor: shape=(), dtype=int32, numpy=3>,\n",
              " <tf.Tensor: shape=(2, 3), dtype=int32, numpy=\n",
              " array([[1, 2, 3],\n",
              "        [4, 5, 6]], dtype=int32)>,\n",
              " <tf.Tensor: shape=(2, 2, 3), dtype=int32, numpy=\n",
              " array([[[ 1,  2,  3],\n",
              "         [ 4,  5,  6]],\n",
              " \n",
              "        [[ 7,  8,  9],\n",
              "         [10, 11, 12]]], dtype=int32)>)"
            ]
          },
          "metadata": {},
          "execution_count": 3
        }
      ]
    },
    {
      "cell_type": "code",
      "metadata": {
        "colab": {
          "base_uri": "https://localhost:8080/"
        },
        "id": "oY_Lb5yQpU7o",
        "outputId": "99185dfd-e275-435e-eaac-45bd7880bda9"
      },
      "source": [
        "# Find the shape, rank and size of the tensors you created in 1.\n",
        "vector.shape, vector.ndim, tf.size(vector)"
      ],
      "execution_count": null,
      "outputs": [
        {
          "output_type": "execute_result",
          "data": {
            "text/plain": [
              "(TensorShape([3]), 1, <tf.Tensor: shape=(), dtype=int32, numpy=3>)"
            ]
          },
          "metadata": {},
          "execution_count": 26
        }
      ]
    },
    {
      "cell_type": "code",
      "metadata": {
        "colab": {
          "base_uri": "https://localhost:8080/"
        },
        "id": "Zf4vBVobOMjD",
        "outputId": "7ca4420b-50ed-470e-bdbe-09ba624ab4c4"
      },
      "source": [
        "scalar.shape, scalar.ndim, tf.size(scalar)"
      ],
      "execution_count": null,
      "outputs": [
        {
          "output_type": "execute_result",
          "data": {
            "text/plain": [
              "(TensorShape([]), 0, <tf.Tensor: shape=(), dtype=int32, numpy=1>)"
            ]
          },
          "metadata": {},
          "execution_count": 20
        }
      ]
    },
    {
      "cell_type": "code",
      "metadata": {
        "colab": {
          "base_uri": "https://localhost:8080/"
        },
        "id": "6qEZkPgbOi3b",
        "outputId": "c3694efd-226e-47b9-f901-b616b9ee3551"
      },
      "source": [
        "matrix.shape, matrix.ndim, tf.size(matrix)"
      ],
      "execution_count": null,
      "outputs": [
        {
          "output_type": "execute_result",
          "data": {
            "text/plain": [
              "(TensorShape([2, 3]), 2, <tf.Tensor: shape=(), dtype=int32, numpy=6>)"
            ]
          },
          "metadata": {},
          "execution_count": 21
        }
      ]
    },
    {
      "cell_type": "code",
      "metadata": {
        "colab": {
          "base_uri": "https://localhost:8080/"
        },
        "id": "uK_PSNMlOw24",
        "outputId": "baed5466-ab9b-4701-fdf5-73710f65cafa"
      },
      "source": [
        "tensor.shape, tensor.ndim, tf.size(tensor)"
      ],
      "execution_count": null,
      "outputs": [
        {
          "output_type": "execute_result",
          "data": {
            "text/plain": [
              "(TensorShape([2, 2, 3]), 3, <tf.Tensor: shape=(), dtype=int32, numpy=12>)"
            ]
          },
          "metadata": {},
          "execution_count": 22
        }
      ]
    },
    {
      "cell_type": "code",
      "metadata": {
        "colab": {
          "base_uri": "https://localhost:8080/"
        },
        "id": "Dg-Eme7aPX4k",
        "outputId": "85e44d08-946d-4cb2-f3fa-0a761acc3e70"
      },
      "source": [
        "# Create two tensors containing random values between 0 and 1 with shape [5, 300].\n",
        "tensor_one = tf.constant(tf.random.uniform(shape=[5, 300]))\n",
        "tensor_two = tf.constant(tf.random.uniform(shape=[1500]), shape=(5, 300))\n",
        "tensor_one"
      ],
      "execution_count": null,
      "outputs": [
        {
          "output_type": "execute_result",
          "data": {
            "text/plain": [
              "<tf.Tensor: shape=(5, 300), dtype=float32, numpy=\n",
              "array([[0.20952594, 0.07946479, 0.8939941 , ..., 0.5821004 , 0.93130744,\n",
              "        0.7368045 ],\n",
              "       [0.8911463 , 0.465603  , 0.9812691 , ..., 0.5063453 , 0.82892954,\n",
              "        0.41618717],\n",
              "       [0.3814733 , 0.18006349, 0.1667993 , ..., 0.16662753, 0.50133   ,\n",
              "        0.917305  ],\n",
              "       [0.9071454 , 0.87995994, 0.6858367 , ..., 0.74011827, 0.2618233 ,\n",
              "        0.11815202],\n",
              "       [0.97781765, 0.39648616, 0.6741847 , ..., 0.74597204, 0.41781032,\n",
              "        0.93752015]], dtype=float32)>"
            ]
          },
          "metadata": {},
          "execution_count": 60
        }
      ]
    },
    {
      "cell_type": "code",
      "metadata": {
        "colab": {
          "base_uri": "https://localhost:8080/"
        },
        "id": "eefuyIDSjq8W",
        "outputId": "f8ffa14d-efee-411e-93e3-7e9297695254"
      },
      "source": [
        "tensor_one.shape, tensor_one.ndim, tf.size(tensor_one)"
      ],
      "execution_count": null,
      "outputs": [
        {
          "output_type": "execute_result",
          "data": {
            "text/plain": [
              "(TensorShape([5, 300]), 2, <tf.Tensor: shape=(), dtype=int32, numpy=1500>)"
            ]
          },
          "metadata": {},
          "execution_count": 61
        }
      ]
    },
    {
      "cell_type": "code",
      "metadata": {
        "colab": {
          "base_uri": "https://localhost:8080/"
        },
        "id": "qGgMxr5yooHM",
        "outputId": "a7caa177-dc2b-4b28-a03b-8939e889c2f1"
      },
      "source": [
        "tensor_two.shape, tensor_two.ndim, tf.size(tensor_two)"
      ],
      "execution_count": null,
      "outputs": [
        {
          "output_type": "execute_result",
          "data": {
            "text/plain": [
              "(TensorShape([5, 300]), 2, <tf.Tensor: shape=(), dtype=int32, numpy=1500>)"
            ]
          },
          "metadata": {},
          "execution_count": 62
        }
      ]
    },
    {
      "cell_type": "code",
      "metadata": {
        "colab": {
          "base_uri": "https://localhost:8080/"
        },
        "id": "LyV0EKiyjrbN",
        "outputId": "11c8153a-a8f4-4f39-f778-1a64cfe1fa64"
      },
      "source": [
        "# Multiply the two tensors you created in previous step using matrix multiplication.\n",
        "tf.matmul(tensor_one, tf.transpose(tensor_two))"
      ],
      "execution_count": null,
      "outputs": [
        {
          "output_type": "execute_result",
          "data": {
            "text/plain": [
              "<tf.Tensor: shape=(5, 5), dtype=float32, numpy=\n",
              "array([[75.936264, 77.98968 , 72.27736 , 74.28462 , 74.86198 ],\n",
              "       [73.432884, 79.44583 , 74.420845, 75.073784, 79.244354],\n",
              "       [76.88106 , 76.58536 , 76.16366 , 77.77385 , 76.74028 ],\n",
              "       [76.5078  , 77.813965, 71.99458 , 77.09352 , 77.61808 ],\n",
              "       [78.82603 , 82.06985 , 75.500114, 79.598694, 79.46073 ]],\n",
              "      dtype=float32)>"
            ]
          },
          "metadata": {},
          "execution_count": 70
        }
      ]
    },
    {
      "cell_type": "code",
      "metadata": {
        "colab": {
          "base_uri": "https://localhost:8080/"
        },
        "id": "DjvAEAYZjxY8",
        "outputId": "9167eddf-c700-4f93-860a-7fe21c09804a"
      },
      "source": [
        "# Multiply the two tensors you created in previous step using dot product\n",
        "tf.tensordot(tensor_one, tf.transpose(tensor_two), axes=1)"
      ],
      "execution_count": null,
      "outputs": [
        {
          "output_type": "execute_result",
          "data": {
            "text/plain": [
              "<tf.Tensor: shape=(5, 5), dtype=float32, numpy=\n",
              "array([[75.936264, 77.98968 , 72.27736 , 74.28462 , 74.86198 ],\n",
              "       [73.432884, 79.44583 , 74.420845, 75.073784, 79.244354],\n",
              "       [76.88106 , 76.58536 , 76.16366 , 77.77385 , 76.74028 ],\n",
              "       [76.5078  , 77.813965, 71.99458 , 77.09352 , 77.61808 ],\n",
              "       [78.82603 , 82.06985 , 75.500114, 79.598694, 79.46073 ]],\n",
              "      dtype=float32)>"
            ]
          },
          "metadata": {},
          "execution_count": 71
        }
      ]
    },
    {
      "cell_type": "code",
      "metadata": {
        "colab": {
          "base_uri": "https://localhost:8080/"
        },
        "id": "PrgOUmXikJYH",
        "outputId": "9eaf9bd1-4afc-4b21-9b70-4e24198e12d5"
      },
      "source": [
        "# Create a tensor with random values between 0 and 1 with shape [224, 224, 3].\n",
        "tensor = tf.constant(tf.random.uniform(shape=[224, 224, 3]))\n",
        "tensor"
      ],
      "execution_count": null,
      "outputs": [
        {
          "output_type": "execute_result",
          "data": {
            "text/plain": [
              "<tf.Tensor: shape=(224, 224, 3), dtype=float32, numpy=\n",
              "array([[[0.19281638, 0.6706935 , 0.47679496],\n",
              "        [0.5697421 , 0.39761853, 0.18175268],\n",
              "        [0.6677712 , 0.48115647, 0.8118266 ],\n",
              "        ...,\n",
              "        [0.46452808, 0.45868945, 0.9631299 ],\n",
              "        [0.8764913 , 0.09501743, 0.30889595],\n",
              "        [0.8839221 , 0.30176234, 0.7539103 ]],\n",
              "\n",
              "       [[0.6376561 , 0.14313066, 0.8463055 ],\n",
              "        [0.66305375, 0.5555774 , 0.24638951],\n",
              "        [0.48808646, 0.36936498, 0.11277127],\n",
              "        ...,\n",
              "        [0.6213269 , 0.33207035, 0.7121198 ],\n",
              "        [0.51567554, 0.67524517, 0.4759394 ],\n",
              "        [0.1218152 , 0.47727144, 0.22320807]],\n",
              "\n",
              "       [[0.96623325, 0.4000361 , 0.24714744],\n",
              "        [0.6222594 , 0.69294584, 0.81901634],\n",
              "        [0.14200008, 0.58572245, 0.7704307 ],\n",
              "        ...,\n",
              "        [0.55206776, 0.0915792 , 0.27293158],\n",
              "        [0.30323994, 0.5618496 , 0.3933885 ],\n",
              "        [0.4120767 , 0.500301  , 0.5386454 ]],\n",
              "\n",
              "       ...,\n",
              "\n",
              "       [[0.89593005, 0.5388367 , 0.94294584],\n",
              "        [0.12057829, 0.741541  , 0.2315197 ],\n",
              "        [0.90742576, 0.23763931, 0.68981564],\n",
              "        ...,\n",
              "        [0.07980072, 0.7457346 , 0.81624985],\n",
              "        [0.5688304 , 0.03447247, 0.58339965],\n",
              "        [0.42704248, 0.97453046, 0.34149384]],\n",
              "\n",
              "       [[0.6613543 , 0.7689346 , 0.73498964],\n",
              "        [0.8977418 , 0.656369  , 0.25527477],\n",
              "        [0.28858113, 0.54022944, 0.64034593],\n",
              "        ...,\n",
              "        [0.11922538, 0.9201716 , 0.6168016 ],\n",
              "        [0.8337004 , 0.74864924, 0.7402315 ],\n",
              "        [0.6439508 , 0.8940197 , 0.2363261 ]],\n",
              "\n",
              "       [[0.76956356, 0.7003002 , 0.4243939 ],\n",
              "        [0.6005429 , 0.36313224, 0.39111042],\n",
              "        [0.6626948 , 0.24823749, 0.7935127 ],\n",
              "        ...,\n",
              "        [0.06677353, 0.37139118, 0.7392609 ],\n",
              "        [0.49847794, 0.02343941, 0.5968412 ],\n",
              "        [0.2018255 , 0.9739325 , 0.32117796]]], dtype=float32)>"
            ]
          },
          "metadata": {},
          "execution_count": 27
        }
      ]
    },
    {
      "cell_type": "code",
      "metadata": {
        "colab": {
          "base_uri": "https://localhost:8080/"
        },
        "id": "qtB4w1dUBhhv",
        "outputId": "0b849587-f407-4758-9424-cfaaecb1237a"
      },
      "source": [
        "# Find the min and max values of the tensor you created in 6 along the first axis.\n",
        "tf.reduce_min(tf.reduce_min(tensor, axis=0))"
      ],
      "execution_count": null,
      "outputs": [
        {
          "output_type": "execute_result",
          "data": {
            "text/plain": [
              "<tf.Tensor: shape=(), dtype=float32, numpy=4.6491623e-06>"
            ]
          },
          "metadata": {},
          "execution_count": 28
        }
      ]
    },
    {
      "cell_type": "code",
      "metadata": {
        "colab": {
          "base_uri": "https://localhost:8080/"
        },
        "id": "KF_5uEXFBk67",
        "outputId": "7bb118f4-568b-4194-8fd0-1123e0cbba7a"
      },
      "source": [
        "tf.reduce_max(tf.reduce_max(tensor, axis=0))"
      ],
      "execution_count": null,
      "outputs": [
        {
          "output_type": "execute_result",
          "data": {
            "text/plain": [
              "<tf.Tensor: shape=(), dtype=float32, numpy=0.99999785>"
            ]
          },
          "metadata": {},
          "execution_count": 30
        }
      ]
    },
    {
      "cell_type": "code",
      "metadata": {
        "colab": {
          "base_uri": "https://localhost:8080/"
        },
        "id": "L2kan4y8Fs62",
        "outputId": "097e8fe9-94a7-4e06-b2cc-ca6bbd530aa0"
      },
      "source": [
        "# Created a tensor with random values of shape [1, 224, 224, 3] then squeeze it to change the shape to [224, 224, 3].\n",
        "tensor_shape = tf.constant(tf.random.uniform(shape=[1, 224, 224, 3]))\n",
        "tensor_shape.shape"
      ],
      "execution_count": null,
      "outputs": [
        {
          "output_type": "execute_result",
          "data": {
            "text/plain": [
              "TensorShape([1, 224, 224, 3])"
            ]
          },
          "metadata": {},
          "execution_count": 35
        }
      ]
    },
    {
      "cell_type": "code",
      "metadata": {
        "colab": {
          "base_uri": "https://localhost:8080/"
        },
        "id": "3JxB72iwFuTp",
        "outputId": "ebdfc643-fa41-4f69-f52e-620a58264d10"
      },
      "source": [
        "tensor_shape_squeezed = tf.squeeze(tensor_shape)\n",
        "tensor_shape_squeezed, tensor_shape_squeezed.shape"
      ],
      "execution_count": null,
      "outputs": [
        {
          "output_type": "execute_result",
          "data": {
            "text/plain": [
              "(<tf.Tensor: shape=(224, 224, 3), dtype=float32, numpy=\n",
              " array([[[0.05225003, 0.50963247, 0.8090826 ],\n",
              "         [0.6840806 , 0.8174261 , 0.6544466 ],\n",
              "         [0.6597632 , 0.54885256, 0.41981626],\n",
              "         ...,\n",
              "         [0.14845169, 0.80303776, 0.9925443 ],\n",
              "         [0.5891669 , 0.8755958 , 0.9322274 ],\n",
              "         [0.61256874, 0.92286897, 0.8401011 ]],\n",
              " \n",
              "        [[0.5237982 , 0.77908957, 0.94906175],\n",
              "         [0.00167477, 0.8422941 , 0.2815857 ],\n",
              "         [0.7331481 , 0.05240119, 0.39540422],\n",
              "         ...,\n",
              "         [0.14826119, 0.6558224 , 0.06122565],\n",
              "         [0.7335422 , 0.0345124 , 0.51267827],\n",
              "         [0.61119616, 0.92972267, 0.60142326]],\n",
              " \n",
              "        [[0.40670323, 0.02215338, 0.26072776],\n",
              "         [0.42260337, 0.4068904 , 0.29605615],\n",
              "         [0.95271945, 0.03167808, 0.12544906],\n",
              "         ...,\n",
              "         [0.6702367 , 0.20522463, 0.38573062],\n",
              "         [0.60199964, 0.2050283 , 0.82260394],\n",
              "         [0.9687164 , 0.12225616, 0.54375434]],\n",
              " \n",
              "        ...,\n",
              " \n",
              "        [[0.29435468, 0.7408123 , 0.5683576 ],\n",
              "         [0.21677542, 0.94484603, 0.1100049 ],\n",
              "         [0.92821467, 0.4036132 , 0.19549632],\n",
              "         ...,\n",
              "         [0.49471557, 0.39579892, 0.17301822],\n",
              "         [0.18621063, 0.90057266, 0.3480593 ],\n",
              "         [0.34395885, 0.8143327 , 0.10676146]],\n",
              " \n",
              "        [[0.3634621 , 0.980199  , 0.02902246],\n",
              "         [0.8759632 , 0.55191827, 0.658121  ],\n",
              "         [0.59736335, 0.00674689, 0.34541202],\n",
              "         ...,\n",
              "         [0.52960896, 0.5321443 , 0.8209312 ],\n",
              "         [0.05368674, 0.97560537, 0.58747745],\n",
              "         [0.8669667 , 0.64679   , 0.6744646 ]],\n",
              " \n",
              "        [[0.10460806, 0.2809925 , 0.9876282 ],\n",
              "         [0.6728568 , 0.7185484 , 0.41224813],\n",
              "         [0.949389  , 0.808715  , 0.6175889 ],\n",
              "         ...,\n",
              "         [0.7965354 , 0.9332888 , 0.20523906],\n",
              "         [0.4302461 , 0.02009511, 0.40856588],\n",
              "         [0.33153248, 0.36216247, 0.7024219 ]]], dtype=float32)>,\n",
              " TensorShape([224, 224, 3]))"
            ]
          },
          "metadata": {},
          "execution_count": 36
        }
      ]
    },
    {
      "cell_type": "code",
      "metadata": {
        "colab": {
          "base_uri": "https://localhost:8080/"
        },
        "id": "OmGww0wJL9VW",
        "outputId": "44c92614-cd62-4081-f3ae-3b044bbf3574"
      },
      "source": [
        "# Create a tensor with shape [10] using your own choice of values, then find the index which has the maximum value.\n",
        "some_list = [9,8,7,6,5,4,3,2,1,0] # cold be red, yellow, green and blue\n",
        "tf.argmax(some_list)\n"
      ],
      "execution_count": null,
      "outputs": [
        {
          "output_type": "execute_result",
          "data": {
            "text/plain": [
              "<tf.Tensor: shape=(), dtype=int64, numpy=0>"
            ]
          },
          "metadata": {},
          "execution_count": 45
        }
      ]
    },
    {
      "cell_type": "code",
      "metadata": {
        "colab": {
          "base_uri": "https://localhost:8080/"
        },
        "id": "rOFVP8B9PrWw",
        "outputId": "83b80ed5-0114-43f6-b8c1-f8f4610a3f3c"
      },
      "source": [
        "#One-hot encode the tensor you created\n",
        "tf.one_hot(some_list, depth=10, on_value=\"lol\", off_value=\"kek\")"
      ],
      "execution_count": null,
      "outputs": [
        {
          "output_type": "execute_result",
          "data": {
            "text/plain": [
              "<tf.Tensor: shape=(10, 10), dtype=string, numpy=\n",
              "array([[b'kek', b'kek', b'kek', b'kek', b'kek', b'kek', b'kek', b'kek',\n",
              "        b'kek', b'lol'],\n",
              "       [b'kek', b'kek', b'kek', b'kek', b'kek', b'kek', b'kek', b'kek',\n",
              "        b'lol', b'kek'],\n",
              "       [b'kek', b'kek', b'kek', b'kek', b'kek', b'kek', b'kek', b'lol',\n",
              "        b'kek', b'kek'],\n",
              "       [b'kek', b'kek', b'kek', b'kek', b'kek', b'kek', b'lol', b'kek',\n",
              "        b'kek', b'kek'],\n",
              "       [b'kek', b'kek', b'kek', b'kek', b'kek', b'lol', b'kek', b'kek',\n",
              "        b'kek', b'kek'],\n",
              "       [b'kek', b'kek', b'kek', b'kek', b'lol', b'kek', b'kek', b'kek',\n",
              "        b'kek', b'kek'],\n",
              "       [b'kek', b'kek', b'kek', b'lol', b'kek', b'kek', b'kek', b'kek',\n",
              "        b'kek', b'kek'],\n",
              "       [b'kek', b'kek', b'lol', b'kek', b'kek', b'kek', b'kek', b'kek',\n",
              "        b'kek', b'kek'],\n",
              "       [b'kek', b'lol', b'kek', b'kek', b'kek', b'kek', b'kek', b'kek',\n",
              "        b'kek', b'kek'],\n",
              "       [b'lol', b'kek', b'kek', b'kek', b'kek', b'kek', b'kek', b'kek',\n",
              "        b'kek', b'kek']], dtype=object)>"
            ]
          },
          "metadata": {},
          "execution_count": 46
        }
      ]
    },
    {
      "cell_type": "code",
      "metadata": {
        "id": "wuQsDN_UNuNE"
      },
      "source": [
        ""
      ],
      "execution_count": null,
      "outputs": []
    },
    {
      "cell_type": "markdown",
      "metadata": {
        "id": "iZaFCZVLQsng"
      },
      "source": [
        "## TF guide for begginers\n",
        "### https://www.tensorflow.org/tutorials/quickstart/beginner"
      ]
    },
    {
      "cell_type": "code",
      "metadata": {
        "colab": {
          "base_uri": "https://localhost:8080/"
        },
        "id": "myo9HNPrQzO3",
        "outputId": "3a1dc40b-31c7-4ed4-ac9e-dcadced16943"
      },
      "source": [
        "# Load and prepare the MNIST dataset. Convert the sample data from integers to floating-point numbers:\n",
        "mnist = tf.keras.datasets.mnist\n",
        "(x_train, y_train), (x_test, y_test) = mnist.load_data()\n",
        "x_train.dtype, x_train.shape, x_train.ndim, tf.size(x_train)"
      ],
      "execution_count": null,
      "outputs": [
        {
          "output_type": "execute_result",
          "data": {
            "text/plain": [
              "(dtype('uint8'),\n",
              " (60000, 28, 28),\n",
              " 3,\n",
              " <tf.Tensor: shape=(), dtype=int32, numpy=47040000>)"
            ]
          },
          "metadata": {},
          "execution_count": 65
        }
      ]
    },
    {
      "cell_type": "code",
      "metadata": {
        "colab": {
          "base_uri": "https://localhost:8080/"
        },
        "id": "G9fpIhlNXXIv",
        "outputId": "1e3844fd-d9ae-4682-c97f-31715e78928c"
      },
      "source": [
        "x_train, x_test = x_train / 255.0, x_test / 255.0\n",
        "x_train.dtype, x_train.shape, x_train.ndim, tf.size(x_train)"
      ],
      "execution_count": null,
      "outputs": [
        {
          "output_type": "execute_result",
          "data": {
            "text/plain": [
              "(dtype('float64'),\n",
              " (60000, 28, 28),\n",
              " 3,\n",
              " <tf.Tensor: shape=(), dtype=int32, numpy=47040000>)"
            ]
          },
          "metadata": {},
          "execution_count": 66
        }
      ]
    },
    {
      "cell_type": "code",
      "metadata": {
        "id": "zZaVYUHmXdPz"
      },
      "source": [
        "# Build a tf.keras.Sequential model by stacking layers.\n",
        "model = tf.keras.models.Sequential([\n",
        "  tf.keras.layers.Flatten(input_shape=(28, 28)),\n",
        "  tf.keras.layers.Dense(128, activation='relu'),\n",
        "  tf.keras.layers.Dropout(0.2),\n",
        "  tf.keras.layers.Dense(10)\n",
        "])"
      ],
      "execution_count": null,
      "outputs": []
    },
    {
      "cell_type": "code",
      "metadata": {
        "colab": {
          "base_uri": "https://localhost:8080/"
        },
        "id": "vHRQqqN9XuJp",
        "outputId": "f7cc5ee4-5f29-4cc0-8cf0-431ca073eede"
      },
      "source": [
        "# For each example, the model returns a vector of logits or log-odds scores, one for each class.\n",
        "predictions = model(x_train[:1]).numpy()\n",
        "predictions"
      ],
      "execution_count": null,
      "outputs": [
        {
          "output_type": "execute_result",
          "data": {
            "text/plain": [
              "array([[ 7.7191776e-01,  5.1497626e-01,  6.4517426e-01,  9.6985698e-04,\n",
              "        -1.0242006e+00,  1.5634874e-01, -6.8326727e-02, -7.4702486e-02,\n",
              "         3.5353923e-01, -1.3860989e-01]], dtype=float32)"
            ]
          },
          "metadata": {},
          "execution_count": 68
        }
      ]
    },
    {
      "cell_type": "code",
      "metadata": {
        "colab": {
          "base_uri": "https://localhost:8080/"
        },
        "id": "9BkOGHutYHju",
        "outputId": "52fb87d0-3bb8-41ce-95fe-f71b74046d79"
      },
      "source": [
        "# The tf.nn.softmax function converts these logits to probabilities for each class:\n",
        "tf.nn.softmax(predictions).numpy()"
      ],
      "execution_count": null,
      "outputs": [
        {
          "output_type": "execute_result",
          "data": {
            "text/plain": [
              "array([[0.17409123, 0.13464451, 0.15336734, 0.08053014, 0.02888901,\n",
              "        0.0940673 , 0.07513865, 0.07466111, 0.11457172, 0.07003897]],\n",
              "      dtype=float32)"
            ]
          },
          "metadata": {},
          "execution_count": 69
        }
      ]
    },
    {
      "cell_type": "code",
      "metadata": {
        "colab": {
          "base_uri": "https://localhost:8080/"
        },
        "id": "vP953b0hkk81",
        "outputId": "caeaf5a8-ef9a-41b7-fd43-0eec09e0eb1d"
      },
      "source": [
        "# Define a loss function for training using losses.SparseCategoricalCrossentropy, which takes a vector of logits and a True index and returns a scalar loss for each example.\n",
        "loss_fn = tf.keras.losses.SparseCategoricalCrossentropy(from_logits=True)\n",
        "loss_fn"
      ],
      "execution_count": null,
      "outputs": [
        {
          "output_type": "execute_result",
          "data": {
            "text/plain": [
              "<keras.losses.SparseCategoricalCrossentropy at 0x7fa434e61950>"
            ]
          },
          "metadata": {},
          "execution_count": 70
        }
      ]
    },
    {
      "cell_type": "code",
      "metadata": {
        "colab": {
          "base_uri": "https://localhost:8080/"
        },
        "id": "Ln_TQXN7knTs",
        "outputId": "03d39491-df3a-4e42-b50a-6ea659186a2a"
      },
      "source": [
        "# This loss is equal to the negative log probability of the true class: The loss is zero if the model is sure of the correct class.\n",
        "#This untrained model gives probabilities close to random (1/10 for each class), so the initial loss should be close to -tf.math.log(1/10) ~= 2.3.\n",
        "loss_fn(y_train[:1], predictions).numpy()"
      ],
      "execution_count": null,
      "outputs": [
        {
          "output_type": "execute_result",
          "data": {
            "text/plain": [
              "2.3637447"
            ]
          },
          "metadata": {},
          "execution_count": 71
        }
      ]
    },
    {
      "cell_type": "code",
      "metadata": {
        "colab": {
          "base_uri": "https://localhost:8080/"
        },
        "id": "ID9eQe97oRZx",
        "outputId": "43d8a94f-d1c4-471e-d1f2-790e637a290c"
      },
      "source": [
        "# Before you start training, configure and compile the model using Keras Model.compile. \n",
        "# Set the optimizer class to adam, set the loss to the loss_fn function you defined earlier, \n",
        "# and specify a metric to be evaluated for the model by setting the metrics parameter to accuracy.\n",
        "model.compile(optimizer='adam',\n",
        "              loss=loss_fn,\n",
        "              metrics=['accuracy'])\n",
        "model"
      ],
      "execution_count": null,
      "outputs": [
        {
          "output_type": "execute_result",
          "data": {
            "text/plain": [
              "<keras.engine.sequential.Sequential at 0x7fa434e44a10>"
            ]
          },
          "metadata": {},
          "execution_count": 72
        }
      ]
    },
    {
      "cell_type": "code",
      "metadata": {
        "colab": {
          "base_uri": "https://localhost:8080/"
        },
        "id": "Hgme6KfJo3tW",
        "outputId": "ed3e66ed-ebd6-4c3d-86f6-2d4c285ee760"
      },
      "source": [
        "# Train and evaluate your model\n",
        "\n",
        "# Use the Model.fit method to adjust your model parameters and minimize the loss:\n",
        "model.fit(x_train, y_train, epochs=5)"
      ],
      "execution_count": null,
      "outputs": [
        {
          "output_type": "stream",
          "name": "stdout",
          "text": [
            "Epoch 1/5\n",
            "1875/1875 [==============================] - 5s 2ms/step - loss: 0.2955 - accuracy: 0.9143\n",
            "Epoch 2/5\n",
            "1875/1875 [==============================] - 4s 2ms/step - loss: 0.1432 - accuracy: 0.9571\n",
            "Epoch 3/5\n",
            "1875/1875 [==============================] - 4s 2ms/step - loss: 0.1064 - accuracy: 0.9679\n",
            "Epoch 4/5\n",
            "1875/1875 [==============================] - 4s 2ms/step - loss: 0.0873 - accuracy: 0.9729\n",
            "Epoch 5/5\n",
            "1875/1875 [==============================] - 4s 2ms/step - loss: 0.0757 - accuracy: 0.9762\n"
          ]
        },
        {
          "output_type": "execute_result",
          "data": {
            "text/plain": [
              "<keras.callbacks.History at 0x7fa434e7c710>"
            ]
          },
          "metadata": {},
          "execution_count": 73
        }
      ]
    },
    {
      "cell_type": "code",
      "metadata": {
        "colab": {
          "base_uri": "https://localhost:8080/"
        },
        "id": "6WG3GQo-o_LY",
        "outputId": "3796311e-8f57-4963-df98-484db05ef03d"
      },
      "source": [
        "# The Model.evaluate method checks the models performance, usually on a \"Validation-set\" or \"Test-set\".\n",
        "model.evaluate(x_test,  y_test, verbose=2)"
      ],
      "execution_count": null,
      "outputs": [
        {
          "output_type": "stream",
          "name": "stdout",
          "text": [
            "313/313 - 1s - loss: 0.0723 - accuracy: 0.9776\n"
          ]
        },
        {
          "output_type": "execute_result",
          "data": {
            "text/plain": [
              "[0.07225031405687332, 0.9775999784469604]"
            ]
          },
          "metadata": {},
          "execution_count": 74
        }
      ]
    },
    {
      "cell_type": "code",
      "metadata": {
        "colab": {
          "base_uri": "https://localhost:8080/"
        },
        "id": "WZZyv7onpLJk",
        "outputId": "85b3afdd-683c-47dc-b03d-08612302425f"
      },
      "source": [
        "# The image classifier is now trained to ~98% accuracy on this dataset. To learn more, read the TensorFlow tutorials.\n",
        "# If you want your model to return a probability, you can wrap the trained model, and attach the softmax to it:\n",
        "probability_model = tf.keras.Sequential([\n",
        "  model,\n",
        "  tf.keras.layers.Softmax()\n",
        "])\n",
        "probability_model(x_test[:5])"
      ],
      "execution_count": null,
      "outputs": [
        {
          "output_type": "execute_result",
          "data": {
            "text/plain": [
              "<tf.Tensor: shape=(5, 10), dtype=float32, numpy=\n",
              "array([[5.9739712e-08, 1.9290118e-09, 5.2766874e-05, 3.9003811e-05,\n",
              "        2.8803133e-11, 3.4952888e-07, 2.7125603e-13, 9.9990225e-01,\n",
              "        3.8122003e-08, 5.6088384e-06],\n",
              "       [7.8710380e-09, 6.4175903e-05, 9.9992394e-01, 9.5587220e-06,\n",
              "        3.1974123e-16, 2.3885596e-06, 4.4646550e-10, 7.5021308e-14,\n",
              "        2.2921641e-08, 2.1066497e-14],\n",
              "       [1.0267752e-06, 9.9893409e-01, 1.1468343e-04, 8.7785593e-06,\n",
              "        1.2244221e-05, 8.7833530e-07, 7.1156933e-06, 7.6877460e-04,\n",
              "        1.5201580e-04, 2.8276065e-07],\n",
              "       [9.9977726e-01, 4.2991285e-08, 1.2221230e-04, 4.1907714e-07,\n",
              "        3.4494579e-07, 8.2956594e-06, 2.5809119e-05, 6.2876388e-05,\n",
              "        8.9874135e-09, 2.7213975e-06],\n",
              "       [1.7055314e-07, 6.1179146e-09, 4.0896898e-06, 4.4786209e-08,\n",
              "        9.9668866e-01, 5.7737344e-07, 1.9357421e-06, 3.6610109e-05,\n",
              "        1.3159632e-07, 3.2678444e-03]], dtype=float32)>"
            ]
          },
          "metadata": {},
          "execution_count": 76
        }
      ]
    },
    {
      "cell_type": "code",
      "metadata": {
        "id": "UXqY7F44pTU-"
      },
      "source": [
        "# Congratulations! You have trained a machine learning model using a prebuilt dataset using the Keras API.\n",
        "# For more examples of using Keras, check out the tutorials. To learn more about building models with Keras, read the guides.\n",
        "# If you want learn more about loading and preparing data, see the tutorials on image data loading or CSV data loading.\n"
      ],
      "execution_count": null,
      "outputs": []
    }
  ]
}