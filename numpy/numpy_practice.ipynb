{
  "nbformat": 4,
  "nbformat_minor": 0,
  "metadata": {
    "colab": {
      "name": "numpy_practice.ipynb",
      "provenance": [],
      "authorship_tag": "ABX9TyPbQoeA6DAoke9dgI2yb6xH",
      "include_colab_link": true
    },
    "kernelspec": {
      "name": "python3",
      "display_name": "Python 3"
    },
    "language_info": {
      "name": "python"
    }
  },
  "cells": [
    {
      "cell_type": "markdown",
      "metadata": {
        "id": "view-in-github",
        "colab_type": "text"
      },
      "source": [
        "<a href=\"https://colab.research.google.com/github/Nikitaion/TensorFlowLearning/blob/main/numpy/numpy_practice.ipynb\" target=\"_parent\"><img src=\"https://colab.research.google.com/assets/colab-badge.svg\" alt=\"Open In Colab\"/></a>"
      ]
    },
    {
      "cell_type": "code",
      "execution_count": 1,
      "metadata": {
        "id": "Fp0RDqSb5L1R"
      },
      "outputs": [],
      "source": [
        "import numpy as np"
      ]
    },
    {
      "cell_type": "code",
      "source": [
        "# Create a 1-dimensional NumPy array using np.array()\n",
        "array1 = np.array([1, 2, 3])\n",
        "\n",
        "# Create a 2-dimensional NumPy array using np.array()\n",
        "array2 = np.array([[1, 2, 3],\n",
        "                  [4, 5, 6]])\n",
        "\n",
        "# Create a 3-dimensional Numpy array using np.array()\n",
        "array3 = np.array([[[1, 2, 3],\n",
        "                  [4, 5, 6]],\n",
        "                  [[11, 12, 13],\n",
        "                  [14, 15, 16]]])"
      ],
      "metadata": {
        "id": "mmC98iMt6VnE"
      },
      "execution_count": 3,
      "outputs": []
    },
    {
      "cell_type": "code",
      "source": [
        "# Attributes of 1-dimensional array (shape, number of dimensions, data type, size and type)\n",
        "\n",
        "array1.shape, array1.ndim, array1.dtype, array1.size, type(array1)"
      ],
      "metadata": {
        "colab": {
          "base_uri": "https://localhost:8080/"
        },
        "id": "OYeZTZgb8nzf",
        "outputId": "5ae7324b-73cf-4cdc-b03d-db0980ca39b8"
      },
      "execution_count": 6,
      "outputs": [
        {
          "output_type": "execute_result",
          "data": {
            "text/plain": [
              "((3,), 1, dtype('int64'), 3, numpy.ndarray)"
            ]
          },
          "metadata": {},
          "execution_count": 6
        }
      ]
    },
    {
      "cell_type": "code",
      "source": [
        "# Attributes of 2-dimensional array\n",
        "array2.shape, array2.ndim, array2.dtype, array2.size, type(array2)"
      ],
      "metadata": {
        "colab": {
          "base_uri": "https://localhost:8080/"
        },
        "id": "QwlCxEoS8vu8",
        "outputId": "f41d09e5-8e0a-492f-cc45-5629d0b4488f"
      },
      "execution_count": 7,
      "outputs": [
        {
          "output_type": "execute_result",
          "data": {
            "text/plain": [
              "((2, 3), 2, dtype('int64'), 6, numpy.ndarray)"
            ]
          },
          "metadata": {},
          "execution_count": 7
        }
      ]
    },
    {
      "cell_type": "code",
      "source": [
        "# Attributes of 3-dimensional array\n",
        "array3.shape, array3.ndim, array3.dtype, array3.size, type(array3)"
      ],
      "metadata": {
        "colab": {
          "base_uri": "https://localhost:8080/"
        },
        "id": "zu77vrRF9EIw",
        "outputId": "15b641c4-cb11-492f-f868-a0e19cd24a5f"
      },
      "execution_count": 8,
      "outputs": [
        {
          "output_type": "execute_result",
          "data": {
            "text/plain": [
              "((2, 2, 3), 3, dtype('int64'), 12, numpy.ndarray)"
            ]
          },
          "metadata": {},
          "execution_count": 8
        }
      ]
    },
    {
      "cell_type": "code",
      "source": [
        "# Import pandas and create a DataFrame out of one of the arrays you've created\n",
        "import pandas as pd\n",
        "array1DF = pd.DataFrame(array1)\n",
        "array1DF"
      ],
      "metadata": {
        "colab": {
          "base_uri": "https://localhost:8080/",
          "height": 143
        },
        "id": "mOU-6K2K9Hi7",
        "outputId": "88ba8478-77a5-4e75-d147-94dded2ce3cf"
      },
      "execution_count": 12,
      "outputs": [
        {
          "output_type": "execute_result",
          "data": {
            "text/plain": [
              "   0\n",
              "0  1\n",
              "1  2\n",
              "2  3"
            ],
            "text/html": [
              "\n",
              "  <div id=\"df-7df500f2-2131-4374-8648-5995ecc802bc\">\n",
              "    <div class=\"colab-df-container\">\n",
              "      <div>\n",
              "<style scoped>\n",
              "    .dataframe tbody tr th:only-of-type {\n",
              "        vertical-align: middle;\n",
              "    }\n",
              "\n",
              "    .dataframe tbody tr th {\n",
              "        vertical-align: top;\n",
              "    }\n",
              "\n",
              "    .dataframe thead th {\n",
              "        text-align: right;\n",
              "    }\n",
              "</style>\n",
              "<table border=\"1\" class=\"dataframe\">\n",
              "  <thead>\n",
              "    <tr style=\"text-align: right;\">\n",
              "      <th></th>\n",
              "      <th>0</th>\n",
              "    </tr>\n",
              "  </thead>\n",
              "  <tbody>\n",
              "    <tr>\n",
              "      <th>0</th>\n",
              "      <td>1</td>\n",
              "    </tr>\n",
              "    <tr>\n",
              "      <th>1</th>\n",
              "      <td>2</td>\n",
              "    </tr>\n",
              "    <tr>\n",
              "      <th>2</th>\n",
              "      <td>3</td>\n",
              "    </tr>\n",
              "  </tbody>\n",
              "</table>\n",
              "</div>\n",
              "      <button class=\"colab-df-convert\" onclick=\"convertToInteractive('df-7df500f2-2131-4374-8648-5995ecc802bc')\"\n",
              "              title=\"Convert this dataframe to an interactive table.\"\n",
              "              style=\"display:none;\">\n",
              "        \n",
              "  <svg xmlns=\"http://www.w3.org/2000/svg\" height=\"24px\"viewBox=\"0 0 24 24\"\n",
              "       width=\"24px\">\n",
              "    <path d=\"M0 0h24v24H0V0z\" fill=\"none\"/>\n",
              "    <path d=\"M18.56 5.44l.94 2.06.94-2.06 2.06-.94-2.06-.94-.94-2.06-.94 2.06-2.06.94zm-11 1L8.5 8.5l.94-2.06 2.06-.94-2.06-.94L8.5 2.5l-.94 2.06-2.06.94zm10 10l.94 2.06.94-2.06 2.06-.94-2.06-.94-.94-2.06-.94 2.06-2.06.94z\"/><path d=\"M17.41 7.96l-1.37-1.37c-.4-.4-.92-.59-1.43-.59-.52 0-1.04.2-1.43.59L10.3 9.45l-7.72 7.72c-.78.78-.78 2.05 0 2.83L4 21.41c.39.39.9.59 1.41.59.51 0 1.02-.2 1.41-.59l7.78-7.78 2.81-2.81c.8-.78.8-2.07 0-2.86zM5.41 20L4 18.59l7.72-7.72 1.47 1.35L5.41 20z\"/>\n",
              "  </svg>\n",
              "      </button>\n",
              "      \n",
              "  <style>\n",
              "    .colab-df-container {\n",
              "      display:flex;\n",
              "      flex-wrap:wrap;\n",
              "      gap: 12px;\n",
              "    }\n",
              "\n",
              "    .colab-df-convert {\n",
              "      background-color: #E8F0FE;\n",
              "      border: none;\n",
              "      border-radius: 50%;\n",
              "      cursor: pointer;\n",
              "      display: none;\n",
              "      fill: #1967D2;\n",
              "      height: 32px;\n",
              "      padding: 0 0 0 0;\n",
              "      width: 32px;\n",
              "    }\n",
              "\n",
              "    .colab-df-convert:hover {\n",
              "      background-color: #E2EBFA;\n",
              "      box-shadow: 0px 1px 2px rgba(60, 64, 67, 0.3), 0px 1px 3px 1px rgba(60, 64, 67, 0.15);\n",
              "      fill: #174EA6;\n",
              "    }\n",
              "\n",
              "    [theme=dark] .colab-df-convert {\n",
              "      background-color: #3B4455;\n",
              "      fill: #D2E3FC;\n",
              "    }\n",
              "\n",
              "    [theme=dark] .colab-df-convert:hover {\n",
              "      background-color: #434B5C;\n",
              "      box-shadow: 0px 1px 3px 1px rgba(0, 0, 0, 0.15);\n",
              "      filter: drop-shadow(0px 1px 2px rgba(0, 0, 0, 0.3));\n",
              "      fill: #FFFFFF;\n",
              "    }\n",
              "  </style>\n",
              "\n",
              "      <script>\n",
              "        const buttonEl =\n",
              "          document.querySelector('#df-7df500f2-2131-4374-8648-5995ecc802bc button.colab-df-convert');\n",
              "        buttonEl.style.display =\n",
              "          google.colab.kernel.accessAllowed ? 'block' : 'none';\n",
              "\n",
              "        async function convertToInteractive(key) {\n",
              "          const element = document.querySelector('#df-7df500f2-2131-4374-8648-5995ecc802bc');\n",
              "          const dataTable =\n",
              "            await google.colab.kernel.invokeFunction('convertToInteractive',\n",
              "                                                     [key], {});\n",
              "          if (!dataTable) return;\n",
              "\n",
              "          const docLinkHtml = 'Like what you see? Visit the ' +\n",
              "            '<a target=\"_blank\" href=https://colab.research.google.com/notebooks/data_table.ipynb>data table notebook</a>'\n",
              "            + ' to learn more about interactive tables.';\n",
              "          element.innerHTML = '';\n",
              "          dataTable['output_type'] = 'display_data';\n",
              "          await google.colab.output.renderOutput(dataTable, element);\n",
              "          const docLink = document.createElement('div');\n",
              "          docLink.innerHTML = docLinkHtml;\n",
              "          element.appendChild(docLink);\n",
              "        }\n",
              "      </script>\n",
              "    </div>\n",
              "  </div>\n",
              "  "
            ]
          },
          "metadata": {},
          "execution_count": 12
        }
      ]
    },
    {
      "cell_type": "code",
      "source": [
        "array2DF = pd.DataFrame(array2)\n",
        "array2DF"
      ],
      "metadata": {
        "colab": {
          "base_uri": "https://localhost:8080/",
          "height": 112
        },
        "id": "4aD0FFP79UeP",
        "outputId": "f554bb61-9027-49a4-cec2-905ac3e0c5b3"
      },
      "execution_count": 13,
      "outputs": [
        {
          "output_type": "execute_result",
          "data": {
            "text/plain": [
              "   0  1  2\n",
              "0  1  2  3\n",
              "1  4  5  6"
            ],
            "text/html": [
              "\n",
              "  <div id=\"df-138ad29d-4e89-4b0c-8e7e-b2a5c79785e6\">\n",
              "    <div class=\"colab-df-container\">\n",
              "      <div>\n",
              "<style scoped>\n",
              "    .dataframe tbody tr th:only-of-type {\n",
              "        vertical-align: middle;\n",
              "    }\n",
              "\n",
              "    .dataframe tbody tr th {\n",
              "        vertical-align: top;\n",
              "    }\n",
              "\n",
              "    .dataframe thead th {\n",
              "        text-align: right;\n",
              "    }\n",
              "</style>\n",
              "<table border=\"1\" class=\"dataframe\">\n",
              "  <thead>\n",
              "    <tr style=\"text-align: right;\">\n",
              "      <th></th>\n",
              "      <th>0</th>\n",
              "      <th>1</th>\n",
              "      <th>2</th>\n",
              "    </tr>\n",
              "  </thead>\n",
              "  <tbody>\n",
              "    <tr>\n",
              "      <th>0</th>\n",
              "      <td>1</td>\n",
              "      <td>2</td>\n",
              "      <td>3</td>\n",
              "    </tr>\n",
              "    <tr>\n",
              "      <th>1</th>\n",
              "      <td>4</td>\n",
              "      <td>5</td>\n",
              "      <td>6</td>\n",
              "    </tr>\n",
              "  </tbody>\n",
              "</table>\n",
              "</div>\n",
              "      <button class=\"colab-df-convert\" onclick=\"convertToInteractive('df-138ad29d-4e89-4b0c-8e7e-b2a5c79785e6')\"\n",
              "              title=\"Convert this dataframe to an interactive table.\"\n",
              "              style=\"display:none;\">\n",
              "        \n",
              "  <svg xmlns=\"http://www.w3.org/2000/svg\" height=\"24px\"viewBox=\"0 0 24 24\"\n",
              "       width=\"24px\">\n",
              "    <path d=\"M0 0h24v24H0V0z\" fill=\"none\"/>\n",
              "    <path d=\"M18.56 5.44l.94 2.06.94-2.06 2.06-.94-2.06-.94-.94-2.06-.94 2.06-2.06.94zm-11 1L8.5 8.5l.94-2.06 2.06-.94-2.06-.94L8.5 2.5l-.94 2.06-2.06.94zm10 10l.94 2.06.94-2.06 2.06-.94-2.06-.94-.94-2.06-.94 2.06-2.06.94z\"/><path d=\"M17.41 7.96l-1.37-1.37c-.4-.4-.92-.59-1.43-.59-.52 0-1.04.2-1.43.59L10.3 9.45l-7.72 7.72c-.78.78-.78 2.05 0 2.83L4 21.41c.39.39.9.59 1.41.59.51 0 1.02-.2 1.41-.59l7.78-7.78 2.81-2.81c.8-.78.8-2.07 0-2.86zM5.41 20L4 18.59l7.72-7.72 1.47 1.35L5.41 20z\"/>\n",
              "  </svg>\n",
              "      </button>\n",
              "      \n",
              "  <style>\n",
              "    .colab-df-container {\n",
              "      display:flex;\n",
              "      flex-wrap:wrap;\n",
              "      gap: 12px;\n",
              "    }\n",
              "\n",
              "    .colab-df-convert {\n",
              "      background-color: #E8F0FE;\n",
              "      border: none;\n",
              "      border-radius: 50%;\n",
              "      cursor: pointer;\n",
              "      display: none;\n",
              "      fill: #1967D2;\n",
              "      height: 32px;\n",
              "      padding: 0 0 0 0;\n",
              "      width: 32px;\n",
              "    }\n",
              "\n",
              "    .colab-df-convert:hover {\n",
              "      background-color: #E2EBFA;\n",
              "      box-shadow: 0px 1px 2px rgba(60, 64, 67, 0.3), 0px 1px 3px 1px rgba(60, 64, 67, 0.15);\n",
              "      fill: #174EA6;\n",
              "    }\n",
              "\n",
              "    [theme=dark] .colab-df-convert {\n",
              "      background-color: #3B4455;\n",
              "      fill: #D2E3FC;\n",
              "    }\n",
              "\n",
              "    [theme=dark] .colab-df-convert:hover {\n",
              "      background-color: #434B5C;\n",
              "      box-shadow: 0px 1px 3px 1px rgba(0, 0, 0, 0.15);\n",
              "      filter: drop-shadow(0px 1px 2px rgba(0, 0, 0, 0.3));\n",
              "      fill: #FFFFFF;\n",
              "    }\n",
              "  </style>\n",
              "\n",
              "      <script>\n",
              "        const buttonEl =\n",
              "          document.querySelector('#df-138ad29d-4e89-4b0c-8e7e-b2a5c79785e6 button.colab-df-convert');\n",
              "        buttonEl.style.display =\n",
              "          google.colab.kernel.accessAllowed ? 'block' : 'none';\n",
              "\n",
              "        async function convertToInteractive(key) {\n",
              "          const element = document.querySelector('#df-138ad29d-4e89-4b0c-8e7e-b2a5c79785e6');\n",
              "          const dataTable =\n",
              "            await google.colab.kernel.invokeFunction('convertToInteractive',\n",
              "                                                     [key], {});\n",
              "          if (!dataTable) return;\n",
              "\n",
              "          const docLinkHtml = 'Like what you see? Visit the ' +\n",
              "            '<a target=\"_blank\" href=https://colab.research.google.com/notebooks/data_table.ipynb>data table notebook</a>'\n",
              "            + ' to learn more about interactive tables.';\n",
              "          element.innerHTML = '';\n",
              "          dataTable['output_type'] = 'display_data';\n",
              "          await google.colab.output.renderOutput(dataTable, element);\n",
              "          const docLink = document.createElement('div');\n",
              "          docLink.innerHTML = docLinkHtml;\n",
              "          element.appendChild(docLink);\n",
              "        }\n",
              "      </script>\n",
              "    </div>\n",
              "  </div>\n",
              "  "
            ]
          },
          "metadata": {},
          "execution_count": 13
        }
      ]
    },
    {
      "cell_type": "code",
      "source": [
        "# Create an array of shape (10, 2) with only ones\n",
        "array4 = np.ones((10, 2))\n",
        "array4, array4.shape"
      ],
      "metadata": {
        "colab": {
          "base_uri": "https://localhost:8080/"
        },
        "id": "F7ZMqCh39kUn",
        "outputId": "18661728-3cdb-4cc7-f9ae-3f8753f47d72"
      },
      "execution_count": 15,
      "outputs": [
        {
          "output_type": "execute_result",
          "data": {
            "text/plain": [
              "(array([[1., 1.],\n",
              "        [1., 1.],\n",
              "        [1., 1.],\n",
              "        [1., 1.],\n",
              "        [1., 1.],\n",
              "        [1., 1.],\n",
              "        [1., 1.],\n",
              "        [1., 1.],\n",
              "        [1., 1.],\n",
              "        [1., 1.]]), (10, 2))"
            ]
          },
          "metadata": {},
          "execution_count": 15
        }
      ]
    },
    {
      "cell_type": "code",
      "source": [
        "# Create an array of shape (7, 2, 3) of only zeros\n",
        "array5 = np.zeros((7, 2, 3))\n",
        "array5, array5.shape"
      ],
      "metadata": {
        "colab": {
          "base_uri": "https://localhost:8080/"
        },
        "id": "BXatrmPo9wJ9",
        "outputId": "a35589d8-00ed-4af9-f0bd-1d2043d57800"
      },
      "execution_count": 16,
      "outputs": [
        {
          "output_type": "execute_result",
          "data": {
            "text/plain": [
              "(array([[[0., 0., 0.],\n",
              "         [0., 0., 0.]],\n",
              " \n",
              "        [[0., 0., 0.],\n",
              "         [0., 0., 0.]],\n",
              " \n",
              "        [[0., 0., 0.],\n",
              "         [0., 0., 0.]],\n",
              " \n",
              "        [[0., 0., 0.],\n",
              "         [0., 0., 0.]],\n",
              " \n",
              "        [[0., 0., 0.],\n",
              "         [0., 0., 0.]],\n",
              " \n",
              "        [[0., 0., 0.],\n",
              "         [0., 0., 0.]],\n",
              " \n",
              "        [[0., 0., 0.],\n",
              "         [0., 0., 0.]]]), (7, 2, 3))"
            ]
          },
          "metadata": {},
          "execution_count": 16
        }
      ]
    },
    {
      "cell_type": "code",
      "source": [
        "# Create an array within a range of 0 and 100 with step 3\n",
        "array6 = np.arange(0, 100, 3)\n",
        "array6, array6.size"
      ],
      "metadata": {
        "colab": {
          "base_uri": "https://localhost:8080/"
        },
        "id": "QhiPFu3I956T",
        "outputId": "875eb017-ad3f-4327-9bf7-50210bc6983a"
      },
      "execution_count": 19,
      "outputs": [
        {
          "output_type": "execute_result",
          "data": {
            "text/plain": [
              "(array([ 0,  3,  6,  9, 12, 15, 18, 21, 24, 27, 30, 33, 36, 39, 42, 45, 48,\n",
              "        51, 54, 57, 60, 63, 66, 69, 72, 75, 78, 81, 84, 87, 90, 93, 96, 99]),\n",
              " 34)"
            ]
          },
          "metadata": {},
          "execution_count": 19
        }
      ]
    },
    {
      "cell_type": "code",
      "source": [
        "# Create a random array with numbers between 0 and 10 of size (7, 2)\n",
        "array7 = np.random.randint(0, 10, size=(7,2))\n",
        "array7, array7.dtype, array7.shape"
      ],
      "metadata": {
        "colab": {
          "base_uri": "https://localhost:8080/"
        },
        "id": "dZMvdGm-AELv",
        "outputId": "3e215859-8333-4418-bfa5-8839383e3445"
      },
      "execution_count": 26,
      "outputs": [
        {
          "output_type": "execute_result",
          "data": {
            "text/plain": [
              "(array([[5, 9],\n",
              "        [0, 0],\n",
              "        [5, 0],\n",
              "        [7, 9],\n",
              "        [3, 9],\n",
              "        [1, 9],\n",
              "        [1, 0]]), dtype('int64'), (7, 2))"
            ]
          },
          "metadata": {},
          "execution_count": 26
        }
      ]
    },
    {
      "cell_type": "code",
      "source": [
        "# Create a random array of floats between 0 & 1 of shape (3, 5)\n",
        "array8 = np.random.random((3, 5))\n",
        "array8, array8.dtype, array8.shape"
      ],
      "metadata": {
        "colab": {
          "base_uri": "https://localhost:8080/"
        },
        "id": "VK9crSa4Aih_",
        "outputId": "db864a15-157a-46cb-c662-57829a09d0b8"
      },
      "execution_count": 27,
      "outputs": [
        {
          "output_type": "execute_result",
          "data": {
            "text/plain": [
              "(array([[0.09669934, 0.69351927, 0.12271985, 0.65200672, 0.70085182],\n",
              "        [0.17532964, 0.98914758, 0.17295462, 0.55002162, 0.4355327 ],\n",
              "        [0.79452857, 0.63458921, 0.33786121, 0.38709948, 0.20547219]]),\n",
              " dtype('float64'),\n",
              " (3, 5))"
            ]
          },
          "metadata": {},
          "execution_count": 27
        }
      ]
    },
    {
      "cell_type": "code",
      "source": [
        "# Set the random seed to 42\n",
        "np.random.seed(42)\n",
        "\n",
        "# Create a random array of numbers between 0 & 10 of size (4, 6)\n",
        "array9 = np.random.random((4,6))\n",
        "array9"
      ],
      "metadata": {
        "colab": {
          "base_uri": "https://localhost:8080/"
        },
        "id": "9WuoCs3nMoma",
        "outputId": "d2ed8ad7-8abd-4c22-99e5-3d6c57a25881"
      },
      "execution_count": 33,
      "outputs": [
        {
          "output_type": "execute_result",
          "data": {
            "text/plain": [
              "array([[0.37454012, 0.95071431, 0.73199394, 0.59865848, 0.15601864,\n",
              "        0.15599452],\n",
              "       [0.05808361, 0.86617615, 0.60111501, 0.70807258, 0.02058449,\n",
              "        0.96990985],\n",
              "       [0.83244264, 0.21233911, 0.18182497, 0.18340451, 0.30424224,\n",
              "        0.52475643],\n",
              "       [0.43194502, 0.29122914, 0.61185289, 0.13949386, 0.29214465,\n",
              "        0.36636184]])"
            ]
          },
          "metadata": {},
          "execution_count": 33
        }
      ]
    },
    {
      "cell_type": "code",
      "source": [
        "# Create an array of random numbers between 1 & 10 of size (3, 7) and save it to a variable\n",
        "array10 = np.random.randint(1, 10, size=(3,7))\n",
        "\n",
        "# Find the unique numbers in the array you just created\n",
        "array10, np.unique(array10)"
      ],
      "metadata": {
        "colab": {
          "base_uri": "https://localhost:8080/"
        },
        "id": "aqo_UomnM-1r",
        "outputId": "3607accd-5d8d-4f3a-a851-5c90d8e5e162"
      },
      "execution_count": 40,
      "outputs": [
        {
          "output_type": "execute_result",
          "data": {
            "text/plain": [
              "(array([[7, 2, 3, 1, 5, 1, 8],\n",
              "        [1, 1, 2, 2, 6, 7, 5],\n",
              "        [1, 1, 3, 2, 5, 6, 7]]), array([1, 2, 3, 5, 6, 7, 8]))"
            ]
          },
          "metadata": {},
          "execution_count": 40
        }
      ]
    },
    {
      "cell_type": "code",
      "source": [
        "# Find the 0'th index of the latest array you created\n",
        "array10[0]"
      ],
      "metadata": {
        "colab": {
          "base_uri": "https://localhost:8080/"
        },
        "id": "4IQwkCNyNQo1",
        "outputId": "2797b71a-81dc-4b39-d4dd-1c59169060c2"
      },
      "execution_count": 41,
      "outputs": [
        {
          "output_type": "execute_result",
          "data": {
            "text/plain": [
              "array([7, 2, 3, 1, 5, 1, 8])"
            ]
          },
          "metadata": {},
          "execution_count": 41
        }
      ]
    },
    {
      "cell_type": "code",
      "source": [
        "# Get the first 2 rows of latest array you created\n",
        "array10[:2]"
      ],
      "metadata": {
        "colab": {
          "base_uri": "https://localhost:8080/"
        },
        "id": "7CWeGDF4N_0I",
        "outputId": "3b485050-7a50-4a64-f25d-f3404237f5fb"
      },
      "execution_count": 42,
      "outputs": [
        {
          "output_type": "execute_result",
          "data": {
            "text/plain": [
              "array([[7, 2, 3, 1, 5, 1, 8],\n",
              "       [1, 1, 2, 2, 6, 7, 5]])"
            ]
          },
          "metadata": {},
          "execution_count": 42
        }
      ]
    },
    {
      "cell_type": "code",
      "source": [
        "# Get the first 2 values of the first 2 rows of the latest array\n",
        "array10[:2, :2]"
      ],
      "metadata": {
        "colab": {
          "base_uri": "https://localhost:8080/"
        },
        "id": "8N14SOJ-OIUe",
        "outputId": "eba6d852-808c-4cb2-e02f-831fc8abc3ee"
      },
      "execution_count": 43,
      "outputs": [
        {
          "output_type": "execute_result",
          "data": {
            "text/plain": [
              "array([[7, 2],\n",
              "       [1, 1]])"
            ]
          },
          "metadata": {},
          "execution_count": 43
        }
      ]
    },
    {
      "cell_type": "code",
      "source": [
        "# Create a random array of numbers between 0 & 10 and an array of ones\n",
        "# both of size (3, 5), save them both to variables\n",
        "array11 = np.random.randint(0, 10, size=(3, 5))\n",
        "array12 = np.ones((3,5))\n",
        "array11, array12"
      ],
      "metadata": {
        "colab": {
          "base_uri": "https://localhost:8080/"
        },
        "id": "GmjAmvCBOM-7",
        "outputId": "43d21055-e5a8-4c7a-cefd-24bfb81976cd"
      },
      "execution_count": 44,
      "outputs": [
        {
          "output_type": "execute_result",
          "data": {
            "text/plain": [
              "(array([[3, 6, 7, 0, 5],\n",
              "        [7, 4, 3, 1, 5],\n",
              "        [5, 0, 8, 5, 2]]), array([[1., 1., 1., 1., 1.],\n",
              "        [1., 1., 1., 1., 1.],\n",
              "        [1., 1., 1., 1., 1.]]))"
            ]
          },
          "metadata": {},
          "execution_count": 44
        }
      ]
    },
    {
      "cell_type": "code",
      "source": [
        "# Add the two arrays together\n",
        "array11 + array12"
      ],
      "metadata": {
        "colab": {
          "base_uri": "https://localhost:8080/"
        },
        "id": "Cmo7jNylQwDr",
        "outputId": "330e0016-62de-4185-de68-5b317e93843c"
      },
      "execution_count": 45,
      "outputs": [
        {
          "output_type": "execute_result",
          "data": {
            "text/plain": [
              "array([[4., 7., 8., 1., 6.],\n",
              "       [8., 5., 4., 2., 6.],\n",
              "       [6., 1., 9., 6., 3.]])"
            ]
          },
          "metadata": {},
          "execution_count": 45
        }
      ]
    },
    {
      "cell_type": "code",
      "source": [
        "# Create another array of ones of shape (5, 3)\n",
        "array13 = np.ones((5,3))\n",
        "array13"
      ],
      "metadata": {
        "colab": {
          "base_uri": "https://localhost:8080/"
        },
        "id": "IWp6v9dlQ0iP",
        "outputId": "54bb471b-8022-4935-ed02-122b7e7750b8"
      },
      "execution_count": 46,
      "outputs": [
        {
          "output_type": "execute_result",
          "data": {
            "text/plain": [
              "array([[1., 1., 1.],\n",
              "       [1., 1., 1.],\n",
              "       [1., 1., 1.],\n",
              "       [1., 1., 1.],\n",
              "       [1., 1., 1.]])"
            ]
          },
          "metadata": {},
          "execution_count": 46
        }
      ]
    },
    {
      "cell_type": "code",
      "source": [
        "# Try add the array of ones and the other most recent array together\n",
        "array12 + array13\n",
        "\n",
        "# array12.T + array13"
      ],
      "metadata": {
        "colab": {
          "base_uri": "https://localhost:8080/",
          "height": 182
        },
        "id": "MMdQe7jCQ9TS",
        "outputId": "0ac73f6e-bba7-4258-a249-40552cd9041a"
      },
      "execution_count": 47,
      "outputs": [
        {
          "output_type": "error",
          "ename": "ValueError",
          "evalue": "ignored",
          "traceback": [
            "\u001b[0;31m---------------------------------------------------------------------------\u001b[0m",
            "\u001b[0;31mValueError\u001b[0m                                Traceback (most recent call last)",
            "\u001b[0;32m<ipython-input-47-38aae8992bfb>\u001b[0m in \u001b[0;36m<module>\u001b[0;34m()\u001b[0m\n\u001b[1;32m      1\u001b[0m \u001b[0;31m# Try add the array of ones and the other most recent array together\u001b[0m\u001b[0;34m\u001b[0m\u001b[0;34m\u001b[0m\u001b[0;34m\u001b[0m\u001b[0m\n\u001b[0;32m----> 2\u001b[0;31m \u001b[0marray12\u001b[0m \u001b[0;34m+\u001b[0m \u001b[0marray13\u001b[0m\u001b[0;34m\u001b[0m\u001b[0;34m\u001b[0m\u001b[0m\n\u001b[0m",
            "\u001b[0;31mValueError\u001b[0m: operands could not be broadcast together with shapes (3,5) (5,3) "
          ]
        }
      ]
    },
    {
      "cell_type": "code",
      "source": [
        "# Create another array of ones of shape (3, 5)\n",
        "array14 = np.ones((3,5))\n",
        "# Subtract the new array of ones from the other most recent array\n",
        "array11 - array14"
      ],
      "metadata": {
        "colab": {
          "base_uri": "https://localhost:8080/"
        },
        "id": "FUd7OHcfRDxX",
        "outputId": "b240f1fa-3542-47b7-e41a-a1d06ba1d177"
      },
      "execution_count": 53,
      "outputs": [
        {
          "output_type": "execute_result",
          "data": {
            "text/plain": [
              "array([[ 2.,  5.,  6., -1.,  4.],\n",
              "       [ 6.,  3.,  2.,  0.,  4.],\n",
              "       [ 4., -1.,  7.,  4.,  1.]])"
            ]
          },
          "metadata": {},
          "execution_count": 53
        }
      ]
    },
    {
      "cell_type": "code",
      "source": [
        "# Multiply the ones array with the latest array\n",
        "array11 * array14"
      ],
      "metadata": {
        "colab": {
          "base_uri": "https://localhost:8080/"
        },
        "id": "L1DQjaUvRHIu",
        "outputId": "f6820138-7450-4f9e-8ed1-613b4563258c"
      },
      "execution_count": 54,
      "outputs": [
        {
          "output_type": "execute_result",
          "data": {
            "text/plain": [
              "array([[3., 6., 7., 0., 5.],\n",
              "       [7., 4., 3., 1., 5.],\n",
              "       [5., 0., 8., 5., 2.]])"
            ]
          },
          "metadata": {},
          "execution_count": 54
        }
      ]
    },
    {
      "cell_type": "code",
      "source": [
        "# Take the latest array to the power of 2 using '**'\n",
        "array11 ** 2"
      ],
      "metadata": {
        "colab": {
          "base_uri": "https://localhost:8080/"
        },
        "id": "0D4u7Z6nRLfO",
        "outputId": "e46447e5-2c42-4eec-8edd-6c88bad07b28"
      },
      "execution_count": 57,
      "outputs": [
        {
          "output_type": "execute_result",
          "data": {
            "text/plain": [
              "array([[ 9, 36, 49,  0, 25],\n",
              "       [49, 16,  9,  1, 25],\n",
              "       [25,  0, 64, 25,  4]])"
            ]
          },
          "metadata": {},
          "execution_count": 57
        }
      ]
    },
    {
      "cell_type": "code",
      "source": [
        "# Do the same thing with np.square()\n",
        "np.square(array11)"
      ],
      "metadata": {
        "colab": {
          "base_uri": "https://localhost:8080/"
        },
        "id": "bXKCebbnT5SZ",
        "outputId": "0c21d591-2696-49be-e071-5de52d8ded21"
      },
      "execution_count": 58,
      "outputs": [
        {
          "output_type": "execute_result",
          "data": {
            "text/plain": [
              "array([[ 9, 36, 49,  0, 25],\n",
              "       [49, 16,  9,  1, 25],\n",
              "       [25,  0, 64, 25,  4]])"
            ]
          },
          "metadata": {},
          "execution_count": 58
        }
      ]
    },
    {
      "cell_type": "code",
      "source": [
        "# Find the mean of the latest array using np.mean()\n",
        "np.mean(array11)"
      ],
      "metadata": {
        "colab": {
          "base_uri": "https://localhost:8080/"
        },
        "id": "bZyKkf2-UDlu",
        "outputId": "427e0a19-100b-4a1e-870d-9f25717c2769"
      },
      "execution_count": 59,
      "outputs": [
        {
          "output_type": "execute_result",
          "data": {
            "text/plain": [
              "4.066666666666666"
            ]
          },
          "metadata": {},
          "execution_count": 59
        }
      ]
    },
    {
      "cell_type": "code",
      "source": [
        "# Find the maximum of the latest array using np.max()\n",
        "np.max(array11)"
      ],
      "metadata": {
        "colab": {
          "base_uri": "https://localhost:8080/"
        },
        "id": "xCXoJiULUHX4",
        "outputId": "e7e8d40a-ed1d-4d9c-d8d0-82584fdf740d"
      },
      "execution_count": 60,
      "outputs": [
        {
          "output_type": "execute_result",
          "data": {
            "text/plain": [
              "8"
            ]
          },
          "metadata": {},
          "execution_count": 60
        }
      ]
    },
    {
      "cell_type": "code",
      "source": [
        "# Find the minimum of the latest array using np.min()\n",
        "np.min(array11)"
      ],
      "metadata": {
        "colab": {
          "base_uri": "https://localhost:8080/"
        },
        "id": "EFvWsV75UKGU",
        "outputId": "a151433f-7be5-48c8-8775-d6488fafcfaf"
      },
      "execution_count": 61,
      "outputs": [
        {
          "output_type": "execute_result",
          "data": {
            "text/plain": [
              "0"
            ]
          },
          "metadata": {},
          "execution_count": 61
        }
      ]
    },
    {
      "cell_type": "code",
      "source": [
        "# Find the standard deviation of the latest array\n",
        "np.std(array11)"
      ],
      "metadata": {
        "colab": {
          "base_uri": "https://localhost:8080/"
        },
        "id": "JwvFQDCEUNIt",
        "outputId": "45462c3d-8198-4fad-a2a3-a84db5457d71"
      },
      "execution_count": 62,
      "outputs": [
        {
          "output_type": "execute_result",
          "data": {
            "text/plain": [
              "2.434930982366623"
            ]
          },
          "metadata": {},
          "execution_count": 62
        }
      ]
    },
    {
      "cell_type": "code",
      "source": [
        "# Find the variance of the latest array\n",
        "np.var(array11)"
      ],
      "metadata": {
        "colab": {
          "base_uri": "https://localhost:8080/"
        },
        "id": "uUWzv7PSUQQR",
        "outputId": "db77f5f4-704a-44a9-c6ff-31bec0d5008e"
      },
      "execution_count": 63,
      "outputs": [
        {
          "output_type": "execute_result",
          "data": {
            "text/plain": [
              "5.928888888888889"
            ]
          },
          "metadata": {},
          "execution_count": 63
        }
      ]
    },
    {
      "cell_type": "code",
      "source": [
        "# Reshape the latest array to (3, 5, 1)\n",
        "array11.reshape((3,5,1))"
      ],
      "metadata": {
        "colab": {
          "base_uri": "https://localhost:8080/"
        },
        "id": "mLPRxz-IUUPp",
        "outputId": "467beac7-413a-4df3-8fdf-f20ad962be20"
      },
      "execution_count": 64,
      "outputs": [
        {
          "output_type": "execute_result",
          "data": {
            "text/plain": [
              "array([[[3],\n",
              "        [6],\n",
              "        [7],\n",
              "        [0],\n",
              "        [5]],\n",
              "\n",
              "       [[7],\n",
              "        [4],\n",
              "        [3],\n",
              "        [1],\n",
              "        [5]],\n",
              "\n",
              "       [[5],\n",
              "        [0],\n",
              "        [8],\n",
              "        [5],\n",
              "        [2]]])"
            ]
          },
          "metadata": {},
          "execution_count": 64
        }
      ]
    },
    {
      "cell_type": "code",
      "source": [
        "# Transpose the latest array\n",
        "array11.T"
      ],
      "metadata": {
        "colab": {
          "base_uri": "https://localhost:8080/"
        },
        "id": "Q-CS3xMrUkBx",
        "outputId": "38421ab7-ff07-487a-9f27-12d6bd456ab4"
      },
      "execution_count": 68,
      "outputs": [
        {
          "output_type": "execute_result",
          "data": {
            "text/plain": [
              "array([[3, 7, 5],\n",
              "       [6, 4, 0],\n",
              "       [7, 3, 8],\n",
              "       [0, 1, 5],\n",
              "       [5, 5, 2]])"
            ]
          },
          "metadata": {},
          "execution_count": 68
        }
      ]
    },
    {
      "cell_type": "code",
      "source": [
        "array11"
      ],
      "metadata": {
        "colab": {
          "base_uri": "https://localhost:8080/"
        },
        "id": "RuCVPAWjUoOS",
        "outputId": "62452adb-5226-48d9-c63d-c787533c89ef"
      },
      "execution_count": 69,
      "outputs": [
        {
          "output_type": "execute_result",
          "data": {
            "text/plain": [
              "array([[3, 6, 7, 0, 5],\n",
              "       [7, 4, 3, 1, 5],\n",
              "       [5, 0, 8, 5, 2]])"
            ]
          },
          "metadata": {},
          "execution_count": 69
        }
      ]
    },
    {
      "cell_type": "code",
      "source": [
        "# Create two arrays of random integers between 0 to 10\n",
        "# one of size (3, 3) the other of size (3, 2)\n",
        "array15 = np.random.randint(0, 10, (3,3))\n",
        "array16 = np.random.randint(0, 10, (3,2))"
      ],
      "metadata": {
        "id": "TMF9eRubUrPK"
      },
      "execution_count": 70,
      "outputs": []
    },
    {
      "cell_type": "code",
      "source": [
        "# Perform a dot product on the two newest arrays you created\n",
        "array15.dot(array16)"
      ],
      "metadata": {
        "colab": {
          "base_uri": "https://localhost:8080/"
        },
        "id": "HNnL9QbdV2lf",
        "outputId": "7a9caf29-56db-43bb-d568-d41f790c65b0"
      },
      "execution_count": 71,
      "outputs": [
        {
          "output_type": "execute_result",
          "data": {
            "text/plain": [
              "array([[47, 32],\n",
              "       [88, 26],\n",
              "       [69, 57]])"
            ]
          },
          "metadata": {},
          "execution_count": 71
        }
      ]
    },
    {
      "cell_type": "code",
      "source": [
        "np.dot(array15, array16)"
      ],
      "metadata": {
        "colab": {
          "base_uri": "https://localhost:8080/"
        },
        "id": "ziolsob2V5lE",
        "outputId": "1d399a7e-f58c-4ad6-d931-399edd816648"
      },
      "execution_count": 72,
      "outputs": [
        {
          "output_type": "execute_result",
          "data": {
            "text/plain": [
              "array([[47, 32],\n",
              "       [88, 26],\n",
              "       [69, 57]])"
            ]
          },
          "metadata": {},
          "execution_count": 72
        }
      ]
    },
    {
      "cell_type": "code",
      "source": [
        "# Create two arrays of random integers between 0 to 10\n",
        "# both of size (4, 3)\n",
        "array17 = np.random.randint(0, 10, (4,3))\n",
        "array18 = np.random.randint(0, 10, (4,3))"
      ],
      "metadata": {
        "id": "uxAePXp-Zy0d"
      },
      "execution_count": 75,
      "outputs": []
    },
    {
      "cell_type": "code",
      "source": [
        "# Perform a dot product on the two newest arrays you created\n",
        "np.dot(array17, array18)"
      ],
      "metadata": {
        "colab": {
          "base_uri": "https://localhost:8080/",
          "height": 217
        },
        "id": "6_OnYoOYZ1FO",
        "outputId": "7c9d9a66-6e64-4a07-aaba-809d7ac84589"
      },
      "execution_count": 76,
      "outputs": [
        {
          "output_type": "error",
          "ename": "ValueError",
          "evalue": "ignored",
          "traceback": [
            "\u001b[0;31m---------------------------------------------------------------------------\u001b[0m",
            "\u001b[0;31mValueError\u001b[0m                                Traceback (most recent call last)",
            "\u001b[0;32m<ipython-input-76-1eb6745d9275>\u001b[0m in \u001b[0;36m<module>\u001b[0;34m()\u001b[0m\n\u001b[1;32m      1\u001b[0m \u001b[0;31m# Perform a dot product on the two newest arrays you created\u001b[0m\u001b[0;34m\u001b[0m\u001b[0;34m\u001b[0m\u001b[0;34m\u001b[0m\u001b[0m\n\u001b[0;32m----> 2\u001b[0;31m \u001b[0mnp\u001b[0m\u001b[0;34m.\u001b[0m\u001b[0mdot\u001b[0m\u001b[0;34m(\u001b[0m\u001b[0marray17\u001b[0m\u001b[0;34m,\u001b[0m \u001b[0marray18\u001b[0m\u001b[0;34m)\u001b[0m\u001b[0;34m\u001b[0m\u001b[0;34m\u001b[0m\u001b[0m\n\u001b[0m",
            "\u001b[0;32m<__array_function__ internals>\u001b[0m in \u001b[0;36mdot\u001b[0;34m(*args, **kwargs)\u001b[0m\n",
            "\u001b[0;31mValueError\u001b[0m: shapes (4,3) and (4,3) not aligned: 3 (dim 1) != 4 (dim 0)"
          ]
        }
      ]
    },
    {
      "cell_type": "code",
      "source": [
        "# Take the latest two arrays, perform a transpose on one of them and then perform \n",
        "# a dot product on them both\n",
        "np.dot(array17, array18.T)"
      ],
      "metadata": {
        "colab": {
          "base_uri": "https://localhost:8080/"
        },
        "id": "QY8Hf4J4aILm",
        "outputId": "8fddfb0a-cddb-4aa0-9630-535fd8d1d247"
      },
      "execution_count": 85,
      "outputs": [
        {
          "output_type": "execute_result",
          "data": {
            "text/plain": [
              "array([[ 32, 112,  32,  80],\n",
              "       [ 37, 112,  38,  83],\n",
              "       [ 38, 116,  46,  85],\n",
              "       [  8,  50,  70,  25]])"
            ]
          },
          "metadata": {},
          "execution_count": 85
        }
      ]
    },
    {
      "cell_type": "code",
      "source": [
        "# Compare the two arrays with '>'\n",
        "array17 > array18"
      ],
      "metadata": {
        "colab": {
          "base_uri": "https://localhost:8080/"
        },
        "id": "ktw9YgU6aLkZ",
        "outputId": "0d3f75da-ed17-4eb2-b148-d35ebcbf03b8"
      },
      "execution_count": 82,
      "outputs": [
        {
          "output_type": "execute_result",
          "data": {
            "text/plain": [
              "array([[False,  True,  True],\n",
              "       [False, False,  True],\n",
              "       [False,  True,  True],\n",
              "       [ True, False, False]])"
            ]
          },
          "metadata": {},
          "execution_count": 82
        }
      ]
    },
    {
      "cell_type": "code",
      "source": [
        "# Compare the two arrays with '>='\n",
        "array17 >= array18"
      ],
      "metadata": {
        "colab": {
          "base_uri": "https://localhost:8080/"
        },
        "id": "q0sjXBshaVks",
        "outputId": "df3ac51f-c9f9-4b69-b5e9-a0e95fb9741d"
      },
      "execution_count": 83,
      "outputs": [
        {
          "output_type": "execute_result",
          "data": {
            "text/plain": [
              "array([[False,  True,  True],\n",
              "       [False,  True,  True],\n",
              "       [False,  True,  True],\n",
              "       [ True,  True, False]])"
            ]
          },
          "metadata": {},
          "execution_count": 83
        }
      ]
    },
    {
      "cell_type": "code",
      "source": [
        "# Find which elements of the first array are greater than 7\n",
        "array17 > 7"
      ],
      "metadata": {
        "colab": {
          "base_uri": "https://localhost:8080/"
        },
        "id": "9Mmx259Caald",
        "outputId": "337ad9f5-958e-4a80-a62c-c77972672172"
      },
      "execution_count": 84,
      "outputs": [
        {
          "output_type": "execute_result",
          "data": {
            "text/plain": [
              "array([[False,  True,  True],\n",
              "       [False, False,  True],\n",
              "       [False, False,  True],\n",
              "       [ True, False, False]])"
            ]
          },
          "metadata": {},
          "execution_count": 84
        }
      ]
    },
    {
      "cell_type": "code",
      "source": [
        "# Which parts of each array are equal? (try using '==')\n",
        "array17 == array18"
      ],
      "metadata": {
        "colab": {
          "base_uri": "https://localhost:8080/"
        },
        "id": "L_QiUuEKajFY",
        "outputId": "bf35ada8-712e-4a8f-c547-9a0944f6f0d1"
      },
      "execution_count": 94,
      "outputs": [
        {
          "output_type": "execute_result",
          "data": {
            "text/plain": [
              "array([[False, False, False],\n",
              "       [False,  True, False],\n",
              "       [False, False, False],\n",
              "       [False,  True, False]])"
            ]
          },
          "metadata": {},
          "execution_count": 94
        }
      ]
    },
    {
      "cell_type": "code",
      "source": [
        "array17"
      ],
      "metadata": {
        "colab": {
          "base_uri": "https://localhost:8080/"
        },
        "id": "1Il8DglIcuUB",
        "outputId": "e34827a9-452f-43fd-a5f1-400ec1e70f2d"
      },
      "execution_count": 95,
      "outputs": [
        {
          "output_type": "execute_result",
          "data": {
            "text/plain": [
              "array([[0, 8, 8],\n",
              "       [1, 6, 9],\n",
              "       [2, 6, 9],\n",
              "       [8, 3, 0]])"
            ]
          },
          "metadata": {},
          "execution_count": 95
        }
      ]
    },
    {
      "cell_type": "code",
      "source": [
        "# Sort one of the arrays you just created in ascending order\n",
        "np.sort(array17)"
      ],
      "metadata": {
        "colab": {
          "base_uri": "https://localhost:8080/"
        },
        "id": "gT5E9qQra3w-",
        "outputId": "9f1eba0b-2c55-4ae3-e45b-b35fff0e3d2c"
      },
      "execution_count": 90,
      "outputs": [
        {
          "output_type": "execute_result",
          "data": {
            "text/plain": [
              "array([[0, 8, 8],\n",
              "       [1, 6, 9],\n",
              "       [2, 6, 9],\n",
              "       [0, 3, 8]])"
            ]
          },
          "metadata": {},
          "execution_count": 90
        }
      ]
    },
    {
      "cell_type": "code",
      "source": [
        "# Sort the indexes of one of the arrays you just created\n",
        "np.argsort(array17)"
      ],
      "metadata": {
        "colab": {
          "base_uri": "https://localhost:8080/"
        },
        "id": "RBjA_pNxbdVy",
        "outputId": "cb1720ac-afbb-40a1-ff4e-eef0f35260ee"
      },
      "execution_count": 96,
      "outputs": [
        {
          "output_type": "execute_result",
          "data": {
            "text/plain": [
              "array([[0, 1, 2],\n",
              "       [0, 1, 2],\n",
              "       [0, 1, 2],\n",
              "       [2, 1, 0]])"
            ]
          },
          "metadata": {},
          "execution_count": 96
        }
      ]
    },
    {
      "cell_type": "code",
      "source": [
        "array18"
      ],
      "metadata": {
        "colab": {
          "base_uri": "https://localhost:8080/"
        },
        "id": "aRGdKww_c5p_",
        "outputId": "1d66be81-e717-4501-ba0e-f9822393d576"
      },
      "execution_count": 99,
      "outputs": [
        {
          "output_type": "execute_result",
          "data": {
            "text/plain": [
              "array([[1, 0, 4],\n",
              "       [4, 6, 8],\n",
              "       [8, 2, 2],\n",
              "       [2, 3, 7]])"
            ]
          },
          "metadata": {},
          "execution_count": 99
        }
      ]
    },
    {
      "cell_type": "code",
      "source": [
        "# Find the index with the maximum value in one of the arrays you've created\n",
        "np.argmax(array18)"
      ],
      "metadata": {
        "colab": {
          "base_uri": "https://localhost:8080/"
        },
        "id": "43J_kT7JbhdJ",
        "outputId": "dca31ab0-30f9-41a7-9625-8f1c275e2b1f"
      },
      "execution_count": 101,
      "outputs": [
        {
          "output_type": "execute_result",
          "data": {
            "text/plain": [
              "5"
            ]
          },
          "metadata": {},
          "execution_count": 101
        }
      ]
    },
    {
      "cell_type": "code",
      "source": [
        "# Find the index with the minimum value in one of the arrays you've created\n",
        "np.argmin(array18)"
      ],
      "metadata": {
        "colab": {
          "base_uri": "https://localhost:8080/"
        },
        "id": "lMEj-t5rdBkj",
        "outputId": "5e988e8c-55a2-401f-918b-e1ef5a3c447a"
      },
      "execution_count": 102,
      "outputs": [
        {
          "output_type": "execute_result",
          "data": {
            "text/plain": [
              "1"
            ]
          },
          "metadata": {},
          "execution_count": 102
        }
      ]
    },
    {
      "cell_type": "code",
      "source": [
        "# Find the indexes with the maximum values down the 1st axis (axis=1)\n",
        "# of one of the arrays you created\n",
        "np.argmax(array18, axis=1)"
      ],
      "metadata": {
        "colab": {
          "base_uri": "https://localhost:8080/"
        },
        "id": "D3FNy3Zgfuyq",
        "outputId": "6a72fadf-c814-4e1a-86ae-afad808d9165"
      },
      "execution_count": 103,
      "outputs": [
        {
          "output_type": "execute_result",
          "data": {
            "text/plain": [
              "array([2, 2, 0, 2])"
            ]
          },
          "metadata": {},
          "execution_count": 103
        }
      ]
    },
    {
      "cell_type": "code",
      "source": [
        "# Find the indexes with the minimum values across the 0th axis (axis=0)\n",
        "# of one of the arrays you created\n",
        "np.argmin(array18, axis=0)"
      ],
      "metadata": {
        "colab": {
          "base_uri": "https://localhost:8080/"
        },
        "id": "_kEL-hn3fzs5",
        "outputId": "90a7ffa5-c3fe-45d1-cb26-3af122a389f6"
      },
      "execution_count": 104,
      "outputs": [
        {
          "output_type": "execute_result",
          "data": {
            "text/plain": [
              "array([0, 0, 2])"
            ]
          },
          "metadata": {},
          "execution_count": 104
        }
      ]
    },
    {
      "cell_type": "code",
      "source": [
        "# Create an array of normally distributed random numbers\n",
        "np.random.randn(2, 3, 4)"
      ],
      "metadata": {
        "colab": {
          "base_uri": "https://localhost:8080/"
        },
        "id": "gU761rr4f7Rw",
        "outputId": "fe15a88a-2cb7-43e3-cc68-193eebb440f6"
      },
      "execution_count": 117,
      "outputs": [
        {
          "output_type": "execute_result",
          "data": {
            "text/plain": [
              "array([[[ 1.67374816,  0.04370267,  1.07368201,  0.07604804],\n",
              "        [ 0.35295998,  0.61610665, -0.52872399, -1.28029113],\n",
              "        [-1.30160333,  0.05084257, -0.48864009, -2.14585676]],\n",
              "\n",
              "       [[ 0.51294125, -1.21848964, -1.16032503, -0.04162603],\n",
              "        [-0.90011566,  0.1225055 ,  1.97346089, -0.37905765],\n",
              "        [-1.05957915,  0.18150698, -0.77523179,  0.02375148]]])"
            ]
          },
          "metadata": {},
          "execution_count": 117
        }
      ]
    },
    {
      "cell_type": "code",
      "source": [
        "# Create an array with 10 evenly spaced numbers between 1 and 100\n",
        "np.linspace(1, 100, num=10)"
      ],
      "metadata": {
        "colab": {
          "base_uri": "https://localhost:8080/"
        },
        "id": "ZBFXpYlSgKlW",
        "outputId": "86bc3057-be48-4359-cd84-168fbeaa62a1"
      },
      "execution_count": 119,
      "outputs": [
        {
          "output_type": "execute_result",
          "data": {
            "text/plain": [
              "array([  1.,  12.,  23.,  34.,  45.,  56.,  67.,  78.,  89., 100.])"
            ]
          },
          "metadata": {},
          "execution_count": 119
        }
      ]
    },
    {
      "cell_type": "code",
      "source": [
        ""
      ],
      "metadata": {
        "id": "3FwFI7R4kdb9"
      },
      "execution_count": null,
      "outputs": []
    }
  ]
}