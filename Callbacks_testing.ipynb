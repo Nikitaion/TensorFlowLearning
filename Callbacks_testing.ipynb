{
  "nbformat": 4,
  "nbformat_minor": 0,
  "metadata": {
    "colab": {
      "name": "Callbacks_testing.ipynb",
      "provenance": [],
      "authorship_tag": "ABX9TyMOxvcZyuZjolup1hMIU8Jl",
      "include_colab_link": true
    },
    "kernelspec": {
      "name": "python3",
      "display_name": "Python 3"
    },
    "language_info": {
      "name": "python"
    }
  },
  "cells": [
    {
      "cell_type": "markdown",
      "metadata": {
        "id": "view-in-github",
        "colab_type": "text"
      },
      "source": [
        "<a href=\"https://colab.research.google.com/github/Nikitaion/TensorFlowLearning/blob/main/Callbacks_testing.ipynb\" target=\"_parent\"><img src=\"https://colab.research.google.com/assets/colab-badge.svg\" alt=\"Open In Colab\"/></a>"
      ]
    },
    {
      "cell_type": "code",
      "metadata": {
        "id": "KBy9IzM_iaPf"
      },
      "source": [
        "import tensorflow as tf\n",
        "import keras"
      ],
      "execution_count": null,
      "outputs": []
    },
    {
      "cell_type": "code",
      "metadata": {
        "id": "yTyO90REifX2"
      },
      "source": [
        ""
      ],
      "execution_count": null,
      "outputs": []
    },
    {
      "cell_type": "code",
      "metadata": {
        "id": "AitsB6geihi6"
      },
      "source": [
        "# Define the Keras model to add callbacks to\n",
        "def get_model():\n",
        "    model = tf.keras.Sequential()\n",
        "    model.add(tf.keras.layers.Dense(1, input_dim=784))\n",
        "    model.compile(\n",
        "        optimizer=tf.keras.optimizers.RMSprop(learning_rate=0.1),\n",
        "        loss=\"mean_squared_error\",\n",
        "        metrics=[\"mean_absolute_error\"],\n",
        "    )\n",
        "    return model"
      ],
      "execution_count": null,
      "outputs": []
    },
    {
      "cell_type": "code",
      "metadata": {
        "id": "eJkrLtAaie2p"
      },
      "source": [
        "# Load example MNIST data and pre-process it\n",
        "(x_train, y_train), (x_test, y_test) = tf.keras.datasets.mnist.load_data()\n",
        "x_train = x_train.reshape(-1, 784).astype(\"float32\") / 255.0\n",
        "x_test = x_test.reshape(-1, 784).astype(\"float32\") / 255.0\n",
        "\n",
        "# Limit the data to 1000 samples\n",
        "x_train = x_train[:1000]\n",
        "y_train = y_train[:1000]\n",
        "x_test = x_test[:1000]\n",
        "y_test = y_test[:1000]\n"
      ],
      "execution_count": null,
      "outputs": []
    },
    {
      "cell_type": "code",
      "metadata": {
        "id": "vl36G8QlisGj"
      },
      "source": [
        "class CustomCallback(tf.keras.callbacks.Callback):\n",
        "    def on_train_begin(self, logs=None):\n",
        "        keys = list(logs.keys())\n",
        "        print(\"Starting training; got log keys: {}\".format(keys))\n",
        "\n",
        "    def on_train_end(self, logs=None):\n",
        "        keys = list(logs.keys())\n",
        "        print(\"Stop training; got log keys: {}\".format(keys))\n",
        "\n",
        "    def on_epoch_begin(self, epoch, logs=None):\n",
        "        keys = list(logs.keys())\n",
        "        print(\"Start epoch {} of training; got log keys: {}\".format(epoch, keys))\n",
        "\n",
        "    def on_epoch_end(self, epoch, logs=None):\n",
        "        keys = list(logs.keys())\n",
        "        print(\"End epoch {} of training; got log keys: {}\".format(epoch, keys))\n",
        "\n",
        "    def on_test_begin(self, logs=None):\n",
        "        keys = list(logs.keys())\n",
        "        print(\"Start testing; got log keys: {}\".format(keys))\n",
        "\n",
        "    def on_test_end(self, logs=None):\n",
        "        keys = list(logs.keys())\n",
        "        print(\"Stop testing; got log keys: {}\".format(keys))\n",
        "\n",
        "    def on_predict_begin(self, logs=None):\n",
        "        keys = list(logs.keys())\n",
        "        print(\"Start predicting; got log keys: {}\".format(keys))\n",
        "\n",
        "    def on_predict_end(self, logs=None):\n",
        "        keys = list(logs.keys())\n",
        "        print(\"Stop predicting; got log keys: {}\".format(keys))\n",
        "\n",
        "    def on_train_batch_begin(self, batch, logs=None):\n",
        "        keys = list(logs.keys())\n",
        "        print(\"...Training: start of batch {}; got log keys: {}\".format(batch, keys))\n",
        "\n",
        "    def on_train_batch_end(self, batch, logs=None):\n",
        "        keys = list(logs.keys())\n",
        "        print(\"...Training: end of batch {}; got log keys: {}\".format(batch, keys))\n",
        "\n",
        "    def on_test_batch_begin(self, batch, logs=None):\n",
        "        keys = list(logs.keys())\n",
        "        print(\"...Evaluating: start of batch {}; got log keys: {}\".format(batch, keys))\n",
        "\n",
        "    def on_test_batch_end(self, batch, logs=None):\n",
        "        keys = list(logs.keys())\n",
        "        print(\"...Evaluating: end of batch {}; got log keys: {}\".format(batch, keys))\n",
        "\n",
        "    def on_predict_batch_begin(self, batch, logs=None):\n",
        "        keys = list(logs.keys())\n",
        "        print(\"...Predicting: start of batch {}; got log keys: {}\".format(batch, keys))\n",
        "\n",
        "    def on_predict_batch_end(self, batch, logs=None):\n",
        "        keys = list(logs.keys())\n",
        "        print(\"...Predicting: end of batch {}; got log keys: {}\".format(batch, keys))"
      ],
      "execution_count": null,
      "outputs": []
    },
    {
      "cell_type": "code",
      "metadata": {
        "colab": {
          "base_uri": "https://localhost:8080/"
        },
        "id": "NyZNQqFHiuXr",
        "outputId": "e2d93c72-3a80-4e86-f888-d35cf60674b7"
      },
      "source": [
        "model = get_model()\n",
        "model.fit(\n",
        "    x_train,\n",
        "    y_train,\n",
        "    batch_size=128,\n",
        "    epochs=1,\n",
        "    verbose=0,\n",
        "    validation_split=0.5,\n",
        "    callbacks=[CustomCallback()],\n",
        ")\n",
        "\n",
        "res = model.evaluate(\n",
        "    x_test, y_test, batch_size=128, verbose=0, callbacks=[CustomCallback()]\n",
        ")\n",
        "\n",
        "res = model.predict(x_test, batch_size=128, callbacks=[CustomCallback()])"
      ],
      "execution_count": null,
      "outputs": [
        {
          "output_type": "stream",
          "name": "stdout",
          "text": [
            "Starting training; got log keys: []\n",
            "Start epoch 0 of training; got log keys: []\n",
            "...Training: start of batch 0; got log keys: []\n",
            "...Training: end of batch 0; got log keys: ['loss', 'mean_absolute_error']\n",
            "...Training: start of batch 1; got log keys: []\n",
            "...Training: end of batch 1; got log keys: ['loss', 'mean_absolute_error']\n",
            "...Training: start of batch 2; got log keys: []\n",
            "...Training: end of batch 2; got log keys: ['loss', 'mean_absolute_error']\n",
            "...Training: start of batch 3; got log keys: []\n",
            "...Training: end of batch 3; got log keys: ['loss', 'mean_absolute_error']\n",
            "Start testing; got log keys: []\n",
            "...Evaluating: start of batch 0; got log keys: []\n",
            "...Evaluating: end of batch 0; got log keys: ['loss', 'mean_absolute_error']\n",
            "...Evaluating: start of batch 1; got log keys: []\n",
            "...Evaluating: end of batch 1; got log keys: ['loss', 'mean_absolute_error']\n",
            "...Evaluating: start of batch 2; got log keys: []\n",
            "...Evaluating: end of batch 2; got log keys: ['loss', 'mean_absolute_error']\n",
            "...Evaluating: start of batch 3; got log keys: []\n",
            "...Evaluating: end of batch 3; got log keys: ['loss', 'mean_absolute_error']\n",
            "Stop testing; got log keys: ['loss', 'mean_absolute_error']\n",
            "End epoch 0 of training; got log keys: ['loss', 'mean_absolute_error', 'val_loss', 'val_mean_absolute_error']\n",
            "Stop training; got log keys: ['loss', 'mean_absolute_error', 'val_loss', 'val_mean_absolute_error']\n",
            "Start testing; got log keys: []\n",
            "...Evaluating: start of batch 0; got log keys: []\n",
            "...Evaluating: end of batch 0; got log keys: ['loss', 'mean_absolute_error']\n",
            "...Evaluating: start of batch 1; got log keys: []\n",
            "...Evaluating: end of batch 1; got log keys: ['loss', 'mean_absolute_error']\n",
            "...Evaluating: start of batch 2; got log keys: []\n",
            "...Evaluating: end of batch 2; got log keys: ['loss', 'mean_absolute_error']\n",
            "...Evaluating: start of batch 3; got log keys: []\n",
            "...Evaluating: end of batch 3; got log keys: ['loss', 'mean_absolute_error']\n",
            "...Evaluating: start of batch 4; got log keys: []\n",
            "...Evaluating: end of batch 4; got log keys: ['loss', 'mean_absolute_error']\n",
            "...Evaluating: start of batch 5; got log keys: []\n",
            "...Evaluating: end of batch 5; got log keys: ['loss', 'mean_absolute_error']\n",
            "...Evaluating: start of batch 6; got log keys: []\n",
            "...Evaluating: end of batch 6; got log keys: ['loss', 'mean_absolute_error']\n",
            "...Evaluating: start of batch 7; got log keys: []\n",
            "...Evaluating: end of batch 7; got log keys: ['loss', 'mean_absolute_error']\n",
            "Stop testing; got log keys: ['loss', 'mean_absolute_error']\n",
            "Start predicting; got log keys: []\n",
            "...Predicting: start of batch 0; got log keys: []\n",
            "...Predicting: end of batch 0; got log keys: ['outputs']\n",
            "...Predicting: start of batch 1; got log keys: []\n",
            "...Predicting: end of batch 1; got log keys: ['outputs']\n",
            "...Predicting: start of batch 2; got log keys: []\n",
            "...Predicting: end of batch 2; got log keys: ['outputs']\n",
            "...Predicting: start of batch 3; got log keys: []\n",
            "...Predicting: end of batch 3; got log keys: ['outputs']\n",
            "...Predicting: start of batch 4; got log keys: []\n",
            "...Predicting: end of batch 4; got log keys: ['outputs']\n",
            "...Predicting: start of batch 5; got log keys: []\n",
            "...Predicting: end of batch 5; got log keys: ['outputs']\n",
            "...Predicting: start of batch 6; got log keys: []\n",
            "...Predicting: end of batch 6; got log keys: ['outputs']\n",
            "...Predicting: start of batch 7; got log keys: []\n",
            "...Predicting: end of batch 7; got log keys: ['outputs']\n",
            "Stop predicting; got log keys: []\n"
          ]
        }
      ]
    },
    {
      "cell_type": "code",
      "metadata": {
        "id": "p41AoWhhi4T_"
      },
      "source": [
        ""
      ],
      "execution_count": null,
      "outputs": []
    }
  ]
}