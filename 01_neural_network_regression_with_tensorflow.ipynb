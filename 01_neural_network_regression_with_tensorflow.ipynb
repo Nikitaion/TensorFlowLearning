{
  "nbformat": 4,
  "nbformat_minor": 0,
  "metadata": {
    "colab": {
      "name": "01_neural_network_regression_with_tensorflow.ipynb",
      "provenance": [],
      "authorship_tag": "ABX9TyNNgsj7SMwMeyjwoMDsZpZ1",
      "include_colab_link": true
    },
    "kernelspec": {
      "name": "python3",
      "display_name": "Python 3"
    },
    "language_info": {
      "name": "python"
    }
  },
  "cells": [
    {
      "cell_type": "markdown",
      "metadata": {
        "id": "view-in-github",
        "colab_type": "text"
      },
      "source": [
        "<a href=\"https://colab.research.google.com/github/Nikitaion/TensorFlowLearning/blob/main/01_neural_network_regression_with_tensorflow.ipynb\" target=\"_parent\"><img src=\"https://colab.research.google.com/assets/colab-badge.svg\" alt=\"Open In Colab\"/></a>"
      ]
    },
    {
      "cell_type": "markdown",
      "metadata": {
        "id": "4cF23bd-TBw3"
      },
      "source": [
        "# Introduction to Regression with Neural Networks in TensorFlow\n",
        "\n",
        "There are many definitions for a regression problem, but in our case we're going to simplify it: predicting a numerical variable based on some other combination of variables, even shorter... predicting a number!"
      ]
    },
    {
      "cell_type": "code",
      "metadata": {
        "id": "WfysJ5Gma9mo"
      },
      "source": [
        "import tensorflow as tf\n",
        "import numpy as np\n",
        "import matplotlib.pyplot as plt\n",
        "\n",
        "from tensorflow.keras.utils import plot_model"
      ],
      "execution_count": null,
      "outputs": []
    },
    {
      "cell_type": "markdown",
      "metadata": {
        "id": "jQjYjahTc0zp"
      },
      "source": [
        "## Creating some data to view and fit"
      ]
    },
    {
      "cell_type": "code",
      "metadata": {
        "colab": {
          "base_uri": "https://localhost:8080/",
          "height": 267
        },
        "id": "mqYoe8gcbCRn",
        "outputId": "6e52eeba-655c-4781-faeb-0bab4b6f1323"
      },
      "source": [
        "# Create feautures\n",
        "# X = np.array([-11.0, -3.0, -1.0, 2.0, 3.0, 6.0, 12.0, 14.0, 18.0, 5.0, 123.0, 909.0, 523.0, 241.0, 233.0, 45.0, 64.0, 75.0, 453.0, 345.0, 654.0, 876.0])\n",
        "X = np.array([-11.0, -3.0, -1.0, 2.0, 3.0, 6.0, 12.0, 14.0])\n",
        "\n",
        "# Create labels\n",
        "# y = np.array([-1.0, 7.0, 9.0, 12.0, 13.0, 16.0, 22.0, 24.0, 28.0, 15.0, 133.0, 919.0, 533.0, 251.0, 243.0, 55.0, 74.0, 85.0, 463.0, 355.0, 664.0, 886.0])\n",
        "y = np.array([-1.0, 7.0, 9.0, 12.0, 13.0, 16.0, 22.0, 24.0])\n",
        "\n",
        "# Visualize it\n",
        "plt.scatter(X, y);"
      ],
      "execution_count": null,
      "outputs": [
        {
          "output_type": "display_data",
          "data": {
            "image/png": "[encoded data removed]",
            "text/plain": [
              "<Figure size 432x288 with 1 Axes>"
            ]
          },
          "metadata": {
            "needs_background": "light"
          }
        }
      ]
    },
    {
      "cell_type": "markdown",
      "metadata": {
        "id": "v40xdwDXghIe"
      },
      "source": [
        "## Input and output shapes"
      ]
    },
    {
      "cell_type": "code",
      "metadata": {
        "colab": {
          "base_uri": "https://localhost:8080/"
        },
        "id": "Wbz-315whsDo",
        "outputId": "2c20bef3-4ac3-4ace-a61d-fdbb4227efe2"
      },
      "source": [
        "# Create and demo tensor for our housing price prediction problem\n",
        "house_info = tf.constant([\"bedroom\", \"bathroom\", \"garage\"])\n",
        "house_price = tf.constant([939700])\n",
        "house_info, house_price"
      ],
      "execution_count": null,
      "outputs": [
        {
          "output_type": "execute_result",
          "data": {
            "text/plain": [
              "(<tf.Tensor: shape=(3,), dtype=string, numpy=array([b'bedroom', b'bathroom', b'garage'], dtype=object)>,\n",
              " <tf.Tensor: shape=(1,), dtype=int32, numpy=array([939700], dtype=int32)>)"
            ]
          },
          "metadata": {},
          "execution_count": 3
        }
      ]
    },
    {
      "cell_type": "code",
      "metadata": {
        "colab": {
          "base_uri": "https://localhost:8080/"
        },
        "id": "PJJU8ES7iqKy",
        "outputId": "83ad27a4-8d16-4dfd-f8eb-b6400b6f071e"
      },
      "source": [
        "input_shape = X[0].shape\n",
        "output_shape = y[0].shape\n",
        "input_shape, output_shape"
      ],
      "execution_count": null,
      "outputs": [
        {
          "output_type": "execute_result",
          "data": {
            "text/plain": [
              "((), ())"
            ]
          },
          "metadata": {},
          "execution_count": 4
        }
      ]
    },
    {
      "cell_type": "code",
      "metadata": {
        "colab": {
          "base_uri": "https://localhost:8080/"
        },
        "id": "pGKmn1Uri1YG",
        "outputId": "26027967-c2b8-40cf-c4ff-df5799b34f19"
      },
      "source": [
        "X[0].ndim"
      ],
      "execution_count": null,
      "outputs": [
        {
          "output_type": "execute_result",
          "data": {
            "text/plain": [
              "0"
            ]
          },
          "metadata": {},
          "execution_count": 5
        }
      ]
    },
    {
      "cell_type": "code",
      "metadata": {
        "colab": {
          "base_uri": "https://localhost:8080/"
        },
        "id": "7kGbzS8mjf_R",
        "outputId": "3c1cc130-adaf-42c0-aaf6-0fbe1b32ea77"
      },
      "source": [
        "# Turn our NumPy arrays into tensors with dtype float32\n",
        "X = tf.cast(tf.constant(X), dtype=tf.float32)\n",
        "y = tf.cast(tf.constant(y), dtype=tf.float32)\n",
        "X, y"
      ],
      "execution_count": null,
      "outputs": [
        {
          "output_type": "execute_result",
          "data": {
            "text/plain": [
              "(<tf.Tensor: shape=(8,), dtype=float32, numpy=array([-11.,  -3.,  -1.,   2.,   3.,   6.,  12.,  14.], dtype=float32)>,\n",
              " <tf.Tensor: shape=(8,), dtype=float32, numpy=array([-1.,  7.,  9., 12., 13., 16., 22., 24.], dtype=float32)>)"
            ]
          },
          "metadata": {},
          "execution_count": 6
        }
      ]
    },
    {
      "cell_type": "code",
      "metadata": {
        "colab": {
          "base_uri": "https://localhost:8080/"
        },
        "id": "YinDLH0glf4l",
        "outputId": "44f173f1-6ac9-4ad0-a59c-ae42fc7e1b4c"
      },
      "source": [
        "input_shape = X[0].shape\n",
        "output_shape = y[0].shape\n",
        "input_shape, output_shape"
      ],
      "execution_count": null,
      "outputs": [
        {
          "output_type": "execute_result",
          "data": {
            "text/plain": [
              "(TensorShape([]), TensorShape([]))"
            ]
          },
          "metadata": {},
          "execution_count": 7
        }
      ]
    },
    {
      "cell_type": "markdown",
      "metadata": {
        "id": "S0BEGqjwlqno"
      },
      "source": [
        "## Steps in modeling with TensorFlow\n",
        "\n",
        "1. **Creating a model** - define the input/output layers, as well as the hidden layers of a deep learning model\n",
        "2. **Compile a model** - define the loss function (the function which tells our model how wrong it is) and the optimiser (tells our model how improve the patterns its learning) and evaluation metrics (what we can use to interpret the performance of our model)\n",
        "3. **Fitting a model** - letting the model try to find patterns betveen X and y (features and labels)"
      ]
    },
    {
      "cell_type": "code",
      "metadata": {
        "colab": {
          "base_uri": "https://localhost:8080/"
        },
        "id": "ClxNuRCfl6-e",
        "outputId": "ce461095-89e7-4a45-85b5-b2b497fb5326"
      },
      "source": [
        "# Set random seed\n",
        "tf.random.set_seed(seed=42)\n",
        "# 1. Create a model using the Sequential API\n",
        "model = tf.keras.Sequential([\n",
        "  tf.keras.layers.Dense(1) # 1 - because we want input 1 number and predict 1 number\n",
        "])\n",
        "\n",
        "# 2. Compile the model  \n",
        "model.compile(loss = tf.keras.losses.mae, # mae is short mean absolute error\n",
        "              optimizer = tf.keras.optimizers.SGD(), # SGD is short for stochastic gradient descent (is an optimizer tells our neural network how it should improve)\n",
        "              metrics=[\"mae\"])\n",
        "# loss - how wrong your model's predictions are compared to the truth labels (you want to minimise this)\n",
        "# optimize - how your model should update its internal patterns to better predictions\n",
        "# metrics - human interpretable values for how well your model is doing\n",
        "\n",
        "# 3. Fit the model\n",
        "model.fit(X, y, epochs = 5) # model will have epochs = 5 opportunities of going through X and y\n",
        "# epochs - how many times the model will go through all of the training examples"
      ],
      "execution_count": null,
      "outputs": [
        {
          "output_type": "stream",
          "name": "stdout",
          "text": [
            "Epoch 1/5\n",
            "1/1 [==============================] - 1s 590ms/step - loss: 11.1823 - mae: 11.1823\n",
            "Epoch 2/5\n",
            "1/1 [==============================] - 0s 4ms/step - loss: 11.0967 - mae: 11.0967\n",
            "Epoch 3/5\n",
            "1/1 [==============================] - 0s 9ms/step - loss: 11.0111 - mae: 11.0111\n",
            "Epoch 4/5\n",
            "1/1 [==============================] - 0s 7ms/step - loss: 10.9255 - mae: 10.9255\n",
            "Epoch 5/5\n",
            "1/1 [==============================] - 0s 6ms/step - loss: 10.8398 - mae: 10.8398\n"
          ]
        },
        {
          "output_type": "execute_result",
          "data": {
            "text/plain": [
              "<keras.callbacks.History at 0x7fa46b103490>"
            ]
          },
          "metadata": {},
          "execution_count": 8
        }
      ]
    },
    {
      "cell_type": "code",
      "metadata": {
        "colab": {
          "base_uri": "https://localhost:8080/"
        },
        "id": "L3yvA3XYuVp8",
        "outputId": "505b56a4-f2d2-4c70-ff77-3fa42ea07328"
      },
      "source": [
        "# Check out X and y\n",
        "X, y"
      ],
      "execution_count": null,
      "outputs": [
        {
          "output_type": "execute_result",
          "data": {
            "text/plain": [
              "(<tf.Tensor: shape=(8,), dtype=float32, numpy=array([-11.,  -3.,  -1.,   2.,   3.,   6.,  12.,  14.], dtype=float32)>,\n",
              " <tf.Tensor: shape=(8,), dtype=float32, numpy=array([-1.,  7.,  9., 12., 13., 16., 22., 24.], dtype=float32)>)"
            ]
          },
          "metadata": {},
          "execution_count": 9
        }
      ]
    },
    {
      "cell_type": "code",
      "metadata": {
        "colab": {
          "base_uri": "https://localhost:8080/"
        },
        "id": "pnzVhwPcxckv",
        "outputId": "f941462c-ca2b-49c0-90b8-c50cfd8e351f"
      },
      "source": [
        "# Try and make a prediction using model\n",
        "y_pred = model.predict([32.0])\n",
        "y_pred\n",
        "\n",
        "# Bad results"
      ],
      "execution_count": null,
      "outputs": [
        {
          "output_type": "execute_result",
          "data": {
            "text/plain": [
              "array([[22.691912]], dtype=float32)"
            ]
          },
          "metadata": {},
          "execution_count": 10
        }
      ]
    },
    {
      "cell_type": "markdown",
      "metadata": {
        "id": "Mk73KbBByTsp"
      },
      "source": [
        "## Improving our model\n",
        "\n",
        "We can improve our model, by altering the steps we took to create a model\n",
        "\n",
        "1. **Creating a model** - here we might add more layers, increase the number of hidden units (also called neurons) within each of the hidden layers, change the activation function of each layer.\n",
        "2. **Compiling a model** - here we might change the optimization function for perhaps the **learning rate** of the optimizatiion function\n",
        "3. **Fitting a model**  - here we might fit a model for more **epochs** (leave it traning for longer) or on more data (give the model more examples to learn from)"
      ]
    },
    {
      "cell_type": "code",
      "metadata": {
        "id": "eD8A8491EAvZ",
        "colab": {
          "base_uri": "https://localhost:8080/"
        },
        "outputId": "9f903069-5e47-45af-83f1-89f845300be3"
      },
      "source": [
        "# Let's rebuild our model\n",
        "\n",
        "# 1. Create the model\n",
        "model = tf.keras.Sequential([\n",
        "    tf.keras.layers.Dense(1)\n",
        "])\n",
        "# 2. Compile the model \n",
        "model.compile(loss=tf.keras.losses.mae,\n",
        "              optimizer=tf.keras.optimizers.SGD(),\n",
        "              metrics=[\"mae\"])\n",
        "\n",
        "# 3. Fit the model (this time we will train for longer)\n",
        "model.fit(X, y, epochs = 100)"
      ],
      "execution_count": null,
      "outputs": [
        {
          "output_type": "stream",
          "name": "stdout",
          "text": [
            "Epoch 1/100\n",
            "1/1 [==============================] - 0s 260ms/step - loss: 10.9601 - mae: 10.9601\n",
            "Epoch 2/100\n",
            "1/1 [==============================] - 0s 6ms/step - loss: 10.8745 - mae: 10.8745\n",
            "Epoch 3/100\n",
            "1/1 [==============================] - 0s 6ms/step - loss: 10.7888 - mae: 10.7888\n",
            "Epoch 4/100\n",
            "1/1 [==============================] - 0s 6ms/step - loss: 10.7032 - mae: 10.7032\n",
            "Epoch 5/100\n",
            "1/1 [==============================] - 0s 6ms/step - loss: 10.6176 - mae: 10.6176\n",
            "Epoch 6/100\n",
            "1/1 [==============================] - 0s 4ms/step - loss: 10.5320 - mae: 10.5320\n",
            "Epoch 7/100\n",
            "1/1 [==============================] - 0s 6ms/step - loss: 10.4463 - mae: 10.4463\n",
            "Epoch 8/100\n",
            "1/1 [==============================] - 0s 3ms/step - loss: 10.3607 - mae: 10.3607\n",
            "Epoch 9/100\n",
            "1/1 [==============================] - 0s 4ms/step - loss: 10.2751 - mae: 10.2751\n",
            "Epoch 10/100\n",
            "1/1 [==============================] - 0s 6ms/step - loss: 10.1895 - mae: 10.1895\n",
            "Epoch 11/100\n",
            "1/1 [==============================] - 0s 5ms/step - loss: 10.1038 - mae: 10.1038\n",
            "Epoch 12/100\n",
            "1/1 [==============================] - 0s 7ms/step - loss: 10.0182 - mae: 10.0182\n",
            "Epoch 13/100\n",
            "1/1 [==============================] - 0s 3ms/step - loss: 9.9326 - mae: 9.9326\n",
            "Epoch 14/100\n",
            "1/1 [==============================] - 0s 6ms/step - loss: 9.8470 - mae: 9.8470\n",
            "Epoch 15/100\n",
            "1/1 [==============================] - 0s 3ms/step - loss: 9.7613 - mae: 9.7613\n",
            "Epoch 16/100\n",
            "1/1 [==============================] - 0s 4ms/step - loss: 9.6757 - mae: 9.6757\n",
            "Epoch 17/100\n",
            "1/1 [==============================] - 0s 4ms/step - loss: 9.5901 - mae: 9.5901\n",
            "Epoch 18/100\n",
            "1/1 [==============================] - 0s 5ms/step - loss: 9.5045 - mae: 9.5045\n",
            "Epoch 19/100\n",
            "1/1 [==============================] - 0s 4ms/step - loss: 9.4188 - mae: 9.4188\n",
            "Epoch 20/100\n",
            "1/1 [==============================] - 0s 6ms/step - loss: 9.3332 - mae: 9.3332\n",
            "Epoch 21/100\n",
            "1/1 [==============================] - 0s 6ms/step - loss: 9.2476 - mae: 9.2476\n",
            "Epoch 22/100\n",
            "1/1 [==============================] - 0s 4ms/step - loss: 9.1620 - mae: 9.1620\n",
            "Epoch 23/100\n",
            "1/1 [==============================] - 0s 6ms/step - loss: 9.0763 - mae: 9.0763\n",
            "Epoch 24/100\n",
            "1/1 [==============================] - 0s 5ms/step - loss: 8.9907 - mae: 8.9907\n",
            "Epoch 25/100\n",
            "1/1 [==============================] - 0s 5ms/step - loss: 8.9051 - mae: 8.9051\n",
            "Epoch 26/100\n",
            "1/1 [==============================] - 0s 6ms/step - loss: 8.8195 - mae: 8.8195\n",
            "Epoch 27/100\n",
            "1/1 [==============================] - 0s 5ms/step - loss: 8.7338 - mae: 8.7338\n",
            "Epoch 28/100\n",
            "1/1 [==============================] - 0s 8ms/step - loss: 8.6482 - mae: 8.6482\n",
            "Epoch 29/100\n",
            "1/1 [==============================] - 0s 5ms/step - loss: 8.5626 - mae: 8.5626\n",
            "Epoch 30/100\n",
            "1/1 [==============================] - 0s 6ms/step - loss: 8.4770 - mae: 8.4770\n",
            "Epoch 31/100\n",
            "1/1 [==============================] - 0s 6ms/step - loss: 8.3913 - mae: 8.3913\n",
            "Epoch 32/100\n",
            "1/1 [==============================] - 0s 3ms/step - loss: 8.3057 - mae: 8.3057\n",
            "Epoch 33/100\n",
            "1/1 [==============================] - 0s 5ms/step - loss: 8.2201 - mae: 8.2201\n",
            "Epoch 34/100\n",
            "1/1 [==============================] - 0s 4ms/step - loss: 8.1345 - mae: 8.1345\n",
            "Epoch 35/100\n",
            "1/1 [==============================] - 0s 7ms/step - loss: 8.0488 - mae: 8.0488\n",
            "Epoch 36/100\n",
            "1/1 [==============================] - 0s 6ms/step - loss: 7.9632 - mae: 7.9632\n",
            "Epoch 37/100\n",
            "1/1 [==============================] - 0s 5ms/step - loss: 7.8776 - mae: 7.8776\n",
            "Epoch 38/100\n",
            "1/1 [==============================] - 0s 6ms/step - loss: 7.7920 - mae: 7.7920\n",
            "Epoch 39/100\n",
            "1/1 [==============================] - 0s 4ms/step - loss: 7.7369 - mae: 7.7369\n",
            "Epoch 40/100\n",
            "1/1 [==============================] - 0s 5ms/step - loss: 7.7257 - mae: 7.7257\n",
            "Epoch 41/100\n",
            "1/1 [==============================] - 0s 8ms/step - loss: 7.7326 - mae: 7.7326\n",
            "Epoch 42/100\n",
            "1/1 [==============================] - 0s 4ms/step - loss: 7.7275 - mae: 7.7275\n",
            "Epoch 43/100\n",
            "1/1 [==============================] - 0s 6ms/step - loss: 7.7163 - mae: 7.7163\n",
            "Epoch 44/100\n",
            "1/1 [==============================] - 0s 8ms/step - loss: 7.7050 - mae: 7.7050\n",
            "Epoch 45/100\n",
            "1/1 [==============================] - 0s 8ms/step - loss: 7.6938 - mae: 7.6938\n",
            "Epoch 46/100\n",
            "1/1 [==============================] - 0s 6ms/step - loss: 7.6995 - mae: 7.6995\n",
            "Epoch 47/100\n",
            "1/1 [==============================] - 0s 6ms/step - loss: 7.6957 - mae: 7.6957\n",
            "Epoch 48/100\n",
            "1/1 [==============================] - 0s 5ms/step - loss: 7.6844 - mae: 7.6844\n",
            "Epoch 49/100\n",
            "1/1 [==============================] - 0s 5ms/step - loss: 7.6732 - mae: 7.6732\n",
            "Epoch 50/100\n",
            "1/1 [==============================] - 0s 5ms/step - loss: 7.6619 - mae: 7.6619\n",
            "Epoch 51/100\n",
            "1/1 [==============================] - 0s 5ms/step - loss: 7.6663 - mae: 7.6663\n",
            "Epoch 52/100\n",
            "1/1 [==============================] - 0s 6ms/step - loss: 7.6638 - mae: 7.6638\n",
            "Epoch 53/100\n",
            "1/1 [==============================] - 0s 6ms/step - loss: 7.6525 - mae: 7.6525\n",
            "Epoch 54/100\n",
            "1/1 [==============================] - 0s 5ms/step - loss: 7.6413 - mae: 7.6413\n",
            "Epoch 55/100\n",
            "1/1 [==============================] - 0s 5ms/step - loss: 7.6300 - mae: 7.6300\n",
            "Epoch 56/100\n",
            "1/1 [==============================] - 0s 5ms/step - loss: 7.6332 - mae: 7.6332\n",
            "Epoch 57/100\n",
            "1/1 [==============================] - 0s 6ms/step - loss: 7.6319 - mae: 7.6319\n",
            "Epoch 58/100\n",
            "1/1 [==============================] - 0s 12ms/step - loss: 7.6207 - mae: 7.6207\n",
            "Epoch 59/100\n",
            "1/1 [==============================] - 0s 7ms/step - loss: 7.6094 - mae: 7.6094\n",
            "Epoch 60/100\n",
            "1/1 [==============================] - 0s 7ms/step - loss: 7.5982 - mae: 7.5982\n",
            "Epoch 61/100\n",
            "1/1 [==============================] - 0s 5ms/step - loss: 7.6001 - mae: 7.6001\n",
            "Epoch 62/100\n",
            "1/1 [==============================] - 0s 5ms/step - loss: 7.6000 - mae: 7.6000\n",
            "Epoch 63/100\n",
            "1/1 [==============================] - 0s 5ms/step - loss: 7.5888 - mae: 7.5888\n",
            "Epoch 64/100\n",
            "1/1 [==============================] - 0s 5ms/step - loss: 7.5775 - mae: 7.5775\n",
            "Epoch 65/100\n",
            "1/1 [==============================] - 0s 6ms/step - loss: 7.5663 - mae: 7.5663\n",
            "Epoch 66/100\n",
            "1/1 [==============================] - 0s 6ms/step - loss: 7.5670 - mae: 7.5670\n",
            "Epoch 67/100\n",
            "1/1 [==============================] - 0s 6ms/step - loss: 7.5682 - mae: 7.5682\n",
            "Epoch 68/100\n",
            "1/1 [==============================] - 0s 6ms/step - loss: 7.5569 - mae: 7.5569\n",
            "Epoch 69/100\n",
            "1/1 [==============================] - 0s 5ms/step - loss: 7.5457 - mae: 7.5457\n",
            "Epoch 70/100\n",
            "1/1 [==============================] - 0s 9ms/step - loss: 7.5344 - mae: 7.5344\n",
            "Epoch 71/100\n",
            "1/1 [==============================] - 0s 8ms/step - loss: 7.5338 - mae: 7.5338\n",
            "Epoch 72/100\n",
            "1/1 [==============================] - 0s 10ms/step - loss: 7.5363 - mae: 7.5363\n",
            "Epoch 73/100\n",
            "1/1 [==============================] - 0s 5ms/step - loss: 7.5250 - mae: 7.5250\n",
            "Epoch 74/100\n",
            "1/1 [==============================] - 0s 9ms/step - loss: 7.5138 - mae: 7.5138\n",
            "Epoch 75/100\n",
            "1/1 [==============================] - 0s 8ms/step - loss: 7.5025 - mae: 7.5025\n",
            "Epoch 76/100\n",
            "1/1 [==============================] - 0s 8ms/step - loss: 7.5007 - mae: 7.5007\n",
            "Epoch 77/100\n",
            "1/1 [==============================] - 0s 24ms/step - loss: 7.5044 - mae: 7.5044\n",
            "Epoch 78/100\n",
            "1/1 [==============================] - 0s 9ms/step - loss: 7.4932 - mae: 7.4932\n",
            "Epoch 79/100\n",
            "1/1 [==============================] - 0s 6ms/step - loss: 7.4819 - mae: 7.4819\n",
            "Epoch 80/100\n",
            "1/1 [==============================] - 0s 9ms/step - loss: 7.4707 - mae: 7.4707\n",
            "Epoch 81/100\n",
            "1/1 [==============================] - 0s 8ms/step - loss: 7.4676 - mae: 7.4676\n",
            "Epoch 82/100\n",
            "1/1 [==============================] - 0s 6ms/step - loss: 7.4725 - mae: 7.4725\n",
            "Epoch 83/100\n",
            "1/1 [==============================] - 0s 6ms/step - loss: 7.4613 - mae: 7.4613\n",
            "Epoch 84/100\n",
            "1/1 [==============================] - 0s 8ms/step - loss: 7.4500 - mae: 7.4500\n",
            "Epoch 85/100\n",
            "1/1 [==============================] - 0s 8ms/step - loss: 7.4388 - mae: 7.4388\n",
            "Epoch 86/100\n",
            "1/1 [==============================] - 0s 8ms/step - loss: 7.4345 - mae: 7.4345\n",
            "Epoch 87/100\n",
            "1/1 [==============================] - 0s 4ms/step - loss: 7.4407 - mae: 7.4407\n",
            "Epoch 88/100\n",
            "1/1 [==============================] - 0s 5ms/step - loss: 7.4294 - mae: 7.4294\n",
            "Epoch 89/100\n",
            "1/1 [==============================] - 0s 4ms/step - loss: 7.4182 - mae: 7.4182\n",
            "Epoch 90/100\n",
            "1/1 [==============================] - 0s 4ms/step - loss: 7.4069 - mae: 7.4069\n",
            "Epoch 91/100\n",
            "1/1 [==============================] - 0s 4ms/step - loss: 7.4013 - mae: 7.4013\n",
            "Epoch 92/100\n",
            "1/1 [==============================] - 0s 6ms/step - loss: 7.4088 - mae: 7.4088\n",
            "Epoch 93/100\n",
            "1/1 [==============================] - 0s 5ms/step - loss: 7.3975 - mae: 7.3975\n",
            "Epoch 94/100\n",
            "1/1 [==============================] - 0s 5ms/step - loss: 7.3863 - mae: 7.3863\n",
            "Epoch 95/100\n",
            "1/1 [==============================] - 0s 5ms/step - loss: 7.3750 - mae: 7.3750\n",
            "Epoch 96/100\n",
            "1/1 [==============================] - 0s 7ms/step - loss: 7.3682 - mae: 7.3682\n",
            "Epoch 97/100\n",
            "1/1 [==============================] - 0s 4ms/step - loss: 7.3769 - mae: 7.3769\n",
            "Epoch 98/100\n",
            "1/1 [==============================] - 0s 5ms/step - loss: 7.3657 - mae: 7.3657\n",
            "Epoch 99/100\n",
            "1/1 [==============================] - 0s 5ms/step - loss: 7.3544 - mae: 7.3544\n",
            "Epoch 100/100\n",
            "1/1 [==============================] - 0s 6ms/step - loss: 7.3432 - mae: 7.3432\n"
          ]
        },
        {
          "output_type": "execute_result",
          "data": {
            "text/plain": [
              "<keras.callbacks.History at 0x7fa469880f90>"
            ]
          },
          "metadata": {},
          "execution_count": 11
        }
      ]
    },
    {
      "cell_type": "code",
      "metadata": {
        "colab": {
          "base_uri": "https://localhost:8080/"
        },
        "id": "eD6DL7d-e7ub",
        "outputId": "e06ae3a2-2987-4320-e764-e4522301a58d"
      },
      "source": [
        "# Remind ourselves of the data\n",
        "X, y"
      ],
      "execution_count": null,
      "outputs": [
        {
          "output_type": "execute_result",
          "data": {
            "text/plain": [
              "(<tf.Tensor: shape=(8,), dtype=float32, numpy=array([-11.,  -3.,  -1.,   2.,   3.,   6.,  12.,  14.], dtype=float32)>,\n",
              " <tf.Tensor: shape=(8,), dtype=float32, numpy=array([-1.,  7.,  9., 12., 13., 16., 22., 24.], dtype=float32)>)"
            ]
          },
          "metadata": {},
          "execution_count": 12
        }
      ]
    },
    {
      "cell_type": "code",
      "metadata": {
        "colab": {
          "base_uri": "https://localhost:8080/"
        },
        "id": "vjaoemm3f1xE",
        "outputId": "acf63e20-402a-450c-d4ef-8b45c69aa4cf"
      },
      "source": [
        "# Let's see if our model's prediction has improved\n",
        "model.predict([12.0]), model.predict([10.0]), model.predict([-32.0]), model.predict([132.0])"
      ],
      "execution_count": null,
      "outputs": [
        {
          "output_type": "execute_result",
          "data": {
            "text/plain": [
              "(array([[20.68547]], dtype=float32),\n",
              " array([[17.383726]], dtype=float32),\n",
              " array([[-51.952923]], dtype=float32),\n",
              " array([[218.79018]], dtype=float32))"
            ]
          },
          "metadata": {},
          "execution_count": 13
        }
      ]
    },
    {
      "cell_type": "code",
      "metadata": {
        "colab": {
          "base_uri": "https://localhost:8080/"
        },
        "id": "rrjJnr8hgJec",
        "outputId": "79082159-cf01-4698-e918-3f7b70d35614"
      },
      "source": [
        "# Let's try to do better\n",
        "\n",
        "# 1. Create the model (this time with extra layers)\n",
        "model = tf.keras.Sequential([\n",
        "    tf.keras.layers.Dense(50, activation=\"relu\"),\n",
        "    tf.keras.layers.Dense(1)\n",
        "])\n",
        "# 2. Compile the model (this time with another optimizer with changed learning_rate)\n",
        "model.compile(loss=\"mae\",\n",
        "              optimizer=tf.keras.optimizers.Adam(lr=0.1),\n",
        "              metrics=[\"mae\"])\n",
        "# Note: the learning rate is a most important hyper parameter of many different known networks.\n",
        "\n",
        "# 3. Fit the model \n",
        "model.fit(X, y, epochs = 100)"
      ],
      "execution_count": null,
      "outputs": [
        {
          "output_type": "stream",
          "name": "stderr",
          "text": [
            "/usr/local/lib/python3.7/dist-packages/keras/optimizer_v2/optimizer_v2.py:356: UserWarning: The `lr` argument is deprecated, use `learning_rate` instead.\n",
            "  \"The `lr` argument is deprecated, use `learning_rate` instead.\")\n"
          ]
        },
        {
          "output_type": "stream",
          "name": "stdout",
          "text": [
            "Epoch 1/100\n",
            "1/1 [==============================] - 0s 376ms/step - loss: 11.5667 - mae: 11.5667\n",
            "Epoch 2/100\n",
            "1/1 [==============================] - 0s 7ms/step - loss: 8.5267 - mae: 8.5267\n",
            "Epoch 3/100\n",
            "1/1 [==============================] - 0s 5ms/step - loss: 5.7317 - mae: 5.7317\n",
            "Epoch 4/100\n",
            "1/1 [==============================] - 0s 5ms/step - loss: 6.5478 - mae: 6.5478\n",
            "Epoch 5/100\n",
            "1/1 [==============================] - 0s 4ms/step - loss: 5.7208 - mae: 5.7208\n",
            "Epoch 6/100\n",
            "1/1 [==============================] - 0s 5ms/step - loss: 4.5518 - mae: 4.5518\n",
            "Epoch 7/100\n",
            "1/1 [==============================] - 0s 5ms/step - loss: 4.0236 - mae: 4.0236\n",
            "Epoch 8/100\n",
            "1/1 [==============================] - 0s 5ms/step - loss: 3.6773 - mae: 3.6773\n",
            "Epoch 9/100\n",
            "1/1 [==============================] - 0s 5ms/step - loss: 3.5447 - mae: 3.5447\n",
            "Epoch 10/100\n",
            "1/1 [==============================] - 0s 4ms/step - loss: 2.9753 - mae: 2.9753\n",
            "Epoch 11/100\n",
            "1/1 [==============================] - 0s 8ms/step - loss: 2.5324 - mae: 2.5324\n",
            "Epoch 12/100\n",
            "1/1 [==============================] - 0s 4ms/step - loss: 1.7979 - mae: 1.7979\n",
            "Epoch 13/100\n",
            "1/1 [==============================] - 0s 4ms/step - loss: 1.9316 - mae: 1.9316\n",
            "Epoch 14/100\n",
            "1/1 [==============================] - 0s 10ms/step - loss: 2.1439 - mae: 2.1439\n",
            "Epoch 15/100\n",
            "1/1 [==============================] - 0s 4ms/step - loss: 1.7077 - mae: 1.7077\n",
            "Epoch 16/100\n",
            "1/1 [==============================] - 0s 4ms/step - loss: 0.9940 - mae: 0.9940\n",
            "Epoch 17/100\n",
            "1/1 [==============================] - 0s 3ms/step - loss: 0.9139 - mae: 0.9139\n",
            "Epoch 18/100\n",
            "1/1 [==============================] - 0s 5ms/step - loss: 1.8347 - mae: 1.8347\n",
            "Epoch 19/100\n",
            "1/1 [==============================] - 0s 7ms/step - loss: 1.6939 - mae: 1.6939\n",
            "Epoch 20/100\n",
            "1/1 [==============================] - 0s 7ms/step - loss: 1.2730 - mae: 1.2730\n",
            "Epoch 21/100\n",
            "1/1 [==============================] - 0s 8ms/step - loss: 0.9393 - mae: 0.9393\n",
            "Epoch 22/100\n",
            "1/1 [==============================] - 0s 7ms/step - loss: 0.8117 - mae: 0.8117\n",
            "Epoch 23/100\n",
            "1/1 [==============================] - 0s 6ms/step - loss: 0.8320 - mae: 0.8320\n",
            "Epoch 24/100\n",
            "1/1 [==============================] - 0s 7ms/step - loss: 1.6996 - mae: 1.6996\n",
            "Epoch 25/100\n",
            "1/1 [==============================] - 0s 9ms/step - loss: 1.3775 - mae: 1.3775\n",
            "Epoch 26/100\n",
            "1/1 [==============================] - 0s 9ms/step - loss: 1.2453 - mae: 1.2453\n",
            "Epoch 27/100\n",
            "1/1 [==============================] - 0s 5ms/step - loss: 1.1804 - mae: 1.1804\n",
            "Epoch 28/100\n",
            "1/1 [==============================] - 0s 7ms/step - loss: 0.6418 - mae: 0.6418\n",
            "Epoch 29/100\n",
            "1/1 [==============================] - 0s 7ms/step - loss: 0.5807 - mae: 0.5807\n",
            "Epoch 30/100\n",
            "1/1 [==============================] - 0s 6ms/step - loss: 0.9430 - mae: 0.9430\n",
            "Epoch 31/100\n",
            "1/1 [==============================] - 0s 6ms/step - loss: 0.6782 - mae: 0.6782\n",
            "Epoch 32/100\n",
            "1/1 [==============================] - 0s 5ms/step - loss: 0.8067 - mae: 0.8067\n",
            "Epoch 33/100\n",
            "1/1 [==============================] - 0s 7ms/step - loss: 0.8559 - mae: 0.8559\n",
            "Epoch 34/100\n",
            "1/1 [==============================] - 0s 6ms/step - loss: 0.5487 - mae: 0.5487\n",
            "Epoch 35/100\n",
            "1/1 [==============================] - 0s 6ms/step - loss: 0.8522 - mae: 0.8522\n",
            "Epoch 36/100\n",
            "1/1 [==============================] - 0s 5ms/step - loss: 0.3456 - mae: 0.3456\n",
            "Epoch 37/100\n",
            "1/1 [==============================] - 0s 9ms/step - loss: 0.9604 - mae: 0.9604\n",
            "Epoch 38/100\n",
            "1/1 [==============================] - 0s 7ms/step - loss: 0.9615 - mae: 0.9615\n",
            "Epoch 39/100\n",
            "1/1 [==============================] - 0s 7ms/step - loss: 0.2362 - mae: 0.2362\n",
            "Epoch 40/100\n",
            "1/1 [==============================] - 0s 7ms/step - loss: 1.2033 - mae: 1.2033\n",
            "Epoch 41/100\n",
            "1/1 [==============================] - 0s 5ms/step - loss: 1.1574 - mae: 1.1574\n",
            "Epoch 42/100\n",
            "1/1 [==============================] - 0s 6ms/step - loss: 0.3240 - mae: 0.3240\n",
            "Epoch 43/100\n",
            "1/1 [==============================] - 0s 14ms/step - loss: 1.6588 - mae: 1.6588\n",
            "Epoch 44/100\n",
            "1/1 [==============================] - 0s 8ms/step - loss: 2.2263 - mae: 2.2263\n",
            "Epoch 45/100\n",
            "1/1 [==============================] - 0s 12ms/step - loss: 1.6334 - mae: 1.6334\n",
            "Epoch 46/100\n",
            "1/1 [==============================] - 0s 17ms/step - loss: 0.2155 - mae: 0.2155\n",
            "Epoch 47/100\n",
            "1/1 [==============================] - 0s 8ms/step - loss: 1.8722 - mae: 1.8722\n",
            "Epoch 48/100\n",
            "1/1 [==============================] - 0s 6ms/step - loss: 2.8519 - mae: 2.8519\n",
            "Epoch 49/100\n",
            "1/1 [==============================] - 0s 11ms/step - loss: 3.0627 - mae: 3.0627\n",
            "Epoch 50/100\n",
            "1/1 [==============================] - 0s 5ms/step - loss: 2.5702 - mae: 2.5702\n",
            "Epoch 51/100\n",
            "1/1 [==============================] - 0s 5ms/step - loss: 1.4554 - mae: 1.4554\n",
            "Epoch 52/100\n",
            "1/1 [==============================] - 0s 12ms/step - loss: 0.4741 - mae: 0.4741\n",
            "Epoch 53/100\n",
            "1/1 [==============================] - 0s 22ms/step - loss: 1.2670 - mae: 1.2670\n",
            "Epoch 54/100\n",
            "1/1 [==============================] - 0s 6ms/step - loss: 1.1206 - mae: 1.1206\n",
            "Epoch 55/100\n",
            "1/1 [==============================] - 0s 5ms/step - loss: 0.1430 - mae: 0.1430\n",
            "Epoch 56/100\n",
            "1/1 [==============================] - 0s 7ms/step - loss: 0.5434 - mae: 0.5434\n",
            "Epoch 57/100\n",
            "1/1 [==============================] - 0s 4ms/step - loss: 0.2387 - mae: 0.2387\n",
            "Epoch 58/100\n",
            "1/1 [==============================] - 0s 7ms/step - loss: 0.9876 - mae: 0.9876\n",
            "Epoch 59/100\n",
            "1/1 [==============================] - 0s 7ms/step - loss: 1.1847 - mae: 1.1847\n",
            "Epoch 60/100\n",
            "1/1 [==============================] - 0s 8ms/step - loss: 0.5557 - mae: 0.5557\n",
            "Epoch 61/100\n",
            "1/1 [==============================] - 0s 8ms/step - loss: 0.9253 - mae: 0.9253\n",
            "Epoch 62/100\n",
            "1/1 [==============================] - 0s 7ms/step - loss: 1.3596 - mae: 1.3596\n",
            "Epoch 63/100\n",
            "1/1 [==============================] - 0s 16ms/step - loss: 0.9847 - mae: 0.9847\n",
            "Epoch 64/100\n",
            "1/1 [==============================] - 0s 4ms/step - loss: 0.2187 - mae: 0.2187\n",
            "Epoch 65/100\n",
            "1/1 [==============================] - 0s 7ms/step - loss: 0.4872 - mae: 0.4872\n",
            "Epoch 66/100\n",
            "1/1 [==============================] - 0s 4ms/step - loss: 0.5432 - mae: 0.5432\n",
            "Epoch 67/100\n",
            "1/1 [==============================] - 0s 9ms/step - loss: 0.3435 - mae: 0.3435\n",
            "Epoch 68/100\n",
            "1/1 [==============================] - 0s 4ms/step - loss: 0.6837 - mae: 0.6837\n",
            "Epoch 69/100\n",
            "1/1 [==============================] - 0s 5ms/step - loss: 0.6744 - mae: 0.6744\n",
            "Epoch 70/100\n",
            "1/1 [==============================] - 0s 10ms/step - loss: 0.4026 - mae: 0.4026\n",
            "Epoch 71/100\n",
            "1/1 [==============================] - 0s 5ms/step - loss: 0.2873 - mae: 0.2873\n",
            "Epoch 72/100\n",
            "1/1 [==============================] - 0s 5ms/step - loss: 0.6183 - mae: 0.6183\n",
            "Epoch 73/100\n",
            "1/1 [==============================] - 0s 8ms/step - loss: 0.6150 - mae: 0.6150\n",
            "Epoch 74/100\n",
            "1/1 [==============================] - 0s 5ms/step - loss: 0.1620 - mae: 0.1620\n",
            "Epoch 75/100\n",
            "1/1 [==============================] - 0s 5ms/step - loss: 0.1054 - mae: 0.1054\n",
            "Epoch 76/100\n",
            "1/1 [==============================] - 0s 9ms/step - loss: 0.7838 - mae: 0.7838\n",
            "Epoch 77/100\n",
            "1/1 [==============================] - 0s 5ms/step - loss: 0.6563 - mae: 0.6563\n",
            "Epoch 78/100\n",
            "1/1 [==============================] - 0s 5ms/step - loss: 0.3316 - mae: 0.3316\n",
            "Epoch 79/100\n",
            "1/1 [==============================] - 0s 6ms/step - loss: 0.4780 - mae: 0.4780\n",
            "Epoch 80/100\n",
            "1/1 [==============================] - 0s 9ms/step - loss: 0.2310 - mae: 0.2310\n",
            "Epoch 81/100\n",
            "1/1 [==============================] - 0s 9ms/step - loss: 0.1537 - mae: 0.1537\n",
            "Epoch 82/100\n",
            "1/1 [==============================] - 0s 5ms/step - loss: 0.3737 - mae: 0.3737\n",
            "Epoch 83/100\n",
            "1/1 [==============================] - 0s 7ms/step - loss: 0.3021 - mae: 0.3021\n",
            "Epoch 84/100\n",
            "1/1 [==============================] - 0s 7ms/step - loss: 0.1351 - mae: 0.1351\n",
            "Epoch 85/100\n",
            "1/1 [==============================] - 0s 7ms/step - loss: 0.4731 - mae: 0.4731\n",
            "Epoch 86/100\n",
            "1/1 [==============================] - 0s 4ms/step - loss: 0.2459 - mae: 0.2459\n",
            "Epoch 87/100\n",
            "1/1 [==============================] - 0s 5ms/step - loss: 0.5896 - mae: 0.5896\n",
            "Epoch 88/100\n",
            "1/1 [==============================] - 0s 8ms/step - loss: 0.4848 - mae: 0.4848\n",
            "Epoch 89/100\n",
            "1/1 [==============================] - 0s 10ms/step - loss: 0.5489 - mae: 0.5489\n",
            "Epoch 90/100\n",
            "1/1 [==============================] - 0s 8ms/step - loss: 0.5495 - mae: 0.5495\n",
            "Epoch 91/100\n",
            "1/1 [==============================] - 0s 8ms/step - loss: 0.4901 - mae: 0.4901\n",
            "Epoch 92/100\n",
            "1/1 [==============================] - 0s 6ms/step - loss: 0.5057 - mae: 0.5057\n",
            "Epoch 93/100\n",
            "1/1 [==============================] - 0s 7ms/step - loss: 0.1647 - mae: 0.1647\n",
            "Epoch 94/100\n",
            "1/1 [==============================] - 0s 11ms/step - loss: 0.1971 - mae: 0.1971\n",
            "Epoch 95/100\n",
            "1/1 [==============================] - 0s 10ms/step - loss: 0.5087 - mae: 0.5087\n",
            "Epoch 96/100\n",
            "1/1 [==============================] - 0s 8ms/step - loss: 0.4026 - mae: 0.4026\n",
            "Epoch 97/100\n",
            "1/1 [==============================] - 0s 11ms/step - loss: 0.4474 - mae: 0.4474\n",
            "Epoch 98/100\n",
            "1/1 [==============================] - 0s 8ms/step - loss: 0.1809 - mae: 0.1809\n",
            "Epoch 99/100\n",
            "1/1 [==============================] - 0s 5ms/step - loss: 0.1365 - mae: 0.1365\n",
            "Epoch 100/100\n",
            "1/1 [==============================] - 0s 4ms/step - loss: 0.5126 - mae: 0.5126\n"
          ]
        },
        {
          "output_type": "execute_result",
          "data": {
            "text/plain": [
              "<keras.callbacks.History at 0x7fa46a6c0590>"
            ]
          },
          "metadata": {},
          "execution_count": 14
        }
      ]
    },
    {
      "cell_type": "code",
      "metadata": {
        "colab": {
          "base_uri": "https://localhost:8080/"
        },
        "id": "D_N_UD7vgKbw",
        "outputId": "2d725ad0-53b7-4050-b38c-59a52ec0bd0a"
      },
      "source": [
        "model.predict([12.0]), model.predict([10.0]), model.predict([-11.0]), model.predict([45.0])\n",
        "#Thats better"
      ],
      "execution_count": null,
      "outputs": [
        {
          "output_type": "execute_result",
          "data": {
            "text/plain": [
              "(array([[20.848778]], dtype=float32),\n",
              " array([[19.065048]], dtype=float32),\n",
              " array([[-0.74188113]], dtype=float32),\n",
              " array([[50.852535]], dtype=float32))"
            ]
          },
          "metadata": {},
          "execution_count": 15
        }
      ]
    },
    {
      "cell_type": "markdown",
      "metadata": {
        "id": "SwVjigcPiSnZ"
      },
      "source": [
        "## Evaluating a model\n",
        "\n",
        "In practice, a typical workflow you'll go through when building neural networks is:\n",
        "\n",
        "```\n",
        "Build a model -> fit it -> evaluate it -> tweak a model -> fit it -> \n",
        "evaluate it -> tweak a model -> fit it -> evaluate it ...\n",
        "```"
      ]
    },
    {
      "cell_type": "markdown",
      "metadata": {
        "id": "Q_kN3WzpuZwp"
      },
      "source": [
        "When it comes to evaluation - there are 3 words you should memorize:\n",
        "\n",
        ">\"Visualise, visualise, visualise\"\n",
        "\n",
        "It's a good idea to visualize:\n",
        "* The data - what data are we working with? What does it look like?\n",
        "* The model itself. What does our model look like?\n",
        "* The training of a model - how does a model perform while it learns?\n",
        "* The predictions of a model - how do the predictions of a modelline up against the ground truth (the original labels)"
      ]
    },
    {
      "cell_type": "code",
      "metadata": {
        "colab": {
          "base_uri": "https://localhost:8080/"
        },
        "id": "raCHB-ZYR0-w",
        "outputId": "d2a7616c-240f-4956-9a8a-473091a76358"
      },
      "source": [
        "# Make a bigger dataset\n",
        "X = tf.range(-100, 100, 4)\n",
        "X"
      ],
      "execution_count": null,
      "outputs": [
        {
          "output_type": "execute_result",
          "data": {
            "text/plain": [
              "<tf.Tensor: shape=(50,), dtype=int32, numpy=\n",
              "array([-100,  -96,  -92,  -88,  -84,  -80,  -76,  -72,  -68,  -64,  -60,\n",
              "        -56,  -52,  -48,  -44,  -40,  -36,  -32,  -28,  -24,  -20,  -16,\n",
              "        -12,   -8,   -4,    0,    4,    8,   12,   16,   20,   24,   28,\n",
              "         32,   36,   40,   44,   48,   52,   56,   60,   64,   68,   72,\n",
              "         76,   80,   84,   88,   92,   96], dtype=int32)>"
            ]
          },
          "metadata": {},
          "execution_count": 16
        }
      ]
    },
    {
      "cell_type": "code",
      "metadata": {
        "colab": {
          "base_uri": "https://localhost:8080/"
        },
        "id": "kL5KJYIFUcIi",
        "outputId": "9a2f8298-c20a-4a84-bfd2-b95c1104cec0"
      },
      "source": [
        "# Make labels for the dataset\n",
        "y = X + 10\n",
        "y"
      ],
      "execution_count": null,
      "outputs": [
        {
          "output_type": "execute_result",
          "data": {
            "text/plain": [
              "<tf.Tensor: shape=(50,), dtype=int32, numpy=\n",
              "array([-90, -86, -82, -78, -74, -70, -66, -62, -58, -54, -50, -46, -42,\n",
              "       -38, -34, -30, -26, -22, -18, -14, -10,  -6,  -2,   2,   6,  10,\n",
              "        14,  18,  22,  26,  30,  34,  38,  42,  46,  50,  54,  58,  62,\n",
              "        66,  70,  74,  78,  82,  86,  90,  94,  98, 102, 106], dtype=int32)>"
            ]
          },
          "metadata": {},
          "execution_count": 17
        }
      ]
    },
    {
      "cell_type": "code",
      "metadata": {
        "colab": {
          "base_uri": "https://localhost:8080/",
          "height": 282
        },
        "id": "YnD9Tc42UnEh",
        "outputId": "b0e876ee-df29-4fc7-f7fa-af75b6aafaef"
      },
      "source": [
        "# Visualize the data\n",
        "import matplotlib.pyplot as plt\n",
        "\n",
        "plt.scatter(X, y)"
      ],
      "execution_count": null,
      "outputs": [
        {
          "output_type": "execute_result",
          "data": {
            "text/plain": [
              "<matplotlib.collections.PathCollection at 0x7fa46987a3d0>"
            ]
          },
          "metadata": {},
          "execution_count": 18
        },
        {
          "output_type": "display_data",
          "data": {
            "image/png": "[encoded data removed]",
            "text/plain": [
              "<Figure size 432x288 with 1 Axes>"
            ]
          },
          "metadata": {
            "needs_background": "light"
          }
        }
      ]
    },
    {
      "cell_type": "markdown",
      "metadata": {
        "id": "f-mwZj0bU503"
      },
      "source": [
        "### The 3 sets\n",
        "\n",
        "* **Training set** - the model learns from this data. Typically 70-80 percent of the total avaliable data\n",
        "* **Validation set** - the model gets tuned on this data. Typically 10-15 percent of the total avaliable data\n",
        "* **Test set** - the model gets evaluated on this data to test what it has learned. Typically 10-15 percent of the total data available."
      ]
    },
    {
      "cell_type": "code",
      "metadata": {
        "colab": {
          "base_uri": "https://localhost:8080/"
        },
        "id": "KgSowwnxKEcG",
        "outputId": "03d25efa-b013-4778-ccd5-a0464dd94164"
      },
      "source": [
        "# Check the length of how many samples we have\n",
        "len(X)"
      ],
      "execution_count": null,
      "outputs": [
        {
          "output_type": "execute_result",
          "data": {
            "text/plain": [
              "50"
            ]
          },
          "metadata": {},
          "execution_count": 19
        }
      ]
    },
    {
      "cell_type": "code",
      "metadata": {
        "colab": {
          "base_uri": "https://localhost:8080/"
        },
        "id": "pdJXpHLiKE4j",
        "outputId": "69d30fdc-07cb-4f07-b263-9de8bf4ab256"
      },
      "source": [
        "# Split the data into train and test set\n",
        "X_train = X[:40] # First 40 training samples (80% data)\n",
        "y_train = y[:40]\n",
        "\n",
        "X_test = X[40:] # Last 10 samples (20% data)\n",
        "y_test = y[40:]\n",
        "\n",
        "len(X_train), len(X_test)"
      ],
      "execution_count": null,
      "outputs": [
        {
          "output_type": "execute_result",
          "data": {
            "text/plain": [
              "(40, 10)"
            ]
          },
          "metadata": {},
          "execution_count": 131
        }
      ]
    },
    {
      "cell_type": "markdown",
      "metadata": {
        "id": "yBOlfAQGK9fh"
      },
      "source": [
        "### Visualizing the data \n",
        "Now we've got our data in training and test sets. Let's visualise it again"
      ]
    },
    {
      "cell_type": "code",
      "metadata": {
        "colab": {
          "base_uri": "https://localhost:8080/",
          "height": 445
        },
        "id": "G1WZ4BA9LKI5",
        "outputId": "586e16b8-4ddd-4469-e096-c1428264efa0"
      },
      "source": [
        "plt.figure(figsize=(10, 7))\n",
        "# Plot training data in blue\n",
        "plt.scatter(X_train, y_train, c=\"b\", label=\"Training data\")\n",
        "# Plot test data in green\n",
        "plt.scatter(X_test, y_test, c=\"g\", label=\"Testing data\")\n",
        "# Show a legend\n",
        "plt.legend()"
      ],
      "execution_count": null,
      "outputs": [
        {
          "output_type": "execute_result",
          "data": {
            "text/plain": [
              "<matplotlib.legend.Legend at 0x7fa469a15fd0>"
            ]
          },
          "metadata": {},
          "execution_count": 132
        },
        {
          "output_type": "display_data",
          "data": {
            "image/png": "[encoded data removed]",
            "text/plain": [
              "<Figure size 720x504 with 1 Axes>"
            ]
          },
          "metadata": {
            "needs_background": "light"
          }
        }
      ]
    },
    {
      "cell_type": "code",
      "metadata": {
        "id": "C5IDBXpu0upR"
      },
      "source": [
        "# Let's have a look at let's have a look at how to build a neural network for our data.\n",
        "\n",
        "# 1. Create a model\n",
        "model = tf.keras.Sequential([\n",
        "    tf.keras.layers.Dense(1)\n",
        "])\n",
        "# 2. Compile the model\n",
        "model.compile(loss=\"mae\",\n",
        "              optimizer=tf.keras.optimizers.SGD(),\n",
        "              metrics=[\"mae\"])\n",
        "# 3. Fit the model\n",
        "# model.fit(X_train, y_train, epochs=100)"
      ],
      "execution_count": null,
      "outputs": []
    },
    {
      "cell_type": "markdown",
      "metadata": {
        "id": "ng2pAZUt2bYl"
      },
      "source": [
        "### Visualizing the model"
      ]
    },
    {
      "cell_type": "code",
      "metadata": {
        "id": "yUkvahPb2nyt"
      },
      "source": [
        "# let's create a model which builds automatically by defining the input shape argument in the first layer\n",
        "tf.random.set_seed(42)\n",
        "\n",
        "# 1. Create a model. Same as above\n",
        "model = tf.keras.Sequential([\n",
        "    tf.keras.layers.Dense(10, input_shape=[1], name=\"Input_layer\"), # input_shape=1 because we passing 1 number to predict 1 number\n",
        "    tf.keras.layers.Dense(1, name=\"Output_layer\")\n",
        "], name=\"model_1\")\n",
        "\n",
        "# 2. Compile a model. Same as above\n",
        "model.compile(loss=\"mae\",\n",
        "              optimizer=tf.keras.optimizers.SGD(),\n",
        "              metrics=[\"mae\"])\n",
        "\n"
      ],
      "execution_count": null,
      "outputs": []
    },
    {
      "cell_type": "code",
      "metadata": {
        "colab": {
          "base_uri": "https://localhost:8080/"
        },
        "id": "5rK4_y4xMoA1",
        "outputId": "83f966c1-1a6b-4558-a28a-cce671761870"
      },
      "source": [
        "model.summary()"
      ],
      "execution_count": null,
      "outputs": [
        {
          "output_type": "stream",
          "name": "stdout",
          "text": [
            "Model: \"model_1\"\n",
            "_________________________________________________________________\n",
            "Layer (type)                 Output Shape              Param #   \n",
            "=================================================================\n",
            "Input_layer (Dense)          (None, 10)                20        \n",
            "_________________________________________________________________\n",
            "Output_layer (Dense)         (None, 1)                 11        \n",
            "=================================================================\n",
            "Total params: 31\n",
            "Trainable params: 31\n",
            "Non-trainable params: 0\n",
            "_________________________________________________________________\n"
          ]
        }
      ]
    },
    {
      "cell_type": "markdown",
      "metadata": {
        "id": "y-WwahHf2rmc"
      },
      "source": [
        "* Total params - total number of parameters in the model.\n",
        "* Trainable parameters - these are the parameters (patterns) the model can update as it trains.\n",
        "* Non trainable parameters - these parameters aren't updated during training (this is typical when you bring in already learned patterns or parameters from other models during **transfer learning**).\n",
        "\n",
        "https://deeplizard.com/learn/video/8d-9SnGt5E0"
      ]
    },
    {
      "cell_type": "code",
      "metadata": {
        "colab": {
          "base_uri": "https://localhost:8080/"
        },
        "id": "QqbErag85GlW",
        "outputId": "d3cbb9f9-4fd8-4bac-8365-d041d4786fbc"
      },
      "source": [
        "# Let's fit a model to the training data\n",
        "model.fit(X_train, y_train, epochs=100, verbose=0) # verbose=0 for do it without many outputs"
      ],
      "execution_count": null,
      "outputs": [
        {
          "output_type": "execute_result",
          "data": {
            "text/plain": [
              "<keras.callbacks.History at 0x7fa4699067d0>"
            ]
          },
          "metadata": {},
          "execution_count": 136
        }
      ]
    },
    {
      "cell_type": "code",
      "metadata": {
        "colab": {
          "base_uri": "https://localhost:8080/"
        },
        "id": "2JepH6Ta7koH",
        "outputId": "3e050315-3418-49c9-8c4c-a602afaf03f6"
      },
      "source": [
        "model.summary()"
      ],
      "execution_count": null,
      "outputs": [
        {
          "output_type": "stream",
          "name": "stdout",
          "text": [
            "Model: \"model_1\"\n",
            "_________________________________________________________________\n",
            "Layer (type)                 Output Shape              Param #   \n",
            "=================================================================\n",
            "Input_layer (Dense)          (None, 10)                20        \n",
            "_________________________________________________________________\n",
            "Output_layer (Dense)         (None, 1)                 11        \n",
            "=================================================================\n",
            "Total params: 31\n",
            "Trainable params: 31\n",
            "Non-trainable params: 0\n",
            "_________________________________________________________________\n"
          ]
        }
      ]
    },
    {
      "cell_type": "code",
      "metadata": {
        "colab": {
          "base_uri": "https://localhost:8080/",
          "height": 312
        },
        "id": "qdXE1IAJL0t2",
        "outputId": "4a06368d-3698-447b-d8da-4b82e135f1b9"
      },
      "source": [
        "from tensorflow.keras.utils import plot_model\n",
        "\n",
        "plot_model(model=model, show_shapes=True)"
      ],
      "execution_count": null,
      "outputs": [
        {
          "output_type": "execute_result",
          "data": {
            "image/png": "[encoded data removed]",
            "text/plain": [
              "<IPython.core.display.Image object>"
            ]
          },
          "metadata": {},
          "execution_count": 138
        }
      ]
    },
    {
      "cell_type": "markdown",
      "metadata": {
        "id": "XarMsVv8NhCj"
      },
      "source": [
        "### Visualizing our models predictions\n",
        "\n",
        "To visualize predictions, it's a good idea to plot them against the ground truth labels.\n",
        "\n",
        "Often you'll see this in the form of `y_test` or `y_true` versus `y_pred` (ground truth versus your model's predictions).\n",
        "\n"
      ]
    },
    {
      "cell_type": "code",
      "metadata": {
        "colab": {
          "base_uri": "https://localhost:8080/"
        },
        "id": "tzS7JSYWPtGB",
        "outputId": "d62053f7-9045-4712-a1b7-b05a3096c9c4"
      },
      "source": [
        "# Make some predictions\n",
        "y_pred = model.predict(X_test)\n",
        "y_pred"
      ],
      "execution_count": null,
      "outputs": [
        {
          "output_type": "execute_result",
          "data": {
            "text/plain": [
              "array([[ 70.55218 ],\n",
              "       [ 75.13991 ],\n",
              "       [ 79.72763 ],\n",
              "       [ 84.31535 ],\n",
              "       [ 88.903076],\n",
              "       [ 93.49081 ],\n",
              "       [ 98.07853 ],\n",
              "       [102.66625 ],\n",
              "       [107.253975],\n",
              "       [111.8417  ]], dtype=float32)"
            ]
          },
          "metadata": {},
          "execution_count": 139
        }
      ]
    },
    {
      "cell_type": "code",
      "metadata": {
        "colab": {
          "base_uri": "https://localhost:8080/"
        },
        "id": "VZepAlHacIyX",
        "outputId": "908735ee-9d69-4a61-d9d7-17d99ec925a7"
      },
      "source": [
        "y_test"
      ],
      "execution_count": null,
      "outputs": [
        {
          "output_type": "execute_result",
          "data": {
            "text/plain": [
              "<tf.Tensor: shape=(10,), dtype=int32, numpy=array([ 70,  74,  78,  82,  86,  90,  94,  98, 102, 106], dtype=int32)>"
            ]
          },
          "metadata": {},
          "execution_count": 140
        }
      ]
    },
    {
      "cell_type": "markdown",
      "metadata": {
        "id": "WOnvhdM6c1KS"
      },
      "source": [
        "🔑**Note:** If you feel like You're going to reuse some kind of functionality in the future, it's a good idea to turn it into a function.\n",
        "\n"
      ]
    },
    {
      "cell_type": "code",
      "metadata": {
        "id": "JrV-4rpKdKzf"
      },
      "source": [
        "# Let's create a plotting func\n",
        "def plot_predictions(train_data=X_train, train_labels=y_train, test_data=X_test, test_labels=y_test, predictions=y_pred):\n",
        "  \"\"\"\n",
        "  Plots training data, test data and compare predictions to ground truth labels\n",
        "  \"\"\"\n",
        "  plt.figure(figsize=(10, 7))\n",
        "  # Plot training data in blue\n",
        "  plt.scatter(train_data, train_labels, c=\"b\", label=\"Training data\")\n",
        "  # Plot testing data in green\n",
        "  plt.scatter(test_data, test_labels, c=\"g\", label=\"Testing data\")\n",
        "  # Plot model's predictions in a res\n",
        "  plt.scatter(test_data, predictions, c=\"r\", label=\"Predictions\")\n",
        "  # Show the legent\n",
        "  plt.legend();"
      ],
      "execution_count": null,
      "outputs": []
    },
    {
      "cell_type": "code",
      "metadata": {
        "id": "5sfM_hzlcNHz"
      },
      "source": [
        "# plt.figure(figsize=(10, 7))\n",
        "# # Plot training data in blue\n",
        "# plt.scatter(X_test, y_pred, c=\"b\", label=\"Predicted data\")\n",
        "# # Plot test data in green\n",
        "# plt.scatter(X_test, y_test, c=\"g\", label=\"Testing data\")\n",
        "# # Show a legend\n",
        "# plt.legend()"
      ],
      "execution_count": null,
      "outputs": []
    },
    {
      "cell_type": "code",
      "metadata": {
        "colab": {
          "base_uri": "https://localhost:8080/",
          "height": 428
        },
        "id": "it9rCKP0cXlI",
        "outputId": "fba3d3c6-5ff6-4765-d187-8836d4a7d990"
      },
      "source": [
        "plot_predictions(train_data=X_train, train_labels=y_train, test_data=X_test, test_labels=y_test, predictions=y_pred)"
      ],
      "execution_count": null,
      "outputs": [
        {
          "output_type": "display_data",
          "data": {
            "image/png": "[encoded data removed]",
            "text/plain": [
              "<Figure size 720x504 with 1 Axes>"
            ]
          },
          "metadata": {
            "needs_background": "light"
          }
        }
      ]
    },
    {
      "cell_type": "code",
      "metadata": {
        "id": "9CUo5GowmQXS"
      },
      "source": [
        "# Let's try to do better\n",
        "tf.random.set_seed(42)\n",
        "model_2 = tf.keras.Sequential([\n",
        "    tf.keras.layers.Dense(10, input_shape=[1], name=\"Input_layer\"),\n",
        "    # tf.keras.layers.Dense(100, input_shape=[1], name=\"Input_layer\"), # With 100 units worse\n",
        "    # tf.keras.layers.Dense(10, input_shape=[1], name=\"Second_layer\"), # With second layer - pretty worst\n",
        "    tf.keras.layers.Dense(1, name=\"Output_layer\")\n",
        "], name=\"model_2\")\n",
        "\n",
        "model_2.compile(loss=\"mae\",\n",
        "              optimizer=tf.keras.optimizers.Adam(learning_rate=0.015), # With Adam lr=0.015 - better\n",
        "              metrics=[\"mae\"])\n"
      ],
      "execution_count": null,
      "outputs": []
    },
    {
      "cell_type": "code",
      "metadata": {
        "colab": {
          "base_uri": "https://localhost:8080/"
        },
        "id": "t3fnzqLfmf7c",
        "outputId": "64036e32-3fac-404b-a2c8-06b491b870ae"
      },
      "source": [
        "model_2.fit(X_train, y_train, epochs=100, verbose=0) # verbose=0 for do it without many outputs"
      ],
      "execution_count": null,
      "outputs": [
        {
          "output_type": "execute_result",
          "data": {
            "text/plain": [
              "<keras.callbacks.History at 0x7fa4681a6190>"
            ]
          },
          "metadata": {},
          "execution_count": 150
        }
      ]
    },
    {
      "cell_type": "code",
      "metadata": {
        "colab": {
          "base_uri": "https://localhost:8080/",
          "height": 312
        },
        "id": "gkN3Q9Y6mpaJ",
        "outputId": "b8dbee99-4631-409b-8742-3c9d4239bfec"
      },
      "source": [
        "plot_model(model_2, show_shapes=True)"
      ],
      "execution_count": null,
      "outputs": [
        {
          "output_type": "execute_result",
          "data": {
            "image/png": "[encoded data removed]",
            "text/plain": [
              "<IPython.core.display.Image object>"
            ]
          },
          "metadata": {},
          "execution_count": 146
        }
      ]
    },
    {
      "cell_type": "code",
      "metadata": {
        "colab": {
          "base_uri": "https://localhost:8080/"
        },
        "id": "MvseG5Cjm7DB",
        "outputId": "2cbac31b-84a7-43ef-826e-238b15d864ff"
      },
      "source": [
        "y_pred_2 = model_2.predict(X_test)\n",
        "y_pred_2"
      ],
      "execution_count": null,
      "outputs": [
        {
          "output_type": "execute_result",
          "data": {
            "text/plain": [
              "array([[ 69.35972 ],\n",
              "       [ 73.320816],\n",
              "       [ 77.281906],\n",
              "       [ 81.24301 ],\n",
              "       [ 85.2041  ],\n",
              "       [ 89.16519 ],\n",
              "       [ 93.12629 ],\n",
              "       [ 97.087395],\n",
              "       [101.04849 ],\n",
              "       [105.009575]], dtype=float32)"
            ]
          },
          "metadata": {},
          "execution_count": 151
        }
      ]
    },
    {
      "cell_type": "code",
      "metadata": {
        "colab": {
          "base_uri": "https://localhost:8080/",
          "height": 428
        },
        "id": "I8CwODWEnEmv",
        "outputId": "f609ef86-307f-4899-f8fc-f81d6811a4a5"
      },
      "source": [
        "plot_predictions(predictions=y_pred_2)"
      ],
      "execution_count": null,
      "outputs": [
        {
          "output_type": "display_data",
          "data": {
            "image/png": "[encoded data removed]",
            "text/plain": [
              "<Figure size 720x504 with 1 Axes>"
            ]
          },
          "metadata": {
            "needs_background": "light"
          }
        }
      ]
    },
    {
      "cell_type": "markdown",
      "metadata": {
        "id": "ed1JS2P5eWJt"
      },
      "source": [
        "### Evaluating our model's predictions with regression evaluation metrics\n",
        "\n",
        "Depending on the problem you're working on, there will be different evaluation metrics to evaluate your model's performance.\n",
        "\n",
        "Since we're working on a regression problem, two of the main metrics:\n",
        "* MAE - mean absolute error, \"on average, how wrong is each of my model's predictions?\". As a great starter metric for any regression problem \n",
        "( tf.keras.losses.MAE() & tf.metrics.mean_absolute_error() )\n",
        "* MSE - mean squared error, \"square the average errors\". When larger errors are more significant than saller errors.\n",
        "( tf.keras.losses.MSE() & tf.metrics.mean_squared_error() )\n",
        "* Huber - Combination of MSE and MAE. Less sensitive to outliers than MSE\n",
        "( tf.keras.losses.Huber() )"
      ]
    },
    {
      "cell_type": "code",
      "metadata": {
        "colab": {
          "base_uri": "https://localhost:8080/"
        },
        "id": "EfXhp3MFnMlq",
        "outputId": "582af808-bf47-4750-deff-9d9a8183a74f"
      },
      "source": [
        "# Evaluate the model on the test set\n",
        "model.evaluate(X_test, y_test)"
      ],
      "execution_count": null,
      "outputs": [
        {
          "output_type": "stream",
          "name": "stdout",
          "text": [
            "1/1 [==============================] - 0s 16ms/step - loss: 3.1969 - mae: 3.1969\n"
          ]
        },
        {
          "output_type": "execute_result",
          "data": {
            "text/plain": [
              "[3.196942090988159, 3.196942090988159]"
            ]
          },
          "metadata": {},
          "execution_count": 157
        }
      ]
    },
    {
      "cell_type": "code",
      "metadata": {
        "colab": {
          "base_uri": "https://localhost:8080/"
        },
        "id": "BL8mP3_3uf3w",
        "outputId": "8eac2ee9-9816-42bf-87eb-72943f09b82c"
      },
      "source": [
        "# Calculate the mean ablolute error\n",
        "tf.keras.losses.MAE(y_true = y_test, y_pred=tf.squeeze(y_pred)) # We need to squeeze because y_pred have 1 extra dimension (shape=(10, 1))"
      ],
      "execution_count": null,
      "outputs": [
        {
          "output_type": "execute_result",
          "data": {
            "text/plain": [
              "<tf.Tensor: shape=(), dtype=float32, numpy=3.1969407>"
            ]
          },
          "metadata": {},
          "execution_count": 172
        }
      ]
    },
    {
      "cell_type": "code",
      "metadata": {
        "colab": {
          "base_uri": "https://localhost:8080/"
        },
        "id": "2nCCUaqmvnQ1",
        "outputId": "b093da93-cf80-4a67-97d8-b4de3fb4e295"
      },
      "source": [
        " tf.metrics.mean_absolute_error(y_test, tf.squeeze(y_pred))"
      ],
      "execution_count": null,
      "outputs": [
        {
          "output_type": "execute_result",
          "data": {
            "text/plain": [
              "<tf.Tensor: shape=(), dtype=float32, numpy=3.1969407>"
            ]
          },
          "metadata": {},
          "execution_count": 173
        }
      ]
    },
    {
      "cell_type": "code",
      "metadata": {
        "colab": {
          "base_uri": "https://localhost:8080/"
        },
        "id": "FYZtSLy1uRgg",
        "outputId": "72fa9d32-5a23-4935-8b93-dea2959c7a67"
      },
      "source": [
        "y_pred"
      ],
      "execution_count": null,
      "outputs": [
        {
          "output_type": "execute_result",
          "data": {
            "text/plain": [
              "array([[ 70.55218 ],\n",
              "       [ 75.13991 ],\n",
              "       [ 79.72763 ],\n",
              "       [ 84.31535 ],\n",
              "       [ 88.903076],\n",
              "       [ 93.49081 ],\n",
              "       [ 98.07853 ],\n",
              "       [102.66625 ],\n",
              "       [107.253975],\n",
              "       [111.8417  ]], dtype=float32)"
            ]
          },
          "metadata": {},
          "execution_count": 167
        }
      ]
    },
    {
      "cell_type": "code",
      "metadata": {
        "colab": {
          "base_uri": "https://localhost:8080/"
        },
        "id": "K66fb1yCudSV",
        "outputId": "bc3c65ef-a416-458f-ee1b-f2cf79261fd0"
      },
      "source": [
        "y_test"
      ],
      "execution_count": null,
      "outputs": [
        {
          "output_type": "execute_result",
          "data": {
            "text/plain": [
              "<tf.Tensor: shape=(10,), dtype=int32, numpy=array([ 70,  74,  78,  82,  86,  90,  94,  98, 102, 106], dtype=int32)>"
            ]
          },
          "metadata": {},
          "execution_count": 168
        }
      ]
    },
    {
      "cell_type": "code",
      "metadata": {
        "colab": {
          "base_uri": "https://localhost:8080/"
        },
        "id": "KNZtCxrsueHP",
        "outputId": "0bc08d1f-0a7e-4a2b-eacd-4b7e183bf13a"
      },
      "source": [
        "tf.constant(y_test)"
      ],
      "execution_count": null,
      "outputs": [
        {
          "output_type": "execute_result",
          "data": {
            "text/plain": [
              "<tf.Tensor: shape=(10,), dtype=int32, numpy=array([ 70,  74,  78,  82,  86,  90,  94,  98, 102, 106], dtype=int32)>"
            ]
          },
          "metadata": {},
          "execution_count": 176
        }
      ]
    },
    {
      "cell_type": "code",
      "metadata": {
        "colab": {
          "base_uri": "https://localhost:8080/"
        },
        "id": "8mow-7Wlyg2V",
        "outputId": "e8d47d87-a736-4b3e-f89f-94b1892c2eee"
      },
      "source": [
        "tf.constant(y_pred)"
      ],
      "execution_count": null,
      "outputs": [
        {
          "output_type": "execute_result",
          "data": {
            "text/plain": [
              "<tf.Tensor: shape=(10, 1), dtype=float32, numpy=\n",
              "array([[ 70.55218 ],\n",
              "       [ 75.13991 ],\n",
              "       [ 79.72763 ],\n",
              "       [ 84.31535 ],\n",
              "       [ 88.903076],\n",
              "       [ 93.49081 ],\n",
              "       [ 98.07853 ],\n",
              "       [102.66625 ],\n",
              "       [107.253975],\n",
              "       [111.8417  ]], dtype=float32)>"
            ]
          },
          "metadata": {},
          "execution_count": 177
        }
      ]
    },
    {
      "cell_type": "code",
      "metadata": {
        "colab": {
          "base_uri": "https://localhost:8080/"
        },
        "id": "EAny3L40yjk7",
        "outputId": "3ac64a7f-c051-499e-b220-de43a2091b65"
      },
      "source": [
        "tf.squeeze(y_pred)"
      ],
      "execution_count": null,
      "outputs": [
        {
          "output_type": "execute_result",
          "data": {
            "text/plain": [
              "<tf.Tensor: shape=(10,), dtype=float32, numpy=\n",
              "array([ 70.55218 ,  75.13991 ,  79.72763 ,  84.31535 ,  88.903076,\n",
              "        93.49081 ,  98.07853 , 102.66625 , 107.253975, 111.8417  ],\n",
              "      dtype=float32)>"
            ]
          },
          "metadata": {},
          "execution_count": 178
        }
      ]
    },
    {
      "cell_type": "code",
      "metadata": {
        "colab": {
          "base_uri": "https://localhost:8080/"
        },
        "id": "iIWb5w_8zBJX",
        "outputId": "95e8d5b8-25be-4fa8-d8a5-bb5fa02155f3"
      },
      "source": [
        "# Calculate the mean square error\n",
        "tf.keras.losses.MSE(y_true = y_test, y_pred=tf.squeeze(y_pred)) # We need to squeeze because y_pred have 1 extra dimension (shape=(10, 1))"
      ],
      "execution_count": null,
      "outputs": [
        {
          "output_type": "execute_result",
          "data": {
            "text/plain": [
              "<tf.Tensor: shape=(), dtype=float32, numpy=13.070143>"
            ]
          },
          "metadata": {},
          "execution_count": 179
        }
      ]
    },
    {
      "cell_type": "code",
      "metadata": {
        "id": "L6RSkNyVziXx"
      },
      "source": [
        "# Make some functions to reuse MAE and MSE\n",
        "def mae(y_true, y_pred):\n",
        "  return tf.metrics.mean_absolute_error(y_true=y_true,\n",
        "                                        y_pred=y_pred)\n",
        "\n",
        "def mse(y_true, y_pred):\n",
        "  return tf.metrics.mean_squared_error(y_true=y_true,\n",
        "                                        y_pred=y_pred)"
      ],
      "execution_count": null,
      "outputs": []
    },
    {
      "cell_type": "code",
      "metadata": {
        "id": "O37fAR9416er"
      },
      "source": [
        ""
      ],
      "execution_count": null,
      "outputs": []
    }
  ]
}