{
  "nbformat": 4,
  "nbformat_minor": 0,
  "metadata": {
    "colab": {
      "name": "11_tensorflow_exam_skills_checklist.ipynb",
      "provenance": [],
      "authorship_tag": "ABX9TyNTBJcA29u7R2l+nxr9YDQm",
      "include_colab_link": true
    },
    "kernelspec": {
      "name": "python3",
      "display_name": "Python 3"
    },
    "language_info": {
      "name": "python"
    },
    "accelerator": "GPU"
  },
  "cells": [
    {
      "cell_type": "markdown",
      "metadata": {
        "id": "view-in-github",
        "colab_type": "text"
      },
      "source": [
        "<a href=\"https://colab.research.google.com/github/Nikitaion/TensorFlowLearning/blob/main/11_tensorflow_exam_skills_checklist.ipynb\" target=\"_parent\"><img src=\"https://colab.research.google.com/assets/colab-badge.svg\" alt=\"Open In Colab\"/></a>"
      ]
    },
    {
      "cell_type": "markdown",
      "source": [
        "#Skills checklist\n"
      ],
      "metadata": {
        "id": "IARvIy_mRM1t"
      }
    },
    {
      "cell_type": "markdown",
      "source": [
        "##(1) TensorFlow developer skills"
      ],
      "metadata": {
        "id": "TSXhakpmrhPD"
      }
    },
    {
      "cell_type": "markdown",
      "source": [
        "*   Know how to program in Python, resolve Python issues, and compile and run Python programs in PyCharm. ✅\n",
        "*   Know how to find information about TensorFlow APIs, including how to find guides and API ✅\n",
        "*   Know how to find information about TensorFlow APIs, including how to find guides and API references on tensorflow.org. ✅\n",
        "*  Know how to debug, investigate, and solve error messages from the TensorFlow API. ✅\n",
        "*  Know how to search beyond tensorflow.org, as and when necessary, to solve your TensorFlow questions. ✅\n",
        "*  Know how to create ML models using TensorFlow where the model size is reasonable for the problem being solved. ✅\n",
        "*  Know how to save ML models and check the model file size.\n",
        "*  Understand the compatibility discrepancies between different versions of TensorFlow."
      ],
      "metadata": {
        "id": "hIHvvhJ1rkDP"
      }
    },
    {
      "cell_type": "markdown",
      "source": [
        "## (2) Building and training neural network models using TensorFlow 2.x\n"
      ],
      "metadata": {
        "id": "MgVV1xBdr-Iq"
      }
    },
    {
      "cell_type": "markdown",
      "source": [
        "* Use TensorFlow 2.x. ✅\n",
        "* Build, compile and train machine learning (ML) models using TensorFlow.\n",
        "* Preprocess data to get it ready for use in a model.\n",
        "* Use models to predict results.\n",
        "* Build and train models for binary classification.\n",
        "* Build and train models for multi-class categorization.\n",
        "* Plot loss and accuracy of a trained model.\n",
        "* Identify strategies to prevent overfitting, including augmentation and dropout.\n",
        "* Use pretrained models (transfer learning).\n",
        "* Extract features from pre-trained models.\n",
        "* Ensure that inputs to a model are in the correct shape.\n",
        "* Ensure that you can match test data to the input shape of a neural network\n",
        "* Ensure you can match output data of a neural network to specified input shape for test data\n",
        "* Understand batch loading of data.\n",
        "* Use callbacks to trigger the end of training cycles.\n",
        "* Use datasets from different sources.\n",
        "* Use datasets in different formats, including json and csv\n",
        "* Use datasets from tf.data.datasets."
      ],
      "metadata": {
        "id": "oYE4lAbpsJS6"
      }
    },
    {
      "cell_type": "code",
      "source": [
        "import tensorflow as tf\n",
        "print(f\"Tensorflow version: {tf.__version__}\")"
      ],
      "metadata": {
        "colab": {
          "base_uri": "https://localhost:8080/"
        },
        "id": "qa4jOAe86Dzb",
        "outputId": "0a95eb8e-a79a-4f52-c265-458bc5ced611"
      },
      "execution_count": 1,
      "outputs": [
        {
          "output_type": "stream",
          "name": "stdout",
          "text": [
            "Tensorflow version: 2.8.0\n"
          ]
        }
      ]
    },
    {
      "cell_type": "code",
      "source": [
        "# load model\n"
      ],
      "metadata": {
        "id": "Z9vslUeH7S-0"
      },
      "execution_count": 2,
      "outputs": []
    },
    {
      "cell_type": "code",
      "source": [
        "# Preprocess data to get it ready for use in a model.\n"
      ],
      "metadata": {
        "id": "K5hzypB2ANez"
      },
      "execution_count": null,
      "outputs": []
    },
    {
      "cell_type": "code",
      "source": [
        "# Know how to save ML models and check the model file size."
      ],
      "metadata": {
        "id": "y-T36e087TBh"
      },
      "execution_count": null,
      "outputs": []
    },
    {
      "cell_type": "markdown",
      "source": [
        "# (3) Image classification\n"
      ],
      "metadata": {
        "id": "mFean8ynyVfc"
      }
    },
    {
      "cell_type": "markdown",
      "source": [
        "*   Define Convolutional neural networks with Conv2D and pooling layers.\n",
        "*   Build and train models to process real-world image datasets.\n",
        "*   Understand how to use convolutions to improve your neural network\n",
        "*   Use real-world images in different shapes and sizes\n",
        "*   Use image augmentation to prevent overfitting.\n",
        "*   Use ImageDataGenerator.\n",
        "*   Understand how ImageDataGenerator labels images based on the directory structure.\n"
      ],
      "metadata": {
        "id": "-zTjaS8DyVh-"
      }
    },
    {
      "cell_type": "code",
      "source": [
        ""
      ],
      "metadata": {
        "id": "XnLdoGnM6Djn"
      },
      "execution_count": null,
      "outputs": []
    },
    {
      "cell_type": "markdown",
      "source": [
        "# (4) Natural language processing (NLP)\n"
      ],
      "metadata": {
        "id": "sCHlgAKl5HId"
      }
    },
    {
      "cell_type": "markdown",
      "source": [
        "*   Build natural language processing systems using TensorFlow.\n",
        "*   Prepare text to use in TensorFlow models.\n",
        "*   Build models that identify the category of a piece of text using binary categorization\n",
        "*   Build models that identify the category of a piece of text using multi-class categorization\n",
        "*   Use word embeddings in your TensorFlow model.\n",
        "*   Use LSTMs in your model to classify text for either binary or multi-class categorization.\n",
        "*   Add RNN and GRU layers to your mode\n",
        "*   Use RNNS, LSTMs, GRUs and CNNs in models that work with text.\n",
        "*   Train LSTMs on existing text to generate text (such as songs and poetry) \n"
      ],
      "metadata": {
        "id": "drWhyEwh5Hd6"
      }
    },
    {
      "cell_type": "code",
      "source": [
        ""
      ],
      "metadata": {
        "id": "6CbyFvH76DLR"
      },
      "execution_count": null,
      "outputs": []
    },
    {
      "cell_type": "markdown",
      "source": [
        "# (5) Time series, sequences and predictions\n"
      ],
      "metadata": {
        "id": "f3b-vIry5WrR"
      }
    },
    {
      "cell_type": "markdown",
      "source": [
        "*   Train, tune and use time series, sequence and prediction models\n",
        "*   Train models to predict values for both univariate and multivariate time series.\n",
        "*   Prepare data for time series learning.\n",
        "*   Understand Mean Absolute Error (MAE) and how it can be used to evaluate accuracy of sequence models.\n",
        "*   Use RNNs and CNNs for time series, sequence and forecasting models\n",
        "*   Identify when to use trailing versus centred windows\n",
        "*   Use TensorFlow for forecasting\n",
        "*   Prepare features and labels\n",
        "*   Identify and compensate for sequence bias\n",
        "*   Adjust the learning rate dynamically in time series, sequence and prediction models"
      ],
      "metadata": {
        "id": "QnIcBos95Wtr"
      }
    },
    {
      "cell_type": "code",
      "source": [
        ""
      ],
      "metadata": {
        "id": "G_7TZMWY6C0B"
      },
      "execution_count": null,
      "outputs": []
    },
    {
      "cell_type": "markdown",
      "source": [
        "## Troubleshooting tidbits\n",
        "\n",
        "\n",
        "* **Input and output shapes** — print these out if you're stuck.\n",
        "* **Input and output datatypes** — TensorFlow usually prefers float32.\n",
        "* **Output activation functions** — for classification: `sigmoid` vs `softmax`, which one should you use?\n",
        "* **Loss functions** — for classification `sparse_categorical_crossentropy` vs `categorical_crossentropy`, which one should you use?\n",
        "* **Ways to improve a model** — if your model isn't performing as well as it should, what can you do?\n"
      ],
      "metadata": {
        "id": "lHXhPyC0sJpb"
      }
    },
    {
      "cell_type": "code",
      "source": [
        ""
      ],
      "metadata": {
        "id": "tP9qzObisha8"
      },
      "execution_count": 1,
      "outputs": []
    }
  ]
}