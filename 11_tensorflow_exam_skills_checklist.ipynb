{
  "nbformat": 4,
  "nbformat_minor": 0,
  "metadata": {
    "colab": {
      "name": "11_tensorflow_exam_skills_checklist.ipynb",
      "provenance": [],
      "authorship_tag": "ABX9TyM3qsGbfTpjFjfpqPZmkYcb",
      "include_colab_link": true
    },
    "kernelspec": {
      "name": "python3",
      "display_name": "Python 3"
    },
    "language_info": {
      "name": "python"
    }
  },
  "cells": [
    {
      "cell_type": "markdown",
      "metadata": {
        "id": "view-in-github",
        "colab_type": "text"
      },
      "source": [
        "<a href=\"https://colab.research.google.com/github/Nikitaion/TensorFlowLearning/blob/main/11_tensorflow_exam_skills_checklist.ipynb\" target=\"_parent\"><img src=\"https://colab.research.google.com/assets/colab-badge.svg\" alt=\"Open In Colab\"/></a>"
      ]
    },
    {
      "cell_type": "markdown",
      "source": [
        "#Skills checklist\n"
      ],
      "metadata": {
        "id": "IARvIy_mRM1t"
      }
    },
    {
      "cell_type": "markdown",
      "source": [
        "##(1) TensorFlow developer skills"
      ],
      "metadata": {
        "id": "TSXhakpmrhPD"
      }
    },
    {
      "cell_type": "markdown",
      "source": [
        " \n",
        "\n",
        "*   Know how to program in Python, resolve Python issues, and compile and run Python programs in PyCharm.\n",
        "*   Know how to find information about TensorFlow APIs, including how to find guides and API\n",
        "*   Know how to find information about TensorFlow APIs, including how to find guides and API references on tensorflow.org.\n",
        "*  Know how to debug, investigate, and solve error messages from the TensorFlow API.\n",
        "*  Know how to search beyond tensorflow.org, as and when necessary, to solve your TensorFlow questions.\n",
        "*  Know how to create ML models using TensorFlow where the model size is reasonable for the problem being solved.\n",
        "*  Know how to save ML models and check the model file size.\n",
        "*  Understand the compatibility discrepancies between different versions of TensorFlow."
      ],
      "metadata": {
        "id": "hIHvvhJ1rkDP"
      }
    },
    {
      "cell_type": "markdown",
      "source": [
        "## (2) Building and training neural network models using TensorFlow 2.x\n"
      ],
      "metadata": {
        "id": "MgVV1xBdr-Iq"
      }
    },
    {
      "cell_type": "code",
      "source": [
        ""
      ],
      "metadata": {
        "id": "LNwnRMNGsBYC"
      },
      "execution_count": null,
      "outputs": []
    }
  ]
}