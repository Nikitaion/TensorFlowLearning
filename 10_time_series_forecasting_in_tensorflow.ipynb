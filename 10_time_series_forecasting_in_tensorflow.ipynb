{
  "nbformat": 4,
  "nbformat_minor": 0,
  "metadata": {
    "colab": {
      "name": "10_time_series_forecasting_in_tensorflow.ipynb",
      "provenance": [],
      "collapsed_sections": [],
      "authorship_tag": "ABX9TyOVOa6lzkopNLg2Px1pHJBC",
      "include_colab_link": true
    },
    "kernelspec": {
      "name": "python3",
      "display_name": "Python 3"
    },
    "language_info": {
      "name": "python"
    }
  },
  "cells": [
    {
      "cell_type": "markdown",
      "metadata": {
        "id": "view-in-github",
        "colab_type": "text"
      },
      "source": [
        "<a href=\"https://colab.research.google.com/github/Nikitaion/TensorFlowLearning/blob/main/10_time_series_forecasting_in_tensorflow.ipynb\" target=\"_parent\"><img src=\"https://colab.research.google.com/assets/colab-badge.svg\" alt=\"Open In Colab\"/></a>"
      ]
    },
    {
      "cell_type": "markdown",
      "source": [
        "# 10. Milestone Project 3: Time series forecasting in TensorFlow (BitPredict 💰📈)\n",
        "\n",
        "The goal of this notebook is to get you familiar with working with time series data.\n",
        "\n",
        "We're going to be building a series of models in an attempt to predict the price of Bitcoin. \n",
        "\n",
        "## What is a time series problem?\n",
        "\n",
        "Time series problems deal with data over time.\n",
        "\n",
        "Such as, the number of staff members in a company over 10-years, sales of computers for the past 5-years, electricity usage for the past 50-years.\n",
        "\n",
        "The timeline can be short (seconds/minutes) or long (years/decades). And the problems you might investigate using can usually be broken down into two categories.\n",
        "\n",
        "![example time series problems](https://raw.githubusercontent.com/mrdbourke/tensorflow-deep-learning/main/images/10-example-time-series-problems.png)\n",
        "\n",
        "| Problem Type | Examples | Output |\n",
        "| ----- | ----- | ----- |\n",
        "| **Classification** | Anomaly detection, time series identification (where did this time series come from?) | Discrete (a label) |\n",
        "| **Forecasting** | Predicting stock market prices, forecasting future demand for a product, stocking inventory requirements | Continuous (a number) |\n",
        "\n",
        "In both cases above, a supervised learning approach is often used. Meaning, you'd have some example data and a label assosciated with that data.\n",
        "\n",
        "For example, in forecasting the price of Bitcoin, your data could be the historical price of Bitcoin for the past month and the label could be today's price (the label can't be tomorrow's price because that's what we'd want to predict).\n",
        "\n",
        "Can you guess what kind of problem BitPredict 💰📈 is?\n",
        "\n",
        "## What we're going to cover\n",
        "\n",
        "* Get time series data (the historical price of Bitcoin)\n",
        "  * Load in time series data using pandas/Python's CSV module\n",
        "* Format data for a time series problem\n",
        "  * Creating training and test sets (the wrong way)\n",
        "  * Creating training and test sets (the right way)\n",
        "  * Visualizing time series data\n",
        "  * Turning time series data into a supervised learning problem (windowing)\n",
        "  * Preparing univariate and multivariate (more than one variable) data\n",
        "* Evaluating a time series forecasting model\n",
        "* Setting up a series of deep learning modelling experiments\n",
        "  * Dense (fully-connected) networks\n",
        "  * Sequence models (LSTM and 1D CNN)\n",
        "  * Ensembling (combining multiple models together)\n",
        "  * Multivariate models\n",
        "  * Replicating the N-BEATS algorithm using TensorFlow layer subclassing\n",
        "* Creating a modelling checkpoint to save the best performing model during training\n",
        "* Making predictions (forecasts) with a time series model\n",
        "* Creating prediction intervals for time series model forecasts\n",
        "* Discussing two different types of uncertainty in machine learning (data uncertainty and model uncertainty)\n",
        "* Demonstrating why forecasting in an open system is BS (the turkey problem) "
      ],
      "metadata": {
        "id": "n3DbGJo_gIcp"
      }
    },
    {
      "cell_type": "code",
      "source": [
        "# Check for GPU\n",
        "!nvidia-smi -L"
      ],
      "metadata": {
        "colab": {
          "base_uri": "https://localhost:8080/"
        },
        "id": "74tUzhS9gNu6",
        "outputId": "b658d3fe-4697-42a3-d8f9-6606a0b16a62"
      },
      "execution_count": 127,
      "outputs": [
        {
          "output_type": "stream",
          "name": "stdout",
          "text": [
            "NVIDIA-SMI has failed because it couldn't communicate with the NVIDIA driver. Make sure that the latest NVIDIA driver is installed and running.\n",
            "\n"
          ]
        }
      ]
    },
    {
      "cell_type": "markdown",
      "source": [
        "## Get data\n",
        "\n",
        "To build a time series forecasting model, the first thing we're going to need is data.\n",
        "\n",
        "And since we're trying to predict the price of Bitcoin, we'll need Bitcoin data.\n",
        "\n",
        "Specifically, we're going to get the prices of Bitcoin from 01 October 2013 to 18 May 2021.\n",
        "\n",
        "Why these dates?\n",
        "\n",
        "Because 01 October 2013 is when our data source ([Coindesk](https://www.coindesk.com/price/bitcoin)) started recording the price of Bitcoin and 18 May 2021 is when this notebook was created.\n",
        "\n",
        "If you're going through this notebook at a later date, you'll be able to use what you learn to predict on later dates of Bitcoin, you'll just have to adjust the data source.\n",
        "\n",
        "> 📖 **Resource:** To get the Bitcoin historical data, I went to the [Coindesk page for Bitcoin prices](https://www.coindesk.com/price/bitcoin), clicked on \"all\" and then clicked on \"Export data\" and selected \"CSV\". \n",
        "\n",
        "You can find the data we're going to use on [GitHub](https://github.com/mrdbourke/tensorflow-deep-learning/blob/main/extras/BTC_USD_2013-10-01_2021-05-18-CoinDesk.csv).\n",
        "\n"
      ],
      "metadata": {
        "id": "843J_W2KMPkJ"
      }
    },
    {
      "cell_type": "code",
      "source": [
        "# Download Bitcoin historical data from GitHub \n",
        "# Note: you'll need to select \"Raw\" to download the data in the correct format\n",
        "!wget https://raw.githubusercontent.com/mrdbourke/tensorflow-deep-learning/main/extras/BTC_USD_2013-10-01_2021-05-18-CoinDesk.csv "
      ],
      "metadata": {
        "colab": {
          "base_uri": "https://localhost:8080/"
        },
        "id": "QWq4k1AkMSym",
        "outputId": "9270eea5-4d8f-4c09-c68b-5fdc42c0638a"
      },
      "execution_count": 128,
      "outputs": [
        {
          "output_type": "stream",
          "name": "stdout",
          "text": [
            "--2022-02-23 13:33:19--  https://raw.githubusercontent.com/mrdbourke/tensorflow-deep-learning/main/extras/BTC_USD_2013-10-01_2021-05-18-CoinDesk.csv\n",
            "Resolving raw.githubusercontent.com (raw.githubusercontent.com)... 185.199.108.133, 185.199.109.133, 185.199.110.133, ...\n",
            "Connecting to raw.githubusercontent.com (raw.githubusercontent.com)|185.199.108.133|:443... connected.\n",
            "HTTP request sent, awaiting response... 200 OK\n",
            "Length: 178509 (174K) [text/plain]\n",
            "Saving to: ‘BTC_USD_2013-10-01_2021-05-18-CoinDesk.csv.1’\n",
            "\n",
            "BTC_USD_2013-10-01_ 100%[===================>] 174.33K  --.-KB/s    in 0.03s   \n",
            "\n",
            "2022-02-23 13:33:20 (5.96 MB/s) - ‘BTC_USD_2013-10-01_2021-05-18-CoinDesk.csv.1’ saved [178509/178509]\n",
            "\n"
          ]
        }
      ]
    },
    {
      "cell_type": "markdown",
      "source": [
        "### Importing time series data with pandas\n",
        "Now we've got some data to work with, let's import it using pandas so we can visualize it.\n",
        "\n",
        "Because our data is in **CSV (comma separated values)** format (a very common data format for time series), we'll use the pandas [`read_csv()`](https://pandas.pydata.org/pandas-docs/stable/reference/api/pandas.read_csv.html) function.\n",
        "\n",
        "And because our data has a date component, we'll tell pandas to parse the dates using the `parse_dates` parameter passing it the name our of the date column (\"Date\")."
      ],
      "metadata": {
        "id": "saCBvGQpMeWw"
      }
    },
    {
      "cell_type": "code",
      "source": [
        "import pandas as pd\n",
        "\n",
        "# Parse dates and set date column to index\n",
        "df = pd.read_csv(\"/content/BTC_USD_2013-10-01_2021-05-18-CoinDesk.csv\",\n",
        "                 parse_dates=[\"Date\"],\n",
        "                 index_col=\"Date\") # parse the date column (tell pandas column 1 is a datetime)\n",
        "df.head()"
      ],
      "metadata": {
        "colab": {
          "base_uri": "https://localhost:8080/",
          "height": 238
        },
        "id": "VyWZWou7wK5x",
        "outputId": "673ce1c3-a455-4bff-c3e7-8fdbf8a073a4"
      },
      "execution_count": 129,
      "outputs": [
        {
          "output_type": "execute_result",
          "data": {
            "text/html": [
              "\n",
              "  <div id=\"df-e06864b0-65b0-4ff4-9eb5-708a74078378\">\n",
              "    <div class=\"colab-df-container\">\n",
              "      <div>\n",
              "<style scoped>\n",
              "    .dataframe tbody tr th:only-of-type {\n",
              "        vertical-align: middle;\n",
              "    }\n",
              "\n",
              "    .dataframe tbody tr th {\n",
              "        vertical-align: top;\n",
              "    }\n",
              "\n",
              "    .dataframe thead th {\n",
              "        text-align: right;\n",
              "    }\n",
              "</style>\n",
              "<table border=\"1\" class=\"dataframe\">\n",
              "  <thead>\n",
              "    <tr style=\"text-align: right;\">\n",
              "      <th></th>\n",
              "      <th>Currency</th>\n",
              "      <th>Closing Price (USD)</th>\n",
              "      <th>24h Open (USD)</th>\n",
              "      <th>24h High (USD)</th>\n",
              "      <th>24h Low (USD)</th>\n",
              "    </tr>\n",
              "    <tr>\n",
              "      <th>Date</th>\n",
              "      <th></th>\n",
              "      <th></th>\n",
              "      <th></th>\n",
              "      <th></th>\n",
              "      <th></th>\n",
              "    </tr>\n",
              "  </thead>\n",
              "  <tbody>\n",
              "    <tr>\n",
              "      <th>2013-10-01</th>\n",
              "      <td>BTC</td>\n",
              "      <td>123.65499</td>\n",
              "      <td>124.30466</td>\n",
              "      <td>124.75166</td>\n",
              "      <td>122.56349</td>\n",
              "    </tr>\n",
              "    <tr>\n",
              "      <th>2013-10-02</th>\n",
              "      <td>BTC</td>\n",
              "      <td>125.45500</td>\n",
              "      <td>123.65499</td>\n",
              "      <td>125.75850</td>\n",
              "      <td>123.63383</td>\n",
              "    </tr>\n",
              "    <tr>\n",
              "      <th>2013-10-03</th>\n",
              "      <td>BTC</td>\n",
              "      <td>108.58483</td>\n",
              "      <td>125.45500</td>\n",
              "      <td>125.66566</td>\n",
              "      <td>83.32833</td>\n",
              "    </tr>\n",
              "    <tr>\n",
              "      <th>2013-10-04</th>\n",
              "      <td>BTC</td>\n",
              "      <td>118.67466</td>\n",
              "      <td>108.58483</td>\n",
              "      <td>118.67500</td>\n",
              "      <td>107.05816</td>\n",
              "    </tr>\n",
              "    <tr>\n",
              "      <th>2013-10-05</th>\n",
              "      <td>BTC</td>\n",
              "      <td>121.33866</td>\n",
              "      <td>118.67466</td>\n",
              "      <td>121.93633</td>\n",
              "      <td>118.00566</td>\n",
              "    </tr>\n",
              "  </tbody>\n",
              "</table>\n",
              "</div>\n",
              "      <button class=\"colab-df-convert\" onclick=\"convertToInteractive('df-e06864b0-65b0-4ff4-9eb5-708a74078378')\"\n",
              "              title=\"Convert this dataframe to an interactive table.\"\n",
              "              style=\"display:none;\">\n",
              "        \n",
              "  <svg xmlns=\"http://www.w3.org/2000/svg\" height=\"24px\"viewBox=\"0 0 24 24\"\n",
              "       width=\"24px\">\n",
              "    <path d=\"M0 0h24v24H0V0z\" fill=\"none\"/>\n",
              "    <path d=\"M18.56 5.44l.94 2.06.94-2.06 2.06-.94-2.06-.94-.94-2.06-.94 2.06-2.06.94zm-11 1L8.5 8.5l.94-2.06 2.06-.94-2.06-.94L8.5 2.5l-.94 2.06-2.06.94zm10 10l.94 2.06.94-2.06 2.06-.94-2.06-.94-.94-2.06-.94 2.06-2.06.94z\"/><path d=\"M17.41 7.96l-1.37-1.37c-.4-.4-.92-.59-1.43-.59-.52 0-1.04.2-1.43.59L10.3 9.45l-7.72 7.72c-.78.78-.78 2.05 0 2.83L4 21.41c.39.39.9.59 1.41.59.51 0 1.02-.2 1.41-.59l7.78-7.78 2.81-2.81c.8-.78.8-2.07 0-2.86zM5.41 20L4 18.59l7.72-7.72 1.47 1.35L5.41 20z\"/>\n",
              "  </svg>\n",
              "      </button>\n",
              "      \n",
              "  <style>\n",
              "    .colab-df-container {\n",
              "      display:flex;\n",
              "      flex-wrap:wrap;\n",
              "      gap: 12px;\n",
              "    }\n",
              "\n",
              "    .colab-df-convert {\n",
              "      background-color: #E8F0FE;\n",
              "      border: none;\n",
              "      border-radius: 50%;\n",
              "      cursor: pointer;\n",
              "      display: none;\n",
              "      fill: #1967D2;\n",
              "      height: 32px;\n",
              "      padding: 0 0 0 0;\n",
              "      width: 32px;\n",
              "    }\n",
              "\n",
              "    .colab-df-convert:hover {\n",
              "      background-color: #E2EBFA;\n",
              "      box-shadow: 0px 1px 2px rgba(60, 64, 67, 0.3), 0px 1px 3px 1px rgba(60, 64, 67, 0.15);\n",
              "      fill: #174EA6;\n",
              "    }\n",
              "\n",
              "    [theme=dark] .colab-df-convert {\n",
              "      background-color: #3B4455;\n",
              "      fill: #D2E3FC;\n",
              "    }\n",
              "\n",
              "    [theme=dark] .colab-df-convert:hover {\n",
              "      background-color: #434B5C;\n",
              "      box-shadow: 0px 1px 3px 1px rgba(0, 0, 0, 0.15);\n",
              "      filter: drop-shadow(0px 1px 2px rgba(0, 0, 0, 0.3));\n",
              "      fill: #FFFFFF;\n",
              "    }\n",
              "  </style>\n",
              "\n",
              "      <script>\n",
              "        const buttonEl =\n",
              "          document.querySelector('#df-e06864b0-65b0-4ff4-9eb5-708a74078378 button.colab-df-convert');\n",
              "        buttonEl.style.display =\n",
              "          google.colab.kernel.accessAllowed ? 'block' : 'none';\n",
              "\n",
              "        async function convertToInteractive(key) {\n",
              "          const element = document.querySelector('#df-e06864b0-65b0-4ff4-9eb5-708a74078378');\n",
              "          const dataTable =\n",
              "            await google.colab.kernel.invokeFunction('convertToInteractive',\n",
              "                                                     [key], {});\n",
              "          if (!dataTable) return;\n",
              "\n",
              "          const docLinkHtml = 'Like what you see? Visit the ' +\n",
              "            '<a target=\"_blank\" href=https://colab.research.google.com/notebooks/data_table.ipynb>data table notebook</a>'\n",
              "            + ' to learn more about interactive tables.';\n",
              "          element.innerHTML = '';\n",
              "          dataTable['output_type'] = 'display_data';\n",
              "          await google.colab.output.renderOutput(dataTable, element);\n",
              "          const docLink = document.createElement('div');\n",
              "          docLink.innerHTML = docLinkHtml;\n",
              "          element.appendChild(docLink);\n",
              "        }\n",
              "      </script>\n",
              "    </div>\n",
              "  </div>\n",
              "  "
            ],
            "text/plain": [
              "           Currency  Closing Price (USD)  ...  24h High (USD)  24h Low (USD)\n",
              "Date                                      ...                               \n",
              "2013-10-01      BTC            123.65499  ...       124.75166      122.56349\n",
              "2013-10-02      BTC            125.45500  ...       125.75850      123.63383\n",
              "2013-10-03      BTC            108.58483  ...       125.66566       83.32833\n",
              "2013-10-04      BTC            118.67466  ...       118.67500      107.05816\n",
              "2013-10-05      BTC            121.33866  ...       121.93633      118.00566\n",
              "\n",
              "[5 rows x 5 columns]"
            ]
          },
          "metadata": {},
          "execution_count": 129
        }
      ]
    },
    {
      "cell_type": "code",
      "source": [
        "df.tail()"
      ],
      "metadata": {
        "colab": {
          "base_uri": "https://localhost:8080/",
          "height": 238
        },
        "id": "rhebPNelxeq-",
        "outputId": "66abd69d-4b1c-4d15-cc24-a30e3c99c2be"
      },
      "execution_count": 130,
      "outputs": [
        {
          "output_type": "execute_result",
          "data": {
            "text/html": [
              "\n",
              "  <div id=\"df-387c6748-b8a5-466b-a19f-955c970646ec\">\n",
              "    <div class=\"colab-df-container\">\n",
              "      <div>\n",
              "<style scoped>\n",
              "    .dataframe tbody tr th:only-of-type {\n",
              "        vertical-align: middle;\n",
              "    }\n",
              "\n",
              "    .dataframe tbody tr th {\n",
              "        vertical-align: top;\n",
              "    }\n",
              "\n",
              "    .dataframe thead th {\n",
              "        text-align: right;\n",
              "    }\n",
              "</style>\n",
              "<table border=\"1\" class=\"dataframe\">\n",
              "  <thead>\n",
              "    <tr style=\"text-align: right;\">\n",
              "      <th></th>\n",
              "      <th>Currency</th>\n",
              "      <th>Closing Price (USD)</th>\n",
              "      <th>24h Open (USD)</th>\n",
              "      <th>24h High (USD)</th>\n",
              "      <th>24h Low (USD)</th>\n",
              "    </tr>\n",
              "    <tr>\n",
              "      <th>Date</th>\n",
              "      <th></th>\n",
              "      <th></th>\n",
              "      <th></th>\n",
              "      <th></th>\n",
              "      <th></th>\n",
              "    </tr>\n",
              "  </thead>\n",
              "  <tbody>\n",
              "    <tr>\n",
              "      <th>2021-05-14</th>\n",
              "      <td>BTC</td>\n",
              "      <td>49764.132082</td>\n",
              "      <td>49596.778891</td>\n",
              "      <td>51448.798576</td>\n",
              "      <td>46294.720180</td>\n",
              "    </tr>\n",
              "    <tr>\n",
              "      <th>2021-05-15</th>\n",
              "      <td>BTC</td>\n",
              "      <td>50032.693137</td>\n",
              "      <td>49717.354353</td>\n",
              "      <td>51578.312545</td>\n",
              "      <td>48944.346536</td>\n",
              "    </tr>\n",
              "    <tr>\n",
              "      <th>2021-05-16</th>\n",
              "      <td>BTC</td>\n",
              "      <td>47885.625255</td>\n",
              "      <td>49926.035067</td>\n",
              "      <td>50690.802950</td>\n",
              "      <td>47005.102292</td>\n",
              "    </tr>\n",
              "    <tr>\n",
              "      <th>2021-05-17</th>\n",
              "      <td>BTC</td>\n",
              "      <td>45604.615754</td>\n",
              "      <td>46805.537852</td>\n",
              "      <td>49670.414174</td>\n",
              "      <td>43868.638969</td>\n",
              "    </tr>\n",
              "    <tr>\n",
              "      <th>2021-05-18</th>\n",
              "      <td>BTC</td>\n",
              "      <td>43144.471291</td>\n",
              "      <td>46439.336570</td>\n",
              "      <td>46622.853437</td>\n",
              "      <td>42102.346430</td>\n",
              "    </tr>\n",
              "  </tbody>\n",
              "</table>\n",
              "</div>\n",
              "      <button class=\"colab-df-convert\" onclick=\"convertToInteractive('df-387c6748-b8a5-466b-a19f-955c970646ec')\"\n",
              "              title=\"Convert this dataframe to an interactive table.\"\n",
              "              style=\"display:none;\">\n",
              "        \n",
              "  <svg xmlns=\"http://www.w3.org/2000/svg\" height=\"24px\"viewBox=\"0 0 24 24\"\n",
              "       width=\"24px\">\n",
              "    <path d=\"M0 0h24v24H0V0z\" fill=\"none\"/>\n",
              "    <path d=\"M18.56 5.44l.94 2.06.94-2.06 2.06-.94-2.06-.94-.94-2.06-.94 2.06-2.06.94zm-11 1L8.5 8.5l.94-2.06 2.06-.94-2.06-.94L8.5 2.5l-.94 2.06-2.06.94zm10 10l.94 2.06.94-2.06 2.06-.94-2.06-.94-.94-2.06-.94 2.06-2.06.94z\"/><path d=\"M17.41 7.96l-1.37-1.37c-.4-.4-.92-.59-1.43-.59-.52 0-1.04.2-1.43.59L10.3 9.45l-7.72 7.72c-.78.78-.78 2.05 0 2.83L4 21.41c.39.39.9.59 1.41.59.51 0 1.02-.2 1.41-.59l7.78-7.78 2.81-2.81c.8-.78.8-2.07 0-2.86zM5.41 20L4 18.59l7.72-7.72 1.47 1.35L5.41 20z\"/>\n",
              "  </svg>\n",
              "      </button>\n",
              "      \n",
              "  <style>\n",
              "    .colab-df-container {\n",
              "      display:flex;\n",
              "      flex-wrap:wrap;\n",
              "      gap: 12px;\n",
              "    }\n",
              "\n",
              "    .colab-df-convert {\n",
              "      background-color: #E8F0FE;\n",
              "      border: none;\n",
              "      border-radius: 50%;\n",
              "      cursor: pointer;\n",
              "      display: none;\n",
              "      fill: #1967D2;\n",
              "      height: 32px;\n",
              "      padding: 0 0 0 0;\n",
              "      width: 32px;\n",
              "    }\n",
              "\n",
              "    .colab-df-convert:hover {\n",
              "      background-color: #E2EBFA;\n",
              "      box-shadow: 0px 1px 2px rgba(60, 64, 67, 0.3), 0px 1px 3px 1px rgba(60, 64, 67, 0.15);\n",
              "      fill: #174EA6;\n",
              "    }\n",
              "\n",
              "    [theme=dark] .colab-df-convert {\n",
              "      background-color: #3B4455;\n",
              "      fill: #D2E3FC;\n",
              "    }\n",
              "\n",
              "    [theme=dark] .colab-df-convert:hover {\n",
              "      background-color: #434B5C;\n",
              "      box-shadow: 0px 1px 3px 1px rgba(0, 0, 0, 0.15);\n",
              "      filter: drop-shadow(0px 1px 2px rgba(0, 0, 0, 0.3));\n",
              "      fill: #FFFFFF;\n",
              "    }\n",
              "  </style>\n",
              "\n",
              "      <script>\n",
              "        const buttonEl =\n",
              "          document.querySelector('#df-387c6748-b8a5-466b-a19f-955c970646ec button.colab-df-convert');\n",
              "        buttonEl.style.display =\n",
              "          google.colab.kernel.accessAllowed ? 'block' : 'none';\n",
              "\n",
              "        async function convertToInteractive(key) {\n",
              "          const element = document.querySelector('#df-387c6748-b8a5-466b-a19f-955c970646ec');\n",
              "          const dataTable =\n",
              "            await google.colab.kernel.invokeFunction('convertToInteractive',\n",
              "                                                     [key], {});\n",
              "          if (!dataTable) return;\n",
              "\n",
              "          const docLinkHtml = 'Like what you see? Visit the ' +\n",
              "            '<a target=\"_blank\" href=https://colab.research.google.com/notebooks/data_table.ipynb>data table notebook</a>'\n",
              "            + ' to learn more about interactive tables.';\n",
              "          element.innerHTML = '';\n",
              "          dataTable['output_type'] = 'display_data';\n",
              "          await google.colab.output.renderOutput(dataTable, element);\n",
              "          const docLink = document.createElement('div');\n",
              "          docLink.innerHTML = docLinkHtml;\n",
              "          element.appendChild(docLink);\n",
              "        }\n",
              "      </script>\n",
              "    </div>\n",
              "  </div>\n",
              "  "
            ],
            "text/plain": [
              "           Currency  Closing Price (USD)  ...  24h High (USD)  24h Low (USD)\n",
              "Date                                      ...                               \n",
              "2021-05-14      BTC         49764.132082  ...    51448.798576   46294.720180\n",
              "2021-05-15      BTC         50032.693137  ...    51578.312545   48944.346536\n",
              "2021-05-16      BTC         47885.625255  ...    50690.802950   47005.102292\n",
              "2021-05-17      BTC         45604.615754  ...    49670.414174   43868.638969\n",
              "2021-05-18      BTC         43144.471291  ...    46622.853437   42102.346430\n",
              "\n",
              "[5 rows x 5 columns]"
            ]
          },
          "metadata": {},
          "execution_count": 130
        }
      ]
    },
    {
      "cell_type": "code",
      "source": [
        "df.info()"
      ],
      "metadata": {
        "colab": {
          "base_uri": "https://localhost:8080/"
        },
        "id": "heX3H9vxw21L",
        "outputId": "80229cb1-e303-48e9-9d6c-cf37d6f2abcb"
      },
      "execution_count": 131,
      "outputs": [
        {
          "output_type": "stream",
          "name": "stdout",
          "text": [
            "<class 'pandas.core.frame.DataFrame'>\n",
            "DatetimeIndex: 2787 entries, 2013-10-01 to 2021-05-18\n",
            "Data columns (total 5 columns):\n",
            " #   Column               Non-Null Count  Dtype  \n",
            "---  ------               --------------  -----  \n",
            " 0   Currency             2787 non-null   object \n",
            " 1   Closing Price (USD)  2787 non-null   float64\n",
            " 2   24h Open (USD)       2787 non-null   float64\n",
            " 3   24h High (USD)       2787 non-null   float64\n",
            " 4   24h Low (USD)        2787 non-null   float64\n",
            "dtypes: float64(4), object(1)\n",
            "memory usage: 130.6+ KB\n"
          ]
        }
      ]
    },
    {
      "cell_type": "code",
      "source": [
        "# How many samples do we have?\n",
        "len(df)"
      ],
      "metadata": {
        "colab": {
          "base_uri": "https://localhost:8080/"
        },
        "id": "V6g5YrxkxPHY",
        "outputId": "54c9bd7e-ccf7-4047-eeda-a1c657e5aa49"
      },
      "execution_count": 132,
      "outputs": [
        {
          "output_type": "execute_result",
          "data": {
            "text/plain": [
              "2787"
            ]
          },
          "metadata": {},
          "execution_count": 132
        }
      ]
    },
    {
      "cell_type": "markdown",
      "source": [
        "We've collected the historical price of Bitcoin for the past ~8 years but there's only 2787 total samples.\n",
        "\n",
        "This is something you'll run into with time series data problems. Often, the number of samples isn't as large as other kinds of data.\n",
        "\n",
        "For example, collecting one sample at different time frames results in:\n",
        "\n",
        "| 1 sample per timeframe | Number of samples per year |\n",
        "| ----- | ----- |\n",
        "| Second | 31,536,000 |\n",
        "| Hour | 8,760 |\n",
        "| Day | 365 |\n",
        "| Week | 52 |\n",
        "| Month | 12 |\n",
        "\n",
        "> 🔑 **Note:** The frequency at which a time series value is collected is often referred to as **seasonality**. This is usually mesaured in number of samples per year. For example, collecting the price of Bitcoin once per day would result in a time series with a seasonality of 365. Time series data collected with different seasonality values often exhibit seasonal patterns (e.g. electricity demand behing higher in Summer months for air conditioning than Winter months). For more on different time series patterns, see [Forecasting: Principles and Practice Chapter 2.3](https://otexts.com/fpp3/tspatterns.html).\n",
        "\n",
        "![different types of time series patterns](https://raw.githubusercontent.com/mrdbourke/tensorflow-deep-learning/main/images/10-types-of-time-series-patterns.png)\n",
        "*Example of different kinds of patterns you'll see in time series data. Notice the bottom right time series (Google stock price changes) has little to no patterns, making it difficult to predict. See [Forecasting: Principles and Practice Chapter 2.3](https://otexts.com/fpp3/tspatterns.html) for full graphic.*\n",
        "\n",
        "Deep learning algorithms usually flourish with lots of data, in the range of thousands to millions of samples.\n",
        "\n",
        "In our case, we've got the daily prices of Bitcoin, a max of 365 samples per year.\n",
        "\n",
        "But that doesn't we can't try them with our data.\n",
        "\n",
        "To simplify, let's remove some of the columns from our data so we're only left with a date index and the closing price."
      ],
      "metadata": {
        "id": "VsIO3HpExbEQ"
      }
    },
    {
      "cell_type": "code",
      "source": [
        "pd.DataFrame(df[\"Closing Price (USD)\"])"
      ],
      "metadata": {
        "colab": {
          "base_uri": "https://localhost:8080/",
          "height": 455
        },
        "id": "C37w_9v5a9CS",
        "outputId": "a201159b-ae88-414f-ac1f-12d79f59f645"
      },
      "execution_count": 133,
      "outputs": [
        {
          "output_type": "execute_result",
          "data": {
            "text/html": [
              "\n",
              "  <div id=\"df-8a331f0f-7b67-46a5-af8f-3774fff01b29\">\n",
              "    <div class=\"colab-df-container\">\n",
              "      <div>\n",
              "<style scoped>\n",
              "    .dataframe tbody tr th:only-of-type {\n",
              "        vertical-align: middle;\n",
              "    }\n",
              "\n",
              "    .dataframe tbody tr th {\n",
              "        vertical-align: top;\n",
              "    }\n",
              "\n",
              "    .dataframe thead th {\n",
              "        text-align: right;\n",
              "    }\n",
              "</style>\n",
              "<table border=\"1\" class=\"dataframe\">\n",
              "  <thead>\n",
              "    <tr style=\"text-align: right;\">\n",
              "      <th></th>\n",
              "      <th>Closing Price (USD)</th>\n",
              "    </tr>\n",
              "    <tr>\n",
              "      <th>Date</th>\n",
              "      <th></th>\n",
              "    </tr>\n",
              "  </thead>\n",
              "  <tbody>\n",
              "    <tr>\n",
              "      <th>2013-10-01</th>\n",
              "      <td>123.654990</td>\n",
              "    </tr>\n",
              "    <tr>\n",
              "      <th>2013-10-02</th>\n",
              "      <td>125.455000</td>\n",
              "    </tr>\n",
              "    <tr>\n",
              "      <th>2013-10-03</th>\n",
              "      <td>108.584830</td>\n",
              "    </tr>\n",
              "    <tr>\n",
              "      <th>2013-10-04</th>\n",
              "      <td>118.674660</td>\n",
              "    </tr>\n",
              "    <tr>\n",
              "      <th>2013-10-05</th>\n",
              "      <td>121.338660</td>\n",
              "    </tr>\n",
              "    <tr>\n",
              "      <th>...</th>\n",
              "      <td>...</td>\n",
              "    </tr>\n",
              "    <tr>\n",
              "      <th>2021-05-14</th>\n",
              "      <td>49764.132082</td>\n",
              "    </tr>\n",
              "    <tr>\n",
              "      <th>2021-05-15</th>\n",
              "      <td>50032.693137</td>\n",
              "    </tr>\n",
              "    <tr>\n",
              "      <th>2021-05-16</th>\n",
              "      <td>47885.625255</td>\n",
              "    </tr>\n",
              "    <tr>\n",
              "      <th>2021-05-17</th>\n",
              "      <td>45604.615754</td>\n",
              "    </tr>\n",
              "    <tr>\n",
              "      <th>2021-05-18</th>\n",
              "      <td>43144.471291</td>\n",
              "    </tr>\n",
              "  </tbody>\n",
              "</table>\n",
              "<p>2787 rows × 1 columns</p>\n",
              "</div>\n",
              "      <button class=\"colab-df-convert\" onclick=\"convertToInteractive('df-8a331f0f-7b67-46a5-af8f-3774fff01b29')\"\n",
              "              title=\"Convert this dataframe to an interactive table.\"\n",
              "              style=\"display:none;\">\n",
              "        \n",
              "  <svg xmlns=\"http://www.w3.org/2000/svg\" height=\"24px\"viewBox=\"0 0 24 24\"\n",
              "       width=\"24px\">\n",
              "    <path d=\"M0 0h24v24H0V0z\" fill=\"none\"/>\n",
              "    <path d=\"M18.56 5.44l.94 2.06.94-2.06 2.06-.94-2.06-.94-.94-2.06-.94 2.06-2.06.94zm-11 1L8.5 8.5l.94-2.06 2.06-.94-2.06-.94L8.5 2.5l-.94 2.06-2.06.94zm10 10l.94 2.06.94-2.06 2.06-.94-2.06-.94-.94-2.06-.94 2.06-2.06.94z\"/><path d=\"M17.41 7.96l-1.37-1.37c-.4-.4-.92-.59-1.43-.59-.52 0-1.04.2-1.43.59L10.3 9.45l-7.72 7.72c-.78.78-.78 2.05 0 2.83L4 21.41c.39.39.9.59 1.41.59.51 0 1.02-.2 1.41-.59l7.78-7.78 2.81-2.81c.8-.78.8-2.07 0-2.86zM5.41 20L4 18.59l7.72-7.72 1.47 1.35L5.41 20z\"/>\n",
              "  </svg>\n",
              "      </button>\n",
              "      \n",
              "  <style>\n",
              "    .colab-df-container {\n",
              "      display:flex;\n",
              "      flex-wrap:wrap;\n",
              "      gap: 12px;\n",
              "    }\n",
              "\n",
              "    .colab-df-convert {\n",
              "      background-color: #E8F0FE;\n",
              "      border: none;\n",
              "      border-radius: 50%;\n",
              "      cursor: pointer;\n",
              "      display: none;\n",
              "      fill: #1967D2;\n",
              "      height: 32px;\n",
              "      padding: 0 0 0 0;\n",
              "      width: 32px;\n",
              "    }\n",
              "\n",
              "    .colab-df-convert:hover {\n",
              "      background-color: #E2EBFA;\n",
              "      box-shadow: 0px 1px 2px rgba(60, 64, 67, 0.3), 0px 1px 3px 1px rgba(60, 64, 67, 0.15);\n",
              "      fill: #174EA6;\n",
              "    }\n",
              "\n",
              "    [theme=dark] .colab-df-convert {\n",
              "      background-color: #3B4455;\n",
              "      fill: #D2E3FC;\n",
              "    }\n",
              "\n",
              "    [theme=dark] .colab-df-convert:hover {\n",
              "      background-color: #434B5C;\n",
              "      box-shadow: 0px 1px 3px 1px rgba(0, 0, 0, 0.15);\n",
              "      filter: drop-shadow(0px 1px 2px rgba(0, 0, 0, 0.3));\n",
              "      fill: #FFFFFF;\n",
              "    }\n",
              "  </style>\n",
              "\n",
              "      <script>\n",
              "        const buttonEl =\n",
              "          document.querySelector('#df-8a331f0f-7b67-46a5-af8f-3774fff01b29 button.colab-df-convert');\n",
              "        buttonEl.style.display =\n",
              "          google.colab.kernel.accessAllowed ? 'block' : 'none';\n",
              "\n",
              "        async function convertToInteractive(key) {\n",
              "          const element = document.querySelector('#df-8a331f0f-7b67-46a5-af8f-3774fff01b29');\n",
              "          const dataTable =\n",
              "            await google.colab.kernel.invokeFunction('convertToInteractive',\n",
              "                                                     [key], {});\n",
              "          if (!dataTable) return;\n",
              "\n",
              "          const docLinkHtml = 'Like what you see? Visit the ' +\n",
              "            '<a target=\"_blank\" href=https://colab.research.google.com/notebooks/data_table.ipynb>data table notebook</a>'\n",
              "            + ' to learn more about interactive tables.';\n",
              "          element.innerHTML = '';\n",
              "          dataTable['output_type'] = 'display_data';\n",
              "          await google.colab.output.renderOutput(dataTable, element);\n",
              "          const docLink = document.createElement('div');\n",
              "          docLink.innerHTML = docLinkHtml;\n",
              "          element.appendChild(docLink);\n",
              "        }\n",
              "      </script>\n",
              "    </div>\n",
              "  </div>\n",
              "  "
            ],
            "text/plain": [
              "            Closing Price (USD)\n",
              "Date                           \n",
              "2013-10-01           123.654990\n",
              "2013-10-02           125.455000\n",
              "2013-10-03           108.584830\n",
              "2013-10-04           118.674660\n",
              "2013-10-05           121.338660\n",
              "...                         ...\n",
              "2021-05-14         49764.132082\n",
              "2021-05-15         50032.693137\n",
              "2021-05-16         47885.625255\n",
              "2021-05-17         45604.615754\n",
              "2021-05-18         43144.471291\n",
              "\n",
              "[2787 rows x 1 columns]"
            ]
          },
          "metadata": {},
          "execution_count": 133
        }
      ]
    },
    {
      "cell_type": "code",
      "source": [
        "# Only want closing price for each day \n",
        "bitcoin_prices = pd.DataFrame(df[\"Closing Price (USD)\"]).rename(columns={\"Closing Price (USD)\" : \"Price\"})\n",
        "bitcoin_prices.head()"
      ],
      "metadata": {
        "colab": {
          "base_uri": "https://localhost:8080/",
          "height": 238
        },
        "id": "6XYTDKbWx3cf",
        "outputId": "ad8b32d9-1c89-48a1-a90c-6428fc38c404"
      },
      "execution_count": 134,
      "outputs": [
        {
          "output_type": "execute_result",
          "data": {
            "text/html": [
              "\n",
              "  <div id=\"df-dd93af6f-3d70-43fb-8a09-ed7178ff5a1a\">\n",
              "    <div class=\"colab-df-container\">\n",
              "      <div>\n",
              "<style scoped>\n",
              "    .dataframe tbody tr th:only-of-type {\n",
              "        vertical-align: middle;\n",
              "    }\n",
              "\n",
              "    .dataframe tbody tr th {\n",
              "        vertical-align: top;\n",
              "    }\n",
              "\n",
              "    .dataframe thead th {\n",
              "        text-align: right;\n",
              "    }\n",
              "</style>\n",
              "<table border=\"1\" class=\"dataframe\">\n",
              "  <thead>\n",
              "    <tr style=\"text-align: right;\">\n",
              "      <th></th>\n",
              "      <th>Price</th>\n",
              "    </tr>\n",
              "    <tr>\n",
              "      <th>Date</th>\n",
              "      <th></th>\n",
              "    </tr>\n",
              "  </thead>\n",
              "  <tbody>\n",
              "    <tr>\n",
              "      <th>2013-10-01</th>\n",
              "      <td>123.65499</td>\n",
              "    </tr>\n",
              "    <tr>\n",
              "      <th>2013-10-02</th>\n",
              "      <td>125.45500</td>\n",
              "    </tr>\n",
              "    <tr>\n",
              "      <th>2013-10-03</th>\n",
              "      <td>108.58483</td>\n",
              "    </tr>\n",
              "    <tr>\n",
              "      <th>2013-10-04</th>\n",
              "      <td>118.67466</td>\n",
              "    </tr>\n",
              "    <tr>\n",
              "      <th>2013-10-05</th>\n",
              "      <td>121.33866</td>\n",
              "    </tr>\n",
              "  </tbody>\n",
              "</table>\n",
              "</div>\n",
              "      <button class=\"colab-df-convert\" onclick=\"convertToInteractive('df-dd93af6f-3d70-43fb-8a09-ed7178ff5a1a')\"\n",
              "              title=\"Convert this dataframe to an interactive table.\"\n",
              "              style=\"display:none;\">\n",
              "        \n",
              "  <svg xmlns=\"http://www.w3.org/2000/svg\" height=\"24px\"viewBox=\"0 0 24 24\"\n",
              "       width=\"24px\">\n",
              "    <path d=\"M0 0h24v24H0V0z\" fill=\"none\"/>\n",
              "    <path d=\"M18.56 5.44l.94 2.06.94-2.06 2.06-.94-2.06-.94-.94-2.06-.94 2.06-2.06.94zm-11 1L8.5 8.5l.94-2.06 2.06-.94-2.06-.94L8.5 2.5l-.94 2.06-2.06.94zm10 10l.94 2.06.94-2.06 2.06-.94-2.06-.94-.94-2.06-.94 2.06-2.06.94z\"/><path d=\"M17.41 7.96l-1.37-1.37c-.4-.4-.92-.59-1.43-.59-.52 0-1.04.2-1.43.59L10.3 9.45l-7.72 7.72c-.78.78-.78 2.05 0 2.83L4 21.41c.39.39.9.59 1.41.59.51 0 1.02-.2 1.41-.59l7.78-7.78 2.81-2.81c.8-.78.8-2.07 0-2.86zM5.41 20L4 18.59l7.72-7.72 1.47 1.35L5.41 20z\"/>\n",
              "  </svg>\n",
              "      </button>\n",
              "      \n",
              "  <style>\n",
              "    .colab-df-container {\n",
              "      display:flex;\n",
              "      flex-wrap:wrap;\n",
              "      gap: 12px;\n",
              "    }\n",
              "\n",
              "    .colab-df-convert {\n",
              "      background-color: #E8F0FE;\n",
              "      border: none;\n",
              "      border-radius: 50%;\n",
              "      cursor: pointer;\n",
              "      display: none;\n",
              "      fill: #1967D2;\n",
              "      height: 32px;\n",
              "      padding: 0 0 0 0;\n",
              "      width: 32px;\n",
              "    }\n",
              "\n",
              "    .colab-df-convert:hover {\n",
              "      background-color: #E2EBFA;\n",
              "      box-shadow: 0px 1px 2px rgba(60, 64, 67, 0.3), 0px 1px 3px 1px rgba(60, 64, 67, 0.15);\n",
              "      fill: #174EA6;\n",
              "    }\n",
              "\n",
              "    [theme=dark] .colab-df-convert {\n",
              "      background-color: #3B4455;\n",
              "      fill: #D2E3FC;\n",
              "    }\n",
              "\n",
              "    [theme=dark] .colab-df-convert:hover {\n",
              "      background-color: #434B5C;\n",
              "      box-shadow: 0px 1px 3px 1px rgba(0, 0, 0, 0.15);\n",
              "      filter: drop-shadow(0px 1px 2px rgba(0, 0, 0, 0.3));\n",
              "      fill: #FFFFFF;\n",
              "    }\n",
              "  </style>\n",
              "\n",
              "      <script>\n",
              "        const buttonEl =\n",
              "          document.querySelector('#df-dd93af6f-3d70-43fb-8a09-ed7178ff5a1a button.colab-df-convert');\n",
              "        buttonEl.style.display =\n",
              "          google.colab.kernel.accessAllowed ? 'block' : 'none';\n",
              "\n",
              "        async function convertToInteractive(key) {\n",
              "          const element = document.querySelector('#df-dd93af6f-3d70-43fb-8a09-ed7178ff5a1a');\n",
              "          const dataTable =\n",
              "            await google.colab.kernel.invokeFunction('convertToInteractive',\n",
              "                                                     [key], {});\n",
              "          if (!dataTable) return;\n",
              "\n",
              "          const docLinkHtml = 'Like what you see? Visit the ' +\n",
              "            '<a target=\"_blank\" href=https://colab.research.google.com/notebooks/data_table.ipynb>data table notebook</a>'\n",
              "            + ' to learn more about interactive tables.';\n",
              "          element.innerHTML = '';\n",
              "          dataTable['output_type'] = 'display_data';\n",
              "          await google.colab.output.renderOutput(dataTable, element);\n",
              "          const docLink = document.createElement('div');\n",
              "          docLink.innerHTML = docLinkHtml;\n",
              "          element.appendChild(docLink);\n",
              "        }\n",
              "      </script>\n",
              "    </div>\n",
              "  </div>\n",
              "  "
            ],
            "text/plain": [
              "                Price\n",
              "Date                 \n",
              "2013-10-01  123.65499\n",
              "2013-10-02  125.45500\n",
              "2013-10-03  108.58483\n",
              "2013-10-04  118.67466\n",
              "2013-10-05  121.33866"
            ]
          },
          "metadata": {},
          "execution_count": 134
        }
      ]
    },
    {
      "cell_type": "code",
      "source": [
        "import matplotlib.pyplot as plt\n",
        "bitcoin_prices.plot(figsize=(10,7))\n",
        "plt.ylabel(\"BTC price\")\n",
        "plt.title(\"Price of Bitcoin from 01.10.13 10 18.05.21\")\n",
        "plt.legend(fontsize=18)"
      ],
      "metadata": {
        "colab": {
          "base_uri": "https://localhost:8080/",
          "height": 475
        },
        "id": "2qtX18AOaPk_",
        "outputId": "cb9dfe45-0bbd-4c9c-85e8-aa8e1adf0883"
      },
      "execution_count": 135,
      "outputs": [
        {
          "output_type": "execute_result",
          "data": {
            "text/plain": [
              "<matplotlib.legend.Legend at 0x7fd3987fd250>"
            ]
          },
          "metadata": {},
          "execution_count": 135
        },
        {
          "output_type": "display_data",
          "data": {
            "image/png": "[encoded data removed]",
            "text/plain": [
              "<Figure size 720x504 with 1 Axes>"
            ]
          },
          "metadata": {
            "needs_background": "light"
          }
        }
      ]
    },
    {
      "cell_type": "markdown",
      "source": [
        "### Importing time series data with Python's CSV module\n",
        "\n",
        "If your time series data comes in CSV form you don't necessarily have to use pandas.\n",
        "\n",
        "You can use Python's [in-built `csv` module](https://docs.python.org/3/library/csv.html). And if you're working with dates, you might also want to use Python's [`datetime`](https://docs.python.org/3/library/datetime.html).\n",
        "\n",
        "Let's see how we can replicate the plot we created before except this time using Python's `csv` and `datetime` modules.\n",
        "\n",
        "> 📖 **Resource:** For a great guide on using Python's `csv` module, check out Real Python's tutorial on [Reading and Writing CSV files in Python](https://realpython.com/python-csv/)."
      ],
      "metadata": {
        "id": "uOowY-kk9W_Z"
      }
    },
    {
      "cell_type": "code",
      "source": [
        "# Importing and formatting  data\n",
        "import csv\n",
        "from datetime import datetime\n",
        "\n",
        "timesteps = []\n",
        "btc_price = []\n",
        "\n",
        "with open(\"/content/BTC_USD_2013-10-01_2021-05-18-CoinDesk.csv\", \"r\") as csv_file:\n",
        "  csv_reader = csv.reader(csv_file, delimiter = ',')\n",
        "  \n",
        "  next(csv_reader) # use next for skipping first line in csv\n",
        "\n",
        "  for row in csv_reader:\n",
        "    timesteps.append(datetime.strptime(row[1], \"%Y-%m-%d\")) # strptime - make DateTime from string\n",
        "    btc_price.append(float(row[2])) # get price Closing Price (USD) as float \n",
        "\n",
        "timesteps[:10], btc_price[:10]"
      ],
      "metadata": {
        "colab": {
          "base_uri": "https://localhost:8080/"
        },
        "id": "lvYMxbJ_atzs",
        "outputId": "72f03579-5d6e-419c-c5ba-b79a2c1aca83"
      },
      "execution_count": 136,
      "outputs": [
        {
          "output_type": "execute_result",
          "data": {
            "text/plain": [
              "([datetime.datetime(2013, 10, 1, 0, 0),\n",
              "  datetime.datetime(2013, 10, 2, 0, 0),\n",
              "  datetime.datetime(2013, 10, 3, 0, 0),\n",
              "  datetime.datetime(2013, 10, 4, 0, 0),\n",
              "  datetime.datetime(2013, 10, 5, 0, 0),\n",
              "  datetime.datetime(2013, 10, 6, 0, 0),\n",
              "  datetime.datetime(2013, 10, 7, 0, 0),\n",
              "  datetime.datetime(2013, 10, 8, 0, 0),\n",
              "  datetime.datetime(2013, 10, 9, 0, 0),\n",
              "  datetime.datetime(2013, 10, 10, 0, 0)],\n",
              " [123.65499,\n",
              "  125.455,\n",
              "  108.58483,\n",
              "  118.67466,\n",
              "  121.33866,\n",
              "  120.65533,\n",
              "  121.795,\n",
              "  123.033,\n",
              "  124.049,\n",
              "  125.96116])"
            ]
          },
          "metadata": {},
          "execution_count": 136
        }
      ]
    },
    {
      "cell_type": "code",
      "source": [
        "# plotting csv without using pandas\n",
        "\n",
        "import matplotlib.pyplot as plt\n",
        "plt.figure(figsize=(10,7))\n",
        "plt.plot(timesteps, btc_price)\n",
        "plt.ylabel(\"BTC price\")\n",
        "plt.title(\"Price of Bitcoin from 01.10.13 10 18.05.21\")\n",
        "plt.xlabel(\"Date\")\n"
      ],
      "metadata": {
        "colab": {
          "base_uri": "https://localhost:8080/",
          "height": 475
        },
        "id": "QYljqhjUDnNx",
        "outputId": "177c2d1c-8e69-417f-f0e5-c7a6237831e8"
      },
      "execution_count": 137,
      "outputs": [
        {
          "output_type": "execute_result",
          "data": {
            "text/plain": [
              "Text(0.5, 0, 'Date')"
            ]
          },
          "metadata": {},
          "execution_count": 137
        },
        {
          "output_type": "display_data",
          "data": {
            "image/png": "[encoded data removed]",
            "text/plain": [
              "<Figure size 720x504 with 1 Axes>"
            ]
          },
          "metadata": {
            "needs_background": "light"
          }
        }
      ]
    },
    {
      "cell_type": "markdown",
      "source": [
        "## Format Data Part 1: Creatining train and test sets for time series data\n",
        "\n",
        "Usually, you could create a train and test split using a function like Scikit-Learn's outstanding [`train_test_split()`](https://scikit-learn.org/stable/modules/generated/sklearn.model_selection.train_test_split.html) but as we'll see in a moment, this doesn't really cut it for time series data.\n",
        "\n",
        "But before we do create splits, it's worth talking about what *kind* of data we have.\n",
        "\n",
        "In time series problems, you'll either have **univariate** or **multivariate** data.\n",
        "\n",
        "Can you guess what our data is?\n",
        "\n",
        "* **Univariate** time series data deals with *one* variable, for example, using the price of Bitcoin to predict the price of Bitcoin.\n",
        "* **Multivariate** time series data deals with *more than one* variable, for example, predicting electricity demand using the day of week, time of year and number of houses in a region.\n",
        "\n",
        "![comparison of univariate and multivariate time series data](https://raw.githubusercontent.com/mrdbourke/tensorflow-deep-learning/main/images/10-univariate-and-multivariate-time-series-data.png)\n",
        "*Example of univariate and multivariate time series data. Univariate involves using the target to predict the target. Multivariate inolves using the target as well as another time series to predict the target.*"
      ],
      "metadata": {
        "id": "QMb4ynLntzMQ"
      }
    },
    {
      "cell_type": "markdown",
      "source": [
        "### Create train & test sets for time series (the wrong way)\n",
        "\n",
        "We've figured out we're dealing with a univariate time series, so we only have to make a split on one variable (for multivariate time series, you will have to split multiple variables). \n",
        "\n",
        "How about we first see the *wrong way* for splitting time series data?\n",
        "\n",
        "Let's turn our DataFrame index and column into NumPy arrays."
      ],
      "metadata": {
        "id": "1kNHxs6vKjlJ"
      }
    },
    {
      "cell_type": "code",
      "source": [
        "# Get btc date array\n",
        "timesteps = bitcoin_prices.index.to_numpy()\n",
        "prices = bitcoin_prices[\"Price\"].to_numpy()\n",
        "\n",
        "timesteps[:10], prices[:10]"
      ],
      "metadata": {
        "colab": {
          "base_uri": "https://localhost:8080/"
        },
        "id": "0B2mvuynKkB_",
        "outputId": "45562a13-4e2e-43d3-b4d5-ff4d5ec50c7a"
      },
      "execution_count": 138,
      "outputs": [
        {
          "output_type": "execute_result",
          "data": {
            "text/plain": [
              "(array(['2013-10-01T00:00:00.000000000', '2013-10-02T00:00:00.000000000',\n",
              "        '2013-10-03T00:00:00.000000000', '2013-10-04T00:00:00.000000000',\n",
              "        '2013-10-05T00:00:00.000000000', '2013-10-06T00:00:00.000000000',\n",
              "        '2013-10-07T00:00:00.000000000', '2013-10-08T00:00:00.000000000',\n",
              "        '2013-10-09T00:00:00.000000000', '2013-10-10T00:00:00.000000000'],\n",
              "       dtype='datetime64[ns]'),\n",
              " array([123.65499, 125.455  , 108.58483, 118.67466, 121.33866, 120.65533,\n",
              "        121.795  , 123.033  , 124.049  , 125.96116]))"
            ]
          },
          "metadata": {},
          "execution_count": 138
        }
      ]
    },
    {
      "cell_type": "code",
      "source": [
        "# Wrong way to make train/test sets for time series data\n",
        "from sklearn.model_selection import train_test_split \n",
        "\n",
        "X_train, X_test, y_train, y_test = train_test_split(timesteps, # dates\n",
        "                                                    prices, # prices\n",
        "                                                    test_size=0.2,\n",
        "                                                    random_state=42)\n",
        "X_train.shape, X_test.shape, y_train.shape, y_test.shape "
      ],
      "metadata": {
        "colab": {
          "base_uri": "https://localhost:8080/"
        },
        "id": "I_-dEBIcLD0w",
        "outputId": "407bdce8-c838-420d-8bae-833f4e25d436"
      },
      "execution_count": 139,
      "outputs": [
        {
          "output_type": "execute_result",
          "data": {
            "text/plain": [
              "((2229,), (558,), (2229,), (558,))"
            ]
          },
          "metadata": {},
          "execution_count": 139
        }
      ]
    },
    {
      "cell_type": "code",
      "source": [
        "# Let's plot wrong train and test splits\n",
        "plt.figure(figsize=(10, 7))\n",
        "plt.scatter(X_train, y_train, s=5, label=\"Train data\")\n",
        "plt.scatter(X_test, y_test, s=5, label=\"Test data\")\n",
        "plt.xlabel(\"Date\")\n",
        "plt.ylabel(\"BTC Price\")\n",
        "plt.legend(fontsize=14)\n",
        "plt.show();"
      ],
      "metadata": {
        "colab": {
          "base_uri": "https://localhost:8080/",
          "height": 442
        },
        "id": "vcE_UJSEPmuK",
        "outputId": "3f2e523b-224c-4afb-ec60-994d172eaa27"
      },
      "execution_count": 140,
      "outputs": [
        {
          "output_type": "display_data",
          "data": {
            "image/png": "[encoded data removed]",
            "text/plain": [
              "<Figure size 720x504 with 1 Axes>"
            ]
          },
          "metadata": {
            "needs_background": "light"
          }
        }
      ]
    },
    {
      "cell_type": "markdown",
      "source": [
        "What's wrong with this plot?\n",
        "\n",
        "Well, let's remind ourselves of what we're trying to do.\n",
        "\n",
        "We're trying to use the historical price of Bitcoin to predict future prices of Bitcoin.\n",
        "\n",
        "With this in mind, our seen data (training set) is what?\n",
        "\n",
        "Prices of Bitcoin in the past.\n",
        "\n",
        "And our unseen data (test set) is?\n",
        "\n",
        "Prices of Bitcoin in the future. \n",
        "\n",
        "Does the plot above reflect this?\n",
        "\n",
        "No. \n",
        "\n",
        "Our test data is scattered all throughout the training data.\n",
        "\n",
        "This kind of random split is okay for datasets without a time component (such as images or passages of text for classification problems) but for time series, we've got to take the time factor into account.\n",
        "\n",
        "To fix this, we've got to split our data in a way that reflects what we're actually trying to do.\n",
        "\n",
        "We need to split our historical Bitcoin data to have a dataset that reflects the past (train set) and a dataset that reflects the future (test set).\n",
        "\n",
        "\n",
        "\n"
      ],
      "metadata": {
        "id": "LJ_a1-NlQWs5"
      }
    },
    {
      "cell_type": "markdown",
      "source": [
        "### Create train & test sets for time series (the right way)\n",
        "\n",
        "Of course, there's no way we can actually access data from the future.\n",
        "\n",
        "But we can engineer our test set to be in the future with respect to the training set.\n",
        "\n",
        "To do this, we can create an abitrary point in time to split our data.\n",
        "\n",
        "Everything before the point in time can be considered the training set and everything after the point in time can be considered the test set.\n",
        "\n",
        "![time series train test split](https://raw.githubusercontent.com/mrdbourke/tensorflow-deep-learning/main/images/10-time-series-train-test-split.png)\n",
        "*Demonstration of time series split. Rather than a traditionaly random train/test split, it's best to split the time series data sequentially. Meaning, the test data should be data from the future when compared to the training data.*"
      ],
      "metadata": {
        "id": "qEFNymsTZvUS"
      }
    },
    {
      "cell_type": "code",
      "source": [
        "# Create train and test splits the right way for time series data\n",
        "split_size = int(0.8 * len(prices)) # 80% train, 20% test. We can change values as we need\n",
        "\n",
        "# Create train data splits (everithing before the split)\n",
        "X_train, y_train = timesteps[:split_size], prices[:split_size]\n",
        "\n",
        "# Create test data splits (everything beyond the split)\n",
        "X_test, y_test = timesteps[split_size:], prices[split_size:]\n",
        "\n",
        "len(X_train), len(X_test), len(y_train), len(y_test)"
      ],
      "metadata": {
        "colab": {
          "base_uri": "https://localhost:8080/"
        },
        "id": "XxldOr95ZxEm",
        "outputId": "aedc1ac1-f97b-49ca-9840-24da758d1d71"
      },
      "execution_count": 141,
      "outputs": [
        {
          "output_type": "execute_result",
          "data": {
            "text/plain": [
              "(2229, 558, 2229, 558)"
            ]
          },
          "metadata": {},
          "execution_count": 141
        }
      ]
    },
    {
      "cell_type": "code",
      "source": [
        "# Let's plot wrong train and test splits\n",
        "plt.figure(figsize=(10, 7))\n",
        "plt.scatter(X_train, y_train, s=5, label=\"Train data\")\n",
        "plt.scatter(X_test, y_test, s=5, label=\"Test data\")\n",
        "plt.xlabel(\"Date\")\n",
        "plt.ylabel(\"BTC Price\")\n",
        "plt.legend(fontsize=14)\n",
        "plt.show();"
      ],
      "metadata": {
        "colab": {
          "base_uri": "https://localhost:8080/",
          "height": 442
        },
        "id": "eFptdReykaYt",
        "outputId": "fa05bbba-d1b1-48aa-c181-9e6caab39eaf"
      },
      "execution_count": 142,
      "outputs": [
        {
          "output_type": "display_data",
          "data": {
            "image/png": "[encoded data removed]",
            "text/plain": [
              "<Figure size 720x504 with 1 Axes>"
            ]
          },
          "metadata": {
            "needs_background": "light"
          }
        }
      ]
    },
    {
      "cell_type": "markdown",
      "source": [
        "That looks much better!\n",
        "\n",
        "We're going to be using the training set (past) to train a model to try and predict values on the test set (future).\n",
        "\n",
        "Because the test set is an *artificial* future, we can gauge how our model might perform on *actual* future data.\n",
        "\n",
        "> 🔑 **Note:** The amount of data you reserve for your test set not set in stone. You could have 80/20, 90/10, 95/5 splits or in some cases, you might not even have enough data to split into train and test sets (see the resource below). The point is to remember the test set is a pseudofuture and not the actual future, it is only meant to give you an indication of how the models you're building are performing. \n",
        "\n",
        "> 📖 **Resource:** Working with time series data can be tricky compared to other kinds of data. And there are a few pitfalls to watch out for, such as how much data to use for a test set. The article [*3 facts about time series forecasting that surprise experienced machine learning practitioners*](https://towardsdatascience.com/3-facts-about-time-series-forecasting-that-surprise-experienced-machine-learning-practitioners-69c18ee89387) talks about different things to watch out for when working with time series data, I'd recommend reading it.\n",
        "\n"
      ],
      "metadata": {
        "id": "Zd65xfJok3rY"
      }
    },
    {
      "cell_type": "markdown",
      "source": [
        "### Create a plotting function\n",
        "\n",
        "Rather than retyping `matplotlib` commands to continuously plot data, let's make a plotting function we can reuse later."
      ],
      "metadata": {
        "id": "tbwDDyz8aeJW"
      }
    },
    {
      "cell_type": "code",
      "source": [
        "# Create a function to plot time series data\n",
        "def plot_time_series(timesteps, values, format=\".\", start=0, end=None, label=None, ylabel=\"BTC Price\"):\n",
        "  \"\"\"\n",
        "  Plots a timesteps (a series of points in time) against values (a series of values across timesteps).\n",
        "  \n",
        "  Parameters\n",
        "  ---------\n",
        "  timesteps : array of timesteps\n",
        "  values : array of values across time\n",
        "  format : style of plot, default \".\"\n",
        "  start : where to start the plot (setting a value will index from start of timesteps & values)\n",
        "  end : where to end the plot (setting a value will index from end of timesteps & values)\n",
        "  label : label to show on plot of values (Default None)\n",
        "  \"\"\"\n",
        "  # Plot time series\n",
        "  plt.plot(timesteps[start:end], values[start:end], format, label=label)\n",
        "  plt.xlabel(\"Time\")\n",
        "  plt.ylabel(ylabel)\n",
        "\n",
        "  if label:\n",
        "    plt.legend(fontsize = 16) # make label bigger\n",
        "  plt.grid(True)"
      ],
      "metadata": {
        "id": "ja5hTLBtaiD9"
      },
      "execution_count": 143,
      "outputs": []
    },
    {
      "cell_type": "code",
      "source": [
        "# Try out our plotting function\n",
        "plt.figure(figsize=(10, 7))\n",
        "\n",
        "plot_time_series(timesteps=X_train, values=y_train, label=\"Train data\")\n",
        "plot_time_series(timesteps=X_test, values=y_test, label=\"Test data\")"
      ],
      "metadata": {
        "colab": {
          "base_uri": "https://localhost:8080/",
          "height": 442
        },
        "id": "W7E-dsTdcEyb",
        "outputId": "1ca2f323-c052-45ff-b50d-df5fa7f0672b"
      },
      "execution_count": 144,
      "outputs": [
        {
          "output_type": "display_data",
          "data": {
            "image/png": "[encoded data removed]",
            "text/plain": [
              "<Figure size 720x504 with 1 Axes>"
            ]
          },
          "metadata": {
            "needs_background": "light"
          }
        }
      ]
    },
    {
      "cell_type": "markdown",
      "source": [
        "## Modelling Experiments\n",
        "\n",
        "We can build almost any kind of model for our problem as long as the data inputs and outputs are formatted correctly.\n",
        "\n",
        "However, just because we *can* build *almost any* kind of model, doesn't mean it'll perform well/should be used in a production setting.\n",
        "\n",
        "We'll see what this means as we build and evaluate models throughout.\n",
        "\n",
        "Before we discuss what modelling experiments we're going to run, there are two terms you should be familiar with, **horizon** and **window**. \n",
        "  * **horizon** = number of timesteps to predict into future\n",
        "  * **window** = number of timesteps from past used to predict **horizon**\n",
        "\n",
        "For example, if we wanted to predict the price of Bitcoin for tomorrow (1 day in the future) using the previous week's worth of Bitcoin prices (7 days in the past), the horizon would be 1 and the window would be 7.\n",
        "\n",
        "Now, how about those modelling experiments?\n",
        "\n",
        "| Model Number | Model Type | Horizon size | Window size | Extra data |\n",
        "| ----- | ----- | ----- | ----- | ----- |\n",
        "| 0 | Naïve model (baseline) | NA | NA | NA |\n",
        "| 1 | Dense model | 1 | 7 | NA |\n",
        "| 2 | Same as 1 | 1 | 30 | NA | \n",
        "| 3 | Same as 1 | 7 | 30 | NA |\n",
        "| 4 | Conv1D | 1 | 7 | NA |\n",
        "| 5 | LSTM | 1 | 7 | NA |\n",
        "| 6 | Same as 1 (but with multivariate data) | 1 | 7 | Block reward size |\n",
        "| 7 | [N-BEATs Algorithm](https://arxiv.org/pdf/1905.10437.pdf) | 1 | 7 | NA |\n",
        "| 8 | Ensemble (multiple models optimized on different loss functions) | 1 | 7 | NA | \n",
        "| 9 | Future prediction model (model to predict future values) | 1 | 7 | NA| \n",
        "| 10 | Same as 1 (but with turkey 🦃 data introduced) | 1 | 7 | NA |\n",
        "\n",
        "> 🔑 **Note:** To reiterate, as you can see, we can build many types of models for the data we're working with. But that doesn't mean that they'll perform well. Deep learning is a powerful technique but it doesn't always work. And as always, start with a simple model first and then add complexity as needed. "
      ],
      "metadata": {
        "id": "CAvw6LWscOIt"
      }
    },
    {
      "cell_type": "markdown",
      "source": [
        "## Model 0: Naïve forecast (baseline)\n",
        "\n",
        "One of the most common baseline models for time series forecasting, the naïve model (also called the [naïve forecast](https://otexts.com/fpp3/simple-methods.html#na%C3%AFve-method)), requires no training at all.\n",
        "\n",
        "That's because all the naïve model does is use the previous timestep value to predict the next timestep value.\n",
        "\n",
        "The formula looks like this:\n",
        "\n",
        "$$\\hat{y}_{t} = y_{t-1}$$ \n",
        "\n",
        "In English: \n",
        "> The prediction at timestep `t` (y-hat) is equal to the value at timestep `t-1` (the previous timestep).\n",
        "\n",
        "Sound simple?\n",
        "\n",
        "Maybe not.\n",
        "\n",
        "In an open system (like a stock market or crypto market), you'll often find beating the naïve forecast with *any* kind of model is quite hard.\n",
        "\n",
        "> 🔑 **Note:** For the sake of this notebook, an **open system** is a system where inputs and outputs can freely flow, such as a market (stock or crypto). Where as, a **closed system** the inputs and outputs are contained within the system (like a poker game with your buddies, you know the buy in and you know how much the winner can get). Time series forecasting in **open systems** is generally quite poor."
      ],
      "metadata": {
        "id": "aZZwov13cvOj"
      }
    },
    {
      "cell_type": "code",
      "source": [
        "# Create a naive forecast\n",
        "naive_forecast = y_test[:-1] # Naive forecast equals every value excluding the last value\n",
        "naive_forecast[:10], naive_forecast[-10:] # View frist 10 and last 10 "
      ],
      "metadata": {
        "colab": {
          "base_uri": "https://localhost:8080/"
        },
        "id": "MaeeV86lXMA5",
        "outputId": "72b6d5ee-9c32-4c5e-88ad-8f66b1e3d3c2"
      },
      "execution_count": 145,
      "outputs": [
        {
          "output_type": "execute_result",
          "data": {
            "text/plain": [
              "(array([9226.48582088, 8794.35864452, 8798.04205463, 9081.18687849,\n",
              "        8711.53433917, 8760.89271814, 8749.52059102, 8656.97092235,\n",
              "        8500.64355816, 8469.2608989 ]),\n",
              " array([57107.12067189, 58788.20967893, 58102.19142623, 55715.54665129,\n",
              "        56573.5554719 , 52147.82118698, 49764.1320816 , 50032.69313676,\n",
              "        47885.62525472, 45604.61575361]))"
            ]
          },
          "metadata": {},
          "execution_count": 145
        }
      ]
    },
    {
      "cell_type": "code",
      "source": [
        "# Plot nave forecast\n",
        "plt.figure(figsize=(10, 7))\n",
        "# plot_time_series(timesteps=X_train, values=y_train, label=\"Train data\")\n",
        "plot_time_series(timesteps=X_test, values=y_test, label=\"Test data\")\n",
        "plot_time_series(timesteps=X_test[1:], values=naive_forecast, format=\"-\", label=\"Naive forcast\")\n"
      ],
      "metadata": {
        "colab": {
          "base_uri": "https://localhost:8080/",
          "height": 442
        },
        "id": "OuC7Jz-HXmZ-",
        "outputId": "80d59349-6ac7-4def-f0ae-4b8604a07815"
      },
      "execution_count": 146,
      "outputs": [
        {
          "output_type": "display_data",
          "data": {
            "image/png": "[encoded data removed]",
            "text/plain": [
              "<Figure size 720x504 with 1 Axes>"
            ]
          },
          "metadata": {
            "needs_background": "light"
          }
        }
      ]
    },
    {
      "cell_type": "code",
      "source": [
        "# Plot nave forecast\n",
        "plt.figure(figsize=(10, 7))\n",
        "# plot_time_series(timesteps=X_train, values=y_train, label=\"Train data\")\n",
        "plot_time_series(timesteps=X_test, values=y_test, start=350, format=\"-\", label=\"Test data\")\n",
        "plot_time_series(timesteps=X_test[1:], values=naive_forecast, start=350, format=\"-\", label=\"Naive forcast\")\n"
      ],
      "metadata": {
        "colab": {
          "base_uri": "https://localhost:8080/",
          "height": 442
        },
        "id": "OwVH7V5MZCqv",
        "outputId": "a2a196e0-2c0b-4c49-f1de-fea69c6d92cd"
      },
      "execution_count": 147,
      "outputs": [
        {
          "output_type": "display_data",
          "data": {
            "image/png": "[encoded data removed]",
            "text/plain": [
              "<Figure size 720x504 with 1 Axes>"
            ]
          },
          "metadata": {
            "needs_background": "light"
          }
        }
      ]
    },
    {
      "cell_type": "markdown",
      "source": [
        "## Evaluating a time series model\n",
        "\n",
        "Time series forecasting often involves predicting a number (in our case, the price of Bitcoin).\n",
        "\n",
        "And problem for predicting a number - regression\n",
        "\n",
        "With this known, we can use regression evaluation metrics to evaluate our time series forecasts.\n",
        "\n",
        "The main thing we will be evaluating is: **how do our model's predictions (`y_pred`) compare against the actual values (`y_true` or *ground truth values*)**? \n",
        "\n",
        "> 📖 **Resource:** We're going to be using several metrics to evaluate our different model's time series forecast accuracy. Many of them are sourced and explained mathematically and conceptually in [Forecasting: Principles and Practice chapter 5.8](https://otexts.com/fpp3/accuracy.html), I'd recommend reading through here for a more in-depth overview of what we're going to practice.\n",
        "\n",
        "For all of the following metrics, **lower is better** (for example an MAE of 0 is better than an MAE 100).\n",
        "\n",
        "### Scale-dependent errors\n",
        "\n",
        "These are metrics which can be used to compare time series values and forecasts that are on the same scale.\n",
        "\n",
        "For example, Bitcoin historical prices in USD veresus Bitcoin forecast values in USD.\n",
        "\n",
        "| Metric | Details | Code |\n",
        "| ----- | ----- | ----- |\n",
        "| **MAE** (mean absolute error) | Easy to interpret (a forecast is X amount different from actual amount). Forecast methods which minimises the MAE will lead to forecasts of the median. | [`tf.keras.metrics.mean_absolute_error()`](https://www.tensorflow.org/api_docs/python/tf/keras/metrics/MeanAbsoluteError) |\n",
        "| **RMSE** (root mean square error) | Forecasts which minimise the RMSE lead to forecasts of the mean. | `tf.sqrt(`[`tf.keras.metrics.mean_square_error()`](https://www.tensorflow.org/api_docs/python/tf/keras/metrics/RootMeanSquaredError)`)`|\n",
        "\n",
        "### Percentage errors\n",
        "\n",
        "Percentage errors do not have units, this means they can be used to compare forecasts across different datasets.\n",
        "\n",
        "| **Metric** | **Details** | **Code** |\n",
        "| ----- | ----- | ----- |\n",
        "| **MAPE** (mean absolute percentage error) | Most commonly used percentage error. May explode (not work) if `y=0`. | [`tf.keras.metrics.mean_absolute_percentage_error()`](https://www.tensorflow.org/api_docs/python/tf/keras/losses/MAPE) | \n",
        "| **sMAPE** (symmetric mean absolute percentage error) | Recommended not to be used by [Forecasting: Principles and Practice](https://otexts.com/fpp3/accuracy.html#percentage-errors), though it is used in forecasting competitions. | Custom implementation |\n",
        "\n",
        "### Scaled errors\n",
        "\n",
        "Scaled errors are an alternative to percentage errors when comparing forecast performance across different time series.\n",
        "\n",
        "| **Metric** | **Details** | **Code** |\n",
        "| ----- | ----- | ----- |\n",
        "| **MASE** (mean absolute scaled error). | MASE equals one for the naive forecast (or very close to one). A forecast which performs better than the naïve should get <1 MASE. | See sktime's [`mase_loss()`](https://github.com/alan-turing-institute/sktime/blob/ee7a06843a44f4aaec7582d847e36073a9ab0566/sktime/performance_metrics/forecasting/_functions.py#L16) |\n",
        "\n",
        "> 🤔 **Question:** There are so many metrics... which one should I pay most attention to? It's going to depend on your problem. However, since its ease of interpretation (you can explain it in a sentence to your grandma), MAE is often a very good place to start.\n",
        "\n",
        "Since we're going to be evaluing a lot of models, let's write a function to help us calculate evaluation metrics on their forecasts.\n",
        "\n",
        "First we'll need TensorFlow.\n"
      ],
      "metadata": {
        "id": "h1T4Vy77ZLgw"
      }
    },
    {
      "cell_type": "code",
      "source": [
        "import tensorflow as tf"
      ],
      "metadata": {
        "id": "VPzvbe2EZ9_l"
      },
      "execution_count": 148,
      "outputs": []
    },
    {
      "cell_type": "markdown",
      "source": [
        "And since TensorFlow doesn't have a ready made version of MASE (mean aboslute scaled error), how about we create our own?\n",
        "\n",
        "We'll take inspiration from [sktime](https://github.com/alan-turing-institute/sktime)'s (Scikit-Learn for time series) [`MeanAbsoluteScaledError`](https://www.sktime.org/en/stable/api_reference/auto_generated/sktime.performance_metrics.forecasting.MeanAbsoluteScaledError.html#sktime.performance_metrics.forecasting.MeanAbsoluteScaledError) class which calculates the MASE."
      ],
      "metadata": {
        "id": "DnwWE4Bq60ma"
      }
    },
    {
      "cell_type": "code",
      "source": [
        "# MASE implmentation courtesy of sktime - https://github.com/alan-turing-institute/sktime/blob/ee7a06843a44f4aaec7582d847e36073a9ab0566/sktime/performance_metrics/forecasting/_functions.py#L16\n",
        "def mean_absolute_scaled_error(y_true, y_pred):\n",
        "  \"\"\"\n",
        "  Implement MASE (assuming no seasonality of data).\n",
        "  \"\"\"\n",
        "  mae = tf.reduce_mean(tf.abs(y_true-y_pred))\n",
        "  # Find MAE of naive forecast (no seasonality)\n",
        "  mae_naive_no_season = tf.reduce_mean(tf.abs(y_true[1:] - y_true[:-1])) # our seasonality is 1 day (hence the shifting of 1 day)\n",
        "\n",
        "  return mae / mae_naive_no_season"
      ],
      "metadata": {
        "id": "apVvwLHN6Kwp"
      },
      "execution_count": 149,
      "outputs": []
    },
    {
      "cell_type": "code",
      "source": [
        "mean_absolute_scaled_error(y_true=y_test[1:], y_pred=naive_forecast).numpy()"
      ],
      "metadata": {
        "colab": {
          "base_uri": "https://localhost:8080/"
        },
        "id": "AUwanPPz9at2",
        "outputId": "98ad97c6-6594-49c0-8f48-4da6b6d449b7"
      },
      "execution_count": 150,
      "outputs": [
        {
          "output_type": "execute_result",
          "data": {
            "text/plain": [
              "0.9995699939182624"
            ]
          },
          "metadata": {},
          "execution_count": 150
        }
      ]
    },
    {
      "cell_type": "markdown",
      "source": [
        "You'll notice the version of MASE above doesn't take in the training values like sktime's `mae_loss()`. In our case, we're comparing the MAE of our predictions on the test to the MAE of the naïve forecast on the test set.\n",
        "\n",
        "In practice, if we've created the function correctly, the naïve model should achieve an MASE of 1 (or very close to 1). Any model worse than the naïve forecast will achieve an MASE of >1 and any model better than the naïve forecast will achieve an MASE of <1.\n",
        "\n",
        "Let's put each of our different evaluation metrics together into a function."
      ],
      "metadata": {
        "id": "8lb8HdRw8Iqs"
      }
    },
    {
      "cell_type": "code",
      "source": [
        "# Create a function to take in model predictions and truth values and return evaluation metrics\n",
        "def evaluate_preds(y_true, y_pred):\n",
        "  # Make sure float32 (for metric calculations). Float 32 - default tf size, so float64 may call error\n",
        "  y_true = tf.cast(y_true, dtype=tf.float32)\n",
        "  y_pred = tf.cast(y_pred, dtype=tf.float32)\n",
        "\n",
        "  # Calculate evaluation metrics\n",
        "  mae = tf.keras.metrics.mean_absolute_error(y_true, y_pred)\n",
        "  mse = tf.keras.metrics.mean_squared_error(y_true, y_pred)\n",
        "  rmse = tf.sqrt(mse)\n",
        "  mape = tf.keras.metrics.mean_absolute_percentage_error(y_true, y_pred)\n",
        "\n",
        "  mase = mean_absolute_scaled_error(y_true, y_pred)\n",
        "\n",
        "  return {\"mae\": mae.numpy(),\n",
        "          \"mse\": mse.numpy(),\n",
        "          \"rmse\": rmse.numpy(),\n",
        "          \"mape\": mape.numpy(),\n",
        "          \"mase\": mase.numpy()}"
      ],
      "metadata": {
        "id": "cBQwpYjG_vgS"
      },
      "execution_count": 151,
      "outputs": []
    },
    {
      "cell_type": "code",
      "source": [
        "naive_results = evaluate_preds(y_true=y_test[1:], y_pred=naive_forecast)\n",
        "naive_results"
      ],
      "metadata": {
        "colab": {
          "base_uri": "https://localhost:8080/"
        },
        "id": "EphIEw4WChPC",
        "outputId": "84a5948e-be97-4e3e-bc04-0f25f3eb36fd"
      },
      "execution_count": 152,
      "outputs": [
        {
          "output_type": "execute_result",
          "data": {
            "text/plain": [
              "{'mae': 567.9802,\n",
              " 'mape': 2.5165248,\n",
              " 'mase': 0.99957,\n",
              " 'mse': 1147547.0,\n",
              " 'rmse': 1071.2362}"
            ]
          },
          "metadata": {},
          "execution_count": 152
        }
      ]
    },
    {
      "cell_type": "markdown",
      "source": [
        "\n",
        "Taking a look at the naïve forecast's MAE, it seems on average each forecast is ~$567 different than the actual Bitcoin price.\n",
        "\n",
        "How does this compare to the average price of Bitcoin in the test dataset?"
      ],
      "metadata": {
        "id": "PIdnwKWWD3IP"
      }
    },
    {
      "cell_type": "code",
      "source": [
        "tf.reduce_mean(y_test) # Average price"
      ],
      "metadata": {
        "colab": {
          "base_uri": "https://localhost:8080/"
        },
        "id": "G5Fbj1HcCirV",
        "outputId": "3e7198af-082d-4f84-d33d-f71bffb90987"
      },
      "execution_count": 153,
      "outputs": [
        {
          "output_type": "execute_result",
          "data": {
            "text/plain": [
              "<tf.Tensor: shape=(), dtype=float64, numpy=20056.632963737226>"
            ]
          },
          "metadata": {},
          "execution_count": 153
        }
      ]
    },
    {
      "cell_type": "markdown",
      "source": [
        "Okay, looking at these two values is starting to give us an idea of how our model is performing:\n",
        "* The average price of Bitcoin in the test dataset is: $20,056 (note: average may not be the best measure here, since the highest price is over 3x this value and the lowest price is over 4x lower)\n",
        "\n",
        "* Each prediction in naive forecast is on average off by: $567\n",
        "\n",
        "Is this enough to say it's a good model?\n",
        "\n",
        "That's up your own interpretation. Personally, I'd prefer a model which was closer to the mark.\n",
        "\n",
        "How about we try and build one?\n"
      ],
      "metadata": {
        "id": "iESciInhDjho"
      }
    },
    {
      "cell_type": "markdown",
      "source": [
        "## Other kinds of time series forecasting models which can be used for baselines and actual forecasts\n",
        "\n",
        "Since we've got a naïve forecast baseline to work with, it's time we start building models to try and beat it.\n",
        "\n",
        "And because this course is focused on TensorFlow and deep learning, we're going to be using TensorFlow to build deep learning models to try and improve on our naïve forecasting results.\n",
        "\n",
        "That being said, there are many other kinds of models you may want to look into for building baselines/performing forecasts.\n",
        "\n",
        "Some of them may even beat our best performing models in this notebook, however, I'll leave trying them out for extra-curriculum.\n",
        "\n",
        "| **Model/Library Name** | **Resource** |\n",
        "| ----- | ----- |\n",
        "| Moving average | https://machinelearningmastery.com/moving-average-smoothing-for-time-series-forecasting-python/ |\n",
        "| ARIMA (Autoregression Integrated Moving Average) | https://machinelearningmastery.com/arima-for-time-series-forecasting-with-python/ |\n",
        "| sktime (Scikit-Learn for time series) | https://github.com/alan-turing-institute/sktime |\n",
        "| TensorFlow Decision Forests (random forest, gradient boosting trees) | https://www.tensorflow.org/decision_forests |\n",
        "| Facebook Kats (purpose-built forecasting and time series analysis library by Facebook) | https://github.com/facebookresearch/Kats | \n",
        "| LinkedIn Greykite (flexible, intuitive and fast forecasts) | https://github.com/linkedin/greykite |"
      ],
      "metadata": {
        "id": "kGAVc_9qD5aV"
      }
    },
    {
      "cell_type": "markdown",
      "source": [
        "## Format Data Part 2: Windowing dataset\n",
        "\n",
        "Surely we'd be ready to start building models by now?\n",
        "\n",
        "We're so close! Only one more step (really two) to go.\n",
        "\n",
        "We've got to window our time series.\n",
        "\n",
        "Why do we window?\n",
        "\n",
        "Windowing is a method to turn a time series dataset into **supervised learning problem**. \n",
        "\n",
        "In other words, we want to use windows of the past to predict the future.\n",
        "\n",
        "For example for a univariate time series, windowing for one week (`window=7`) to predict the next single value (`horizon=1`) might look like:\n",
        "\n",
        "```\n",
        "Window for one week (univariate time series)\n",
        "\n",
        "[0, 1, 2, 3, 4, 5, 6] -> [7]\n",
        "[1, 2, 3, 4, 5, 6, 7] -> [8]\n",
        "[2, 3, 4, 5, 6, 7, 8] -> [9]\n",
        "```\n",
        "\n",
        "Or for the price of Bitcoin, it'd look like:\n",
        "\n",
        "```\n",
        "Window for one week with the target of predicting the next day (Bitcoin prices)\n",
        "\n",
        "[123.654, 125.455, 108.584, 118.674, 121.338, 120.655, 121.795] -> [123.033]\n",
        "[125.455, 108.584, 118.674, 121.338, 120.655, 121.795, 123.033] -> [124.049]\n",
        "[108.584, 118.674, 121.338, 120.655, 121.795, 123.033, 124.049] -> [125.961]\n",
        "```\n",
        "\n",
        "![windows and horizons for turning time series data into a supervised learning problem](https://raw.githubusercontent.com/mrdbourke/tensorflow-deep-learning/main/images/10-time-series-windows-and-horizons.png)\n",
        "*Example of windows and horizons for Bitcoin data. Windowing can be used to turn time series data into a supervised learning problem.*\n",
        "\n",
        "Let's build some functions which take in a univariate time series and turn it into windows and horizons of specified sizes.\n",
        "\n",
        "We'll start with the default horizon size of 1 and a window size of 7 (these aren't necessarily the best values to use, I've just picked them)."
      ],
      "metadata": {
        "id": "CNt9KTyOD7PN"
      }
    },
    {
      "cell_type": "code",
      "source": [
        "print(f\"We want to use window size of 7: {btc_price[:7]} to predict this: {btc_price[7]}\")"
      ],
      "metadata": {
        "colab": {
          "base_uri": "https://localhost:8080/"
        },
        "id": "byXUzMiv1DWa",
        "outputId": "8363dfc1-ddcb-47b5-9ad3-0cd1aed6c518"
      },
      "execution_count": 154,
      "outputs": [
        {
          "output_type": "stream",
          "name": "stdout",
          "text": [
            "We want to use window size of 7: [123.65499, 125.455, 108.58483, 118.67466, 121.33866, 120.65533, 121.795] to predict this: 123.033\n"
          ]
        }
      ]
    },
    {
      "cell_type": "code",
      "source": [
        "# Setup global variables for window and horizon size\n",
        "HORIZON = 1 # predict next 1 dey\n",
        "WINDOW_SIZE = 7 # Use the past week of btc data to make the prediction"
      ],
      "metadata": {
        "id": "ZqlzrLFF1GDr"
      },
      "execution_count": 155,
      "outputs": []
    },
    {
      "cell_type": "code",
      "source": [
        "# Create function to label windowed data\n",
        "def get_labelled_windows(x, horizon=HORIZON):\n",
        "  \"\"\"\n",
        "  Creates labels for windowed dataset.\n",
        "\n",
        "  E.g. if horizon=1 (default)\n",
        "  Input: [0, 1, 2, 3, 4, 5, 6, 7] -> Output: ([0, 1, 2, 3, 4, 5, 6], [7])\n",
        "  \"\"\"\n",
        "  return x[:, :-horizon], x[:, -horizon:]"
      ],
      "metadata": {
        "id": "7kchGyC32Ly4"
      },
      "execution_count": 156,
      "outputs": []
    },
    {
      "cell_type": "code",
      "source": [
        "# Test out the window labelling function\n",
        "test_window, test_label = get_labelled_windows(tf.expand_dims(tf.range(8) + 1, axis = 0)) # +1 because its going to start from 0, but we need from 1\n",
        "print(f\"Window: {tf.squeeze(test_window).numpy()} -> Label: {tf.squeeze(test_label).numpy()}\")"
      ],
      "metadata": {
        "colab": {
          "base_uri": "https://localhost:8080/"
        },
        "id": "piyxdnlW38WP",
        "outputId": "e4761d98-ec9f-43ad-fcad-450d62d97e47"
      },
      "execution_count": 157,
      "outputs": [
        {
          "output_type": "stream",
          "name": "stdout",
          "text": [
            "Window: [1 2 3 4 5 6 7] -> Label: 8\n"
          ]
        }
      ]
    },
    {
      "cell_type": "code",
      "source": [
        "test_window"
      ],
      "metadata": {
        "colab": {
          "base_uri": "https://localhost:8080/"
        },
        "id": "rlxmD1VSYFXU",
        "outputId": "24605710-ce4d-42b8-8fce-967dcae2310a"
      },
      "execution_count": 158,
      "outputs": [
        {
          "output_type": "execute_result",
          "data": {
            "text/plain": [
              "<tf.Tensor: shape=(1, 7), dtype=int32, numpy=array([[1, 2, 3, 4, 5, 6, 7]], dtype=int32)>"
            ]
          },
          "metadata": {},
          "execution_count": 158
        }
      ]
    },
    {
      "cell_type": "code",
      "source": [
        "test_label"
      ],
      "metadata": {
        "colab": {
          "base_uri": "https://localhost:8080/"
        },
        "id": "rX4CxZXKYGvM",
        "outputId": "0d5a9267-1c06-4c35-da22-d827b54ae8cc"
      },
      "execution_count": 159,
      "outputs": [
        {
          "output_type": "execute_result",
          "data": {
            "text/plain": [
              "<tf.Tensor: shape=(1, 1), dtype=int32, numpy=array([[8]], dtype=int32)>"
            ]
          },
          "metadata": {},
          "execution_count": 159
        }
      ]
    },
    {
      "cell_type": "code",
      "source": [
        "tf.expand_dims(tf.range(8), axis = 0), tf.expand_dims(tf.range(8) +1, axis = 0)"
      ],
      "metadata": {
        "colab": {
          "base_uri": "https://localhost:8080/"
        },
        "id": "AWpt0SX34XVy",
        "outputId": "c1847e40-0914-4b83-ff23-182e1e613e0f"
      },
      "execution_count": 160,
      "outputs": [
        {
          "output_type": "execute_result",
          "data": {
            "text/plain": [
              "(<tf.Tensor: shape=(1, 8), dtype=int32, numpy=array([[0, 1, 2, 3, 4, 5, 6, 7]], dtype=int32)>,\n",
              " <tf.Tensor: shape=(1, 8), dtype=int32, numpy=array([[1, 2, 3, 4, 5, 6, 7, 8]], dtype=int32)>)"
            ]
          },
          "metadata": {},
          "execution_count": 160
        }
      ]
    },
    {
      "cell_type": "markdown",
      "source": [
        "Oh yeah, that's what I'm talking about!\n",
        "\n",
        "Now we need a way to make windows for an entire time series.\n",
        "\n",
        "We could do this with Python for loops, however, for large time series, that'd be quite slow.\n",
        "\n",
        "To speed things up, we'll leverage [NumPy's array indexing](https://numpy.org/doc/stable/reference/arrays.indexing.html).\n",
        "\n",
        "Let's write a function which:\n",
        "1. Creates a window step of specific window size, for example: `[[0, 1, 2, 3, 4, 5, 6, 7]]`\n",
        "2. Uses NumPy indexing to create a 2D of multiple window steps, for example: \n",
        "```\n",
        "[[0, 1, 2, 3, 4, 5, 6, 7],\n",
        " [1, 2, 3, 4, 5, 6, 7, 8],\n",
        " [2, 3, 4, 5, 6, 7, 8, 9]]\n",
        "```\n",
        "3. Uses the 2D array of multuple window steps to index on a target series\n",
        "4. Uses the `get_labelled_windows()` function we created above to turn the window steps into windows with a specified horizon\n",
        "\n",
        "> 📖 **Resource:** The function created below has been adapted from Syafiq Kamarul Azman's article [*Fast and Robust Sliding Window Vectorization with NumPy*](https://towardsdatascience.com/fast-and-robust-sliding-window-vectorization-with-numpy-3ad950ed62f5)."
      ],
      "metadata": {
        "id": "aUcqcJ3n4ype"
      }
    },
    {
      "cell_type": "code",
      "source": [
        "import numpy as np"
      ],
      "metadata": {
        "id": "oGOSamzQaWla"
      },
      "execution_count": 161,
      "outputs": []
    },
    {
      "cell_type": "code",
      "source": [
        "# Create function to view NumPy arrays as windows \n",
        "def make_windows(x, window_size=7, horizon=1):\n",
        "  \"\"\"\n",
        "  Turns a 1D array into a 2D array of sequential windows of window_size.\n",
        "  \"\"\"\n",
        "  # 1. Create a window of specific window_size (add the horizon on the end for later labelling)\n",
        "  window_step = np.expand_dims(np.arange(window_size+horizon), axis=0)\n",
        "  # print(f\"Window step:\\n {window_step}\")\n",
        "\n",
        "  # 2. Create a 2D array of multiple window steps (minus 1 to account for 0 indexing)\n",
        "  window_indexes = window_step + np.expand_dims(np.arange(len(x)-(window_size+horizon-1)), axis=0).T # create 2D array of windows of size window_size. .T for transposing\n",
        "  # print(f\"Window indexes:\\n {window_indexes[:3], window_indexes[-3:], window_indexes.shape}\")\n",
        "\n",
        "  # 3. Index on the target array (time series) with 2D array of multiple window steps\n",
        "  windowed_array = x[window_indexes]\n",
        "  # print(windowed_array)\n",
        "\n",
        "  # 4. Get the labelled windows\n",
        "  windows, labels = get_labelled_windows(windowed_array, horizon=horizon)\n",
        "\n",
        "  return windows, labels"
      ],
      "metadata": {
        "id": "dMEAeP-J40uJ"
      },
      "execution_count": 162,
      "outputs": []
    },
    {
      "cell_type": "code",
      "source": [
        "# np.arange(7+1)"
      ],
      "metadata": {
        "id": "1Q9yjwfDasep"
      },
      "execution_count": 163,
      "outputs": []
    },
    {
      "cell_type": "code",
      "source": [
        "# window_step = np.expand_dims(np.arange(7+1), axis=0)\n",
        "# print(f\"Window step:\\n {window_step}\")"
      ],
      "metadata": {
        "id": "xTau9cyZZZk0"
      },
      "execution_count": 164,
      "outputs": []
    },
    {
      "cell_type": "code",
      "source": [
        "# window_indexes = window_step + np.expand_dims(np.arange(len(prices)-(7 + 1 - 1)), axis=0).T # create 2D array of windows of size window_size\n",
        "# print(f\"Window indexes:\\n {window_indexes[:3], window_indexes[-3:], window_indexes.shape}\")"
      ],
      "metadata": {
        "id": "pf2jypdSZoZ1"
      },
      "execution_count": 165,
      "outputs": []
    },
    {
      "cell_type": "code",
      "source": [
        "# tf.expand_dims(tf.range(8) + 1, axis = 0)"
      ],
      "metadata": {
        "id": "4Gk7oTDNamrf"
      },
      "execution_count": 166,
      "outputs": []
    },
    {
      "cell_type": "code",
      "source": [
        "# window_step + np.expand_dims(np.arange(len(prices)-(7 + 1 - 1)), axis=0).T"
      ],
      "metadata": {
        "id": "N3cLGBZIam3k"
      },
      "execution_count": 167,
      "outputs": []
    },
    {
      "cell_type": "code",
      "source": [
        ""
      ],
      "metadata": {
        "id": "Gz9mbQHMhhJP"
      },
      "execution_count": 167,
      "outputs": []
    },
    {
      "cell_type": "code",
      "source": [
        "full_windows, full_labels = make_windows(x=prices)\n",
        "len(full_windows), len(full_labels)"
      ],
      "metadata": {
        "colab": {
          "base_uri": "https://localhost:8080/"
        },
        "id": "2AFvwlJGmJEc",
        "outputId": "6cc29688-5fb4-4eeb-f334-81b94eebebe8"
      },
      "execution_count": 168,
      "outputs": [
        {
          "output_type": "execute_result",
          "data": {
            "text/plain": [
              "(2780, 2780)"
            ]
          },
          "metadata": {},
          "execution_count": 168
        }
      ]
    },
    {
      "cell_type": "code",
      "source": [
        "full_windows, full_labels"
      ],
      "metadata": {
        "colab": {
          "base_uri": "https://localhost:8080/"
        },
        "id": "mvIT_tVcmNlg",
        "outputId": "f13b4a2c-df58-40f5-e3d3-a9e4585ef59c"
      },
      "execution_count": 169,
      "outputs": [
        {
          "output_type": "execute_result",
          "data": {
            "text/plain": [
              "(array([[  123.65499   ,   125.455     ,   108.58483   , ...,\n",
              "           121.33866   ,   120.65533   ,   121.795     ],\n",
              "        [  125.455     ,   108.58483   ,   118.67466   , ...,\n",
              "           120.65533   ,   121.795     ,   123.033     ],\n",
              "        [  108.58483   ,   118.67466   ,   121.33866   , ...,\n",
              "           121.795     ,   123.033     ,   124.049     ],\n",
              "        ...,\n",
              "        [58788.20967893, 58102.19142623, 55715.54665129, ...,\n",
              "         52147.82118698, 49764.1320816 , 50032.69313676],\n",
              "        [58102.19142623, 55715.54665129, 56573.5554719 , ...,\n",
              "         49764.1320816 , 50032.69313676, 47885.62525472],\n",
              "        [55715.54665129, 56573.5554719 , 52147.82118698, ...,\n",
              "         50032.69313676, 47885.62525472, 45604.61575361]]),\n",
              " array([[  123.033     ],\n",
              "        [  124.049     ],\n",
              "        [  125.96116   ],\n",
              "        ...,\n",
              "        [47885.62525472],\n",
              "        [45604.61575361],\n",
              "        [43144.47129086]]))"
            ]
          },
          "metadata": {},
          "execution_count": 169
        }
      ]
    },
    {
      "cell_type": "code",
      "source": [
        "# View the first 3 windows/labels\n",
        "for i in range(3):\n",
        "  print(f\"Window: {full_windows[i]} -> Label: {full_labels[i]}\")"
      ],
      "metadata": {
        "colab": {
          "base_uri": "https://localhost:8080/"
        },
        "id": "GTYztYRam92i",
        "outputId": "868887b6-11ba-4c51-d82a-32463e093e98"
      },
      "execution_count": 170,
      "outputs": [
        {
          "output_type": "stream",
          "name": "stdout",
          "text": [
            "Window: [123.65499 125.455   108.58483 118.67466 121.33866 120.65533 121.795  ] -> Label: [123.033]\n",
            "Window: [125.455   108.58483 118.67466 121.33866 120.65533 121.795   123.033  ] -> Label: [124.049]\n",
            "Window: [108.58483 118.67466 121.33866 120.65533 121.795   123.033   124.049  ] -> Label: [125.96116]\n"
          ]
        }
      ]
    },
    {
      "cell_type": "code",
      "source": [
        "# View the last 3 windows/labels\n",
        "for i in range(3):\n",
        "  print(f\"Window: {full_windows[i-3]} -> Label: {full_labels[i-3]}\")"
      ],
      "metadata": {
        "colab": {
          "base_uri": "https://localhost:8080/"
        },
        "id": "lv9pwYmunL9o",
        "outputId": "fdbe94e3-3aaa-493f-cd20-66961b49e780"
      },
      "execution_count": 171,
      "outputs": [
        {
          "output_type": "stream",
          "name": "stdout",
          "text": [
            "Window: [58788.20967893 58102.19142623 55715.54665129 56573.5554719\n",
            " 52147.82118698 49764.1320816  50032.69313676] -> Label: [47885.62525472]\n",
            "Window: [58102.19142623 55715.54665129 56573.5554719  52147.82118698\n",
            " 49764.1320816  50032.69313676 47885.62525472] -> Label: [45604.61575361]\n",
            "Window: [55715.54665129 56573.5554719  52147.82118698 49764.1320816\n",
            " 50032.69313676 47885.62525472 45604.61575361] -> Label: [43144.47129086]\n"
          ]
        }
      ]
    },
    {
      "cell_type": "markdown",
      "source": [
        "> 🔑 **Note:** You can find a function which achieves similar results to the ones we implemented above at [`tf.keras.preprocessing.timeseries_dataset_from_array()`](https://www.tensorflow.org/api_docs/python/tf/keras/preprocessing/timeseries_dataset_from_array). Just like ours, it takes in an array and returns a windowed dataset. It has the benefit of returning data in the form of a tf.data.Dataset instance (we'll see how to do this with our own data later).\n",
        "\n",
        "## Turning windows into training and test sets \n",
        "\n",
        "Time to turn our windows into training and test splits.\n",
        "\n",
        "We could've windowed our existing training and test splits, however, with the nature of windowing (windowing often requires an offset at some point in the data), it usually works better to window the data first, then split it into training and test sets.\n",
        "\n",
        "Let's write a function which takes in full sets of windows and their labels and splits them into train and test splits."
      ],
      "metadata": {
        "id": "6fMHXIGhnv1p"
      }
    },
    {
      "cell_type": "code",
      "source": [
        "full_windows[:5], full_labels[:5]"
      ],
      "metadata": {
        "colab": {
          "base_uri": "https://localhost:8080/"
        },
        "id": "Y5po7uz_KGCS",
        "outputId": "9e4e41a9-2ec3-4842-e84b-6bd48fae1e5c"
      },
      "execution_count": 172,
      "outputs": [
        {
          "output_type": "execute_result",
          "data": {
            "text/plain": [
              "(array([[123.65499, 125.455  , 108.58483, 118.67466, 121.33866, 120.65533,\n",
              "         121.795  ],\n",
              "        [125.455  , 108.58483, 118.67466, 121.33866, 120.65533, 121.795  ,\n",
              "         123.033  ],\n",
              "        [108.58483, 118.67466, 121.33866, 120.65533, 121.795  , 123.033  ,\n",
              "         124.049  ],\n",
              "        [118.67466, 121.33866, 120.65533, 121.795  , 123.033  , 124.049  ,\n",
              "         125.96116],\n",
              "        [121.33866, 120.65533, 121.795  , 123.033  , 124.049  , 125.96116,\n",
              "         125.27966]]), array([[123.033  ],\n",
              "        [124.049  ],\n",
              "        [125.96116],\n",
              "        [125.27966],\n",
              "        [125.9275 ]]))"
            ]
          },
          "metadata": {},
          "execution_count": 172
        }
      ]
    },
    {
      "cell_type": "code",
      "source": [
        "# Make the train/test splits\n",
        "def make_train_test_splits(windows, labels, test_split=0.2):\n",
        "  \"\"\"\n",
        "  Splits matching pairs of windows and labels into train and test splits.\n",
        "  \"\"\"\n",
        "  split_size = int(len(windows) * (1 - test_split)) # this will default to 80% train/20% test\n",
        "  train_windows = windows[:split_size]\n",
        "  train_labels = labels[:split_size]\n",
        "  test_windows = windows[split_size:]\n",
        "  test_labels = labels[split_size:]\n",
        "\n",
        "  return train_windows, test_windows, train_labels, test_labels"
      ],
      "metadata": {
        "id": "IxnqFg5SU8iP"
      },
      "execution_count": 173,
      "outputs": []
    },
    {
      "cell_type": "code",
      "source": [
        "# Create train and test windos\n",
        "train_windows, test_windows, train_labels, test_labels = make_train_test_splits(full_windows, full_labels)\n",
        "len(train_windows), len(test_windows), len(train_labels), len(test_labels)"
      ],
      "metadata": {
        "colab": {
          "base_uri": "https://localhost:8080/"
        },
        "id": "Xys0F45KIE56",
        "outputId": "1d2b6f93-5563-4c65-dcc7-81bad9b8c531"
      },
      "execution_count": 174,
      "outputs": [
        {
          "output_type": "execute_result",
          "data": {
            "text/plain": [
              "(2224, 556, 2224, 556)"
            ]
          },
          "metadata": {},
          "execution_count": 174
        }
      ]
    },
    {
      "cell_type": "code",
      "source": [
        "len(full_windows) * 0.8"
      ],
      "metadata": {
        "colab": {
          "base_uri": "https://localhost:8080/"
        },
        "id": "DU1rAZsLIuU2",
        "outputId": "7c074a70-a68f-46d2-8584-09b3a9e19c04"
      },
      "execution_count": 175,
      "outputs": [
        {
          "output_type": "execute_result",
          "data": {
            "text/plain": [
              "2224.0"
            ]
          },
          "metadata": {},
          "execution_count": 175
        }
      ]
    },
    {
      "cell_type": "code",
      "source": [
        "print(train_windows[:5]) \n",
        "print()\n",
        "print(train_labels[:5])"
      ],
      "metadata": {
        "colab": {
          "base_uri": "https://localhost:8080/"
        },
        "id": "Cw5GxljyIyzs",
        "outputId": "e57bb19a-b85a-424f-8787-98ad9b4cfb47"
      },
      "execution_count": 176,
      "outputs": [
        {
          "output_type": "stream",
          "name": "stdout",
          "text": [
            "[[123.65499 125.455   108.58483 118.67466 121.33866 120.65533 121.795  ]\n",
            " [125.455   108.58483 118.67466 121.33866 120.65533 121.795   123.033  ]\n",
            " [108.58483 118.67466 121.33866 120.65533 121.795   123.033   124.049  ]\n",
            " [118.67466 121.33866 120.65533 121.795   123.033   124.049   125.96116]\n",
            " [121.33866 120.65533 121.795   123.033   124.049   125.96116 125.27966]]\n",
            "\n",
            "[[123.033  ]\n",
            " [124.049  ]\n",
            " [125.96116]\n",
            " [125.27966]\n",
            " [125.9275 ]]\n"
          ]
        }
      ]
    },
    {
      "cell_type": "code",
      "source": [
        "print(test_windows[:5]) \n",
        "print()\n",
        "print(test_labels[:5])"
      ],
      "metadata": {
        "colab": {
          "base_uri": "https://localhost:8080/"
        },
        "id": "BTYkm2KKI620",
        "outputId": "c12c6f5a-dcbd-4445-f245-008a78763bb6"
      },
      "execution_count": 177,
      "outputs": [
        {
          "output_type": "stream",
          "name": "stdout",
          "text": [
            "[[9290.89660239 9202.41545055 9369.62808116 9326.59962378 9335.75240233\n",
            "  9226.48582088 8794.35864452]\n",
            " [9202.41545055 9369.62808116 9326.59962378 9335.75240233 9226.48582088\n",
            "  8794.35864452 8798.04205463]\n",
            " [9369.62808116 9326.59962378 9335.75240233 9226.48582088 8794.35864452\n",
            "  8798.04205463 9081.18687849]\n",
            " [9326.59962378 9335.75240233 9226.48582088 8794.35864452 8798.04205463\n",
            "  9081.18687849 8711.53433917]\n",
            " [9335.75240233 9226.48582088 8794.35864452 8798.04205463 9081.18687849\n",
            "  8711.53433917 8760.89271814]]\n",
            "\n",
            "[[8798.04205463]\n",
            " [9081.18687849]\n",
            " [8711.53433917]\n",
            " [8760.89271814]\n",
            " [8749.52059102]]\n"
          ]
        }
      ]
    },
    {
      "cell_type": "code",
      "source": [
        "# Check to see if train labels are the same (before and after label split) \n",
        "# Check to see if same (accounting for horizon and window size)\n",
        "np.array_equal(np.squeeze(train_labels[:-HORIZON-1]), y_train[WINDOW_SIZE:]) # array_equal - comparing 2 arrays"
      ],
      "metadata": {
        "colab": {
          "base_uri": "https://localhost:8080/"
        },
        "id": "4BgvgvtmJBeI",
        "outputId": "4d5b8043-8a01-4929-fcc6-4295f90826ff"
      },
      "execution_count": 178,
      "outputs": [
        {
          "output_type": "execute_result",
          "data": {
            "text/plain": [
              "True"
            ]
          },
          "metadata": {},
          "execution_count": 178
        }
      ]
    },
    {
      "cell_type": "code",
      "source": [
        "train_labels[:5].shape, np.squeeze(train_labels[:5]).shape"
      ],
      "metadata": {
        "colab": {
          "base_uri": "https://localhost:8080/"
        },
        "id": "kkkkEO43Jw1R",
        "outputId": "bae454e4-25d6-4db9-e667-a1fe799c2e29"
      },
      "execution_count": 179,
      "outputs": [
        {
          "output_type": "execute_result",
          "data": {
            "text/plain": [
              "((5, 1), (5,))"
            ]
          },
          "metadata": {},
          "execution_count": 179
        }
      ]
    },
    {
      "cell_type": "markdown",
      "source": [
        "## Make a modelling checkpoint callback\n",
        "\n",
        "We're so close to building models.\n",
        "\n",
        "Because our model's performance will fluctuate from experiment to experiment, we'll want to make sure we're comparing apples to apples.\n",
        "\n",
        "What I mean by this is in order for a fair comparison, we want to compare each model's best performance against each model's best performance.\n",
        "\n",
        "For example, if `model_1` performed incredibly well on epoch 55 but its performance fell off toward epoch 100, we want the version of the model from epoch 55 to compare to other models rather than the version of the model from epoch 100.\n",
        "\n",
        "And the same goes for each of our other models: compare the best against the best.\n",
        "\n",
        "To take of this, we'll implement a [`ModelCheckpoint`](https://www.tensorflow.org/api_docs/python/tf/keras/callbacks/ModelCheckpoint) callback.\n",
        "\n",
        "The `ModelCheckpoint` callback will monitor our model's performance during training and save the best model to file by setting `save_best_only=True`.\n",
        "\n",
        "That way when evaluating our model we could restore its best performing configuration from file.\n",
        "\n",
        "> 🔑 **Note:** Because of the size of the dataset (smaller than usual), you'll notice our modelling experiment results fluctuate quite a bit during training (hence the implementation of the `ModelCheckpoint` callback to save the best model).\n",
        "\n",
        "Because we're going to be running multiple experiments, it makes sense to keep track of them by saving models to file under different names.\n",
        "\n",
        "To do this, we'll write a small function to create a `ModelCheckpoint` callback which saves a model to specified filename."
      ],
      "metadata": {
        "id": "-Bit_auCKF5a"
      }
    },
    {
      "cell_type": "code",
      "source": [
        "import os\n",
        "\n",
        "# Create a function to implment a ModelCheckpoint callback with a specific filename\n",
        "def create_model_checkpoint(model_name, save_path=\"model_experiments\"):\n",
        "  return tf.keras.callbacks.ModelCheckpoint(filepath=os.path.join(save_path, model_name),\n",
        "                                            monitor=\"val_loss\",\n",
        "                                            verbose=0, #only output a limited amount of text\n",
        "                                            save_best_only=True)"
      ],
      "metadata": {
        "id": "K6RAPq87Kl4M"
      },
      "execution_count": 180,
      "outputs": []
    },
    {
      "cell_type": "markdown",
      "source": [
        "## Model 1: Dense model (window = 7, horizon = 1)\n",
        "\n",
        "Time to build one of our models.\n",
        "\n",
        "If you think we've been through a fair bit of preprocessing before getting here, you're right.\n",
        "\n",
        "Often, preparing data for a model is one of the largest parts of any machine learning project.\n",
        "\n",
        "And once you've got a good model in place, you'll probably notice far more improvements from manipulating the data (e.g. collecting more, improving the quality) than manipulating the model.\n",
        "\n",
        "We're going to start by keeping it simple, `model_1` will have:\n",
        "* A single dense layer with 128 hidden units and ReLU (rectified linear unit) activation\n",
        "* An output layer with linear activation (or no activation)\n",
        "* Adam optimizer and MAE loss function\n",
        "* Batch size of 128 (previosly we've used 32)\n",
        "* 100 epochs\n",
        "\n",
        "Why these values?\n",
        "\n",
        "I picked them out of experimentation. \n",
        "\n",
        "A batch size of 32 works pretty well too and we could always train for less epochs but since the model runs so fast (you'll see in a second, it's because the number of samples we have isn't massive) we might as well train for more.\n",
        "\n",
        "> 🔑 **Note:** As always, many of the values for machine learning problems are experimental. A reminder that the values you can set yourself in a machine learning algorithm (the hidden units, the batch size, horizon size, window size) are called [**hyperparameters**](https://en.wikipedia.org/wiki/Hyperparameter_(machine_learning). And experimenting to find the best values for hyperparameters is called **hyperparameter tuning**. Where as parameters learned by a model itself (patterns in the data, formally called weights & biases) are referred to as **parameters**.\n",
        "\n",
        "Let's import TensorFlow and build our first deep learning model for time series."
      ],
      "metadata": {
        "id": "cqq8ok-ARZ0s"
      }
    },
    {
      "cell_type": "code",
      "source": [
        "import tensorflow as tf\n",
        "from tensorflow.keras import layers\n",
        "\n",
        "# Set random seed for as reproducible results as possible\n",
        "tf.random.set_seed(42)\n",
        "\n",
        "# 1. Construct model\n",
        "model_1 = tf.keras.Sequential([\n",
        "                               layers.Dense(128, activation=\"relu\"),\n",
        "                               layers.Dense(HORIZON, activation=\"linear\") # linear activation is the same as having no activation                        \n",
        "], name=\"model_1_dense\") # give the model a name so we can save it\n",
        "\n",
        "\n",
        "# 2. Compile a model\n",
        "model_1.compile(loss=\"mae\",\n",
        "                optimizer=tf.keras.optimizers.Adam(),\n",
        "                metrics=[\"mae\", \"mse\"]) # we don't necessarily need this when the loss function is already MAE\n",
        "\n",
        "# 3. Fit the model\n",
        "model_1.fit(x=train_windows,# train windows of 7 timesteps of Bitcoin prices\n",
        "            y=train_labels, # horizon value of 1 (using the previous 7 timesteps to predict next day)\n",
        "            epochs=100,\n",
        "            verbose=1,\n",
        "            batch_size=128,\n",
        "            validation_data=(test_windows, test_labels),\n",
        "            callbacks=[create_model_checkpoint(model_name=model_1.name)]) # create ModelCheckpoint callback to save best model"
      ],
      "metadata": {
        "colab": {
          "base_uri": "https://localhost:8080/"
        },
        "id": "hRq2mDGUW3Om",
        "outputId": "6d63f31f-a130-4690-b895-a369dcf74e41"
      },
      "execution_count": 181,
      "outputs": [
        {
          "output_type": "stream",
          "name": "stdout",
          "text": [
            "Epoch 1/100\n",
            " 1/18 [>.............................] - ETA: 7s - loss: 2111.0571 - mae: 2111.0571 - mse: 9255782.0000INFO:tensorflow:Assets written to: model_experiments/model_1_dense/assets\n",
            "18/18 [==============================] - 1s 41ms/step - loss: 780.3469 - mae: 780.3469 - mse: 2312739.0000 - val_loss: 2279.5828 - val_mae: 2279.5828 - val_mse: 12772095.0000\n",
            "Epoch 2/100\n",
            " 1/18 [>.............................] - ETA: 0s - loss: 348.8778 - mae: 348.8778 - mse: 600780.0625INFO:tensorflow:Assets written to: model_experiments/model_1_dense/assets\n",
            "18/18 [==============================] - 1s 33ms/step - loss: 247.6765 - mae: 247.6765 - mse: 285480.9062 - val_loss: 1005.9864 - val_mae: 1005.9864 - val_mse: 3441759.2500\n",
            "Epoch 3/100\n",
            " 1/18 [>.............................] - ETA: 0s - loss: 134.4844 - mae: 134.4844 - mse: 70764.6719INFO:tensorflow:Assets written to: model_experiments/model_1_dense/assets\n",
            "18/18 [==============================] - 1s 33ms/step - loss: 188.4107 - mae: 188.4107 - mse: 171890.0312 - val_loss: 923.2859 - val_mae: 923.2859 - val_mse: 2868195.0000\n",
            "Epoch 4/100\n",
            " 1/18 [>.............................] - ETA: 0s - loss: 211.3675 - mae: 211.3675 - mse: 238008.8438INFO:tensorflow:Assets written to: model_experiments/model_1_dense/assets\n",
            "18/18 [==============================] - 1s 36ms/step - loss: 169.4334 - mae: 169.4334 - mse: 151699.4375 - val_loss: 900.5932 - val_mae: 900.5932 - val_mse: 2683713.7500\n",
            "Epoch 5/100\n",
            " 1/18 [>.............................] - ETA: 0s - loss: 155.7283 - mae: 155.7283 - mse: 88121.3516INFO:tensorflow:Assets written to: model_experiments/model_1_dense/assets\n",
            "18/18 [==============================] - 1s 36ms/step - loss: 165.0900 - mae: 165.0900 - mse: 145490.8750 - val_loss: 895.2405 - val_mae: 895.2405 - val_mse: 2564606.2500\n",
            "Epoch 6/100\n",
            " 1/18 [>.............................] - ETA: 0s - loss: 117.3697 - mae: 117.3697 - mse: 55148.2188INFO:tensorflow:Assets written to: model_experiments/model_1_dense/assets\n",
            "18/18 [==============================] - 1s 34ms/step - loss: 158.5206 - mae: 158.5206 - mse: 133816.7969 - val_loss: 855.1868 - val_mae: 855.1868 - val_mse: 2481815.5000\n",
            "Epoch 7/100\n",
            " 1/18 [>.............................] - ETA: 0s - loss: 180.3330 - mae: 180.3330 - mse: 241586.2188INFO:tensorflow:Assets written to: model_experiments/model_1_dense/assets\n",
            "18/18 [==============================] - 1s 32ms/step - loss: 151.3568 - mae: 151.3568 - mse: 123446.8047 - val_loss: 840.9290 - val_mae: 840.9290 - val_mse: 2276476.2500\n",
            "Epoch 8/100\n",
            " 1/18 [>.............................] - ETA: 0s - loss: 121.1151 - mae: 121.1151 - mse: 58000.0117INFO:tensorflow:Assets written to: model_experiments/model_1_dense/assets\n",
            "18/18 [==============================] - 1s 52ms/step - loss: 145.2560 - mae: 145.2560 - mse: 117694.1797 - val_loss: 803.6005 - val_mae: 803.6005 - val_mse: 2140566.2500\n",
            "Epoch 9/100\n",
            " 1/18 [>.............................] - ETA: 0s - loss: 126.2221 - mae: 126.2221 - mse: 75303.3906INFO:tensorflow:Assets written to: model_experiments/model_1_dense/assets\n",
            "18/18 [==============================] - 1s 33ms/step - loss: 144.3546 - mae: 144.3546 - mse: 115269.0859 - val_loss: 799.5592 - val_mae: 799.5592 - val_mse: 2049233.7500\n",
            "Epoch 10/100\n",
            " 1/18 [>.............................] - ETA: 0s - loss: 148.4518 - mae: 148.4518 - mse: 164285.0000INFO:tensorflow:Assets written to: model_experiments/model_1_dense/assets\n",
            "18/18 [==============================] - 1s 32ms/step - loss: 141.2944 - mae: 141.2944 - mse: 112394.1953 - val_loss: 763.5060 - val_mae: 763.5060 - val_mse: 1933136.7500\n",
            "Epoch 11/100\n",
            "18/18 [==============================] - 0s 4ms/step - loss: 135.6591 - mae: 135.6591 - mse: 104117.6016 - val_loss: 771.3525 - val_mae: 771.3525 - val_mse: 1885888.2500\n",
            "Epoch 12/100\n",
            "18/18 [==============================] - 0s 4ms/step - loss: 134.1702 - mae: 134.1702 - mse: 101780.5234 - val_loss: 782.8326 - val_mae: 782.8325 - val_mse: 1881791.7500\n",
            "Epoch 13/100\n",
            "18/18 [==============================] - 0s 5ms/step - loss: 134.6014 - mae: 134.6014 - mse: 102344.3516 - val_loss: 784.4728 - val_mae: 784.4728 - val_mse: 1861070.5000\n",
            "Epoch 14/100\n",
            " 1/18 [>.............................] - ETA: 0s - loss: 136.5616 - mae: 136.5616 - mse: 78602.1875INFO:tensorflow:Assets written to: model_experiments/model_1_dense/assets\n",
            "18/18 [==============================] - 1s 34ms/step - loss: 130.6125 - mae: 130.6125 - mse: 96224.3594 - val_loss: 751.3470 - val_mae: 751.3470 - val_mse: 1749667.6250\n",
            "Epoch 15/100\n",
            " 1/18 [>.............................] - ETA: 0s - loss: 131.5395 - mae: 131.5395 - mse: 65718.7109INFO:tensorflow:Assets written to: model_experiments/model_1_dense/assets\n",
            "18/18 [==============================] - 1s 34ms/step - loss: 128.8352 - mae: 128.8352 - mse: 94306.8672 - val_loss: 696.5837 - val_mae: 696.5837 - val_mse: 1606358.6250\n",
            "Epoch 16/100\n",
            "18/18 [==============================] - 0s 5ms/step - loss: 124.8667 - mae: 124.8667 - mse: 90498.6172 - val_loss: 707.2988 - val_mae: 707.2988 - val_mse: 1602364.3750\n",
            "Epoch 17/100\n",
            "18/18 [==============================] - 0s 3ms/step - loss: 123.6096 - mae: 123.6096 - mse: 89226.7422 - val_loss: 714.2291 - val_mae: 714.2291 - val_mse: 1601816.6250\n",
            "Epoch 18/100\n",
            " 1/18 [>.............................] - ETA: 0s - loss: 138.5527 - mae: 138.5527 - mse: 97749.2969INFO:tensorflow:Assets written to: model_experiments/model_1_dense/assets\n",
            "18/18 [==============================] - 1s 34ms/step - loss: 122.3023 - mae: 122.3023 - mse: 87726.4766 - val_loss: 669.1414 - val_mae: 669.1414 - val_mse: 1498631.3750\n",
            "Epoch 19/100\n",
            "18/18 [==============================] - 0s 5ms/step - loss: 121.4932 - mae: 121.4932 - mse: 86447.8828 - val_loss: 721.5452 - val_mae: 721.5452 - val_mse: 1595832.0000\n",
            "Epoch 20/100\n",
            " 1/18 [>.............................] - ETA: 0s - loss: 135.4132 - mae: 135.4132 - mse: 101874.7344INFO:tensorflow:Assets written to: model_experiments/model_1_dense/assets\n",
            "18/18 [==============================] - 1s 34ms/step - loss: 119.2384 - mae: 119.2384 - mse: 84250.7500 - val_loss: 658.0786 - val_mae: 658.0786 - val_mse: 1448095.0000\n",
            "Epoch 21/100\n",
            " 1/18 [>.............................] - ETA: 0s - loss: 128.8736 - mae: 128.8736 - mse: 78165.1953INFO:tensorflow:Assets written to: model_experiments/model_1_dense/assets\n",
            "18/18 [==============================] - 1s 35ms/step - loss: 121.5293 - mae: 121.5293 - mse: 85926.5547 - val_loss: 638.3386 - val_mae: 638.3386 - val_mse: 1397797.1250\n",
            "Epoch 22/100\n",
            "18/18 [==============================] - 0s 5ms/step - loss: 119.3422 - mae: 119.3422 - mse: 83495.1953 - val_loss: 678.8881 - val_mae: 678.8881 - val_mse: 1465750.7500\n",
            "Epoch 23/100\n",
            "18/18 [==============================] - 0s 4ms/step - loss: 122.8203 - mae: 122.8203 - mse: 84656.3750 - val_loss: 651.8512 - val_mae: 651.8512 - val_mse: 1401081.1250\n",
            "Epoch 24/100\n",
            " 1/18 [>.............................] - ETA: 0s - loss: 125.6553 - mae: 125.6553 - mse: 80246.6953INFO:tensorflow:Assets written to: model_experiments/model_1_dense/assets\n",
            "18/18 [==============================] - 1s 33ms/step - loss: 117.0774 - mae: 117.0774 - mse: 81069.2109 - val_loss: 623.5611 - val_mae: 623.5611 - val_mse: 1362704.7500\n",
            "Epoch 25/100\n",
            " 1/18 [>.............................] - ETA: 0s - loss: 122.1502 - mae: 122.1502 - mse: 58558.1875INFO:tensorflow:Assets written to: model_experiments/model_1_dense/assets\n",
            "18/18 [==============================] - 1s 34ms/step - loss: 115.1816 - mae: 115.1816 - mse: 79065.0391 - val_loss: 618.5576 - val_mae: 618.5576 - val_mse: 1342634.1250\n",
            "Epoch 26/100\n",
            " 1/18 [>.............................] - ETA: 0s - loss: 109.7064 - mae: 109.7064 - mse: 58933.2188INFO:tensorflow:Assets written to: model_experiments/model_1_dense/assets\n",
            "18/18 [==============================] - 1s 35ms/step - loss: 115.0673 - mae: 115.0673 - mse: 78886.6484 - val_loss: 616.4918 - val_mae: 616.4918 - val_mse: 1321327.3750\n",
            "Epoch 27/100\n",
            "18/18 [==============================] - 0s 4ms/step - loss: 116.6431 - mae: 116.6431 - mse: 79058.1172 - val_loss: 619.0472 - val_mae: 619.0472 - val_mse: 1316206.6250\n",
            "Epoch 28/100\n",
            "17/18 [===========================>..] - ETA: 0s - loss: 114.1182 - mae: 114.1182 - mse: 78847.2188INFO:tensorflow:Assets written to: model_experiments/model_1_dense/assets\n",
            "18/18 [==============================] - 1s 69ms/step - loss: 114.0328 - mae: 114.0328 - mse: 77953.4609 - val_loss: 610.3879 - val_mae: 610.3879 - val_mse: 1316937.5000\n",
            "Epoch 29/100\n",
            "18/18 [==============================] - 0s 7ms/step - loss: 113.4892 - mae: 113.4892 - mse: 78513.0859 - val_loss: 617.2401 - val_mae: 617.2401 - val_mse: 1304227.6250\n",
            "Epoch 30/100\n",
            "18/18 [==============================] - ETA: 0s - loss: 116.4094 - mae: 116.4094 - mse: 78943.1484INFO:tensorflow:Assets written to: model_experiments/model_1_dense/assets\n",
            "18/18 [==============================] - 1s 59ms/step - loss: 116.4094 - mae: 116.4094 - mse: 78943.1484 - val_loss: 603.6490 - val_mae: 603.6490 - val_mse: 1283178.0000\n",
            "Epoch 31/100\n",
            "18/18 [==============================] - 0s 10ms/step - loss: 112.3454 - mae: 112.3454 - mse: 74879.3203 - val_loss: 623.4434 - val_mae: 623.4434 - val_mse: 1311036.6250\n",
            "Epoch 32/100\n",
            "14/18 [======================>.......] - ETA: 0s - loss: 116.1421 - mae: 116.1421 - mse: 81254.8359INFO:tensorflow:Assets written to: model_experiments/model_1_dense/assets\n",
            "18/18 [==============================] - 1s 63ms/step - loss: 113.2056 - mae: 113.2056 - mse: 77898.5000 - val_loss: 600.0261 - val_mae: 600.0261 - val_mse: 1271945.6250\n",
            "Epoch 33/100\n",
            "18/18 [==============================] - 0s 6ms/step - loss: 112.9529 - mae: 112.9529 - mse: 76235.3906 - val_loss: 653.0604 - val_mae: 653.0604 - val_mse: 1369885.5000\n",
            "Epoch 34/100\n",
            "11/18 [=================>............] - ETA: 0s - loss: 116.0352 - mae: 116.0352 - mse: 87088.8281 INFO:tensorflow:Assets written to: model_experiments/model_1_dense/assets\n",
            "18/18 [==============================] - 1s 75ms/step - loss: 112.1157 - mae: 112.1157 - mse: 77267.7578 - val_loss: 594.7913 - val_mae: 594.7913 - val_mse: 1263628.2500\n",
            "Epoch 35/100\n",
            "12/18 [===================>..........] - ETA: 0s - loss: 112.6088 - mae: 112.6088 - mse: 75348.0156INFO:tensorflow:Assets written to: model_experiments/model_1_dense/assets\n",
            "18/18 [==============================] - 1s 77ms/step - loss: 110.7447 - mae: 110.7447 - mse: 75067.1562 - val_loss: 592.7401 - val_mae: 592.7401 - val_mse: 1250752.6250\n",
            "Epoch 36/100\n",
            "17/18 [===========================>..] - ETA: 0s - loss: 116.5571 - mae: 116.5571 - mse: 78194.7656 INFO:tensorflow:Assets written to: model_experiments/model_1_dense/assets\n",
            "18/18 [==============================] - 2s 126ms/step - loss: 116.3301 - mae: 116.3301 - mse: 77425.8047 - val_loss: 592.4697 - val_mae: 592.4697 - val_mse: 1246067.6250\n",
            "Epoch 37/100\n",
            "18/18 [==============================] - 0s 8ms/step - loss: 110.7676 - mae: 110.7676 - mse: 75596.7188 - val_loss: 618.5350 - val_mae: 618.5350 - val_mse: 1286741.6250\n",
            "Epoch 38/100\n",
            "18/18 [==============================] - 0s 10ms/step - loss: 112.5935 - mae: 112.5935 - mse: 75636.7109 - val_loss: 613.9557 - val_mae: 613.9557 - val_mse: 1306248.2500\n",
            "Epoch 39/100\n",
            " 6/18 [=========>....................] - ETA: 0s - loss: 121.3125 - mae: 121.3125 - mse: 105612.1016INFO:tensorflow:Assets written to: model_experiments/model_1_dense/assets\n",
            "18/18 [==============================] - 1s 77ms/step - loss: 110.1321 - mae: 110.1321 - mse: 74271.8047 - val_loss: 586.6888 - val_mae: 586.6888 - val_mse: 1231217.3750\n",
            "Epoch 40/100\n",
            "18/18 [==============================] - 0s 8ms/step - loss: 109.4753 - mae: 109.4753 - mse: 73257.0078 - val_loss: 593.9153 - val_mae: 593.9153 - val_mse: 1256532.0000\n",
            "Epoch 41/100\n",
            "18/18 [==============================] - ETA: 0s - loss: 110.1777 - mae: 110.1777 - mse: 73581.0234INFO:tensorflow:Assets written to: model_experiments/model_1_dense/assets\n",
            "18/18 [==============================] - 1s 83ms/step - loss: 110.1777 - mae: 110.1777 - mse: 73581.0234 - val_loss: 586.4465 - val_mae: 586.4465 - val_mse: 1229670.8750\n",
            "Epoch 42/100\n",
            "18/18 [==============================] - 0s 12ms/step - loss: 111.5192 - mae: 111.5192 - mse: 76049.7500 - val_loss: 649.3650 - val_mae: 649.3650 - val_mse: 1345896.2500\n",
            "Epoch 43/100\n",
            "18/18 [==============================] - 0s 12ms/step - loss: 115.8939 - mae: 115.8939 - mse: 74405.6172 - val_loss: 686.8293 - val_mae: 686.8293 - val_mse: 1486392.7500\n",
            "Epoch 44/100\n",
            "18/18 [==============================] - 0s 11ms/step - loss: 123.0945 - mae: 123.0945 - mse: 83366.2891 - val_loss: 661.1304 - val_mae: 661.1304 - val_mse: 1411199.7500\n",
            "Epoch 45/100\n",
            "18/18 [==============================] - 0s 10ms/step - loss: 113.8169 - mae: 113.8169 - mse: 77100.1719 - val_loss: 626.8177 - val_mae: 626.8177 - val_mse: 1293826.5000\n",
            "Epoch 46/100\n",
            "18/18 [==============================] - 0s 16ms/step - loss: 114.0971 - mae: 114.0971 - mse: 76079.4453 - val_loss: 588.7769 - val_mae: 588.7769 - val_mse: 1238327.0000\n",
            "Epoch 47/100\n",
            "18/18 [==============================] - 0s 9ms/step - loss: 108.9936 - mae: 108.9936 - mse: 73660.3047 - val_loss: 636.0583 - val_mae: 636.0583 - val_mse: 1312960.0000\n",
            "Epoch 48/100\n",
            "18/18 [==============================] - 0s 9ms/step - loss: 109.2967 - mae: 109.2967 - mse: 73079.0703 - val_loss: 604.1586 - val_mae: 604.1586 - val_mse: 1245050.2500\n",
            "Epoch 49/100\n",
            "18/18 [==============================] - 0s 9ms/step - loss: 111.7787 - mae: 111.7787 - mse: 73888.8984 - val_loss: 591.5096 - val_mae: 591.5096 - val_mse: 1222480.7500\n",
            "Epoch 50/100\n",
            "18/18 [==============================] - 0s 7ms/step - loss: 111.7319 - mae: 111.7319 - mse: 73875.1641 - val_loss: 636.4677 - val_mae: 636.4677 - val_mse: 1341626.7500\n",
            "Epoch 51/100\n",
            "18/18 [==============================] - 0s 7ms/step - loss: 110.7498 - mae: 110.7498 - mse: 73830.9141 - val_loss: 589.2878 - val_mae: 589.2878 - val_mse: 1216414.1250\n",
            "Epoch 52/100\n",
            "18/18 [==============================] - 0s 7ms/step - loss: 111.5193 - mae: 111.5193 - mse: 75446.6875 - val_loss: 609.5289 - val_mae: 609.5289 - val_mse: 1277468.7500\n",
            "Epoch 53/100\n",
            "15/18 [========================>.....] - ETA: 0s - loss: 112.9036 - mae: 112.9036 - mse: 75474.1250INFO:tensorflow:Assets written to: model_experiments/model_1_dense/assets\n",
            "18/18 [==============================] - 1s 60ms/step - loss: 113.9868 - mae: 113.9868 - mse: 75752.9766 - val_loss: 584.7471 - val_mae: 584.7471 - val_mse: 1209497.1250\n",
            "Epoch 54/100\n",
            "15/18 [========================>.....] - ETA: 0s - loss: 111.4678 - mae: 111.4678 - mse: 74488.6641INFO:tensorflow:Assets written to: model_experiments/model_1_dense/assets\n",
            "18/18 [==============================] - 1s 68ms/step - loss: 110.1075 - mae: 110.1075 - mse: 72728.5625 - val_loss: 578.7416 - val_mae: 578.7416 - val_mse: 1200865.6250\n",
            "Epoch 55/100\n",
            "18/18 [==============================] - 0s 7ms/step - loss: 110.6423 - mae: 110.6423 - mse: 75084.4141 - val_loss: 581.5333 - val_mae: 581.5333 - val_mse: 1218268.7500\n",
            "Epoch 56/100\n",
            "18/18 [==============================] - 0s 10ms/step - loss: 107.6537 - mae: 107.6537 - mse: 71568.1328 - val_loss: 759.0189 - val_mae: 759.0189 - val_mse: 1698484.5000\n",
            "Epoch 57/100\n",
            "18/18 [==============================] - 0s 11ms/step - loss: 119.2012 - mae: 119.2012 - mse: 79652.9531 - val_loss: 603.5953 - val_mae: 603.5953 - val_mse: 1262626.7500\n",
            "Epoch 58/100\n",
            "18/18 [==============================] - 0s 8ms/step - loss: 116.4417 - mae: 116.4417 - mse: 75122.8828 - val_loss: 583.7296 - val_mae: 583.7296 - val_mse: 1206719.0000\n",
            "Epoch 59/100\n",
            "18/18 [==============================] - 0s 9ms/step - loss: 109.9014 - mae: 109.9014 - mse: 72680.9766 - val_loss: 592.8416 - val_mae: 592.8416 - val_mse: 1240090.3750\n",
            "Epoch 60/100\n",
            "18/18 [==============================] - 0s 10ms/step - loss: 107.7859 - mae: 107.7859 - mse: 72220.4922 - val_loss: 593.4969 - val_mae: 593.4969 - val_mse: 1220786.7500\n",
            "Epoch 61/100\n",
            "12/18 [===================>..........] - ETA: 0s - loss: 104.8792 - mae: 104.8792 - mse: 66606.3750INFO:tensorflow:Assets written to: model_experiments/model_1_dense/assets\n",
            "18/18 [==============================] - 1s 81ms/step - loss: 107.6960 - mae: 107.6960 - mse: 72155.8672 - val_loss: 575.5123 - val_mae: 575.5123 - val_mse: 1194018.5000\n",
            "Epoch 62/100\n",
            "18/18 [==============================] - 0s 10ms/step - loss: 107.1257 - mae: 107.1257 - mse: 70836.3438 - val_loss: 580.2645 - val_mae: 580.2645 - val_mse: 1213138.3750\n",
            "Epoch 63/100\n",
            "18/18 [==============================] - 0s 17ms/step - loss: 111.8451 - mae: 111.8451 - mse: 73612.9453 - val_loss: 654.6143 - val_mae: 654.6143 - val_mse: 1348994.2500\n",
            "Epoch 64/100\n",
            "18/18 [==============================] - 0s 10ms/step - loss: 110.3121 - mae: 110.3121 - mse: 72546.6641 - val_loss: 610.7810 - val_mae: 610.7810 - val_mse: 1251885.2500\n",
            "Epoch 65/100\n",
            "15/18 [========================>.....] - ETA: 0s - loss: 108.5728 - mae: 108.5728 - mse: 72010.2344INFO:tensorflow:Assets written to: model_experiments/model_1_dense/assets\n",
            "18/18 [==============================] - 1s 84ms/step - loss: 109.7098 - mae: 109.7098 - mse: 72575.1016 - val_loss: 573.9960 - val_mae: 573.9960 - val_mse: 1190387.3750\n",
            "Epoch 66/100\n",
            "14/18 [======================>.......] - ETA: 0s - loss: 105.6306 - mae: 105.6306 - mse: 65988.2891INFO:tensorflow:Assets written to: model_experiments/model_1_dense/assets\n",
            "18/18 [==============================] - 2s 88ms/step - loss: 106.8139 - mae: 106.8139 - mse: 70554.2734 - val_loss: 572.9989 - val_mae: 572.9989 - val_mse: 1187547.3750\n",
            "Epoch 67/100\n",
            "18/18 [==============================] - 0s 13ms/step - loss: 106.1394 - mae: 106.1394 - mse: 70026.4219 - val_loss: 602.1524 - val_mae: 602.1524 - val_mse: 1255793.1250\n",
            "Epoch 68/100\n",
            "18/18 [==============================] - 0s 6ms/step - loss: 112.9245 - mae: 112.9245 - mse: 70779.4219 - val_loss: 687.6375 - val_mae: 687.6375 - val_mse: 1476286.1250\n",
            "Epoch 69/100\n",
            "18/18 [==============================] - 0s 10ms/step - loss: 126.9916 - mae: 126.9916 - mse: 82712.0156 - val_loss: 664.9473 - val_mae: 664.9473 - val_mse: 1413700.8750\n",
            "Epoch 70/100\n",
            "18/18 [==============================] - 0s 7ms/step - loss: 124.8734 - mae: 124.8734 - mse: 83039.0547 - val_loss: 619.6686 - val_mae: 619.6686 - val_mse: 1298640.7500\n",
            "Epoch 71/100\n",
            "18/18 [==============================] - 0s 7ms/step - loss: 109.8522 - mae: 109.8522 - mse: 71643.5000 - val_loss: 582.3637 - val_mae: 582.3637 - val_mse: 1201057.1250\n",
            "Epoch 72/100\n",
            "18/18 [==============================] - 0s 9ms/step - loss: 107.6717 - mae: 107.6717 - mse: 71406.7734 - val_loss: 573.4947 - val_mae: 573.4947 - val_mse: 1192645.7500\n",
            "Epoch 73/100\n",
            "18/18 [==============================] - 0s 9ms/step - loss: 109.6036 - mae: 109.6036 - mse: 71761.6250 - val_loss: 583.9045 - val_mae: 583.9045 - val_mse: 1218967.2500\n",
            "Epoch 74/100\n",
            "12/18 [===================>..........] - ETA: 0s - loss: 108.7726 - mae: 108.7726 - mse: 73958.3516 INFO:tensorflow:Assets written to: model_experiments/model_1_dense/assets\n",
            "18/18 [==============================] - 1s 82ms/step - loss: 107.7049 - mae: 107.7049 - mse: 71542.6094 - val_loss: 572.9933 - val_mae: 572.9933 - val_mse: 1189806.3750\n",
            "Epoch 75/100\n",
            "18/18 [==============================] - 0s 8ms/step - loss: 108.1179 - mae: 108.1179 - mse: 70535.7969 - val_loss: 583.9372 - val_mae: 583.9372 - val_mse: 1199156.5000\n",
            "Epoch 76/100\n",
            "18/18 [==============================] - 0s 12ms/step - loss: 109.5447 - mae: 109.5447 - mse: 71991.1328 - val_loss: 592.8235 - val_mae: 592.8235 - val_mse: 1234671.6250\n",
            "Epoch 77/100\n",
            "18/18 [==============================] - 0s 9ms/step - loss: 108.3639 - mae: 108.3639 - mse: 70784.8125 - val_loss: 575.4260 - val_mae: 575.4260 - val_mse: 1197659.8750\n",
            "Epoch 78/100\n",
            "18/18 [==============================] - 0s 12ms/step - loss: 108.0055 - mae: 108.0055 - mse: 70093.0234 - val_loss: 574.3941 - val_mae: 574.3941 - val_mse: 1193026.1250\n",
            "Epoch 79/100\n",
            "18/18 [==============================] - 0s 13ms/step - loss: 107.3223 - mae: 107.3223 - mse: 71654.6562 - val_loss: 597.2478 - val_mae: 597.2478 - val_mse: 1242042.0000\n",
            "Epoch 80/100\n",
            "18/18 [==============================] - 0s 9ms/step - loss: 108.1452 - mae: 108.1452 - mse: 71775.7266 - val_loss: 586.6866 - val_mae: 586.6866 - val_mse: 1199789.2500\n",
            "Epoch 81/100\n",
            "18/18 [==============================] - 0s 11ms/step - loss: 106.1153 - mae: 106.1153 - mse: 69995.2422 - val_loss: 575.1765 - val_mae: 575.1765 - val_mse: 1195805.5000\n",
            "Epoch 82/100\n",
            "18/18 [==============================] - 0s 7ms/step - loss: 116.6344 - mae: 116.6344 - mse: 77928.7344 - val_loss: 575.4340 - val_mae: 575.4340 - val_mse: 1192046.3750\n",
            "Epoch 83/100\n",
            "18/18 [==============================] - 0s 8ms/step - loss: 110.8731 - mae: 110.8731 - mse: 72825.0703 - val_loss: 654.5366 - val_mae: 654.5366 - val_mse: 1375390.8750\n",
            "Epoch 84/100\n",
            "12/18 [===================>..........] - ETA: 0s - loss: 110.3730 - mae: 110.3730 - mse: 66788.9219INFO:tensorflow:Assets written to: model_experiments/model_1_dense/assets\n",
            "18/18 [==============================] - 2s 110ms/step - loss: 111.9106 - mae: 111.9106 - mse: 73183.8438 - val_loss: 572.3373 - val_mae: 572.3373 - val_mse: 1176463.6250\n",
            "Epoch 85/100\n",
            "18/18 [==============================] - 0s 7ms/step - loss: 106.6154 - mae: 106.6154 - mse: 70752.4453 - val_loss: 574.2833 - val_mae: 574.2833 - val_mse: 1178176.8750\n",
            "Epoch 86/100\n",
            "18/18 [==============================] - 0s 8ms/step - loss: 108.4299 - mae: 108.4299 - mse: 70129.7188 - val_loss: 583.3530 - val_mae: 583.3530 - val_mse: 1191900.3750\n",
            "Epoch 87/100\n",
            "18/18 [==============================] - 0s 10ms/step - loss: 105.7481 - mae: 105.7481 - mse: 68589.9375 - val_loss: 593.0121 - val_mae: 593.0121 - val_mse: 1230071.7500\n",
            "Epoch 88/100\n",
            "15/18 [========================>.....] - ETA: 0s - loss: 110.8955 - mae: 110.8955 - mse: 76410.3281INFO:tensorflow:Assets written to: model_experiments/model_1_dense/assets\n",
            "18/18 [==============================] - 2s 88ms/step - loss: 107.2604 - mae: 107.2604 - mse: 70897.3281 - val_loss: 571.7658 - val_mae: 571.7658 - val_mse: 1182082.7500\n",
            "Epoch 89/100\n",
            "11/18 [=================>............] - ETA: 0s - loss: 97.3408 - mae: 97.3408 - mse: 61730.0781  INFO:tensorflow:Assets written to: model_experiments/model_1_dense/assets\n",
            "18/18 [==============================] - 2s 98ms/step - loss: 106.7823 - mae: 106.7823 - mse: 69118.5625 - val_loss: 568.6370 - val_mae: 568.6370 - val_mse: 1174329.7500\n",
            "Epoch 90/100\n",
            "18/18 [==============================] - 0s 11ms/step - loss: 105.8682 - mae: 105.8682 - mse: 67370.6953 - val_loss: 602.9690 - val_mae: 602.9690 - val_mse: 1230767.2500\n",
            "Epoch 91/100\n",
            "18/18 [==============================] - 0s 7ms/step - loss: 110.6365 - mae: 110.6365 - mse: 72148.0391 - val_loss: 605.6947 - val_mae: 605.6947 - val_mse: 1257883.8750\n",
            "Epoch 92/100\n",
            "18/18 [==============================] - 0s 13ms/step - loss: 109.4668 - mae: 109.4668 - mse: 72193.7734 - val_loss: 572.4370 - val_mae: 572.4370 - val_mse: 1183753.2500\n",
            "Epoch 93/100\n",
            "18/18 [==============================] - 0s 8ms/step - loss: 113.0063 - mae: 113.0063 - mse: 73147.9609 - val_loss: 617.3001 - val_mae: 617.3001 - val_mse: 1284326.5000\n",
            "Epoch 94/100\n",
            "18/18 [==============================] - 0s 8ms/step - loss: 112.4903 - mae: 112.4903 - mse: 73928.3047 - val_loss: 599.9803 - val_mae: 599.9803 - val_mse: 1225950.7500\n",
            "Epoch 95/100\n",
            "18/18 [==============================] - 0s 10ms/step - loss: 106.0053 - mae: 106.0053 - mse: 68764.8672 - val_loss: 570.6210 - val_mae: 570.6210 - val_mse: 1175398.3750\n",
            "Epoch 96/100\n",
            "18/18 [==============================] - 0s 9ms/step - loss: 109.5910 - mae: 109.5910 - mse: 70458.2422 - val_loss: 676.3395 - val_mae: 676.3395 - val_mse: 1426408.5000\n",
            "Epoch 97/100\n",
            "18/18 [==============================] - 0s 7ms/step - loss: 110.2213 - mae: 110.2213 - mse: 72762.1250 - val_loss: 574.2988 - val_mae: 574.2988 - val_mse: 1177002.2500\n",
            "Epoch 98/100\n",
            "18/18 [==============================] - 0s 6ms/step - loss: 106.7290 - mae: 106.7290 - mse: 69964.2500 - val_loss: 576.7734 - val_mae: 576.7734 - val_mse: 1192501.1250\n",
            "Epoch 99/100\n",
            "12/18 [===================>..........] - ETA: 0s - loss: 102.9928 - mae: 102.9928 - mse: 64181.6133 INFO:tensorflow:Assets written to: model_experiments/model_1_dense/assets\n",
            "18/18 [==============================] - 1s 69ms/step - loss: 106.9889 - mae: 106.9889 - mse: 70740.1953 - val_loss: 568.5499 - val_mae: 568.5499 - val_mse: 1172587.7500\n",
            "Epoch 100/100\n",
            "18/18 [==============================] - 0s 7ms/step - loss: 117.7622 - mae: 117.7622 - mse: 73195.7734 - val_loss: 662.5322 - val_mae: 662.5322 - val_mse: 1358191.8750\n"
          ]
        },
        {
          "output_type": "execute_result",
          "data": {
            "text/plain": [
              "<keras.callbacks.History at 0x7fd39efb8050>"
            ]
          },
          "metadata": {},
          "execution_count": 181
        }
      ]
    },
    {
      "cell_type": "code",
      "source": [
        "# Evaluate model on test data\n",
        "model_1.evaluate(test_windows, test_labels)"
      ],
      "metadata": {
        "colab": {
          "base_uri": "https://localhost:8080/"
        },
        "id": "ZXyLMGWxd5QS",
        "outputId": "5159b3d3-4cb8-450b-fe20-3e495f926a4e"
      },
      "execution_count": 182,
      "outputs": [
        {
          "output_type": "stream",
          "name": "stdout",
          "text": [
            "18/18 [==============================] - 0s 2ms/step - loss: 662.5322 - mae: 662.5322 - mse: 1358192.1250\n"
          ]
        },
        {
          "output_type": "execute_result",
          "data": {
            "text/plain": [
              "[662.5322265625, 662.5322265625, 1358192.125]"
            ]
          },
          "metadata": {},
          "execution_count": 182
        }
      ]
    },
    {
      "cell_type": "code",
      "source": [
        "# Load in saved best performing model_1 and evaluate it on test data\n",
        "model_1 = tf.keras.models.load_model(\"/content/model_experiments/model_1_dense\")\n",
        "model_1.evaluate(test_windows, test_labels)\n",
        "\n",
        "# Its better when we use best epoch from callback"
      ],
      "metadata": {
        "colab": {
          "base_uri": "https://localhost:8080/"
        },
        "id": "1m_8oIlUeqyO",
        "outputId": "6c1f1251-2bfb-454f-d4ec-ce5667139054"
      },
      "execution_count": 183,
      "outputs": [
        {
          "output_type": "stream",
          "name": "stdout",
          "text": [
            "18/18 [==============================] - 0s 4ms/step - loss: 568.5499 - mae: 568.5499 - mse: 1172587.7500\n"
          ]
        },
        {
          "output_type": "execute_result",
          "data": {
            "text/plain": [
              "[568.5498657226562, 568.5498657226562, 1172587.75]"
            ]
          },
          "metadata": {},
          "execution_count": 183
        }
      ]
    },
    {
      "cell_type": "code",
      "source": [
        "naive_results"
      ],
      "metadata": {
        "colab": {
          "base_uri": "https://localhost:8080/"
        },
        "id": "yZk_gYNtfKuT",
        "outputId": "5d521935-55eb-4b32-ceda-ea6507318c70"
      },
      "execution_count": 184,
      "outputs": [
        {
          "output_type": "execute_result",
          "data": {
            "text/plain": [
              "{'mae': 567.9802,\n",
              " 'mape': 2.5165248,\n",
              " 'mase': 0.99957,\n",
              " 'mse': 1147547.0,\n",
              " 'rmse': 1071.2362}"
            ]
          },
          "metadata": {},
          "execution_count": 184
        }
      ]
    },
    {
      "cell_type": "markdown",
      "source": [
        "## Making forecasts with a model (on the test dataset)\n",
        "\n",
        "We've trained a model and evaluated the it on the test data, but the project we're working on is called BitPredict 💰📈 so how do you think we could use our model to make predictions?\n",
        "\n",
        "Since we're going to be running more modelling experiments, let's write a function which: \n",
        "1. Takes in a trained model (just like `model_1`)\n",
        "2. Takes in some input data (just like the data the model was trained on) \n",
        "3. Passes the input data to the model's `predict()` method\n",
        "4. Returns the predictions\n",
        "\n"
      ],
      "metadata": {
        "id": "DWGQatF-fc8g"
      }
    },
    {
      "cell_type": "code",
      "source": [
        "def make_preds(model, input_data):\n",
        "  \"\"\"\n",
        "  Uses model to make predictions on input_data.\n",
        "\n",
        "  Parameters\n",
        "  ----------\n",
        "  model: trained model \n",
        "  input_data: windowed input data (same kind of data model was trained on)\n",
        "\n",
        "  Returns model predictions on input_data.\n",
        "  \"\"\"\n",
        "  forecast = model.predict(input_data)\n",
        "  return tf.squeeze(forecast) # return 1D array of predictions"
      ],
      "metadata": {
        "id": "mvRpouYbfoRU"
      },
      "execution_count": 185,
      "outputs": []
    },
    {
      "cell_type": "code",
      "source": [
        "model_1_preds = make_preds(model_1, test_windows)\n",
        "len(model_1_preds), model_1_preds[:10]"
      ],
      "metadata": {
        "colab": {
          "base_uri": "https://localhost:8080/"
        },
        "id": "xnvQ8evtuHYw",
        "outputId": "b2b51a84-3fad-4e9c-aa10-929ec77b6964"
      },
      "execution_count": 186,
      "outputs": [
        {
          "output_type": "execute_result",
          "data": {
            "text/plain": [
              "(556, <tf.Tensor: shape=(10,), dtype=float32, numpy=\n",
              " array([8874.493, 8789.944, 9040.986, 8804.829, 8741.21 , 8749.835,\n",
              "        8705.865, 8513.171, 8478.415, 8536.302], dtype=float32)>)"
            ]
          },
          "metadata": {},
          "execution_count": 186
        }
      ]
    },
    {
      "cell_type": "markdown",
      "source": [
        "> 🔑 **Note:** With these outputs, our model isn't *forecasting* yet. It's only making predictions on the test dataset. Forecasting would involve a model making predictions into the future, however, the test dataset is only a pseudofuture.\n",
        "\n",
        "Now we've got some prediction values, let's use the `evaluate_preds()` we created before to compare them to the ground truth."
      ],
      "metadata": {
        "id": "J3U_70a5wK1K"
      }
    },
    {
      "cell_type": "code",
      "source": [
        "# Evaluare preds\n",
        "model_1_results = evaluate_preds(y_true=tf.squeeze(test_labels), # reduce to right shape\n",
        "                                 y_pred=model_1_preds)\n",
        "\n",
        "model_1_results"
      ],
      "metadata": {
        "colab": {
          "base_uri": "https://localhost:8080/"
        },
        "id": "0QHSuTTVufcO",
        "outputId": "daf6c167-6048-45e3-f757-12301d1e1b81"
      },
      "execution_count": 187,
      "outputs": [
        {
          "output_type": "execute_result",
          "data": {
            "text/plain": [
              "{'mae': 568.5498,\n",
              " 'mape': 2.549229,\n",
              " 'mase': 0.99878454,\n",
              " 'mse': 1172587.6,\n",
              " 'rmse': 1082.8608}"
            ]
          },
          "metadata": {},
          "execution_count": 187
        }
      ]
    },
    {
      "cell_type": "code",
      "source": [
        "naive_results"
      ],
      "metadata": {
        "colab": {
          "base_uri": "https://localhost:8080/"
        },
        "id": "fbNKvft2wBWD",
        "outputId": "aaac6384-c7d0-4eb8-e488-0bcfa978cfa2"
      },
      "execution_count": 188,
      "outputs": [
        {
          "output_type": "execute_result",
          "data": {
            "text/plain": [
              "{'mae': 567.9802,\n",
              " 'mape': 2.5165248,\n",
              " 'mase': 0.99957,\n",
              " 'mse': 1147547.0,\n",
              " 'rmse': 1071.2362}"
            ]
          },
          "metadata": {},
          "execution_count": 188
        }
      ]
    },
    {
      "cell_type": "markdown",
      "source": [
        "It looks like our naïve model beats our first deep model on nearly every metric.\n",
        "\n",
        "That goes to show the power of the naïve model and the reason for having a baseline for any machine learning project.\n",
        "\n",
        "And of course, no evaluation would be finished without visualizing the results.\n",
        "\n",
        "Let's use the `plot_time_series()` function to plot `model_1_preds` against the test data."
      ],
      "metadata": {
        "id": "VtRDKnNZwkjc"
      }
    },
    {
      "cell_type": "code",
      "source": [
        "# Plot model_1 predictions\n",
        "offset = 450\n",
        "plt.figure(figsize=(10, 7))\n",
        "\n",
        "# Account for the test_window offset and index into test_labels to ensure correct plotting\n",
        "plot_time_series(timesteps=X_test[-len(test_windows):], values=test_labels[:, 0], start=offset, label=\"Test Data\") # [:, 0] for getting zero dimension\n",
        "\n",
        "plot_time_series(timesteps=X_test[-len(test_windows):], values=model_1_preds, start=offset, format=\"-\", label=\"model_1_preds\")"
      ],
      "metadata": {
        "colab": {
          "base_uri": "https://localhost:8080/",
          "height": 445
        },
        "id": "eDHEwE1Pwmmn",
        "outputId": "497941e1-064b-4b65-e2f0-ac757298166b"
      },
      "execution_count": 189,
      "outputs": [
        {
          "output_type": "display_data",
          "data": {
            "image/png": "[encoded data removed]",
            "text/plain": [
              "<Figure size 720x504 with 1 Axes>"
            ]
          },
          "metadata": {
            "needs_background": "light"
          }
        }
      ]
    },
    {
      "cell_type": "markdown",
      "source": [
        "## Model 2: Dense (window = 30, horizon = 1)\n",
        "\n",
        "A naïve model is currently beating our handcrafted deep learning model. \n",
        "\n",
        "We can't let this happen.\n",
        "\n",
        "Let's continue our modelling experiments.\n",
        "\n",
        "We'll keep the previous model architecture but use a window size of 30.\n",
        "\n",
        "In other words, we'll use the previous 30 days of Bitcoin prices to try and predict the next day price.\n",
        "\n",
        "![bitcoin prices windowed for 30 days to predict a horizon of 1 day](https://raw.githubusercontent.com/mrdbourke/tensorflow-deep-learning/main/images/10-bitcoin-price-window-for-one-month.png)\n",
        "*Example of Bitcoin prices windowed for 30 days to predict a horizon of 1.*\n",
        "\n",
        "> 🔑 **Note:** Recall from before, the window size (how many timesteps to use to fuel a forecast) and the horizon (how many timesteps to predict into the future) are **hyperparameters**. This means you can tune them to try and find values will result in better performance.\n",
        "\n",
        "We'll start our second modelling experiment by preparing datasets using the functions we created earlier."
      ],
      "metadata": {
        "id": "9b7Z_2hcyiN7"
      }
    },
    {
      "cell_type": "markdown",
      "source": [
        "###Plan:\n",
        "\n",
        "1. Create windows\n",
        "2. Split to train/test\n",
        "3. Create/compile/fit model with callback\n",
        "4. Making forecast\n",
        "5. Visualise\n",
        "6. Compare with naive model"
      ],
      "metadata": {
        "id": "acTV8b8y-DCa"
      }
    },
    {
      "cell_type": "code",
      "source": [
        "HORIZON = 1\n",
        "WINDOW_SIZE = 30"
      ],
      "metadata": {
        "id": "j4DqUJShVuoa"
      },
      "execution_count": 190,
      "outputs": []
    },
    {
      "cell_type": "code",
      "source": [
        "# 1. Create windows\n",
        "model_2_full_windows, model_2_full_labels = make_windows(x=prices, window_size = WINDOW_SIZE, horizon = HORIZON)\n",
        "len(model_2_full_windows), len(model_2_full_labels)"
      ],
      "metadata": {
        "colab": {
          "base_uri": "https://localhost:8080/"
        },
        "id": "Sa0Ido29ZUsB",
        "outputId": "95af054f-b7da-4f30-880a-9570f6a81c90"
      },
      "execution_count": 191,
      "outputs": [
        {
          "output_type": "execute_result",
          "data": {
            "text/plain": [
              "(2757, 2757)"
            ]
          },
          "metadata": {},
          "execution_count": 191
        }
      ]
    },
    {
      "cell_type": "code",
      "source": [
        "# First 3 from full windows and full labels\n",
        "for i in range(0, 3):\n",
        "  print(f\"Window {model_2_full_windows[i]} have a label {model_2_full_labels[i]}\")"
      ],
      "metadata": {
        "colab": {
          "base_uri": "https://localhost:8080/"
        },
        "id": "AebSYBf-bBB2",
        "outputId": "a2e4c9bd-e981-45ec-d91f-84155000e512"
      },
      "execution_count": 192,
      "outputs": [
        {
          "output_type": "stream",
          "name": "stdout",
          "text": [
            "Window [123.65499 125.455   108.58483 118.67466 121.33866 120.65533 121.795\n",
            " 123.033   124.049   125.96116 125.27966 125.9275  126.38333 135.24199\n",
            " 133.20333 142.76333 137.92333 142.95166 152.55183 160.33883 164.31499\n",
            " 177.63333 188.29716 200.70166 180.355   175.03166 177.6965  187.15983\n",
            " 192.75666 197.4    ] have a label [196.02499]\n",
            "Window [125.455   108.58483 118.67466 121.33866 120.65533 121.795   123.033\n",
            " 124.049   125.96116 125.27966 125.9275  126.38333 135.24199 133.20333\n",
            " 142.76333 137.92333 142.95166 152.55183 160.33883 164.31499 177.63333\n",
            " 188.29716 200.70166 180.355   175.03166 177.6965  187.15983 192.75666\n",
            " 197.4     196.02499] have a label [198.04883]\n",
            "Window [108.58483 118.67466 121.33866 120.65533 121.795   123.033   124.049\n",
            " 125.96116 125.27966 125.9275  126.38333 135.24199 133.20333 142.76333\n",
            " 137.92333 142.95166 152.55183 160.33883 164.31499 177.63333 188.29716\n",
            " 200.70166 180.355   175.03166 177.6965  187.15983 192.75666 197.4\n",
            " 196.02499 198.04883] have a label [198.93233]\n"
          ]
        }
      ]
    },
    {
      "cell_type": "code",
      "source": [
        ""
      ],
      "metadata": {
        "id": "JdGGJyyIbbuv"
      },
      "execution_count": 192,
      "outputs": []
    },
    {
      "cell_type": "code",
      "source": [
        "# 2. Make train/test splits\n",
        "model_2_train_windows, model_2_test_windows, model_2_train_labels, model_2_test_labels = make_train_test_splits(model_2_full_windows, model_2_full_labels, test_split=0.2)\n",
        "len(model_2_train_windows), len(model_2_test_windows), len(model_2_train_labels), len(model_2_test_labels)"
      ],
      "metadata": {
        "colab": {
          "base_uri": "https://localhost:8080/"
        },
        "id": "cPK5dQHadFWr",
        "outputId": "49b485fa-04df-46bd-ea16-3e62aec174f6"
      },
      "execution_count": 193,
      "outputs": [
        {
          "output_type": "execute_result",
          "data": {
            "text/plain": [
              "(2205, 552, 2205, 552)"
            ]
          },
          "metadata": {},
          "execution_count": 193
        }
      ]
    },
    {
      "cell_type": "code",
      "source": [
        "print(model_2_train_windows[:5]) \n",
        "print()\n",
        "print(model_2_train_labels[:5])"
      ],
      "metadata": {
        "colab": {
          "base_uri": "https://localhost:8080/"
        },
        "id": "rsflpq61gQ8J",
        "outputId": "f4cf4912-1056-4998-d2b1-4e2363100a43"
      },
      "execution_count": 194,
      "outputs": [
        {
          "output_type": "stream",
          "name": "stdout",
          "text": [
            "[[123.65499 125.455   108.58483 118.67466 121.33866 120.65533 121.795\n",
            "  123.033   124.049   125.96116 125.27966 125.9275  126.38333 135.24199\n",
            "  133.20333 142.76333 137.92333 142.95166 152.55183 160.33883 164.31499\n",
            "  177.63333 188.29716 200.70166 180.355   175.03166 177.6965  187.15983\n",
            "  192.75666 197.4    ]\n",
            " [125.455   108.58483 118.67466 121.33866 120.65533 121.795   123.033\n",
            "  124.049   125.96116 125.27966 125.9275  126.38333 135.24199 133.20333\n",
            "  142.76333 137.92333 142.95166 152.55183 160.33883 164.31499 177.63333\n",
            "  188.29716 200.70166 180.355   175.03166 177.6965  187.15983 192.75666\n",
            "  197.4     196.02499]\n",
            " [108.58483 118.67466 121.33866 120.65533 121.795   123.033   124.049\n",
            "  125.96116 125.27966 125.9275  126.38333 135.24199 133.20333 142.76333\n",
            "  137.92333 142.95166 152.55183 160.33883 164.31499 177.63333 188.29716\n",
            "  200.70166 180.355   175.03166 177.6965  187.15983 192.75666 197.4\n",
            "  196.02499 198.04883]\n",
            " [118.67466 121.33866 120.65533 121.795   123.033   124.049   125.96116\n",
            "  125.27966 125.9275  126.38333 135.24199 133.20333 142.76333 137.92333\n",
            "  142.95166 152.55183 160.33883 164.31499 177.63333 188.29716 200.70166\n",
            "  180.355   175.03166 177.6965  187.15983 192.75666 197.4     196.02499\n",
            "  198.04883 198.93233]\n",
            " [121.33866 120.65533 121.795   123.033   124.049   125.96116 125.27966\n",
            "  125.9275  126.38333 135.24199 133.20333 142.76333 137.92333 142.95166\n",
            "  152.55183 160.33883 164.31499 177.63333 188.29716 200.70166 180.355\n",
            "  175.03166 177.6965  187.15983 192.75666 197.4     196.02499 198.04883\n",
            "  198.93233 200.543  ]]\n",
            "\n",
            "[[196.02499]\n",
            " [198.04883]\n",
            " [198.93233]\n",
            " [200.543  ]\n",
            " [210.3075 ]]\n"
          ]
        }
      ]
    },
    {
      "cell_type": "code",
      "source": [
        "print(model_2_test_windows[:5]) \n",
        "print()\n",
        "print(model_2_test_labels[:5])"
      ],
      "metadata": {
        "colab": {
          "base_uri": "https://localhost:8080/"
        },
        "id": "NpkVruXNihDK",
        "outputId": "ae5f30f2-859a-44a9-8119-4a2521c8123a"
      },
      "execution_count": 195,
      "outputs": [
        {
          "output_type": "stream",
          "name": "stdout",
          "text": [
            "[[8337.81899854 8162.44       8003.82039479 8058.05808111 7970.2394756\n",
            "  7943.34710706 8200.3187634  8200.24609949 8073.40954388 7420.41583649\n",
            "  7460.61741593 8591.22389742 9171.30653186 9578.36755607 9458.22335963\n",
            "  9455.72469261 9225.99547934 9131.41063031 9197.63234462 9290.89660239\n",
            "  9202.41545055 9369.62808116 9326.59962378 9335.75240233 9226.48582088\n",
            "  8794.35864452 8798.04205463 9081.18687849 8711.53433917 8760.89271814]\n",
            " [8162.44       8003.82039479 8058.05808111 7970.2394756  7943.34710706\n",
            "  8200.3187634  8200.24609949 8073.40954388 7420.41583649 7460.61741593\n",
            "  8591.22389742 9171.30653186 9578.36755607 9458.22335963 9455.72469261\n",
            "  9225.99547934 9131.41063031 9197.63234462 9290.89660239 9202.41545055\n",
            "  9369.62808116 9326.59962378 9335.75240233 9226.48582088 8794.35864452\n",
            "  8798.04205463 9081.18687849 8711.53433917 8760.89271814 8749.52059102]\n",
            " [8003.82039479 8058.05808111 7970.2394756  7943.34710706 8200.3187634\n",
            "  8200.24609949 8073.40954388 7420.41583649 7460.61741593 8591.22389742\n",
            "  9171.30653186 9578.36755607 9458.22335963 9455.72469261 9225.99547934\n",
            "  9131.41063031 9197.63234462 9290.89660239 9202.41545055 9369.62808116\n",
            "  9326.59962378 9335.75240233 9226.48582088 8794.35864452 8798.04205463\n",
            "  9081.18687849 8711.53433917 8760.89271814 8749.52059102 8656.97092235]\n",
            " [8058.05808111 7970.2394756  7943.34710706 8200.3187634  8200.24609949\n",
            "  8073.40954388 7420.41583649 7460.61741593 8591.22389742 9171.30653186\n",
            "  9578.36755607 9458.22335963 9455.72469261 9225.99547934 9131.41063031\n",
            "  9197.63234462 9290.89660239 9202.41545055 9369.62808116 9326.59962378\n",
            "  9335.75240233 9226.48582088 8794.35864452 8798.04205463 9081.18687849\n",
            "  8711.53433917 8760.89271814 8749.52059102 8656.97092235 8500.64355816]\n",
            " [7970.2394756  7943.34710706 8200.3187634  8200.24609949 8073.40954388\n",
            "  7420.41583649 7460.61741593 8591.22389742 9171.30653186 9578.36755607\n",
            "  9458.22335963 9455.72469261 9225.99547934 9131.41063031 9197.63234462\n",
            "  9290.89660239 9202.41545055 9369.62808116 9326.59962378 9335.75240233\n",
            "  9226.48582088 8794.35864452 8798.04205463 9081.18687849 8711.53433917\n",
            "  8760.89271814 8749.52059102 8656.97092235 8500.64355816 8469.2608989 ]]\n",
            "\n",
            "[[8749.52059102]\n",
            " [8656.97092235]\n",
            " [8500.64355816]\n",
            " [8469.2608989 ]\n",
            " [8537.33965197]]\n"
          ]
        }
      ]
    },
    {
      "cell_type": "code",
      "source": [
        "# Create/compile/fit model with callback\n",
        "\n",
        "tf.random.set_seed(42)\n",
        "\n",
        "# Create a model\n",
        "model_2 = tf.keras.Sequential([\n",
        "  layers.Dense(128, activation=\"relu\"),\n",
        "  layers.Dense(HORIZON, activation=\"linear\")\n",
        "], name=\"model_2_dense\")\n",
        "\n",
        "# Compile a model\n",
        "model_2.compile(optimizer=tf.keras.optimizers.Adam(),\n",
        "                metrics=[\"mae\", \"mse\"],\n",
        "                loss=\"mae\")\n",
        "\n",
        "# Fit a model\n",
        "model_2.fit(x=model_2_train_windows,\n",
        "            y=model_2_train_labels,\n",
        "            validation_data=(model_2_test_windows, model_2_test_labels),\n",
        "            batch_size=128,\n",
        "            verbose=0,\n",
        "            epochs=100,\n",
        "            callbacks=[create_model_checkpoint(model_name=model_2.name)])"
      ],
      "metadata": {
        "colab": {
          "base_uri": "https://localhost:8080/"
        },
        "id": "5s0P-pKiiPKc",
        "outputId": "94e55979-e07d-45f7-b58a-13cb3817baf7"
      },
      "execution_count": 196,
      "outputs": [
        {
          "output_type": "stream",
          "name": "stdout",
          "text": [
            "INFO:tensorflow:Assets written to: model_experiments/model_2_dense/assets\n",
            "INFO:tensorflow:Assets written to: model_experiments/model_2_dense/assets\n",
            "INFO:tensorflow:Assets written to: model_experiments/model_2_dense/assets\n",
            "INFO:tensorflow:Assets written to: model_experiments/model_2_dense/assets\n",
            "INFO:tensorflow:Assets written to: model_experiments/model_2_dense/assets\n",
            "INFO:tensorflow:Assets written to: model_experiments/model_2_dense/assets\n",
            "INFO:tensorflow:Assets written to: model_experiments/model_2_dense/assets\n",
            "INFO:tensorflow:Assets written to: model_experiments/model_2_dense/assets\n",
            "INFO:tensorflow:Assets written to: model_experiments/model_2_dense/assets\n",
            "INFO:tensorflow:Assets written to: model_experiments/model_2_dense/assets\n",
            "INFO:tensorflow:Assets written to: model_experiments/model_2_dense/assets\n",
            "INFO:tensorflow:Assets written to: model_experiments/model_2_dense/assets\n",
            "INFO:tensorflow:Assets written to: model_experiments/model_2_dense/assets\n",
            "INFO:tensorflow:Assets written to: model_experiments/model_2_dense/assets\n",
            "INFO:tensorflow:Assets written to: model_experiments/model_2_dense/assets\n",
            "INFO:tensorflow:Assets written to: model_experiments/model_2_dense/assets\n",
            "INFO:tensorflow:Assets written to: model_experiments/model_2_dense/assets\n",
            "INFO:tensorflow:Assets written to: model_experiments/model_2_dense/assets\n",
            "INFO:tensorflow:Assets written to: model_experiments/model_2_dense/assets\n",
            "INFO:tensorflow:Assets written to: model_experiments/model_2_dense/assets\n",
            "INFO:tensorflow:Assets written to: model_experiments/model_2_dense/assets\n",
            "INFO:tensorflow:Assets written to: model_experiments/model_2_dense/assets\n",
            "INFO:tensorflow:Assets written to: model_experiments/model_2_dense/assets\n",
            "INFO:tensorflow:Assets written to: model_experiments/model_2_dense/assets\n",
            "INFO:tensorflow:Assets written to: model_experiments/model_2_dense/assets\n",
            "INFO:tensorflow:Assets written to: model_experiments/model_2_dense/assets\n",
            "INFO:tensorflow:Assets written to: model_experiments/model_2_dense/assets\n",
            "INFO:tensorflow:Assets written to: model_experiments/model_2_dense/assets\n",
            "INFO:tensorflow:Assets written to: model_experiments/model_2_dense/assets\n",
            "INFO:tensorflow:Assets written to: model_experiments/model_2_dense/assets\n"
          ]
        },
        {
          "output_type": "execute_result",
          "data": {
            "text/plain": [
              "<keras.callbacks.History at 0x7fd3959b0050>"
            ]
          },
          "metadata": {},
          "execution_count": 196
        }
      ]
    },
    {
      "cell_type": "code",
      "source": [
        "# Making forecast"
      ],
      "metadata": {
        "id": "LgeY3QhSH4_O"
      },
      "execution_count": 197,
      "outputs": []
    },
    {
      "cell_type": "code",
      "source": [
        "model_2.evaluate(model_2_test_windows, model_2_test_labels)"
      ],
      "metadata": {
        "colab": {
          "base_uri": "https://localhost:8080/"
        },
        "id": "WWK7bQmsKOiY",
        "outputId": "e1e75dfb-76ac-40b2-d85c-c9c2688897d5"
      },
      "execution_count": 198,
      "outputs": [
        {
          "output_type": "stream",
          "name": "stdout",
          "text": [
            "18/18 [==============================] - 0s 3ms/step - loss: 658.0289 - mae: 658.0289 - mse: 1417080.8750\n"
          ]
        },
        {
          "output_type": "execute_result",
          "data": {
            "text/plain": [
              "[658.0288696289062, 658.0288696289062, 1417080.875]"
            ]
          },
          "metadata": {},
          "execution_count": 198
        }
      ]
    },
    {
      "cell_type": "code",
      "source": [
        "# Load in saved best performing model_1 and evaluate it on test data\n",
        "model_2 = tf.keras.models.load_model(\"/content/model_experiments/model_2_dense\")\n",
        "model_2.evaluate(model_2_test_windows, model_2_test_labels)\n",
        "\n",
        "# Its better when we use best epoch from callback"
      ],
      "metadata": {
        "colab": {
          "base_uri": "https://localhost:8080/"
        },
        "id": "itcdON-gKWtr",
        "outputId": "59d21409-b7b2-494a-96fc-c5dd2fb5c34d"
      },
      "execution_count": 199,
      "outputs": [
        {
          "output_type": "stream",
          "name": "stdout",
          "text": [
            "18/18 [==============================] - 0s 3ms/step - loss: 608.8480 - mae: 608.8480 - mse: 1284314.3750\n"
          ]
        },
        {
          "output_type": "execute_result",
          "data": {
            "text/plain": [
              "[608.8480224609375, 608.8480224609375, 1284314.375]"
            ]
          },
          "metadata": {},
          "execution_count": 199
        }
      ]
    },
    {
      "cell_type": "code",
      "source": [
        "model_2_preds = make_preds(model_2, model_2_test_windows)\n",
        "len(model_2_preds), model_2_preds[:5]"
      ],
      "metadata": {
        "colab": {
          "base_uri": "https://localhost:8080/"
        },
        "id": "WrKAhjvUK_Gn",
        "outputId": "36dd3d34-9bcb-4f06-a60c-60422c7cd602"
      },
      "execution_count": 200,
      "outputs": [
        {
          "output_type": "execute_result",
          "data": {
            "text/plain": [
              "(552,\n",
              " <tf.Tensor: shape=(5,), dtype=float32, numpy=array([8903.553, 8932.773, 8792.956, 8590.411, 8454.575], dtype=float32)>)"
            ]
          },
          "metadata": {},
          "execution_count": 200
        }
      ]
    },
    {
      "cell_type": "code",
      "source": [
        "# Evaluare preds\n",
        "model_2_results = evaluate_preds(y_true=tf.squeeze(model_2_test_labels), # reduce to right shape/delete an extra dimension\n",
        "                                 y_pred=model_2_preds)\n",
        "\n",
        "model_2_results"
      ],
      "metadata": {
        "colab": {
          "base_uri": "https://localhost:8080/"
        },
        "id": "LZi08EQ0M7H1",
        "outputId": "d856db6d-2349-4c48-f355-a1ee087ab81a"
      },
      "execution_count": 201,
      "outputs": [
        {
          "output_type": "execute_result",
          "data": {
            "text/plain": [
              "{'mae': 608.84814,\n",
              " 'mape': 2.7680664,\n",
              " 'mase': 1.0642724,\n",
              " 'mse': 1284314.4,\n",
              " 'rmse': 1133.276}"
            ]
          },
          "metadata": {},
          "execution_count": 201
        }
      ]
    },
    {
      "cell_type": "code",
      "source": [
        "naive_results"
      ],
      "metadata": {
        "colab": {
          "base_uri": "https://localhost:8080/"
        },
        "id": "S7_cm8chLXoZ",
        "outputId": "8df9c6d7-9514-4a67-e967-6f8ecb25fde8"
      },
      "execution_count": 202,
      "outputs": [
        {
          "output_type": "execute_result",
          "data": {
            "text/plain": [
              "{'mae': 567.9802,\n",
              " 'mape': 2.5165248,\n",
              " 'mase': 0.99957,\n",
              " 'mse': 1147547.0,\n",
              " 'rmse': 1071.2362}"
            ]
          },
          "metadata": {},
          "execution_count": 202
        }
      ]
    },
    {
      "cell_type": "code",
      "source": [
        "# Plot model_2 predictions\n",
        "offset = 300\n",
        "plt.figure(figsize=(10, 7))\n",
        "\n",
        "# Account for the test_window offset and index into test_labels to ensure correct plotting\n",
        "plot_time_series(timesteps=X_test[-len(model_2_test_windows):], values=model_2_test_labels[:, 0], start=offset, label=\"Test Data\")\n",
        "\n",
        "plot_time_series(timesteps=X_test[-len(model_2_test_windows):], values=model_2_preds, start=offset, format=\"-\", label=\"model_2_preds\")"
      ],
      "metadata": {
        "colab": {
          "base_uri": "https://localhost:8080/",
          "height": 442
        },
        "id": "gPTHNPcyM4FI",
        "outputId": "f494e6b5-b667-4ed4-e159-79c30ece33f5"
      },
      "execution_count": 203,
      "outputs": [
        {
          "output_type": "display_data",
          "data": {
            "image/png": "[encoded data removed]",
            "text/plain": [
              "<Figure size 720x504 with 1 Axes>"
            ]
          },
          "metadata": {
            "needs_background": "light"
          }
        }
      ]
    },
    {
      "cell_type": "markdown",
      "source": [
        "## Model 3: Dense (window = 30, horizon = 7)\n",
        "\n",
        "Let's try and predict 7 days ahead given the previous 30 days.\n",
        "\n",
        "First, we'll update the `HORIZON` and `WINDOW_SIZE` variables and create windowed data.\n"
      ],
      "metadata": {
        "id": "ieWXVwNG5HqT"
      }
    },
    {
      "cell_type": "code",
      "source": [
        "HORIZON = 7\n",
        "WINDOW_SIZE = 30\n",
        "\n",
        "model_3_full_windows, model_3_full_labels = make_windows(prices, window_size=WINDOW_SIZE, horizon=HORIZON)\n",
        "len(model_3_full_windows), len(model_3_full_labels)"
      ],
      "metadata": {
        "colab": {
          "base_uri": "https://localhost:8080/"
        },
        "id": "h65Z2m3Raew_",
        "outputId": "cb6455ee-f8c3-40af-81c6-f52eafe412b3"
      },
      "execution_count": 204,
      "outputs": [
        {
          "output_type": "execute_result",
          "data": {
            "text/plain": [
              "(2751, 2751)"
            ]
          },
          "metadata": {},
          "execution_count": 204
        }
      ]
    },
    {
      "cell_type": "code",
      "source": [
        "model_3_train_windows, model_3_test_windows, model_3_train_labels, model_3_test_labels = make_train_test_splits(windows=model_3_full_windows, labels=model_3_full_labels, test_split=0.2)\n",
        "len(model_3_train_windows), len(model_3_test_windows), len(model_3_train_labels), len(model_3_test_labels)"
      ],
      "metadata": {
        "colab": {
          "base_uri": "https://localhost:8080/"
        },
        "id": "aMnHGPu6anzk",
        "outputId": "ec7c1ac9-f8ad-405d-a3d2-05c2945f1582"
      },
      "execution_count": 205,
      "outputs": [
        {
          "output_type": "execute_result",
          "data": {
            "text/plain": [
              "(2200, 551, 2200, 551)"
            ]
          },
          "metadata": {},
          "execution_count": 205
        }
      ]
    },
    {
      "cell_type": "code",
      "source": [
        "tf.random.set_seed(42)\n",
        "\n",
        "# Create model (same as model_1 except with different data input size)\n",
        "model_3 = tf.keras.Sequential([\n",
        "  layers.Dense(128, activation=\"relu\"),\n",
        "  layers.Dense(HORIZON)\n",
        "], name = \"model_3_dense\")\n",
        "\n",
        "# Compile\n",
        "model_3.compile(loss=\"MAE\",\n",
        "                optimizer=tf.keras.optimizers.Adam())\n",
        "\n",
        "# Fit\n",
        "model_3.fit(model_3_train_windows,\n",
        "            model_3_train_labels,\n",
        "            batch_size=128,\n",
        "            epochs=100,\n",
        "            verbose=0,\n",
        "            validation_data=(model_3_test_windows, model_3_test_labels),\n",
        "            callbacks=[create_model_checkpoint(model_name=model_3.name)])"
      ],
      "metadata": {
        "colab": {
          "base_uri": "https://localhost:8080/"
        },
        "id": "cWDLJ_NYavun",
        "outputId": "2d90a6ce-d513-401a-ae2f-79938bcd72de"
      },
      "execution_count": 206,
      "outputs": [
        {
          "output_type": "stream",
          "name": "stdout",
          "text": [
            "INFO:tensorflow:Assets written to: model_experiments/model_3_dense/assets\n",
            "INFO:tensorflow:Assets written to: model_experiments/model_3_dense/assets\n",
            "INFO:tensorflow:Assets written to: model_experiments/model_3_dense/assets\n",
            "INFO:tensorflow:Assets written to: model_experiments/model_3_dense/assets\n",
            "INFO:tensorflow:Assets written to: model_experiments/model_3_dense/assets\n",
            "INFO:tensorflow:Assets written to: model_experiments/model_3_dense/assets\n",
            "INFO:tensorflow:Assets written to: model_experiments/model_3_dense/assets\n",
            "INFO:tensorflow:Assets written to: model_experiments/model_3_dense/assets\n",
            "INFO:tensorflow:Assets written to: model_experiments/model_3_dense/assets\n",
            "INFO:tensorflow:Assets written to: model_experiments/model_3_dense/assets\n",
            "INFO:tensorflow:Assets written to: model_experiments/model_3_dense/assets\n",
            "INFO:tensorflow:Assets written to: model_experiments/model_3_dense/assets\n",
            "INFO:tensorflow:Assets written to: model_experiments/model_3_dense/assets\n",
            "INFO:tensorflow:Assets written to: model_experiments/model_3_dense/assets\n",
            "INFO:tensorflow:Assets written to: model_experiments/model_3_dense/assets\n",
            "INFO:tensorflow:Assets written to: model_experiments/model_3_dense/assets\n",
            "INFO:tensorflow:Assets written to: model_experiments/model_3_dense/assets\n",
            "INFO:tensorflow:Assets written to: model_experiments/model_3_dense/assets\n",
            "INFO:tensorflow:Assets written to: model_experiments/model_3_dense/assets\n",
            "INFO:tensorflow:Assets written to: model_experiments/model_3_dense/assets\n",
            "INFO:tensorflow:Assets written to: model_experiments/model_3_dense/assets\n",
            "INFO:tensorflow:Assets written to: model_experiments/model_3_dense/assets\n",
            "INFO:tensorflow:Assets written to: model_experiments/model_3_dense/assets\n"
          ]
        },
        {
          "output_type": "execute_result",
          "data": {
            "text/plain": [
              "<keras.callbacks.History at 0x7fd3989dfa10>"
            ]
          },
          "metadata": {},
          "execution_count": 206
        }
      ]
    },
    {
      "cell_type": "code",
      "source": [
        "# Evaluate\n",
        "model_3.evaluate(model_3_test_windows, model_3_test_labels)"
      ],
      "metadata": {
        "colab": {
          "base_uri": "https://localhost:8080/"
        },
        "id": "ZCRNHLBwq34h",
        "outputId": "106dc753-d658-46f9-e38d-b2df24ecdb63"
      },
      "execution_count": 207,
      "outputs": [
        {
          "output_type": "stream",
          "name": "stdout",
          "text": [
            "18/18 [==============================] - 0s 2ms/step - loss: 1322.7781\n"
          ]
        },
        {
          "output_type": "execute_result",
          "data": {
            "text/plain": [
              "1322.778076171875"
            ]
          },
          "metadata": {},
          "execution_count": 207
        }
      ]
    },
    {
      "cell_type": "code",
      "source": [
        "# Load best version of model_3 and evaluate\n",
        "model_3 = tf.keras.models.load_model(\"model_experiments/model_3_dense/\")\n",
        "model_3.evaluate(model_3_test_windows, model_3_test_labels)"
      ],
      "metadata": {
        "colab": {
          "base_uri": "https://localhost:8080/"
        },
        "id": "S7uMi7QP_K--",
        "outputId": "0d55a7a9-c9c4-4f25-f006-3cc73d5aa02f"
      },
      "execution_count": 208,
      "outputs": [
        {
          "output_type": "stream",
          "name": "stdout",
          "text": [
            "18/18 [==============================] - 0s 2ms/step - loss: 1228.1417\n"
          ]
        },
        {
          "output_type": "execute_result",
          "data": {
            "text/plain": [
              "1228.1417236328125"
            ]
          },
          "metadata": {},
          "execution_count": 208
        }
      ]
    },
    {
      "cell_type": "code",
      "source": [
        "# Make predictions with model_3. The predictions are going to be 7 steps at a time (this is the HORIZON size)\n",
        "\n",
        "model_3_preds = make_preds(model_3,\n",
        "                           input_data=model_3_test_windows)\n",
        "model_3_preds[:5]"
      ],
      "metadata": {
        "colab": {
          "base_uri": "https://localhost:8080/"
        },
        "id": "HjSD3IER_vhX",
        "outputId": "d2972b20-22f8-4bed-b8b0-405701534795"
      },
      "execution_count": 209,
      "outputs": [
        {
          "output_type": "execute_result",
          "data": {
            "text/plain": [
              "<tf.Tensor: shape=(5, 7), dtype=float32, numpy=\n",
              "array([[9233.328 , 9332.702 , 9363.651 , 9442.775 , 9401.978 , 9414.001 ,\n",
              "        9280.01  ],\n",
              "       [8911.084 , 9065.984 , 9113.08  , 9026.601 , 8990.093 , 9000.148 ,\n",
              "        9053.433 ],\n",
              "       [8848.506 , 9018.2295, 9006.146 , 8934.578 , 8929.888 , 8856.351 ,\n",
              "        8958.367 ],\n",
              "       [9048.449 , 9058.819 , 8966.749 , 9127.248 , 8982.123 , 9056.629 ,\n",
              "        9002.575 ],\n",
              "       [8958.309 , 9008.146 , 8827.891 , 8995.736 , 9129.433 , 9099.142 ,\n",
              "        8881.021 ]], dtype=float32)>"
            ]
          },
          "metadata": {},
          "execution_count": 209
        }
      ]
    },
    {
      "cell_type": "code",
      "source": [
        "# Calculate model_3 results - these are going to be multi-dimensional because\n",
        "# we're trying to predict more than one step at a time.\n",
        "model_3_results = evaluate_preds(y_true=tf.squeeze(model_3_test_labels),\n",
        "                                 y_pred=model_3_preds)\n",
        "model_3_results"
      ],
      "metadata": {
        "colab": {
          "base_uri": "https://localhost:8080/"
        },
        "id": "eQJ2rZq9AFHY",
        "outputId": "d412c4f0-fd6e-4738-dcb1-66590e8dee13"
      },
      "execution_count": 210,
      "outputs": [
        {
          "output_type": "execute_result",
          "data": {
            "text/plain": [
              "{'mae': array([  559.42004 ,   276.0053  ,   298.20258 ,   408.06152 ,\n",
              "          431.32047 ,   526.28064 ,   542.41644 ,   459.79108 ,\n",
              "          490.63736 ,   631.6582  ,   802.51654 ,   731.79333 ,\n",
              "          684.06476 ,   789.71857 ,   563.4593  ,   271.9013  ,\n",
              "          231.86858 ,   258.64767 ,   277.65277 ,   291.5478  ,\n",
              "          105.425575,   132.63156 ,   205.97643 ,   262.20816 ,\n",
              "          169.8651  ,   165.05127 ,   110.21959 ,    83.64655 ,\n",
              "          115.86182 ,   152.87025 ,   279.98862 ,   380.96127 ,\n",
              "          280.21414 ,   271.9101  ,   264.43088 ,   261.91315 ,\n",
              "          330.29108 ,   242.21861 ,   253.72746 ,   245.38596 ,\n",
              "          412.562   ,   128.63539 ,    88.56452 ,    92.15639 ,\n",
              "          100.39704 ,   102.41455 ,    74.52804 ,    94.00349 ,\n",
              "           84.86837 ,    76.64781 ,   108.49679 ,   144.869   ,\n",
              "          187.69133 ,   162.5261  ,   265.83133 ,   391.21323 ,\n",
              "          552.2943  ,   541.77313 ,   522.20886 ,   523.98157 ,\n",
              "          430.13052 ,   276.80893 ,   263.94058 ,   346.60178 ,\n",
              "          449.3755  ,   494.68695 ,   524.3805  ,   532.446   ,\n",
              "          147.137   ,   232.74303 ,   213.22754 ,   407.64008 ,\n",
              "          528.1755  ,   381.76352 ,   288.17203 ,   365.8348  ,\n",
              "          332.32047 ,   393.45953 ,   525.2578  ,   656.50446 ,\n",
              "          811.64105 ,   640.2487  ,   293.96652 ,   163.34152 ,\n",
              "          214.56223 ,   211.33469 ,   237.02092 ,   322.86914 ,\n",
              "          365.69547 ,   561.3761  ,   439.0353  ,   436.3436  ,\n",
              "          359.31528 ,   248.87918 ,   167.8086  ,   263.49414 ,\n",
              "          310.0152  ,   507.3171  ,   621.88586 ,   777.44714 ,\n",
              "          512.9869  ,   292.40332 ,   202.28111 ,   327.75348 ,\n",
              "          356.55942 ,   364.2507  ,   453.20215 ,   574.33777 ,\n",
              "          966.9287  ,   940.8019  ,   871.2143  ,   374.3736  ,\n",
              "          174.17635 ,   241.6317  ,   192.01842 ,   354.8773  ,\n",
              "          305.95822 ,   407.91135 ,   562.78625 ,  1000.76465 ,\n",
              "         1604.6038  ,  2171.9666  ,  1956.6292  ,  2101.5525  ,\n",
              "         2263.4653  ,  2644.0884  ,  1284.6072  ,   680.17303 ,\n",
              "          450.15256 ,   391.20877 ,   514.96826 ,   414.87408 ,\n",
              "          485.30225 ,   301.8972  ,   314.97287 ,   298.2189  ,\n",
              "          351.74908 ,   286.78683 ,   316.8676  ,   322.0376  ,\n",
              "          342.37445 ,   373.64133 ,   283.48422 ,   587.4204  ,\n",
              "          666.5479  ,   415.29117 ,   351.52155 ,   228.57352 ,\n",
              "          281.31793 ,   207.98508 ,   233.22957 ,   522.5366  ,\n",
              "          344.37173 ,   535.6847  ,   403.58908 ,   351.62738 ,\n",
              "          196.2786  ,   204.0111  ,   210.801   ,   162.25252 ,\n",
              "          284.53592 ,   245.85555 ,   225.53348 ,   272.62347 ,\n",
              "          321.16434 ,   365.74408 ,   523.12604 ,   706.972   ,\n",
              "          516.4347  ,   604.03156 ,   827.5575  ,   887.2248  ,\n",
              "          991.22644 ,  1084.594   ,   499.86246 ,   265.87973 ,\n",
              "          353.98926 ,   401.75015 ,   416.3312  ,   392.2098  ,\n",
              "          466.42563 ,   458.61328 ,   622.09735 ,   973.6868  ,\n",
              "          865.1095  ,   278.56168 ,   516.1124  ,   737.87164 ,\n",
              "          363.9961  ,   231.46066 ,   265.72015 ,   234.37752 ,\n",
              "          366.99582 ,   436.41098 ,   645.9733  ,   610.24457 ,\n",
              "          342.28433 ,   262.02386 ,   323.00375 ,   306.09793 ,\n",
              "          523.2842  ,   736.6734  ,   707.1592  ,   451.09836 ,\n",
              "          301.78976 ,   144.70912 ,   199.37123 ,   336.74512 ,\n",
              "          146.3319  ,   138.04367 ,   307.15137 ,   179.54256 ,\n",
              "          165.28293 ,   204.35352 ,   271.4813  ,   372.5491  ,\n",
              "          525.0003  ,   147.24805 ,   107.68108 ,   150.50168 ,\n",
              "          137.84389 ,   209.29674 ,   181.5173  ,   185.5844  ,\n",
              "          145.70578 ,   140.22517 ,   158.3178  ,   177.3323  ,\n",
              "          274.27832 ,   572.3242  ,   270.27078 ,   279.54477 ,\n",
              "          133.47781 ,    55.439594,    81.092636,    68.80943 ,\n",
              "          103.634346,   153.1716  ,   149.0791  ,   168.81125 ,\n",
              "           74.92425 ,   162.96986 ,    56.424107,    93.80176 ,\n",
              "          210.05315 ,   146.7373  ,   143.01674 ,    74.46889 ,\n",
              "           83.6822  ,   123.72587 ,   171.18959 ,   152.87207 ,\n",
              "          176.66936 ,   192.75906 ,   269.69754 ,   310.21527 ,\n",
              "          603.6744  ,   699.2436  ,   812.1265  ,   911.0148  ,\n",
              "         1125.0621  ,  1342.5162  ,  1313.9249  ,   521.97644 ,\n",
              "          205.17201 ,   259.8019  ,   227.63268 ,   301.16617 ,\n",
              "          385.06558 ,   150.06682 ,   131.36873 ,   206.08928 ,\n",
              "          130.17215 ,   285.26996 ,   290.4891  ,   284.52246 ,\n",
              "          233.101   ,   336.17328 ,   216.41406 ,   185.488   ,\n",
              "          164.74861 ,   193.0219  ,   168.33244 ,   244.41086 ,\n",
              "          427.41226 ,   597.6722  ,   279.71664 ,   304.67145 ,\n",
              "          176.03697 ,   239.18875 ,   355.67758 ,   290.50726 ,\n",
              "          171.10756 ,   184.33385 ,   261.0728  ,   350.27106 ,\n",
              "          577.03156 ,   771.4784  ,  1050.9551  ,  1481.2781  ,\n",
              "         1378.0541  ,   883.13226 ,   572.96063 ,   130.63058 ,\n",
              "          206.059   ,   197.40959 ,   295.65317 ,   404.69308 ,\n",
              "          398.2896  ,   417.95145 ,   438.75586 ,   388.33496 ,\n",
              "          214.90555 ,   105.01005 ,   325.9368  ,   447.4184  ,\n",
              "          361.00977 ,   496.7426  ,   307.85727 ,   158.863   ,\n",
              "          169.79129 ,   313.21262 ,   134.87863 ,   118.55971 ,\n",
              "          148.13351 ,   215.45215 ,   311.0682  ,   274.3397  ,\n",
              "          205.59319 ,   154.73787 ,   170.1815  ,   233.73215 ,\n",
              "          328.0646  ,   456.9986  ,   544.226   ,   657.4069  ,\n",
              "          596.3923  ,   493.66547 ,   158.6808  ,    92.03822 ,\n",
              "          306.65457 ,   252.29018 ,   425.00195 ,   607.69196 ,\n",
              "          757.7344  ,  1028.1162  ,  1196.5586  ,  1187.6671  ,\n",
              "         1222.1669  ,   399.41867 ,   264.33035 ,   223.53445 ,\n",
              "          348.61246 ,   267.4036  ,   292.8566  ,   226.46219 ,\n",
              "          163.67912 ,   388.74594 ,   616.5091  ,   715.7144  ,\n",
              "          884.2673  ,  1118.2787  ,  1178.191   ,  1176.8744  ,\n",
              "          447.41656 ,   517.2567  ,   402.29672 ,   321.86285 ,\n",
              "          541.6454  ,   816.1635  ,   814.1642  ,   806.601   ,\n",
              "         1098.4758  ,  1303.5609  ,  1819.226   ,  1520.301   ,\n",
              "          975.065   ,   500.0745  ,   451.08258 ,   624.44836 ,\n",
              "          932.54913 ,  1119.5061  ,  1098.8876  ,  1111.4788  ,\n",
              "          981.3917  ,   774.1716  ,  1216.6174  ,  1347.8223  ,\n",
              "         1275.0948  ,   297.71875 ,   200.9509  ,   508.31027 ,\n",
              "          814.637   ,   605.5293  ,   654.36163 ,   563.6462  ,\n",
              "          596.4467  ,   581.3574  ,   830.5762  ,  1476.597   ,\n",
              "         2502.964   ,  2741.3472  ,  3085.4458  ,  3333.7878  ,\n",
              "         3539.5178  ,  2340.6372  ,   909.3376  ,   490.21567 ,\n",
              "          972.10657 ,  1305.3005  ,  1392.7361  ,  1755.094   ,\n",
              "         2546.695   ,  3059.948   ,  3003.2554  ,  2345.634   ,\n",
              "         2578.2778  ,  2814.2083  ,  3490.5386  ,  3260.6985  ,\n",
              "         4013.9187  ,  4978.504   ,  4385.956   ,  4103.263   ,\n",
              "         4391.792   ,  3081.4644  ,  2669.2148  ,  2414.4084  ,\n",
              "         4396.1475  ,  5788.4326  ,  5140.9053  ,  1273.4592  ,\n",
              "         1228.788   ,   701.4922  ,  2658.4453  ,  3027.572   ,\n",
              "         3027.8152  ,  3052.0781  ,  3045.396   ,  3537.386   ,\n",
              "         3745.5918  ,   900.0968  ,  1300.6917  ,  1302.6451  ,\n",
              "         1263.2556  ,  1302.2109  ,  2369.464   ,  3758.8523  ,\n",
              "         3492.7053  ,  2445.4978  ,  2877.3337  ,  3181.6016  ,\n",
              "         4807.9404  ,  5343.167   ,  4497.2007  ,  4869.027   ,\n",
              "         6087.3286  ,  6035.864   ,  8042.9697  ,  4592.853   ,\n",
              "         1518.462   ,  1500.4481  ,  1698.0397  ,  2548.5916  ,\n",
              "         2541.6692  ,  3393.869   ,  2871.6948  ,  3457.3716  ,\n",
              "         2717.7974  ,  3099.4827  ,  5651.3228  ,  6983.054   ,\n",
              "        10184.632   ,  8898.209   ,  4790.104   ,  2860.8967  ,\n",
              "         2013.5424  ,  1576.1022  ,  2593.8655  ,  3928.4883  ,\n",
              "         2703.8203  ,  2768.889   ,  3018.4146  ,  3906.845   ,\n",
              "         5233.6826  ,  6350.7373  ,  6068.0386  ,  5488.909   ,\n",
              "         4320.8374  ,  2024.2377  ,  1894.8945  ,  1482.7812  ,\n",
              "         1518.4553  ,  2880.513   ,  1606.4152  ,  1566.9939  ,\n",
              "         2957.5447  ,  4173.5615  ,  5676.796   ,  5417.197   ,\n",
              "         5249.5586  ,  1434.1613  ,  2133.1199  ,  2881.859   ,\n",
              "         3821.452   ,  4351.3306  ,  2311.1194  ,  2531.862   ,\n",
              "         1582.3064  ,   743.0675  ,   740.6685  ,   830.79297 ,\n",
              "          862.8683  ,   569.9665  ,  1134.5519  ,  1382.0139  ,\n",
              "         1559.6451  ,  2509.4558  ,  3264.3242  ,  3508.3386  ,\n",
              "         2416.577   ,  2335.6223  ,  2526.2778  ,  3310.1401  ,\n",
              "         5526.7583  ,  7300.811   ,  8667.999   ,  8214.251   ,\n",
              "         6219.2544  ,  4510.4214  ,  4505.271   ,  2656.5486  ,\n",
              "         1991.4564  ,  3071.716   ,  4366.595   ,  6207.0596  ,\n",
              "         3825.3962  ,  1774.5725  ,  2043.5586  ,  2223.3137  ,\n",
              "         1501.3549  ,  1830.9236  ,  1363.1423  ,  2061.2495  ,\n",
              "         2064.8828  ,  1645.9509  ,  2415.7795  ,  3431.0178  ,\n",
              "         5687.66    ,  7175.9517  ,  7918.8955  ], dtype=float32),\n",
              " 'mape': array([ 6.383133  ,  3.1873055 ,  3.4441986 ,  4.7474217 ,  5.087393  ,\n",
              "         6.2807307 ,  6.541848  ,  5.720405  ,  6.363076  ,  8.315235  ,\n",
              "        10.800634  , 10.020564  ,  9.454184  , 10.886435  ,  7.8023076 ,\n",
              "         3.7682526 ,  3.155776  ,  3.437866  ,  3.6989737 ,  3.8828704 ,\n",
              "         1.3986939 ,  1.7881403 ,  2.8099759 ,  3.586232  ,  2.3180187 ,\n",
              "         2.242667  ,  1.4899626 ,  1.1336712 ,  1.5688592 ,  2.1066084 ,\n",
              "         3.8841438 ,  5.2990785 ,  3.9507866 ,  3.9636142 ,  3.8526888 ,\n",
              "         3.8195531 ,  4.802899  ,  3.5313706 ,  3.6780703 ,  3.46592   ,\n",
              "         5.6844716 ,  1.781396  ,  1.2288109 ,  1.2746593 ,  1.3930616 ,\n",
              "         1.4077994 ,  1.0244621 ,  1.2907869 ,  1.1759014 ,  1.0764247 ,\n",
              "         1.5163736 ,  2.0254838 ,  2.6292856 ,  2.2210493 ,  3.4710693 ,\n",
              "         5.017667  ,  7.0700006 ,  6.8297133 ,  6.527853  ,  6.520673  ,\n",
              "         5.3245935 ,  3.3024843 ,  3.071215  ,  3.98927   ,  5.1149187 ,\n",
              "         5.61996   ,  5.953922  ,  6.0512958 ,  1.6630603 ,  2.6762862 ,\n",
              "         2.4792778 ,  4.7584987 ,  6.204536  ,  4.5032034 ,  3.402323  ,\n",
              "         4.296131  ,  3.8193192 ,  4.302126  ,  5.675283  ,  7.0431447 ,\n",
              "         8.695885  ,  6.8402886 ,  3.1351395 ,  1.7247756 ,  2.2906337 ,\n",
              "         2.239771  ,  2.4867249 ,  3.3104722 ,  3.7112315 ,  5.63722   ,\n",
              "         4.333159  ,  4.287891  ,  3.5142124 ,  2.4285538 ,  1.6611431 ,\n",
              "         2.6178567 ,  3.1315804 ,  5.1447906 ,  6.353043  ,  7.9626427 ,\n",
              "         5.287782  ,  3.019717  ,  2.0546832 ,  3.4092698 ,  3.8586323 ,\n",
              "         4.0400887 ,  5.076718  ,  6.4802604 , 11.007784  , 10.7414465 ,\n",
              "         9.975953  ,  4.3021564 ,  1.9976255 ,  2.7215734 ,  2.1505435 ,\n",
              "         4.012396  ,  3.618029  ,  4.9309316 ,  6.8522887 , 14.579784  ,\n",
              "        24.689518  , 35.3894    , 34.018784  , 38.566185  , 41.93856   ,\n",
              "        49.170227  , 23.934246  , 12.76731   ,  8.060933  ,  6.7705026 ,\n",
              "         8.406375  ,  6.574843  ,  7.4993    ,  4.5726724 ,  5.019635  ,\n",
              "         4.6231947 ,  5.3266654 ,  4.374331  ,  5.0321302 ,  5.182704  ,\n",
              "         5.5057526 ,  5.9565516 ,  4.374629  ,  8.735546  ,  9.690324  ,\n",
              "         5.9229927 ,  4.960857  ,  3.2358913 ,  3.916653  ,  2.960389  ,\n",
              "         3.2594497 ,  7.427887  ,  4.961269  ,  7.767851  ,  5.8759427 ,\n",
              "         5.0899153 ,  2.7828124 ,  2.8943253 ,  2.9632704 ,  2.2983522 ,\n",
              "         3.979706  ,  3.4080956 ,  3.0998034 ,  3.7605264 ,  4.432523  ,\n",
              "         4.82497   ,  6.85255   ,  8.808609  ,  6.1029444 ,  6.961776  ,\n",
              "         9.447651  , 10.045695  , 11.199372  , 12.213851  ,  5.522779  ,\n",
              "         2.7715328 ,  3.6357415 ,  4.1950994 ,  4.3852634 ,  4.1972456 ,\n",
              "         4.983673  ,  5.084654  ,  7.0168824 , 10.815913  ,  9.642549  ,\n",
              "         3.1320593 ,  5.3848643 ,  7.675372  ,  3.774346  ,  2.4561572 ,\n",
              "         2.8501215 ,  2.5092413 ,  3.9920144 ,  4.77418   ,  7.1354446 ,\n",
              "         6.7556424 ,  3.8018935 ,  2.8637733 ,  3.509565  ,  3.2845404 ,\n",
              "         5.372305  ,  7.5835423 ,  7.2673955 ,  4.5891204 ,  3.0293348 ,\n",
              "         1.4613218 ,  1.9975586 ,  3.4842055 ,  1.5093697 ,  1.4179296 ,\n",
              "         3.2048676 ,  1.8887612 ,  1.7362866 ,  2.1689427 ,  2.8873942 ,\n",
              "         3.9644148 ,  5.5802307 ,  1.5622852 ,  1.149674  ,  1.6047982 ,\n",
              "         1.4754645 ,  2.231686  ,  1.9317787 ,  1.9744525 ,  1.5439414 ,\n",
              "         1.4976854 ,  1.6820679 ,  1.897119  ,  2.9943423 ,  6.2459874 ,\n",
              "         2.953745  ,  3.064406  ,  1.4674717 ,  0.60568035,  0.8881008 ,\n",
              "         0.74896526,  1.1339073 ,  1.6680954 ,  1.608187  ,  1.8191533 ,\n",
              "         0.8100192 ,  1.7489618 ,  0.6075544 ,  1.0088054 ,  2.2717352 ,\n",
              "         1.5915908 ,  1.5513337 ,  0.80798715,  0.91097534,  1.3482684 ,\n",
              "         1.8638477 ,  1.6469681 ,  1.8685368 ,  2.02392   ,  2.8186364 ,\n",
              "         3.1947546 ,  5.8327208 ,  6.557446  ,  7.4054317 ,  8.245705  ,\n",
              "        10.09411   , 11.89811   , 11.6254015 ,  4.5898523 ,  1.7863373 ,\n",
              "         2.2723162 ,  1.9803488 ,  2.6221123 ,  3.3960602 ,  1.3109515 ,\n",
              "         1.1341455 ,  1.759563  ,  1.128492  ,  2.4649835 ,  2.5131893 ,\n",
              "         2.4598405 ,  2.0161705 ,  2.8633106 ,  1.7830117 ,  1.5193297 ,\n",
              "         1.3595337 ,  1.614378  ,  1.4105192 ,  2.059183  ,  3.6486063 ,\n",
              "         5.1331215 ,  2.424635  ,  2.6510155 ,  1.5341433 ,  2.09643   ,\n",
              "         3.1137257 ,  2.539438  ,  1.4683777 ,  1.568614  ,  2.2879937 ,\n",
              "         3.1728706 ,  5.3861685 ,  7.392792  , 10.086266  , 14.331542  ,\n",
              "        13.409384  ,  8.636568  ,  5.616763  ,  1.2732922 ,  1.9986842 ,\n",
              "         1.8976632 ,  2.7845583 ,  3.754111  ,  3.6711032 ,  3.8447108 ,\n",
              "         4.0184684 ,  3.5524209 ,  1.9625986 ,  0.98632026,  3.0846426 ,\n",
              "         4.236171  ,  3.4315605 ,  4.7224817 ,  2.9343495 ,  1.5163301 ,\n",
              "         1.5953581 ,  2.9111507 ,  1.2543285 ,  1.1071885 ,  1.3919702 ,\n",
              "         2.0292516 ,  2.9253087 ,  2.5853817 ,  1.9386241 ,  1.4526908 ,\n",
              "         1.5694046 ,  2.1026871 ,  2.9367437 ,  4.04099   ,  4.7796817 ,\n",
              "         5.770069  ,  5.2124357 ,  4.3052373 ,  1.3792781 ,  0.8005689 ,\n",
              "         2.684975  ,  2.188901  ,  3.448495  ,  4.792791  ,  5.909497  ,\n",
              "         7.955139  ,  9.233251  ,  9.119957  ,  9.261035  ,  2.9975643 ,\n",
              "         1.9903    ,  1.6718756 ,  2.58726   ,  1.9542675 ,  2.1405175 ,\n",
              "         1.6731445 ,  1.178066  ,  2.6046596 ,  4.0535207 ,  4.755552  ,\n",
              "         5.835533  ,  7.3285947 ,  7.6915874 ,  7.6137385 ,  2.8398395 ,\n",
              "         3.3314493 ,  2.5113592 ,  2.0298178 ,  3.3189912 ,  4.8585114 ,\n",
              "         4.7158113 ,  4.6272564 ,  6.2273393 ,  7.223699  ,  9.988826  ,\n",
              "         8.288783  ,  5.237044  ,  2.6687312 ,  2.4694824 ,  3.5809126 ,\n",
              "         5.3039985 ,  6.3736773 ,  6.23859   ,  6.344448  ,  5.5967784 ,\n",
              "         4.148265  ,  6.354063  ,  7.0523105 ,  6.644291  ,  1.5557402 ,\n",
              "         1.0602225 ,  2.6997712 ,  4.3472815 ,  3.2732253 ,  3.5330117 ,\n",
              "         3.0514553 ,  3.2215595 ,  3.1218312 ,  4.204726  ,  6.9420166 ,\n",
              "        11.60342   , 12.176869  , 13.453348  , 14.439218  , 15.278827  ,\n",
              "        10.020564  ,  3.8659077 ,  2.0333557 ,  3.9704196 ,  5.2561073 ,\n",
              "         5.4017196 ,  6.697758  ,  9.399555  , 11.09861   , 10.672504  ,\n",
              "         7.815193  ,  8.272939  ,  8.983307  , 10.819359  ,  9.587128  ,\n",
              "        11.14034   , 13.304127  , 11.300749  , 10.6548    , 11.274142  ,\n",
              "         7.8193297 ,  6.9860325 ,  6.769106  , 12.204499  , 16.113087  ,\n",
              "        14.353757  ,  3.5346606 ,  3.313356  ,  1.8951993 ,  7.7469826 ,\n",
              "         9.033199  ,  9.231903  ,  9.467803  ,  9.404374  , 11.023445  ,\n",
              "        11.800318  ,  2.8124304 ,  4.0199337 ,  3.950694  ,  3.7909858 ,\n",
              "         3.9367132 ,  6.9262767 , 10.6855    ,  9.707618  ,  6.670374  ,\n",
              "         7.674061  ,  8.309083  , 11.966503  , 12.519148  , 10.110762  ,\n",
              "        10.707312  , 13.19876   , 12.978641  , 17.091331  ,  9.630076  ,\n",
              "         3.1794276 ,  2.9887314 ,  3.3808594 ,  4.881789  ,  4.761776  ,\n",
              "         6.241043  ,  5.2421517 ,  6.347189  ,  5.175462  ,  6.029026  ,\n",
              "        11.695898  , 14.624441  , 21.540733  , 18.883375  , 10.238024  ,\n",
              "         6.1705375 ,  4.2898383 ,  3.2523804 ,  5.2908754 ,  7.9320273 ,\n",
              "         5.3697076 ,  5.336057  ,  5.5906935 ,  7.074054  ,  9.375492  ,\n",
              "        11.086345  , 10.371183  ,  9.408301  ,  7.407569  ,  3.3996441 ,\n",
              "         3.2378588 ,  2.5028694 ,  2.6447754 ,  5.0076265 ,  2.8739963 ,\n",
              "         2.8070548 ,  5.404184  ,  7.739886  , 10.505011  , 10.031975  ,\n",
              "         9.742052  ,  2.6674068 ,  3.8989453 ,  5.0200095 ,  6.615648  ,\n",
              "         7.476633  ,  3.9717202 ,  4.3323865 ,  2.6973286 ,  1.2728416 ,\n",
              "         1.2849373 ,  1.4467553 ,  1.4952526 ,  0.98913246,  1.9539042 ,\n",
              "         2.3853426 ,  2.5916712 ,  4.069341  ,  5.2415066 ,  5.630094  ,\n",
              "         3.8688655 ,  3.7874763 ,  4.2134275 ,  5.7756824 ,  9.770691  ,\n",
              "        13.159069  , 16.036814  , 15.505876  , 12.111253  ,  8.840368  ,\n",
              "         8.823597  ,  5.2454715 ,  3.878957  ,  5.697788  ,  7.8928275 ,\n",
              "        11.124117  ,  6.7739263 ,  3.14318   ,  3.6283498 ,  3.892282  ,\n",
              "         2.6967316 ,  3.2670074 ,  2.4376302 ,  3.6690652 ,  3.585248  ,\n",
              "         2.9584897 ,  4.53231   ,  6.682528  , 11.290611  , 14.65142   ,\n",
              "        16.85183   ], dtype=float32),\n",
              " 'mase': 2.1854093,\n",
              " 'mse': array([3.33394000e+05, 1.03724445e+05, 9.75477734e+04, 1.80555578e+05,\n",
              "        2.26793469e+05, 3.19683781e+05, 3.31785156e+05, 2.79899312e+05,\n",
              "        3.70252281e+05, 5.32036625e+05, 7.95682000e+05, 6.82951375e+05,\n",
              "        5.56032125e+05, 6.60285000e+05, 3.52380906e+05, 1.16671945e+05,\n",
              "        8.00336719e+04, 9.34664531e+04, 9.21393672e+04, 1.04041875e+05,\n",
              "        1.96615488e+04, 2.64791699e+04, 6.18707188e+04, 1.02955797e+05,\n",
              "        4.36306016e+04, 3.45583516e+04, 1.73448262e+04, 1.06492334e+04,\n",
              "        1.50544912e+04, 3.00173652e+04, 9.54852891e+04, 1.50687219e+05,\n",
              "        9.55566953e+04, 1.24640773e+05, 1.22260398e+05, 1.22192852e+05,\n",
              "        1.64926156e+05, 1.04291938e+05, 1.04716102e+05, 7.14317812e+04,\n",
              "        1.85622641e+05, 2.40555898e+04, 1.04443379e+04, 1.08766943e+04,\n",
              "        1.81710645e+04, 1.34194131e+04, 7.59755225e+03, 1.30255479e+04,\n",
              "        9.67257910e+03, 1.21373447e+04, 1.71709180e+04, 2.91904902e+04,\n",
              "        5.34009375e+04, 4.30802227e+04, 1.54338922e+05, 2.63090000e+05,\n",
              "        3.92752844e+05, 3.85401812e+05, 3.42097688e+05, 3.03134500e+05,\n",
              "        2.02138109e+05, 1.61282828e+05, 1.68757281e+05, 2.24789250e+05,\n",
              "        3.34351000e+05, 3.17256219e+05, 3.24330469e+05, 2.94770938e+05,\n",
              "        3.21403379e+04, 7.15406328e+04, 6.01047383e+04, 1.94125781e+05,\n",
              "        2.96338000e+05, 1.73771594e+05, 1.10524422e+05, 1.69625984e+05,\n",
              "        1.34109234e+05, 2.44139016e+05, 3.85172812e+05, 5.37043375e+05,\n",
              "        6.99801562e+05, 4.24303656e+05, 9.64800000e+04, 4.17386289e+04,\n",
              "        5.79252109e+04, 5.76000039e+04, 7.16003516e+04, 1.40586828e+05,\n",
              "        1.72043281e+05, 3.53915438e+05, 2.63749906e+05, 2.47050219e+05,\n",
              "        1.52179578e+05, 8.25143125e+04, 3.97282109e+04, 7.46978125e+04,\n",
              "        1.56581328e+05, 3.18724781e+05, 4.61892062e+05, 6.32013812e+05,\n",
              "        3.03695938e+05, 1.08098164e+05, 5.32101680e+04, 1.21410133e+05,\n",
              "        2.14644328e+05, 2.69117562e+05, 3.37814000e+05, 4.53375344e+05,\n",
              "        1.08349212e+06, 9.69460000e+05, 7.77834312e+05, 1.66238922e+05,\n",
              "        4.37044336e+04, 7.97520547e+04, 5.02197266e+04, 1.45318984e+05,\n",
              "        1.32896734e+05, 2.33199766e+05, 3.67667812e+05, 1.87499225e+06,\n",
              "        3.82544675e+06, 6.11114400e+06, 5.20348900e+06, 5.72459100e+06,\n",
              "        5.94761650e+06, 7.06636100e+06, 1.77607712e+06, 5.71786875e+05,\n",
              "        2.38541328e+05, 1.96971125e+05, 3.72253031e+05, 2.90039969e+05,\n",
              "        3.16406531e+05, 1.58819891e+05, 1.78927250e+05, 1.23254617e+05,\n",
              "        1.53376625e+05, 1.07515883e+05, 1.52277422e+05, 1.95200203e+05,\n",
              "        2.03025844e+05, 2.16209500e+05, 1.07583070e+05, 4.19026469e+05,\n",
              "        5.16380344e+05, 2.37964578e+05, 1.60922766e+05, 6.32510664e+04,\n",
              "        1.01699102e+05, 6.11560195e+04, 5.93905352e+04, 3.07242906e+05,\n",
              "        1.51582078e+05, 3.16971906e+05, 2.01775000e+05, 1.35609594e+05,\n",
              "        4.69756445e+04, 5.22583164e+04, 6.42655742e+04, 3.81848828e+04,\n",
              "        1.08177227e+05, 9.06808047e+04, 6.81520859e+04, 8.95860234e+04,\n",
              "        1.13006180e+05, 1.79956609e+05, 3.22909750e+05, 7.15943688e+05,\n",
              "        5.49820938e+05, 6.98467312e+05, 1.05350462e+06, 1.06671038e+06,\n",
              "        1.13801400e+06, 1.18490050e+06, 3.22156281e+05, 2.08278234e+05,\n",
              "        2.85719562e+05, 2.43085984e+05, 2.06137266e+05, 2.00610203e+05,\n",
              "        2.55878719e+05, 3.12861438e+05, 6.31455375e+05, 1.10615862e+06,\n",
              "        9.01712938e+05, 1.76444016e+05, 3.40770812e+05, 5.88025688e+05,\n",
              "        1.55192500e+05, 7.37252344e+04, 1.07882586e+05, 7.47378125e+04,\n",
              "        2.11414594e+05, 2.25098469e+05, 4.67451500e+05, 3.93355188e+05,\n",
              "        1.56228234e+05, 8.65428203e+04, 1.18756789e+05, 1.16208570e+05,\n",
              "        4.17561219e+05, 6.82756562e+05, 5.77383688e+05, 2.78386688e+05,\n",
              "        1.91040875e+05, 4.51314023e+04, 9.66046719e+04, 1.35987234e+05,\n",
              "        3.46512305e+04, 2.73080371e+04, 1.20861430e+05, 5.39484766e+04,\n",
              "        4.05714727e+04, 7.52649922e+04, 9.88261641e+04, 1.81728578e+05,\n",
              "        2.87719406e+05, 3.26745312e+04, 1.88171465e+04, 3.13027598e+04,\n",
              "        3.67352773e+04, 5.45493164e+04, 4.20905508e+04, 3.76223359e+04,\n",
              "        2.50840273e+04, 3.01902812e+04, 3.87692148e+04, 4.62195898e+04,\n",
              "        9.53595703e+04, 3.34977250e+05, 8.52137344e+04, 8.93841406e+04,\n",
              "        2.57094395e+04, 4.94461572e+03, 8.79626367e+03, 8.49029102e+03,\n",
              "        1.57091475e+04, 3.55610195e+04, 3.16384863e+04, 3.69771133e+04,\n",
              "        6.76249902e+03, 3.62076914e+04, 4.05944751e+03, 1.35008799e+04,\n",
              "        4.68076211e+04, 2.68615254e+04, 2.30234590e+04, 7.54533350e+03,\n",
              "        9.36424023e+03, 1.82010156e+04, 3.38128711e+04, 2.85906777e+04,\n",
              "        5.20125000e+04, 6.49524297e+04, 1.04471016e+05, 1.46007438e+05,\n",
              "        7.14144688e+05, 9.58125312e+05, 1.22509600e+06, 1.29478712e+06,\n",
              "        1.68467775e+06, 2.08443112e+06, 1.80137138e+06, 3.43922781e+05,\n",
              "        8.38062969e+04, 8.79114766e+04, 6.41988086e+04, 1.04314453e+05,\n",
              "        2.05045047e+05, 3.14043750e+04, 2.54131523e+04, 4.96176289e+04,\n",
              "        3.26739727e+04, 1.10487914e+05, 1.30131867e+05, 1.24735758e+05,\n",
              "        9.50999453e+04, 1.58834859e+05, 9.33186641e+04, 9.37423594e+04,\n",
              "        5.72294297e+04, 5.36821914e+04, 4.13911602e+04, 7.44215391e+04,\n",
              "        2.05739219e+05, 3.66187438e+05, 1.16855016e+05, 1.17204914e+05,\n",
              "        4.12653633e+04, 9.10168750e+04, 1.75218281e+05, 1.09306273e+05,\n",
              "        5.18959297e+04, 9.13076484e+04, 1.20695414e+05, 2.13619031e+05,\n",
              "        4.99358281e+05, 9.10010562e+05, 1.38975025e+06, 2.40428150e+06,\n",
              "        1.95363112e+06, 8.23527188e+05, 3.59575312e+05, 2.67775332e+04,\n",
              "        4.69525234e+04, 7.13935547e+04, 1.49703359e+05, 2.84783344e+05,\n",
              "        2.56093453e+05, 2.42521719e+05, 2.33469703e+05, 1.67033984e+05,\n",
              "        5.82417461e+04, 2.51238906e+04, 1.46595703e+05, 2.57371109e+05,\n",
              "        1.79850125e+05, 3.15337250e+05, 1.43075406e+05, 5.45757695e+04,\n",
              "        4.02590859e+04, 1.04498383e+05, 2.46403535e+04, 1.82447305e+04,\n",
              "        3.22257832e+04, 7.33687812e+04, 1.17344664e+05, 9.29680547e+04,\n",
              "        5.05981641e+04, 3.16992832e+04, 4.74245938e+04, 1.20601891e+05,\n",
              "        1.93126094e+05, 3.08337844e+05, 4.02318344e+05, 4.99645938e+05,\n",
              "        3.91438750e+05, 2.66566938e+05, 3.88146797e+04, 1.24275049e+04,\n",
              "        1.16664797e+05, 7.14946953e+04, 3.96406812e+05, 7.48489312e+05,\n",
              "        9.75264562e+05, 1.51613375e+06, 1.74917412e+06, 1.57698800e+06,\n",
              "        1.58133600e+06, 2.45576719e+05, 9.23140078e+04, 6.55380859e+04,\n",
              "        1.31787750e+05, 1.15113414e+05, 1.02307930e+05, 7.25379219e+04,\n",
              "        5.40419141e+04, 5.24896812e+05, 9.50770125e+05, 9.26232125e+05,\n",
              "        1.11365888e+06, 1.60103862e+06, 1.57692200e+06, 1.47775112e+06,\n",
              "        3.83324469e+05, 3.69744031e+05, 2.38819047e+05, 1.43169625e+05,\n",
              "        4.32763156e+05, 1.06803788e+06, 1.17400338e+06, 1.00694612e+06,\n",
              "        1.58363538e+06, 2.21012875e+06, 3.77491825e+06, 2.50035525e+06,\n",
              "        1.18956588e+06, 3.58880188e+05, 3.03592812e+05, 8.44406500e+05,\n",
              "        1.34112062e+06, 1.83813462e+06, 1.75363200e+06, 1.99065762e+06,\n",
              "        1.55192062e+06, 7.54376062e+05, 1.98689962e+06, 1.98100862e+06,\n",
              "        1.75947562e+06, 1.28232172e+05, 5.40807266e+04, 3.39730281e+05,\n",
              "        7.68867188e+05, 5.17358750e+05, 5.58042312e+05, 4.50932219e+05,\n",
              "        4.61642469e+05, 4.06037281e+05, 1.20640425e+06, 4.41879750e+06,\n",
              "        9.13147900e+06, 1.13353390e+07, 1.30212570e+07, 1.33741100e+07,\n",
              "        1.30366630e+07, 5.69693500e+06, 1.04668162e+06, 5.55939375e+05,\n",
              "        1.45060125e+06, 2.21110100e+06, 2.93645750e+06, 4.17465325e+06,\n",
              "        8.86809600e+06, 1.12878900e+07, 1.06687820e+07, 9.75505400e+06,\n",
              "        1.13975120e+07, 1.14823420e+07, 1.65296480e+07, 1.71318060e+07,\n",
              "        2.64630180e+07, 3.67715960e+07, 2.96931160e+07, 2.13515460e+07,\n",
              "        2.45664100e+07, 1.40850790e+07, 7.98280700e+06, 1.00049820e+07,\n",
              "        2.39863500e+07, 3.69922320e+07, 2.79343300e+07, 2.16239375e+06,\n",
              "        1.95902162e+06, 9.66099125e+05, 8.49763400e+06, 1.26890310e+07,\n",
              "        1.31594640e+07, 1.40178720e+07, 1.10246220e+07, 1.47196250e+07,\n",
              "        1.47363250e+07, 1.04302138e+06, 2.51192675e+06, 2.82747050e+06,\n",
              "        2.01651562e+06, 2.33862700e+06, 6.62512800e+06, 1.67676470e+07,\n",
              "        1.61179680e+07, 8.83295300e+06, 1.08211450e+07, 1.35291040e+07,\n",
              "        3.16443400e+07, 4.43336120e+07, 3.55703480e+07, 3.59946480e+07,\n",
              "        4.78694120e+07, 4.24167600e+07, 6.63626600e+07, 2.33264860e+07,\n",
              "        3.14468200e+06, 4.87435350e+06, 4.78159750e+06, 1.07451600e+07,\n",
              "        1.08128370e+07, 1.72822160e+07, 1.14444390e+07, 1.49543870e+07,\n",
              "        8.87318500e+06, 1.16514550e+07, 4.61954440e+07, 6.23508280e+07,\n",
              "        1.12169384e+08, 8.19101200e+07, 2.64749020e+07, 1.25423810e+07,\n",
              "        5.62378700e+06, 3.60028975e+06, 7.83456250e+06, 1.69358820e+07,\n",
              "        1.06481170e+07, 1.23299020e+07, 1.75144200e+07, 2.47907220e+07,\n",
              "        3.78497200e+07, 5.26399120e+07, 4.78895560e+07, 3.45402760e+07,\n",
              "        2.01211540e+07, 7.52182800e+06, 4.23857350e+06, 3.06185050e+06,\n",
              "        3.44073350e+06, 9.38222300e+06, 5.84576100e+06, 4.33842200e+06,\n",
              "        1.37386530e+07, 2.51135820e+07, 3.83723960e+07, 3.33786180e+07,\n",
              "        3.01767680e+07, 3.73629075e+06, 6.47484450e+06, 1.15425380e+07,\n",
              "        1.68360760e+07, 2.10577000e+07, 5.81830550e+06, 6.72836650e+06,\n",
              "        3.22983575e+06, 6.79807688e+05, 7.93674000e+05, 1.18572462e+06,\n",
              "        9.69263312e+05, 6.35788812e+05, 1.58890925e+06, 2.93819975e+06,\n",
              "        4.41733200e+06, 1.04396230e+07, 1.59341440e+07, 1.58365250e+07,\n",
              "        8.02327050e+06, 6.90858150e+06, 7.81497500e+06, 1.88693180e+07,\n",
              "        4.18421640e+07, 6.20995120e+07, 8.48631200e+07, 7.41613920e+07,\n",
              "        4.62633920e+07, 2.55688940e+07, 2.45755620e+07, 1.02823180e+07,\n",
              "        5.33402050e+06, 1.16097650e+07, 2.34686680e+07, 4.12730560e+07,\n",
              "        1.70490560e+07, 3.89742050e+06, 4.65160700e+06, 6.30977050e+06,\n",
              "        3.60876825e+06, 4.55321650e+06, 3.40397625e+06, 5.22099650e+06,\n",
              "        5.63631050e+06, 4.36895950e+06, 9.38240800e+06, 2.11363800e+07,\n",
              "        4.66035280e+07, 6.60825960e+07, 8.01464320e+07], dtype=float32),\n",
              " 'rmse': array([  577.4028  ,   322.0628  ,   312.32635 ,   424.9183  ,\n",
              "          476.2284  ,   565.4059  ,   576.00793 ,   529.05505 ,\n",
              "          608.4836  ,   729.4084  ,   892.01    ,   826.4087  ,\n",
              "          745.67566 ,   812.5792  ,   593.6168  ,   341.57275 ,\n",
              "          282.90222 ,   305.72284 ,   303.54468 ,   322.55524 ,\n",
              "          140.21965 ,   162.72421 ,   248.73827 ,   320.86728 ,\n",
              "          208.87941 ,   185.89874 ,   131.69975 ,   103.195114,\n",
              "          122.69674 ,   173.2552  ,   309.00693 ,   388.18454 ,\n",
              "          309.12244 ,   353.045   ,   349.65756 ,   349.56097 ,\n",
              "          406.11105 ,   322.94263 ,   323.59863 ,   267.26724 ,\n",
              "          430.83945 ,   155.09865 ,   102.19755 ,   104.29139 ,\n",
              "          134.8001  ,   115.84219 ,    87.16393 ,   114.129524,\n",
              "           98.349266,   110.16961 ,   131.03784 ,   170.85223 ,\n",
              "          231.08643 ,   207.55775 ,   392.8599  ,   512.92303 ,\n",
              "          626.7     ,   620.80743 ,   584.8912  ,   550.5765  ,\n",
              "          449.59775 ,   401.60034 ,   410.80078 ,   474.11948 ,\n",
              "          578.23083 ,   563.255   ,   569.5002  ,   542.92816 ,\n",
              "          179.27727 ,   267.4708  ,   245.16267 ,   440.59705 ,\n",
              "          544.3694  ,   416.85922 ,   332.45215 ,   411.85672 ,\n",
              "          366.20926 ,   494.10425 ,   620.623   ,   732.83234 ,\n",
              "          836.54144 ,   651.3859  ,   310.6123  ,   204.30034 ,\n",
              "          240.67656 ,   239.99997 ,   267.58243 ,   374.9491  ,\n",
              "          414.78098 ,   594.9079  ,   513.56586 ,   497.04144 ,\n",
              "          390.102   ,   287.25305 ,   199.31937 ,   273.309   ,\n",
              "          395.70358 ,   564.5571  ,   679.62646 ,   794.9929  ,\n",
              "          551.0861  ,   328.78287 ,   230.6733  ,   348.43958 ,\n",
              "          463.29724 ,   518.76544 ,   581.2177  ,   673.3315  ,\n",
              "         1040.9092  ,   984.61163 ,   881.9492  ,   407.7241  ,\n",
              "          209.05605 ,   282.40405 ,   224.09758 ,   381.20724 ,\n",
              "          364.55005 ,   482.90762 ,   606.3562  ,  1369.3035  ,\n",
              "         1955.875   ,  2472.0725  ,  2281.1157  ,  2392.6116  ,\n",
              "         2438.7737  ,  2658.263   ,  1332.6954  ,   756.1659  ,\n",
              "          488.4069  ,   443.81427 ,   610.1254  ,   538.5535  ,\n",
              "          562.5002  ,   398.52213 ,   422.99796 ,   351.07635 ,\n",
              "          391.63327 ,   327.89615 ,   390.2274  ,   441.81464 ,\n",
              "          450.58386 ,   464.98334 ,   327.99857 ,   647.3225  ,\n",
              "          718.596   ,   487.81613 ,   401.15176 ,   251.49767 ,\n",
              "          318.90295 ,   247.29744 ,   243.70172 ,   554.295   ,\n",
              "          389.33542 ,   563.00256 ,   449.1937  ,   368.2521  ,\n",
              "          216.73863 ,   228.60077 ,   253.50656 ,   195.40953 ,\n",
              "          328.90305 ,   301.13254 ,   261.05954 ,   299.30923 ,\n",
              "          336.1639  ,   424.21292 ,   568.2515  ,   846.1345  ,\n",
              "          741.4991  ,   835.74347 ,  1026.4037  ,  1032.8168  ,\n",
              "         1066.7773  ,  1088.5314  ,   567.58813 ,   456.37512 ,\n",
              "          534.5274  ,   493.03748 ,   454.0234  ,   447.89532 ,\n",
              "          505.8445  ,   559.34015 ,   794.6417  ,  1051.7407  ,\n",
              "          949.5857  ,   420.0524  ,   583.75574 ,   766.8283  ,\n",
              "          393.9448  ,   271.5239  ,   328.45486 ,   273.38217 ,\n",
              "          459.79843 ,   474.44547 ,   683.7042  ,   627.1803  ,\n",
              "          395.25717 ,   294.1816  ,   344.61108 ,   340.8938  ,\n",
              "          646.18976 ,   826.29083 ,   759.8577  ,   527.62366 ,\n",
              "          437.08224 ,   212.44153 ,   310.81293 ,   368.76447 ,\n",
              "          186.14839 ,   165.25143 ,   347.65128 ,   232.26811 ,\n",
              "          201.4236  ,   274.34467 ,   314.36627 ,   426.29636 ,\n",
              "          536.3948  ,   180.76097 ,   137.17561 ,   176.92586 ,\n",
              "          191.66447 ,   233.55795 ,   205.15982 ,   193.96477 ,\n",
              "          158.37938 ,   173.75351 ,   196.899   ,   214.98743 ,\n",
              "          308.80344 ,   578.7722  ,   291.9139  ,   298.9718  ,\n",
              "          160.34163 ,    70.31796 ,    93.7884  ,    92.14277 ,\n",
              "          125.336136,   188.57628 ,   177.87212 ,   192.29436 ,\n",
              "           82.23441 ,   190.28319 ,    63.71379 ,   116.19328 ,\n",
              "          216.35071 ,   163.89487 ,   151.73482 ,    86.863884,\n",
              "           96.769005,   134.91113 ,   183.88277 ,   169.08778 ,\n",
              "          228.06248 ,   254.85767 ,   323.2198  ,   382.1092  ,\n",
              "          845.0708  ,   978.83875 ,  1106.8406  ,  1137.8871  ,\n",
              "         1297.9513  ,  1443.756   ,  1342.1517  ,   586.4493  ,\n",
              "          289.49316 ,   296.49872 ,   253.37482 ,   322.97748 ,\n",
              "          452.819   ,   177.2128  ,   159.41504 ,   222.75017 ,\n",
              "          180.75943 ,   332.39722 ,   360.73795 ,   353.17947 ,\n",
              "          308.38278 ,   398.5409  ,   305.48105 ,   306.17374 ,\n",
              "          239.22673 ,   231.69418 ,   203.4482  ,   272.8031  ,\n",
              "          453.58484 ,   605.1342  ,   341.84064 ,   342.35202 ,\n",
              "          203.13878 ,   301.69    ,   418.59082 ,   330.615   ,\n",
              "          227.8068  ,   302.17157 ,   347.41245 ,   462.18936 ,\n",
              "          706.6529  ,   953.94476 ,  1178.8766  ,  1550.5745  ,\n",
              "         1397.7235  ,   907.484   ,   599.64594 ,   163.63843 ,\n",
              "          216.6853  ,   267.19574 ,   386.9152  ,   533.65094 ,\n",
              "          506.05673 ,   492.46497 ,   483.18704 ,   408.6979  ,\n",
              "          241.33325 ,   158.50517 ,   382.8782  ,   507.31757 ,\n",
              "          424.08734 ,   561.549   ,   378.2531  ,   233.61456 ,\n",
              "          200.64667 ,   323.2621  ,   156.97244 ,   135.07304 ,\n",
              "          179.51541 ,   270.8667  ,   342.5561  ,   304.90665 ,\n",
              "          224.94034 ,   178.04294 ,   217.77187 ,   347.27786 ,\n",
              "          439.46112 ,   555.2818  ,   634.2857  ,   706.8563  ,\n",
              "          625.65063 ,   516.3012  ,   197.0144  ,   111.47874 ,\n",
              "          341.5623  ,   267.38492 ,   629.60846 ,   865.1527  ,\n",
              "          987.55475 ,  1231.3138  ,  1322.5634  ,  1255.7819  ,\n",
              "         1257.5118  ,   495.557   ,   303.8322  ,   256.00403 ,\n",
              "          363.02582 ,   339.28366 ,   319.8561  ,   269.32864 ,\n",
              "          232.46918 ,   724.49756 ,   975.0744  ,   962.40955 ,\n",
              "         1055.3004  ,  1265.3215  ,  1255.7555  ,  1215.6279  ,\n",
              "          619.132   ,   608.0658  ,   488.69116 ,   378.37762 ,\n",
              "          657.84735 ,  1033.4591  ,  1083.5144  ,  1003.4671  ,\n",
              "         1258.4258  ,  1486.6501  ,  1942.9149  ,  1581.2511  ,\n",
              "         1090.6722  ,   599.0661  ,   550.99255 ,   918.9159  ,\n",
              "         1158.0676  ,  1355.7782  ,  1324.2477  ,  1410.9067  ,\n",
              "         1245.7611  ,   868.5482  ,  1409.5743  ,  1407.4832  ,\n",
              "         1326.4523  ,   358.0952  ,   232.55263 ,   582.8639  ,\n",
              "          876.85065 ,   719.2765  ,   747.0222  ,   671.51483 ,\n",
              "          679.44275 ,   637.2106  ,  1098.3644  ,  2102.0935  ,\n",
              "         3021.8337  ,  3366.7996  ,  3608.4978  ,  3657.063   ,\n",
              "         3610.6318  ,  2386.8252  ,  1023.07465 ,   745.6134  ,\n",
              "         1204.409   ,  1486.9772  ,  1713.6095  ,  2043.1968  ,\n",
              "         2977.9348  ,  3359.7454  ,  3266.3103  ,  3123.308   ,\n",
              "         3376.0203  ,  3388.5605  ,  4065.6672  ,  4139.0586  ,\n",
              "         5144.2217  ,  6063.9585  ,  5449.139   ,  4620.7734  ,\n",
              "         4956.4517  ,  3753.0093  ,  2825.3862  ,  3163.0654  ,\n",
              "         4897.586   ,  6082.1235  ,  5285.2935  ,  1470.5078  ,\n",
              "         1399.6504  ,   982.9033  ,  2915.0703  ,  3562.1665  ,\n",
              "         3627.598   ,  3744.0452  ,  3320.3347  ,  3836.6165  ,\n",
              "         3838.7922  ,  1021.2842  ,  1584.906   ,  1681.5083  ,\n",
              "         1420.0408  ,  1529.257   ,  2573.9324  ,  4094.8315  ,\n",
              "         4014.719   ,  2972.0286  ,  3289.5508  ,  3678.1934  ,\n",
              "         5625.3306  ,  6658.349   ,  5964.0884  ,  5999.554   ,\n",
              "         6918.7725  ,  6512.815   ,  8146.3286  ,  4829.75    ,\n",
              "         1773.3251  ,  2207.7937  ,  2186.6865  ,  3277.9807  ,\n",
              "         3288.2878  ,  4157.1885  ,  3382.9626  ,  3867.0903  ,\n",
              "         2978.789   ,  3413.4229  ,  6796.723   ,  7896.2534  ,\n",
              "        10591.005   ,  9050.421   ,  5145.3765  ,  3541.5222  ,\n",
              "         2371.4524  ,  1897.4427  ,  2799.0288  ,  4115.3228  ,\n",
              "         3263.1453  ,  3511.3958  ,  4185.023   ,  4979.0283  ,\n",
              "         6152.212   ,  7255.3374  ,  6920.228   ,  5877.097   ,\n",
              "         4485.6606  ,  2742.5952  ,  2058.7795  ,  1749.8142  ,\n",
              "         1854.9214  ,  3063.0415  ,  2417.8008  ,  2082.8877  ,\n",
              "         3706.5693  ,  5011.345   ,  6194.545   ,  5777.4233  ,\n",
              "         5493.339   ,  1932.9486  ,  2544.5715  ,  3397.431   ,\n",
              "         4103.1787  ,  4588.8667  ,  2412.1162  ,  2593.9094  ,\n",
              "         1797.1744  ,   824.5045  ,   890.88385 ,  1088.9098  ,\n",
              "          984.5117  ,   797.36365 ,  1260.5194  ,  1714.1178  ,\n",
              "         2101.745   ,  3231.0405  ,  3991.7598  ,  3979.513   ,\n",
              "         2832.5378  ,  2628.4182  ,  2795.5276  ,  4343.883   ,\n",
              "         6468.552   ,  7880.3247  ,  9212.118   ,  8611.701   ,\n",
              "         6801.7197  ,  5056.5693  ,  4957.374   ,  3206.6055  ,\n",
              "         2309.5498  ,  3407.3103  ,  4844.4473  ,  6424.411   ,\n",
              "         4129.0503  ,  1974.1885  ,  2156.7583  ,  2511.9255  ,\n",
              "         1899.6758  ,  2133.827   ,  1844.9868  ,  2284.95    ,\n",
              "         2374.0916  ,  2090.2056  ,  3063.0718  ,  4597.432   ,\n",
              "         6826.6777  ,  8129.12    ,  8952.454   ], dtype=float32)}"
            ]
          },
          "metadata": {},
          "execution_count": 210
        }
      ]
    },
    {
      "cell_type": "code",
      "source": [
        "model_3_preds.shape, model_2_preds.shape"
      ],
      "metadata": {
        "colab": {
          "base_uri": "https://localhost:8080/"
        },
        "id": "PM8pL1I-FvQI",
        "outputId": "5bf1b075-8151-4d66-91ab-af06d84f2ba3"
      },
      "execution_count": 211,
      "outputs": [
        {
          "output_type": "execute_result",
          "data": {
            "text/plain": [
              "(TensorShape([551, 7]), TensorShape([552]))"
            ]
          },
          "metadata": {},
          "execution_count": 211
        }
      ]
    },
    {
      "cell_type": "markdown",
      "source": [
        "## Make our evaluation function work for larger horizons\n",
        "\n",
        "You'll notice the outputs for `model_3_results` are multi-dimensional. \n",
        "\n",
        "This is because the predictions are getting evaluated across the `HORIZON` timesteps (7 predictions at a time).\n",
        "\n",
        "To fix this, let's adjust our `evaluate_preds()` function to work with multiple shapes of data."
      ],
      "metadata": {
        "id": "kjS7XrTpFgWF"
      }
    },
    {
      "cell_type": "code",
      "source": [
        "model_3_results[\"mae\"].shape, model_2_results[\"mae\"].shape, model_3_results[\"mae\"].ndim, model_2_results[\"mae\"].ndim"
      ],
      "metadata": {
        "colab": {
          "base_uri": "https://localhost:8080/"
        },
        "id": "imYG1JxaKG--",
        "outputId": "01745775-18f6-4183-b6b0-dc9f25848c52"
      },
      "execution_count": 212,
      "outputs": [
        {
          "output_type": "execute_result",
          "data": {
            "text/plain": [
              "((551,), (), 1, 0)"
            ]
          },
          "metadata": {},
          "execution_count": 212
        }
      ]
    },
    {
      "cell_type": "code",
      "source": [
        "# Create a function to take in model predictions and truth values and return evaluation metrics\n",
        "def evaluate_preds(y_true, y_pred):\n",
        "  # Make sure float32 (for metric calculations). Float 32 - default tf size, so float64 may call error\n",
        "  y_true = tf.cast(y_true, dtype=tf.float32)\n",
        "  y_pred = tf.cast(y_pred, dtype=tf.float32)\n",
        "\n",
        "  # Calculate evaluation metrics\n",
        "  mae = tf.keras.metrics.mean_absolute_error(y_true, y_pred)\n",
        "  mse = tf.keras.metrics.mean_squared_error(y_true, y_pred)\n",
        "  rmse = tf.sqrt(mse)\n",
        "  mape = tf.keras.metrics.mean_absolute_percentage_error(y_true, y_pred)\n",
        "  mase = mean_absolute_scaled_error(y_true, y_pred)\n",
        "\n",
        "  # Account for different sized metrics (for longer horizons, reduce to single number)\n",
        "  if mae.ndim > 0: # if mae isn't already a scalar, reduce it to one by aggregating tensors to mean\n",
        "    mae = tf.reduce_mean(mae)\n",
        "    mse = tf.reduce_mean(mse)\n",
        "    rmse = tf.reduce_mean(rmse)\n",
        "    mape = tf.reduce_mean(mape)\n",
        "    mase = tf.reduce_mean(mase)\n",
        "\n",
        "  return {\"mae\": mae.numpy(),\n",
        "          \"mse\": mse.numpy(),\n",
        "          \"rmse\": rmse.numpy(),\n",
        "          \"mape\": mape.numpy(),\n",
        "          \"mase\": mase.numpy()}"
      ],
      "metadata": {
        "id": "HP786whOFpda"
      },
      "execution_count": 213,
      "outputs": []
    },
    {
      "cell_type": "code",
      "source": [
        "model_3_results = evaluate_preds(y_true=tf.squeeze(model_3_test_labels),\n",
        "                                 y_pred=model_3_preds)\n",
        "model_3_results"
      ],
      "metadata": {
        "colab": {
          "base_uri": "https://localhost:8080/"
        },
        "id": "68AWIoz0MwrR",
        "outputId": "25795e5c-a809-459b-c381-22e04f41642f"
      },
      "execution_count": 214,
      "outputs": [
        {
          "output_type": "execute_result",
          "data": {
            "text/plain": [
              "{'mae': 1228.1416,\n",
              " 'mape': 5.4698334,\n",
              " 'mase': 2.1854093,\n",
              " 'mse': 5323686.5,\n",
              " 'rmse': 1412.9114}"
            ]
          },
          "metadata": {},
          "execution_count": 214
        }
      ]
    },
    {
      "cell_type": "code",
      "source": [
        "naive_results"
      ],
      "metadata": {
        "colab": {
          "base_uri": "https://localhost:8080/"
        },
        "id": "qTkZrAfVMz-o",
        "outputId": "7aeb37f9-9c06-4801-9539-0e7db349f756"
      },
      "execution_count": 215,
      "outputs": [
        {
          "output_type": "execute_result",
          "data": {
            "text/plain": [
              "{'mae': 567.9802,\n",
              " 'mape': 2.5165248,\n",
              " 'mase': 0.99957,\n",
              " 'mse': 1147547.0,\n",
              " 'rmse': 1071.2362}"
            ]
          },
          "metadata": {},
          "execution_count": 215
        }
      ]
    },
    {
      "cell_type": "code",
      "source": [
        "offset = 300\n",
        "plt.figure(figsize=(10, 7))\n",
        "plot_time_series(timesteps=X_test[-len(model_3_test_windows):], values=model_3_test_labels[:, 0], start=offset, label=\"Test_data\")\n",
        "# Checking the shape of model_3_preds results in [n_test_samples, HORIZON] (this will screw up the plot)\n",
        "plot_time_series(timesteps=X_test[-len(model_3_test_windows):], values=model_3_preds, start=offset, label=\"model_3_preds\")"
      ],
      "metadata": {
        "colab": {
          "base_uri": "https://localhost:8080/",
          "height": 442
        },
        "id": "SsPMEEYHNIgS",
        "outputId": "1ce67cc9-b87d-4885-e000-d8395d748f85"
      },
      "execution_count": 216,
      "outputs": [
        {
          "output_type": "display_data",
          "data": {
            "image/png": "[encoded data removed]",
            "text/plain": [
              "<Figure size 720x504 with 1 Axes>"
            ]
          },
          "metadata": {
            "needs_background": "light"
          }
        }
      ]
    },
    {
      "cell_type": "markdown",
      "source": [
        "When we try to plot our multi-horizon predicts, we get a funky looking plot.\n",
        "\n",
        "Again, we can fix this by aggregating our model's predictions.\n",
        "\n",
        "> 🔑 **Note:** Aggregating the predictions (e.g. reducing a 7-day horizon to one value such as the mean) loses information from the original prediction. As in, the model predictions were trained to be made for 7-days but by reducing them to one, we gain the ability to plot them visually but we lose the extra information contained across multiple days."
      ],
      "metadata": {
        "id": "t_D3fWZdOpCu"
      }
    },
    {
      "cell_type": "code",
      "source": [
        "model_3_preds[0], tf.reduce_mean(model_3_preds[0])"
      ],
      "metadata": {
        "colab": {
          "base_uri": "https://localhost:8080/"
        },
        "id": "WXxUQRziSklL",
        "outputId": "f9fc48a5-b41c-46f5-c606-9eb4afdf7878"
      },
      "execution_count": 217,
      "outputs": [
        {
          "output_type": "execute_result",
          "data": {
            "text/plain": [
              "(<tf.Tensor: shape=(7,), dtype=float32, numpy=\n",
              " array([9233.328, 9332.702, 9363.651, 9442.775, 9401.978, 9414.001,\n",
              "        9280.01 ], dtype=float32)>,\n",
              " <tf.Tensor: shape=(), dtype=float32, numpy=9352.635>)"
            ]
          },
          "metadata": {},
          "execution_count": 217
        }
      ]
    },
    {
      "cell_type": "code",
      "source": [
        "offset = 300\n",
        "plt.figure(figsize=(10, 7))\n",
        "plot_time_series(timesteps=X_test[-len(model_3_test_windows):], values=model_3_test_labels[:, 0], start=offset, label=\"Test_data\")\n",
        "# Checking the shape of model_3_preds results in [n_test_samples, HORIZON] (this will screw up the plot)\n",
        "plot_time_series(timesteps=X_test[-len(model_3_test_windows):], \n",
        "                 values=tf.reduce_mean(model_3_preds, axis=1), # use mean value\n",
        "                 start=offset, \n",
        "                 format=\"-\",\n",
        "                 label=\"model_3_preds\")"
      ],
      "metadata": {
        "colab": {
          "base_uri": "https://localhost:8080/",
          "height": 442
        },
        "id": "B6gsQu69PDWr",
        "outputId": "96a27bfd-f6b1-4995-c0f9-6f05316db75c"
      },
      "execution_count": 218,
      "outputs": [
        {
          "output_type": "display_data",
          "data": {
            "image/png": "[encoded data removed]",
            "text/plain": [
              "<Figure size 720x504 with 1 Axes>"
            ]
          },
          "metadata": {
            "needs_background": "light"
          }
        }
      ]
    },
    {
      "cell_type": "markdown",
      "source": [
        "## Which of our models is performing best so far?\n",
        "\n",
        "So far, we've trained 3 models which use the same architecture but use different data inputs.\n",
        "\n",
        "Let's compare them with the naïve model to see which model is performing the best so far."
      ],
      "metadata": {
        "id": "6VbfnHTcQJnc"
      }
    },
    {
      "cell_type": "code",
      "source": [
        "pd.DataFrame({\"naive\": naive_results[\"mae\"],\n",
        "              \"horizon_1_window_7\": model_1_results[\"mae\"],\n",
        "              \"horizon_1_window_30\": model_2_results[\"mae\"],\n",
        "              \"horizon_7_window_30\": model_3_results[\"mae\"]}, index = [\"mae\"])"
      ],
      "metadata": {
        "colab": {
          "base_uri": "https://localhost:8080/",
          "height": 81
        },
        "id": "dbWAp8smRXAb",
        "outputId": "c6de09bc-83f6-42a6-aae2-122e2796aa04"
      },
      "execution_count": 219,
      "outputs": [
        {
          "output_type": "execute_result",
          "data": {
            "text/html": [
              "\n",
              "  <div id=\"df-6d58c946-d434-4aef-aaea-29e9a5c60550\">\n",
              "    <div class=\"colab-df-container\">\n",
              "      <div>\n",
              "<style scoped>\n",
              "    .dataframe tbody tr th:only-of-type {\n",
              "        vertical-align: middle;\n",
              "    }\n",
              "\n",
              "    .dataframe tbody tr th {\n",
              "        vertical-align: top;\n",
              "    }\n",
              "\n",
              "    .dataframe thead th {\n",
              "        text-align: right;\n",
              "    }\n",
              "</style>\n",
              "<table border=\"1\" class=\"dataframe\">\n",
              "  <thead>\n",
              "    <tr style=\"text-align: right;\">\n",
              "      <th></th>\n",
              "      <th>naive</th>\n",
              "      <th>horizon_1_window_7</th>\n",
              "      <th>horizon_1_window_30</th>\n",
              "      <th>horizon_7_window_30</th>\n",
              "    </tr>\n",
              "  </thead>\n",
              "  <tbody>\n",
              "    <tr>\n",
              "      <th>mae</th>\n",
              "      <td>567.980225</td>\n",
              "      <td>568.549805</td>\n",
              "      <td>608.848145</td>\n",
              "      <td>1228.141602</td>\n",
              "    </tr>\n",
              "  </tbody>\n",
              "</table>\n",
              "</div>\n",
              "      <button class=\"colab-df-convert\" onclick=\"convertToInteractive('df-6d58c946-d434-4aef-aaea-29e9a5c60550')\"\n",
              "              title=\"Convert this dataframe to an interactive table.\"\n",
              "              style=\"display:none;\">\n",
              "        \n",
              "  <svg xmlns=\"http://www.w3.org/2000/svg\" height=\"24px\"viewBox=\"0 0 24 24\"\n",
              "       width=\"24px\">\n",
              "    <path d=\"M0 0h24v24H0V0z\" fill=\"none\"/>\n",
              "    <path d=\"M18.56 5.44l.94 2.06.94-2.06 2.06-.94-2.06-.94-.94-2.06-.94 2.06-2.06.94zm-11 1L8.5 8.5l.94-2.06 2.06-.94-2.06-.94L8.5 2.5l-.94 2.06-2.06.94zm10 10l.94 2.06.94-2.06 2.06-.94-2.06-.94-.94-2.06-.94 2.06-2.06.94z\"/><path d=\"M17.41 7.96l-1.37-1.37c-.4-.4-.92-.59-1.43-.59-.52 0-1.04.2-1.43.59L10.3 9.45l-7.72 7.72c-.78.78-.78 2.05 0 2.83L4 21.41c.39.39.9.59 1.41.59.51 0 1.02-.2 1.41-.59l7.78-7.78 2.81-2.81c.8-.78.8-2.07 0-2.86zM5.41 20L4 18.59l7.72-7.72 1.47 1.35L5.41 20z\"/>\n",
              "  </svg>\n",
              "      </button>\n",
              "      \n",
              "  <style>\n",
              "    .colab-df-container {\n",
              "      display:flex;\n",
              "      flex-wrap:wrap;\n",
              "      gap: 12px;\n",
              "    }\n",
              "\n",
              "    .colab-df-convert {\n",
              "      background-color: #E8F0FE;\n",
              "      border: none;\n",
              "      border-radius: 50%;\n",
              "      cursor: pointer;\n",
              "      display: none;\n",
              "      fill: #1967D2;\n",
              "      height: 32px;\n",
              "      padding: 0 0 0 0;\n",
              "      width: 32px;\n",
              "    }\n",
              "\n",
              "    .colab-df-convert:hover {\n",
              "      background-color: #E2EBFA;\n",
              "      box-shadow: 0px 1px 2px rgba(60, 64, 67, 0.3), 0px 1px 3px 1px rgba(60, 64, 67, 0.15);\n",
              "      fill: #174EA6;\n",
              "    }\n",
              "\n",
              "    [theme=dark] .colab-df-convert {\n",
              "      background-color: #3B4455;\n",
              "      fill: #D2E3FC;\n",
              "    }\n",
              "\n",
              "    [theme=dark] .colab-df-convert:hover {\n",
              "      background-color: #434B5C;\n",
              "      box-shadow: 0px 1px 3px 1px rgba(0, 0, 0, 0.15);\n",
              "      filter: drop-shadow(0px 1px 2px rgba(0, 0, 0, 0.3));\n",
              "      fill: #FFFFFF;\n",
              "    }\n",
              "  </style>\n",
              "\n",
              "      <script>\n",
              "        const buttonEl =\n",
              "          document.querySelector('#df-6d58c946-d434-4aef-aaea-29e9a5c60550 button.colab-df-convert');\n",
              "        buttonEl.style.display =\n",
              "          google.colab.kernel.accessAllowed ? 'block' : 'none';\n",
              "\n",
              "        async function convertToInteractive(key) {\n",
              "          const element = document.querySelector('#df-6d58c946-d434-4aef-aaea-29e9a5c60550');\n",
              "          const dataTable =\n",
              "            await google.colab.kernel.invokeFunction('convertToInteractive',\n",
              "                                                     [key], {});\n",
              "          if (!dataTable) return;\n",
              "\n",
              "          const docLinkHtml = 'Like what you see? Visit the ' +\n",
              "            '<a target=\"_blank\" href=https://colab.research.google.com/notebooks/data_table.ipynb>data table notebook</a>'\n",
              "            + ' to learn more about interactive tables.';\n",
              "          element.innerHTML = '';\n",
              "          dataTable['output_type'] = 'display_data';\n",
              "          await google.colab.output.renderOutput(dataTable, element);\n",
              "          const docLink = document.createElement('div');\n",
              "          docLink.innerHTML = docLinkHtml;\n",
              "          element.appendChild(docLink);\n",
              "        }\n",
              "      </script>\n",
              "    </div>\n",
              "  </div>\n",
              "  "
            ],
            "text/plain": [
              "          naive  horizon_1_window_7  horizon_1_window_30  horizon_7_window_30\n",
              "mae  567.980225          568.549805           608.848145          1228.141602"
            ]
          },
          "metadata": {},
          "execution_count": 219
        }
      ]
    },
    {
      "cell_type": "code",
      "source": [
        "pd.DataFrame({\"naive\": naive_results[\"mae\"],\n",
        "              \"horizon_1_window_7\": model_1_results[\"mae\"],\n",
        "              \"horizon_1_window_30\": model_2_results[\"mae\"],\n",
        "              \"horizon_7_window_30\": model_3_results[\"mae\"]}, index = [\"mae\"]).plot(figsize=(10,7), kind=\"bar\")"
      ],
      "metadata": {
        "colab": {
          "base_uri": "https://localhost:8080/",
          "height": 458
        },
        "id": "vlCAAFFYYlAy",
        "outputId": "032c63c1-7b91-4765-97a9-75da6041d6ce"
      },
      "execution_count": 220,
      "outputs": [
        {
          "output_type": "execute_result",
          "data": {
            "text/plain": [
              "<matplotlib.axes._subplots.AxesSubplot at 0x7fd39a729650>"
            ]
          },
          "metadata": {},
          "execution_count": 220
        },
        {
          "output_type": "display_data",
          "data": {
            "image/png": "[encoded data removed]",
            "text/plain": [
              "<Figure size 720x504 with 1 Axes>"
            ]
          },
          "metadata": {
            "needs_background": "light"
          }
        }
      ]
    },
    {
      "cell_type": "markdown",
      "source": [
        "Woah, our naïve model is performing best (it's very hard to beat a naïve model in open systems) but the dense model with a horizon of 1 and a window size of 7 looks to be performing cloest.\n",
        "\n",
        "Because of this, let's use `HORIZON=1` and `WINDOW_SIZE=7` for our next series of modelling experiments (in other words, we'll use the previous week of Bitcoin prices to try and predict the next day).\n",
        "\n",
        "> 🔑 **Note:** You might be wondering, why are the naïve results so good? One of the reasons could be due the presence of **autocorrelation** in the data. If a time series has **autocorrelation** it means the value at `t+1` (the next timestep) is typically close to the value at `t` (the current timestep). In other words, today's value is probably pretty close to yesterday's value. Of course, this isn't always the case but when it is, a naïve model will often get fairly good results.\n",
        "\n",
        "> 📖 **Resource:** For more on how autocorrelation influences a model's predictions, see the article [*How (not) to use Machine Learning for time series forecasting: Avoiding the pitfalls*](https://towardsdatascience.com/how-not-to-use-machine-learning-for-time-series-forecasting-avoiding-the-pitfalls-19f9d7adf424) by Vegard Flovik"
      ],
      "metadata": {
        "id": "3LS8emzdZFoB"
      }
    },
    {
      "cell_type": "markdown",
      "source": [
        "## Model 4: Conv1D\n",
        "\n",
        "Onto the next modelling experiment!\n",
        "\n",
        "This time, we'll be using a Conv1D model. Because as we saw in the sequence modelling notebook, Conv1D models can be used for seq2seq (sequence to sequence) problems.\n",
        "\n",
        "In our case, the input sequence is the previous 7 days of Bitcoin price data and the output is the next day (in seq2seq terms this is called a many to one problem).\n",
        "\n",
        "![bitcoin prediction in seq2seq terms](https://raw.githubusercontent.com/mrdbourke/tensorflow-deep-learning/main/images/10-bitcoin-forecast-in-seq2seq-terms.png)\n",
        "*Framing Bitcoin forecasting in seq2seq (sequence to sequence) terms. Using a window size of 7 and a horizon of one results in a many to one problem. Using a window size of >1 and a horizon of >1 results in a many to many problem. The diagram comes from Andrei Karpathy's [The Unreasonable Effectiveness of Recurrent Neural Networks](http://karpathy.github.io/2015/05/21/rnn-effectiveness/)*.\n",
        "\n",
        "Before we build a Conv1D model, let's recreate our datasets."
      ],
      "metadata": {
        "id": "XwOURaWvcyy6"
      }
    },
    {
      "cell_type": "code",
      "source": [
        "HORIZON = 1\n",
        "WINDOW_SIZE = 7"
      ],
      "metadata": {
        "id": "UgdGctZQc04h"
      },
      "execution_count": 221,
      "outputs": []
    },
    {
      "cell_type": "code",
      "source": [
        "# Create windowed data\n",
        "model_4_full_windows, model_4_full_labels = make_windows(prices, window_size=WINDOW_SIZE, horizon=HORIZON)\n",
        "len(model_4_full_windows), len(model_4_full_labels)"
      ],
      "metadata": {
        "colab": {
          "base_uri": "https://localhost:8080/"
        },
        "id": "J4Tbmd4MTFyN",
        "outputId": "d9a8b81b-d0d2-4d7e-8cbf-97ca41c0d9f5"
      },
      "execution_count": 222,
      "outputs": [
        {
          "output_type": "execute_result",
          "data": {
            "text/plain": [
              "(2780, 2780)"
            ]
          },
          "metadata": {},
          "execution_count": 222
        }
      ]
    },
    {
      "cell_type": "code",
      "source": [
        "# Create train/test sets\n",
        "model_4_train_windows, model_4_test_windows, model_4_train_labels, model_4_test_labels = make_train_test_splits(windows=model_4_full_windows, labels=model_4_full_labels, test_split=0.2)\n",
        "len(model_4_train_windows), len(model_4_test_windows), len(model_4_train_labels), len(model_4_test_labels)"
      ],
      "metadata": {
        "colab": {
          "base_uri": "https://localhost:8080/"
        },
        "id": "glSAXoIqTVHC",
        "outputId": "2e5ecd49-c63f-4993-c970-7f845e1dfaac"
      },
      "execution_count": 223,
      "outputs": [
        {
          "output_type": "execute_result",
          "data": {
            "text/plain": [
              "(2224, 556, 2224, 556)"
            ]
          },
          "metadata": {},
          "execution_count": 223
        }
      ]
    },
    {
      "cell_type": "markdown",
      "source": [
        "Now, since we're going to be using [Conv1D layers](https://www.tensorflow.org/api_docs/python/tf/keras/layers/Conv1D), we need to make sure our input shapes are correct.\n",
        "\n",
        "The Conv1D layer in TensorFlow takes an input of: `(batch_size, timesteps, input_dim)`.\n",
        "\n",
        "In our case, the `batch_size` (by default this is 32 but we can change it) is handled for us but the other values will be:\n",
        "* `timesteps = WINDOW_SIZE` - the `timesteps` is also often referred to as `features`, our features are the previous `WINDOW_SIZE` values of Bitcoin \n",
        "* `input_dim = HORIZON` - our model views `WINDOW_SIZE` (one week) worth of data at a time to predict `HORIZON` (one day)\n",
        "\n",
        "Right now, our data has the `timesteps` dimension ready but we'll have to adjust it to have the `input_dim` dimension. "
      ],
      "metadata": {
        "id": "He-_oSRWTgmM"
      }
    },
    {
      "cell_type": "code",
      "source": [
        "# Check data sample shapes\n",
        "model_4_train_windows[0].shape # returns (WINDOW_SIZE, )"
      ],
      "metadata": {
        "colab": {
          "base_uri": "https://localhost:8080/"
        },
        "id": "O9P_-_ypT6dq",
        "outputId": "125f1d4d-2bae-4bee-edbd-ce12d2e04072"
      },
      "execution_count": 224,
      "outputs": [
        {
          "output_type": "execute_result",
          "data": {
            "text/plain": [
              "(7,)"
            ]
          },
          "metadata": {},
          "execution_count": 224
        }
      ]
    },
    {
      "cell_type": "markdown",
      "source": [
        "To fix this, we could adjust the shape of all of our `train_windows` or we could use a [`tf.keras.layers.Lamdba`](https://keras.io/api/layers/core_layers/lambda/) (called a Lambda layer) to do this for us in our model.\n",
        "\n",
        "The Lambda layer wraps a function into a layer which can be used with a model.\n",
        "\n",
        "Let's try it out."
      ],
      "metadata": {
        "id": "QH9YbK0JT8O6"
      }
    },
    {
      "cell_type": "code",
      "source": [
        "# Before we pass our data to the Conv1D layer, we have to reshape it in order to make sure it works\n",
        "x = tf.constant(model_4_train_windows[0])\n",
        "x, model_4_train_windows[0]"
      ],
      "metadata": {
        "colab": {
          "base_uri": "https://localhost:8080/"
        },
        "id": "vFgDbTrnT-PW",
        "outputId": "bbe1e539-392f-4b81-f20f-921736bfec94"
      },
      "execution_count": 225,
      "outputs": [
        {
          "output_type": "execute_result",
          "data": {
            "text/plain": [
              "(<tf.Tensor: shape=(7,), dtype=float64, numpy=\n",
              " array([123.65499, 125.455  , 108.58483, 118.67466, 121.33866, 120.65533,\n",
              "        121.795  ])>,\n",
              " array([123.65499, 125.455  , 108.58483, 118.67466, 121.33866, 120.65533,\n",
              "        121.795  ]))"
            ]
          },
          "metadata": {},
          "execution_count": 225
        }
      ]
    },
    {
      "cell_type": "code",
      "source": [
        "expand_dims_layer = layers.Lambda(lambda x: tf.expand_dims(x, axis=1)) # add an extra dimension for timesteps (input_dim)\n",
        "expand_dims_layer"
      ],
      "metadata": {
        "colab": {
          "base_uri": "https://localhost:8080/"
        },
        "id": "9RqP9k-NWdEq",
        "outputId": "004beed6-8b53-4401-d51b-a0120d0e91e0"
      },
      "execution_count": 226,
      "outputs": [
        {
          "output_type": "execute_result",
          "data": {
            "text/plain": [
              "<keras.layers.core.lambda_layer.Lambda at 0x7fd39b1fdbd0>"
            ]
          },
          "metadata": {},
          "execution_count": 226
        }
      ]
    },
    {
      "cell_type": "code",
      "source": [
        "# Test out our lambda layer\n",
        "print(f\"Original shape: {x.shape}\") # (WINDOW_SIZE)\n",
        "print(f\"Expanded shape: {expand_dims_layer(x).shape}\") # (WINDOW_SIZE, input_dim) \n",
        "print(f\"Original values with expanded shape:\\n {expand_dims_layer(x)}\")"
      ],
      "metadata": {
        "colab": {
          "base_uri": "https://localhost:8080/"
        },
        "id": "mE0tDi4GXv39",
        "outputId": "987bf041-9a59-4eb8-bd2c-d79b71b151c0"
      },
      "execution_count": 227,
      "outputs": [
        {
          "output_type": "stream",
          "name": "stdout",
          "text": [
            "Original shape: (7,)\n",
            "Expanded shape: (7, 1)\n",
            "Original values with expanded shape:\n",
            " [[123.65499]\n",
            " [125.455  ]\n",
            " [108.58483]\n",
            " [118.67466]\n",
            " [121.33866]\n",
            " [120.65533]\n",
            " [121.795  ]]\n"
          ]
        }
      ]
    },
    {
      "cell_type": "markdown",
      "source": [
        "Now we've got a Lambda layer, let's build, compile, fit and evaluate a Conv1D model on our data.\n",
        "\n",
        "> 🔑 **Note:** If you run the model below without the Lambda layer, you'll get an input shape error (one of the most common errors when building neural networks)."
      ],
      "metadata": {
        "id": "Dv0BqNbKX2lB"
      }
    },
    {
      "cell_type": "code",
      "source": [
        "tf.random.set_seed(42)\n",
        "\n",
        "# Create model\n",
        "model_4 = tf.keras.Sequential([\n",
        "  # Create Lambda layer to reshape inputs, without this layer, the model will error\n",
        "  layers.Lambda(lambda x: tf.expand_dims(x, axis=1)),  # resize the inputs to adjust for window size / Conv1D 3D input requirements\n",
        "  layers.Conv1D(filters=128, kernel_size=5, strides=1, padding=\"causal\", activation=\"relu\"), # kernel_size - size of sliding window\n",
        "  layers.Dense(HORIZON)\n",
        "], name=\"model_4_conv1D\")\n",
        "\n",
        "# Compile\n",
        "model_4.compile(loss=\"mae\",\n",
        "                optimizer=tf.keras.optimizers.Adam())\n",
        "\n",
        "# Fit\n",
        "model_4.fit(model_4_train_windows,\n",
        "            model_4_train_labels,\n",
        "            batch_size=128,\n",
        "            epochs=100,\n",
        "            verbose=0,\n",
        "            validation_data=(model_4_test_windows, model_4_test_labels),\n",
        "            callbacks=[create_model_checkpoint(model_name=model_4.name)])"
      ],
      "metadata": {
        "colab": {
          "base_uri": "https://localhost:8080/"
        },
        "id": "UWQQegy1Yg_T",
        "outputId": "ee21d9ab-690c-4d64-c130-59dbe1e6b1ca"
      },
      "execution_count": 228,
      "outputs": [
        {
          "output_type": "stream",
          "name": "stdout",
          "text": [
            "INFO:tensorflow:Assets written to: model_experiments/model_4_conv1D/assets\n",
            "INFO:tensorflow:Assets written to: model_experiments/model_4_conv1D/assets\n",
            "INFO:tensorflow:Assets written to: model_experiments/model_4_conv1D/assets\n",
            "INFO:tensorflow:Assets written to: model_experiments/model_4_conv1D/assets\n",
            "INFO:tensorflow:Assets written to: model_experiments/model_4_conv1D/assets\n",
            "INFO:tensorflow:Assets written to: model_experiments/model_4_conv1D/assets\n",
            "INFO:tensorflow:Assets written to: model_experiments/model_4_conv1D/assets\n",
            "INFO:tensorflow:Assets written to: model_experiments/model_4_conv1D/assets\n",
            "INFO:tensorflow:Assets written to: model_experiments/model_4_conv1D/assets\n",
            "INFO:tensorflow:Assets written to: model_experiments/model_4_conv1D/assets\n",
            "INFO:tensorflow:Assets written to: model_experiments/model_4_conv1D/assets\n",
            "INFO:tensorflow:Assets written to: model_experiments/model_4_conv1D/assets\n",
            "INFO:tensorflow:Assets written to: model_experiments/model_4_conv1D/assets\n",
            "INFO:tensorflow:Assets written to: model_experiments/model_4_conv1D/assets\n",
            "INFO:tensorflow:Assets written to: model_experiments/model_4_conv1D/assets\n",
            "INFO:tensorflow:Assets written to: model_experiments/model_4_conv1D/assets\n",
            "INFO:tensorflow:Assets written to: model_experiments/model_4_conv1D/assets\n",
            "INFO:tensorflow:Assets written to: model_experiments/model_4_conv1D/assets\n",
            "INFO:tensorflow:Assets written to: model_experiments/model_4_conv1D/assets\n",
            "INFO:tensorflow:Assets written to: model_experiments/model_4_conv1D/assets\n",
            "INFO:tensorflow:Assets written to: model_experiments/model_4_conv1D/assets\n",
            "INFO:tensorflow:Assets written to: model_experiments/model_4_conv1D/assets\n",
            "INFO:tensorflow:Assets written to: model_experiments/model_4_conv1D/assets\n",
            "INFO:tensorflow:Assets written to: model_experiments/model_4_conv1D/assets\n",
            "INFO:tensorflow:Assets written to: model_experiments/model_4_conv1D/assets\n",
            "INFO:tensorflow:Assets written to: model_experiments/model_4_conv1D/assets\n",
            "INFO:tensorflow:Assets written to: model_experiments/model_4_conv1D/assets\n",
            "INFO:tensorflow:Assets written to: model_experiments/model_4_conv1D/assets\n",
            "INFO:tensorflow:Assets written to: model_experiments/model_4_conv1D/assets\n",
            "INFO:tensorflow:Assets written to: model_experiments/model_4_conv1D/assets\n",
            "INFO:tensorflow:Assets written to: model_experiments/model_4_conv1D/assets\n",
            "INFO:tensorflow:Assets written to: model_experiments/model_4_conv1D/assets\n",
            "INFO:tensorflow:Assets written to: model_experiments/model_4_conv1D/assets\n",
            "INFO:tensorflow:Assets written to: model_experiments/model_4_conv1D/assets\n",
            "INFO:tensorflow:Assets written to: model_experiments/model_4_conv1D/assets\n",
            "INFO:tensorflow:Assets written to: model_experiments/model_4_conv1D/assets\n",
            "INFO:tensorflow:Assets written to: model_experiments/model_4_conv1D/assets\n",
            "INFO:tensorflow:Assets written to: model_experiments/model_4_conv1D/assets\n",
            "INFO:tensorflow:Assets written to: model_experiments/model_4_conv1D/assets\n",
            "INFO:tensorflow:Assets written to: model_experiments/model_4_conv1D/assets\n"
          ]
        },
        {
          "output_type": "execute_result",
          "data": {
            "text/plain": [
              "<keras.callbacks.History at 0x7fd39b3fd9d0>"
            ]
          },
          "metadata": {},
          "execution_count": 228
        }
      ]
    },
    {
      "cell_type": "code",
      "source": [
        "model_4.summary()"
      ],
      "metadata": {
        "colab": {
          "base_uri": "https://localhost:8080/"
        },
        "id": "5AMmLvkziaDT",
        "outputId": "ecb672a0-b947-45bf-df13-07be71433f4a"
      },
      "execution_count": 229,
      "outputs": [
        {
          "output_type": "stream",
          "name": "stdout",
          "text": [
            "Model: \"model_4_conv1D\"\n",
            "_________________________________________________________________\n",
            " Layer (type)                Output Shape              Param #   \n",
            "=================================================================\n",
            " lambda_7 (Lambda)           (None, 1, 7)              0         \n",
            "                                                                 \n",
            " conv1d_2 (Conv1D)           (None, 1, 128)            4608      \n",
            "                                                                 \n",
            " dense_14 (Dense)            (None, 1, 1)              129       \n",
            "                                                                 \n",
            "=================================================================\n",
            "Total params: 4,737\n",
            "Trainable params: 4,737\n",
            "Non-trainable params: 0\n",
            "_________________________________________________________________\n"
          ]
        }
      ]
    },
    {
      "cell_type": "code",
      "source": [
        "model_2.summary() # Output shape different"
      ],
      "metadata": {
        "colab": {
          "base_uri": "https://localhost:8080/"
        },
        "id": "LXorwixyi3Jc",
        "outputId": "40970eab-ded3-47df-df82-d12f82f809d9"
      },
      "execution_count": 230,
      "outputs": [
        {
          "output_type": "stream",
          "name": "stdout",
          "text": [
            "Model: \"model_2_dense\"\n",
            "_________________________________________________________________\n",
            " Layer (type)                Output Shape              Param #   \n",
            "=================================================================\n",
            " dense_10 (Dense)            (None, 128)               3968      \n",
            "                                                                 \n",
            " dense_11 (Dense)            (None, 1)                 129       \n",
            "                                                                 \n",
            "=================================================================\n",
            "Total params: 4,097\n",
            "Trainable params: 4,097\n",
            "Non-trainable params: 0\n",
            "_________________________________________________________________\n"
          ]
        }
      ]
    },
    {
      "cell_type": "code",
      "source": [
        "# Evaluate model\n",
        "model_4.evaluate(model_4_test_windows, model_4_test_labels)"
      ],
      "metadata": {
        "colab": {
          "base_uri": "https://localhost:8080/"
        },
        "id": "Y7N8d0KBh6rz",
        "outputId": "b25fa9b7-c842-4388-830a-ed111ecf1ce5"
      },
      "execution_count": 231,
      "outputs": [
        {
          "output_type": "stream",
          "name": "stdout",
          "text": [
            "18/18 [==============================] - 0s 2ms/step - loss: 624.1893\n"
          ]
        },
        {
          "output_type": "execute_result",
          "data": {
            "text/plain": [
              "624.1892700195312"
            ]
          },
          "metadata": {},
          "execution_count": 231
        }
      ]
    },
    {
      "cell_type": "code",
      "source": [
        "# Load back in best performing Conv1D and re-evaluate\n",
        "model_4 = tf.keras.models.load_model(\"/content/model_experiments/model_4_conv1D\")\n",
        "model_4.evaluate(model_4_test_windows, model_4_test_labels)"
      ],
      "metadata": {
        "colab": {
          "base_uri": "https://localhost:8080/"
        },
        "id": "Rfg5ulOpihvk",
        "outputId": "920fc0e7-363f-457a-8afd-0d620cd367c1"
      },
      "execution_count": 232,
      "outputs": [
        {
          "output_type": "stream",
          "name": "stdout",
          "text": [
            "18/18 [==============================] - 0s 2ms/step - loss: 569.0326\n"
          ]
        },
        {
          "output_type": "execute_result",
          "data": {
            "text/plain": [
              "569.0325927734375"
            ]
          },
          "metadata": {},
          "execution_count": 232
        }
      ]
    },
    {
      "cell_type": "code",
      "source": [
        "# Make predictions\n",
        "model_4_preds = make_preds(model_4, model_4_test_windows)\n",
        "model_4_preds[:10]"
      ],
      "metadata": {
        "colab": {
          "base_uri": "https://localhost:8080/"
        },
        "id": "cJSWT0GNjG4d",
        "outputId": "b61d5493-07fd-4050-bd05-ed38ffb41301"
      },
      "execution_count": 233,
      "outputs": [
        {
          "output_type": "execute_result",
          "data": {
            "text/plain": [
              "<tf.Tensor: shape=(10,), dtype=float32, numpy=\n",
              "array([8847.293, 8757.503, 8997.469, 8762.801, 8707.722, 8713.594,\n",
              "       8664.935, 8496.83 , 8439.473, 8499.395], dtype=float32)>"
            ]
          },
          "metadata": {},
          "execution_count": 233
        }
      ]
    },
    {
      "cell_type": "code",
      "source": [
        "# Evaluate predictions\n",
        "model_4_results = evaluate_preds(y_true=tf.squeeze(model_4_test_labels),\n",
        "                                 y_pred=model_4_preds)\n",
        "model_4_results"
      ],
      "metadata": {
        "colab": {
          "base_uri": "https://localhost:8080/"
        },
        "id": "kojlcyBHjYjo",
        "outputId": "d09b9788-373a-45e5-a19f-e7520c08d9c5"
      },
      "execution_count": 234,
      "outputs": [
        {
          "output_type": "execute_result",
          "data": {
            "text/plain": [
              "{'mae': 569.03265,\n",
              " 'mape': 2.5515256,\n",
              " 'mase': 0.9996328,\n",
              " 'mse': 1169841.0,\n",
              " 'rmse': 1081.5919}"
            ]
          },
          "metadata": {},
          "execution_count": 234
        }
      ]
    },
    {
      "cell_type": "code",
      "source": [
        "naive_results"
      ],
      "metadata": {
        "colab": {
          "base_uri": "https://localhost:8080/"
        },
        "id": "HBxEysWqjiZY",
        "outputId": "0923ae90-53aa-4499-f751-244a1d70978c"
      },
      "execution_count": 235,
      "outputs": [
        {
          "output_type": "execute_result",
          "data": {
            "text/plain": [
              "{'mae': 567.9802,\n",
              " 'mape': 2.5165248,\n",
              " 'mase': 0.99957,\n",
              " 'mse': 1147547.0,\n",
              " 'rmse': 1071.2362}"
            ]
          },
          "metadata": {},
          "execution_count": 235
        }
      ]
    },
    {
      "cell_type": "markdown",
      "source": [
        "## Model 5: RNN (LSTM)\n",
        "\n",
        "As you might've guessed, we can also use a recurrent neural network to model our sequential time series data.\n",
        "\n",
        "> 📖 **Resource:** For more on the different types of recurrent neural networks you can use for sequence problems, see the [Recurrent Neural Networks section of notebook 08](https://dev.mrdbourke.com/tensorflow-deep-learning/08_introduction_to_nlp_in_tensorflow/#recurrent-neural-networks-rnns).\n",
        "\n",
        "Let's reuse the same data we used for the Conv1D model, except this time we'll create an [LSTM-cell](https://www.tensorflow.org/api_docs/python/tf/keras/layers/LSTM) powered RNN to model our Bitcoin data. \n",
        "\n",
        "Once again, one of the most important steps for the LSTM model will be getting our data into the right shape.\n",
        "\n",
        "The [`tf.keras.layers.LSTM()`](https://www.tensorflow.org/api_docs/python/tf/keras/layers/LSTM) layer takes a tensor with `[batch, timesteps, feature]` dimensions.\n",
        "\n",
        "As mentioned earlier, the `batch` dimension gets taken care of for us but our data is currently only has the `feature` dimension (`WINDOW_SIZE`).\n",
        "\n",
        "To fix this, just like we did with the `Conv1D` model, we can use a `tf.keras.layers.Lambda()` layer to adjust the shape of our input tensors to the LSTM layer."
      ],
      "metadata": {
        "id": "V608gLBajqdh"
      }
    },
    {
      "cell_type": "code",
      "source": [
        "tf.random.set_seed(42)\n",
        "\n",
        "# Let's build an LSTM model with the Functional API\n",
        "inputs = layers.Input(shape=(WINDOW_SIZE))\n",
        "\n",
        "x = layers.Lambda(lambda x: tf.expand_dims(x, axis=1))(inputs)  # expand input dimension to be compatible with LSTM\n",
        "# x = layers.LSTM(128, return_sequences=True)(x)\n",
        "x = layers.LSTM(128, activation=\"relu\")(x) # using the tanh loss activation function results in a massive error\n",
        "# Add another optional dense layer (you could add more of these to see if they improve model performance)\n",
        "# x = layers.Dense(32, activation=\"relu\")(x)\n",
        "output = layers.Dense(HORIZON)(x)\n",
        "model_5 = tf.keras.Model(inputs=inputs, outputs=output, name=\"model_5_LSTM\")\n",
        "\n",
        "# Compile\n",
        "model_5.compile(loss=\"mae\",\n",
        "                optimizer=tf.keras.optimizers.Adam())\n",
        "\n",
        "# Fit\n",
        "model_5.fit(model_4_train_windows, # use data same as model 4\n",
        "            model_4_train_labels, # use data same as model 4\n",
        "            batch_size=128,\n",
        "            epochs=100,\n",
        "            verbose=1,\n",
        "            validation_data=(model_4_test_windows, model_4_test_labels), # use data same as model 4\n",
        "            callbacks=[create_model_checkpoint(model_name=model_5.name)])"
      ],
      "metadata": {
        "colab": {
          "base_uri": "https://localhost:8080/"
        },
        "id": "hq_wfnO8juEb",
        "outputId": "5fbc8dcd-b43d-488c-c4c1-1d0bf361f104"
      },
      "execution_count": 238,
      "outputs": [
        {
          "output_type": "stream",
          "name": "stdout",
          "text": [
            "Epoch 1/100\n",
            "14/18 [======================>.......] - ETA: 0s - loss: 2439.7756INFO:tensorflow:Assets written to: model_experiments/model_5_LSTM/assets\n"
          ]
        },
        {
          "output_type": "stream",
          "name": "stderr",
          "text": [
            "INFO:tensorflow:Assets written to: model_experiments/model_5_LSTM/assets\n",
            "WARNING:absl:<keras.layers.recurrent.LSTMCell object at 0x7fd3925c9150> has the same name 'LSTMCell' as a built-in Keras object. Consider renaming <class 'keras.layers.recurrent.LSTMCell'> to avoid naming conflicts when loading with `tf.keras.models.load_model`. If renaming is not possible, pass the object in the `custom_objects` parameter of the load function.\n"
          ]
        },
        {
          "output_type": "stream",
          "name": "stdout",
          "text": [
            "\b\b\b\b\b\b\b\b\b\b\b\b\b\b\b\b\b\b\b\b\b\b\b\b\b\b\b\b\b\b\b\b\b\b\b\b\b\b\b\b\b\b\b\b\b\b\b\b\b\b\b\b\b\b\b\b\b\b\b\b\b\b\b\b\b\b\r18/18 [==============================] - 6s 246ms/step - loss: 2323.6123 - val_loss: 9224.3506\n",
            "Epoch 2/100\n",
            "16/18 [=========================>....] - ETA: 0s - loss: 741.1422 INFO:tensorflow:Assets written to: model_experiments/model_5_LSTM/assets\n"
          ]
        },
        {
          "output_type": "stream",
          "name": "stderr",
          "text": [
            "INFO:tensorflow:Assets written to: model_experiments/model_5_LSTM/assets\n",
            "WARNING:absl:<keras.layers.recurrent.LSTMCell object at 0x7fd3925c9150> has the same name 'LSTMCell' as a built-in Keras object. Consider renaming <class 'keras.layers.recurrent.LSTMCell'> to avoid naming conflicts when loading with `tf.keras.models.load_model`. If renaming is not possible, pass the object in the `custom_objects` parameter of the load function.\n"
          ]
        },
        {
          "output_type": "stream",
          "name": "stdout",
          "text": [
            "\b\b\b\b\b\b\b\b\b\b\b\b\b\b\b\b\b\b\b\b\b\b\b\b\b\b\b\b\b\b\b\b\b\b\b\b\b\b\b\b\b\b\b\b\b\b\b\b\b\b\b\b\b\b\b\b\b\b\b\b\b\b\b\b\b\r18/18 [==============================] - 3s 182ms/step - loss: 695.4956 - val_loss: 1485.8942\n",
            "Epoch 3/100\n",
            "10/18 [===============>..............] - ETA: 0s - loss: 273.3071INFO:tensorflow:Assets written to: model_experiments/model_5_LSTM/assets\n"
          ]
        },
        {
          "output_type": "stream",
          "name": "stderr",
          "text": [
            "INFO:tensorflow:Assets written to: model_experiments/model_5_LSTM/assets\n",
            "WARNING:absl:<keras.layers.recurrent.LSTMCell object at 0x7fd3925c9150> has the same name 'LSTMCell' as a built-in Keras object. Consider renaming <class 'keras.layers.recurrent.LSTMCell'> to avoid naming conflicts when loading with `tf.keras.models.load_model`. If renaming is not possible, pass the object in the `custom_objects` parameter of the load function.\n"
          ]
        },
        {
          "output_type": "stream",
          "name": "stdout",
          "text": [
            "\b\b\b\b\b\b\b\b\b\b\b\b\b\b\b\b\b\b\b\b\b\b\b\b\b\b\b\b\b\b\b\b\b\b\b\b\b\b\b\b\b\b\b\b\b\b\b\b\b\b\b\b\b\b\b\b\b\b\b\b\b\b\b\b\b\r18/18 [==============================] - 2s 128ms/step - loss: 237.3010 - val_loss: 1298.9436\n",
            "Epoch 4/100\n",
            "11/18 [=================>............] - ETA: 0s - loss: 196.5346INFO:tensorflow:Assets written to: model_experiments/model_5_LSTM/assets\n"
          ]
        },
        {
          "output_type": "stream",
          "name": "stderr",
          "text": [
            "INFO:tensorflow:Assets written to: model_experiments/model_5_LSTM/assets\n",
            "WARNING:absl:<keras.layers.recurrent.LSTMCell object at 0x7fd3925c9150> has the same name 'LSTMCell' as a built-in Keras object. Consider renaming <class 'keras.layers.recurrent.LSTMCell'> to avoid naming conflicts when loading with `tf.keras.models.load_model`. If renaming is not possible, pass the object in the `custom_objects` parameter of the load function.\n"
          ]
        },
        {
          "output_type": "stream",
          "name": "stdout",
          "text": [
            "\b\b\b\b\b\b\b\b\b\b\b\b\b\b\b\b\b\b\b\b\b\b\b\b\b\b\b\b\b\b\b\b\b\b\b\b\b\b\b\b\b\b\b\b\b\b\b\b\b\b\b\b\b\b\b\b\b\b\b\b\b\b\b\b\b\r18/18 [==============================] - 2s 125ms/step - loss: 181.9182 - val_loss: 966.6407\n",
            "Epoch 5/100\n",
            "18/18 [==============================] - 0s 9ms/step - loss: 173.4021 - val_loss: 970.9384\n",
            "Epoch 6/100\n",
            "11/18 [=================>............] - ETA: 0s - loss: 169.3526INFO:tensorflow:Assets written to: model_experiments/model_5_LSTM/assets\n"
          ]
        },
        {
          "output_type": "stream",
          "name": "stderr",
          "text": [
            "INFO:tensorflow:Assets written to: model_experiments/model_5_LSTM/assets\n",
            "WARNING:absl:<keras.layers.recurrent.LSTMCell object at 0x7fd3925c9150> has the same name 'LSTMCell' as a built-in Keras object. Consider renaming <class 'keras.layers.recurrent.LSTMCell'> to avoid naming conflicts when loading with `tf.keras.models.load_model`. If renaming is not possible, pass the object in the `custom_objects` parameter of the load function.\n"
          ]
        },
        {
          "output_type": "stream",
          "name": "stdout",
          "text": [
            "\b\b\b\b\b\b\b\b\b\b\b\b\b\b\b\b\b\b\b\b\b\b\b\b\b\b\b\b\b\b\b\b\b\b\b\b\b\b\b\b\b\b\b\b\b\b\b\b\b\b\b\b\b\b\b\b\b\b\b\b\b\b\b\b\b\r18/18 [==============================] - 2s 124ms/step - loss: 172.3319 - val_loss: 891.5209\n",
            "Epoch 7/100\n",
            "18/18 [==============================] - 0s 7ms/step - loss: 168.9708 - val_loss: 968.6377\n",
            "Epoch 8/100\n",
            "18/18 [==============================] - 0s 8ms/step - loss: 169.5318 - val_loss: 963.4456\n",
            "Epoch 9/100\n",
            "18/18 [==============================] - 0s 8ms/step - loss: 167.5760 - val_loss: 956.5829\n",
            "Epoch 10/100\n",
            "18/18 [==============================] - 0s 7ms/step - loss: 166.3443 - val_loss: 936.8956\n",
            "Epoch 11/100\n",
            "18/18 [==============================] - 0s 7ms/step - loss: 165.4762 - val_loss: 909.1110\n",
            "Epoch 12/100\n",
            "11/18 [=================>............] - ETA: 0s - loss: 174.0252INFO:tensorflow:Assets written to: model_experiments/model_5_LSTM/assets\n"
          ]
        },
        {
          "output_type": "stream",
          "name": "stderr",
          "text": [
            "INFO:tensorflow:Assets written to: model_experiments/model_5_LSTM/assets\n",
            "WARNING:absl:<keras.layers.recurrent.LSTMCell object at 0x7fd3925c9150> has the same name 'LSTMCell' as a built-in Keras object. Consider renaming <class 'keras.layers.recurrent.LSTMCell'> to avoid naming conflicts when loading with `tf.keras.models.load_model`. If renaming is not possible, pass the object in the `custom_objects` parameter of the load function.\n"
          ]
        },
        {
          "output_type": "stream",
          "name": "stdout",
          "text": [
            "\b\b\b\b\b\b\b\b\b\b\b\b\b\b\b\b\b\b\b\b\b\b\b\b\b\b\b\b\b\b\b\b\b\b\b\b\b\b\b\b\b\b\b\b\b\b\b\b\b\b\b\b\b\b\b\b\b\b\b\b\b\b\b\b\b\r18/18 [==============================] - 2s 125ms/step - loss: 169.9951 - val_loss: 891.2327\n",
            "Epoch 13/100\n",
            "18/18 [==============================] - 0s 7ms/step - loss: 160.3806 - val_loss: 898.5595\n",
            "Epoch 14/100\n",
            "18/18 [==============================] - 0s 8ms/step - loss: 157.6484 - val_loss: 927.9266\n",
            "Epoch 15/100\n",
            "18/18 [==============================] - 0s 7ms/step - loss: 167.6508 - val_loss: 982.9256\n",
            "Epoch 16/100\n",
            "18/18 [==============================] - 0s 7ms/step - loss: 160.4521 - val_loss: 916.0458\n",
            "Epoch 17/100\n",
            "18/18 [==============================] - 0s 8ms/step - loss: 153.8805 - val_loss: 928.6927\n",
            "Epoch 18/100\n",
            "10/18 [===============>..............] - ETA: 0s - loss: 162.7562INFO:tensorflow:Assets written to: model_experiments/model_5_LSTM/assets\n"
          ]
        },
        {
          "output_type": "stream",
          "name": "stderr",
          "text": [
            "INFO:tensorflow:Assets written to: model_experiments/model_5_LSTM/assets\n",
            "WARNING:absl:<keras.layers.recurrent.LSTMCell object at 0x7fd3925c9150> has the same name 'LSTMCell' as a built-in Keras object. Consider renaming <class 'keras.layers.recurrent.LSTMCell'> to avoid naming conflicts when loading with `tf.keras.models.load_model`. If renaming is not possible, pass the object in the `custom_objects` parameter of the load function.\n"
          ]
        },
        {
          "output_type": "stream",
          "name": "stdout",
          "text": [
            "\b\b\b\b\b\b\b\b\b\b\b\b\b\b\b\b\b\b\b\b\b\b\b\b\b\b\b\b\b\b\b\b\b\b\b\b\b\b\b\b\b\b\b\b\b\b\b\b\b\b\b\b\b\b\b\b\b\b\b\b\b\b\b\b\b\r18/18 [==============================] - 3s 183ms/step - loss: 152.1556 - val_loss: 865.6219\n",
            "Epoch 19/100\n",
            "18/18 [==============================] - 0s 7ms/step - loss: 148.8319 - val_loss: 876.9328\n",
            "Epoch 20/100\n",
            "15/18 [========================>.....] - ETA: 0s - loss: 151.5439INFO:tensorflow:Assets written to: model_experiments/model_5_LSTM/assets\n"
          ]
        },
        {
          "output_type": "stream",
          "name": "stderr",
          "text": [
            "INFO:tensorflow:Assets written to: model_experiments/model_5_LSTM/assets\n",
            "WARNING:absl:<keras.layers.recurrent.LSTMCell object at 0x7fd3925c9150> has the same name 'LSTMCell' as a built-in Keras object. Consider renaming <class 'keras.layers.recurrent.LSTMCell'> to avoid naming conflicts when loading with `tf.keras.models.load_model`. If renaming is not possible, pass the object in the `custom_objects` parameter of the load function.\n"
          ]
        },
        {
          "output_type": "stream",
          "name": "stdout",
          "text": [
            "\b\b\b\b\b\b\b\b\b\b\b\b\b\b\b\b\b\b\b\b\b\b\b\b\b\b\b\b\b\b\b\b\b\b\b\b\b\b\b\b\b\b\b\b\b\b\b\b\b\b\b\b\b\b\b\b\b\b\b\b\b\b\b\b\b\r18/18 [==============================] - 2s 126ms/step - loss: 149.6801 - val_loss: 831.2376\n",
            "Epoch 21/100\n",
            "10/18 [===============>..............] - ETA: 0s - loss: 152.9093INFO:tensorflow:Assets written to: model_experiments/model_5_LSTM/assets\n"
          ]
        },
        {
          "output_type": "stream",
          "name": "stderr",
          "text": [
            "INFO:tensorflow:Assets written to: model_experiments/model_5_LSTM/assets\n",
            "WARNING:absl:<keras.layers.recurrent.LSTMCell object at 0x7fd3925c9150> has the same name 'LSTMCell' as a built-in Keras object. Consider renaming <class 'keras.layers.recurrent.LSTMCell'> to avoid naming conflicts when loading with `tf.keras.models.load_model`. If renaming is not possible, pass the object in the `custom_objects` parameter of the load function.\n"
          ]
        },
        {
          "output_type": "stream",
          "name": "stdout",
          "text": [
            "\b\b\b\b\b\b\b\b\b\b\b\b\b\b\b\b\b\b\b\b\b\b\b\b\b\b\b\b\b\b\b\b\b\b\b\b\b\b\b\b\b\b\b\b\b\b\b\b\b\b\b\b\b\b\b\b\b\b\b\b\b\b\b\b\b\r18/18 [==============================] - 2s 126ms/step - loss: 145.7330 - val_loss: 821.0629\n",
            "Epoch 22/100\n",
            "18/18 [==============================] - 0s 8ms/step - loss: 143.9433 - val_loss: 821.2911\n",
            "Epoch 23/100\n",
            "18/18 [==============================] - 0s 7ms/step - loss: 143.1268 - val_loss: 837.1895\n",
            "Epoch 24/100\n",
            "10/18 [===============>..............] - ETA: 0s - loss: 138.0118INFO:tensorflow:Assets written to: model_experiments/model_5_LSTM/assets\n"
          ]
        },
        {
          "output_type": "stream",
          "name": "stderr",
          "text": [
            "INFO:tensorflow:Assets written to: model_experiments/model_5_LSTM/assets\n",
            "WARNING:absl:<keras.layers.recurrent.LSTMCell object at 0x7fd3925c9150> has the same name 'LSTMCell' as a built-in Keras object. Consider renaming <class 'keras.layers.recurrent.LSTMCell'> to avoid naming conflicts when loading with `tf.keras.models.load_model`. If renaming is not possible, pass the object in the `custom_objects` parameter of the load function.\n"
          ]
        },
        {
          "output_type": "stream",
          "name": "stdout",
          "text": [
            "\b\b\b\b\b\b\b\b\b\b\b\b\b\b\b\b\b\b\b\b\b\b\b\b\b\b\b\b\b\b\b\b\b\b\b\b\b\b\b\b\b\b\b\b\b\b\b\b\b\b\b\b\b\b\b\b\b\b\b\b\b\b\b\b\b\r18/18 [==============================] - 2s 122ms/step - loss: 141.0378 - val_loss: 808.0547\n",
            "Epoch 25/100\n",
            "10/18 [===============>..............] - ETA: 0s - loss: 147.1146INFO:tensorflow:Assets written to: model_experiments/model_5_LSTM/assets\n"
          ]
        },
        {
          "output_type": "stream",
          "name": "stderr",
          "text": [
            "INFO:tensorflow:Assets written to: model_experiments/model_5_LSTM/assets\n",
            "WARNING:absl:<keras.layers.recurrent.LSTMCell object at 0x7fd3925c9150> has the same name 'LSTMCell' as a built-in Keras object. Consider renaming <class 'keras.layers.recurrent.LSTMCell'> to avoid naming conflicts when loading with `tf.keras.models.load_model`. If renaming is not possible, pass the object in the `custom_objects` parameter of the load function.\n"
          ]
        },
        {
          "output_type": "stream",
          "name": "stdout",
          "text": [
            "\b\b\b\b\b\b\b\b\b\b\b\b\b\b\b\b\b\b\b\b\b\b\b\b\b\b\b\b\b\b\b\b\b\b\b\b\b\b\b\b\b\b\b\b\b\b\b\b\b\b\b\b\b\b\b\b\b\b\b\b\b\b\b\b\b\r18/18 [==============================] - 2s 124ms/step - loss: 139.0068 - val_loss: 787.0112\n",
            "Epoch 26/100\n",
            "18/18 [==============================] - ETA: 0s - loss: 137.9395INFO:tensorflow:Assets written to: model_experiments/model_5_LSTM/assets\n"
          ]
        },
        {
          "output_type": "stream",
          "name": "stderr",
          "text": [
            "INFO:tensorflow:Assets written to: model_experiments/model_5_LSTM/assets\n",
            "WARNING:absl:<keras.layers.recurrent.LSTMCell object at 0x7fd3925c9150> has the same name 'LSTMCell' as a built-in Keras object. Consider renaming <class 'keras.layers.recurrent.LSTMCell'> to avoid naming conflicts when loading with `tf.keras.models.load_model`. If renaming is not possible, pass the object in the `custom_objects` parameter of the load function.\n"
          ]
        },
        {
          "output_type": "stream",
          "name": "stdout",
          "text": [
            "\b\b\b\b\b\b\b\b\b\b\b\b\b\b\b\b\b\b\b\b\b\b\b\b\b\b\b\b\b\b\b\b\b\b\b\b\b\b\b\b\b\b\b\b\b\b\b\b\b\b\b\b\b\b\b\b\b\b\b\b\b\b\b\b\b\r18/18 [==============================] - 2s 126ms/step - loss: 137.9395 - val_loss: 769.2203\n",
            "Epoch 27/100\n",
            "18/18 [==============================] - 0s 7ms/step - loss: 136.4498 - val_loss: 772.5977\n",
            "Epoch 28/100\n",
            "10/18 [===============>..............] - ETA: 0s - loss: 140.2905INFO:tensorflow:Assets written to: model_experiments/model_5_LSTM/assets\n"
          ]
        },
        {
          "output_type": "stream",
          "name": "stderr",
          "text": [
            "INFO:tensorflow:Assets written to: model_experiments/model_5_LSTM/assets\n",
            "WARNING:absl:<keras.layers.recurrent.LSTMCell object at 0x7fd3925c9150> has the same name 'LSTMCell' as a built-in Keras object. Consider renaming <class 'keras.layers.recurrent.LSTMCell'> to avoid naming conflicts when loading with `tf.keras.models.load_model`. If renaming is not possible, pass the object in the `custom_objects` parameter of the load function.\n"
          ]
        },
        {
          "output_type": "stream",
          "name": "stdout",
          "text": [
            "\b\b\b\b\b\b\b\b\b\b\b\b\b\b\b\b\b\b\b\b\b\b\b\b\b\b\b\b\b\b\b\b\b\b\b\b\b\b\b\b\b\b\b\b\b\b\b\b\b\b\b\b\b\b\b\b\b\b\b\b\b\b\b\b\b\r18/18 [==============================] - 2s 124ms/step - loss: 135.2745 - val_loss: 751.0115\n",
            "Epoch 29/100\n",
            "18/18 [==============================] - 0s 8ms/step - loss: 135.5958 - val_loss: 759.8718\n",
            "Epoch 30/100\n",
            "18/18 [==============================] - 0s 7ms/step - loss: 138.2377 - val_loss: 789.2983\n",
            "Epoch 31/100\n",
            "11/18 [=================>............] - ETA: 0s - loss: 133.7420INFO:tensorflow:Assets written to: model_experiments/model_5_LSTM/assets\n"
          ]
        },
        {
          "output_type": "stream",
          "name": "stderr",
          "text": [
            "INFO:tensorflow:Assets written to: model_experiments/model_5_LSTM/assets\n",
            "WARNING:absl:<keras.layers.recurrent.LSTMCell object at 0x7fd3925c9150> has the same name 'LSTMCell' as a built-in Keras object. Consider renaming <class 'keras.layers.recurrent.LSTMCell'> to avoid naming conflicts when loading with `tf.keras.models.load_model`. If renaming is not possible, pass the object in the `custom_objects` parameter of the load function.\n"
          ]
        },
        {
          "output_type": "stream",
          "name": "stdout",
          "text": [
            "\b\b\b\b\b\b\b\b\b\b\b\b\b\b\b\b\b\b\b\b\b\b\b\b\b\b\b\b\b\b\b\b\b\b\b\b\b\b\b\b\b\b\b\b\b\b\b\b\b\b\b\b\b\b\b\b\b\b\b\b\b\b\b\b\b\r18/18 [==============================] - 2s 126ms/step - loss: 133.4514 - val_loss: 730.3293\n",
            "Epoch 32/100\n",
            "18/18 [==============================] - 0s 8ms/step - loss: 129.2459 - val_loss: 730.9674\n",
            "Epoch 33/100\n",
            "11/18 [=================>............] - ETA: 0s - loss: 130.6320"
          ]
        },
        {
          "output_type": "stream",
          "name": "stderr",
          "text": [
            "INFO:tensorflow:Assets written to: model_experiments/model_5_LSTM/assets\n",
            "WARNING:absl:<keras.layers.recurrent.LSTMCell object at 0x7fd3925c9150> has the same name 'LSTMCell' as a built-in Keras object. Consider renaming <class 'keras.layers.recurrent.LSTMCell'> to avoid naming conflicts when loading with `tf.keras.models.load_model`. If renaming is not possible, pass the object in the `custom_objects` parameter of the load function.\n"
          ]
        },
        {
          "output_type": "stream",
          "name": "stdout",
          "text": [
            "\b\b\b\b\b\b\b\b\b\b\b\b\b\b\b\b\b\b\b\b\b\b\b\b\b\b\b\b\b\b\b\b\b\b\b\b\b\b\b\b\b\b\b\b\b\b\b\b\b\b\b\b\b\b\b\b\b\b\b\b\b\b\b\b\b\r18/18 [==============================] - 2s 123ms/step - loss: 128.6682 - val_loss: 726.6902\n",
            "Epoch 34/100\n",
            "11/18 [=================>............] - ETA: 0s - loss: 134.9397INFO:tensorflow:Assets written to: model_experiments/model_5_LSTM/assets\n"
          ]
        },
        {
          "output_type": "stream",
          "name": "stderr",
          "text": [
            "INFO:tensorflow:Assets written to: model_experiments/model_5_LSTM/assets\n",
            "WARNING:absl:<keras.layers.recurrent.LSTMCell object at 0x7fd3925c9150> has the same name 'LSTMCell' as a built-in Keras object. Consider renaming <class 'keras.layers.recurrent.LSTMCell'> to avoid naming conflicts when loading with `tf.keras.models.load_model`. If renaming is not possible, pass the object in the `custom_objects` parameter of the load function.\n"
          ]
        },
        {
          "output_type": "stream",
          "name": "stdout",
          "text": [
            "\b\b\b\b\b\b\b\b\b\b\b\b\b\b\b\b\b\b\b\b\b\b\b\b\b\b\b\b\b\b\b\b\b\b\b\b\b\b\b\b\b\b\b\b\b\b\b\b\b\b\b\b\b\b\b\b\b\b\b\b\b\b\b\b\b\r18/18 [==============================] - 2s 123ms/step - loss: 128.9641 - val_loss: 708.2340\n",
            "Epoch 35/100\n",
            "10/18 [===============>..............] - ETA: 0s - loss: 125.0531INFO:tensorflow:Assets written to: model_experiments/model_5_LSTM/assets\n"
          ]
        },
        {
          "output_type": "stream",
          "name": "stderr",
          "text": [
            "INFO:tensorflow:Assets written to: model_experiments/model_5_LSTM/assets\n",
            "WARNING:absl:<keras.layers.recurrent.LSTMCell object at 0x7fd3925c9150> has the same name 'LSTMCell' as a built-in Keras object. Consider renaming <class 'keras.layers.recurrent.LSTMCell'> to avoid naming conflicts when loading with `tf.keras.models.load_model`. If renaming is not possible, pass the object in the `custom_objects` parameter of the load function.\n"
          ]
        },
        {
          "output_type": "stream",
          "name": "stdout",
          "text": [
            "\b\b\b\b\b\b\b\b\b\b\b\b\b\b\b\b\b\b\b\b\b\b\b\b\b\b\b\b\b\b\b\b\b\b\b\b\b\b\b\b\b\b\b\b\b\b\b\b\b\b\b\b\b\b\b\b\b\b\b\b\b\b\b\b\b\r18/18 [==============================] - 2s 120ms/step - loss: 126.4375 - val_loss: 702.6016\n",
            "Epoch 36/100\n",
            "10/18 [===============>..............] - ETA: 0s - loss: 120.9583INFO:tensorflow:Assets written to: model_experiments/model_5_LSTM/assets\n"
          ]
        },
        {
          "output_type": "stream",
          "name": "stderr",
          "text": [
            "INFO:tensorflow:Assets written to: model_experiments/model_5_LSTM/assets\n",
            "WARNING:absl:<keras.layers.recurrent.LSTMCell object at 0x7fd3925c9150> has the same name 'LSTMCell' as a built-in Keras object. Consider renaming <class 'keras.layers.recurrent.LSTMCell'> to avoid naming conflicts when loading with `tf.keras.models.load_model`. If renaming is not possible, pass the object in the `custom_objects` parameter of the load function.\n"
          ]
        },
        {
          "output_type": "stream",
          "name": "stdout",
          "text": [
            "\b\b\b\b\b\b\b\b\b\b\b\b\b\b\b\b\b\b\b\b\b\b\b\b\b\b\b\b\b\b\b\b\b\b\b\b\b\b\b\b\b\b\b\b\b\b\b\b\b\b\b\b\b\b\b\b\b\b\b\b\b\b\b\b\b\r18/18 [==============================] - 2s 123ms/step - loss: 125.8648 - val_loss: 696.0234\n",
            "Epoch 37/100\n",
            "10/18 [===============>..............] - ETA: 0s - loss: 116.4368INFO:tensorflow:Assets written to: model_experiments/model_5_LSTM/assets\n"
          ]
        },
        {
          "output_type": "stream",
          "name": "stderr",
          "text": [
            "INFO:tensorflow:Assets written to: model_experiments/model_5_LSTM/assets\n",
            "WARNING:absl:<keras.layers.recurrent.LSTMCell object at 0x7fd3925c9150> has the same name 'LSTMCell' as a built-in Keras object. Consider renaming <class 'keras.layers.recurrent.LSTMCell'> to avoid naming conflicts when loading with `tf.keras.models.load_model`. If renaming is not possible, pass the object in the `custom_objects` parameter of the load function.\n"
          ]
        },
        {
          "output_type": "stream",
          "name": "stdout",
          "text": [
            "\b\b\b\b\b\b\b\b\b\b\b\b\b\b\b\b\b\b\b\b\b\b\b\b\b\b\b\b\b\b\b\b\b\b\b\b\b\b\b\b\b\b\b\b\b\b\b\b\b\b\b\b\b\b\b\b\b\b\b\b\b\b\b\b\b\r18/18 [==============================] - 3s 195ms/step - loss: 124.2744 - val_loss: 692.3998\n",
            "Epoch 38/100\n",
            "16/18 [=========================>....] - ETA: 0s - loss: 123.8931INFO:tensorflow:Assets written to: model_experiments/model_5_LSTM/assets\n"
          ]
        },
        {
          "output_type": "stream",
          "name": "stderr",
          "text": [
            "INFO:tensorflow:Assets written to: model_experiments/model_5_LSTM/assets\n",
            "WARNING:absl:<keras.layers.recurrent.LSTMCell object at 0x7fd3925c9150> has the same name 'LSTMCell' as a built-in Keras object. Consider renaming <class 'keras.layers.recurrent.LSTMCell'> to avoid naming conflicts when loading with `tf.keras.models.load_model`. If renaming is not possible, pass the object in the `custom_objects` parameter of the load function.\n"
          ]
        },
        {
          "output_type": "stream",
          "name": "stdout",
          "text": [
            "\b\b\b\b\b\b\b\b\b\b\b\b\b\b\b\b\b\b\b\b\b\b\b\b\b\b\b\b\b\b\b\b\b\b\b\b\b\b\b\b\b\b\b\b\b\b\b\b\b\b\b\b\b\b\b\b\b\b\b\b\b\b\b\b\b\r18/18 [==============================] - 2s 126ms/step - loss: 123.4617 - val_loss: 682.3129\n",
            "Epoch 39/100\n",
            "18/18 [==============================] - 0s 7ms/step - loss: 124.4908 - val_loss: 689.1117\n",
            "Epoch 40/100\n",
            "18/18 [==============================] - 0s 7ms/step - loss: 123.6601 - val_loss: 688.7414\n",
            "Epoch 41/100\n",
            "10/18 [===============>..............] - ETA: 0s - loss: 127.5284INFO:tensorflow:Assets written to: model_experiments/model_5_LSTM/assets\n"
          ]
        },
        {
          "output_type": "stream",
          "name": "stderr",
          "text": [
            "INFO:tensorflow:Assets written to: model_experiments/model_5_LSTM/assets\n",
            "WARNING:absl:<keras.layers.recurrent.LSTMCell object at 0x7fd3925c9150> has the same name 'LSTMCell' as a built-in Keras object. Consider renaming <class 'keras.layers.recurrent.LSTMCell'> to avoid naming conflicts when loading with `tf.keras.models.load_model`. If renaming is not possible, pass the object in the `custom_objects` parameter of the load function.\n"
          ]
        },
        {
          "output_type": "stream",
          "name": "stdout",
          "text": [
            "\b\b\b\b\b\b\b\b\b\b\b\b\b\b\b\b\b\b\b\b\b\b\b\b\b\b\b\b\b\b\b\b\b\b\b\b\b\b\b\b\b\b\b\b\b\b\b\b\b\b\b\b\b\b\b\b\b\b\b\b\b\b\b\b\b\r18/18 [==============================] - 2s 124ms/step - loss: 121.6996 - val_loss: 673.3080\n",
            "Epoch 42/100\n",
            "10/18 [===============>..............] - ETA: 0s - loss: 116.9926INFO:tensorflow:Assets written to: model_experiments/model_5_LSTM/assets\n"
          ]
        },
        {
          "output_type": "stream",
          "name": "stderr",
          "text": [
            "INFO:tensorflow:Assets written to: model_experiments/model_5_LSTM/assets\n",
            "WARNING:absl:<keras.layers.recurrent.LSTMCell object at 0x7fd3925c9150> has the same name 'LSTMCell' as a built-in Keras object. Consider renaming <class 'keras.layers.recurrent.LSTMCell'> to avoid naming conflicts when loading with `tf.keras.models.load_model`. If renaming is not possible, pass the object in the `custom_objects` parameter of the load function.\n"
          ]
        },
        {
          "output_type": "stream",
          "name": "stdout",
          "text": [
            "\b\b\b\b\b\b\b\b\b\b\b\b\b\b\b\b\b\b\b\b\b\b\b\b\b\b\b\b\b\b\b\b\b\b\b\b\b\b\b\b\b\b\b\b\b\b\b\b\b\b\b\b\b\b\b\b\b\b\b\b\b\b\b\b\b\r18/18 [==============================] - 2s 124ms/step - loss: 121.2662 - val_loss: 665.5682\n",
            "Epoch 43/100\n",
            "18/18 [==============================] - ETA: 0s - loss: 121.1914INFO:tensorflow:Assets written to: model_experiments/model_5_LSTM/assets\n"
          ]
        },
        {
          "output_type": "stream",
          "name": "stderr",
          "text": [
            "INFO:tensorflow:Assets written to: model_experiments/model_5_LSTM/assets\n",
            "WARNING:absl:<keras.layers.recurrent.LSTMCell object at 0x7fd3925c9150> has the same name 'LSTMCell' as a built-in Keras object. Consider renaming <class 'keras.layers.recurrent.LSTMCell'> to avoid naming conflicts when loading with `tf.keras.models.load_model`. If renaming is not possible, pass the object in the `custom_objects` parameter of the load function.\n"
          ]
        },
        {
          "output_type": "stream",
          "name": "stdout",
          "text": [
            "\b\b\b\b\b\b\b\b\b\b\b\b\b\b\b\b\b\b\b\b\b\b\b\b\b\b\b\b\b\b\b\b\b\b\b\b\b\b\b\b\b\b\b\b\b\b\b\b\b\b\b\b\b\b\b\b\b\b\b\b\b\b\b\b\b\r18/18 [==============================] - 2s 126ms/step - loss: 121.1914 - val_loss: 663.4371\n",
            "Epoch 44/100\n",
            "18/18 [==============================] - 0s 8ms/step - loss: 121.3492 - val_loss: 666.4625\n",
            "Epoch 45/100\n",
            "10/18 [===============>..............] - ETA: 0s - loss: 122.9341INFO:tensorflow:Assets written to: model_experiments/model_5_LSTM/assets\n"
          ]
        },
        {
          "output_type": "stream",
          "name": "stderr",
          "text": [
            "INFO:tensorflow:Assets written to: model_experiments/model_5_LSTM/assets\n",
            "WARNING:absl:<keras.layers.recurrent.LSTMCell object at 0x7fd3925c9150> has the same name 'LSTMCell' as a built-in Keras object. Consider renaming <class 'keras.layers.recurrent.LSTMCell'> to avoid naming conflicts when loading with `tf.keras.models.load_model`. If renaming is not possible, pass the object in the `custom_objects` parameter of the load function.\n"
          ]
        },
        {
          "output_type": "stream",
          "name": "stdout",
          "text": [
            "\b\b\b\b\b\b\b\b\b\b\b\b\b\b\b\b\b\b\b\b\b\b\b\b\b\b\b\b\b\b\b\b\b\b\b\b\b\b\b\b\b\b\b\b\b\b\b\b\b\b\b\b\b\b\b\b\b\b\b\b\b\b\b\b\b\r18/18 [==============================] - 2s 126ms/step - loss: 119.4222 - val_loss: 653.1441\n",
            "Epoch 46/100\n",
            "10/18 [===============>..............] - ETA: 0s - loss: 126.8004INFO:tensorflow:Assets written to: model_experiments/model_5_LSTM/assets\n"
          ]
        },
        {
          "output_type": "stream",
          "name": "stderr",
          "text": [
            "INFO:tensorflow:Assets written to: model_experiments/model_5_LSTM/assets\n",
            "WARNING:absl:<keras.layers.recurrent.LSTMCell object at 0x7fd3925c9150> has the same name 'LSTMCell' as a built-in Keras object. Consider renaming <class 'keras.layers.recurrent.LSTMCell'> to avoid naming conflicts when loading with `tf.keras.models.load_model`. If renaming is not possible, pass the object in the `custom_objects` parameter of the load function.\n"
          ]
        },
        {
          "output_type": "stream",
          "name": "stdout",
          "text": [
            "\b\b\b\b\b\b\b\b\b\b\b\b\b\b\b\b\b\b\b\b\b\b\b\b\b\b\b\b\b\b\b\b\b\b\b\b\b\b\b\b\b\b\b\b\b\b\b\b\b\b\b\b\b\b\b\b\b\b\b\b\b\b\b\b\b\r18/18 [==============================] - 2s 128ms/step - loss: 119.1475 - val_loss: 649.3669\n",
            "Epoch 47/100\n",
            "18/18 [==============================] - 0s 8ms/step - loss: 119.5113 - val_loss: 650.3450\n",
            "Epoch 48/100\n",
            "10/18 [===============>..............] - ETA: 0s - loss: 115.2968INFO:tensorflow:Assets written to: model_experiments/model_5_LSTM/assets\n"
          ]
        },
        {
          "output_type": "stream",
          "name": "stderr",
          "text": [
            "INFO:tensorflow:Assets written to: model_experiments/model_5_LSTM/assets\n",
            "WARNING:absl:<keras.layers.recurrent.LSTMCell object at 0x7fd3925c9150> has the same name 'LSTMCell' as a built-in Keras object. Consider renaming <class 'keras.layers.recurrent.LSTMCell'> to avoid naming conflicts when loading with `tf.keras.models.load_model`. If renaming is not possible, pass the object in the `custom_objects` parameter of the load function.\n"
          ]
        },
        {
          "output_type": "stream",
          "name": "stdout",
          "text": [
            "\b\b\b\b\b\b\b\b\b\b\b\b\b\b\b\b\b\b\b\b\b\b\b\b\b\b\b\b\b\b\b\b\b\b\b\b\b\b\b\b\b\b\b\b\b\b\b\b\b\b\b\b\b\b\b\b\b\b\b\b\b\b\b\b\b\r18/18 [==============================] - 2s 124ms/step - loss: 117.9849 - val_loss: 643.7015\n",
            "Epoch 49/100\n",
            "18/18 [==============================] - 0s 8ms/step - loss: 117.3458 - val_loss: 649.1431\n",
            "Epoch 50/100\n",
            "18/18 [==============================] - 0s 8ms/step - loss: 119.0112 - val_loss: 658.5665\n",
            "Epoch 51/100\n",
            "18/18 [==============================] - 0s 8ms/step - loss: 118.3833 - val_loss: 673.2418\n",
            "Epoch 52/100\n",
            "18/18 [==============================] - 0s 8ms/step - loss: 118.0016 - val_loss: 644.5724\n",
            "Epoch 53/100\n",
            " 9/18 [==============>...............] - ETA: 0s - loss: 114.4649INFO:tensorflow:Assets written to: model_experiments/model_5_LSTM/assets\n"
          ]
        },
        {
          "output_type": "stream",
          "name": "stderr",
          "text": [
            "INFO:tensorflow:Assets written to: model_experiments/model_5_LSTM/assets\n",
            "WARNING:absl:<keras.layers.recurrent.LSTMCell object at 0x7fd3925c9150> has the same name 'LSTMCell' as a built-in Keras object. Consider renaming <class 'keras.layers.recurrent.LSTMCell'> to avoid naming conflicts when loading with `tf.keras.models.load_model`. If renaming is not possible, pass the object in the `custom_objects` parameter of the load function.\n"
          ]
        },
        {
          "output_type": "stream",
          "name": "stdout",
          "text": [
            "\b\b\b\b\b\b\b\b\b\b\b\b\b\b\b\b\b\b\b\b\b\b\b\b\b\b\b\b\b\b\b\b\b\b\b\b\b\b\b\b\b\b\b\b\b\b\b\b\b\b\b\b\b\b\b\b\b\b\b\b\b\b\b\b\b\r18/18 [==============================] - 2s 127ms/step - loss: 117.5012 - val_loss: 632.1457\n",
            "Epoch 54/100\n",
            "18/18 [==============================] - 0s 8ms/step - loss: 117.3330 - val_loss: 637.2055\n",
            "Epoch 55/100\n",
            "18/18 [==============================] - ETA: 0s - loss: 115.8615INFO:tensorflow:Assets written to: model_experiments/model_5_LSTM/assets\n"
          ]
        },
        {
          "output_type": "stream",
          "name": "stderr",
          "text": [
            "INFO:tensorflow:Assets written to: model_experiments/model_5_LSTM/assets\n",
            "WARNING:absl:<keras.layers.recurrent.LSTMCell object at 0x7fd3925c9150> has the same name 'LSTMCell' as a built-in Keras object. Consider renaming <class 'keras.layers.recurrent.LSTMCell'> to avoid naming conflicts when loading with `tf.keras.models.load_model`. If renaming is not possible, pass the object in the `custom_objects` parameter of the load function.\n"
          ]
        },
        {
          "output_type": "stream",
          "name": "stdout",
          "text": [
            "\b\b\b\b\b\b\b\b\b\b\b\b\b\b\b\b\b\b\b\b\b\b\b\b\b\b\b\b\b\b\b\b\b\b\b\b\b\b\b\b\b\b\b\b\b\b\b\b\b\b\b\b\b\b\b\b\b\b\b\b\b\b\b\b\b\r18/18 [==============================] - 2s 128ms/step - loss: 115.8615 - val_loss: 627.7058\n",
            "Epoch 56/100\n",
            "18/18 [==============================] - 0s 8ms/step - loss: 117.1814 - val_loss: 648.4813\n",
            "Epoch 57/100\n",
            "18/18 [==============================] - 0s 8ms/step - loss: 125.8361 - val_loss: 648.9831\n",
            "Epoch 58/100\n",
            "18/18 [==============================] - 0s 7ms/step - loss: 115.4787 - val_loss: 630.3375\n",
            "Epoch 59/100\n",
            "18/18 [==============================] - 0s 9ms/step - loss: 114.6559 - val_loss: 628.4244\n",
            "Epoch 60/100\n",
            "11/18 [=================>............] - ETA: 0s - loss: 115.8036INFO:tensorflow:Assets written to: model_experiments/model_5_LSTM/assets\n"
          ]
        },
        {
          "output_type": "stream",
          "name": "stderr",
          "text": [
            "INFO:tensorflow:Assets written to: model_experiments/model_5_LSTM/assets\n",
            "WARNING:absl:<keras.layers.recurrent.LSTMCell object at 0x7fd3925c9150> has the same name 'LSTMCell' as a built-in Keras object. Consider renaming <class 'keras.layers.recurrent.LSTMCell'> to avoid naming conflicts when loading with `tf.keras.models.load_model`. If renaming is not possible, pass the object in the `custom_objects` parameter of the load function.\n"
          ]
        },
        {
          "output_type": "stream",
          "name": "stdout",
          "text": [
            "\b\b\b\b\b\b\b\b\b\b\b\b\b\b\b\b\b\b\b\b\b\b\b\b\b\b\b\b\b\b\b\b\b\b\b\b\b\b\b\b\b\b\b\b\b\b\b\b\b\b\b\b\b\b\b\b\b\b\b\b\b\b\b\b\b\r18/18 [==============================] - 2s 124ms/step - loss: 114.8021 - val_loss: 620.0607\n",
            "Epoch 61/100\n",
            "18/18 [==============================] - 0s 9ms/step - loss: 114.3845 - val_loss: 633.4195\n",
            "Epoch 62/100\n",
            "18/18 [==============================] - 0s 8ms/step - loss: 114.7735 - val_loss: 653.0529\n",
            "Epoch 63/100\n",
            "18/18 [==============================] - 0s 8ms/step - loss: 118.5447 - val_loss: 622.3017\n",
            "Epoch 64/100\n",
            "18/18 [==============================] - 0s 8ms/step - loss: 113.3439 - val_loss: 646.4648\n",
            "Epoch 65/100\n",
            "18/18 [==============================] - 0s 8ms/step - loss: 115.5774 - val_loss: 621.8207\n",
            "Epoch 66/100\n",
            "18/18 [==============================] - 0s 8ms/step - loss: 113.5758 - val_loss: 625.8535\n",
            "Epoch 67/100\n",
            "18/18 [==============================] - ETA: 0s - loss: 114.3274INFO:tensorflow:Assets written to: model_experiments/model_5_LSTM/assets\n"
          ]
        },
        {
          "output_type": "stream",
          "name": "stderr",
          "text": [
            "INFO:tensorflow:Assets written to: model_experiments/model_5_LSTM/assets\n",
            "WARNING:absl:<keras.layers.recurrent.LSTMCell object at 0x7fd3925c9150> has the same name 'LSTMCell' as a built-in Keras object. Consider renaming <class 'keras.layers.recurrent.LSTMCell'> to avoid naming conflicts when loading with `tf.keras.models.load_model`. If renaming is not possible, pass the object in the `custom_objects` parameter of the load function.\n"
          ]
        },
        {
          "output_type": "stream",
          "name": "stdout",
          "text": [
            "\b\b\b\b\b\b\b\b\b\b\b\b\b\b\b\b\b\b\b\b\b\b\b\b\b\b\b\b\b\b\b\b\b\b\b\b\b\b\b\b\b\b\b\b\b\b\b\b\b\b\b\b\b\b\b\b\b\b\b\b\b\b\b\b\b\r18/18 [==============================] - 2s 126ms/step - loss: 114.3274 - val_loss: 618.1777\n",
            "Epoch 68/100\n",
            "17/18 [===========================>..] - ETA: 0s - loss: 116.7720INFO:tensorflow:Assets written to: model_experiments/model_5_LSTM/assets\n"
          ]
        },
        {
          "output_type": "stream",
          "name": "stderr",
          "text": [
            "INFO:tensorflow:Assets written to: model_experiments/model_5_LSTM/assets\n",
            "WARNING:absl:<keras.layers.recurrent.LSTMCell object at 0x7fd3925c9150> has the same name 'LSTMCell' as a built-in Keras object. Consider renaming <class 'keras.layers.recurrent.LSTMCell'> to avoid naming conflicts when loading with `tf.keras.models.load_model`. If renaming is not possible, pass the object in the `custom_objects` parameter of the load function.\n"
          ]
        },
        {
          "output_type": "stream",
          "name": "stdout",
          "text": [
            "\b\b\b\b\b\b\b\b\b\b\b\b\b\b\b\b\b\b\b\b\b\b\b\b\b\b\b\b\b\b\b\b\b\b\b\b\b\b\b\b\b\b\b\b\b\b\b\b\b\b\b\b\b\b\b\b\b\b\b\b\b\b\b\b\b\r18/18 [==============================] - 2s 125ms/step - loss: 115.8874 - val_loss: 610.0667\n",
            "Epoch 69/100\n",
            "18/18 [==============================] - 0s 8ms/step - loss: 118.1946 - val_loss: 630.6259\n",
            "Epoch 70/100\n",
            "18/18 [==============================] - 0s 7ms/step - loss: 117.6780 - val_loss: 613.6976\n",
            "Epoch 71/100\n",
            "18/18 [==============================] - 0s 8ms/step - loss: 112.6891 - val_loss: 628.7469\n",
            "Epoch 72/100\n",
            "18/18 [==============================] - 0s 8ms/step - loss: 115.3159 - val_loss: 613.3113\n",
            "Epoch 73/100\n",
            "10/18 [===============>..............] - ETA: 0s - loss: 115.9440INFO:tensorflow:Assets written to: model_experiments/model_5_LSTM/assets\n"
          ]
        },
        {
          "output_type": "stream",
          "name": "stderr",
          "text": [
            "INFO:tensorflow:Assets written to: model_experiments/model_5_LSTM/assets\n",
            "WARNING:absl:<keras.layers.recurrent.LSTMCell object at 0x7fd3925c9150> has the same name 'LSTMCell' as a built-in Keras object. Consider renaming <class 'keras.layers.recurrent.LSTMCell'> to avoid naming conflicts when loading with `tf.keras.models.load_model`. If renaming is not possible, pass the object in the `custom_objects` parameter of the load function.\n"
          ]
        },
        {
          "output_type": "stream",
          "name": "stdout",
          "text": [
            "\b\b\b\b\b\b\b\b\b\b\b\b\b\b\b\b\b\b\b\b\b\b\b\b\b\b\b\b\b\b\b\b\b\b\b\b\b\b\b\b\b\b\b\b\b\b\b\b\b\b\b\b\b\b\b\b\b\b\b\b\b\b\b\b\b\r18/18 [==============================] - 2s 126ms/step - loss: 112.2513 - val_loss: 607.5436\n",
            "Epoch 74/100\n",
            "18/18 [==============================] - 0s 7ms/step - loss: 113.5405 - val_loss: 612.9193\n",
            "Epoch 75/100\n",
            "18/18 [==============================] - 0s 8ms/step - loss: 114.6243 - val_loss: 680.9974\n",
            "Epoch 76/100\n",
            "18/18 [==============================] - 0s 7ms/step - loss: 114.3978 - val_loss: 627.7791\n",
            "Epoch 77/100\n",
            "18/18 [==============================] - 0s 8ms/step - loss: 115.0701 - val_loss: 677.3135\n",
            "Epoch 78/100\n",
            "18/18 [==============================] - 0s 8ms/step - loss: 115.6408 - val_loss: 638.9863\n",
            "Epoch 79/100\n",
            "18/18 [==============================] - ETA: 0s - loss: 113.8102INFO:tensorflow:Assets written to: model_experiments/model_5_LSTM/assets\n"
          ]
        },
        {
          "output_type": "stream",
          "name": "stderr",
          "text": [
            "INFO:tensorflow:Assets written to: model_experiments/model_5_LSTM/assets\n",
            "WARNING:absl:<keras.layers.recurrent.LSTMCell object at 0x7fd3925c9150> has the same name 'LSTMCell' as a built-in Keras object. Consider renaming <class 'keras.layers.recurrent.LSTMCell'> to avoid naming conflicts when loading with `tf.keras.models.load_model`. If renaming is not possible, pass the object in the `custom_objects` parameter of the load function.\n"
          ]
        },
        {
          "output_type": "stream",
          "name": "stdout",
          "text": [
            "\b\b\b\b\b\b\b\b\b\b\b\b\b\b\b\b\b\b\b\b\b\b\b\b\b\b\b\b\b\b\b\b\b\b\b\b\b\b\b\b\b\b\b\b\b\b\b\b\b\b\b\b\b\b\b\b\b\b\b\b\b\b\b\b\b\r18/18 [==============================] - 4s 207ms/step - loss: 113.8102 - val_loss: 603.6312\n",
            "Epoch 80/100\n",
            "18/18 [==============================] - 0s 9ms/step - loss: 111.6164 - val_loss: 621.9382\n",
            "Epoch 81/100\n",
            "18/18 [==============================] - 0s 7ms/step - loss: 111.7110 - val_loss: 620.0795\n",
            "Epoch 82/100\n",
            "10/18 [===============>..............] - ETA: 0s - loss: 122.9477INFO:tensorflow:Assets written to: model_experiments/model_5_LSTM/assets\n"
          ]
        },
        {
          "output_type": "stream",
          "name": "stderr",
          "text": [
            "INFO:tensorflow:Assets written to: model_experiments/model_5_LSTM/assets\n",
            "WARNING:absl:<keras.layers.recurrent.LSTMCell object at 0x7fd3925c9150> has the same name 'LSTMCell' as a built-in Keras object. Consider renaming <class 'keras.layers.recurrent.LSTMCell'> to avoid naming conflicts when loading with `tf.keras.models.load_model`. If renaming is not possible, pass the object in the `custom_objects` parameter of the load function.\n"
          ]
        },
        {
          "output_type": "stream",
          "name": "stdout",
          "text": [
            "\b\b\b\b\b\b\b\b\b\b\b\b\b\b\b\b\b\b\b\b\b\b\b\b\b\b\b\b\b\b\b\b\b\b\b\b\b\b\b\b\b\b\b\b\b\b\b\b\b\b\b\b\b\b\b\b\b\b\b\b\b\b\b\b\b\r18/18 [==============================] - 2s 127ms/step - loss: 114.4341 - val_loss: 598.3356\n",
            "Epoch 83/100\n",
            "18/18 [==============================] - 0s 8ms/step - loss: 112.8585 - val_loss: 607.5803\n",
            "Epoch 84/100\n",
            "18/18 [==============================] - 0s 7ms/step - loss: 111.8406 - val_loss: 602.6411\n",
            "Epoch 85/100\n",
            "18/18 [==============================] - 0s 7ms/step - loss: 111.2613 - val_loss: 627.6544\n",
            "Epoch 86/100\n",
            "18/18 [==============================] - 0s 8ms/step - loss: 113.9645 - val_loss: 619.5224\n",
            "Epoch 87/100\n",
            "18/18 [==============================] - ETA: 0s - loss: 113.8286INFO:tensorflow:Assets written to: model_experiments/model_5_LSTM/assets\n"
          ]
        },
        {
          "output_type": "stream",
          "name": "stderr",
          "text": [
            "INFO:tensorflow:Assets written to: model_experiments/model_5_LSTM/assets\n",
            "WARNING:absl:<keras.layers.recurrent.LSTMCell object at 0x7fd3925c9150> has the same name 'LSTMCell' as a built-in Keras object. Consider renaming <class 'keras.layers.recurrent.LSTMCell'> to avoid naming conflicts when loading with `tf.keras.models.load_model`. If renaming is not possible, pass the object in the `custom_objects` parameter of the load function.\n"
          ]
        },
        {
          "output_type": "stream",
          "name": "stdout",
          "text": [
            "\b\b\b\b\b\b\b\b\b\b\b\b\b\b\b\b\b\b\b\b\b\b\b\b\b\b\b\b\b\b\b\b\b\b\b\b\b\b\b\b\b\b\b\b\b\b\b\b\b\b\b\b\b\b\b\b\b\b\b\b\b\b\b\b\b\r18/18 [==============================] - 2s 124ms/step - loss: 113.8286 - val_loss: 598.2933\n",
            "Epoch 88/100\n",
            " 9/18 [==============>...............] - ETA: 0s - loss: 108.4953INFO:tensorflow:Assets written to: model_experiments/model_5_LSTM/assets\n"
          ]
        },
        {
          "output_type": "stream",
          "name": "stderr",
          "text": [
            "INFO:tensorflow:Assets written to: model_experiments/model_5_LSTM/assets\n",
            "WARNING:absl:<keras.layers.recurrent.LSTMCell object at 0x7fd3925c9150> has the same name 'LSTMCell' as a built-in Keras object. Consider renaming <class 'keras.layers.recurrent.LSTMCell'> to avoid naming conflicts when loading with `tf.keras.models.load_model`. If renaming is not possible, pass the object in the `custom_objects` parameter of the load function.\n"
          ]
        },
        {
          "output_type": "stream",
          "name": "stdout",
          "text": [
            "\b\b\b\b\b\b\b\b\b\b\b\b\b\b\b\b\b\b\b\b\b\b\b\b\b\b\b\b\b\b\b\b\b\b\b\b\b\b\b\b\b\b\b\b\b\b\b\b\b\b\b\b\b\b\b\b\b\b\b\b\b\b\b\b\b\r18/18 [==============================] - 2s 122ms/step - loss: 110.8448 - val_loss: 596.0640\n",
            "Epoch 89/100\n",
            "18/18 [==============================] - 0s 8ms/step - loss: 111.0922 - val_loss: 630.6047\n",
            "Epoch 90/100\n",
            "18/18 [==============================] - 0s 8ms/step - loss: 115.8214 - val_loss: 680.3810\n",
            "Epoch 91/100\n",
            "18/18 [==============================] - 0s 8ms/step - loss: 116.0425 - val_loss: 632.1270\n",
            "Epoch 92/100\n",
            "10/18 [===============>..............] - ETA: 0s - loss: 111.2355INFO:tensorflow:Assets written to: model_experiments/model_5_LSTM/assets\n"
          ]
        },
        {
          "output_type": "stream",
          "name": "stderr",
          "text": [
            "INFO:tensorflow:Assets written to: model_experiments/model_5_LSTM/assets\n",
            "WARNING:absl:<keras.layers.recurrent.LSTMCell object at 0x7fd3925c9150> has the same name 'LSTMCell' as a built-in Keras object. Consider renaming <class 'keras.layers.recurrent.LSTMCell'> to avoid naming conflicts when loading with `tf.keras.models.load_model`. If renaming is not possible, pass the object in the `custom_objects` parameter of the load function.\n"
          ]
        },
        {
          "output_type": "stream",
          "name": "stdout",
          "text": [
            "\b\b\b\b\b\b\b\b\b\b\b\b\b\b\b\b\b\b\b\b\b\b\b\b\b\b\b\b\b\b\b\b\b\b\b\b\b\b\b\b\b\b\b\b\b\b\b\b\b\b\b\b\b\b\b\b\b\b\b\b\b\b\b\b\b\r18/18 [==============================] - 2s 123ms/step - loss: 111.9858 - val_loss: 596.0399\n",
            "Epoch 93/100\n",
            "18/18 [==============================] - 0s 7ms/step - loss: 111.9554 - val_loss: 601.6699\n",
            "Epoch 94/100\n",
            "18/18 [==============================] - 0s 8ms/step - loss: 110.7805 - val_loss: 605.7480\n",
            "Epoch 95/100\n",
            "10/18 [===============>..............] - ETA: 0s - loss: 106.9139INFO:tensorflow:Assets written to: model_experiments/model_5_LSTM/assets\n"
          ]
        },
        {
          "output_type": "stream",
          "name": "stderr",
          "text": [
            "INFO:tensorflow:Assets written to: model_experiments/model_5_LSTM/assets\n",
            "WARNING:absl:<keras.layers.recurrent.LSTMCell object at 0x7fd3925c9150> has the same name 'LSTMCell' as a built-in Keras object. Consider renaming <class 'keras.layers.recurrent.LSTMCell'> to avoid naming conflicts when loading with `tf.keras.models.load_model`. If renaming is not possible, pass the object in the `custom_objects` parameter of the load function.\n"
          ]
        },
        {
          "output_type": "stream",
          "name": "stdout",
          "text": [
            "\b\b\b\b\b\b\b\b\b\b\b\b\b\b\b\b\b\b\b\b\b\b\b\b\b\b\b\b\b\b\b\b\b\b\b\b\b\b\b\b\b\b\b\b\b\b\b\b\b\b\b\b\b\b\b\b\b\b\b\b\b\b\b\b\b\r18/18 [==============================] - 2s 124ms/step - loss: 110.1889 - val_loss: 594.1672\n",
            "Epoch 96/100\n",
            "18/18 [==============================] - 0s 8ms/step - loss: 112.3372 - val_loss: 601.4485\n",
            "Epoch 97/100\n",
            "18/18 [==============================] - 0s 8ms/step - loss: 110.8521 - val_loss: 625.3636\n",
            "Epoch 98/100\n",
            "10/18 [===============>..............] - ETA: 0s - loss: 109.8751INFO:tensorflow:Assets written to: model_experiments/model_5_LSTM/assets\n"
          ]
        },
        {
          "output_type": "stream",
          "name": "stderr",
          "text": [
            "INFO:tensorflow:Assets written to: model_experiments/model_5_LSTM/assets\n",
            "WARNING:absl:<keras.layers.recurrent.LSTMCell object at 0x7fd3925c9150> has the same name 'LSTMCell' as a built-in Keras object. Consider renaming <class 'keras.layers.recurrent.LSTMCell'> to avoid naming conflicts when loading with `tf.keras.models.load_model`. If renaming is not possible, pass the object in the `custom_objects` parameter of the load function.\n"
          ]
        },
        {
          "output_type": "stream",
          "name": "stdout",
          "text": [
            "\b\b\b\b\b\b\b\b\b\b\b\b\b\b\b\b\b\b\b\b\b\b\b\b\b\b\b\b\b\b\b\b\b\b\b\b\b\b\b\b\b\b\b\b\b\b\b\b\b\b\b\b\b\b\b\b\b\b\b\b\b\b\b\b\b\r18/18 [==============================] - 2s 125ms/step - loss: 110.8161 - val_loss: 594.1018\n",
            "Epoch 99/100\n",
            "10/18 [===============>..............] - ETA: 0s - loss: 108.1807INFO:tensorflow:Assets written to: model_experiments/model_5_LSTM/assets\n"
          ]
        },
        {
          "output_type": "stream",
          "name": "stderr",
          "text": [
            "INFO:tensorflow:Assets written to: model_experiments/model_5_LSTM/assets\n",
            "WARNING:absl:<keras.layers.recurrent.LSTMCell object at 0x7fd3925c9150> has the same name 'LSTMCell' as a built-in Keras object. Consider renaming <class 'keras.layers.recurrent.LSTMCell'> to avoid naming conflicts when loading with `tf.keras.models.load_model`. If renaming is not possible, pass the object in the `custom_objects` parameter of the load function.\n"
          ]
        },
        {
          "output_type": "stream",
          "name": "stdout",
          "text": [
            "\b\b\b\b\b\b\b\b\b\b\b\b\b\b\b\b\b\b\b\b\b\b\b\b\b\b\b\b\b\b\b\b\b\b\b\b\b\b\b\b\b\b\b\b\b\b\b\b\b\b\b\b\b\b\b\b\b\b\b\b\b\b\b\b\b\r18/18 [==============================] - 2s 123ms/step - loss: 109.7159 - val_loss: 591.6655\n",
            "Epoch 100/100\n",
            "18/18 [==============================] - 0s 8ms/step - loss: 112.6171 - val_loss: 594.9865\n"
          ]
        },
        {
          "output_type": "execute_result",
          "data": {
            "text/plain": [
              "<keras.callbacks.History at 0x7fd3925f75d0>"
            ]
          },
          "metadata": {},
          "execution_count": 238
        }
      ]
    },
    {
      "cell_type": "code",
      "source": [
        "# Load in best version of model 5 and evaluate on the test data\n",
        "model_5 = tf.keras.models.load_model(\"model_experiments/model_5_LSTM/\")\n",
        "model_5.evaluate(model_4_test_windows, model_4_test_labels)"
      ],
      "metadata": {
        "colab": {
          "base_uri": "https://localhost:8080/"
        },
        "id": "fQDbeXYTy2g3",
        "outputId": "5fc05e88-0d06-48c3-9110-97484c68aa53"
      },
      "execution_count": 242,
      "outputs": [
        {
          "output_type": "stream",
          "name": "stdout",
          "text": [
            "18/18 [==============================] - 0s 2ms/step - loss: 591.6655\n"
          ]
        },
        {
          "output_type": "execute_result",
          "data": {
            "text/plain": [
              "591.6654663085938"
            ]
          },
          "metadata": {},
          "execution_count": 242
        }
      ]
    },
    {
      "cell_type": "code",
      "source": [
        "# Make predictions with our LSTM model\n",
        "model_5_preds = make_preds(model_5, model_4_test_windows)\n",
        "model_5_preds[:10]"
      ],
      "metadata": {
        "colab": {
          "base_uri": "https://localhost:8080/"
        },
        "id": "UQuOjkR702kT",
        "outputId": "2267da29-6946-43e1-ac1a-1f12d545bdae"
      },
      "execution_count": 243,
      "outputs": [
        {
          "output_type": "execute_result",
          "data": {
            "text/plain": [
              "<tf.Tensor: shape=(10,), dtype=float32, numpy=\n",
              "array([8970.957, 8815.352, 9026.793, 8831.478, 8736.686, 8804.464,\n",
              "       8733.207, 8540.421, 8518.281, 8544.508], dtype=float32)>"
            ]
          },
          "metadata": {},
          "execution_count": 243
        }
      ]
    },
    {
      "cell_type": "code",
      "source": [
        "# Evaluate model 5 preds\n",
        "model_5_results = evaluate_preds(y_true=tf.squeeze(model_4_test_labels),\n",
        "                                 y_pred=model_5_preds)\n",
        "model_5_results"
      ],
      "metadata": {
        "colab": {
          "base_uri": "https://localhost:8080/"
        },
        "id": "HTOM350x05xl",
        "outputId": "1957449a-3ddc-49b7-d9d5-b535ae500825"
      },
      "execution_count": 244,
      "outputs": [
        {
          "output_type": "execute_result",
          "data": {
            "text/plain": [
              "{'mae': 591.6655,\n",
              " 'mape': 2.66558,\n",
              " 'mase': 1.0393925,\n",
              " 'mse': 1250831.5,\n",
              " 'rmse': 1118.4058}"
            ]
          },
          "metadata": {},
          "execution_count": 244
        }
      ]
    },
    {
      "cell_type": "markdown",
      "source": [
        "Hmmm... it seems even with an LSTM-powered RNN we weren't able to beat our naïve models results.\n",
        "\n",
        "Perhaps adding another variable will help?\n",
        "\n",
        "> 🔑 **Note:** I'm putting this here again as a reminder that because neural networks are such powerful algorithms, they can be used for almost any problem, however, that doesn't mean they'll achieve performant or usable results. You're probably starting to clue onto this now.\n"
      ],
      "metadata": {
        "id": "WyRA8xkX1Gs8"
      }
    }
  ]
}