{
  "nbformat": 4,
  "nbformat_minor": 0,
  "metadata": {
    "colab": {
      "name": "10_time_series_forecasting_in_tensorflow.ipynb",
      "provenance": [],
      "collapsed_sections": [],
      "authorship_tag": "ABX9TyNWH/j83xfooLw2Dkqq6USD",
      "include_colab_link": true
    },
    "kernelspec": {
      "name": "python3",
      "display_name": "Python 3"
    },
    "language_info": {
      "name": "python"
    }
  },
  "cells": [
    {
      "cell_type": "markdown",
      "metadata": {
        "id": "view-in-github",
        "colab_type": "text"
      },
      "source": [
        "<a href=\"https://colab.research.google.com/github/Nikitaion/TensorFlowLearning/blob/main/10_time_series_forecasting_in_tensorflow.ipynb\" target=\"_parent\"><img src=\"https://colab.research.google.com/assets/colab-badge.svg\" alt=\"Open In Colab\"/></a>"
      ]
    },
    {
      "cell_type": "markdown",
      "source": [
        "# 10. Milestone Project 3: Time series forecasting in TensorFlow (BitPredict 💰📈)\n",
        "\n",
        "The goal of this notebook is to get you familiar with working with time series data.\n",
        "\n",
        "We're going to be building a series of models in an attempt to predict the price of Bitcoin. \n",
        "\n",
        "## What is a time series problem?\n",
        "\n",
        "Time series problems deal with data over time.\n",
        "\n",
        "Such as, the number of staff members in a company over 10-years, sales of computers for the past 5-years, electricity usage for the past 50-years.\n",
        "\n",
        "The timeline can be short (seconds/minutes) or long (years/decades). And the problems you might investigate using can usually be broken down into two categories.\n",
        "\n",
        "![example time series problems](https://raw.githubusercontent.com/mrdbourke/tensorflow-deep-learning/main/images/10-example-time-series-problems.png)\n",
        "\n",
        "| Problem Type | Examples | Output |\n",
        "| ----- | ----- | ----- |\n",
        "| **Classification** | Anomaly detection, time series identification (where did this time series come from?) | Discrete (a label) |\n",
        "| **Forecasting** | Predicting stock market prices, forecasting future demand for a product, stocking inventory requirements | Continuous (a number) |\n",
        "\n",
        "In both cases above, a supervised learning approach is often used. Meaning, you'd have some example data and a label assosciated with that data.\n",
        "\n",
        "For example, in forecasting the price of Bitcoin, your data could be the historical price of Bitcoin for the past month and the label could be today's price (the label can't be tomorrow's price because that's what we'd want to predict).\n",
        "\n",
        "Can you guess what kind of problem BitPredict 💰📈 is?\n",
        "\n",
        "## What we're going to cover\n",
        "\n",
        "* Get time series data (the historical price of Bitcoin)\n",
        "  * Load in time series data using pandas/Python's CSV module\n",
        "* Format data for a time series problem\n",
        "  * Creating training and test sets (the wrong way)\n",
        "  * Creating training and test sets (the right way)\n",
        "  * Visualizing time series data\n",
        "  * Turning time series data into a supervised learning problem (windowing)\n",
        "  * Preparing univariate and multivariate (more than one variable) data\n",
        "* Evaluating a time series forecasting model\n",
        "* Setting up a series of deep learning modelling experiments\n",
        "  * Dense (fully-connected) networks\n",
        "  * Sequence models (LSTM and 1D CNN)\n",
        "  * Ensembling (combining multiple models together)\n",
        "  * Multivariate models\n",
        "  * Replicating the N-BEATS algorithm using TensorFlow layer subclassing\n",
        "* Creating a modelling checkpoint to save the best performing model during training\n",
        "* Making predictions (forecasts) with a time series model\n",
        "* Creating prediction intervals for time series model forecasts\n",
        "* Discussing two different types of uncertainty in machine learning (data uncertainty and model uncertainty)\n",
        "* Demonstrating why forecasting in an open system is BS (the turkey problem) "
      ],
      "metadata": {
        "id": "n3DbGJo_gIcp"
      }
    },
    {
      "cell_type": "code",
      "source": [
        "# Check for GPU\n",
        "!nvidia-smi -L"
      ],
      "metadata": {
        "colab": {
          "base_uri": "https://localhost:8080/"
        },
        "id": "74tUzhS9gNu6",
        "outputId": "859a9a38-f185-404b-972f-d3efe499af4c"
      },
      "execution_count": 1,
      "outputs": [
        {
          "output_type": "stream",
          "name": "stdout",
          "text": [
            "/bin/bash: nvidia-smi: command not found\n"
          ]
        }
      ]
    },
    {
      "cell_type": "markdown",
      "source": [
        "## Get data\n",
        "\n",
        "To build a time series forecasting model, the first thing we're going to need is data.\n",
        "\n",
        "And since we're trying to predict the price of Bitcoin, we'll need Bitcoin data.\n",
        "\n",
        "Specifically, we're going to get the prices of Bitcoin from 01 October 2013 to 18 May 2021.\n",
        "\n",
        "Why these dates?\n",
        "\n",
        "Because 01 October 2013 is when our data source ([Coindesk](https://www.coindesk.com/price/bitcoin)) started recording the price of Bitcoin and 18 May 2021 is when this notebook was created.\n",
        "\n",
        "If you're going through this notebook at a later date, you'll be able to use what you learn to predict on later dates of Bitcoin, you'll just have to adjust the data source.\n",
        "\n",
        "> 📖 **Resource:** To get the Bitcoin historical data, I went to the [Coindesk page for Bitcoin prices](https://www.coindesk.com/price/bitcoin), clicked on \"all\" and then clicked on \"Export data\" and selected \"CSV\". \n",
        "\n",
        "You can find the data we're going to use on [GitHub](https://github.com/mrdbourke/tensorflow-deep-learning/blob/main/extras/BTC_USD_2013-10-01_2021-05-18-CoinDesk.csv).\n",
        "\n"
      ],
      "metadata": {
        "id": "843J_W2KMPkJ"
      }
    },
    {
      "cell_type": "code",
      "source": [
        "# Download Bitcoin historical data from GitHub \n",
        "# Note: you'll need to select \"Raw\" to download the data in the correct format\n",
        "!wget https://raw.githubusercontent.com/mrdbourke/tensorflow-deep-learning/main/extras/BTC_USD_2013-10-01_2021-05-18-CoinDesk.csv "
      ],
      "metadata": {
        "colab": {
          "base_uri": "https://localhost:8080/"
        },
        "id": "QWq4k1AkMSym",
        "outputId": "0acc0770-bd9a-4ff7-e3d1-4523cb090131"
      },
      "execution_count": 2,
      "outputs": [
        {
          "output_type": "stream",
          "name": "stdout",
          "text": [
            "--2022-02-21 15:47:46--  https://raw.githubusercontent.com/mrdbourke/tensorflow-deep-learning/main/extras/BTC_USD_2013-10-01_2021-05-18-CoinDesk.csv\n",
            "Resolving raw.githubusercontent.com (raw.githubusercontent.com)... 185.199.108.133, 185.199.109.133, 185.199.110.133, ...\n",
            "Connecting to raw.githubusercontent.com (raw.githubusercontent.com)|185.199.108.133|:443... connected.\n",
            "HTTP request sent, awaiting response... 200 OK\n",
            "Length: 178509 (174K) [text/plain]\n",
            "Saving to: ‘BTC_USD_2013-10-01_2021-05-18-CoinDesk.csv’\n",
            "\n",
            "BTC_USD_2013-10-01_ 100%[===================>] 174.33K  --.-KB/s    in 0.02s   \n",
            "\n",
            "2022-02-21 15:47:46 (11.1 MB/s) - ‘BTC_USD_2013-10-01_2021-05-18-CoinDesk.csv’ saved [178509/178509]\n",
            "\n"
          ]
        }
      ]
    },
    {
      "cell_type": "markdown",
      "source": [
        "### Importing time series data with pandas\n",
        "Now we've got some data to work with, let's import it using pandas so we can visualize it.\n",
        "\n",
        "Because our data is in **CSV (comma separated values)** format (a very common data format for time series), we'll use the pandas [`read_csv()`](https://pandas.pydata.org/pandas-docs/stable/reference/api/pandas.read_csv.html) function.\n",
        "\n",
        "And because our data has a date component, we'll tell pandas to parse the dates using the `parse_dates` parameter passing it the name our of the date column (\"Date\")."
      ],
      "metadata": {
        "id": "saCBvGQpMeWw"
      }
    },
    {
      "cell_type": "code",
      "source": [
        "import pandas as pd\n",
        "\n",
        "# Parse dates and set date column to index\n",
        "df = pd.read_csv(\"/content/BTC_USD_2013-10-01_2021-05-18-CoinDesk.csv\",\n",
        "                 parse_dates=[\"Date\"],\n",
        "                 index_col=\"Date\") # parse the date column (tell pandas column 1 is a datetime)\n",
        "df.head()"
      ],
      "metadata": {
        "colab": {
          "base_uri": "https://localhost:8080/",
          "height": 238
        },
        "id": "VyWZWou7wK5x",
        "outputId": "643f19ef-2210-4d72-a19d-14e232c05306"
      },
      "execution_count": 3,
      "outputs": [
        {
          "output_type": "execute_result",
          "data": {
            "text/html": [
              "\n",
              "  <div id=\"df-780e525d-0c2f-44e3-893c-74cda62df683\">\n",
              "    <div class=\"colab-df-container\">\n",
              "      <div>\n",
              "<style scoped>\n",
              "    .dataframe tbody tr th:only-of-type {\n",
              "        vertical-align: middle;\n",
              "    }\n",
              "\n",
              "    .dataframe tbody tr th {\n",
              "        vertical-align: top;\n",
              "    }\n",
              "\n",
              "    .dataframe thead th {\n",
              "        text-align: right;\n",
              "    }\n",
              "</style>\n",
              "<table border=\"1\" class=\"dataframe\">\n",
              "  <thead>\n",
              "    <tr style=\"text-align: right;\">\n",
              "      <th></th>\n",
              "      <th>Currency</th>\n",
              "      <th>Closing Price (USD)</th>\n",
              "      <th>24h Open (USD)</th>\n",
              "      <th>24h High (USD)</th>\n",
              "      <th>24h Low (USD)</th>\n",
              "    </tr>\n",
              "    <tr>\n",
              "      <th>Date</th>\n",
              "      <th></th>\n",
              "      <th></th>\n",
              "      <th></th>\n",
              "      <th></th>\n",
              "      <th></th>\n",
              "    </tr>\n",
              "  </thead>\n",
              "  <tbody>\n",
              "    <tr>\n",
              "      <th>2013-10-01</th>\n",
              "      <td>BTC</td>\n",
              "      <td>123.65499</td>\n",
              "      <td>124.30466</td>\n",
              "      <td>124.75166</td>\n",
              "      <td>122.56349</td>\n",
              "    </tr>\n",
              "    <tr>\n",
              "      <th>2013-10-02</th>\n",
              "      <td>BTC</td>\n",
              "      <td>125.45500</td>\n",
              "      <td>123.65499</td>\n",
              "      <td>125.75850</td>\n",
              "      <td>123.63383</td>\n",
              "    </tr>\n",
              "    <tr>\n",
              "      <th>2013-10-03</th>\n",
              "      <td>BTC</td>\n",
              "      <td>108.58483</td>\n",
              "      <td>125.45500</td>\n",
              "      <td>125.66566</td>\n",
              "      <td>83.32833</td>\n",
              "    </tr>\n",
              "    <tr>\n",
              "      <th>2013-10-04</th>\n",
              "      <td>BTC</td>\n",
              "      <td>118.67466</td>\n",
              "      <td>108.58483</td>\n",
              "      <td>118.67500</td>\n",
              "      <td>107.05816</td>\n",
              "    </tr>\n",
              "    <tr>\n",
              "      <th>2013-10-05</th>\n",
              "      <td>BTC</td>\n",
              "      <td>121.33866</td>\n",
              "      <td>118.67466</td>\n",
              "      <td>121.93633</td>\n",
              "      <td>118.00566</td>\n",
              "    </tr>\n",
              "  </tbody>\n",
              "</table>\n",
              "</div>\n",
              "      <button class=\"colab-df-convert\" onclick=\"convertToInteractive('df-780e525d-0c2f-44e3-893c-74cda62df683')\"\n",
              "              title=\"Convert this dataframe to an interactive table.\"\n",
              "              style=\"display:none;\">\n",
              "        \n",
              "  <svg xmlns=\"http://www.w3.org/2000/svg\" height=\"24px\"viewBox=\"0 0 24 24\"\n",
              "       width=\"24px\">\n",
              "    <path d=\"M0 0h24v24H0V0z\" fill=\"none\"/>\n",
              "    <path d=\"M18.56 5.44l.94 2.06.94-2.06 2.06-.94-2.06-.94-.94-2.06-.94 2.06-2.06.94zm-11 1L8.5 8.5l.94-2.06 2.06-.94-2.06-.94L8.5 2.5l-.94 2.06-2.06.94zm10 10l.94 2.06.94-2.06 2.06-.94-2.06-.94-.94-2.06-.94 2.06-2.06.94z\"/><path d=\"M17.41 7.96l-1.37-1.37c-.4-.4-.92-.59-1.43-.59-.52 0-1.04.2-1.43.59L10.3 9.45l-7.72 7.72c-.78.78-.78 2.05 0 2.83L4 21.41c.39.39.9.59 1.41.59.51 0 1.02-.2 1.41-.59l7.78-7.78 2.81-2.81c.8-.78.8-2.07 0-2.86zM5.41 20L4 18.59l7.72-7.72 1.47 1.35L5.41 20z\"/>\n",
              "  </svg>\n",
              "      </button>\n",
              "      \n",
              "  <style>\n",
              "    .colab-df-container {\n",
              "      display:flex;\n",
              "      flex-wrap:wrap;\n",
              "      gap: 12px;\n",
              "    }\n",
              "\n",
              "    .colab-df-convert {\n",
              "      background-color: #E8F0FE;\n",
              "      border: none;\n",
              "      border-radius: 50%;\n",
              "      cursor: pointer;\n",
              "      display: none;\n",
              "      fill: #1967D2;\n",
              "      height: 32px;\n",
              "      padding: 0 0 0 0;\n",
              "      width: 32px;\n",
              "    }\n",
              "\n",
              "    .colab-df-convert:hover {\n",
              "      background-color: #E2EBFA;\n",
              "      box-shadow: 0px 1px 2px rgba(60, 64, 67, 0.3), 0px 1px 3px 1px rgba(60, 64, 67, 0.15);\n",
              "      fill: #174EA6;\n",
              "    }\n",
              "\n",
              "    [theme=dark] .colab-df-convert {\n",
              "      background-color: #3B4455;\n",
              "      fill: #D2E3FC;\n",
              "    }\n",
              "\n",
              "    [theme=dark] .colab-df-convert:hover {\n",
              "      background-color: #434B5C;\n",
              "      box-shadow: 0px 1px 3px 1px rgba(0, 0, 0, 0.15);\n",
              "      filter: drop-shadow(0px 1px 2px rgba(0, 0, 0, 0.3));\n",
              "      fill: #FFFFFF;\n",
              "    }\n",
              "  </style>\n",
              "\n",
              "      <script>\n",
              "        const buttonEl =\n",
              "          document.querySelector('#df-780e525d-0c2f-44e3-893c-74cda62df683 button.colab-df-convert');\n",
              "        buttonEl.style.display =\n",
              "          google.colab.kernel.accessAllowed ? 'block' : 'none';\n",
              "\n",
              "        async function convertToInteractive(key) {\n",
              "          const element = document.querySelector('#df-780e525d-0c2f-44e3-893c-74cda62df683');\n",
              "          const dataTable =\n",
              "            await google.colab.kernel.invokeFunction('convertToInteractive',\n",
              "                                                     [key], {});\n",
              "          if (!dataTable) return;\n",
              "\n",
              "          const docLinkHtml = 'Like what you see? Visit the ' +\n",
              "            '<a target=\"_blank\" href=https://colab.research.google.com/notebooks/data_table.ipynb>data table notebook</a>'\n",
              "            + ' to learn more about interactive tables.';\n",
              "          element.innerHTML = '';\n",
              "          dataTable['output_type'] = 'display_data';\n",
              "          await google.colab.output.renderOutput(dataTable, element);\n",
              "          const docLink = document.createElement('div');\n",
              "          docLink.innerHTML = docLinkHtml;\n",
              "          element.appendChild(docLink);\n",
              "        }\n",
              "      </script>\n",
              "    </div>\n",
              "  </div>\n",
              "  "
            ],
            "text/plain": [
              "           Currency  Closing Price (USD)  ...  24h High (USD)  24h Low (USD)\n",
              "Date                                      ...                               \n",
              "2013-10-01      BTC            123.65499  ...       124.75166      122.56349\n",
              "2013-10-02      BTC            125.45500  ...       125.75850      123.63383\n",
              "2013-10-03      BTC            108.58483  ...       125.66566       83.32833\n",
              "2013-10-04      BTC            118.67466  ...       118.67500      107.05816\n",
              "2013-10-05      BTC            121.33866  ...       121.93633      118.00566\n",
              "\n",
              "[5 rows x 5 columns]"
            ]
          },
          "metadata": {},
          "execution_count": 3
        }
      ]
    },
    {
      "cell_type": "code",
      "source": [
        "df.tail()"
      ],
      "metadata": {
        "colab": {
          "base_uri": "https://localhost:8080/",
          "height": 238
        },
        "id": "rhebPNelxeq-",
        "outputId": "e86532af-e44d-4af6-95c4-d0ec23a8fee1"
      },
      "execution_count": 4,
      "outputs": [
        {
          "output_type": "execute_result",
          "data": {
            "text/html": [
              "\n",
              "  <div id=\"df-f1ef0df4-625b-49e9-8ae1-03ca4d63fcd0\">\n",
              "    <div class=\"colab-df-container\">\n",
              "      <div>\n",
              "<style scoped>\n",
              "    .dataframe tbody tr th:only-of-type {\n",
              "        vertical-align: middle;\n",
              "    }\n",
              "\n",
              "    .dataframe tbody tr th {\n",
              "        vertical-align: top;\n",
              "    }\n",
              "\n",
              "    .dataframe thead th {\n",
              "        text-align: right;\n",
              "    }\n",
              "</style>\n",
              "<table border=\"1\" class=\"dataframe\">\n",
              "  <thead>\n",
              "    <tr style=\"text-align: right;\">\n",
              "      <th></th>\n",
              "      <th>Currency</th>\n",
              "      <th>Closing Price (USD)</th>\n",
              "      <th>24h Open (USD)</th>\n",
              "      <th>24h High (USD)</th>\n",
              "      <th>24h Low (USD)</th>\n",
              "    </tr>\n",
              "    <tr>\n",
              "      <th>Date</th>\n",
              "      <th></th>\n",
              "      <th></th>\n",
              "      <th></th>\n",
              "      <th></th>\n",
              "      <th></th>\n",
              "    </tr>\n",
              "  </thead>\n",
              "  <tbody>\n",
              "    <tr>\n",
              "      <th>2021-05-14</th>\n",
              "      <td>BTC</td>\n",
              "      <td>49764.132082</td>\n",
              "      <td>49596.778891</td>\n",
              "      <td>51448.798576</td>\n",
              "      <td>46294.720180</td>\n",
              "    </tr>\n",
              "    <tr>\n",
              "      <th>2021-05-15</th>\n",
              "      <td>BTC</td>\n",
              "      <td>50032.693137</td>\n",
              "      <td>49717.354353</td>\n",
              "      <td>51578.312545</td>\n",
              "      <td>48944.346536</td>\n",
              "    </tr>\n",
              "    <tr>\n",
              "      <th>2021-05-16</th>\n",
              "      <td>BTC</td>\n",
              "      <td>47885.625255</td>\n",
              "      <td>49926.035067</td>\n",
              "      <td>50690.802950</td>\n",
              "      <td>47005.102292</td>\n",
              "    </tr>\n",
              "    <tr>\n",
              "      <th>2021-05-17</th>\n",
              "      <td>BTC</td>\n",
              "      <td>45604.615754</td>\n",
              "      <td>46805.537852</td>\n",
              "      <td>49670.414174</td>\n",
              "      <td>43868.638969</td>\n",
              "    </tr>\n",
              "    <tr>\n",
              "      <th>2021-05-18</th>\n",
              "      <td>BTC</td>\n",
              "      <td>43144.471291</td>\n",
              "      <td>46439.336570</td>\n",
              "      <td>46622.853437</td>\n",
              "      <td>42102.346430</td>\n",
              "    </tr>\n",
              "  </tbody>\n",
              "</table>\n",
              "</div>\n",
              "      <button class=\"colab-df-convert\" onclick=\"convertToInteractive('df-f1ef0df4-625b-49e9-8ae1-03ca4d63fcd0')\"\n",
              "              title=\"Convert this dataframe to an interactive table.\"\n",
              "              style=\"display:none;\">\n",
              "        \n",
              "  <svg xmlns=\"http://www.w3.org/2000/svg\" height=\"24px\"viewBox=\"0 0 24 24\"\n",
              "       width=\"24px\">\n",
              "    <path d=\"M0 0h24v24H0V0z\" fill=\"none\"/>\n",
              "    <path d=\"M18.56 5.44l.94 2.06.94-2.06 2.06-.94-2.06-.94-.94-2.06-.94 2.06-2.06.94zm-11 1L8.5 8.5l.94-2.06 2.06-.94-2.06-.94L8.5 2.5l-.94 2.06-2.06.94zm10 10l.94 2.06.94-2.06 2.06-.94-2.06-.94-.94-2.06-.94 2.06-2.06.94z\"/><path d=\"M17.41 7.96l-1.37-1.37c-.4-.4-.92-.59-1.43-.59-.52 0-1.04.2-1.43.59L10.3 9.45l-7.72 7.72c-.78.78-.78 2.05 0 2.83L4 21.41c.39.39.9.59 1.41.59.51 0 1.02-.2 1.41-.59l7.78-7.78 2.81-2.81c.8-.78.8-2.07 0-2.86zM5.41 20L4 18.59l7.72-7.72 1.47 1.35L5.41 20z\"/>\n",
              "  </svg>\n",
              "      </button>\n",
              "      \n",
              "  <style>\n",
              "    .colab-df-container {\n",
              "      display:flex;\n",
              "      flex-wrap:wrap;\n",
              "      gap: 12px;\n",
              "    }\n",
              "\n",
              "    .colab-df-convert {\n",
              "      background-color: #E8F0FE;\n",
              "      border: none;\n",
              "      border-radius: 50%;\n",
              "      cursor: pointer;\n",
              "      display: none;\n",
              "      fill: #1967D2;\n",
              "      height: 32px;\n",
              "      padding: 0 0 0 0;\n",
              "      width: 32px;\n",
              "    }\n",
              "\n",
              "    .colab-df-convert:hover {\n",
              "      background-color: #E2EBFA;\n",
              "      box-shadow: 0px 1px 2px rgba(60, 64, 67, 0.3), 0px 1px 3px 1px rgba(60, 64, 67, 0.15);\n",
              "      fill: #174EA6;\n",
              "    }\n",
              "\n",
              "    [theme=dark] .colab-df-convert {\n",
              "      background-color: #3B4455;\n",
              "      fill: #D2E3FC;\n",
              "    }\n",
              "\n",
              "    [theme=dark] .colab-df-convert:hover {\n",
              "      background-color: #434B5C;\n",
              "      box-shadow: 0px 1px 3px 1px rgba(0, 0, 0, 0.15);\n",
              "      filter: drop-shadow(0px 1px 2px rgba(0, 0, 0, 0.3));\n",
              "      fill: #FFFFFF;\n",
              "    }\n",
              "  </style>\n",
              "\n",
              "      <script>\n",
              "        const buttonEl =\n",
              "          document.querySelector('#df-f1ef0df4-625b-49e9-8ae1-03ca4d63fcd0 button.colab-df-convert');\n",
              "        buttonEl.style.display =\n",
              "          google.colab.kernel.accessAllowed ? 'block' : 'none';\n",
              "\n",
              "        async function convertToInteractive(key) {\n",
              "          const element = document.querySelector('#df-f1ef0df4-625b-49e9-8ae1-03ca4d63fcd0');\n",
              "          const dataTable =\n",
              "            await google.colab.kernel.invokeFunction('convertToInteractive',\n",
              "                                                     [key], {});\n",
              "          if (!dataTable) return;\n",
              "\n",
              "          const docLinkHtml = 'Like what you see? Visit the ' +\n",
              "            '<a target=\"_blank\" href=https://colab.research.google.com/notebooks/data_table.ipynb>data table notebook</a>'\n",
              "            + ' to learn more about interactive tables.';\n",
              "          element.innerHTML = '';\n",
              "          dataTable['output_type'] = 'display_data';\n",
              "          await google.colab.output.renderOutput(dataTable, element);\n",
              "          const docLink = document.createElement('div');\n",
              "          docLink.innerHTML = docLinkHtml;\n",
              "          element.appendChild(docLink);\n",
              "        }\n",
              "      </script>\n",
              "    </div>\n",
              "  </div>\n",
              "  "
            ],
            "text/plain": [
              "           Currency  Closing Price (USD)  ...  24h High (USD)  24h Low (USD)\n",
              "Date                                      ...                               \n",
              "2021-05-14      BTC         49764.132082  ...    51448.798576   46294.720180\n",
              "2021-05-15      BTC         50032.693137  ...    51578.312545   48944.346536\n",
              "2021-05-16      BTC         47885.625255  ...    50690.802950   47005.102292\n",
              "2021-05-17      BTC         45604.615754  ...    49670.414174   43868.638969\n",
              "2021-05-18      BTC         43144.471291  ...    46622.853437   42102.346430\n",
              "\n",
              "[5 rows x 5 columns]"
            ]
          },
          "metadata": {},
          "execution_count": 4
        }
      ]
    },
    {
      "cell_type": "code",
      "source": [
        "df.info()"
      ],
      "metadata": {
        "colab": {
          "base_uri": "https://localhost:8080/"
        },
        "id": "heX3H9vxw21L",
        "outputId": "9e9462f1-6b00-4ad7-b4ed-6946eb770c2d"
      },
      "execution_count": 5,
      "outputs": [
        {
          "output_type": "stream",
          "name": "stdout",
          "text": [
            "<class 'pandas.core.frame.DataFrame'>\n",
            "DatetimeIndex: 2787 entries, 2013-10-01 to 2021-05-18\n",
            "Data columns (total 5 columns):\n",
            " #   Column               Non-Null Count  Dtype  \n",
            "---  ------               --------------  -----  \n",
            " 0   Currency             2787 non-null   object \n",
            " 1   Closing Price (USD)  2787 non-null   float64\n",
            " 2   24h Open (USD)       2787 non-null   float64\n",
            " 3   24h High (USD)       2787 non-null   float64\n",
            " 4   24h Low (USD)        2787 non-null   float64\n",
            "dtypes: float64(4), object(1)\n",
            "memory usage: 130.6+ KB\n"
          ]
        }
      ]
    },
    {
      "cell_type": "code",
      "source": [
        "# How many samples do we have?\n",
        "len(df)"
      ],
      "metadata": {
        "colab": {
          "base_uri": "https://localhost:8080/"
        },
        "id": "V6g5YrxkxPHY",
        "outputId": "2d648e7f-9338-4f64-f157-c0279982b151"
      },
      "execution_count": 6,
      "outputs": [
        {
          "output_type": "execute_result",
          "data": {
            "text/plain": [
              "2787"
            ]
          },
          "metadata": {},
          "execution_count": 6
        }
      ]
    },
    {
      "cell_type": "markdown",
      "source": [
        "We've collected the historical price of Bitcoin for the past ~8 years but there's only 2787 total samples.\n",
        "\n",
        "This is something you'll run into with time series data problems. Often, the number of samples isn't as large as other kinds of data.\n",
        "\n",
        "For example, collecting one sample at different time frames results in:\n",
        "\n",
        "| 1 sample per timeframe | Number of samples per year |\n",
        "| ----- | ----- |\n",
        "| Second | 31,536,000 |\n",
        "| Hour | 8,760 |\n",
        "| Day | 365 |\n",
        "| Week | 52 |\n",
        "| Month | 12 |\n",
        "\n",
        "> 🔑 **Note:** The frequency at which a time series value is collected is often referred to as **seasonality**. This is usually mesaured in number of samples per year. For example, collecting the price of Bitcoin once per day would result in a time series with a seasonality of 365. Time series data collected with different seasonality values often exhibit seasonal patterns (e.g. electricity demand behing higher in Summer months for air conditioning than Winter months). For more on different time series patterns, see [Forecasting: Principles and Practice Chapter 2.3](https://otexts.com/fpp3/tspatterns.html).\n",
        "\n",
        "![different types of time series patterns](https://raw.githubusercontent.com/mrdbourke/tensorflow-deep-learning/main/images/10-types-of-time-series-patterns.png)\n",
        "*Example of different kinds of patterns you'll see in time series data. Notice the bottom right time series (Google stock price changes) has little to no patterns, making it difficult to predict. See [Forecasting: Principles and Practice Chapter 2.3](https://otexts.com/fpp3/tspatterns.html) for full graphic.*\n",
        "\n",
        "Deep learning algorithms usually flourish with lots of data, in the range of thousands to millions of samples.\n",
        "\n",
        "In our case, we've got the daily prices of Bitcoin, a max of 365 samples per year.\n",
        "\n",
        "But that doesn't we can't try them with our data.\n",
        "\n",
        "To simplify, let's remove some of the columns from our data so we're only left with a date index and the closing price."
      ],
      "metadata": {
        "id": "VsIO3HpExbEQ"
      }
    },
    {
      "cell_type": "code",
      "source": [
        "pd.DataFrame(df[\"Closing Price (USD)\"])"
      ],
      "metadata": {
        "colab": {
          "base_uri": "https://localhost:8080/",
          "height": 455
        },
        "id": "C37w_9v5a9CS",
        "outputId": "98540bdc-5092-4ca0-f081-23a584043c96"
      },
      "execution_count": 7,
      "outputs": [
        {
          "output_type": "execute_result",
          "data": {
            "text/html": [
              "\n",
              "  <div id=\"df-cfa3088c-f75f-4df9-9c96-078cf88383e2\">\n",
              "    <div class=\"colab-df-container\">\n",
              "      <div>\n",
              "<style scoped>\n",
              "    .dataframe tbody tr th:only-of-type {\n",
              "        vertical-align: middle;\n",
              "    }\n",
              "\n",
              "    .dataframe tbody tr th {\n",
              "        vertical-align: top;\n",
              "    }\n",
              "\n",
              "    .dataframe thead th {\n",
              "        text-align: right;\n",
              "    }\n",
              "</style>\n",
              "<table border=\"1\" class=\"dataframe\">\n",
              "  <thead>\n",
              "    <tr style=\"text-align: right;\">\n",
              "      <th></th>\n",
              "      <th>Closing Price (USD)</th>\n",
              "    </tr>\n",
              "    <tr>\n",
              "      <th>Date</th>\n",
              "      <th></th>\n",
              "    </tr>\n",
              "  </thead>\n",
              "  <tbody>\n",
              "    <tr>\n",
              "      <th>2013-10-01</th>\n",
              "      <td>123.654990</td>\n",
              "    </tr>\n",
              "    <tr>\n",
              "      <th>2013-10-02</th>\n",
              "      <td>125.455000</td>\n",
              "    </tr>\n",
              "    <tr>\n",
              "      <th>2013-10-03</th>\n",
              "      <td>108.584830</td>\n",
              "    </tr>\n",
              "    <tr>\n",
              "      <th>2013-10-04</th>\n",
              "      <td>118.674660</td>\n",
              "    </tr>\n",
              "    <tr>\n",
              "      <th>2013-10-05</th>\n",
              "      <td>121.338660</td>\n",
              "    </tr>\n",
              "    <tr>\n",
              "      <th>...</th>\n",
              "      <td>...</td>\n",
              "    </tr>\n",
              "    <tr>\n",
              "      <th>2021-05-14</th>\n",
              "      <td>49764.132082</td>\n",
              "    </tr>\n",
              "    <tr>\n",
              "      <th>2021-05-15</th>\n",
              "      <td>50032.693137</td>\n",
              "    </tr>\n",
              "    <tr>\n",
              "      <th>2021-05-16</th>\n",
              "      <td>47885.625255</td>\n",
              "    </tr>\n",
              "    <tr>\n",
              "      <th>2021-05-17</th>\n",
              "      <td>45604.615754</td>\n",
              "    </tr>\n",
              "    <tr>\n",
              "      <th>2021-05-18</th>\n",
              "      <td>43144.471291</td>\n",
              "    </tr>\n",
              "  </tbody>\n",
              "</table>\n",
              "<p>2787 rows × 1 columns</p>\n",
              "</div>\n",
              "      <button class=\"colab-df-convert\" onclick=\"convertToInteractive('df-cfa3088c-f75f-4df9-9c96-078cf88383e2')\"\n",
              "              title=\"Convert this dataframe to an interactive table.\"\n",
              "              style=\"display:none;\">\n",
              "        \n",
              "  <svg xmlns=\"http://www.w3.org/2000/svg\" height=\"24px\"viewBox=\"0 0 24 24\"\n",
              "       width=\"24px\">\n",
              "    <path d=\"M0 0h24v24H0V0z\" fill=\"none\"/>\n",
              "    <path d=\"M18.56 5.44l.94 2.06.94-2.06 2.06-.94-2.06-.94-.94-2.06-.94 2.06-2.06.94zm-11 1L8.5 8.5l.94-2.06 2.06-.94-2.06-.94L8.5 2.5l-.94 2.06-2.06.94zm10 10l.94 2.06.94-2.06 2.06-.94-2.06-.94-.94-2.06-.94 2.06-2.06.94z\"/><path d=\"M17.41 7.96l-1.37-1.37c-.4-.4-.92-.59-1.43-.59-.52 0-1.04.2-1.43.59L10.3 9.45l-7.72 7.72c-.78.78-.78 2.05 0 2.83L4 21.41c.39.39.9.59 1.41.59.51 0 1.02-.2 1.41-.59l7.78-7.78 2.81-2.81c.8-.78.8-2.07 0-2.86zM5.41 20L4 18.59l7.72-7.72 1.47 1.35L5.41 20z\"/>\n",
              "  </svg>\n",
              "      </button>\n",
              "      \n",
              "  <style>\n",
              "    .colab-df-container {\n",
              "      display:flex;\n",
              "      flex-wrap:wrap;\n",
              "      gap: 12px;\n",
              "    }\n",
              "\n",
              "    .colab-df-convert {\n",
              "      background-color: #E8F0FE;\n",
              "      border: none;\n",
              "      border-radius: 50%;\n",
              "      cursor: pointer;\n",
              "      display: none;\n",
              "      fill: #1967D2;\n",
              "      height: 32px;\n",
              "      padding: 0 0 0 0;\n",
              "      width: 32px;\n",
              "    }\n",
              "\n",
              "    .colab-df-convert:hover {\n",
              "      background-color: #E2EBFA;\n",
              "      box-shadow: 0px 1px 2px rgba(60, 64, 67, 0.3), 0px 1px 3px 1px rgba(60, 64, 67, 0.15);\n",
              "      fill: #174EA6;\n",
              "    }\n",
              "\n",
              "    [theme=dark] .colab-df-convert {\n",
              "      background-color: #3B4455;\n",
              "      fill: #D2E3FC;\n",
              "    }\n",
              "\n",
              "    [theme=dark] .colab-df-convert:hover {\n",
              "      background-color: #434B5C;\n",
              "      box-shadow: 0px 1px 3px 1px rgba(0, 0, 0, 0.15);\n",
              "      filter: drop-shadow(0px 1px 2px rgba(0, 0, 0, 0.3));\n",
              "      fill: #FFFFFF;\n",
              "    }\n",
              "  </style>\n",
              "\n",
              "      <script>\n",
              "        const buttonEl =\n",
              "          document.querySelector('#df-cfa3088c-f75f-4df9-9c96-078cf88383e2 button.colab-df-convert');\n",
              "        buttonEl.style.display =\n",
              "          google.colab.kernel.accessAllowed ? 'block' : 'none';\n",
              "\n",
              "        async function convertToInteractive(key) {\n",
              "          const element = document.querySelector('#df-cfa3088c-f75f-4df9-9c96-078cf88383e2');\n",
              "          const dataTable =\n",
              "            await google.colab.kernel.invokeFunction('convertToInteractive',\n",
              "                                                     [key], {});\n",
              "          if (!dataTable) return;\n",
              "\n",
              "          const docLinkHtml = 'Like what you see? Visit the ' +\n",
              "            '<a target=\"_blank\" href=https://colab.research.google.com/notebooks/data_table.ipynb>data table notebook</a>'\n",
              "            + ' to learn more about interactive tables.';\n",
              "          element.innerHTML = '';\n",
              "          dataTable['output_type'] = 'display_data';\n",
              "          await google.colab.output.renderOutput(dataTable, element);\n",
              "          const docLink = document.createElement('div');\n",
              "          docLink.innerHTML = docLinkHtml;\n",
              "          element.appendChild(docLink);\n",
              "        }\n",
              "      </script>\n",
              "    </div>\n",
              "  </div>\n",
              "  "
            ],
            "text/plain": [
              "            Closing Price (USD)\n",
              "Date                           \n",
              "2013-10-01           123.654990\n",
              "2013-10-02           125.455000\n",
              "2013-10-03           108.584830\n",
              "2013-10-04           118.674660\n",
              "2013-10-05           121.338660\n",
              "...                         ...\n",
              "2021-05-14         49764.132082\n",
              "2021-05-15         50032.693137\n",
              "2021-05-16         47885.625255\n",
              "2021-05-17         45604.615754\n",
              "2021-05-18         43144.471291\n",
              "\n",
              "[2787 rows x 1 columns]"
            ]
          },
          "metadata": {},
          "execution_count": 7
        }
      ]
    },
    {
      "cell_type": "code",
      "source": [
        "# Only want closing price for each day \n",
        "bitcoin_prices = pd.DataFrame(df[\"Closing Price (USD)\"]).rename(columns={\"Closing Price (USD)\" : \"Price\"})\n",
        "bitcoin_prices.head()"
      ],
      "metadata": {
        "colab": {
          "base_uri": "https://localhost:8080/",
          "height": 238
        },
        "id": "6XYTDKbWx3cf",
        "outputId": "4b659aea-f431-4638-b11a-58923d400c9d"
      },
      "execution_count": 8,
      "outputs": [
        {
          "output_type": "execute_result",
          "data": {
            "text/html": [
              "\n",
              "  <div id=\"df-babbc158-7901-4ce7-99c1-52fa4a5bac43\">\n",
              "    <div class=\"colab-df-container\">\n",
              "      <div>\n",
              "<style scoped>\n",
              "    .dataframe tbody tr th:only-of-type {\n",
              "        vertical-align: middle;\n",
              "    }\n",
              "\n",
              "    .dataframe tbody tr th {\n",
              "        vertical-align: top;\n",
              "    }\n",
              "\n",
              "    .dataframe thead th {\n",
              "        text-align: right;\n",
              "    }\n",
              "</style>\n",
              "<table border=\"1\" class=\"dataframe\">\n",
              "  <thead>\n",
              "    <tr style=\"text-align: right;\">\n",
              "      <th></th>\n",
              "      <th>Price</th>\n",
              "    </tr>\n",
              "    <tr>\n",
              "      <th>Date</th>\n",
              "      <th></th>\n",
              "    </tr>\n",
              "  </thead>\n",
              "  <tbody>\n",
              "    <tr>\n",
              "      <th>2013-10-01</th>\n",
              "      <td>123.65499</td>\n",
              "    </tr>\n",
              "    <tr>\n",
              "      <th>2013-10-02</th>\n",
              "      <td>125.45500</td>\n",
              "    </tr>\n",
              "    <tr>\n",
              "      <th>2013-10-03</th>\n",
              "      <td>108.58483</td>\n",
              "    </tr>\n",
              "    <tr>\n",
              "      <th>2013-10-04</th>\n",
              "      <td>118.67466</td>\n",
              "    </tr>\n",
              "    <tr>\n",
              "      <th>2013-10-05</th>\n",
              "      <td>121.33866</td>\n",
              "    </tr>\n",
              "  </tbody>\n",
              "</table>\n",
              "</div>\n",
              "      <button class=\"colab-df-convert\" onclick=\"convertToInteractive('df-babbc158-7901-4ce7-99c1-52fa4a5bac43')\"\n",
              "              title=\"Convert this dataframe to an interactive table.\"\n",
              "              style=\"display:none;\">\n",
              "        \n",
              "  <svg xmlns=\"http://www.w3.org/2000/svg\" height=\"24px\"viewBox=\"0 0 24 24\"\n",
              "       width=\"24px\">\n",
              "    <path d=\"M0 0h24v24H0V0z\" fill=\"none\"/>\n",
              "    <path d=\"M18.56 5.44l.94 2.06.94-2.06 2.06-.94-2.06-.94-.94-2.06-.94 2.06-2.06.94zm-11 1L8.5 8.5l.94-2.06 2.06-.94-2.06-.94L8.5 2.5l-.94 2.06-2.06.94zm10 10l.94 2.06.94-2.06 2.06-.94-2.06-.94-.94-2.06-.94 2.06-2.06.94z\"/><path d=\"M17.41 7.96l-1.37-1.37c-.4-.4-.92-.59-1.43-.59-.52 0-1.04.2-1.43.59L10.3 9.45l-7.72 7.72c-.78.78-.78 2.05 0 2.83L4 21.41c.39.39.9.59 1.41.59.51 0 1.02-.2 1.41-.59l7.78-7.78 2.81-2.81c.8-.78.8-2.07 0-2.86zM5.41 20L4 18.59l7.72-7.72 1.47 1.35L5.41 20z\"/>\n",
              "  </svg>\n",
              "      </button>\n",
              "      \n",
              "  <style>\n",
              "    .colab-df-container {\n",
              "      display:flex;\n",
              "      flex-wrap:wrap;\n",
              "      gap: 12px;\n",
              "    }\n",
              "\n",
              "    .colab-df-convert {\n",
              "      background-color: #E8F0FE;\n",
              "      border: none;\n",
              "      border-radius: 50%;\n",
              "      cursor: pointer;\n",
              "      display: none;\n",
              "      fill: #1967D2;\n",
              "      height: 32px;\n",
              "      padding: 0 0 0 0;\n",
              "      width: 32px;\n",
              "    }\n",
              "\n",
              "    .colab-df-convert:hover {\n",
              "      background-color: #E2EBFA;\n",
              "      box-shadow: 0px 1px 2px rgba(60, 64, 67, 0.3), 0px 1px 3px 1px rgba(60, 64, 67, 0.15);\n",
              "      fill: #174EA6;\n",
              "    }\n",
              "\n",
              "    [theme=dark] .colab-df-convert {\n",
              "      background-color: #3B4455;\n",
              "      fill: #D2E3FC;\n",
              "    }\n",
              "\n",
              "    [theme=dark] .colab-df-convert:hover {\n",
              "      background-color: #434B5C;\n",
              "      box-shadow: 0px 1px 3px 1px rgba(0, 0, 0, 0.15);\n",
              "      filter: drop-shadow(0px 1px 2px rgba(0, 0, 0, 0.3));\n",
              "      fill: #FFFFFF;\n",
              "    }\n",
              "  </style>\n",
              "\n",
              "      <script>\n",
              "        const buttonEl =\n",
              "          document.querySelector('#df-babbc158-7901-4ce7-99c1-52fa4a5bac43 button.colab-df-convert');\n",
              "        buttonEl.style.display =\n",
              "          google.colab.kernel.accessAllowed ? 'block' : 'none';\n",
              "\n",
              "        async function convertToInteractive(key) {\n",
              "          const element = document.querySelector('#df-babbc158-7901-4ce7-99c1-52fa4a5bac43');\n",
              "          const dataTable =\n",
              "            await google.colab.kernel.invokeFunction('convertToInteractive',\n",
              "                                                     [key], {});\n",
              "          if (!dataTable) return;\n",
              "\n",
              "          const docLinkHtml = 'Like what you see? Visit the ' +\n",
              "            '<a target=\"_blank\" href=https://colab.research.google.com/notebooks/data_table.ipynb>data table notebook</a>'\n",
              "            + ' to learn more about interactive tables.';\n",
              "          element.innerHTML = '';\n",
              "          dataTable['output_type'] = 'display_data';\n",
              "          await google.colab.output.renderOutput(dataTable, element);\n",
              "          const docLink = document.createElement('div');\n",
              "          docLink.innerHTML = docLinkHtml;\n",
              "          element.appendChild(docLink);\n",
              "        }\n",
              "      </script>\n",
              "    </div>\n",
              "  </div>\n",
              "  "
            ],
            "text/plain": [
              "                Price\n",
              "Date                 \n",
              "2013-10-01  123.65499\n",
              "2013-10-02  125.45500\n",
              "2013-10-03  108.58483\n",
              "2013-10-04  118.67466\n",
              "2013-10-05  121.33866"
            ]
          },
          "metadata": {},
          "execution_count": 8
        }
      ]
    },
    {
      "cell_type": "code",
      "source": [
        "import matplotlib.pyplot as plt\n",
        "bitcoin_prices.plot(figsize=(10,7))\n",
        "plt.ylabel(\"BTC price\")\n",
        "plt.title(\"Price of Bitcoin from 01.10.13 10 18.05.21\")\n",
        "plt.legend(fontsize=18)"
      ],
      "metadata": {
        "colab": {
          "base_uri": "https://localhost:8080/",
          "height": 475
        },
        "id": "2qtX18AOaPk_",
        "outputId": "980fdb3f-96d9-4a12-8785-14c34e5c5f5b"
      },
      "execution_count": 9,
      "outputs": [
        {
          "output_type": "execute_result",
          "data": {
            "text/plain": [
              "<matplotlib.legend.Legend at 0x7f14eb9b3bd0>"
            ]
          },
          "metadata": {},
          "execution_count": 9
        },
        {
          "output_type": "display_data",
          "data": {
            "image/png": "[encoded data removed]",
            "text/plain": [
              "<Figure size 720x504 with 1 Axes>"
            ]
          },
          "metadata": {
            "needs_background": "light"
          }
        }
      ]
    },
    {
      "cell_type": "markdown",
      "source": [
        "### Importing time series data with Python's CSV module\n",
        "\n",
        "If your time series data comes in CSV form you don't necessarily have to use pandas.\n",
        "\n",
        "You can use Python's [in-built `csv` module](https://docs.python.org/3/library/csv.html). And if you're working with dates, you might also want to use Python's [`datetime`](https://docs.python.org/3/library/datetime.html).\n",
        "\n",
        "Let's see how we can replicate the plot we created before except this time using Python's `csv` and `datetime` modules.\n",
        "\n",
        "> 📖 **Resource:** For a great guide on using Python's `csv` module, check out Real Python's tutorial on [Reading and Writing CSV files in Python](https://realpython.com/python-csv/)."
      ],
      "metadata": {
        "id": "uOowY-kk9W_Z"
      }
    },
    {
      "cell_type": "code",
      "source": [
        "# Importing and formatting  data\n",
        "import csv\n",
        "from datetime import datetime\n",
        "\n",
        "timesteps = []\n",
        "btc_price = []\n",
        "\n",
        "with open(\"/content/BTC_USD_2013-10-01_2021-05-18-CoinDesk.csv\", \"r\") as csv_file:\n",
        "  csv_reader = csv.reader(csv_file, delimiter = ',')\n",
        "  \n",
        "  next(csv_reader) # use next for skipping first line in csv\n",
        "\n",
        "  for row in csv_reader:\n",
        "    timesteps.append(datetime.strptime(row[1], \"%Y-%m-%d\")) # strptime - make DateTime from string\n",
        "    btc_price.append(float(row[2])) # get price Closing Price (USD) as float \n",
        "\n",
        "timesteps[:10], btc_price[:10]"
      ],
      "metadata": {
        "colab": {
          "base_uri": "https://localhost:8080/"
        },
        "id": "lvYMxbJ_atzs",
        "outputId": "c9defed3-b3bd-4922-8845-594c24cfb31d"
      },
      "execution_count": 10,
      "outputs": [
        {
          "output_type": "execute_result",
          "data": {
            "text/plain": [
              "([datetime.datetime(2013, 10, 1, 0, 0),\n",
              "  datetime.datetime(2013, 10, 2, 0, 0),\n",
              "  datetime.datetime(2013, 10, 3, 0, 0),\n",
              "  datetime.datetime(2013, 10, 4, 0, 0),\n",
              "  datetime.datetime(2013, 10, 5, 0, 0),\n",
              "  datetime.datetime(2013, 10, 6, 0, 0),\n",
              "  datetime.datetime(2013, 10, 7, 0, 0),\n",
              "  datetime.datetime(2013, 10, 8, 0, 0),\n",
              "  datetime.datetime(2013, 10, 9, 0, 0),\n",
              "  datetime.datetime(2013, 10, 10, 0, 0)],\n",
              " [123.65499,\n",
              "  125.455,\n",
              "  108.58483,\n",
              "  118.67466,\n",
              "  121.33866,\n",
              "  120.65533,\n",
              "  121.795,\n",
              "  123.033,\n",
              "  124.049,\n",
              "  125.96116])"
            ]
          },
          "metadata": {},
          "execution_count": 10
        }
      ]
    },
    {
      "cell_type": "code",
      "source": [
        "# plotting csv without using pandas\n",
        "\n",
        "import matplotlib.pyplot as plt\n",
        "plt.figure(figsize=(10,7))\n",
        "plt.plot(timesteps, btc_price)\n",
        "plt.ylabel(\"BTC price\")\n",
        "plt.title(\"Price of Bitcoin from 01.10.13 10 18.05.21\")\n",
        "plt.xlabel(\"Date\")\n"
      ],
      "metadata": {
        "colab": {
          "base_uri": "https://localhost:8080/",
          "height": 475
        },
        "id": "QYljqhjUDnNx",
        "outputId": "ad8c8d14-94b5-4e85-fcfb-0c573a08a592"
      },
      "execution_count": 11,
      "outputs": [
        {
          "output_type": "execute_result",
          "data": {
            "text/plain": [
              "Text(0.5, 0, 'Date')"
            ]
          },
          "metadata": {},
          "execution_count": 11
        },
        {
          "output_type": "display_data",
          "data": {
            "image/png": "[encoded data removed]",
            "text/plain": [
              "<Figure size 720x504 with 1 Axes>"
            ]
          },
          "metadata": {
            "needs_background": "light"
          }
        }
      ]
    },
    {
      "cell_type": "markdown",
      "source": [
        "## Format Data Part 1: Creatining train and test sets for time series data\n",
        "\n",
        "Usually, you could create a train and test split using a function like Scikit-Learn's outstanding [`train_test_split()`](https://scikit-learn.org/stable/modules/generated/sklearn.model_selection.train_test_split.html) but as we'll see in a moment, this doesn't really cut it for time series data.\n",
        "\n",
        "But before we do create splits, it's worth talking about what *kind* of data we have.\n",
        "\n",
        "In time series problems, you'll either have **univariate** or **multivariate** data.\n",
        "\n",
        "Can you guess what our data is?\n",
        "\n",
        "* **Univariate** time series data deals with *one* variable, for example, using the price of Bitcoin to predict the price of Bitcoin.\n",
        "* **Multivariate** time series data deals with *more than one* variable, for example, predicting electricity demand using the day of week, time of year and number of houses in a region.\n",
        "\n",
        "![comparison of univariate and multivariate time series data](https://raw.githubusercontent.com/mrdbourke/tensorflow-deep-learning/main/images/10-univariate-and-multivariate-time-series-data.png)\n",
        "*Example of univariate and multivariate time series data. Univariate involves using the target to predict the target. Multivariate inolves using the target as well as another time series to predict the target.*"
      ],
      "metadata": {
        "id": "QMb4ynLntzMQ"
      }
    },
    {
      "cell_type": "markdown",
      "source": [
        "### Create train & test sets for time series (the wrong way)\n",
        "\n",
        "We've figured out we're dealing with a univariate time series, so we only have to make a split on one variable (for multivariate time series, you will have to split multiple variables). \n",
        "\n",
        "How about we first see the *wrong way* for splitting time series data?\n",
        "\n",
        "Let's turn our DataFrame index and column into NumPy arrays."
      ],
      "metadata": {
        "id": "1kNHxs6vKjlJ"
      }
    },
    {
      "cell_type": "code",
      "source": [
        "# Get btc date array\n",
        "timesteps = bitcoin_prices.index.to_numpy()\n",
        "prices = bitcoin_prices[\"Price\"].to_numpy()\n",
        "\n",
        "timesteps[:10], prices[:10]"
      ],
      "metadata": {
        "colab": {
          "base_uri": "https://localhost:8080/"
        },
        "id": "0B2mvuynKkB_",
        "outputId": "94458700-ea8d-45f4-8faf-d33829e7bd18"
      },
      "execution_count": 12,
      "outputs": [
        {
          "output_type": "execute_result",
          "data": {
            "text/plain": [
              "(array(['2013-10-01T00:00:00.000000000', '2013-10-02T00:00:00.000000000',\n",
              "        '2013-10-03T00:00:00.000000000', '2013-10-04T00:00:00.000000000',\n",
              "        '2013-10-05T00:00:00.000000000', '2013-10-06T00:00:00.000000000',\n",
              "        '2013-10-07T00:00:00.000000000', '2013-10-08T00:00:00.000000000',\n",
              "        '2013-10-09T00:00:00.000000000', '2013-10-10T00:00:00.000000000'],\n",
              "       dtype='datetime64[ns]'),\n",
              " array([123.65499, 125.455  , 108.58483, 118.67466, 121.33866, 120.65533,\n",
              "        121.795  , 123.033  , 124.049  , 125.96116]))"
            ]
          },
          "metadata": {},
          "execution_count": 12
        }
      ]
    },
    {
      "cell_type": "code",
      "source": [
        "# Wrong way to make train/test sets for time series data\n",
        "from sklearn.model_selection import train_test_split \n",
        "\n",
        "X_train, X_test, y_train, y_test = train_test_split(timesteps, # dates\n",
        "                                                    prices, # prices\n",
        "                                                    test_size=0.2,\n",
        "                                                    random_state=42)\n",
        "X_train.shape, X_test.shape, y_train.shape, y_test.shape "
      ],
      "metadata": {
        "colab": {
          "base_uri": "https://localhost:8080/"
        },
        "id": "I_-dEBIcLD0w",
        "outputId": "590cc862-9d28-4e15-92f1-19d0d99bf62f"
      },
      "execution_count": 13,
      "outputs": [
        {
          "output_type": "execute_result",
          "data": {
            "text/plain": [
              "((2229,), (558,), (2229,), (558,))"
            ]
          },
          "metadata": {},
          "execution_count": 13
        }
      ]
    },
    {
      "cell_type": "code",
      "source": [
        "# Let's plot wrong train and test splits\n",
        "plt.figure(figsize=(10, 7))\n",
        "plt.scatter(X_train, y_train, s=5, label=\"Train data\")\n",
        "plt.scatter(X_test, y_test, s=5, label=\"Test data\")\n",
        "plt.xlabel(\"Date\")\n",
        "plt.ylabel(\"BTC Price\")\n",
        "plt.legend(fontsize=14)\n",
        "plt.show();"
      ],
      "metadata": {
        "colab": {
          "base_uri": "https://localhost:8080/",
          "height": 442
        },
        "id": "vcE_UJSEPmuK",
        "outputId": "8b4da2bb-1c32-4fa7-e1b1-2ab89f1493cf"
      },
      "execution_count": 14,
      "outputs": [
        {
          "output_type": "display_data",
          "data": {
            "image/png": "[encoded data removed]",
            "text/plain": [
              "<Figure size 720x504 with 1 Axes>"
            ]
          },
          "metadata": {
            "needs_background": "light"
          }
        }
      ]
    },
    {
      "cell_type": "markdown",
      "source": [
        "What's wrong with this plot?\n",
        "\n",
        "Well, let's remind ourselves of what we're trying to do.\n",
        "\n",
        "We're trying to use the historical price of Bitcoin to predict future prices of Bitcoin.\n",
        "\n",
        "With this in mind, our seen data (training set) is what?\n",
        "\n",
        "Prices of Bitcoin in the past.\n",
        "\n",
        "And our unseen data (test set) is?\n",
        "\n",
        "Prices of Bitcoin in the future. \n",
        "\n",
        "Does the plot above reflect this?\n",
        "\n",
        "No. \n",
        "\n",
        "Our test data is scattered all throughout the training data.\n",
        "\n",
        "This kind of random split is okay for datasets without a time component (such as images or passages of text for classification problems) but for time series, we've got to take the time factor into account.\n",
        "\n",
        "To fix this, we've got to split our data in a way that reflects what we're actually trying to do.\n",
        "\n",
        "We need to split our historical Bitcoin data to have a dataset that reflects the past (train set) and a dataset that reflects the future (test set).\n",
        "\n",
        "\n",
        "\n"
      ],
      "metadata": {
        "id": "LJ_a1-NlQWs5"
      }
    },
    {
      "cell_type": "markdown",
      "source": [
        "### Create train & test sets for time series (the right way)\n",
        "\n",
        "Of course, there's no way we can actually access data from the future.\n",
        "\n",
        "But we can engineer our test set to be in the future with respect to the training set.\n",
        "\n",
        "To do this, we can create an abitrary point in time to split our data.\n",
        "\n",
        "Everything before the point in time can be considered the training set and everything after the point in time can be considered the test set.\n",
        "\n",
        "![time series train test split](https://raw.githubusercontent.com/mrdbourke/tensorflow-deep-learning/main/images/10-time-series-train-test-split.png)\n",
        "*Demonstration of time series split. Rather than a traditionaly random train/test split, it's best to split the time series data sequentially. Meaning, the test data should be data from the future when compared to the training data.*"
      ],
      "metadata": {
        "id": "qEFNymsTZvUS"
      }
    },
    {
      "cell_type": "code",
      "source": [
        "# Create train and test splits the right way for time series data\n",
        "split_size = int(0.8 * len(prices)) # 80% train, 20% test. We can change values as we need\n",
        "\n",
        "# Create train data splits (everithing before the split)\n",
        "X_train, y_train = timesteps[:split_size], prices[:split_size]\n",
        "\n",
        "# Create test data splits (everything beyond the split)\n",
        "X_test, y_test = timesteps[split_size:], prices[split_size:]\n",
        "\n",
        "len(X_train), len(X_test), len(y_train), len(y_test)"
      ],
      "metadata": {
        "colab": {
          "base_uri": "https://localhost:8080/"
        },
        "id": "XxldOr95ZxEm",
        "outputId": "5aafafae-1c15-4608-8475-e2cf810d0c56"
      },
      "execution_count": 15,
      "outputs": [
        {
          "output_type": "execute_result",
          "data": {
            "text/plain": [
              "(2229, 558, 2229, 558)"
            ]
          },
          "metadata": {},
          "execution_count": 15
        }
      ]
    },
    {
      "cell_type": "code",
      "source": [
        "# Let's plot wrong train and test splits\n",
        "plt.figure(figsize=(10, 7))\n",
        "plt.scatter(X_train, y_train, s=5, label=\"Train data\")\n",
        "plt.scatter(X_test, y_test, s=5, label=\"Test data\")\n",
        "plt.xlabel(\"Date\")\n",
        "plt.ylabel(\"BTC Price\")\n",
        "plt.legend(fontsize=14)\n",
        "plt.show();"
      ],
      "metadata": {
        "colab": {
          "base_uri": "https://localhost:8080/",
          "height": 442
        },
        "id": "eFptdReykaYt",
        "outputId": "bc9b1c54-49bf-4ab0-9632-42b4b16dd83e"
      },
      "execution_count": 16,
      "outputs": [
        {
          "output_type": "display_data",
          "data": {
            "image/png": "[encoded data removed]",
            "text/plain": [
              "<Figure size 720x504 with 1 Axes>"
            ]
          },
          "metadata": {
            "needs_background": "light"
          }
        }
      ]
    },
    {
      "cell_type": "markdown",
      "source": [
        "That looks much better!\n",
        "\n",
        "We're going to be using the training set (past) to train a model to try and predict values on the test set (future).\n",
        "\n",
        "Because the test set is an *artificial* future, we can gauge how our model might perform on *actual* future data.\n",
        "\n",
        "> 🔑 **Note:** The amount of data you reserve for your test set not set in stone. You could have 80/20, 90/10, 95/5 splits or in some cases, you might not even have enough data to split into train and test sets (see the resource below). The point is to remember the test set is a pseudofuture and not the actual future, it is only meant to give you an indication of how the models you're building are performing. \n",
        "\n",
        "> 📖 **Resource:** Working with time series data can be tricky compared to other kinds of data. And there are a few pitfalls to watch out for, such as how much data to use for a test set. The article [*3 facts about time series forecasting that surprise experienced machine learning practitioners*](https://towardsdatascience.com/3-facts-about-time-series-forecasting-that-surprise-experienced-machine-learning-practitioners-69c18ee89387) talks about different things to watch out for when working with time series data, I'd recommend reading it.\n",
        "\n"
      ],
      "metadata": {
        "id": "Zd65xfJok3rY"
      }
    },
    {
      "cell_type": "markdown",
      "source": [
        "### Create a plotting function\n",
        "\n",
        "Rather than retyping `matplotlib` commands to continuously plot data, let's make a plotting function we can reuse later."
      ],
      "metadata": {
        "id": "tbwDDyz8aeJW"
      }
    },
    {
      "cell_type": "code",
      "source": [
        "# Create a function to plot time series data\n",
        "def plot_time_series(timesteps, values, format=\".\", start=0, end=None, label=None, ylabel=\"BTC Price\"):\n",
        "  \"\"\"\n",
        "  Plots a timesteps (a series of points in time) against values (a series of values across timesteps).\n",
        "  \n",
        "  Parameters\n",
        "  ---------\n",
        "  timesteps : array of timesteps\n",
        "  values : array of values across time\n",
        "  format : style of plot, default \".\"\n",
        "  start : where to start the plot (setting a value will index from start of timesteps & values)\n",
        "  end : where to end the plot (setting a value will index from end of timesteps & values)\n",
        "  label : label to show on plot of values (Default None)\n",
        "  \"\"\"\n",
        "  # Plot time series\n",
        "  plt.plot(timesteps[start:end], values[start:end], format, label=label)\n",
        "  plt.xlabel(\"Time\")\n",
        "  plt.ylabel(ylabel)\n",
        "\n",
        "  if label:\n",
        "    plt.legend(fontsize = 16) # make label bigger\n",
        "  plt.grid(True)"
      ],
      "metadata": {
        "id": "ja5hTLBtaiD9"
      },
      "execution_count": 17,
      "outputs": []
    },
    {
      "cell_type": "code",
      "source": [
        "# Try out our plotting function\n",
        "plt.figure(figsize=(10, 7))\n",
        "\n",
        "plot_time_series(timesteps=X_train, values=y_train, label=\"Train data\")\n",
        "plot_time_series(timesteps=X_test, values=y_test, label=\"Test data\")"
      ],
      "metadata": {
        "colab": {
          "base_uri": "https://localhost:8080/",
          "height": 442
        },
        "id": "W7E-dsTdcEyb",
        "outputId": "636358fc-1efb-469f-e3f0-66463213ff42"
      },
      "execution_count": 18,
      "outputs": [
        {
          "output_type": "display_data",
          "data": {
            "image/png": "[encoded data removed]",
            "text/plain": [
              "<Figure size 720x504 with 1 Axes>"
            ]
          },
          "metadata": {
            "needs_background": "light"
          }
        }
      ]
    },
    {
      "cell_type": "markdown",
      "source": [
        "## Modelling Experiments\n",
        "\n",
        "We can build almost any kind of model for our problem as long as the data inputs and outputs are formatted correctly.\n",
        "\n",
        "However, just because we *can* build *almost any* kind of model, doesn't mean it'll perform well/should be used in a production setting.\n",
        "\n",
        "We'll see what this means as we build and evaluate models throughout.\n",
        "\n",
        "Before we discuss what modelling experiments we're going to run, there are two terms you should be familiar with, **horizon** and **window**. \n",
        "  * **horizon** = number of timesteps to predict into future\n",
        "  * **window** = number of timesteps from past used to predict **horizon**\n",
        "\n",
        "For example, if we wanted to predict the price of Bitcoin for tomorrow (1 day in the future) using the previous week's worth of Bitcoin prices (7 days in the past), the horizon would be 1 and the window would be 7.\n",
        "\n",
        "Now, how about those modelling experiments?\n",
        "\n",
        "| Model Number | Model Type | Horizon size | Window size | Extra data |\n",
        "| ----- | ----- | ----- | ----- | ----- |\n",
        "| 0 | Naïve model (baseline) | NA | NA | NA |\n",
        "| 1 | Dense model | 1 | 7 | NA |\n",
        "| 2 | Same as 1 | 1 | 30 | NA | \n",
        "| 3 | Same as 1 | 7 | 30 | NA |\n",
        "| 4 | Conv1D | 1 | 7 | NA |\n",
        "| 5 | LSTM | 1 | 7 | NA |\n",
        "| 6 | Same as 1 (but with multivariate data) | 1 | 7 | Block reward size |\n",
        "| 7 | [N-BEATs Algorithm](https://arxiv.org/pdf/1905.10437.pdf) | 1 | 7 | NA |\n",
        "| 8 | Ensemble (multiple models optimized on different loss functions) | 1 | 7 | NA | \n",
        "| 9 | Future prediction model (model to predict future values) | 1 | 7 | NA| \n",
        "| 10 | Same as 1 (but with turkey 🦃 data introduced) | 1 | 7 | NA |\n",
        "\n",
        "> 🔑 **Note:** To reiterate, as you can see, we can build many types of models for the data we're working with. But that doesn't mean that they'll perform well. Deep learning is a powerful technique but it doesn't always work. And as always, start with a simple model first and then add complexity as needed. "
      ],
      "metadata": {
        "id": "CAvw6LWscOIt"
      }
    },
    {
      "cell_type": "markdown",
      "source": [
        "## Model 0: Naïve forecast (baseline)\n",
        "\n",
        "One of the most common baseline models for time series forecasting, the naïve model (also called the [naïve forecast](https://otexts.com/fpp3/simple-methods.html#na%C3%AFve-method)), requires no training at all.\n",
        "\n",
        "That's because all the naïve model does is use the previous timestep value to predict the next timestep value.\n",
        "\n",
        "The formula looks like this:\n",
        "\n",
        "$$\\hat{y}_{t} = y_{t-1}$$ \n",
        "\n",
        "In English: \n",
        "> The prediction at timestep `t` (y-hat) is equal to the value at timestep `t-1` (the previous timestep).\n",
        "\n",
        "Sound simple?\n",
        "\n",
        "Maybe not.\n",
        "\n",
        "In an open system (like a stock market or crypto market), you'll often find beating the naïve forecast with *any* kind of model is quite hard.\n",
        "\n",
        "> 🔑 **Note:** For the sake of this notebook, an **open system** is a system where inputs and outputs can freely flow, such as a market (stock or crypto). Where as, a **closed system** the inputs and outputs are contained within the system (like a poker game with your buddies, you know the buy in and you know how much the winner can get). Time series forecasting in **open systems** is generally quite poor."
      ],
      "metadata": {
        "id": "aZZwov13cvOj"
      }
    },
    {
      "cell_type": "code",
      "source": [
        "# Create a naive forecast\n",
        "naive_forecast = y_test[:-1] # Naive forecast equals every value excluding the last value\n",
        "naive_forecast[:10], naive_forecast[-10:] # View frist 10 and last 10 "
      ],
      "metadata": {
        "colab": {
          "base_uri": "https://localhost:8080/"
        },
        "id": "MaeeV86lXMA5",
        "outputId": "e3216c46-3190-4ffb-8a61-5afb5fc09bc8"
      },
      "execution_count": 19,
      "outputs": [
        {
          "output_type": "execute_result",
          "data": {
            "text/plain": [
              "(array([9226.48582088, 8794.35864452, 8798.04205463, 9081.18687849,\n",
              "        8711.53433917, 8760.89271814, 8749.52059102, 8656.97092235,\n",
              "        8500.64355816, 8469.2608989 ]),\n",
              " array([57107.12067189, 58788.20967893, 58102.19142623, 55715.54665129,\n",
              "        56573.5554719 , 52147.82118698, 49764.1320816 , 50032.69313676,\n",
              "        47885.62525472, 45604.61575361]))"
            ]
          },
          "metadata": {},
          "execution_count": 19
        }
      ]
    },
    {
      "cell_type": "code",
      "source": [
        "# Plot nave forecast\n",
        "plt.figure(figsize=(10, 7))\n",
        "# plot_time_series(timesteps=X_train, values=y_train, label=\"Train data\")\n",
        "plot_time_series(timesteps=X_test, values=y_test, label=\"Test data\")\n",
        "plot_time_series(timesteps=X_test[1:], values=naive_forecast, format=\"-\", label=\"Naive forcast\")\n"
      ],
      "metadata": {
        "colab": {
          "base_uri": "https://localhost:8080/",
          "height": 442
        },
        "id": "OuC7Jz-HXmZ-",
        "outputId": "b6c58a63-48ec-4593-d49b-297e3f6c261f"
      },
      "execution_count": 20,
      "outputs": [
        {
          "output_type": "display_data",
          "data": {
            "image/png": "[encoded data removed]",
            "text/plain": [
              "<Figure size 720x504 with 1 Axes>"
            ]
          },
          "metadata": {
            "needs_background": "light"
          }
        }
      ]
    },
    {
      "cell_type": "code",
      "source": [
        "# Plot nave forecast\n",
        "plt.figure(figsize=(10, 7))\n",
        "# plot_time_series(timesteps=X_train, values=y_train, label=\"Train data\")\n",
        "plot_time_series(timesteps=X_test, values=y_test, start=350, format=\"-\", label=\"Test data\")\n",
        "plot_time_series(timesteps=X_test[1:], values=naive_forecast, start=350, format=\"-\", label=\"Naive forcast\")\n"
      ],
      "metadata": {
        "colab": {
          "base_uri": "https://localhost:8080/",
          "height": 442
        },
        "id": "OwVH7V5MZCqv",
        "outputId": "96f04694-a0ed-486c-c4d5-c718c9c83002"
      },
      "execution_count": 21,
      "outputs": [
        {
          "output_type": "display_data",
          "data": {
            "image/png": "[encoded data removed]",
            "text/plain": [
              "<Figure size 720x504 with 1 Axes>"
            ]
          },
          "metadata": {
            "needs_background": "light"
          }
        }
      ]
    },
    {
      "cell_type": "markdown",
      "source": [
        "## Evaluating a time series model\n",
        "\n",
        "Time series forecasting often involves predicting a number (in our case, the price of Bitcoin).\n",
        "\n",
        "And problem for predicting a number - regression\n",
        "\n",
        "With this known, we can use regression evaluation metrics to evaluate our time series forecasts.\n",
        "\n",
        "The main thing we will be evaluating is: **how do our model's predictions (`y_pred`) compare against the actual values (`y_true` or *ground truth values*)**? \n",
        "\n",
        "> 📖 **Resource:** We're going to be using several metrics to evaluate our different model's time series forecast accuracy. Many of them are sourced and explained mathematically and conceptually in [Forecasting: Principles and Practice chapter 5.8](https://otexts.com/fpp3/accuracy.html), I'd recommend reading through here for a more in-depth overview of what we're going to practice.\n",
        "\n",
        "For all of the following metrics, **lower is better** (for example an MAE of 0 is better than an MAE 100).\n",
        "\n",
        "### Scale-dependent errors\n",
        "\n",
        "These are metrics which can be used to compare time series values and forecasts that are on the same scale.\n",
        "\n",
        "For example, Bitcoin historical prices in USD veresus Bitcoin forecast values in USD.\n",
        "\n",
        "| Metric | Details | Code |\n",
        "| ----- | ----- | ----- |\n",
        "| **MAE** (mean absolute error) | Easy to interpret (a forecast is X amount different from actual amount). Forecast methods which minimises the MAE will lead to forecasts of the median. | [`tf.keras.metrics.mean_absolute_error()`](https://www.tensorflow.org/api_docs/python/tf/keras/metrics/MeanAbsoluteError) |\n",
        "| **RMSE** (root mean square error) | Forecasts which minimise the RMSE lead to forecasts of the mean. | `tf.sqrt(`[`tf.keras.metrics.mean_square_error()`](https://www.tensorflow.org/api_docs/python/tf/keras/metrics/RootMeanSquaredError)`)`|\n",
        "\n",
        "### Percentage errors\n",
        "\n",
        "Percentage errors do not have units, this means they can be used to compare forecasts across different datasets.\n",
        "\n",
        "| **Metric** | **Details** | **Code** |\n",
        "| ----- | ----- | ----- |\n",
        "| **MAPE** (mean absolute percentage error) | Most commonly used percentage error. May explode (not work) if `y=0`. | [`tf.keras.metrics.mean_absolute_percentage_error()`](https://www.tensorflow.org/api_docs/python/tf/keras/losses/MAPE) | \n",
        "| **sMAPE** (symmetric mean absolute percentage error) | Recommended not to be used by [Forecasting: Principles and Practice](https://otexts.com/fpp3/accuracy.html#percentage-errors), though it is used in forecasting competitions. | Custom implementation |\n",
        "\n",
        "### Scaled errors\n",
        "\n",
        "Scaled errors are an alternative to percentage errors when comparing forecast performance across different time series.\n",
        "\n",
        "| **Metric** | **Details** | **Code** |\n",
        "| ----- | ----- | ----- |\n",
        "| **MASE** (mean absolute scaled error). | MASE equals one for the naive forecast (or very close to one). A forecast which performs better than the naïve should get <1 MASE. | See sktime's [`mase_loss()`](https://github.com/alan-turing-institute/sktime/blob/ee7a06843a44f4aaec7582d847e36073a9ab0566/sktime/performance_metrics/forecasting/_functions.py#L16) |\n",
        "\n",
        "> 🤔 **Question:** There are so many metrics... which one should I pay most attention to? It's going to depend on your problem. However, since its ease of interpretation (you can explain it in a sentence to your grandma), MAE is often a very good place to start.\n",
        "\n",
        "Since we're going to be evaluing a lot of models, let's write a function to help us calculate evaluation metrics on their forecasts.\n",
        "\n",
        "First we'll need TensorFlow.\n"
      ],
      "metadata": {
        "id": "h1T4Vy77ZLgw"
      }
    },
    {
      "cell_type": "code",
      "source": [
        "import tensorflow as tf"
      ],
      "metadata": {
        "id": "VPzvbe2EZ9_l"
      },
      "execution_count": 22,
      "outputs": []
    },
    {
      "cell_type": "markdown",
      "source": [
        "And since TensorFlow doesn't have a ready made version of MASE (mean aboslute scaled error), how about we create our own?\n",
        "\n",
        "We'll take inspiration from [sktime](https://github.com/alan-turing-institute/sktime)'s (Scikit-Learn for time series) [`MeanAbsoluteScaledError`](https://www.sktime.org/en/stable/api_reference/auto_generated/sktime.performance_metrics.forecasting.MeanAbsoluteScaledError.html#sktime.performance_metrics.forecasting.MeanAbsoluteScaledError) class which calculates the MASE."
      ],
      "metadata": {
        "id": "DnwWE4Bq60ma"
      }
    },
    {
      "cell_type": "code",
      "source": [
        "# MASE implmentation courtesy of sktime - https://github.com/alan-turing-institute/sktime/blob/ee7a06843a44f4aaec7582d847e36073a9ab0566/sktime/performance_metrics/forecasting/_functions.py#L16\n",
        "def mean_absolute_scaled_error(y_true, y_pred):\n",
        "  \"\"\"\n",
        "  Implement MASE (assuming no seasonality of data).\n",
        "  \"\"\"\n",
        "  mae = tf.reduce_mean(tf.abs(y_true-y_pred))\n",
        "  # Find MAE of naive forecast (no seasonality)\n",
        "  mae_naive_no_season = tf.reduce_mean(tf.abs(y_true[1:] - y_true[:-1])) # our seasonality is 1 day (hence the shifting of 1 day)\n",
        "\n",
        "  return mae / mae_naive_no_season"
      ],
      "metadata": {
        "id": "apVvwLHN6Kwp"
      },
      "execution_count": 23,
      "outputs": []
    },
    {
      "cell_type": "code",
      "source": [
        "mean_absolute_scaled_error(y_true=y_test[1:], y_pred=naive_forecast).numpy()"
      ],
      "metadata": {
        "colab": {
          "base_uri": "https://localhost:8080/"
        },
        "id": "AUwanPPz9at2",
        "outputId": "4be76e93-8fe8-4d50-9db5-67a88ce16870"
      },
      "execution_count": 24,
      "outputs": [
        {
          "output_type": "execute_result",
          "data": {
            "text/plain": [
              "0.9995699939182624"
            ]
          },
          "metadata": {},
          "execution_count": 24
        }
      ]
    },
    {
      "cell_type": "markdown",
      "source": [
        "You'll notice the version of MASE above doesn't take in the training values like sktime's `mae_loss()`. In our case, we're comparing the MAE of our predictions on the test to the MAE of the naïve forecast on the test set.\n",
        "\n",
        "In practice, if we've created the function correctly, the naïve model should achieve an MASE of 1 (or very close to 1). Any model worse than the naïve forecast will achieve an MASE of >1 and any model better than the naïve forecast will achieve an MASE of <1.\n",
        "\n",
        "Let's put each of our different evaluation metrics together into a function."
      ],
      "metadata": {
        "id": "8lb8HdRw8Iqs"
      }
    },
    {
      "cell_type": "code",
      "source": [
        "# Create a function to take in model predictions and truth values and return evaluation metrics\n",
        "def evaluate_preds(y_true, y_pred):\n",
        "  # Make sure float32 (for metric calculations). Float 32 - default tf size, so float64 may call error\n",
        "  y_true = tf.cast(y_true, dtype=tf.float32)\n",
        "  y_pred = tf.cast(y_pred, dtype=tf.float32)\n",
        "\n",
        "  # Calculate evaluation metrics\n",
        "  mae = tf.keras.metrics.mean_absolute_error(y_true, y_pred)\n",
        "  mse = tf.keras.metrics.mean_squared_error(y_true, y_pred)\n",
        "  rmse = tf.sqrt(mse)\n",
        "  mape = tf.keras.metrics.mean_absolute_percentage_error(y_true, y_pred)\n",
        "\n",
        "  mase = mean_absolute_scaled_error(y_true, y_pred)\n",
        "\n",
        "  return {\"mae\": mae.numpy(),\n",
        "          \"mse\": mse.numpy(),\n",
        "          \"rmse\": rmse.numpy(),\n",
        "          \"mape\": mape.numpy(),\n",
        "          \"mase\": mase.numpy()}"
      ],
      "metadata": {
        "id": "cBQwpYjG_vgS"
      },
      "execution_count": 25,
      "outputs": []
    },
    {
      "cell_type": "code",
      "source": [
        "naive_results = evaluate_preds(y_true=y_test[1:], y_pred=naive_forecast)\n",
        "naive_results"
      ],
      "metadata": {
        "colab": {
          "base_uri": "https://localhost:8080/"
        },
        "id": "EphIEw4WChPC",
        "outputId": "42992b59-5cbb-48ea-d53f-72514f811f73"
      },
      "execution_count": 26,
      "outputs": [
        {
          "output_type": "execute_result",
          "data": {
            "text/plain": [
              "{'mae': 567.9802,\n",
              " 'mape': 2.5165248,\n",
              " 'mase': 0.99957,\n",
              " 'mse': 1147547.0,\n",
              " 'rmse': 1071.2362}"
            ]
          },
          "metadata": {},
          "execution_count": 26
        }
      ]
    },
    {
      "cell_type": "markdown",
      "source": [
        "\n",
        "Taking a look at the naïve forecast's MAE, it seems on average each forecast is ~$567 different than the actual Bitcoin price.\n",
        "\n",
        "How does this compare to the average price of Bitcoin in the test dataset?"
      ],
      "metadata": {
        "id": "PIdnwKWWD3IP"
      }
    },
    {
      "cell_type": "code",
      "source": [
        "tf.reduce_mean(y_test) # Average price"
      ],
      "metadata": {
        "colab": {
          "base_uri": "https://localhost:8080/"
        },
        "id": "G5Fbj1HcCirV",
        "outputId": "f34e6e20-1332-4469-ce38-e5a46b047c55"
      },
      "execution_count": 27,
      "outputs": [
        {
          "output_type": "execute_result",
          "data": {
            "text/plain": [
              "<tf.Tensor: shape=(), dtype=float64, numpy=20056.632963737226>"
            ]
          },
          "metadata": {},
          "execution_count": 27
        }
      ]
    },
    {
      "cell_type": "markdown",
      "source": [
        "Okay, looking at these two values is starting to give us an idea of how our model is performing:\n",
        "* The average price of Bitcoin in the test dataset is: $20,056 (note: average may not be the best measure here, since the highest price is over 3x this value and the lowest price is over 4x lower)\n",
        "\n",
        "* Each prediction in naive forecast is on average off by: $567\n",
        "\n",
        "Is this enough to say it's a good model?\n",
        "\n",
        "That's up your own interpretation. Personally, I'd prefer a model which was closer to the mark.\n",
        "\n",
        "How about we try and build one?\n"
      ],
      "metadata": {
        "id": "iESciInhDjho"
      }
    },
    {
      "cell_type": "markdown",
      "source": [
        "## Other kinds of time series forecasting models which can be used for baselines and actual forecasts\n",
        "\n",
        "Since we've got a naïve forecast baseline to work with, it's time we start building models to try and beat it.\n",
        "\n",
        "And because this course is focused on TensorFlow and deep learning, we're going to be using TensorFlow to build deep learning models to try and improve on our naïve forecasting results.\n",
        "\n",
        "That being said, there are many other kinds of models you may want to look into for building baselines/performing forecasts.\n",
        "\n",
        "Some of them may even beat our best performing models in this notebook, however, I'll leave trying them out for extra-curriculum.\n",
        "\n",
        "| **Model/Library Name** | **Resource** |\n",
        "| ----- | ----- |\n",
        "| Moving average | https://machinelearningmastery.com/moving-average-smoothing-for-time-series-forecasting-python/ |\n",
        "| ARIMA (Autoregression Integrated Moving Average) | https://machinelearningmastery.com/arima-for-time-series-forecasting-with-python/ |\n",
        "| sktime (Scikit-Learn for time series) | https://github.com/alan-turing-institute/sktime |\n",
        "| TensorFlow Decision Forests (random forest, gradient boosting trees) | https://www.tensorflow.org/decision_forests |\n",
        "| Facebook Kats (purpose-built forecasting and time series analysis library by Facebook) | https://github.com/facebookresearch/Kats | \n",
        "| LinkedIn Greykite (flexible, intuitive and fast forecasts) | https://github.com/linkedin/greykite |"
      ],
      "metadata": {
        "id": "kGAVc_9qD5aV"
      }
    },
    {
      "cell_type": "markdown",
      "source": [
        "## Format Data Part 2: Windowing dataset\n",
        "\n",
        "Surely we'd be ready to start building models by now?\n",
        "\n",
        "We're so close! Only one more step (really two) to go.\n",
        "\n",
        "We've got to window our time series.\n",
        "\n",
        "Why do we window?\n",
        "\n",
        "Windowing is a method to turn a time series dataset into **supervised learning problem**. \n",
        "\n",
        "In other words, we want to use windows of the past to predict the future.\n",
        "\n",
        "For example for a univariate time series, windowing for one week (`window=7`) to predict the next single value (`horizon=1`) might look like:\n",
        "\n",
        "```\n",
        "Window for one week (univariate time series)\n",
        "\n",
        "[0, 1, 2, 3, 4, 5, 6] -> [7]\n",
        "[1, 2, 3, 4, 5, 6, 7] -> [8]\n",
        "[2, 3, 4, 5, 6, 7, 8] -> [9]\n",
        "```\n",
        "\n",
        "Or for the price of Bitcoin, it'd look like:\n",
        "\n",
        "```\n",
        "Window for one week with the target of predicting the next day (Bitcoin prices)\n",
        "\n",
        "[123.654, 125.455, 108.584, 118.674, 121.338, 120.655, 121.795] -> [123.033]\n",
        "[125.455, 108.584, 118.674, 121.338, 120.655, 121.795, 123.033] -> [124.049]\n",
        "[108.584, 118.674, 121.338, 120.655, 121.795, 123.033, 124.049] -> [125.961]\n",
        "```\n",
        "\n",
        "![windows and horizons for turning time series data into a supervised learning problem](https://raw.githubusercontent.com/mrdbourke/tensorflow-deep-learning/main/images/10-time-series-windows-and-horizons.png)\n",
        "*Example of windows and horizons for Bitcoin data. Windowing can be used to turn time series data into a supervised learning problem.*\n",
        "\n",
        "Let's build some functions which take in a univariate time series and turn it into windows and horizons of specified sizes.\n",
        "\n",
        "We'll start with the default horizon size of 1 and a window size of 7 (these aren't necessarily the best values to use, I've just picked them)."
      ],
      "metadata": {
        "id": "CNt9KTyOD7PN"
      }
    },
    {
      "cell_type": "code",
      "source": [
        "print(f\"We want to use window size of 7: {btc_price[:7]} to predict this: {btc_price[7]}\")"
      ],
      "metadata": {
        "colab": {
          "base_uri": "https://localhost:8080/"
        },
        "id": "byXUzMiv1DWa",
        "outputId": "9d10797d-9296-4349-d6da-bb7f9ae0dd15"
      },
      "execution_count": 28,
      "outputs": [
        {
          "output_type": "stream",
          "name": "stdout",
          "text": [
            "We want to use window size of 7: [123.65499, 125.455, 108.58483, 118.67466, 121.33866, 120.65533, 121.795] to predict this: 123.033\n"
          ]
        }
      ]
    },
    {
      "cell_type": "code",
      "source": [
        "# Setup global variables for window and horizon size\n",
        "HORIZON = 1 # predict next 1 dey\n",
        "WINDOW_SIZE = 7 # Use the past week of btc data to make the prediction"
      ],
      "metadata": {
        "id": "ZqlzrLFF1GDr"
      },
      "execution_count": 29,
      "outputs": []
    },
    {
      "cell_type": "code",
      "source": [
        "# Create function to label windowed data\n",
        "def get_labelled_windows(x, horizon=HORIZON):\n",
        "  \"\"\"\n",
        "  Creates labels for windowed dataset.\n",
        "\n",
        "  E.g. if horizon=1 (default)\n",
        "  Input: [0, 1, 2, 3, 4, 5, 6, 7] -> Output: ([0, 1, 2, 3, 4, 5, 6], [7])\n",
        "  \"\"\"\n",
        "  return x[:, :-horizon], x[:, -horizon:]"
      ],
      "metadata": {
        "id": "7kchGyC32Ly4"
      },
      "execution_count": 30,
      "outputs": []
    },
    {
      "cell_type": "code",
      "source": [
        "# Test out the window labelling function\n",
        "test_window, test_label = get_labelled_windows(tf.expand_dims(tf.range(8) + 1, axis = 0)) # +1 because its going to start from 0, but we need from 1\n",
        "print(f\"Window: {tf.squeeze(test_window).numpy()} -> Label: {tf.squeeze(test_label).numpy()}\")"
      ],
      "metadata": {
        "colab": {
          "base_uri": "https://localhost:8080/"
        },
        "id": "piyxdnlW38WP",
        "outputId": "16cb4ad1-d3ed-4053-c9e6-2b07ac9e2654"
      },
      "execution_count": 31,
      "outputs": [
        {
          "output_type": "stream",
          "name": "stdout",
          "text": [
            "Window: [1 2 3 4 5 6 7] -> Label: 8\n"
          ]
        }
      ]
    },
    {
      "cell_type": "code",
      "source": [
        "test_window"
      ],
      "metadata": {
        "colab": {
          "base_uri": "https://localhost:8080/"
        },
        "id": "rlxmD1VSYFXU",
        "outputId": "19440f55-7901-47bf-986f-94fb0e1476af"
      },
      "execution_count": 32,
      "outputs": [
        {
          "output_type": "execute_result",
          "data": {
            "text/plain": [
              "<tf.Tensor: shape=(1, 7), dtype=int32, numpy=array([[1, 2, 3, 4, 5, 6, 7]], dtype=int32)>"
            ]
          },
          "metadata": {},
          "execution_count": 32
        }
      ]
    },
    {
      "cell_type": "code",
      "source": [
        "test_label"
      ],
      "metadata": {
        "colab": {
          "base_uri": "https://localhost:8080/"
        },
        "id": "rX4CxZXKYGvM",
        "outputId": "e2b8c7b2-1991-4a33-df2f-96748adfc4b6"
      },
      "execution_count": 33,
      "outputs": [
        {
          "output_type": "execute_result",
          "data": {
            "text/plain": [
              "<tf.Tensor: shape=(1, 1), dtype=int32, numpy=array([[8]], dtype=int32)>"
            ]
          },
          "metadata": {},
          "execution_count": 33
        }
      ]
    },
    {
      "cell_type": "code",
      "source": [
        "tf.expand_dims(tf.range(8), axis = 0), tf.expand_dims(tf.range(8) +1, axis = 0)"
      ],
      "metadata": {
        "colab": {
          "base_uri": "https://localhost:8080/"
        },
        "id": "AWpt0SX34XVy",
        "outputId": "350e0df7-0b70-41bb-f91d-4efab8521e79"
      },
      "execution_count": 34,
      "outputs": [
        {
          "output_type": "execute_result",
          "data": {
            "text/plain": [
              "(<tf.Tensor: shape=(1, 8), dtype=int32, numpy=array([[0, 1, 2, 3, 4, 5, 6, 7]], dtype=int32)>,\n",
              " <tf.Tensor: shape=(1, 8), dtype=int32, numpy=array([[1, 2, 3, 4, 5, 6, 7, 8]], dtype=int32)>)"
            ]
          },
          "metadata": {},
          "execution_count": 34
        }
      ]
    },
    {
      "cell_type": "markdown",
      "source": [
        "Oh yeah, that's what I'm talking about!\n",
        "\n",
        "Now we need a way to make windows for an entire time series.\n",
        "\n",
        "We could do this with Python for loops, however, for large time series, that'd be quite slow.\n",
        "\n",
        "To speed things up, we'll leverage [NumPy's array indexing](https://numpy.org/doc/stable/reference/arrays.indexing.html).\n",
        "\n",
        "Let's write a function which:\n",
        "1. Creates a window step of specific window size, for example: `[[0, 1, 2, 3, 4, 5, 6, 7]]`\n",
        "2. Uses NumPy indexing to create a 2D of multiple window steps, for example: \n",
        "```\n",
        "[[0, 1, 2, 3, 4, 5, 6, 7],\n",
        " [1, 2, 3, 4, 5, 6, 7, 8],\n",
        " [2, 3, 4, 5, 6, 7, 8, 9]]\n",
        "```\n",
        "3. Uses the 2D array of multuple window steps to index on a target series\n",
        "4. Uses the `get_labelled_windows()` function we created above to turn the window steps into windows with a specified horizon\n",
        "\n",
        "> 📖 **Resource:** The function created below has been adapted from Syafiq Kamarul Azman's article [*Fast and Robust Sliding Window Vectorization with NumPy*](https://towardsdatascience.com/fast-and-robust-sliding-window-vectorization-with-numpy-3ad950ed62f5)."
      ],
      "metadata": {
        "id": "aUcqcJ3n4ype"
      }
    },
    {
      "cell_type": "code",
      "source": [
        "import numpy as np"
      ],
      "metadata": {
        "id": "oGOSamzQaWla"
      },
      "execution_count": 35,
      "outputs": []
    },
    {
      "cell_type": "code",
      "source": [
        "# Create function to view NumPy arrays as windows \n",
        "def make_windows(x, window_size=7, horizon=1):\n",
        "  \"\"\"\n",
        "  Turns a 1D array into a 2D array of sequential windows of window_size.\n",
        "  \"\"\"\n",
        "  # 1. Create a window of specific window_size (add the horizon on the end for later labelling)\n",
        "  window_step = np.expand_dims(np.arange(window_size+horizon), axis=0)\n",
        "  # print(f\"Window step:\\n {window_step}\")\n",
        "\n",
        "  # 2. Create a 2D array of multiple window steps (minus 1 to account for 0 indexing)\n",
        "  window_indexes = window_step + np.expand_dims(np.arange(len(x)-(window_size+horizon-1)), axis=0).T # create 2D array of windows of size window_size. .T for transposing\n",
        "  # print(f\"Window indexes:\\n {window_indexes[:3], window_indexes[-3:], window_indexes.shape}\")\n",
        "\n",
        "  # 3. Index on the target array (time series) with 2D array of multiple window steps\n",
        "  windowed_array = x[window_indexes]\n",
        "  # print(windowed_array)\n",
        "\n",
        "  # 4. Get the labelled windows\n",
        "  windows, labels = get_labelled_windows(windowed_array, horizon=horizon)\n",
        "\n",
        "  return windows, labels"
      ],
      "metadata": {
        "id": "dMEAeP-J40uJ"
      },
      "execution_count": 36,
      "outputs": []
    },
    {
      "cell_type": "code",
      "source": [
        "# np.arange(7+1)"
      ],
      "metadata": {
        "id": "1Q9yjwfDasep"
      },
      "execution_count": 37,
      "outputs": []
    },
    {
      "cell_type": "code",
      "source": [
        "# window_step = np.expand_dims(np.arange(7+1), axis=0)\n",
        "# print(f\"Window step:\\n {window_step}\")"
      ],
      "metadata": {
        "id": "xTau9cyZZZk0"
      },
      "execution_count": 38,
      "outputs": []
    },
    {
      "cell_type": "code",
      "source": [
        "# window_indexes = window_step + np.expand_dims(np.arange(len(prices)-(7 + 1 - 1)), axis=0).T # create 2D array of windows of size window_size\n",
        "# print(f\"Window indexes:\\n {window_indexes[:3], window_indexes[-3:], window_indexes.shape}\")"
      ],
      "metadata": {
        "id": "pf2jypdSZoZ1"
      },
      "execution_count": 39,
      "outputs": []
    },
    {
      "cell_type": "code",
      "source": [
        "# tf.expand_dims(tf.range(8) + 1, axis = 0)"
      ],
      "metadata": {
        "id": "4Gk7oTDNamrf"
      },
      "execution_count": 40,
      "outputs": []
    },
    {
      "cell_type": "code",
      "source": [
        "# window_step + np.expand_dims(np.arange(len(prices)-(7 + 1 - 1)), axis=0).T"
      ],
      "metadata": {
        "id": "N3cLGBZIam3k"
      },
      "execution_count": 41,
      "outputs": []
    },
    {
      "cell_type": "code",
      "source": [
        ""
      ],
      "metadata": {
        "id": "Gz9mbQHMhhJP"
      },
      "execution_count": 41,
      "outputs": []
    },
    {
      "cell_type": "code",
      "source": [
        "full_windows, full_labels = make_windows(x=prices)\n",
        "len(full_windows), len(full_labels)"
      ],
      "metadata": {
        "colab": {
          "base_uri": "https://localhost:8080/"
        },
        "id": "2AFvwlJGmJEc",
        "outputId": "773d0624-a72c-46e7-9ac1-15bff28b971c"
      },
      "execution_count": 42,
      "outputs": [
        {
          "output_type": "execute_result",
          "data": {
            "text/plain": [
              "(2780, 2780)"
            ]
          },
          "metadata": {},
          "execution_count": 42
        }
      ]
    },
    {
      "cell_type": "code",
      "source": [
        "full_windows, full_labels"
      ],
      "metadata": {
        "colab": {
          "base_uri": "https://localhost:8080/"
        },
        "id": "mvIT_tVcmNlg",
        "outputId": "eac05c83-35f9-4e29-f709-d932d886cf09"
      },
      "execution_count": 43,
      "outputs": [
        {
          "output_type": "execute_result",
          "data": {
            "text/plain": [
              "(array([[  123.65499   ,   125.455     ,   108.58483   , ...,\n",
              "           121.33866   ,   120.65533   ,   121.795     ],\n",
              "        [  125.455     ,   108.58483   ,   118.67466   , ...,\n",
              "           120.65533   ,   121.795     ,   123.033     ],\n",
              "        [  108.58483   ,   118.67466   ,   121.33866   , ...,\n",
              "           121.795     ,   123.033     ,   124.049     ],\n",
              "        ...,\n",
              "        [58788.20967893, 58102.19142623, 55715.54665129, ...,\n",
              "         52147.82118698, 49764.1320816 , 50032.69313676],\n",
              "        [58102.19142623, 55715.54665129, 56573.5554719 , ...,\n",
              "         49764.1320816 , 50032.69313676, 47885.62525472],\n",
              "        [55715.54665129, 56573.5554719 , 52147.82118698, ...,\n",
              "         50032.69313676, 47885.62525472, 45604.61575361]]),\n",
              " array([[  123.033     ],\n",
              "        [  124.049     ],\n",
              "        [  125.96116   ],\n",
              "        ...,\n",
              "        [47885.62525472],\n",
              "        [45604.61575361],\n",
              "        [43144.47129086]]))"
            ]
          },
          "metadata": {},
          "execution_count": 43
        }
      ]
    },
    {
      "cell_type": "code",
      "source": [
        "# View the first 3 windows/labels\n",
        "for i in range(3):\n",
        "  print(f\"Window: {full_windows[i]} -> Label: {full_labels[i]}\")"
      ],
      "metadata": {
        "colab": {
          "base_uri": "https://localhost:8080/"
        },
        "id": "GTYztYRam92i",
        "outputId": "18bd4b78-6ee8-472f-e38f-fce9511f3cd4"
      },
      "execution_count": 44,
      "outputs": [
        {
          "output_type": "stream",
          "name": "stdout",
          "text": [
            "Window: [123.65499 125.455   108.58483 118.67466 121.33866 120.65533 121.795  ] -> Label: [123.033]\n",
            "Window: [125.455   108.58483 118.67466 121.33866 120.65533 121.795   123.033  ] -> Label: [124.049]\n",
            "Window: [108.58483 118.67466 121.33866 120.65533 121.795   123.033   124.049  ] -> Label: [125.96116]\n"
          ]
        }
      ]
    },
    {
      "cell_type": "code",
      "source": [
        "# View the last 3 windows/labels\n",
        "for i in range(3):\n",
        "  print(f\"Window: {full_windows[i-3]} -> Label: {full_labels[i-3]}\")"
      ],
      "metadata": {
        "colab": {
          "base_uri": "https://localhost:8080/"
        },
        "id": "lv9pwYmunL9o",
        "outputId": "963caef3-9e3f-4faf-aeea-cc67f04a96f4"
      },
      "execution_count": 45,
      "outputs": [
        {
          "output_type": "stream",
          "name": "stdout",
          "text": [
            "Window: [58788.20967893 58102.19142623 55715.54665129 56573.5554719\n",
            " 52147.82118698 49764.1320816  50032.69313676] -> Label: [47885.62525472]\n",
            "Window: [58102.19142623 55715.54665129 56573.5554719  52147.82118698\n",
            " 49764.1320816  50032.69313676 47885.62525472] -> Label: [45604.61575361]\n",
            "Window: [55715.54665129 56573.5554719  52147.82118698 49764.1320816\n",
            " 50032.69313676 47885.62525472 45604.61575361] -> Label: [43144.47129086]\n"
          ]
        }
      ]
    },
    {
      "cell_type": "markdown",
      "source": [
        "> 🔑 **Note:** You can find a function which achieves similar results to the ones we implemented above at [`tf.keras.preprocessing.timeseries_dataset_from_array()`](https://www.tensorflow.org/api_docs/python/tf/keras/preprocessing/timeseries_dataset_from_array). Just like ours, it takes in an array and returns a windowed dataset. It has the benefit of returning data in the form of a tf.data.Dataset instance (we'll see how to do this with our own data later).\n",
        "\n",
        "## Turning windows into training and test sets \n",
        "\n",
        "Time to turn our windows into training and test splits.\n",
        "\n",
        "We could've windowed our existing training and test splits, however, with the nature of windowing (windowing often requires an offset at some point in the data), it usually works better to window the data first, then split it into training and test sets.\n",
        "\n",
        "Let's write a function which takes in full sets of windows and their labels and splits them into train and test splits."
      ],
      "metadata": {
        "id": "6fMHXIGhnv1p"
      }
    },
    {
      "cell_type": "code",
      "source": [
        "full_windows[:5], full_labels[:5]"
      ],
      "metadata": {
        "colab": {
          "base_uri": "https://localhost:8080/"
        },
        "id": "Y5po7uz_KGCS",
        "outputId": "679ec313-94e9-4d36-c820-40e1a15b190a"
      },
      "execution_count": 46,
      "outputs": [
        {
          "output_type": "execute_result",
          "data": {
            "text/plain": [
              "(array([[123.65499, 125.455  , 108.58483, 118.67466, 121.33866, 120.65533,\n",
              "         121.795  ],\n",
              "        [125.455  , 108.58483, 118.67466, 121.33866, 120.65533, 121.795  ,\n",
              "         123.033  ],\n",
              "        [108.58483, 118.67466, 121.33866, 120.65533, 121.795  , 123.033  ,\n",
              "         124.049  ],\n",
              "        [118.67466, 121.33866, 120.65533, 121.795  , 123.033  , 124.049  ,\n",
              "         125.96116],\n",
              "        [121.33866, 120.65533, 121.795  , 123.033  , 124.049  , 125.96116,\n",
              "         125.27966]]), array([[123.033  ],\n",
              "        [124.049  ],\n",
              "        [125.96116],\n",
              "        [125.27966],\n",
              "        [125.9275 ]]))"
            ]
          },
          "metadata": {},
          "execution_count": 46
        }
      ]
    },
    {
      "cell_type": "code",
      "source": [
        "# Make the train/test splits\n",
        "def make_train_test_splits(windows, labels, test_split=0.2):\n",
        "  \"\"\"\n",
        "  Splits matching pairs of windows and labels into train and test splits.\n",
        "  \"\"\"\n",
        "  split_size = int(len(windows) * (1 - test_split)) # this will default to 80% train/20% test\n",
        "  train_windows = windows[:split_size]\n",
        "  train_labels = labels[:split_size]\n",
        "  test_windows = windows[split_size:]\n",
        "  test_labels = labels[split_size:]\n",
        "\n",
        "  return train_windows, test_windows, train_labels, test_labels"
      ],
      "metadata": {
        "id": "IxnqFg5SU8iP"
      },
      "execution_count": 47,
      "outputs": []
    },
    {
      "cell_type": "code",
      "source": [
        "# Create train and test windos\n",
        "train_windows, test_windows, train_labels, test_labels = make_train_test_splits(full_windows, full_labels)\n",
        "len(train_windows), len(test_windows), len(train_labels), len(test_labels)"
      ],
      "metadata": {
        "colab": {
          "base_uri": "https://localhost:8080/"
        },
        "id": "Xys0F45KIE56",
        "outputId": "099e9e65-7c40-47af-dd8d-3120ea8a11ed"
      },
      "execution_count": 48,
      "outputs": [
        {
          "output_type": "execute_result",
          "data": {
            "text/plain": [
              "(2224, 556, 2224, 556)"
            ]
          },
          "metadata": {},
          "execution_count": 48
        }
      ]
    },
    {
      "cell_type": "code",
      "source": [
        "len(full_windows) * 0.8"
      ],
      "metadata": {
        "colab": {
          "base_uri": "https://localhost:8080/"
        },
        "id": "DU1rAZsLIuU2",
        "outputId": "da4a0598-5e42-4235-cbdc-b213d3ff4953"
      },
      "execution_count": 49,
      "outputs": [
        {
          "output_type": "execute_result",
          "data": {
            "text/plain": [
              "2224.0"
            ]
          },
          "metadata": {},
          "execution_count": 49
        }
      ]
    },
    {
      "cell_type": "code",
      "source": [
        "print(train_windows[:5]) \n",
        "print()\n",
        "print(train_labels[:5])"
      ],
      "metadata": {
        "colab": {
          "base_uri": "https://localhost:8080/"
        },
        "id": "Cw5GxljyIyzs",
        "outputId": "658c9f0c-68c5-4381-cad5-2aad8b86a12f"
      },
      "execution_count": 50,
      "outputs": [
        {
          "output_type": "stream",
          "name": "stdout",
          "text": [
            "[[123.65499 125.455   108.58483 118.67466 121.33866 120.65533 121.795  ]\n",
            " [125.455   108.58483 118.67466 121.33866 120.65533 121.795   123.033  ]\n",
            " [108.58483 118.67466 121.33866 120.65533 121.795   123.033   124.049  ]\n",
            " [118.67466 121.33866 120.65533 121.795   123.033   124.049   125.96116]\n",
            " [121.33866 120.65533 121.795   123.033   124.049   125.96116 125.27966]]\n",
            "\n",
            "[[123.033  ]\n",
            " [124.049  ]\n",
            " [125.96116]\n",
            " [125.27966]\n",
            " [125.9275 ]]\n"
          ]
        }
      ]
    },
    {
      "cell_type": "code",
      "source": [
        "print(test_windows[:5]) \n",
        "print()\n",
        "print(test_labels[:5])"
      ],
      "metadata": {
        "colab": {
          "base_uri": "https://localhost:8080/"
        },
        "id": "BTYkm2KKI620",
        "outputId": "985a8558-562b-4ab8-c94e-9ff603bf1611"
      },
      "execution_count": 51,
      "outputs": [
        {
          "output_type": "stream",
          "name": "stdout",
          "text": [
            "[[9290.89660239 9202.41545055 9369.62808116 9326.59962378 9335.75240233\n",
            "  9226.48582088 8794.35864452]\n",
            " [9202.41545055 9369.62808116 9326.59962378 9335.75240233 9226.48582088\n",
            "  8794.35864452 8798.04205463]\n",
            " [9369.62808116 9326.59962378 9335.75240233 9226.48582088 8794.35864452\n",
            "  8798.04205463 9081.18687849]\n",
            " [9326.59962378 9335.75240233 9226.48582088 8794.35864452 8798.04205463\n",
            "  9081.18687849 8711.53433917]\n",
            " [9335.75240233 9226.48582088 8794.35864452 8798.04205463 9081.18687849\n",
            "  8711.53433917 8760.89271814]]\n",
            "\n",
            "[[8798.04205463]\n",
            " [9081.18687849]\n",
            " [8711.53433917]\n",
            " [8760.89271814]\n",
            " [8749.52059102]]\n"
          ]
        }
      ]
    },
    {
      "cell_type": "code",
      "source": [
        "# Check to see if train labels are the same (before and after label split) \n",
        "# Check to see if same (accounting for horizon and window size)\n",
        "np.array_equal(np.squeeze(train_labels[:-HORIZON-1]), y_train[WINDOW_SIZE:]) # array_equal - comparing 2 arrays"
      ],
      "metadata": {
        "colab": {
          "base_uri": "https://localhost:8080/"
        },
        "id": "4BgvgvtmJBeI",
        "outputId": "af314ad7-effe-45f7-a3c0-45615c72d5aa"
      },
      "execution_count": 52,
      "outputs": [
        {
          "output_type": "execute_result",
          "data": {
            "text/plain": [
              "True"
            ]
          },
          "metadata": {},
          "execution_count": 52
        }
      ]
    },
    {
      "cell_type": "code",
      "source": [
        "train_labels[:5].shape, np.squeeze(train_labels[:5]).shape"
      ],
      "metadata": {
        "colab": {
          "base_uri": "https://localhost:8080/"
        },
        "id": "kkkkEO43Jw1R",
        "outputId": "1062733e-f477-4081-d476-10619ca02632"
      },
      "execution_count": 53,
      "outputs": [
        {
          "output_type": "execute_result",
          "data": {
            "text/plain": [
              "((5, 1), (5,))"
            ]
          },
          "metadata": {},
          "execution_count": 53
        }
      ]
    },
    {
      "cell_type": "markdown",
      "source": [
        "## Make a modelling checkpoint callback\n",
        "\n",
        "We're so close to building models.\n",
        "\n",
        "Because our model's performance will fluctuate from experiment to experiment, we'll want to make sure we're comparing apples to apples.\n",
        "\n",
        "What I mean by this is in order for a fair comparison, we want to compare each model's best performance against each model's best performance.\n",
        "\n",
        "For example, if `model_1` performed incredibly well on epoch 55 but its performance fell off toward epoch 100, we want the version of the model from epoch 55 to compare to other models rather than the version of the model from epoch 100.\n",
        "\n",
        "And the same goes for each of our other models: compare the best against the best.\n",
        "\n",
        "To take of this, we'll implement a [`ModelCheckpoint`](https://www.tensorflow.org/api_docs/python/tf/keras/callbacks/ModelCheckpoint) callback.\n",
        "\n",
        "The `ModelCheckpoint` callback will monitor our model's performance during training and save the best model to file by setting `save_best_only=True`.\n",
        "\n",
        "That way when evaluating our model we could restore its best performing configuration from file.\n",
        "\n",
        "> 🔑 **Note:** Because of the size of the dataset (smaller than usual), you'll notice our modelling experiment results fluctuate quite a bit during training (hence the implementation of the `ModelCheckpoint` callback to save the best model).\n",
        "\n",
        "Because we're going to be running multiple experiments, it makes sense to keep track of them by saving models to file under different names.\n",
        "\n",
        "To do this, we'll write a small function to create a `ModelCheckpoint` callback which saves a model to specified filename."
      ],
      "metadata": {
        "id": "-Bit_auCKF5a"
      }
    },
    {
      "cell_type": "code",
      "source": [
        "import os\n",
        "\n",
        "# Create a function to implment a ModelCheckpoint callback with a specific filename\n",
        "def create_model_checkpoint(model_name, save_path=\"model_experiments\"):\n",
        "  return tf.keras.callbacks.ModelCheckpoint(filepath=os.path.join(save_path, model_name),\n",
        "                                            monitor=\"val_loss\",\n",
        "                                            verbose=0, #only output a limited amount of text\n",
        "                                            save_best_only=True)"
      ],
      "metadata": {
        "id": "K6RAPq87Kl4M"
      },
      "execution_count": 54,
      "outputs": []
    },
    {
      "cell_type": "markdown",
      "source": [
        "## Model 1: Dense model (window = 7, horizon = 1)\n",
        "\n",
        "Time to build one of our models.\n",
        "\n",
        "If you think we've been through a fair bit of preprocessing before getting here, you're right.\n",
        "\n",
        "Often, preparing data for a model is one of the largest parts of any machine learning project.\n",
        "\n",
        "And once you've got a good model in place, you'll probably notice far more improvements from manipulating the data (e.g. collecting more, improving the quality) than manipulating the model.\n",
        "\n",
        "We're going to start by keeping it simple, `model_1` will have:\n",
        "* A single dense layer with 128 hidden units and ReLU (rectified linear unit) activation\n",
        "* An output layer with linear activation (or no activation)\n",
        "* Adam optimizer and MAE loss function\n",
        "* Batch size of 128 (previosly we've used 32)\n",
        "* 100 epochs\n",
        "\n",
        "Why these values?\n",
        "\n",
        "I picked them out of experimentation. \n",
        "\n",
        "A batch size of 32 works pretty well too and we could always train for less epochs but since the model runs so fast (you'll see in a second, it's because the number of samples we have isn't massive) we might as well train for more.\n",
        "\n",
        "> 🔑 **Note:** As always, many of the values for machine learning problems are experimental. A reminder that the values you can set yourself in a machine learning algorithm (the hidden units, the batch size, horizon size, window size) are called [**hyperparameters**](https://en.wikipedia.org/wiki/Hyperparameter_(machine_learning). And experimenting to find the best values for hyperparameters is called **hyperparameter tuning**. Where as parameters learned by a model itself (patterns in the data, formally called weights & biases) are referred to as **parameters**.\n",
        "\n",
        "Let's import TensorFlow and build our first deep learning model for time series."
      ],
      "metadata": {
        "id": "cqq8ok-ARZ0s"
      }
    },
    {
      "cell_type": "code",
      "source": [
        "import tensorflow as tf\n",
        "from tensorflow.keras import layers\n",
        "\n",
        "# Set random seed for as reproducible results as possible\n",
        "tf.random.set_seed(42)\n",
        "\n",
        "# 1. Construct model\n",
        "model_1 = tf.keras.Sequential([\n",
        "                               layers.Dense(128, activation=\"relu\"),\n",
        "                               layers.Dense(HORIZON, activation=\"linear\") # linear activation is the same as having no activation                        \n",
        "], name=\"model_1_dense\") # give the model a name so we can save it\n",
        "\n",
        "\n",
        "# 2. Compile a model\n",
        "model_1.compile(loss=\"mae\",\n",
        "                optimizer=tf.keras.optimizers.Adam(),\n",
        "                metrics=[\"mae\", \"mse\"]) # we don't necessarily need this when the loss function is already MAE\n",
        "\n",
        "# 3. Fit the model\n",
        "model_1.fit(x=train_windows,# train windows of 7 timesteps of Bitcoin prices\n",
        "            y=train_labels, # horizon value of 1 (using the previous 7 timesteps to predict next day)\n",
        "            epochs=100,\n",
        "            verbose=1,\n",
        "            batch_size=128,\n",
        "            validation_data=(test_windows, test_labels),\n",
        "            callbacks=[create_model_checkpoint(model_name=model_1.name)]) # create ModelCheckpoint callback to save best model"
      ],
      "metadata": {
        "colab": {
          "base_uri": "https://localhost:8080/"
        },
        "id": "hRq2mDGUW3Om",
        "outputId": "31d5e827-3f3d-449f-e9d2-562eaca5d3f0"
      },
      "execution_count": 55,
      "outputs": [
        {
          "output_type": "stream",
          "name": "stdout",
          "text": [
            "Epoch 1/100\n",
            "10/18 [===============>..............] - ETA: 0s - loss: 1095.4978 - mae: 1095.4978 - mse: 3676016.7500 INFO:tensorflow:Assets written to: model_experiments/model_1_dense/assets\n",
            "18/18 [==============================] - 5s 149ms/step - loss: 780.3469 - mae: 780.3469 - mse: 2312739.0000 - val_loss: 2279.5828 - val_mae: 2279.5828 - val_mse: 12772095.0000\n",
            "Epoch 2/100\n",
            " 1/18 [>.............................] - ETA: 0s - loss: 348.8778 - mae: 348.8778 - mse: 600780.0625INFO:tensorflow:Assets written to: model_experiments/model_1_dense/assets\n",
            "18/18 [==============================] - 1s 83ms/step - loss: 247.6765 - mae: 247.6765 - mse: 285480.9062 - val_loss: 1005.9864 - val_mae: 1005.9864 - val_mse: 3441759.2500\n",
            "Epoch 3/100\n",
            " 1/18 [>.............................] - ETA: 0s - loss: 134.4844 - mae: 134.4844 - mse: 70764.6719INFO:tensorflow:Assets written to: model_experiments/model_1_dense/assets\n",
            "18/18 [==============================] - 1s 75ms/step - loss: 188.4107 - mae: 188.4107 - mse: 171890.0312 - val_loss: 923.2859 - val_mae: 923.2859 - val_mse: 2868195.0000\n",
            "Epoch 4/100\n",
            "13/18 [====================>.........] - ETA: 0s - loss: 175.1614 - mae: 175.1614 - mse: 167502.1875INFO:tensorflow:Assets written to: model_experiments/model_1_dense/assets\n",
            "18/18 [==============================] - 1s 69ms/step - loss: 169.4334 - mae: 169.4334 - mse: 151699.4375 - val_loss: 900.5932 - val_mae: 900.5932 - val_mse: 2683713.7500\n",
            "Epoch 5/100\n",
            "15/18 [========================>.....] - ETA: 0s - loss: 168.5601 - mae: 168.5601 - mse: 153500.0156INFO:tensorflow:Assets written to: model_experiments/model_1_dense/assets\n",
            "18/18 [==============================] - 1s 76ms/step - loss: 165.0900 - mae: 165.0900 - mse: 145490.8750 - val_loss: 895.2405 - val_mae: 895.2405 - val_mse: 2564606.2500\n",
            "Epoch 6/100\n",
            "14/18 [======================>.......] - ETA: 0s - loss: 155.6031 - mae: 155.6031 - mse: 118221.8750INFO:tensorflow:Assets written to: model_experiments/model_1_dense/assets\n",
            "18/18 [==============================] - 1s 59ms/step - loss: 158.5206 - mae: 158.5206 - mse: 133816.7969 - val_loss: 855.1868 - val_mae: 855.1868 - val_mse: 2481815.5000\n",
            "Epoch 7/100\n",
            "16/18 [=========================>....] - ETA: 0s - loss: 156.2907 - mae: 156.2907 - mse: 130819.5703INFO:tensorflow:Assets written to: model_experiments/model_1_dense/assets\n",
            "18/18 [==============================] - 1s 78ms/step - loss: 151.3568 - mae: 151.3568 - mse: 123446.8047 - val_loss: 840.9290 - val_mae: 840.9290 - val_mse: 2276476.2500\n",
            "Epoch 8/100\n",
            "17/18 [===========================>..] - ETA: 0s - loss: 145.3279 - mae: 145.3279 - mse: 118771.3047INFO:tensorflow:Assets written to: model_experiments/model_1_dense/assets\n",
            "18/18 [==============================] - 1s 68ms/step - loss: 145.2560 - mae: 145.2560 - mse: 117694.1797 - val_loss: 803.6005 - val_mae: 803.6005 - val_mse: 2140566.2500\n",
            "Epoch 9/100\n",
            " 7/18 [==========>...................] - ETA: 0s - loss: 139.9299 - mae: 139.9299 - mse: 108027.1250INFO:tensorflow:Assets written to: model_experiments/model_1_dense/assets\n",
            "18/18 [==============================] - 2s 97ms/step - loss: 144.3546 - mae: 144.3546 - mse: 115269.0859 - val_loss: 799.5592 - val_mae: 799.5592 - val_mse: 2049233.7500\n",
            "Epoch 10/100\n",
            "15/18 [========================>.....] - ETA: 0s - loss: 138.0324 - mae: 138.0324 - mse: 104263.7344INFO:tensorflow:Assets written to: model_experiments/model_1_dense/assets\n",
            "18/18 [==============================] - 1s 60ms/step - loss: 141.2944 - mae: 141.2944 - mse: 112394.1953 - val_loss: 763.5060 - val_mae: 763.5060 - val_mse: 1933136.7500\n",
            "Epoch 11/100\n",
            "18/18 [==============================] - 0s 3ms/step - loss: 135.6591 - mae: 135.6591 - mse: 104117.6016 - val_loss: 771.3525 - val_mae: 771.3525 - val_mse: 1885888.2500\n",
            "Epoch 12/100\n",
            "18/18 [==============================] - 0s 4ms/step - loss: 134.1702 - mae: 134.1702 - mse: 101780.5234 - val_loss: 782.8326 - val_mae: 782.8325 - val_mse: 1881791.7500\n",
            "Epoch 13/100\n",
            "18/18 [==============================] - 0s 7ms/step - loss: 134.6014 - mae: 134.6014 - mse: 102344.3516 - val_loss: 784.4728 - val_mae: 784.4728 - val_mse: 1861070.5000\n",
            "Epoch 14/100\n",
            "17/18 [===========================>..] - ETA: 0s - loss: 127.6784 - mae: 127.6784 - mse: 91904.5547INFO:tensorflow:Assets written to: model_experiments/model_1_dense/assets\n",
            "18/18 [==============================] - 1s 51ms/step - loss: 130.6125 - mae: 130.6125 - mse: 96224.3594 - val_loss: 751.3470 - val_mae: 751.3470 - val_mse: 1749667.6250\n",
            "Epoch 15/100\n",
            "17/18 [===========================>..] - ETA: 0s - loss: 128.8026 - mae: 128.8026 - mse: 94575.8672INFO:tensorflow:Assets written to: model_experiments/model_1_dense/assets\n",
            "18/18 [==============================] - 1s 64ms/step - loss: 128.8352 - mae: 128.8352 - mse: 94306.8672 - val_loss: 696.5837 - val_mae: 696.5837 - val_mse: 1606358.6250\n",
            "Epoch 16/100\n",
            "18/18 [==============================] - 0s 9ms/step - loss: 124.8667 - mae: 124.8667 - mse: 90498.6172 - val_loss: 707.2988 - val_mae: 707.2988 - val_mse: 1602364.3750\n",
            "Epoch 17/100\n",
            "18/18 [==============================] - 0s 7ms/step - loss: 123.6096 - mae: 123.6096 - mse: 89226.7422 - val_loss: 714.2291 - val_mae: 714.2291 - val_mse: 1601816.6250\n",
            "Epoch 18/100\n",
            " 1/18 [>.............................] - ETA: 0s - loss: 138.5527 - mae: 138.5527 - mse: 97749.2969INFO:tensorflow:Assets written to: model_experiments/model_1_dense/assets\n",
            "18/18 [==============================] - 1s 76ms/step - loss: 122.3023 - mae: 122.3023 - mse: 87726.4766 - val_loss: 669.1414 - val_mae: 669.1414 - val_mse: 1498631.3750\n",
            "Epoch 19/100\n",
            "18/18 [==============================] - 0s 11ms/step - loss: 121.4932 - mae: 121.4932 - mse: 86447.8828 - val_loss: 721.5452 - val_mae: 721.5452 - val_mse: 1595832.0000\n",
            "Epoch 20/100\n",
            "15/18 [========================>.....] - ETA: 0s - loss: 119.9649 - mae: 119.9649 - mse: 85260.9844 INFO:tensorflow:Assets written to: model_experiments/model_1_dense/assets\n",
            "18/18 [==============================] - 1s 64ms/step - loss: 119.2384 - mae: 119.2384 - mse: 84250.7500 - val_loss: 658.0786 - val_mae: 658.0786 - val_mse: 1448095.0000\n",
            "Epoch 21/100\n",
            "15/18 [========================>.....] - ETA: 0s - loss: 120.9892 - mae: 120.9892 - mse: 81029.8359INFO:tensorflow:Assets written to: model_experiments/model_1_dense/assets\n",
            "18/18 [==============================] - 1s 61ms/step - loss: 121.5293 - mae: 121.5293 - mse: 85926.5547 - val_loss: 638.3386 - val_mae: 638.3386 - val_mse: 1397797.1250\n",
            "Epoch 22/100\n",
            "18/18 [==============================] - 0s 13ms/step - loss: 119.3422 - mae: 119.3422 - mse: 83495.1953 - val_loss: 678.8881 - val_mae: 678.8881 - val_mse: 1465750.7500\n",
            "Epoch 23/100\n",
            "18/18 [==============================] - 0s 16ms/step - loss: 122.8203 - mae: 122.8203 - mse: 84656.3750 - val_loss: 651.8512 - val_mae: 651.8512 - val_mse: 1401081.1250\n",
            "Epoch 24/100\n",
            "17/18 [===========================>..] - ETA: 0s - loss: 118.4536 - mae: 118.4536 - mse: 82517.0000INFO:tensorflow:Assets written to: model_experiments/model_1_dense/assets\n",
            "18/18 [==============================] - 1s 75ms/step - loss: 117.0774 - mae: 117.0774 - mse: 81069.2109 - val_loss: 623.5611 - val_mae: 623.5611 - val_mse: 1362704.7500\n",
            "Epoch 25/100\n",
            "10/18 [===============>..............] - ETA: 0s - loss: 121.6181 - mae: 121.6181 - mse: 87333.6406INFO:tensorflow:Assets written to: model_experiments/model_1_dense/assets\n",
            "18/18 [==============================] - 1s 64ms/step - loss: 115.1816 - mae: 115.1816 - mse: 79065.0391 - val_loss: 618.5576 - val_mae: 618.5576 - val_mse: 1342634.1250\n",
            "Epoch 26/100\n",
            " 1/18 [>.............................] - ETA: 0s - loss: 109.7064 - mae: 109.7064 - mse: 58933.2188INFO:tensorflow:Assets written to: model_experiments/model_1_dense/assets\n",
            "18/18 [==============================] - 1s 64ms/step - loss: 115.0673 - mae: 115.0673 - mse: 78886.6484 - val_loss: 616.4918 - val_mae: 616.4918 - val_mse: 1321327.3750\n",
            "Epoch 27/100\n",
            "18/18 [==============================] - 0s 12ms/step - loss: 116.6431 - mae: 116.6431 - mse: 79058.1172 - val_loss: 619.0472 - val_mae: 619.0472 - val_mse: 1316206.6250\n",
            "Epoch 28/100\n",
            "10/18 [===============>..............] - ETA: 0s - loss: 116.0724 - mae: 116.0724 - mse: 77221.0547INFO:tensorflow:Assets written to: model_experiments/model_1_dense/assets\n",
            "18/18 [==============================] - 1s 76ms/step - loss: 114.0328 - mae: 114.0328 - mse: 77953.4609 - val_loss: 610.3879 - val_mae: 610.3879 - val_mse: 1316937.5000\n",
            "Epoch 29/100\n",
            "18/18 [==============================] - 0s 14ms/step - loss: 113.4892 - mae: 113.4892 - mse: 78513.0859 - val_loss: 617.2401 - val_mae: 617.2401 - val_mse: 1304227.6250\n",
            "Epoch 30/100\n",
            " 9/18 [==============>...............] - ETA: 0s - loss: 108.7559 - mae: 108.7559 - mse: 67809.4375INFO:tensorflow:Assets written to: model_experiments/model_1_dense/assets\n",
            "18/18 [==============================] - 1s 68ms/step - loss: 116.4094 - mae: 116.4094 - mse: 78943.1484 - val_loss: 603.6490 - val_mae: 603.6490 - val_mse: 1283178.0000\n",
            "Epoch 31/100\n",
            "18/18 [==============================] - 0s 7ms/step - loss: 112.3454 - mae: 112.3454 - mse: 74879.3203 - val_loss: 623.4434 - val_mae: 623.4434 - val_mse: 1311036.6250\n",
            "Epoch 32/100\n",
            "14/18 [======================>.......] - ETA: 0s - loss: 116.1421 - mae: 116.1421 - mse: 81254.8359INFO:tensorflow:Assets written to: model_experiments/model_1_dense/assets\n",
            "18/18 [==============================] - 1s 66ms/step - loss: 113.2056 - mae: 113.2056 - mse: 77898.5000 - val_loss: 600.0261 - val_mae: 600.0261 - val_mse: 1271945.6250\n",
            "Epoch 33/100\n",
            "18/18 [==============================] - 0s 6ms/step - loss: 112.9529 - mae: 112.9529 - mse: 76235.3906 - val_loss: 653.0604 - val_mae: 653.0604 - val_mse: 1369885.5000\n",
            "Epoch 34/100\n",
            "18/18 [==============================] - ETA: 0s - loss: 112.1157 - mae: 112.1157 - mse: 77267.7578INFO:tensorflow:Assets written to: model_experiments/model_1_dense/assets\n",
            "18/18 [==============================] - 1s 72ms/step - loss: 112.1157 - mae: 112.1157 - mse: 77267.7578 - val_loss: 594.7913 - val_mae: 594.7913 - val_mse: 1263628.2500\n",
            "Epoch 35/100\n",
            "11/18 [=================>............] - ETA: 0s - loss: 114.6702 - mae: 114.6702 - mse: 78534.9375INFO:tensorflow:Assets written to: model_experiments/model_1_dense/assets\n",
            "18/18 [==============================] - 1s 87ms/step - loss: 110.7447 - mae: 110.7447 - mse: 75067.1562 - val_loss: 592.7401 - val_mae: 592.7401 - val_mse: 1250752.6250\n",
            "Epoch 36/100\n",
            " 1/18 [>.............................] - ETA: 0s - loss: 149.3917 - mae: 149.3917 - mse: 137843.0469INFO:tensorflow:Assets written to: model_experiments/model_1_dense/assets\n",
            "18/18 [==============================] - 1s 69ms/step - loss: 116.3301 - mae: 116.3301 - mse: 77425.8047 - val_loss: 592.4697 - val_mae: 592.4697 - val_mse: 1246067.6250\n",
            "Epoch 37/100\n",
            "18/18 [==============================] - 0s 7ms/step - loss: 110.7676 - mae: 110.7676 - mse: 75596.7188 - val_loss: 618.5350 - val_mae: 618.5350 - val_mse: 1286741.6250\n",
            "Epoch 38/100\n",
            "18/18 [==============================] - 0s 10ms/step - loss: 112.5935 - mae: 112.5935 - mse: 75636.7109 - val_loss: 613.9557 - val_mae: 613.9557 - val_mse: 1306248.2500\n",
            "Epoch 39/100\n",
            "13/18 [====================>.........] - ETA: 0s - loss: 112.3721 - mae: 112.3721 - mse: 77009.7891 INFO:tensorflow:Assets written to: model_experiments/model_1_dense/assets\n",
            "18/18 [==============================] - 3s 149ms/step - loss: 110.1321 - mae: 110.1321 - mse: 74271.8047 - val_loss: 586.6888 - val_mae: 586.6888 - val_mse: 1231217.3750\n",
            "Epoch 40/100\n",
            "18/18 [==============================] - 0s 9ms/step - loss: 109.4753 - mae: 109.4753 - mse: 73257.0078 - val_loss: 593.9153 - val_mae: 593.9153 - val_mse: 1256532.0000\n",
            "Epoch 41/100\n",
            "13/18 [====================>.........] - ETA: 0s - loss: 113.1747 - mae: 113.1747 - mse: 79561.7812INFO:tensorflow:Assets written to: model_experiments/model_1_dense/assets\n",
            "18/18 [==============================] - 2s 94ms/step - loss: 110.1777 - mae: 110.1777 - mse: 73581.0234 - val_loss: 586.4465 - val_mae: 586.4465 - val_mse: 1229670.8750\n",
            "Epoch 42/100\n",
            "18/18 [==============================] - 0s 10ms/step - loss: 111.5192 - mae: 111.5192 - mse: 76049.7500 - val_loss: 649.3650 - val_mae: 649.3650 - val_mse: 1345896.2500\n",
            "Epoch 43/100\n",
            "18/18 [==============================] - 0s 5ms/step - loss: 115.8939 - mae: 115.8939 - mse: 74405.6172 - val_loss: 686.8293 - val_mae: 686.8293 - val_mse: 1486392.7500\n",
            "Epoch 44/100\n",
            "18/18 [==============================] - 0s 7ms/step - loss: 123.0945 - mae: 123.0945 - mse: 83366.2891 - val_loss: 661.1304 - val_mae: 661.1304 - val_mse: 1411199.7500\n",
            "Epoch 45/100\n",
            "18/18 [==============================] - 0s 8ms/step - loss: 113.8169 - mae: 113.8169 - mse: 77100.1719 - val_loss: 626.8177 - val_mae: 626.8177 - val_mse: 1293826.5000\n",
            "Epoch 46/100\n",
            "18/18 [==============================] - 0s 7ms/step - loss: 114.0971 - mae: 114.0971 - mse: 76079.4453 - val_loss: 588.7769 - val_mae: 588.7769 - val_mse: 1238327.0000\n",
            "Epoch 47/100\n",
            "18/18 [==============================] - 0s 3ms/step - loss: 108.9936 - mae: 108.9936 - mse: 73660.3047 - val_loss: 636.0583 - val_mae: 636.0583 - val_mse: 1312960.0000\n",
            "Epoch 48/100\n",
            "18/18 [==============================] - 0s 3ms/step - loss: 109.2967 - mae: 109.2967 - mse: 73079.0703 - val_loss: 604.1586 - val_mae: 604.1586 - val_mse: 1245050.2500\n",
            "Epoch 49/100\n",
            "18/18 [==============================] - 0s 3ms/step - loss: 111.7787 - mae: 111.7787 - mse: 73888.8984 - val_loss: 591.5096 - val_mae: 591.5096 - val_mse: 1222480.7500\n",
            "Epoch 50/100\n",
            "18/18 [==============================] - 0s 3ms/step - loss: 111.7319 - mae: 111.7319 - mse: 73875.1641 - val_loss: 636.4677 - val_mae: 636.4677 - val_mse: 1341626.7500\n",
            "Epoch 51/100\n",
            "18/18 [==============================] - 0s 4ms/step - loss: 110.7498 - mae: 110.7498 - mse: 73830.9141 - val_loss: 589.2878 - val_mae: 589.2878 - val_mse: 1216414.1250\n",
            "Epoch 52/100\n",
            "18/18 [==============================] - 0s 3ms/step - loss: 111.5193 - mae: 111.5193 - mse: 75446.6875 - val_loss: 609.5289 - val_mae: 609.5289 - val_mse: 1277468.7500\n",
            "Epoch 53/100\n",
            " 1/18 [>.............................] - ETA: 0s - loss: 63.2880 - mae: 63.2880 - mse: 23499.7012INFO:tensorflow:Assets written to: model_experiments/model_1_dense/assets\n",
            "18/18 [==============================] - 1s 32ms/step - loss: 113.9868 - mae: 113.9868 - mse: 75752.9766 - val_loss: 584.7471 - val_mae: 584.7471 - val_mse: 1209497.1250\n",
            "Epoch 54/100\n",
            " 1/18 [>.............................] - ETA: 0s - loss: 98.4018 - mae: 98.4018 - mse: 71435.6562INFO:tensorflow:Assets written to: model_experiments/model_1_dense/assets\n",
            "18/18 [==============================] - 1s 31ms/step - loss: 110.1075 - mae: 110.1075 - mse: 72728.5625 - val_loss: 578.7416 - val_mae: 578.7416 - val_mse: 1200865.6250\n",
            "Epoch 55/100\n",
            "18/18 [==============================] - 0s 3ms/step - loss: 110.6423 - mae: 110.6423 - mse: 75084.4141 - val_loss: 581.5333 - val_mae: 581.5333 - val_mse: 1218268.7500\n",
            "Epoch 56/100\n",
            "18/18 [==============================] - 0s 4ms/step - loss: 107.6537 - mae: 107.6537 - mse: 71568.1328 - val_loss: 759.0189 - val_mae: 759.0189 - val_mse: 1698484.5000\n",
            "Epoch 57/100\n",
            "18/18 [==============================] - 0s 3ms/step - loss: 119.2012 - mae: 119.2012 - mse: 79652.9531 - val_loss: 603.5953 - val_mae: 603.5953 - val_mse: 1262626.7500\n",
            "Epoch 58/100\n",
            "18/18 [==============================] - 0s 4ms/step - loss: 116.4417 - mae: 116.4417 - mse: 75122.8828 - val_loss: 583.7296 - val_mae: 583.7296 - val_mse: 1206719.0000\n",
            "Epoch 59/100\n",
            "18/18 [==============================] - 0s 4ms/step - loss: 109.9014 - mae: 109.9014 - mse: 72680.9766 - val_loss: 592.8416 - val_mae: 592.8416 - val_mse: 1240090.3750\n",
            "Epoch 60/100\n",
            "18/18 [==============================] - 0s 4ms/step - loss: 107.7859 - mae: 107.7859 - mse: 72220.4922 - val_loss: 593.4969 - val_mae: 593.4969 - val_mse: 1220786.7500\n",
            "Epoch 61/100\n",
            " 1/18 [>.............................] - ETA: 0s - loss: 130.6454 - mae: 130.6454 - mse: 96190.2812INFO:tensorflow:Assets written to: model_experiments/model_1_dense/assets\n",
            "18/18 [==============================] - 1s 32ms/step - loss: 107.6960 - mae: 107.6960 - mse: 72155.8672 - val_loss: 575.5123 - val_mae: 575.5123 - val_mse: 1194018.5000\n",
            "Epoch 62/100\n",
            "18/18 [==============================] - 0s 4ms/step - loss: 107.1257 - mae: 107.1257 - mse: 70836.3438 - val_loss: 580.2645 - val_mae: 580.2645 - val_mse: 1213138.3750\n",
            "Epoch 63/100\n",
            "18/18 [==============================] - 0s 3ms/step - loss: 111.8451 - mae: 111.8451 - mse: 73612.9453 - val_loss: 654.6143 - val_mae: 654.6143 - val_mse: 1348994.2500\n",
            "Epoch 64/100\n",
            "18/18 [==============================] - 0s 4ms/step - loss: 110.3121 - mae: 110.3121 - mse: 72546.6641 - val_loss: 610.7810 - val_mae: 610.7810 - val_mse: 1251885.2500\n",
            "Epoch 65/100\n",
            " 1/18 [>.............................] - ETA: 0s - loss: 131.5208 - mae: 131.5208 - mse: 162901.4844INFO:tensorflow:Assets written to: model_experiments/model_1_dense/assets\n",
            "18/18 [==============================] - 1s 31ms/step - loss: 109.7098 - mae: 109.7098 - mse: 72575.1016 - val_loss: 573.9960 - val_mae: 573.9960 - val_mse: 1190387.3750\n",
            "Epoch 66/100\n",
            " 1/18 [>.............................] - ETA: 0s - loss: 112.4866 - mae: 112.4866 - mse: 72743.6016INFO:tensorflow:Assets written to: model_experiments/model_1_dense/assets\n",
            "18/18 [==============================] - 1s 34ms/step - loss: 106.8139 - mae: 106.8139 - mse: 70554.2734 - val_loss: 572.9989 - val_mae: 572.9989 - val_mse: 1187547.3750\n",
            "Epoch 67/100\n",
            "18/18 [==============================] - 0s 5ms/step - loss: 106.1394 - mae: 106.1394 - mse: 70026.4219 - val_loss: 602.1524 - val_mae: 602.1524 - val_mse: 1255793.1250\n",
            "Epoch 68/100\n",
            "18/18 [==============================] - 0s 3ms/step - loss: 112.9245 - mae: 112.9245 - mse: 70779.4219 - val_loss: 687.6375 - val_mae: 687.6375 - val_mse: 1476286.1250\n",
            "Epoch 69/100\n",
            "18/18 [==============================] - 0s 3ms/step - loss: 126.9916 - mae: 126.9916 - mse: 82712.0156 - val_loss: 664.9473 - val_mae: 664.9473 - val_mse: 1413700.8750\n",
            "Epoch 70/100\n",
            "18/18 [==============================] - 0s 4ms/step - loss: 124.8734 - mae: 124.8734 - mse: 83039.0547 - val_loss: 619.6686 - val_mae: 619.6686 - val_mse: 1298640.7500\n",
            "Epoch 71/100\n",
            "18/18 [==============================] - 0s 3ms/step - loss: 109.8522 - mae: 109.8522 - mse: 71643.5000 - val_loss: 582.3637 - val_mae: 582.3637 - val_mse: 1201057.1250\n",
            "Epoch 72/100\n",
            "18/18 [==============================] - 0s 3ms/step - loss: 107.6717 - mae: 107.6717 - mse: 71406.7734 - val_loss: 573.4947 - val_mae: 573.4947 - val_mse: 1192645.7500\n",
            "Epoch 73/100\n",
            "18/18 [==============================] - 0s 3ms/step - loss: 109.6036 - mae: 109.6036 - mse: 71761.6250 - val_loss: 583.9045 - val_mae: 583.9045 - val_mse: 1218967.2500\n",
            "Epoch 74/100\n",
            " 1/18 [>.............................] - ETA: 0s - loss: 165.4990 - mae: 165.4990 - mse: 177786.3594INFO:tensorflow:Assets written to: model_experiments/model_1_dense/assets\n",
            "18/18 [==============================] - 1s 32ms/step - loss: 107.7049 - mae: 107.7049 - mse: 71542.6094 - val_loss: 572.9933 - val_mae: 572.9933 - val_mse: 1189806.3750\n",
            "Epoch 75/100\n",
            "18/18 [==============================] - 0s 3ms/step - loss: 108.1179 - mae: 108.1179 - mse: 70535.7969 - val_loss: 583.9372 - val_mae: 583.9372 - val_mse: 1199156.5000\n",
            "Epoch 76/100\n",
            "18/18 [==============================] - 0s 5ms/step - loss: 109.5447 - mae: 109.5447 - mse: 71991.1328 - val_loss: 592.8235 - val_mae: 592.8235 - val_mse: 1234671.6250\n",
            "Epoch 77/100\n",
            "18/18 [==============================] - 0s 4ms/step - loss: 108.3639 - mae: 108.3639 - mse: 70784.8125 - val_loss: 575.4260 - val_mae: 575.4260 - val_mse: 1197659.8750\n",
            "Epoch 78/100\n",
            "18/18 [==============================] - 0s 4ms/step - loss: 108.0055 - mae: 108.0055 - mse: 70093.0234 - val_loss: 574.3941 - val_mae: 574.3941 - val_mse: 1193026.1250\n",
            "Epoch 79/100\n",
            "18/18 [==============================] - 0s 3ms/step - loss: 107.3223 - mae: 107.3223 - mse: 71654.6562 - val_loss: 597.2478 - val_mae: 597.2478 - val_mse: 1242042.0000\n",
            "Epoch 80/100\n",
            "18/18 [==============================] - 0s 4ms/step - loss: 108.1452 - mae: 108.1452 - mse: 71775.7266 - val_loss: 586.6866 - val_mae: 586.6866 - val_mse: 1199789.2500\n",
            "Epoch 81/100\n",
            "18/18 [==============================] - 0s 5ms/step - loss: 106.1153 - mae: 106.1153 - mse: 69995.2422 - val_loss: 575.1765 - val_mae: 575.1765 - val_mse: 1195805.5000\n",
            "Epoch 82/100\n",
            "18/18 [==============================] - 0s 8ms/step - loss: 116.6344 - mae: 116.6344 - mse: 77928.7344 - val_loss: 575.4340 - val_mae: 575.4340 - val_mse: 1192046.3750\n",
            "Epoch 83/100\n",
            "18/18 [==============================] - 0s 9ms/step - loss: 110.8731 - mae: 110.8731 - mse: 72825.0703 - val_loss: 654.5366 - val_mae: 654.5366 - val_mse: 1375390.8750\n",
            "Epoch 84/100\n",
            "11/18 [=================>............] - ETA: 0s - loss: 111.9910 - mae: 111.9910 - mse: 69248.3125INFO:tensorflow:Assets written to: model_experiments/model_1_dense/assets\n",
            "18/18 [==============================] - 1s 61ms/step - loss: 111.9106 - mae: 111.9106 - mse: 73183.8438 - val_loss: 572.3373 - val_mae: 572.3373 - val_mse: 1176463.6250\n",
            "Epoch 85/100\n",
            "18/18 [==============================] - 0s 10ms/step - loss: 106.6154 - mae: 106.6154 - mse: 70752.4453 - val_loss: 574.2833 - val_mae: 574.2833 - val_mse: 1178176.8750\n",
            "Epoch 86/100\n",
            "18/18 [==============================] - 0s 13ms/step - loss: 108.4299 - mae: 108.4299 - mse: 70129.7188 - val_loss: 583.3530 - val_mae: 583.3530 - val_mse: 1191900.3750\n",
            "Epoch 87/100\n",
            "18/18 [==============================] - 0s 10ms/step - loss: 105.7481 - mae: 105.7481 - mse: 68589.9375 - val_loss: 593.0121 - val_mae: 593.0121 - val_mse: 1230071.7500\n",
            "Epoch 88/100\n",
            " 1/18 [>.............................] - ETA: 0s - loss: 133.8443 - mae: 133.8443 - mse: 128483.5703INFO:tensorflow:Assets written to: model_experiments/model_1_dense/assets\n",
            "18/18 [==============================] - 1s 40ms/step - loss: 107.2604 - mae: 107.2604 - mse: 70897.3281 - val_loss: 571.7658 - val_mae: 571.7658 - val_mse: 1182082.7500\n",
            "Epoch 89/100\n",
            "17/18 [===========================>..] - ETA: 0s - loss: 105.3464 - mae: 105.3464 - mse: 65597.5625INFO:tensorflow:Assets written to: model_experiments/model_1_dense/assets\n",
            "18/18 [==============================] - 1s 71ms/step - loss: 106.7823 - mae: 106.7823 - mse: 69118.5625 - val_loss: 568.6370 - val_mae: 568.6370 - val_mse: 1174329.7500\n",
            "Epoch 90/100\n",
            "18/18 [==============================] - 0s 13ms/step - loss: 105.8682 - mae: 105.8682 - mse: 67370.6953 - val_loss: 602.9690 - val_mae: 602.9690 - val_mse: 1230767.2500\n",
            "Epoch 91/100\n",
            "18/18 [==============================] - 0s 11ms/step - loss: 110.6365 - mae: 110.6365 - mse: 72148.0391 - val_loss: 605.6947 - val_mae: 605.6947 - val_mse: 1257883.8750\n",
            "Epoch 92/100\n",
            "18/18 [==============================] - 0s 6ms/step - loss: 109.4668 - mae: 109.4668 - mse: 72193.7734 - val_loss: 572.4370 - val_mae: 572.4370 - val_mse: 1183753.2500\n",
            "Epoch 93/100\n",
            "18/18 [==============================] - 0s 6ms/step - loss: 113.0063 - mae: 113.0063 - mse: 73147.9609 - val_loss: 617.3001 - val_mae: 617.3001 - val_mse: 1284326.5000\n",
            "Epoch 94/100\n",
            "18/18 [==============================] - 0s 7ms/step - loss: 112.4903 - mae: 112.4903 - mse: 73928.3047 - val_loss: 599.9803 - val_mae: 599.9803 - val_mse: 1225950.7500\n",
            "Epoch 95/100\n",
            "18/18 [==============================] - 0s 7ms/step - loss: 106.0053 - mae: 106.0053 - mse: 68764.8672 - val_loss: 570.6210 - val_mae: 570.6210 - val_mse: 1175398.3750\n",
            "Epoch 96/100\n",
            "18/18 [==============================] - 0s 7ms/step - loss: 109.5910 - mae: 109.5910 - mse: 70458.2422 - val_loss: 676.3395 - val_mae: 676.3395 - val_mse: 1426408.5000\n",
            "Epoch 97/100\n",
            "18/18 [==============================] - 0s 10ms/step - loss: 110.2213 - mae: 110.2213 - mse: 72762.1250 - val_loss: 574.2988 - val_mae: 574.2988 - val_mse: 1177002.2500\n",
            "Epoch 98/100\n",
            "18/18 [==============================] - 0s 6ms/step - loss: 106.7290 - mae: 106.7290 - mse: 69964.2500 - val_loss: 576.7734 - val_mae: 576.7734 - val_mse: 1192501.1250\n",
            "Epoch 99/100\n",
            " 1/18 [>.............................] - ETA: 0s - loss: 151.1014 - mae: 151.1014 - mse: 126883.6172INFO:tensorflow:Assets written to: model_experiments/model_1_dense/assets\n",
            "18/18 [==============================] - 1s 72ms/step - loss: 106.9889 - mae: 106.9889 - mse: 70740.1953 - val_loss: 568.5499 - val_mae: 568.5499 - val_mse: 1172587.7500\n",
            "Epoch 100/100\n",
            "18/18 [==============================] - 0s 8ms/step - loss: 117.7622 - mae: 117.7622 - mse: 73195.7734 - val_loss: 662.5322 - val_mae: 662.5322 - val_mse: 1358191.8750\n"
          ]
        },
        {
          "output_type": "execute_result",
          "data": {
            "text/plain": [
              "<keras.callbacks.History at 0x7f146b3be090>"
            ]
          },
          "metadata": {},
          "execution_count": 55
        }
      ]
    },
    {
      "cell_type": "code",
      "source": [
        "# Evaluate model on test data\n",
        "model_1.evaluate(test_windows, test_labels)"
      ],
      "metadata": {
        "colab": {
          "base_uri": "https://localhost:8080/"
        },
        "id": "ZXyLMGWxd5QS",
        "outputId": "1966d9df-cd1c-4452-988b-c5c9b9a003cc"
      },
      "execution_count": 56,
      "outputs": [
        {
          "output_type": "stream",
          "name": "stdout",
          "text": [
            "18/18 [==============================] - 0s 3ms/step - loss: 662.5322 - mae: 662.5322 - mse: 1358192.1250\n"
          ]
        },
        {
          "output_type": "execute_result",
          "data": {
            "text/plain": [
              "[662.5322265625, 662.5322265625, 1358192.125]"
            ]
          },
          "metadata": {},
          "execution_count": 56
        }
      ]
    },
    {
      "cell_type": "code",
      "source": [
        "# Load in saved best performing model_1 and evaluate it on test data\n",
        "model_1 = tf.keras.models.load_model(\"/content/model_experiments/model_1_dense\")\n",
        "model_1.evaluate(test_windows, test_labels)\n",
        "\n",
        "# Its better when we use best epoch from callback"
      ],
      "metadata": {
        "colab": {
          "base_uri": "https://localhost:8080/"
        },
        "id": "1m_8oIlUeqyO",
        "outputId": "5d88d4a6-fe7f-4f13-b16a-66da03fb7a8f"
      },
      "execution_count": 57,
      "outputs": [
        {
          "output_type": "stream",
          "name": "stdout",
          "text": [
            "18/18 [==============================] - 0s 3ms/step - loss: 568.5499 - mae: 568.5499 - mse: 1172587.7500\n"
          ]
        },
        {
          "output_type": "execute_result",
          "data": {
            "text/plain": [
              "[568.5498657226562, 568.5498657226562, 1172587.75]"
            ]
          },
          "metadata": {},
          "execution_count": 57
        }
      ]
    },
    {
      "cell_type": "code",
      "source": [
        "naive_results"
      ],
      "metadata": {
        "colab": {
          "base_uri": "https://localhost:8080/"
        },
        "id": "yZk_gYNtfKuT",
        "outputId": "d81185da-8d84-43d9-c63e-fa4417822a4a"
      },
      "execution_count": 58,
      "outputs": [
        {
          "output_type": "execute_result",
          "data": {
            "text/plain": [
              "{'mae': 567.9802,\n",
              " 'mape': 2.5165248,\n",
              " 'mase': 0.99957,\n",
              " 'mse': 1147547.0,\n",
              " 'rmse': 1071.2362}"
            ]
          },
          "metadata": {},
          "execution_count": 58
        }
      ]
    },
    {
      "cell_type": "markdown",
      "source": [
        "## Making forecasts with a model (on the test dataset)\n",
        "\n",
        "We've trained a model and evaluated the it on the test data, but the project we're working on is called BitPredict 💰📈 so how do you think we could use our model to make predictions?\n",
        "\n",
        "Since we're going to be running more modelling experiments, let's write a function which: \n",
        "1. Takes in a trained model (just like `model_1`)\n",
        "2. Takes in some input data (just like the data the model was trained on) \n",
        "3. Passes the input data to the model's `predict()` method\n",
        "4. Returns the predictions\n",
        "\n"
      ],
      "metadata": {
        "id": "DWGQatF-fc8g"
      }
    },
    {
      "cell_type": "code",
      "source": [
        "def make_preds(model, input_data):\n",
        "  \"\"\"\n",
        "  Uses model to make predictions on input_data.\n",
        "\n",
        "  Parameters\n",
        "  ----------\n",
        "  model: trained model \n",
        "  input_data: windowed input data (same kind of data model was trained on)\n",
        "\n",
        "  Returns model predictions on input_data.\n",
        "  \"\"\"\n",
        "  forecast = model.predict(input_data)\n",
        "  return tf.squeeze(forecast) # return 1D array of predictions"
      ],
      "metadata": {
        "id": "mvRpouYbfoRU"
      },
      "execution_count": 59,
      "outputs": []
    },
    {
      "cell_type": "code",
      "source": [
        "model_1_preds = make_preds(model_1, test_windows)\n",
        "len(model_1_preds), model_1_preds[:10]"
      ],
      "metadata": {
        "colab": {
          "base_uri": "https://localhost:8080/"
        },
        "id": "xnvQ8evtuHYw",
        "outputId": "4947da7c-69d3-4112-a721-bd692558fdd5"
      },
      "execution_count": 60,
      "outputs": [
        {
          "output_type": "execute_result",
          "data": {
            "text/plain": [
              "(556, <tf.Tensor: shape=(10,), dtype=float32, numpy=\n",
              " array([8874.493, 8789.944, 9040.986, 8804.829, 8741.21 , 8749.835,\n",
              "        8705.865, 8513.171, 8478.415, 8536.302], dtype=float32)>)"
            ]
          },
          "metadata": {},
          "execution_count": 60
        }
      ]
    },
    {
      "cell_type": "markdown",
      "source": [
        "> 🔑 **Note:** With these outputs, our model isn't *forecasting* yet. It's only making predictions on the test dataset. Forecasting would involve a model making predictions into the future, however, the test dataset is only a pseudofuture.\n",
        "\n",
        "Now we've got some prediction values, let's use the `evaluate_preds()` we created before to compare them to the ground truth."
      ],
      "metadata": {
        "id": "J3U_70a5wK1K"
      }
    },
    {
      "cell_type": "code",
      "source": [
        "# Evaluare preds\n",
        "model_1_results = evaluate_preds(y_true=tf.squeeze(test_labels), # reduce to right shape\n",
        "                                 y_pred=model_1_preds)\n",
        "\n",
        "model_1_results"
      ],
      "metadata": {
        "colab": {
          "base_uri": "https://localhost:8080/"
        },
        "id": "0QHSuTTVufcO",
        "outputId": "ff37d0bd-d60f-4eed-f535-da1241b56717"
      },
      "execution_count": 61,
      "outputs": [
        {
          "output_type": "execute_result",
          "data": {
            "text/plain": [
              "{'mae': 568.5498,\n",
              " 'mape': 2.549229,\n",
              " 'mase': 0.99878454,\n",
              " 'mse': 1172587.6,\n",
              " 'rmse': 1082.8608}"
            ]
          },
          "metadata": {},
          "execution_count": 61
        }
      ]
    },
    {
      "cell_type": "code",
      "source": [
        "naive_results"
      ],
      "metadata": {
        "colab": {
          "base_uri": "https://localhost:8080/"
        },
        "id": "fbNKvft2wBWD",
        "outputId": "0122fd37-29d7-43e7-d288-503cde956201"
      },
      "execution_count": 62,
      "outputs": [
        {
          "output_type": "execute_result",
          "data": {
            "text/plain": [
              "{'mae': 567.9802,\n",
              " 'mape': 2.5165248,\n",
              " 'mase': 0.99957,\n",
              " 'mse': 1147547.0,\n",
              " 'rmse': 1071.2362}"
            ]
          },
          "metadata": {},
          "execution_count": 62
        }
      ]
    },
    {
      "cell_type": "markdown",
      "source": [
        "It looks like our naïve model beats our first deep model on nearly every metric.\n",
        "\n",
        "That goes to show the power of the naïve model and the reason for having a baseline for any machine learning project.\n",
        "\n",
        "And of course, no evaluation would be finished without visualizing the results.\n",
        "\n",
        "Let's use the `plot_time_series()` function to plot `model_1_preds` against the test data."
      ],
      "metadata": {
        "id": "VtRDKnNZwkjc"
      }
    },
    {
      "cell_type": "code",
      "source": [
        "# Plot model_1 predictions\n",
        "offset = 450\n",
        "plt.figure(figsize=(10, 7))\n",
        "\n",
        "# Account for the test_window offset and index into test_labels to ensure correct plotting\n",
        "plot_time_series(timesteps=X_test[-len(test_windows):], values=test_labels[:, 0], start=offset, label=\"Test Data\")\n",
        "\n",
        "plot_time_series(timesteps=X_test[-len(test_windows):], values=model_1_preds, start=offset, format=\"-\", label=\"model_1_preds\")"
      ],
      "metadata": {
        "colab": {
          "base_uri": "https://localhost:8080/",
          "height": 445
        },
        "id": "eDHEwE1Pwmmn",
        "outputId": "5ca55e90-c3bf-448b-a64d-465faac473a2"
      },
      "execution_count": 63,
      "outputs": [
        {
          "output_type": "display_data",
          "data": {
            "image/png": "[encoded data removed]",
            "text/plain": [
              "<Figure size 720x504 with 1 Axes>"
            ]
          },
          "metadata": {
            "needs_background": "light"
          }
        }
      ]
    },
    {
      "cell_type": "markdown",
      "source": [
        "## Model 2: Dense (window = 30, horizon = 1)\n",
        "\n",
        "A naïve model is currently beating our handcrafted deep learning model. \n",
        "\n",
        "We can't let this happen.\n",
        "\n",
        "Let's continue our modelling experiments.\n",
        "\n",
        "We'll keep the previous model architecture but use a window size of 30.\n",
        "\n",
        "In other words, we'll use the previous 30 days of Bitcoin prices to try and predict the next day price.\n",
        "\n",
        "![bitcoin prices windowed for 30 days to predict a horizon of 1 day](https://raw.githubusercontent.com/mrdbourke/tensorflow-deep-learning/main/images/10-bitcoin-price-window-for-one-month.png)\n",
        "*Example of Bitcoin prices windowed for 30 days to predict a horizon of 1.*\n",
        "\n",
        "> 🔑 **Note:** Recall from before, the window size (how many timesteps to use to fuel a forecast) and the horizon (how many timesteps to predict into the future) are **hyperparameters**. This means you can tune them to try and find values will result in better performance.\n",
        "\n",
        "We'll start our second modelling experiment by preparing datasets using the functions we created earlier."
      ],
      "metadata": {
        "id": "9b7Z_2hcyiN7"
      }
    },
    {
      "cell_type": "markdown",
      "source": [
        "###Plan:\n",
        "\n",
        "1. Create windows\n",
        "2. Split to train/test\n",
        "3. Create/compile/fit model with callback\n",
        "4. Making forecast\n",
        "5. Visualise\n",
        "6. Compare with naive model"
      ],
      "metadata": {
        "id": "acTV8b8y-DCa"
      }
    },
    {
      "cell_type": "code",
      "source": [
        "# 1. Create windows\n",
        "model_2_full_windows, model_2_full_labels = make_windows(x=prices, window_size = 30)\n",
        "len(model_2_full_windows), len(model_2_full_labels)"
      ],
      "metadata": {
        "colab": {
          "base_uri": "https://localhost:8080/"
        },
        "id": "Sa0Ido29ZUsB",
        "outputId": "dd77341d-6164-4eb8-8bfa-14fd29bbb3f3"
      },
      "execution_count": 64,
      "outputs": [
        {
          "output_type": "execute_result",
          "data": {
            "text/plain": [
              "(2757, 2757)"
            ]
          },
          "metadata": {},
          "execution_count": 64
        }
      ]
    },
    {
      "cell_type": "code",
      "source": [
        "# First 3 from full windows and full labels\n",
        "for i in range(0, 3):\n",
        "  print(f\"Window {model_2_full_windows[i]} have a label {model_2_full_labels[i]}\")"
      ],
      "metadata": {
        "colab": {
          "base_uri": "https://localhost:8080/"
        },
        "id": "AebSYBf-bBB2",
        "outputId": "8db21739-247d-4aae-8fe5-f15d8ad17aa1"
      },
      "execution_count": 65,
      "outputs": [
        {
          "output_type": "stream",
          "name": "stdout",
          "text": [
            "Window [123.65499 125.455   108.58483 118.67466 121.33866 120.65533 121.795\n",
            " 123.033   124.049   125.96116 125.27966 125.9275  126.38333 135.24199\n",
            " 133.20333 142.76333 137.92333 142.95166 152.55183 160.33883 164.31499\n",
            " 177.63333 188.29716 200.70166 180.355   175.03166 177.6965  187.15983\n",
            " 192.75666 197.4    ] have a label [196.02499]\n",
            "Window [125.455   108.58483 118.67466 121.33866 120.65533 121.795   123.033\n",
            " 124.049   125.96116 125.27966 125.9275  126.38333 135.24199 133.20333\n",
            " 142.76333 137.92333 142.95166 152.55183 160.33883 164.31499 177.63333\n",
            " 188.29716 200.70166 180.355   175.03166 177.6965  187.15983 192.75666\n",
            " 197.4     196.02499] have a label [198.04883]\n",
            "Window [108.58483 118.67466 121.33866 120.65533 121.795   123.033   124.049\n",
            " 125.96116 125.27966 125.9275  126.38333 135.24199 133.20333 142.76333\n",
            " 137.92333 142.95166 152.55183 160.33883 164.31499 177.63333 188.29716\n",
            " 200.70166 180.355   175.03166 177.6965  187.15983 192.75666 197.4\n",
            " 196.02499 198.04883] have a label [198.93233]\n"
          ]
        }
      ]
    },
    {
      "cell_type": "code",
      "source": [
        ""
      ],
      "metadata": {
        "id": "JdGGJyyIbbuv"
      },
      "execution_count": 65,
      "outputs": []
    },
    {
      "cell_type": "code",
      "source": [
        "# 2. Make train/test splits\n",
        "model_2_train_windows, model_2_test_windows, model_2_train_labels, model_2_test_labels = make_train_test_splits(model_2_full_windows, model_2_full_labels, test_split=0.2)\n",
        "len(model_2_train_windows), len(model_2_test_windows), len(model_2_train_labels), len(model_2_test_labels)"
      ],
      "metadata": {
        "colab": {
          "base_uri": "https://localhost:8080/"
        },
        "id": "cPK5dQHadFWr",
        "outputId": "9ab7f392-a04f-4727-e505-79b58d9fa490"
      },
      "execution_count": 66,
      "outputs": [
        {
          "output_type": "execute_result",
          "data": {
            "text/plain": [
              "(2205, 552, 2205, 552)"
            ]
          },
          "metadata": {},
          "execution_count": 66
        }
      ]
    },
    {
      "cell_type": "code",
      "source": [
        "print(model_2_train_windows[:5]) \n",
        "print()\n",
        "print(model_2_train_labels[:5])"
      ],
      "metadata": {
        "colab": {
          "base_uri": "https://localhost:8080/"
        },
        "id": "rsflpq61gQ8J",
        "outputId": "b1d4fbca-bae4-446f-a3e0-448a6d3b19e9"
      },
      "execution_count": 67,
      "outputs": [
        {
          "output_type": "stream",
          "name": "stdout",
          "text": [
            "[[123.65499 125.455   108.58483 118.67466 121.33866 120.65533 121.795\n",
            "  123.033   124.049   125.96116 125.27966 125.9275  126.38333 135.24199\n",
            "  133.20333 142.76333 137.92333 142.95166 152.55183 160.33883 164.31499\n",
            "  177.63333 188.29716 200.70166 180.355   175.03166 177.6965  187.15983\n",
            "  192.75666 197.4    ]\n",
            " [125.455   108.58483 118.67466 121.33866 120.65533 121.795   123.033\n",
            "  124.049   125.96116 125.27966 125.9275  126.38333 135.24199 133.20333\n",
            "  142.76333 137.92333 142.95166 152.55183 160.33883 164.31499 177.63333\n",
            "  188.29716 200.70166 180.355   175.03166 177.6965  187.15983 192.75666\n",
            "  197.4     196.02499]\n",
            " [108.58483 118.67466 121.33866 120.65533 121.795   123.033   124.049\n",
            "  125.96116 125.27966 125.9275  126.38333 135.24199 133.20333 142.76333\n",
            "  137.92333 142.95166 152.55183 160.33883 164.31499 177.63333 188.29716\n",
            "  200.70166 180.355   175.03166 177.6965  187.15983 192.75666 197.4\n",
            "  196.02499 198.04883]\n",
            " [118.67466 121.33866 120.65533 121.795   123.033   124.049   125.96116\n",
            "  125.27966 125.9275  126.38333 135.24199 133.20333 142.76333 137.92333\n",
            "  142.95166 152.55183 160.33883 164.31499 177.63333 188.29716 200.70166\n",
            "  180.355   175.03166 177.6965  187.15983 192.75666 197.4     196.02499\n",
            "  198.04883 198.93233]\n",
            " [121.33866 120.65533 121.795   123.033   124.049   125.96116 125.27966\n",
            "  125.9275  126.38333 135.24199 133.20333 142.76333 137.92333 142.95166\n",
            "  152.55183 160.33883 164.31499 177.63333 188.29716 200.70166 180.355\n",
            "  175.03166 177.6965  187.15983 192.75666 197.4     196.02499 198.04883\n",
            "  198.93233 200.543  ]]\n",
            "\n",
            "[[196.02499]\n",
            " [198.04883]\n",
            " [198.93233]\n",
            " [200.543  ]\n",
            " [210.3075 ]]\n"
          ]
        }
      ]
    },
    {
      "cell_type": "code",
      "source": [
        "print(model_2_test_windows[:5]) \n",
        "print()\n",
        "print(model_2_test_labels[:5])"
      ],
      "metadata": {
        "colab": {
          "base_uri": "https://localhost:8080/"
        },
        "id": "NpkVruXNihDK",
        "outputId": "f9c2a77b-fd18-4790-a922-eb04641b7ca2"
      },
      "execution_count": 68,
      "outputs": [
        {
          "output_type": "stream",
          "name": "stdout",
          "text": [
            "[[8337.81899854 8162.44       8003.82039479 8058.05808111 7970.2394756\n",
            "  7943.34710706 8200.3187634  8200.24609949 8073.40954388 7420.41583649\n",
            "  7460.61741593 8591.22389742 9171.30653186 9578.36755607 9458.22335963\n",
            "  9455.72469261 9225.99547934 9131.41063031 9197.63234462 9290.89660239\n",
            "  9202.41545055 9369.62808116 9326.59962378 9335.75240233 9226.48582088\n",
            "  8794.35864452 8798.04205463 9081.18687849 8711.53433917 8760.89271814]\n",
            " [8162.44       8003.82039479 8058.05808111 7970.2394756  7943.34710706\n",
            "  8200.3187634  8200.24609949 8073.40954388 7420.41583649 7460.61741593\n",
            "  8591.22389742 9171.30653186 9578.36755607 9458.22335963 9455.72469261\n",
            "  9225.99547934 9131.41063031 9197.63234462 9290.89660239 9202.41545055\n",
            "  9369.62808116 9326.59962378 9335.75240233 9226.48582088 8794.35864452\n",
            "  8798.04205463 9081.18687849 8711.53433917 8760.89271814 8749.52059102]\n",
            " [8003.82039479 8058.05808111 7970.2394756  7943.34710706 8200.3187634\n",
            "  8200.24609949 8073.40954388 7420.41583649 7460.61741593 8591.22389742\n",
            "  9171.30653186 9578.36755607 9458.22335963 9455.72469261 9225.99547934\n",
            "  9131.41063031 9197.63234462 9290.89660239 9202.41545055 9369.62808116\n",
            "  9326.59962378 9335.75240233 9226.48582088 8794.35864452 8798.04205463\n",
            "  9081.18687849 8711.53433917 8760.89271814 8749.52059102 8656.97092235]\n",
            " [8058.05808111 7970.2394756  7943.34710706 8200.3187634  8200.24609949\n",
            "  8073.40954388 7420.41583649 7460.61741593 8591.22389742 9171.30653186\n",
            "  9578.36755607 9458.22335963 9455.72469261 9225.99547934 9131.41063031\n",
            "  9197.63234462 9290.89660239 9202.41545055 9369.62808116 9326.59962378\n",
            "  9335.75240233 9226.48582088 8794.35864452 8798.04205463 9081.18687849\n",
            "  8711.53433917 8760.89271814 8749.52059102 8656.97092235 8500.64355816]\n",
            " [7970.2394756  7943.34710706 8200.3187634  8200.24609949 8073.40954388\n",
            "  7420.41583649 7460.61741593 8591.22389742 9171.30653186 9578.36755607\n",
            "  9458.22335963 9455.72469261 9225.99547934 9131.41063031 9197.63234462\n",
            "  9290.89660239 9202.41545055 9369.62808116 9326.59962378 9335.75240233\n",
            "  9226.48582088 8794.35864452 8798.04205463 9081.18687849 8711.53433917\n",
            "  8760.89271814 8749.52059102 8656.97092235 8500.64355816 8469.2608989 ]]\n",
            "\n",
            "[[8749.52059102]\n",
            " [8656.97092235]\n",
            " [8500.64355816]\n",
            " [8469.2608989 ]\n",
            " [8537.33965197]]\n"
          ]
        }
      ]
    },
    {
      "cell_type": "code",
      "source": [
        "# Create/compile/fit model with callback\n",
        "\n",
        "tf.random.set_seed(42)\n",
        "\n",
        "# Create a model\n",
        "model_2 = tf.keras.Sequential([\n",
        "                               layers.Dense(128, activation=\"relu\"),\n",
        "                               layers.Dense(HORIZON, activation=\"linear\")\n",
        "], name=\"model_2_dense\")\n",
        "\n",
        "# Compile a model\n",
        "model_2.compile(optimizer=tf.keras.optimizers.Adam(),\n",
        "                metrics=[\"mae\", \"mse\"],\n",
        "                loss=\"mae\")\n",
        "\n",
        "# Fit a model\n",
        "model_2.fit(x=model_2_train_windows,\n",
        "            y=model_2_train_labels,\n",
        "            validation_data=(model_2_test_windows, model_2_test_labels),\n",
        "            batch_size=128,\n",
        "            verbose=1,\n",
        "            epochs=100,\n",
        "            callbacks=[create_model_checkpoint(model_name=model_2.name)])"
      ],
      "metadata": {
        "id": "5s0P-pKiiPKc"
      },
      "execution_count": null,
      "outputs": []
    },
    {
      "cell_type": "code",
      "source": [
        "# Making forecast"
      ],
      "metadata": {
        "id": "LgeY3QhSH4_O"
      },
      "execution_count": 71,
      "outputs": []
    },
    {
      "cell_type": "code",
      "source": [
        "model_2.evaluate(model_2_test_windows, model_2_test_labels)"
      ],
      "metadata": {
        "colab": {
          "base_uri": "https://localhost:8080/"
        },
        "id": "WWK7bQmsKOiY",
        "outputId": "a6dd11a3-d1e1-4859-ed43-ded2c79400a2"
      },
      "execution_count": 72,
      "outputs": [
        {
          "output_type": "stream",
          "name": "stdout",
          "text": [
            "18/18 [==============================] - 0s 2ms/step - loss: 658.0289 - mae: 658.0289 - mse: 1417080.8750\n"
          ]
        },
        {
          "output_type": "execute_result",
          "data": {
            "text/plain": [
              "[658.0288696289062, 658.0288696289062, 1417080.875]"
            ]
          },
          "metadata": {},
          "execution_count": 72
        }
      ]
    },
    {
      "cell_type": "code",
      "source": [
        "# Load in saved best performing model_1 and evaluate it on test data\n",
        "model_2 = tf.keras.models.load_model(\"/content/model_experiments/model_2_dense\")\n",
        "model_2.evaluate(model_2_test_windows, model_2_test_labels)\n",
        "\n",
        "# Its better when we use best epoch from callback"
      ],
      "metadata": {
        "colab": {
          "base_uri": "https://localhost:8080/"
        },
        "id": "itcdON-gKWtr",
        "outputId": "94149b5e-f1ab-4ebe-81e4-4584435a739e"
      },
      "execution_count": 73,
      "outputs": [
        {
          "output_type": "stream",
          "name": "stdout",
          "text": [
            "18/18 [==============================] - 0s 2ms/step - loss: 608.8480 - mae: 608.8480 - mse: 1284314.3750\n"
          ]
        },
        {
          "output_type": "execute_result",
          "data": {
            "text/plain": [
              "[608.8480224609375, 608.8480224609375, 1284314.375]"
            ]
          },
          "metadata": {},
          "execution_count": 73
        }
      ]
    },
    {
      "cell_type": "code",
      "source": [
        "model_2_preds = make_preds(model_2, model_2_test_windows)\n",
        "len(model_2_preds), model_2_preds[:5]"
      ],
      "metadata": {
        "colab": {
          "base_uri": "https://localhost:8080/"
        },
        "id": "WrKAhjvUK_Gn",
        "outputId": "879c3a15-e31a-4c09-f71a-418d8c0e4cd5"
      },
      "execution_count": 79,
      "outputs": [
        {
          "output_type": "execute_result",
          "data": {
            "text/plain": [
              "(552,\n",
              " <tf.Tensor: shape=(5,), dtype=float32, numpy=array([8903.553, 8932.773, 8792.956, 8590.411, 8454.575], dtype=float32)>)"
            ]
          },
          "metadata": {},
          "execution_count": 79
        }
      ]
    },
    {
      "cell_type": "code",
      "source": [
        "# Evaluare preds\n",
        "model_2_results = evaluate_preds(y_true=tf.squeeze(model_2_test_labels), # reduce to right shape\n",
        "                                 y_pred=model_2_preds)\n",
        "\n",
        "model_2_results"
      ],
      "metadata": {
        "colab": {
          "base_uri": "https://localhost:8080/"
        },
        "id": "LZi08EQ0M7H1",
        "outputId": "f9c9c487-34b6-4e8e-c426-dce0081d5831"
      },
      "execution_count": 80,
      "outputs": [
        {
          "output_type": "execute_result",
          "data": {
            "text/plain": [
              "{'mae': 608.84814,\n",
              " 'mape': 2.7680664,\n",
              " 'mase': 1.0642724,\n",
              " 'mse': 1284314.4,\n",
              " 'rmse': 1133.276}"
            ]
          },
          "metadata": {},
          "execution_count": 80
        }
      ]
    },
    {
      "cell_type": "code",
      "source": [
        "naive_results"
      ],
      "metadata": {
        "colab": {
          "base_uri": "https://localhost:8080/"
        },
        "id": "S7_cm8chLXoZ",
        "outputId": "f03cd476-03da-485d-d774-587004527bf0"
      },
      "execution_count": 78,
      "outputs": [
        {
          "output_type": "execute_result",
          "data": {
            "text/plain": [
              "{'mae': 567.9802,\n",
              " 'mape': 2.5165248,\n",
              " 'mase': 0.99957,\n",
              " 'mse': 1147547.0,\n",
              " 'rmse': 1071.2362}"
            ]
          },
          "metadata": {},
          "execution_count": 78
        }
      ]
    },
    {
      "cell_type": "code",
      "source": [
        "# Plot model_2 predictions\n",
        "offset = 450\n",
        "plt.figure(figsize=(10, 7))\n",
        "\n",
        "# Account for the test_window offset and index into test_labels to ensure correct plotting\n",
        "plot_time_series(timesteps=X_test[-len(model_2_test_windows):], values=model_2_test_labels[:, 0], start=offset, label=\"Test Data\")\n",
        "\n",
        "plot_time_series(timesteps=X_test[-len(model_2_test_windows):], values=model_2_preds, start=offset, format=\"-\", label=\"model_2_preds\")"
      ],
      "metadata": {
        "colab": {
          "base_uri": "https://localhost:8080/",
          "height": 445
        },
        "id": "gPTHNPcyM4FI",
        "outputId": "970819e2-e243-48cb-b462-ff7b77640d9e"
      },
      "execution_count": 82,
      "outputs": [
        {
          "output_type": "display_data",
          "data": {
            "image/png": "[encoded data removed]",
            "text/plain": [
              "<Figure size 720x504 with 1 Axes>"
            ]
          },
          "metadata": {
            "needs_background": "light"
          }
        }
      ]
    },
    {
      "cell_type": "code",
      "source": [
        ""
      ],
      "metadata": {
        "id": "wu-X8fz_RshJ"
      },
      "execution_count": null,
      "outputs": []
    }
  ]
}